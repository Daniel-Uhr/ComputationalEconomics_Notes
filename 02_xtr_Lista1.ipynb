{
 "cells": [
  {
   "cell_type": "markdown",
   "id": "e2bccf0b",
   "metadata": {},
   "source": [
    "# Lista de Exercícios 1\n",
    "\n",
    "Prof. Daniel de Abreu Pereira Uhr"
   ]
  },
  {
   "cell_type": "markdown",
   "id": "a719753f",
   "metadata": {},
   "source": [
    "### 1. Listas e Tuplas\n",
    "\n",
    "1.1 Crie uma lista com os números de 1 a 10 e calcule a soma desses números.\n",
    "\n",
    "1.2 Transforme essa lista em uma tupla e exiba o terceiro elemento.\n"
   ]
  },
  {
   "cell_type": "markdown",
   "id": "9fa9e58c",
   "metadata": {},
   "source": [
    "### 2. Dicionários\n",
    "\n",
    "2.1 Crie um dicionário que armazene as notas de três alunos em uma prova. Calcule a média das notas."
   ]
  },
  {
   "cell_type": "markdown",
   "id": "bdd1780c",
   "metadata": {},
   "source": [
    "### 3. Conjuntos\n",
    "\n",
    "3.1 Dada a lista `[1, 2, 2, 3, 4, 4, 5]`, crie um conjunto para remover os valores duplicados e exiba o resultado."
   ]
  },
  {
   "cell_type": "markdown",
   "id": "4c382086",
   "metadata": {},
   "source": [
    "### 4. Manipulação de Dados com `pandas`\n",
    "\n",
    "4.1 Leia um arquivo CSV contendo informações de vendas (por exemplo, `vendas.csv`).\n",
    "* Baixar do arquivo raw do guithub: https://raw.githubusercontent.com/Daniel-Uhr/Data/refs/heads/main/vendas.csv\n",
    "\n",
    "4.2 Exiba as primeiras 5 linhas do DataFrame.\n",
    "\n",
    "4.3 Calcule o total de vendas por produto.\n",
    "\n",
    "4.4 Filtre as vendas realizadas nos dias 6 e 7."
   ]
  },
  {
   "cell_type": "markdown",
   "id": "8766bb3a",
   "metadata": {},
   "source": [
    "### 5. Uso do `numpy`\n",
    "\n",
    "5.1 Crie um array `numpy` com 20 números aleatórios entre 0 e 100.\n",
    "\n",
    "5.2 Calcule a média e o desvio padrão desses números."
   ]
  },
  {
   "cell_type": "markdown",
   "id": "d8781bf2",
   "metadata": {},
   "source": [
    "### 6. Análise Estatística Básica\n",
    "\n",
    "6.1 Utilizando o DataFrame de vendas, calcule:\n",
    "* A média de vendas por dia.\n",
    "* O produto com maior número de vendas no período."
   ]
  },
  {
   "cell_type": "markdown",
   "id": "712b5694",
   "metadata": {},
   "source": [
    "### 7. Leitura e Escrita de Arquivos\n",
    "\n",
    "7.1 Salve o DataFrame filtrado das vendas nos dias 6 e 7 em um novo arquivo CSV chamado `vendas_6_7.csv`.\n"
   ]
  }
 ],
 "metadata": {
  "language_info": {
   "name": "python"
  }
 },
 "nbformat": 4,
 "nbformat_minor": 5
}
