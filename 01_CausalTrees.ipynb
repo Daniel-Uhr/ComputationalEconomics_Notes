{
 "cells": [
  {
   "cell_type": "markdown",
   "metadata": {},
   "source": [
    "# Arvores Causais - Causal Trees\n",
    "\n",
    "Prof. Daniel de Abreu Pereira Uhr\n",
    "\n",
    "### Conteúdo\n",
    "\n",
    "* Como usar árvores de regressão para estimar efeitos de tratamentos heterogêneos.\n",
    "\n",
    "### Referências"
   ]
  },
  {
   "cell_type": "markdown",
   "metadata": {},
   "source": [
    "### Como usar árvores de regressão para estimar efeitos de tratamentos heterogêneos\n",
    "\n",
    "Na inferência causal, geralmente estamos interessados ​​em estimar o efeito causal de um tratamento (um medicamento, anúncio, produto, …) em um resultado de interesse (uma doença, receita da empresa, satisfação do cliente, …). No entanto, saber que um tratamento funciona em média geralmente não é suficiente e gostaríamos de saber **para quais sujeitos** (pacientes, usuários, clientes, …) **ele funciona melhor ou pior**, ou seja, gostaríamos de **estimar efeitos heterogêneos do tratamento**.\n",
    "\n",
    "**Estimar efeitos de tratamentos heterogêneos nos permite fazer segmentação**. Saber quais clientes são mais propensos a reagir a um desconto permite que uma empresa gaste menos dinheiro oferecendo menos, mas melhores descontos direcionados. Isso também funciona para efeitos negativos: saber para quais pacientes um determinado medicamento tem efeitos colaterais permite que uma empresa farmacêutica os avise ou os exclua do tratamento. Há também uma vantagem mais sutil em estimar efeitos de tratamentos heterogêneos: saber para quem um tratamento funciona nos permite entender melhor como um tratamento funciona. Saber que o efeito de um desconto não depende da renda de seu destinatário, mas sim de seus hábitos de compra nos diz que talvez não seja uma questão de dinheiro, mas sim de atenção ou lealdade.\n",
    "\n",
    "Nesta aula, exploraremos a estimativa de efeitos de tratamento heterogêneos usando uma versão modificada de árvores de regressão (e florestas). De uma perspectiva de aprendizado de máquina, há duas diferenças fundamentais entre árvores causais e árvores preditivas. Primeiro, o alvo é o efeito do tratamento, que é um objeto inerentemente não observável. Segundo, estamos interessados ​​em fazer inferência, o que significa quantificar a incerteza de nossas estimativas."
   ]
  }
 ],
 "metadata": {
  "language_info": {
   "name": "python"
  }
 },
 "nbformat": 4,
 "nbformat_minor": 2
}
