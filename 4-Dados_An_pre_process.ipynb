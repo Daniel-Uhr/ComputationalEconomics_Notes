{
 "cells": [
  {
   "cell_type": "markdown",
   "metadata": {},
   "source": [
    "# Pre-Processamento de Dados em Python\n",
    "\n",
    "Prof. Daniel de Abreu Pereira Uhr\n",
    "\n",
    "### Conteúdo\n",
    "\n",
    "* Limpeza de dados\n",
    "  * Remoção de linhas ou colunas.\n",
    "  * Imputação (média, mediana, moda, regressão, imputação múltipla).\n",
    "  * Tratamento de valores duplicados: Identificação e remoção de registros redundantes.\n",
    "  * Correção de inconsistências:\n",
    "    * Normalização de formatos\n",
    "    * Remoção de caracteres especiais ou erros de digitação.\n",
    "  * Tratamento de outliers:\n",
    "    * Substituição, remoção ou transformação com base em regras ou análises (e.g., IQR, z-score).\n",
    "* Transformação de dados\n",
    "  * Normalização e padronização de variáveis\n",
    "    * Normalização: Escala para um intervalo fixo\n",
    "    * Padronização: Escala baseada em média e desvio padrão (z-score).\n",
    "  * Transformações matemáticas: Logaritmo, raiz quadrada, exponencial para estabilizar variância ou tratar assimetrias.\n",
    "  * Discretização: Conversão de variáveis contínuas para categorias (e.g., faixa etária, faixas de renda).\n",
    "  * Encoding de variáveis categóricas: Conversão de variáveis categóricas em numéricas.\n",
    "  * Redução de dimensionalidade: PCA, LDA, t-SNE.\n",
    "* Integração de dados\n",
    "  * Fusão de bases de dados: Join (inner, outer, left, right). Concatenar tabelas ou adicionar colunas/linhas.\n",
    "  * Tratamento de dados heterogêneos: Combinar dados estruturados e não estruturados (e.g., tabelas e texto).\n",
    "  * Resolução de inconsistências: Padronização de variáveis entre fontes distintas.\n",
    "* Tratamento de Dados Espaciais: Conversão de coordenadas, cálculo de distâncias, geocodificação.\n",
    "* Divisão de dados\n",
    "  * Separação de dados de treino e teste: Randomização, estratificação.\n",
    "  * Validação cruzada: K-fold, leave-one-out, bootstrap.\n",
    "\n",
    "\n",
    "\n",
    "### Referências\n",
    "\n",
    "* Géron, Aurélien. Hands-On Machine Learning with Scikit-Learn, Keras, and TensorFlow: Concepts, Tools, and Techniques to Build Intelligent Systems. O'Reilly Media, 2019.\n",
    "* Athey, S., & Imbens, G. (2017). \"The State of Applied Econometrics: Causality and Policy Evaluation.\" *Journal of Economic Perspectives*.\n",
    "* Mullainathan, S., & Spiess, J. (2017). \"Machine Learning: An Applied Econometric Approach.\" *Journal of Economic Perspectives*.\n",
    "* Varian, H. R. (2014). \"Big Data: New Tricks for Econometrics.\" *Journal of Economic Perspectives*."
   ]
  },
  {
   "cell_type": "markdown",
   "metadata": {},
   "source": [
    "  * **Pré-processamento de Dados**\n",
    "    * Tratamento de missing values\n",
    "    * Tratamento de outliers\n",
    "    * Tratamento de variáveis categóricas\n",
    "    * Tratamento de variáveis contínuas\n",
    "    * Normalização de variáveis\n",
    "    * Redução de dimensionalidade"
   ]
  }
 ],
 "metadata": {
  "language_info": {
   "name": "python"
  }
 },
 "nbformat": 4,
 "nbformat_minor": 2
}
