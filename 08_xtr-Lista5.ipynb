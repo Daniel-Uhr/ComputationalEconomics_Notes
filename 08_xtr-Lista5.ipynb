{
 "cells": [
  {
   "cell_type": "markdown",
   "metadata": {},
   "source": [
    "# Lista de Exercícios — Dataframes\n",
    "\n",
    "Esta lista tem como objetivo montar um Dataframe completo em Python para que nos ajude com a tarefa final do curso. A ideia é que esse novo dataframe seja unificado com o dataframe da Lista 4. Assim, teremos um dataframe completo em estrutura de Painel de Dados, com as informações de todos os municípios do Brasil e identificação pelo código do IBGE, com dados de 2000 a 2022."
   ]
  },
  {
   "cell_type": "markdown",
   "metadata": {},
   "source": [
    "### Tarefa para Entregar\n",
    "\n",
    "* Fazer um Script completo em Jupyter, replicável para qualquer pessoa que possuí-lo. Rotina:\n",
    "* 1. Colete dos dados da **RAIS de 2000 a 2022** (Diretório para salvar e trabalhar os arquivos \"`C:\\Dados2025\\`\").\n",
    "* 2. Crie as seguintes variáveis em nível municipal:\n",
    "    * Média de anos de estudo por município.\n",
    "    * Média de anos de estudo das mulheres por município.\n",
    "    * Média de anos de estudo dos homens por município.\n",
    "    * Renda média do trabalhador por município\n",
    "    * Distribuição de renda por município - usar o índice de Gini.\n",
    "    * Renda média das mulheres por município\n",
    "    * Renda média dos homens por município\n",
    "    * Distribuição de renda das mulheres por município - usar o índice de Gini.\n",
    "    * Distribuição de renda dos homens por município - usar o índice de Gini.\n",
    "    * Renda média do trabalhador por SETORES por município - **Dica: olhar como foi criado os setores na notas de aula.**\n",
    "      * Ou seja, para cada setor: (i) Fazer a renda média geral municipal, (ii) distribuição de renda geral, (iii) renda média das mulheres, (iv) renda média dos homens, (v) distribuição de renda das mulheres e (vi) distribuição de renda dos homens; fazer para todos SETORES por município.\n",
    "\n",
    "* 3. Unifique esses dados criados com o Dataframe de arrecadação municipal (Dica: lembre de juntá-los (*merge*) pelas variáveis que você definiu o `Ano` e o `Código Municipal do IBGE`).\n",
    "\n",
    "* ***Observações: Caso você queira criar novas variáveis para adiantar a futura aplicação do curso, fique à vontade. O importante é que o dataframe final tenha as variáveis acima.***\n",
    "\n",
    "* Entregue o arquivo `.ipynb` por e-mail (daniel.uhr@gmail.com) até o dia **27/05/2025**.\n",
    "\n",
    "**Bom trabaho!**"
   ]
  }
 ],
 "metadata": {
  "kernelspec": {
   "display_name": "Python 3",
   "language": "python",
   "name": "python3"
  },
  "language_info": {
   "codemirror_mode": {
    "name": "ipython",
    "version": 3
   },
   "file_extension": ".py",
   "mimetype": "text/x-python",
   "name": "python",
   "nbconvert_exporter": "python",
   "pygments_lexer": "ipython3",
   "version": "3.11.5"
  }
 },
 "nbformat": 4,
 "nbformat_minor": 2
}
