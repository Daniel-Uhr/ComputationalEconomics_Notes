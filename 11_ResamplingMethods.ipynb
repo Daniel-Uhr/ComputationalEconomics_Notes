{
 "cells": [
  {
   "cell_type": "markdown",
   "metadata": {},
   "source": [
    "# Métodos de Reamostragem (Resampling Methods)\n",
    "\n",
    "Prof. Daniel de Abreu Pereira Uhr\n",
    "\n",
    "### Conteúdo\n",
    "* Introdução\n",
    "* Cross-Validation (Validação Cruzada)\n",
    "  * The Validation Set Approach (A Abordagem do Conjunto de Validação)\n",
    "  * Leave-One-Out Cross-Validation (Validação Cruzada Leave-One-Out)\n",
    "  * k-Fold Cross-Validation\n",
    "* The Bootstrap\n",
    "\n",
    "### Referências\n",
    "\n",
    "* [An Introduction to Statistical Learning](https://www.statlearning.com/) (ISL) by Gareth James, Daniela Witten, Trevor Hastie and Robert Tibshirani\n",
    "  * Capítulo 5***\n",
    "* [The Elements of Statistical Learning](https://hastie.su.domains/ElemStatLearn/) (ESL) by Trevor Hastie, Robert Tibshirani and Jerome Friedman : \n",
    "  * Capítulo 7\n",
    "\n",
    "***Observações:*** *O material apresentado aqui é uma adaptação do material de aula do Prof. Daniel de Abreu Pereira Uhr, e não deve ser utilizado para fins comerciais. O material é disponibilizado para fins educacionais e de pesquisa, e não deve ser reproduzido sem a devida autorização do autor. Este material pode conter erros e imprecisões. O autor não se responsabiliza por quaisquer danos ou prejuízos decorrentes do uso deste material. O uso deste material é de responsabilidade exclusiva do usuário. Caso você encontre erros ou imprecisões neste material, por favor, entre em contato com o autor para que possam ser corrigidos. O autor agradece qualquer feedback ou sugestão de melhoria.*"
   ]
  },
  {
   "cell_type": "markdown",
   "metadata": {},
   "source": [
    "### 1. Introdução\n",
    "\n",
    "Os métodos de reamostragem envolvem a extração repetida de amostras de um conjunto de treinamento e o reajuste de um modelo de interesse em cada amostra para obter informações adicionais sobre o modelo ajustado.\n",
    "\n"
   ]
  },
  {
   "cell_type": "markdown",
   "metadata": {},
   "source": [
    "Carregando os pacotes necessários\n"
   ]
  },
  {
   "cell_type": "code",
   "execution_count": 1,
   "metadata": {},
   "outputs": [],
   "source": [
    "# Remove warnings\n",
    "import warnings\n",
    "warnings.filterwarnings('ignore')\n",
    "\n",
    "# Import\n",
    "import pandas as pd\n",
    "import numpy as np\n",
    "import seaborn as sns\n",
    "import time\n",
    "\n",
    "from numpy.linalg import inv\n",
    "from numpy.random import normal\n",
    "from sklearn.linear_model import LinearRegression\n",
    "from sklearn.metrics import mean_squared_error\n",
    "from sklearn.model_selection import train_test_split, LeaveOneOut, KFold, cross_val_score\n",
    "from sklearn.preprocessing import PolynomialFeatures\n",
    "from sklearn.utils import resample"
   ]
  },
  {
   "cell_type": "code",
   "execution_count": 3,
   "metadata": {},
   "outputs": [
    {
     "name": "stdout",
     "output_type": "stream",
     "text": [
      "['Solarize_Light2', '_classic_test_patch', '_mpl-gallery', '_mpl-gallery-nogrid', 'bmh', 'classic', 'dark_background', 'fast', 'fivethirtyeight', 'ggplot', 'grayscale', 'petroff10', 'seaborn-v0_8', 'seaborn-v0_8-bright', 'seaborn-v0_8-colorblind', 'seaborn-v0_8-dark', 'seaborn-v0_8-dark-palette', 'seaborn-v0_8-darkgrid', 'seaborn-v0_8-deep', 'seaborn-v0_8-muted', 'seaborn-v0_8-notebook', 'seaborn-v0_8-paper', 'seaborn-v0_8-pastel', 'seaborn-v0_8-poster', 'seaborn-v0_8-talk', 'seaborn-v0_8-ticks', 'seaborn-v0_8-white', 'seaborn-v0_8-whitegrid', 'tableau-colorblind10']\n"
     ]
    }
   ],
   "source": [
    "from mpl_toolkits.mplot3d import axes3d\n",
    "import matplotlib.pyplot as plt\n",
    "print(plt.style.available)"
   ]
  },
  {
   "cell_type": "code",
   "execution_count": 4,
   "metadata": {},
   "outputs": [],
   "source": [
    "# Set global parameters\n",
    "%matplotlib inline\n",
    "plt.style.use('seaborn-v0_8-white')\n",
    "plt.rcParams['lines.linewidth'] = 3\n",
    "plt.rcParams['figure.figsize'] = (10,6)\n",
    "plt.rcParams['figure.titlesize'] = 20\n",
    "plt.rcParams['axes.titlesize'] = 18\n",
    "plt.rcParams['axes.labelsize'] = 14\n",
    "plt.rcParams['legend.fontsize'] = 14"
   ]
  },
  {
   "cell_type": "markdown",
   "metadata": {},
   "source": [
    "### 2. Cross-Validation (Validação Cruzada)\n",
    "\n",
    "A validação cruzada pode ser usada para ***estimar o erro de teste associado a um determinado método de aprendizagem estatística***, a fim de avaliar seu desempenho ou selecionar o nível apropriado de flexibilidade. O processo de avaliação do desempenho de um modelo é conhecido como avaliação de modelo, enquanto o processo de seleção do nível adequado de flexibilidade para um modelo é conhecido como seleção de modelo.\n",
    "\n",
    "Vamos usar o conjunto de dados `Auto.csv`."
   ]
  },
  {
   "cell_type": "code",
   "execution_count": 24,
   "metadata": {},
   "outputs": [
    {
     "data": {
      "application/vnd.microsoft.datawrangler.viewer.v0+json": {
       "columns": [
        {
         "name": "index",
         "rawType": "int64",
         "type": "integer"
        },
        {
         "name": "mpg",
         "rawType": "float64",
         "type": "float"
        },
        {
         "name": "cylinders",
         "rawType": "int64",
         "type": "integer"
        },
        {
         "name": "displacement",
         "rawType": "float64",
         "type": "float"
        },
        {
         "name": "horsepower",
         "rawType": "int64",
         "type": "integer"
        },
        {
         "name": "weight",
         "rawType": "int64",
         "type": "integer"
        },
        {
         "name": "acceleration",
         "rawType": "float64",
         "type": "float"
        },
        {
         "name": "year",
         "rawType": "int64",
         "type": "integer"
        },
        {
         "name": "origin",
         "rawType": "int64",
         "type": "integer"
        },
        {
         "name": "name",
         "rawType": "object",
         "type": "string"
        }
       ],
       "conversionMethod": "pd.DataFrame",
       "ref": "b2cdaa15-fe64-4e61-91c7-b49cf3b0edc1",
       "rows": [
        [
         "0",
         "18.0",
         "8",
         "307.0",
         "130",
         "3504",
         "12.0",
         "70",
         "1",
         "chevrolet chevelle malibu"
        ],
        [
         "1",
         "15.0",
         "8",
         "350.0",
         "165",
         "3693",
         "11.5",
         "70",
         "1",
         "buick skylark 320"
        ],
        [
         "2",
         "18.0",
         "8",
         "318.0",
         "150",
         "3436",
         "11.0",
         "70",
         "1",
         "plymouth satellite"
        ],
        [
         "3",
         "16.0",
         "8",
         "304.0",
         "150",
         "3433",
         "12.0",
         "70",
         "1",
         "amc rebel sst"
        ],
        [
         "4",
         "17.0",
         "8",
         "302.0",
         "140",
         "3449",
         "10.5",
         "70",
         "1",
         "ford torino"
        ],
        [
         "5",
         "15.0",
         "8",
         "429.0",
         "198",
         "4341",
         "10.0",
         "70",
         "1",
         "ford galaxie 500"
        ],
        [
         "6",
         "14.0",
         "8",
         "454.0",
         "220",
         "4354",
         "9.0",
         "70",
         "1",
         "chevrolet impala"
        ],
        [
         "7",
         "14.0",
         "8",
         "440.0",
         "215",
         "4312",
         "8.5",
         "70",
         "1",
         "plymouth fury iii"
        ],
        [
         "8",
         "14.0",
         "8",
         "455.0",
         "225",
         "4425",
         "10.0",
         "70",
         "1",
         "pontiac catalina"
        ],
        [
         "9",
         "15.0",
         "8",
         "390.0",
         "190",
         "3850",
         "8.5",
         "70",
         "1",
         "amc ambassador dpl"
        ],
        [
         "10",
         "15.0",
         "8",
         "383.0",
         "170",
         "3563",
         "10.0",
         "70",
         "1",
         "dodge challenger se"
        ],
        [
         "11",
         "14.0",
         "8",
         "340.0",
         "160",
         "3609",
         "8.0",
         "70",
         "1",
         "plymouth 'cuda 340"
        ],
        [
         "12",
         "15.0",
         "8",
         "400.0",
         "150",
         "3761",
         "9.5",
         "70",
         "1",
         "chevrolet monte carlo"
        ],
        [
         "13",
         "14.0",
         "8",
         "455.0",
         "225",
         "3086",
         "10.0",
         "70",
         "1",
         "buick estate wagon (sw)"
        ],
        [
         "14",
         "24.0",
         "4",
         "113.0",
         "95",
         "2372",
         "15.0",
         "70",
         "3",
         "toyota corona mark ii"
        ],
        [
         "15",
         "22.0",
         "6",
         "198.0",
         "95",
         "2833",
         "15.5",
         "70",
         "1",
         "plymouth duster"
        ],
        [
         "16",
         "18.0",
         "6",
         "199.0",
         "97",
         "2774",
         "15.5",
         "70",
         "1",
         "amc hornet"
        ],
        [
         "17",
         "21.0",
         "6",
         "200.0",
         "85",
         "2587",
         "16.0",
         "70",
         "1",
         "ford maverick"
        ],
        [
         "18",
         "27.0",
         "4",
         "97.0",
         "88",
         "2130",
         "14.5",
         "70",
         "3",
         "datsun pl510"
        ],
        [
         "19",
         "26.0",
         "4",
         "97.0",
         "46",
         "1835",
         "20.5",
         "70",
         "2",
         "volkswagen 1131 deluxe sedan"
        ],
        [
         "20",
         "25.0",
         "4",
         "110.0",
         "87",
         "2672",
         "17.5",
         "70",
         "2",
         "peugeot 504"
        ],
        [
         "21",
         "24.0",
         "4",
         "107.0",
         "90",
         "2430",
         "14.5",
         "70",
         "2",
         "audi 100 ls"
        ],
        [
         "22",
         "25.0",
         "4",
         "104.0",
         "95",
         "2375",
         "17.5",
         "70",
         "2",
         "saab 99e"
        ],
        [
         "23",
         "26.0",
         "4",
         "121.0",
         "113",
         "2234",
         "12.5",
         "70",
         "2",
         "bmw 2002"
        ],
        [
         "24",
         "21.0",
         "6",
         "199.0",
         "90",
         "2648",
         "15.0",
         "70",
         "1",
         "amc gremlin"
        ],
        [
         "25",
         "10.0",
         "8",
         "360.0",
         "215",
         "4615",
         "14.0",
         "70",
         "1",
         "ford f250"
        ],
        [
         "26",
         "10.0",
         "8",
         "307.0",
         "200",
         "4376",
         "15.0",
         "70",
         "1",
         "chevy c20"
        ],
        [
         "27",
         "11.0",
         "8",
         "318.0",
         "210",
         "4382",
         "13.5",
         "70",
         "1",
         "dodge d200"
        ],
        [
         "28",
         "9.0",
         "8",
         "304.0",
         "193",
         "4732",
         "18.5",
         "70",
         "1",
         "hi 1200d"
        ],
        [
         "29",
         "27.0",
         "4",
         "97.0",
         "88",
         "2130",
         "14.5",
         "71",
         "3",
         "datsun pl510"
        ],
        [
         "30",
         "28.0",
         "4",
         "140.0",
         "90",
         "2264",
         "15.5",
         "71",
         "1",
         "chevrolet vega 2300"
        ],
        [
         "31",
         "25.0",
         "4",
         "113.0",
         "95",
         "2228",
         "14.0",
         "71",
         "3",
         "toyota corona"
        ],
        [
         "32",
         "19.0",
         "6",
         "232.0",
         "100",
         "2634",
         "13.0",
         "71",
         "1",
         "amc gremlin"
        ],
        [
         "33",
         "16.0",
         "6",
         "225.0",
         "105",
         "3439",
         "15.5",
         "71",
         "1",
         "plymouth satellite custom"
        ],
        [
         "34",
         "17.0",
         "6",
         "250.0",
         "100",
         "3329",
         "15.5",
         "71",
         "1",
         "chevrolet chevelle malibu"
        ],
        [
         "35",
         "19.0",
         "6",
         "250.0",
         "88",
         "3302",
         "15.5",
         "71",
         "1",
         "ford torino 500"
        ],
        [
         "36",
         "18.0",
         "6",
         "232.0",
         "100",
         "3288",
         "15.5",
         "71",
         "1",
         "amc matador"
        ],
        [
         "37",
         "14.0",
         "8",
         "350.0",
         "165",
         "4209",
         "12.0",
         "71",
         "1",
         "chevrolet impala"
        ],
        [
         "38",
         "14.0",
         "8",
         "400.0",
         "175",
         "4464",
         "11.5",
         "71",
         "1",
         "pontiac catalina brougham"
        ],
        [
         "39",
         "14.0",
         "8",
         "351.0",
         "153",
         "4154",
         "13.5",
         "71",
         "1",
         "ford galaxie 500"
        ],
        [
         "40",
         "14.0",
         "8",
         "318.0",
         "150",
         "4096",
         "13.0",
         "71",
         "1",
         "plymouth fury iii"
        ],
        [
         "41",
         "12.0",
         "8",
         "383.0",
         "180",
         "4955",
         "11.5",
         "71",
         "1",
         "dodge monaco (sw)"
        ],
        [
         "42",
         "13.0",
         "8",
         "400.0",
         "170",
         "4746",
         "12.0",
         "71",
         "1",
         "ford country squire (sw)"
        ],
        [
         "43",
         "13.0",
         "8",
         "400.0",
         "175",
         "5140",
         "12.0",
         "71",
         "1",
         "pontiac safari (sw)"
        ],
        [
         "44",
         "18.0",
         "6",
         "258.0",
         "110",
         "2962",
         "13.5",
         "71",
         "1",
         "amc hornet sportabout (sw)"
        ],
        [
         "45",
         "22.0",
         "4",
         "140.0",
         "72",
         "2408",
         "19.0",
         "71",
         "1",
         "chevrolet vega (sw)"
        ],
        [
         "46",
         "19.0",
         "6",
         "250.0",
         "100",
         "3282",
         "15.0",
         "71",
         "1",
         "pontiac firebird"
        ],
        [
         "47",
         "18.0",
         "6",
         "250.0",
         "88",
         "3139",
         "14.5",
         "71",
         "1",
         "ford mustang"
        ],
        [
         "48",
         "23.0",
         "4",
         "122.0",
         "86",
         "2220",
         "14.0",
         "71",
         "1",
         "mercury capri 2000"
        ],
        [
         "49",
         "28.0",
         "4",
         "116.0",
         "90",
         "2123",
         "14.0",
         "71",
         "2",
         "opel 1900"
        ]
       ],
       "shape": {
        "columns": 9,
        "rows": 392
       }
      },
      "text/html": [
       "<div>\n",
       "<style scoped>\n",
       "    .dataframe tbody tr th:only-of-type {\n",
       "        vertical-align: middle;\n",
       "    }\n",
       "\n",
       "    .dataframe tbody tr th {\n",
       "        vertical-align: top;\n",
       "    }\n",
       "\n",
       "    .dataframe thead th {\n",
       "        text-align: right;\n",
       "    }\n",
       "</style>\n",
       "<table border=\"1\" class=\"dataframe\">\n",
       "  <thead>\n",
       "    <tr style=\"text-align: right;\">\n",
       "      <th></th>\n",
       "      <th>mpg</th>\n",
       "      <th>cylinders</th>\n",
       "      <th>displacement</th>\n",
       "      <th>horsepower</th>\n",
       "      <th>weight</th>\n",
       "      <th>acceleration</th>\n",
       "      <th>year</th>\n",
       "      <th>origin</th>\n",
       "      <th>name</th>\n",
       "    </tr>\n",
       "  </thead>\n",
       "  <tbody>\n",
       "    <tr>\n",
       "      <th>0</th>\n",
       "      <td>18.0</td>\n",
       "      <td>8</td>\n",
       "      <td>307.0</td>\n",
       "      <td>130</td>\n",
       "      <td>3504</td>\n",
       "      <td>12.0</td>\n",
       "      <td>70</td>\n",
       "      <td>1</td>\n",
       "      <td>chevrolet chevelle malibu</td>\n",
       "    </tr>\n",
       "    <tr>\n",
       "      <th>1</th>\n",
       "      <td>15.0</td>\n",
       "      <td>8</td>\n",
       "      <td>350.0</td>\n",
       "      <td>165</td>\n",
       "      <td>3693</td>\n",
       "      <td>11.5</td>\n",
       "      <td>70</td>\n",
       "      <td>1</td>\n",
       "      <td>buick skylark 320</td>\n",
       "    </tr>\n",
       "    <tr>\n",
       "      <th>2</th>\n",
       "      <td>18.0</td>\n",
       "      <td>8</td>\n",
       "      <td>318.0</td>\n",
       "      <td>150</td>\n",
       "      <td>3436</td>\n",
       "      <td>11.0</td>\n",
       "      <td>70</td>\n",
       "      <td>1</td>\n",
       "      <td>plymouth satellite</td>\n",
       "    </tr>\n",
       "    <tr>\n",
       "      <th>3</th>\n",
       "      <td>16.0</td>\n",
       "      <td>8</td>\n",
       "      <td>304.0</td>\n",
       "      <td>150</td>\n",
       "      <td>3433</td>\n",
       "      <td>12.0</td>\n",
       "      <td>70</td>\n",
       "      <td>1</td>\n",
       "      <td>amc rebel sst</td>\n",
       "    </tr>\n",
       "    <tr>\n",
       "      <th>4</th>\n",
       "      <td>17.0</td>\n",
       "      <td>8</td>\n",
       "      <td>302.0</td>\n",
       "      <td>140</td>\n",
       "      <td>3449</td>\n",
       "      <td>10.5</td>\n",
       "      <td>70</td>\n",
       "      <td>1</td>\n",
       "      <td>ford torino</td>\n",
       "    </tr>\n",
       "    <tr>\n",
       "      <th>...</th>\n",
       "      <td>...</td>\n",
       "      <td>...</td>\n",
       "      <td>...</td>\n",
       "      <td>...</td>\n",
       "      <td>...</td>\n",
       "      <td>...</td>\n",
       "      <td>...</td>\n",
       "      <td>...</td>\n",
       "      <td>...</td>\n",
       "    </tr>\n",
       "    <tr>\n",
       "      <th>387</th>\n",
       "      <td>27.0</td>\n",
       "      <td>4</td>\n",
       "      <td>140.0</td>\n",
       "      <td>86</td>\n",
       "      <td>2790</td>\n",
       "      <td>15.6</td>\n",
       "      <td>82</td>\n",
       "      <td>1</td>\n",
       "      <td>ford mustang gl</td>\n",
       "    </tr>\n",
       "    <tr>\n",
       "      <th>388</th>\n",
       "      <td>44.0</td>\n",
       "      <td>4</td>\n",
       "      <td>97.0</td>\n",
       "      <td>52</td>\n",
       "      <td>2130</td>\n",
       "      <td>24.6</td>\n",
       "      <td>82</td>\n",
       "      <td>2</td>\n",
       "      <td>vw pickup</td>\n",
       "    </tr>\n",
       "    <tr>\n",
       "      <th>389</th>\n",
       "      <td>32.0</td>\n",
       "      <td>4</td>\n",
       "      <td>135.0</td>\n",
       "      <td>84</td>\n",
       "      <td>2295</td>\n",
       "      <td>11.6</td>\n",
       "      <td>82</td>\n",
       "      <td>1</td>\n",
       "      <td>dodge rampage</td>\n",
       "    </tr>\n",
       "    <tr>\n",
       "      <th>390</th>\n",
       "      <td>28.0</td>\n",
       "      <td>4</td>\n",
       "      <td>120.0</td>\n",
       "      <td>79</td>\n",
       "      <td>2625</td>\n",
       "      <td>18.6</td>\n",
       "      <td>82</td>\n",
       "      <td>1</td>\n",
       "      <td>ford ranger</td>\n",
       "    </tr>\n",
       "    <tr>\n",
       "      <th>391</th>\n",
       "      <td>31.0</td>\n",
       "      <td>4</td>\n",
       "      <td>119.0</td>\n",
       "      <td>82</td>\n",
       "      <td>2720</td>\n",
       "      <td>19.4</td>\n",
       "      <td>82</td>\n",
       "      <td>1</td>\n",
       "      <td>chevy s-10</td>\n",
       "    </tr>\n",
       "  </tbody>\n",
       "</table>\n",
       "<p>392 rows × 9 columns</p>\n",
       "</div>"
      ],
      "text/plain": [
       "      mpg  cylinders  displacement  horsepower  weight  acceleration  year  \\\n",
       "0    18.0          8         307.0         130    3504          12.0    70   \n",
       "1    15.0          8         350.0         165    3693          11.5    70   \n",
       "2    18.0          8         318.0         150    3436          11.0    70   \n",
       "3    16.0          8         304.0         150    3433          12.0    70   \n",
       "4    17.0          8         302.0         140    3449          10.5    70   \n",
       "..    ...        ...           ...         ...     ...           ...   ...   \n",
       "387  27.0          4         140.0          86    2790          15.6    82   \n",
       "388  44.0          4          97.0          52    2130          24.6    82   \n",
       "389  32.0          4         135.0          84    2295          11.6    82   \n",
       "390  28.0          4         120.0          79    2625          18.6    82   \n",
       "391  31.0          4         119.0          82    2720          19.4    82   \n",
       "\n",
       "     origin                       name  \n",
       "0         1  chevrolet chevelle malibu  \n",
       "1         1          buick skylark 320  \n",
       "2         1         plymouth satellite  \n",
       "3         1              amc rebel sst  \n",
       "4         1                ford torino  \n",
       "..      ...                        ...  \n",
       "387       1            ford mustang gl  \n",
       "388       2                  vw pickup  \n",
       "389       1              dodge rampage  \n",
       "390       1                ford ranger  \n",
       "391       1                 chevy s-10  \n",
       "\n",
       "[392 rows x 9 columns]"
      ]
     },
     "execution_count": 24,
     "metadata": {},
     "output_type": "execute_result"
    }
   ],
   "source": [
    "df1 = pd.read_csv(\"https://github.com/Daniel-Uhr/data/raw/main/Auto.csv\")\n",
    "df1"
   ]
  },
  {
   "cell_type": "markdown",
   "metadata": {},
   "source": [
    "### 2.1. The Validation Set Approach (A Abordagem do Conjunto de Validação)\n",
    "\n",
    "Suponha que gostaríamos de estimar o erro de teste associado ao ajuste de um método específico de aprendizagem estatística em um conjunto de observações. *The Validation Set Approach* é uma estratégia muito simples para essa tarefa. Ela envolve ***dividir aleatoriamente o conjunto de observações disponível (dados internos / \"Internal Data\")em duas partes***:\n",
    "\n",
    "* um conjunto de treinamento (Training Data) e\n",
    "* um conjunto de validação ou conjunto de retenção (Test Data).\n",
    "\n",
    "O ***modelo é ajustado ao conjunto de treinamento***, e **o modelo ajustado é usado para prever as respostas para as observações no conjunto de validação**. \n",
    "\n",
    "***A taxa de erro do conjunto de validação resultante é normalmente avaliada por meio de MSE, no caso de uma resposta quantitativa, e fornece uma estimativa da taxa de erro do teste***. \n",
    "\n",
    "Vejamos na imagem:\n",
    "\n",
    "<div style=\"text-align:center;\">\n",
    "    <img src=\"images\\cross-validation.png\"  alt=\"Imagem\" style=\"width: 450px;\"/>\n",
    "</div>\n",
    "\n",
    "\n",
    "Na parte superior temos o conjunto de dados original (Internal Data - em cinza) e a porção de dados futura (Unseen Data - não observada). Na parte inferior, temos o conjunto de treinamento e o conjunto de validação. O conjunto de treinamento é usado para ajustar o modelo, enquanto o conjunto de validação é usado para avaliar o desempenho do modelo ajustado a fim de ser utilizado no conjunto de dados futuro (não observado).\n",
    "\n",
    "***Como decidir o tamanho do conjunto de treinamento e do conjunto de validação? E, quais partes do conjunto de dados devem ser usadas para o treinamento e a validação?***\n",
    "\n",
    "No exemplo a seguir, calcularemos o polinômio de diferentes ordens (de um a dez). Dividiremos os dados 50-50 entre os conjuntos de treinamento e teste. E calcularemos o erro quadrático médio (MSE) para cada um dos modelos ajustados."
   ]
  },
  {
   "cell_type": "code",
   "execution_count": 25,
   "metadata": {},
   "outputs": [],
   "source": [
    "# Função de Cross-Validação para polinomios\n",
    "\n",
    "def cv_poly(X, y, p_order, r_states, t_prop):\n",
    "    start = time.time()\n",
    "    \n",
    "    # Init scores\n",
    "    scores = np.zeros((p_order.size,r_states.size))\n",
    "    \n",
    "    # Generar 10 divisões aleatórias no conjunto de dados\n",
    "    for j in r_states:\n",
    "        \n",
    "        # Dividir a amostra entre treinamento e teste\n",
    "        X_train, X_test, y_train, y_test = train_test_split(X, y, test_size=t_prop, random_state=j)\n",
    "        \n",
    "            \n",
    "        # Para cada polinomio de grau i\n",
    "        for i in p_order:\n",
    "\n",
    "            # Gerar polinomios\n",
    "            X_train_poly = PolynomialFeatures(i+1).fit_transform(X_train)\n",
    "            X_test_poly = PolynomialFeatures(i+1).fit_transform(X_test)\n",
    "\n",
    "            # Ajustar o modelo\n",
    "            ols = LinearRegression().fit(X_train_poly, y_train)\n",
    "            pred = ols.predict(X_test_poly)\n",
    "            scores[i,j]= mean_squared_error(y_test, pred)\n",
    "    print('Time elapsed: %.4f seconds' % (time.time()-start))\n",
    "    return scores"
   ]
  },
  {
   "cell_type": "markdown",
   "metadata": {},
   "source": [
    "Vamos fazer uma análise visual da variabilidade do erro quadrático médio (MSE) na validação cruzada de modelos polinomiais com diferentes graus e diferentes divisões aleatórias dos dados"
   ]
  },
  {
   "cell_type": "code",
   "execution_count": null,
   "metadata": {},
   "outputs": [
    {
     "name": "stdout",
     "output_type": "stream",
     "text": [
      "Time elapsed: 0.3325 seconds\n"
     ]
    }
   ],
   "source": [
    "# Iniciar\n",
    "t_prop = 0.5                # Proporção de teste: 50%\n",
    "p_order = np.arange(10)     # Graus de polinômios de 1 a 10\n",
    "r_states = np.arange(10)    # 10 random states para gerar 10 splits diferentes\n",
    "\n",
    "# selecionar X,y / Variável preditora a horsepower e como resposta o mpg (miles per gallon).\n",
    "X = df1.horsepower.values.reshape(-1,1)\n",
    "y = df1.mpg.ravel()\n",
    "\n",
    "# Compute scores\n",
    "cv_scores = cv_poly(X, y, p_order, r_states, t_prop)"
   ]
  },
  {
   "cell_type": "code",
   "execution_count": 29,
   "metadata": {},
   "outputs": [
    {
     "data": {
      "text/plain": [
       "(10, 10)"
      ]
     },
     "execution_count": 29,
     "metadata": {},
     "output_type": "execute_result"
    }
   ],
   "source": [
    "cv_scores.shape"
   ]
  },
  {
   "cell_type": "markdown",
   "metadata": {},
   "source": [
    "O `cv_poly` calculou o MSE para cada grau de polinômio, repetindo com 10 divisões aleatórias dos dados.\n",
    "Resultado: uma matriz cv_scores de shape (10,10).\n",
    "* Cada linha → um grau de polinômio.\n",
    "* Cada coluna → uma divisão aleatória (random state)."
   ]
  },
  {
   "cell_type": "code",
   "execution_count": null,
   "metadata": {},
   "outputs": [],
   "source": [
    "# Figure 5.2\n",
    "def make_figure_5_2():\n",
    "    \n",
    "    # Init\n",
    "    fig, (ax1, ax2) = plt.subplots(1,2,figsize=(14,6))\n",
    "    fig.suptitle('Figure 5.2')\n",
    "\n",
    "    # Subplot da esquerda\n",
    "    # Mostra o erro para cada grau de polinômio, mas apenas na primeira divisão aleatória (random state 0).\n",
    "    # Serve para visualizar como o MSE varia com a complexidade do modelo, mas numa única amostra de treino-teste.\n",
    "    ax1.plot(p_order+1,cv_scores[:,0], '-o')\n",
    "    ax1.set_title('Random split of the data set')\n",
    "\n",
    "    # Subplot da direita:\n",
    "    # Plota todos os splits ao mesmo tempo.\n",
    "    # Cada linha colorida representa um split diferente → mostra a variabilidade dos resultados.\n",
    "    # Revela como o erro médio pode variar significativamente dependendo da partição dos dados.\n",
    "    ax2.plot(p_order+1,cv_scores)\n",
    "    ax2.set_title('10 random splits of the data set')\n",
    "\n",
    "    for ax in fig.axes:\n",
    "        ax.set_ylabel('Mean Squared Error')\n",
    "        ax.set_ylim(15,30)\n",
    "        ax.set_xlabel('Degree of Polynomial')\n",
    "        ax.set_xlim(0.5,10.5)\n",
    "        ax.set_xticks(range(2,11,2));"
   ]
  },
  {
   "cell_type": "code",
   "execution_count": 28,
   "metadata": {},
   "outputs": [
    {
     "data": {
      "image/png": "[encoded data removed]",
      "text/plain": [
       "<Figure size 1400x600 with 2 Axes>"
      ]
     },
     "metadata": {},
     "output_type": "display_data"
    }
   ],
   "source": [
    "make_figure_5_2()"
   ]
  },
  {
   "cell_type": "markdown",
   "metadata": {},
   "source": [
    "Esta figura ilustra uma das principais desvantagens da abordagem de validação simples: a estimativa da taxa de erro pode ser altamente variável, dependendo exatamente de quais observações são alocadas nos conjuntos de treinamento e de validação.\n",
    "\n",
    "Além disso, a validação simples possui uma segunda limitação importante: apenas um subconjunto das observações — aquelas incluídas no conjunto de treinamento, e não no conjunto de validação — é utilizado para ajustar o modelo. Como os métodos estatísticos tendem a apresentar um desempenho inferior quando treinados com um número reduzido de observações, a taxa de erro estimada no conjunto de validação pode superestimar a verdadeira taxa de erro que seria obtida se o modelo fosse ajustado utilizando o conjunto completo de dados.\n",
    "\n",
    "Em resumo:\n",
    "* Gráfico da esquerda: mostra como uma análise isolada pode ser enganosa.\n",
    "* Gráfico da direita: evidencia a variabilidade.\n",
    "\n",
    "Há necessidade de métodos mais robustos de avaliação de desempenho.\n",
    "\n"
   ]
  },
  {
   "cell_type": "markdown",
   "metadata": {},
   "source": [
    "### 2.2. Leave-One-Out Cross-Validation (Validação Cruzada Leave-One-Out)\n",
    "\n",
    "A validação cruzada leave-one-out (LOOCV) tenta resolver as desvantagens desse método.\n",
    "\n",
    "Assim como a abordagem do conjunto de validação, o LOOCV envolve a divisão do conjunto de observações em duas partes. No entanto, em vez de criar dois subconjuntos de tamanho comparável, uma única observação\n",
    "é usado para o conjunto de validação e o restante $n-1$ observações compõem o conjunto de treinamento. O método de aprendizagem estatística é ajustado no $n-1$ observações de treinamento e o MSE é calculado usando a observação excluída $i$. O procedimento é repetido $n$ vezes, para $i=1,2,\\ldots,n$.\n",
    "\n",
    "A estimativa do LOOCV para o teste MSE é a média destes $n$ estimativas de erro de teste:\n",
    "\n",
    "$$ \\mathrm{CV} {(n)}=\\frac{1}{n} \\sum {i=1}^{n} \\mathrm{MSE}_{i} $$\n",
    "\n",
    "O LOOCV tem algumas vantagens importantes em relação à abordagem do conjunto de validação.\n",
    "\n",
    "Primeiro, tem muito menos viés. No LOOCV, ajustamos repetidamente o método de aprendizagem estatística usando conjuntos de treinamento que contêm $n-1$ observações, quase tantas quanto as de todo o conjunto de dados. No entanto, isso também significa que o LOOCV é computacionalmente mais intenso.\n",
    "\n",
    "Em segundo lugar, em contraste com a abordagem de validação que produzirá resultados diferentes quando aplicada repetidamente devido à aleatoriedade nas divisões do conjunto de treinamento/validação, executar LOOCV várias vezes sempre produzirá os mesmos resultados: não há aleatoriedade nas divisões do conjunto de treinamento/validação."
   ]
  },
  {
   "cell_type": "code",
   "execution_count": 10,
   "metadata": {},
   "outputs": [],
   "source": [
    "# LeaveOneOut CV function for polynomials\n",
    "def loo_cv_poly(X, y, p_order):\n",
    "    start = time.time()\n",
    "    \n",
    "    # Init\n",
    "    loo = LeaveOneOut().get_n_splits(y)\n",
    "    loo_scores = np.zeros((p_order.size,1))\n",
    "    \n",
    "    # For every polynomial degree\n",
    "    for i in p_order:\n",
    "        # Generate polynomial\n",
    "        X_poly = PolynomialFeatures(i+1).fit_transform(X)\n",
    "\n",
    "        # Get score\n",
    "        loo_scores[i] = cross_val_score(LinearRegression(), X_poly, y, cv=loo, scoring='neg_mean_squared_error').mean()\n",
    "        \n",
    "    print('Time elapsed: %.4f seconds' % (time.time()-start))\n",
    "    return loo_scores"
   ]
  },
  {
   "cell_type": "markdown",
   "metadata": {},
   "source": [
    "Vamos comparar a abordagem do conjunto de validação com o LOO em termos de tempo computacional."
   ]
  },
  {
   "cell_type": "code",
   "execution_count": 11,
   "metadata": {},
   "outputs": [
    {
     "name": "stdout",
     "output_type": "stream",
     "text": [
      "Time elapsed: 0.3325 seconds\n",
      "Time elapsed: 6.0270 seconds\n"
     ]
    }
   ],
   "source": [
    "# Validation set approach\n",
    "cv_scores = cv_poly(X, y, p_order, r_states, t_prop)\n",
    "    \n",
    "# Leave One Out CV\n",
    "loo_scores = loo_cv_poly(X, y, p_order)"
   ]
  },
  {
   "cell_type": "markdown",
   "metadata": {},
   "source": [
    "Como esperado, o LOOCV é muito mais intensivo computacionalmente, mesmo considerando o fato de que repetimos cada abordagem do conjunto de validação 10 vezes.\n",
    "\n",
    "Vamos agora compará-los em termos de precisão na minimização do MSE."
   ]
  },
  {
   "cell_type": "code",
   "execution_count": 12,
   "metadata": {},
   "outputs": [],
   "source": [
    "# Make new figure 1\n",
    "def make_new_figure_1():\n",
    "\n",
    "    # Init\n",
    "    fig, ax = plt.subplots(1,1, figsize=(7,6))\n",
    "\n",
    "    # Left plot\n",
    "    ax.plot(p_order+1, np.array(loo_scores)*-1, '-o', label='LOOCV')\n",
    "    ax.plot(p_order+1, np.mean(cv_scores, axis=1), '-o', c='orange', label='Standard CV')\n",
    "    ax.set_ylabel('Mean Squared Error'); ax.set_xlabel('Degree of Polynomial');\n",
    "    ax.set_ylim(15,30); ax.set_xlim(0.5,10.5);\n",
    "    ax.set_xticks(range(2,11,2));\n",
    "    ax.legend();"
   ]
  },
  {
   "cell_type": "code",
   "execution_count": 13,
   "metadata": {},
   "outputs": [
    {
     "data": {
      "image/png": "[encoded data removed]",
      "text/plain": [
       "<Figure size 700x600 with 1 Axes>"
      ]
     },
     "metadata": {},
     "output_type": "display_data"
    }
   ],
   "source": [
    "make_new_figure_1()"
   ]
  },
  {
   "cell_type": "markdown",
   "metadata": {},
   "source": [
    "Com a regressão linear ou polinomial de mínimos quadrados, um atalho incrível torna o custo do LOOCV igual ao de um ajuste de modelo único! A seguinte fórmula se aplica:\n",
    "\n",
    "$$ \\mathrm{CV}{(n)}=\\frac{1}{n} \\sum{i=1}^{n}\\left(\\frac{y_{i}-\\hat{y}{i}}{1-h{i}}\\right)^{2} $$\n",
    "\n",
    "onde $\\hat{y} {i}$ é o $i^{th}$ valor ajustado do ajuste original dos mínimos quadrados e $h_{i}$ é a alavanca da observação $i$."
   ]
  },
  {
   "cell_type": "markdown",
   "metadata": {},
   "source": [
    "### k-Fold Cross-Validation\n",
    "\n",
    "Uma alternativa ao LOOCV é o CV k-fold. Essa abordagem envolve as seguintes etapas:\n",
    "\n",
    "* Dividindo aleatoriamente o conjunto de observações em $k$ grupos, ou dobras, de tamanho aproximadamente igual.\n",
    "* A primeira dobra é tratada como um conjunto de validação e o método é ajustado no restante $k-1$ dobras.\n",
    "* O erro quadrático médio, MSE1, é então calculado nas observações na dobra mantida.\n",
    "* Os passos (1)-(3) são repetidos $k$ vezes; cada vez, um grupo diferente de observações é tratado como um conjunto de validação.\n",
    "\n",
    "\n",
    "A estimativa do CV k-fold é calculada pela média desses valores\n",
    "\n",
    "$$ \\mathrm{CV} {(k)}=\\frac{1}{k} \\sum {i=1}^{k} \\mathrm{MSE}_{i} $$\n",
    "\n",
    "LOOCV é um caso especial de CV k-fold em que $k$ é definido como igual $n$. Na prática, normalmente realiza-se o CV k-fold usando $k=5$ ou $k=10$.\n",
    "\n",
    "A vantagem mais óbvia é computacional. O LOOCV requer o ajuste do método de aprendizagem estatística\n",
    "vezes, enquanto o CV k-fold requer apenas $k$ divisões."
   ]
  },
  {
   "cell_type": "code",
   "execution_count": 14,
   "metadata": {},
   "outputs": [],
   "source": [
    "# 10fold CV function for polynomials\n",
    "def k10_cv_poly(X, y, p_order, r_states, folds):\n",
    "    start = time.time()\n",
    "    \n",
    "    # Init\n",
    "    k10_scores = np.zeros((p_order.size,r_states.size))\n",
    "\n",
    "    # Generate 10 random splits of the dataset\n",
    "    for j in r_states:\n",
    "\n",
    "        # For every polynomial degree\n",
    "        for i in p_order:\n",
    "\n",
    "            # Generate polynomial\n",
    "            X_poly = PolynomialFeatures(i+1).fit_transform(X)\n",
    "\n",
    "            # Split sample in train and test\n",
    "            kf10 = KFold(n_splits=folds, shuffle=True, random_state=j)\n",
    "            k10_scores[i,j] = cross_val_score(LinearRegression(), X_poly, y, cv=kf10, \n",
    "                                               scoring='neg_mean_squared_error').mean()  \n",
    "    \n",
    "    print('Time elapsed: %.4f seconds' % (time.time()-start))\n",
    "    return k10_scores"
   ]
  },
  {
   "cell_type": "markdown",
   "metadata": {},
   "source": [
    "Vamos agora comparar a validação cruzada de 10 vezes com LOO em termos de tempo computacional."
   ]
  },
  {
   "cell_type": "code",
   "execution_count": 15,
   "metadata": {},
   "outputs": [
    {
     "name": "stdout",
     "output_type": "stream",
     "text": [
      "Time elapsed: 6.8961 seconds\n",
      "Time elapsed: 1.8442 seconds\n"
     ]
    }
   ],
   "source": [
    "# Leave One Out CV\n",
    "loo_scores = loo_cv_poly(X, y, p_order)\n",
    "    \n",
    "# 10-fold CV\n",
    "folds = 10\n",
    "k10_scores = k10_cv_poly(X, y, p_order, r_states, folds)"
   ]
  },
  {
   "cell_type": "markdown",
   "metadata": {},
   "source": [
    "De fato, vemos que a abordagem LOOCV é computacionalmente mais intensiva, mesmo considerando o fato de que repetimos cada validação cruzada de 10 vezes 10 vezes.\n",
    "\n",
    "Agora podemos comparar todos os métodos em termos de precisão."
   ]
  },
  {
   "cell_type": "code",
   "execution_count": 16,
   "metadata": {},
   "outputs": [],
   "source": [
    "# Figure 5.4\n",
    "def make_figure_5_4():\n",
    "\n",
    "    fig, (ax1, ax2, ax3) = plt.subplots(1,3,figsize=(17,5))\n",
    "    fig.suptitle('Figure 5.4')\n",
    "\n",
    "    # Left plot\n",
    "    ax1.plot(p_order+1, np.array(loo_scores)*-1, '-o')\n",
    "    ax1.set_title('LOOCV', fontsize=12)\n",
    "\n",
    "    # Center plot\n",
    "    ax2.plot(p_order+1,k10_scores*-1)\n",
    "    ax2.set_title('10-fold CV', fontsize=12)\n",
    "\n",
    "    # Right plot\n",
    "    ax3.plot(p_order+1, np.array(loo_scores)*-1, '-o', label='LOOCV')\n",
    "    ax3.plot(p_order+1, np.mean(cv_scores, axis=1), label='Standard CV')\n",
    "    ax3.plot(p_order+1,np.mean(k10_scores,axis=1)*-1, label='10-fold CV')\n",
    "    ax3.set_title('Comparison', fontsize=12);\n",
    "    ax3.legend();\n",
    "\n",
    "    for ax in fig.axes:\n",
    "        ax.set_ylabel('Mean Squared Error')\n",
    "        ax.set_ylim(15,30)\n",
    "        ax.set_xlabel('Degree of Polynomial')\n",
    "        ax.set_xlim(0.5,10.5)\n",
    "        ax.set_xticks(range(2,11,2));"
   ]
  },
  {
   "cell_type": "code",
   "execution_count": 17,
   "metadata": {},
   "outputs": [
    {
     "data": {
      "image/png": "[encoded data removed]",
      "text/plain": [
       "<Figure size 1700x500 with 3 Axes>"
      ]
     },
     "metadata": {},
     "output_type": "display_data"
    }
   ],
   "source": [
    "make_figure_5_4()"
   ]
  },
  {
   "cell_type": "markdown",
   "metadata": {},
   "source": [
    "A validação cruzada de 10 vezes produz um MSE muito semelhante em relação ao LOOCV, mas com tempo computacional consideravelmente menor."
   ]
  },
  {
   "cell_type": "markdown",
   "metadata": {},
   "source": [
    "### O Bootstrap\n",
    "\n",
    "O bootstrap é uma ferramenta estatística amplamente aplicável e extremamente poderosa que pode ser usada para quantificar a incerteza associada a um determinado estimador ou método de aprendizagem estatística. No caso específico da regressão linear, isso não é particularmente útil, pois existe uma fórmula para os erros-padrão. No entanto, existem muitos modelos (quase todos, na verdade) para os quais não existe uma solução fechada para a variância do estimador.\n",
    "\n",
    "Em princípio, gostaríamos de extrair amostras independentes do verdadeiro processo de geração de dados e avaliar a incerteza de um estimador comparando seus valores entre as diferentes amostras. No entanto, isso é claramente inviável, visto que não conhecemos o verdadeiro processo de geração de dados.\n",
    "\n",
    "Com o bootstrap, em vez de obter repetidamente conjuntos de dados independentes da população, obtemos conjuntos de dados distintos por meio de amostragem repetida de observações do conjunto de dados original. O poder do bootstrap reside no fato de que ele pode ser facilmente aplicado a uma ampla gama de métodos de aprendizagem estatística, incluindo alguns para os quais uma medida de variabilidade é difícil de obter e não é gerada automaticamente por softwares estatísticos.\n",
    "\n",
    "Agora, vamos avaliar sua utilidade por meio de simulação. Considere o seguinte modelo:\n",
    "\n",
    "$$ y_{i}=\\beta_{0}x_{i}+\\epsilon_{i} $$\n",
    "\n",
    "onde $\\beta_{0}=0.6$ e $\\epsilon_{i} \\sim N(0,1)$. Vamos agora avaliar a variância do estimador MCO\n",
    "com a fórmula padrão, simulando diferentes amostras e com bootstrap."
   ]
  },
  {
   "cell_type": "code",
   "execution_count": 18,
   "metadata": {},
   "outputs": [],
   "source": [
    "# Set seed\n",
    "np.random.seed(1)\n",
    "\n",
    "# Init\n",
    "simulations = 1000\n",
    "N = 1000\n",
    "beta_0 = 0.6\n",
    "beta_sim = np.zeros((simulations,1))\n",
    "\n",
    "# Generate X\n",
    "X = normal(0,3,N).reshape(-1,1)\n",
    "\n",
    "# Loop over simulations\n",
    "for i in range(simulations):\n",
    "    \n",
    "    # Generate y\n",
    "    e = normal(0,1,N).reshape(-1,1)\n",
    "    y = beta_0*X + e\n",
    "    \n",
    "    # Estimate beta OLS\n",
    "    beta_sim[i] = inv(X.T @ X) @ X.T @ y"
   ]
  },
  {
   "cell_type": "code",
   "execution_count": 19,
   "metadata": {},
   "outputs": [],
   "source": [
    "# Init Bootstrap\n",
    "beta_boot = np.zeros((simulations,1))\n",
    "\n",
    "# Loop over simulations\n",
    "for i in range(simulations):\n",
    "    \n",
    "    # Sample y\n",
    "    X_sample, y_sample = resample(X, y, random_state=i)\n",
    "    \n",
    "    # Estimate beta OLS\n",
    "    beta_boot[i] = inv(X_sample.T @ X_sample) @ X_sample.T @ y_sample"
   ]
  },
  {
   "cell_type": "markdown",
   "metadata": {},
   "source": [
    "Podemos primeiro comparar as médias."
   ]
  },
  {
   "cell_type": "code",
   "execution_count": 20,
   "metadata": {},
   "outputs": [
    {
     "name": "stdout",
     "output_type": "stream",
     "text": [
      "True value      : 0.6000\n",
      "Mean Simulations: 0.6003\n",
      "Mean One Sample : 0.5815\n",
      "Mean Boostrap   : 0.5816\n"
     ]
    }
   ],
   "source": [
    "# Print means\n",
    "print('True value      : %.4f' % beta_0)\n",
    "print('Mean Simulations: %.4f' % np.mean(beta_sim))\n",
    "print('Mean One Sample : %.4f' % beta_sim[-1])\n",
    "print('Mean Boostrap   : %.4f' % np.mean(beta_boot))"
   ]
  },
  {
   "cell_type": "markdown",
   "metadata": {},
   "source": [
    "A média do estimador bootstrap está bastante equivocada. Mas este não é o seu propósito real: ele foi projetado para avaliar a incerteza de um estimador, não o seu valor.\n",
    "\n",
    "Agora comparamos as variâncias."
   ]
  },
  {
   "cell_type": "code",
   "execution_count": 21,
   "metadata": {},
   "outputs": [
    {
     "name": "stdout",
     "output_type": "stream",
     "text": [
      "True std       : 0.010737\n",
      "Std Simulations: 0.010830\n",
      "Std One Sample : 0.010536\n",
      "Std Boostrap   : 0.010812\n"
     ]
    }
   ],
   "source": [
    "# Print variances\n",
    "print('True std       : %.6f' % np.sqrt(inv(X.T @ X)))\n",
    "print('Std Simulations: %.6f' % np.std(beta_sim))\n",
    "print('Std One Sample : %.6f' % np.sqrt(inv(X.T @ X) * np.var(y - beta_sim[-1]*X)))\n",
    "print('Std Boostrap   : %.6f' % np.std(beta_boot))"
   ]
  },
  {
   "cell_type": "markdown",
   "metadata": {},
   "source": [
    "O Bootstrap chega tão perto do desvio padrão real do estimador quanto a simulação com o processo real de geração de dados. Impressionante!\n",
    "\n",
    "Agora podemos fazer uma inspeção visual."
   ]
  },
  {
   "cell_type": "code",
   "execution_count": 22,
   "metadata": {},
   "outputs": [],
   "source": [
    "# Figure 5.10\n",
    "def make_figure_5_10():\n",
    "\n",
    "    fig, (ax1, ax2, ax3) = plt.subplots(1,3,figsize=(14,6))\n",
    "    fig.suptitle('Figure 5.10')\n",
    "\n",
    "    # Left plot\n",
    "    ax1.hist(beta_sim, bins=10, edgecolor='black');\n",
    "    ax1.axvline(x=beta_0, color='r', label='beta_0')\n",
    "    ax1.set_xlabel('beta simulated');\n",
    "\n",
    "    # Center plot\n",
    "    ax2.hist(beta_boot, bins=10, color='orange', edgecolor='black');\n",
    "    ax2.axvline(x=beta_0, color='r', label='beta_0')\n",
    "    ax2.set_xlabel('beta bootstrap');\n",
    "\n",
    "    # Right plot\n",
    "    df_bootstrap = pd.DataFrame({'simulated': beta_sim.ravel(), 'bootstrap':beta_boot.ravel()}, \n",
    "                                index=range(simulations))\n",
    "    ax3 = sns.boxplot(data=df_bootstrap, width=0.5, linewidth=2);\n",
    "    ax3.axhline(y=beta_0, color='r', label='beta_0');"
   ]
  },
  {
   "cell_type": "code",
   "execution_count": 23,
   "metadata": {},
   "outputs": [
    {
     "data": {
      "image/png": "[encoded data removed]",
      "text/plain": [
       "<Figure size 1400x600 with 3 Axes>"
      ]
     },
     "metadata": {},
     "output_type": "display_data"
    }
   ],
   "source": [
    "make_figure_5_10()"
   ]
  },
  {
   "cell_type": "markdown",
   "metadata": {},
   "source": [
    "Como podemos ver, o bootstrap é uma ferramenta poderosa para avaliar a incerteza de um estimador."
   ]
  }
 ],
 "metadata": {
  "kernelspec": {
   "display_name": "Python 3",
   "language": "python",
   "name": "python3"
  },
  "language_info": {
   "codemirror_mode": {
    "name": "ipython",
    "version": 3
   },
   "file_extension": ".py",
   "mimetype": "text/x-python",
   "name": "python",
   "nbconvert_exporter": "python",
   "pygments_lexer": "ipython3",
   "version": "3.11.5"
  }
 },
 "nbformat": 4,
 "nbformat_minor": 2
}
