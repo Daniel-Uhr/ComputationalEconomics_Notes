{
 "cells": [
  {
   "cell_type": "markdown",
   "metadata": {},
   "source": [
    "# DataFrames em Economia\n",
    "\n",
    "Prof. Daniel de Abreu Pereira Uhr\n",
    "\n",
    "### Conteúdo\n",
    "\n",
    "* Web Scraping\n",
    "  * Raspagem com o Pandas\n",
    "  * Raspagem com o BeautifulSoup\n",
    "  * Raspagem com o Scrapy\n",
    "* Estrutura de Dados \n",
    "  * DataFrames - Séries Temporais\n",
    "  * DataFrames - Cross-Sectional\n",
    "  * DataFrames - Dados em Painel\n",
    "* Algumas Fonte de Dados\n",
    "  * Bacen Data\n",
    "  * Yahoo Finance Data\n",
    "  * IBGE Data\n",
    "  * WoldBank Open Data\n",
    "\n",
    "\n",
    "\n",
    "### Referências\n",
    "\n",
    "* Géron, Aurélien. Hands-On Machine Learning with Scikit-Learn, Keras, and TensorFlow: Concepts, Tools, and Techniques to Build Intelligent Systems. O'Reilly Media, 2019.\n",
    "* Athey, S., & Imbens, G. (2017). \"The State of Applied Econometrics: Causality and Policy Evaluation.\" *Journal of Economic Perspectives*.\n",
    "* Mullainathan, S., & Spiess, J. (2017). \"Machine Learning: An Applied Econometric Approach.\" *Journal of Economic Perspectives*.\n",
    "* Varian, H. R. (2014). \"Big Data: New Tricks for Econometrics.\" *Journal of Economic Perspectives*.\n",
    "* **sklearn** (https://scikit-learn.org/stable/install.html)\n",
    "* **statsmodels** (https://www.statsmodels.org/stable/index.html)\n",
    "* **Prophet** (https://facebook.github.io/prophet/docs/quick_start.html)\n",
    "* **pmdarima** (https://alkaline-ml.com/pmdarima/)\n",
    "* **darts** (https://unit8co.github.io/darts/)\n",
    "* **gluonts** (https://ts.gluon.ai/stable/), [tslearn](https://tslearn.readthedocs.io/en/stable/)\n",
    "* **tslearn** (https://tslearn.readthedocs.io/en/stable/)\n"
   ]
  },
  {
   "cell_type": "markdown",
   "metadata": {},
   "source": [
    "### Web Scraping (Raspagem de Dados da Web)\n",
    "\n",
    "Técnica de extração automatizada de dados de sites (conteúdo web), com o objetivo de coletar informações que não estão disponíveis em APIs (Application Programming Interfaces) ou em formatos estruturados (como CSV, JSON, etc.). Outra justificativa seria os dados que possuem atualizações contínuas, como preços de ações, taxas de câmbio, entre outros (Web crawlers).\n",
    "\n",
    "* ***Web Scraper***: é específico, voltado para extrair dados de páginas alvo.\n",
    "\n",
    "* ***Web crawlers***: spiders, bots ou web robots - são programas automatizados que navegam pela internet de forma sistemática, visitando páginas da web, seguindo links, e coletando informações.\n",
    "\n",
    "Na prática, os dois podem trabalhar juntos:\n",
    "* O crawler localiza as páginas,\n",
    "* O scraper extrai as informações\n"
   ]
  },
  {
   "cell_type": "markdown",
   "metadata": {},
   "source": [
    "Vamos aprender como realizar uma raspagem de dados da web utilizando a biblioteca **BeautifulSoup** e **Scrapy**.\n",
    "* ***BeautifulSoup***: é uma biblioteca Python para extrair dados de arquivos HTML e XML. Ela fornece métodos para navegar na árvore de análise do documento, pesquisar elementos e extrair informações de forma fácil e intuitiva.\n",
    "* ***Scrapy***: é um framework de código aberto para a construção de web scrapers. Ele fornece uma estrutura robusta para a coleta de dados da web, incluindo recursos avançados como gerenciamento de solicitações, manipulação de cookies, suporte a proxies e muito mais. Scrapy é ideal para projetos maiores e mais complexos, onde você precisa coletar dados de várias páginas ou sites. Além disso, ele permite o armazenamento dos dados em vários formatos, como JSON, CSV ou bancos de dados. \n",
    "* ***pprint***: é uma biblioteca Python que fornece uma função chamada `pprint()` para imprimir objetos Python de forma legível e formatada. É especialmente útil para exibir estruturas de dados complexas, como listas, dicionários e objetos aninhados, de maneira mais compreensível. A função `pprint()` formata a saída com recuos e quebras de linha apropriadas, facilitando a leitura e a compreensão dos dados.\n",
    "* ***selenium***: é uma biblioteca Python que permite automatizar navegadores da web. É amplamente utilizada para testes automatizados de aplicativos da web, mas também pode ser usada para raspagem de dados em sites dinâmicos que dependem de JavaScript para carregar conteúdo. O Selenium simula a interação do usuário com o navegador, permitindo que você navegue por páginas, clique em botões, preencha formulários e colete dados de maneira programática.\n",
    "* ***requests***: é uma biblioteca Python que facilita o envio de solicitações HTTP e a manipulação de respostas. Ela simplifica o processo de fazer requisições a servidores web, permitindo que você obtenha dados de páginas da web, APIs e outros recursos online. A biblioteca `requests` é amplamente utilizada para raspagem de dados, integração com APIs e qualquer tarefa que envolva comunicação com servidores via HTTP."
   ]
  },
  {
   "cell_type": "code",
   "execution_count": 104,
   "metadata": {},
   "outputs": [],
   "source": [
    "import os\n",
    "import re\n",
    "import time\n",
    "import requests\n",
    "import pandas as pd\n",
    "\n",
    "from bs4 import BeautifulSoup\n",
    "from pprint import pprint\n",
    "from selenium import webdriver"
   ]
  },
  {
   "cell_type": "markdown",
   "metadata": {},
   "source": [
    "Vejamos uma forma de coletar as informações em tabelas de modo simples.\n",
    "\n",
    "Fiz uma pesquisa sobre \"PIB nominal per capita\" no Google e encontrei o seguinte site: \n",
    "* https://pt.wikipedia.org/wiki/Lista_de_pa%C3%ADses_por_PIB_nominal_per_capita\n",
    "\n",
    "Ao abrir o site, ele mostra algumas imagens e tabelas com dados sobre o PIB nominal per capita de vários países. O site possui uma formatação HTML. A tabela é uma estrutura de dados tabular que pode ser facilmente manipulada e analisada. Para coletar os dados dessa tabela, podemos carregá-la em um DataFrame do Pandas (de html para DataFrame). Ao carregá-la, podemos manipulá-la e analisá-la como quisermos.\n",
    "\n",
    "**Raspagem com o Pandas**\n"
   ]
  },
  {
   "cell_type": "code",
   "execution_count": 106,
   "metadata": {},
   "outputs": [
    {
     "name": "stdout",
     "output_type": "stream",
     "text": [
      "12\n"
     ]
    }
   ],
   "source": [
    "# Raspagem das tabelas do Wikipedia\n",
    "url = 'https://pt.wikipedia.org/wiki/Lista_de_pa%C3%ADses_por_PIB_nominal_per_capita'\n",
    "df_list = pd.read_html(url)\n",
    "\n",
    "# Checando o número de tabelas encontradas\n",
    "print(len(df_list))"
   ]
  },
  {
   "cell_type": "markdown",
   "metadata": {},
   "source": [
    "Verificando o tamanho de cada tabela"
   ]
  },
  {
   "cell_type": "code",
   "execution_count": 107,
   "metadata": {},
   "outputs": [
    {
     "name": "stdout",
     "output_type": "stream",
     "text": [
      "(1, 2)\n",
      "(1, 3)\n",
      "(609, 3)\n",
      "(192, 3)\n",
      "(196, 3)\n",
      "(216, 3)\n",
      "(6, 2)\n",
      "(10, 3)\n",
      "(3, 2)\n",
      "(4, 2)\n",
      "(16, 2)\n",
      "(5, 2)\n"
     ]
    }
   ],
   "source": [
    "for df in df_list: print(df.shape)"
   ]
  },
  {
   "cell_type": "code",
   "execution_count": 108,
   "metadata": {},
   "outputs": [
    {
     "data": {
      "application/vnd.microsoft.datawrangler.viewer.v0+json": {
       "columns": [
        {
         "name": "index",
         "rawType": "int64",
         "type": "integer"
        },
        {
         "name": "0",
         "rawType": "float64",
         "type": "float"
        },
        {
         "name": "1",
         "rawType": "object",
         "type": "string"
        }
       ],
       "conversionMethod": "pd.DataFrame",
       "ref": "df3e0f4d-1397-4eea-8c00-6cfc4cb761d1",
       "rows": [
        [
         "0",
         null,
         "Este artigo ou seção pode conter informações desatualizadas. Se tem conhecimento sobre o tema abordado, edite a página e inclua as informações mais recentes, citando fontes confiáveis e independentes. —Encontre fontes: ABW • CAPES • Google (notícias • livros • acadêmico)"
        ]
       ],
       "shape": {
        "columns": 2,
        "rows": 1
       }
      },
      "text/html": [
       "<div>\n",
       "<style scoped>\n",
       "    .dataframe tbody tr th:only-of-type {\n",
       "        vertical-align: middle;\n",
       "    }\n",
       "\n",
       "    .dataframe tbody tr th {\n",
       "        vertical-align: top;\n",
       "    }\n",
       "\n",
       "    .dataframe thead th {\n",
       "        text-align: right;\n",
       "    }\n",
       "</style>\n",
       "<table border=\"1\" class=\"dataframe\">\n",
       "  <thead>\n",
       "    <tr style=\"text-align: right;\">\n",
       "      <th></th>\n",
       "      <th>0</th>\n",
       "      <th>1</th>\n",
       "    </tr>\n",
       "  </thead>\n",
       "  <tbody>\n",
       "    <tr>\n",
       "      <th>0</th>\n",
       "      <td>NaN</td>\n",
       "      <td>Este artigo ou seção pode conter informações d...</td>\n",
       "    </tr>\n",
       "  </tbody>\n",
       "</table>\n",
       "</div>"
      ],
      "text/plain": [
       "    0                                                  1\n",
       "0 NaN  Este artigo ou seção pode conter informações d..."
      ]
     },
     "execution_count": 108,
     "metadata": {},
     "output_type": "execute_result"
    }
   ],
   "source": [
    "# Verificando a primeira tabela\n",
    "df_list[0].head()"
   ]
  },
  {
   "cell_type": "code",
   "execution_count": 109,
   "metadata": {},
   "outputs": [
    {
     "data": {
      "application/vnd.microsoft.datawrangler.viewer.v0+json": {
       "columns": [
        {
         "name": "index",
         "rawType": "int64",
         "type": "integer"
        },
        {
         "name": "0",
         "rawType": "object",
         "type": "string"
        },
        {
         "name": "1",
         "rawType": "object",
         "type": "string"
        },
        {
         "name": "2",
         "rawType": "object",
         "type": "string"
        }
       ],
       "conversionMethod": "pd.DataFrame",
       "ref": "0bdb5e2c-d3bd-46d0-b072-e533b9dacb1b",
       "rows": [
        [
         "0",
         ">$60,000 $50,000 - $60,000 $40,000 - $50,000 $30,000 - $40,000",
         "$20,000 - $30,000 $10,000 - $20,000 $5,000 - $10,000 $2,500 - $5,000",
         "$1,000 - $2,500 $500 - $1,000 <$500 Sem dados"
        ]
       ],
       "shape": {
        "columns": 3,
        "rows": 1
       }
      },
      "text/html": [
       "<div>\n",
       "<style scoped>\n",
       "    .dataframe tbody tr th:only-of-type {\n",
       "        vertical-align: middle;\n",
       "    }\n",
       "\n",
       "    .dataframe tbody tr th {\n",
       "        vertical-align: top;\n",
       "    }\n",
       "\n",
       "    .dataframe thead th {\n",
       "        text-align: right;\n",
       "    }\n",
       "</style>\n",
       "<table border=\"1\" class=\"dataframe\">\n",
       "  <thead>\n",
       "    <tr style=\"text-align: right;\">\n",
       "      <th></th>\n",
       "      <th>0</th>\n",
       "      <th>1</th>\n",
       "      <th>2</th>\n",
       "    </tr>\n",
       "  </thead>\n",
       "  <tbody>\n",
       "    <tr>\n",
       "      <th>0</th>\n",
       "      <td>&gt;$60,000 $50,000 - $60,000 $40,000 - $50,000 $...</td>\n",
       "      <td>$20,000 - $30,000 $10,000 - $20,000 $5,000 - $...</td>\n",
       "      <td>$1,000 - $2,500 $500 - $1,000 &lt;$500 Sem dados</td>\n",
       "    </tr>\n",
       "  </tbody>\n",
       "</table>\n",
       "</div>"
      ],
      "text/plain": [
       "                                                   0  \\\n",
       "0  >$60,000 $50,000 - $60,000 $40,000 - $50,000 $...   \n",
       "\n",
       "                                                   1  \\\n",
       "0  $20,000 - $30,000 $10,000 - $20,000 $5,000 - $...   \n",
       "\n",
       "                                               2  \n",
       "0  $1,000 - $2,500 $500 - $1,000 <$500 Sem dados  "
      ]
     },
     "execution_count": 109,
     "metadata": {},
     "output_type": "execute_result"
    }
   ],
   "source": [
    "# Verificando a segunda tabela\n",
    "df_list[1].head()"
   ]
  },
  {
   "cell_type": "code",
   "execution_count": 110,
   "metadata": {},
   "outputs": [
    {
     "data": {
      "application/vnd.microsoft.datawrangler.viewer.v0+json": {
       "columns": [
        {
         "name": "index",
         "rawType": "int64",
         "type": "integer"
        },
        {
         "name": "0",
         "rawType": "object",
         "type": "string"
        },
        {
         "name": "1",
         "rawType": "object",
         "type": "string"
        },
        {
         "name": "2",
         "rawType": "object",
         "type": "string"
        }
       ],
       "conversionMethod": "pd.DataFrame",
       "ref": "2c2e67c6-a076-4994-91b6-d7a2d6bdcd9c",
       "rows": [
        [
         "0",
         "Fundo Monetário Internacional (2024)[3]",
         "Banco Mundial (2019)[4]",
         "Nações Unidas (2018)[5]"
        ],
        [
         "1",
         "Posição País/Território US$ 1  Luxemburgo 131.384 2  Irlanda 106.059 3  Suíça 105.669 4  Noruega 94.660 5  Singapura 88.447 6  Estados Unidos 85.373 7  Islândia 84.594 8  Catar 81.400 —  Macau 78.962 9  Dinamarca 68.898 10  Austrália 66.589 11  Países Baixos 63.750 12  San Marino 59.405 13  Áustria 59.225 14  Suécia 58.529 15  Bélgica 55.536 16  Finlândia 55.127 17  Canadá 54.866 18  Alemanha 54.291 19  Emirados Árabes Unidos 53.916 —  Hong Kong 53.606 20  Israel 53.372 21  Reino Unido 51.075 22  Nova Zelândia 48.531 23  França 47.359 24  Malta 41.738 25  Itália 39.580 —  Aruba 38.018 —  Porto Rico 37.172 26  Chipre 37.149 27  Bahamas 35.257 28  Brunei 35.111 —  Taiwan 34.432 29  Coreia do Sul 34.165 30  Espanha 34.045 31  Eslovênia 34.026 32  Japão 33.138 33  Arábia Saudita 33.040 34  Estónia 31.855 35  Kuwait 31.724 36  Chéquia 29.801 37  Portugal 28.969 38  Bahrein 28.876 39  Lituânia 28.407 40  Guiana 26.592 41  Eslováquia 25.935 42  Letônia 24.194 43  Grécia 23.966 44  São Cristóvão e Neves 23.705 45  Barbados 23.596 46  Hungria 23.319 47  Uruguai 23.088 48  Polónia 23.014 49  Croácia 22.966 50  Seicheles 21.875 51  Omã 20.913 52  Antígua e Barbuda 20.533 53  Trinidad e Tobago 19.861 54  Roménia 19.530 55  Panamá 19.369 56  Costa Rica 18.031 57  Maldivas 17.818 58  Palau 17.441 59  Bulgária 16.943 60  Chile 16.616 61  México 15.249 62  Cazaquistão 14.778 63  Rússia 14.391 64  Santa Lúcia 14.101 —  Mundo 13.840 65  Malásia 13.315 66  China 13.136 67  Ilhas Maurícias 12.973 68  Argentina 12.812 69  Turquia 12.765 70  Montenegro 12.646 71  Turquemenistão 12.412 72  Sérvia 12.384 73  Nauru 12.362 74  Granada 12.255 75  República Dominicana 11.774 76  Brasil 11.352 77  São Vicente e Granadinas 10.150 78  Dominica 9.455 79  Gabão 9.308 80  Albânia 8.924 81  Geórgia 8.825 82  Armênia 8.575 83  Bósnia e Herzegovina 8.416 84  Peru 8.291 85  Botswana 7.875 86  Tailândia 7.812 87  Macedônia do Norte 7.694 88  Azerbaijão 7.641 89  Bielorrússia 7.558 90  Moldávia 7.488 91  Colômbia 7.327 92  Jamaica 7.309 93  Belize 7.170 94  Líbia 6.975 95  Guiné Equatorial 6.733 96  Ilhas Marshall 6.711 97  Suriname 6.702 98  Equador 6.567 —  Kosovo 6.389 99  Fiji 6.287 100  Mongólia 6.182 101  Tuvalu 6.001 102  Paraguai 5.984 103  Iraque 5.979 104  África do Sul 5.975 105  Tonga 5.840 106  Argélia 5.722 107  Guatemala 5.678 108  Ucrânia 5.663 109  El Salvador 5.537 110  Indonésia 5.271 111  Estados Federados da Micronésia 5.120 112  Samoa 4.840 113  Namíbia 4.745 114  Jordânia 4.705 115  Cabo Verde 4.656 116  Vietname 4.623 117  Tunísia 4.435 118  Essuatíni 4.324 119  Djibuti 4.184 120  Filipinas 4.130 121  Marrocos 4.078 122  Bolívia 4.014 122  Butão 4.014 124  Venezuela 3.867 125  Vanuatu 3.734 126  Honduras 3.505 127  Sri Lanka 3.342 128  Líbano 3.283 129  Egito 3.225 130  São Tomé e Príncipe 3.167 131  Nicarágua 2.791 132  Índia 2.731 133  Costa do Marfim 2.717 134  Uzbequistão 2.666 135  Bangladesh 2.646 136  Camboja 2.628 137  Papua-Nova Guiné 2.530 138  República do Congo 2.457 139  Kiribati 2.446 140  Angola 2.432 141  Mauritânia 2.347 142  Ilhas Salomão 2.253 143  Gana 2.230 144  Zimbabwe 2.088 145  Quênia 1.983 146  Laos 1.976 147  Haiti 1.941 148  Quirguistão 1.922 149  Etiópia 1.910 150  Senegal 1.900 151  Camarões 1.815 152  Guiné 1.651 153  Benim 1.512 154  Paquistão 1.461 155  Timor-Leste 1.454 156  Zâmbia 1.413 157  Nepal 1.397 158  Comores 1.384 159  Tajiquistão 1.271 160  Myanmar 1.248 161  Tanzânia 1.220 162  Uganda 1.202 163  Nigéria 1.110 164  Lesoto 1.107 165  Guiné-Bissau 1.087 166  Togo 1.058 167  Chade 1.014 168  Ruanda 989 168  Gâmbia 989 170  Burquina Fasso 910 171  Mali 899 172  Libéria 855 173  República Democrática do Congo 715 174  Níger 670 175  Moçambique 659 176  Sudão 547 177  Madagáscar 538 177  República Centro-Africana 538 179  Serra Leoa 527 180  Irão 516 181  Iêmen 486 182  Malawi 481 183  Afeganistão 422 183  Sudão do Sul 422 185  Burundi 230",
         "Posição País/Território US$ 1  Mónaco[6] 190.512 2  Liechtenstein (2018)[6] 180.366 3  Luxemburgo 114.705 —  Macau 84.096 4  Suíça 81.994 5  Irlanda 78.661 6  Noruega 75.420 7  Islândia 66.945 8  Estados Unidos 65.281 9  Singapura 65.233 10  Catar 64.782 11  Dinamarca 59.822 12  Austrália 54.907 13  Países Baixos 52.448 14  Suécia 51.610 15  Áustria 50.277 —  Hong Kong 48.756 16  Finlândia 48.686 17  San Marino (2018) 48.481 18  Alemanha 46.259 19  Canadá 46.195 20  Bélgica 46.117 21  Israel 43.641 22  Emirados Árabes Unidos 43.103 23  Reino Unido 42.300 24  Nova Zelândia 42.084 25  Andorra 40.886 26  França 40.494 27  Japão 40.247 —  União Europeia 34.843 28  Itália 33.190 29  Bahamas 32.934 —  Porto Rico 32.874 30  Kuwait 32.032 31  Coreia do Sul 31.762 32  Brunei 31.087 33  Espanha 29.614 34  Malta 29.416 35  Chipre 27.858 36  Eslovênia 25.739 37  Estónia 23.660 38  Bahrein 23.504 39  Portugal 23.145 40  Arábia Saudita 23.140 41  Chéquia 23.102 42  São Cristóvão e Neves 19.897 43  Grécia 19.583 44  Lituânia 19.456 45  Eslováquia 19.329 46  Barbados 18.148 47  Letônia 17.836 48  Antígua e Barbuda 17.790 49  Seicheles 17.402 50  Trinidad e Tobago 17.277 51  Hungria 16.476 52  Uruguai 16.190 53  Venezuela (2014) 16.055 54  Palau 15.859 55  Panamá 15.731 56  Polónia 15.595 57  Omã 15.474 58  Chile 14.897 59  Croácia 14.853 60  Roménia 12.920 61  Costa Rica 12.238 62  Brasil 11.611 63  Rússia 11.585 —  Mundo 11.429 64  Malásia 11.415 65  Ilhas Maurícias 11.204 66  Granada 10.966 67  Maldivas 10.791 68  China 10.262 69  Argentina 10.006 70  México 9.863 71  Bulgária 9.738 72  Cazaquistão 9.731 73  Nauru 9.397 74  Turquia 9.043 75  Montenegro 8.832 76  Cuba (2018) 8.822 77  Santa Lúcia 8.717 78  Dominica 8.300 79  República Dominicana 8.282 80  Guiné Equatorial 8.132 81  Botswana 7.961 82  Tailândia 7.808 83  Líbano 7.784 84  Líbia 7.684 85  Gabão 7.667 86  São Vicente e Granadinas 7.464 87  Sérvia 7.402 88  Peru 6.978 89  Turquemenistão 6.967 90  Suriname 6.855 91  Bielorrússia 6.663 92  Colômbia 6.432 93  Fiji 6.220 94  Equador 6.184 95  Macedônia do Norte 6.093 96  Bósnia e Herzegovina 6.073 97  África do Sul 6.001 98  Iraque 5.955 99  Jamaica 5.582 100  Irão (2017) 5.520 101  Guiana 5.468 102  Paraguai 5.415 103  Albânia 5.353 104  Namíbia 4.958 105  Belize 4.815 106  Azerbaijão 4.794 107  Geórgia 4.769 108  Armênia 4.623 109  Guatemala 4.620 110  Moldávia 4.499 —  Kosovo 4.418 111  Tonga (2018) 4.364 112  Jordânia 4.330 113  Samoa 4.316 114  Mongólia 4.295 115  El Salvador 4.187 116  Indonésia 4.136 117  Tuvalu 4.059 118  Argélia 3.948 119  Sri Lanka 3.853 120  Essuatíni 3.837 121  Ilhas Marshall (2008) 3.788 122  Ucrânia 3.659 123  Cabo Verde 3.604 124  Estados Federados da Micronésia (2018) 3.568 125  Bolívia 3.552 126  Filipinas 3.485 127  Djibuti 3.409 128  Tunísia 3.318 129  Butão (2008) 3.243 130  Marrocos 3.204 —  Cisjordânia e Faixa de Gaza (2008) 3.199 131  Vanuatu 3.058 132  Egito 3.020 133  Angola 2.974 134  Papua-Nova Guiné 2.845 135  Vietname 2.715 136  Honduras 2.575 137  Laos 2.535 138  Costa do Marfim 2.286 139  Nigéria 2.230 140  Gana 2.202 141  Ilhas Salomão 2.128 142  Índia 2.104 143  Síria (2007) 2.033 144  República do Congo 2.011 145  São Tomé e Príncipe 1.995 146  Nicarágua 1.913 147  Bangladesh 1.856 148  Quênia 1.817 149  Uzbequistão 1.725 150  Mauritânia 1.678 151  Kiribati 1.655 152  Camboja 1.643 153  Camarões 1.498 154  Zimbabwe 1.464 155  Senegal 1.447 156  Myanmar 1.408 157  Comores 1.394 158  Quirguistão 1.309 159  Timor-Leste 1.294 160  Zâmbia 1.291 161  Paquistão 1.285 162  Benim 1.219 163  Lesoto 1.158 164  Tanzânia 1.122 165  Nepal 1.071 166  Guiné 1.064 167  Iêmen 968 168  Mali 891 169  Tajiquistão 871 170  Etiópia 858 171  Ruanda 802 172  Uganda 777 173  Burquina Fasso 775 174  Haiti 755 175  Gâmbia 751 176  Chade 710 177  Guiné-Bissau 698 178  Togo 676 179  Libéria 622 180  Níger 555 181  República Democrática do Congo 545 182  Madagáscar 522 183  Serra Leoa 505 184  Afeganistão 502 185  Moçambique 492 186  República Centro-Africana 468 187  Sudão 442 188  Malawi 412 189  Burundi 261",
         "Posição País/Território US$ 1  Mónaco 185.835 2  Liechtenstein 179.258 3  Luxemburgo 117.370 4  Bermudas 101.208 5  Macau 86.355 6  Ilhas Caimã 85.474 4  Suíça 82.709 5  Noruega 81.336 6  Irlanda 79.415 7  Islândia 76.867 8  Catar 68.794 9  Estados Unidos 62.918 10  Singapura 62.721 11  Dinamarca 61.834 12  Austrália 58.393 13  Suécia 55.767 —  Gronelândia 53.950 14  Países Baixos 53.583 15  Áustria 51.230 16  Finlândia 50.136 —  Hong Kong 49.199 —  Ilhas Virgens Britânicas 48.511 17  San Marino 48.473 18  Alemanha 47.514 19  Bélgica 47.293 20  Canadá 46.192 21  Israel 44.215 22  Nova Zelândia 43.836 23  Emirados Árabes Unidos 43.005 24  Reino Unido 42.526 25  Andorra 42.052 26  França 41.358 27  Japão 39.082 —  Nova Caledônia 36.335 28  Itália 34.389 29  Kuwait 34.249 30  Coreia do Sul 33.622 —  Porto Rico 33.271 31  Malta 33.123 32  Bahamas 32.218 33  Brunei 31.627 34  Espanha 30.406 —  Aruba 30.262 —  Europa 29.279 35  Chipre 28.968 —  América 27.722 —  Turcas e Caicos 27.142 36  Eslovênia 26.005 37  Bahrein 24.134 38  Portugal 23.478 39  Estónia 23.242 40  Arábia Saudita 23.217 41  Chéquia 22.992 —  Polinésia Francesa 21.968 42  Grécia 20.731 —  Ilhas Cook 20.705 —  Anguila 19.891 43  Eslováquia 19.431 44  São Cristóvão e Neves 19.275 —  Curaçau 19.219 45  Lituânia 19.083 46  Omã 19.073 47  Letônia 17.852 48  Barbados 17.746 49  Uruguai 17.278 50  Trinidad e Tobago 17.130 51  Antígua e Barbuda 16.727 52  Seicheles 16.378 53  Hungria 16.264 54  Chile 15.923 55  Palau 15.859 56  Panamá 15.575 57  Polónia 15.444 58  Croácia 14.674 —  Monserrate 12.754 59  Roménia 12.281 60  Costa Rica 12.027 61  Nauru 11.876 62  Argentina 11.688 63  Rússia 11.394 64  Malásia 11.373 —  Mundo 11.232 65  Ilhas Maurícias 11.222 66  Brasil 10.566 67  Granada 10.486 68  Maldivas 10.331 69  Guiné Equatorial 10.179 70  Cazaquistão 9.790 71  México 9.695 72  China 9.532 73  Bulgária 9.388 74  Turquia 9.368 75  Santa Lúcia 8.921 76  Cuba 8.822 77  Montenegro 8.772 —  América do Sul 8.746 —  América Central 8.503 78  Botswana 8.258 79  Líbano 8.224 80  Gabão 8.019 81  Dominica 7.691 82  República Dominicana 7.650 83  São Vicente e Granadinas 7.361 84  Tailândia 7.274 85  Venezuela 7.212 86  Sérvia 7.209 87  Turquemenistão 6.965 88  Peru 6.947 89  Colômbia 6.650 90  África do Sul 6.369 91  Equador 6.345 92  Bielorrússia 6.312 93  Fiji 6.267 94  Macedônia do Norte 6.063 95  Suriname 6.004 96  Bósnia e Herzegovina 5.951 97  Namíbia 5.930 98  Irão 5.795 99  Iraque 5.783 100  Jamaica 5.523 101  Albânia 5.354 102  Guiana 5.224 103  Líbia 5.147 104  Belize 4.901 105  Tonga 4.886 106  Guatemala 4.885 107  Azerbaijão 4.718 108  Samoa 4.549 —  Kosovo 4.453 109  Geórgia 4.397 110  Paraguai 4.250 111  Jordânia 4.238 112  Armênia 4.212 113  Sri Lanka 4.190 114  Essuatíni 4.146 115  Argélia 4.115 116  Mongólia 4.104 117  El Salvador 4.058 118  Tuvalu 4.001 119  Indonésia 3.893 120  Ilhas Marshall 3.667 121  Cabo Verde 3.635 122  Bolívia 3.549 123  Butão 3.524 124  Tunísia 3.450 125  Angola 3.437 —  Palestina 3.347 126  Estados Federados da Micronésia 3.296 127  Marrocos 3.273 128  Filipinas 3.103 129  Djibuti 3.049 130  Vanuatu 3.037 131  Ucrânia 2.957 132  Moldávia 2.791 133  República do Congo 2.703 134  Papua-Nova Guiné 2.681 135  Vietname 2.563 136  Laos 2.542 137  Egito 2.538 138  Honduras 2.500 139  Gana 2.202 140  Nigéria 2.154 141  Índia 2.055 142  Timor-Leste 2.036 143  Nicarágua 2.029 144  Eritreia 1.985 145  São Tomé e Príncipe 1.948 146  Ilhas Salomão 1.947 —  África 1.856 147  Mauritânia 1.730 148  Costa do Marfim 1.716 149  Quênia 1.710 150  Zimbabwe 1.684 151  Bangladesh 1.671 152  Kiribati 1.627 153  Zâmbia 1.572 154  Uzbequistão 1.555 155  Camarões 1.534 156  Camboja 1.512 157  Senegal 1.502 158  Comores 1.401 159  Myanmar 1.354 160  Paquistão 1.330 161  Quirguistão 1.284 162  Lesoto 1.248 163  Sudão 1.208 164  Tanzânia 1.044 165  Nepal 991 166  Síria 981 167  Guiné 938 168  Iêmen 936 169  Benim 907 170  Mali 900 171  Haiti 835 172  Tajiquistão 827 173  Burquina Fasso 820 174  Guiné-Bissau 778 175  Ruanda 773 176  Sudão do Sul 748 177  Chade 736 178  Etiópia 735 179  Gâmbia 716 180  Uganda 704 181  Coreia do Norte 688 182  Togo 655 183  Níger 571 184  República Democrática do Congo 561 185  Afeganistão 552 186  Serra Leoa 536 187  Madagáscar 527 188  Moçambique 499 189  República Centro-Africana 481 190  Libéria 440 191  Malawi 397 192  Burundi 294 193  Somália 100"
        ],
        [
         "2",
         "Posição",
         "País/Território",
         "US$"
        ],
        [
         "3",
         "1",
         "Luxemburgo",
         "131.384"
        ],
        [
         "4",
         "2",
         "Irlanda",
         "106.059"
        ],
        [
         "5",
         "3",
         "Suíça",
         "105.669"
        ],
        [
         "6",
         "4",
         "Noruega",
         "94.660"
        ],
        [
         "7",
         "5",
         "Singapura",
         "88.447"
        ],
        [
         "8",
         "6",
         "Estados Unidos",
         "85.373"
        ],
        [
         "9",
         "7",
         "Islândia",
         "84.594"
        ]
       ],
       "shape": {
        "columns": 3,
        "rows": 10
       }
      },
      "text/html": [
       "<div>\n",
       "<style scoped>\n",
       "    .dataframe tbody tr th:only-of-type {\n",
       "        vertical-align: middle;\n",
       "    }\n",
       "\n",
       "    .dataframe tbody tr th {\n",
       "        vertical-align: top;\n",
       "    }\n",
       "\n",
       "    .dataframe thead th {\n",
       "        text-align: right;\n",
       "    }\n",
       "</style>\n",
       "<table border=\"1\" class=\"dataframe\">\n",
       "  <thead>\n",
       "    <tr style=\"text-align: right;\">\n",
       "      <th></th>\n",
       "      <th>0</th>\n",
       "      <th>1</th>\n",
       "      <th>2</th>\n",
       "    </tr>\n",
       "  </thead>\n",
       "  <tbody>\n",
       "    <tr>\n",
       "      <th>0</th>\n",
       "      <td>Fundo Monetário Internacional (2024)[3]</td>\n",
       "      <td>Banco Mundial (2019)[4]</td>\n",
       "      <td>Nações Unidas (2018)[5]</td>\n",
       "    </tr>\n",
       "    <tr>\n",
       "      <th>1</th>\n",
       "      <td>Posição País/Território US$ 1  Luxemburgo 131....</td>\n",
       "      <td>Posição País/Território US$ 1  Mónaco[6] 190.5...</td>\n",
       "      <td>Posição País/Território US$ 1  Mónaco 185.835 ...</td>\n",
       "    </tr>\n",
       "    <tr>\n",
       "      <th>2</th>\n",
       "      <td>Posição</td>\n",
       "      <td>País/Território</td>\n",
       "      <td>US$</td>\n",
       "    </tr>\n",
       "    <tr>\n",
       "      <th>3</th>\n",
       "      <td>1</td>\n",
       "      <td>Luxemburgo</td>\n",
       "      <td>131.384</td>\n",
       "    </tr>\n",
       "    <tr>\n",
       "      <th>4</th>\n",
       "      <td>2</td>\n",
       "      <td>Irlanda</td>\n",
       "      <td>106.059</td>\n",
       "    </tr>\n",
       "    <tr>\n",
       "      <th>5</th>\n",
       "      <td>3</td>\n",
       "      <td>Suíça</td>\n",
       "      <td>105.669</td>\n",
       "    </tr>\n",
       "    <tr>\n",
       "      <th>6</th>\n",
       "      <td>4</td>\n",
       "      <td>Noruega</td>\n",
       "      <td>94.660</td>\n",
       "    </tr>\n",
       "    <tr>\n",
       "      <th>7</th>\n",
       "      <td>5</td>\n",
       "      <td>Singapura</td>\n",
       "      <td>88.447</td>\n",
       "    </tr>\n",
       "    <tr>\n",
       "      <th>8</th>\n",
       "      <td>6</td>\n",
       "      <td>Estados Unidos</td>\n",
       "      <td>85.373</td>\n",
       "    </tr>\n",
       "    <tr>\n",
       "      <th>9</th>\n",
       "      <td>7</td>\n",
       "      <td>Islândia</td>\n",
       "      <td>84.594</td>\n",
       "    </tr>\n",
       "  </tbody>\n",
       "</table>\n",
       "</div>"
      ],
      "text/plain": [
       "                                                   0  \\\n",
       "0            Fundo Monetário Internacional (2024)[3]   \n",
       "1  Posição País/Território US$ 1  Luxemburgo 131....   \n",
       "2                                            Posição   \n",
       "3                                                  1   \n",
       "4                                                  2   \n",
       "5                                                  3   \n",
       "6                                                  4   \n",
       "7                                                  5   \n",
       "8                                                  6   \n",
       "9                                                  7   \n",
       "\n",
       "                                                   1  \\\n",
       "0                            Banco Mundial (2019)[4]   \n",
       "1  Posição País/Território US$ 1  Mónaco[6] 190.5...   \n",
       "2                                    País/Território   \n",
       "3                                         Luxemburgo   \n",
       "4                                            Irlanda   \n",
       "5                                              Suíça   \n",
       "6                                            Noruega   \n",
       "7                                          Singapura   \n",
       "8                                     Estados Unidos   \n",
       "9                                           Islândia   \n",
       "\n",
       "                                                   2  \n",
       "0                            Nações Unidas (2018)[5]  \n",
       "1  Posição País/Território US$ 1  Mónaco 185.835 ...  \n",
       "2                                                US$  \n",
       "3                                            131.384  \n",
       "4                                            106.059  \n",
       "5                                            105.669  \n",
       "6                                             94.660  \n",
       "7                                             88.447  \n",
       "8                                             85.373  \n",
       "9                                             84.594  "
      ]
     },
     "execution_count": 110,
     "metadata": {},
     "output_type": "execute_result"
    }
   ],
   "source": [
    "# Verificando a terceira tabela\n",
    "df_list[2].head(10)"
   ]
  },
  {
   "cell_type": "code",
   "execution_count": 111,
   "metadata": {},
   "outputs": [
    {
     "data": {
      "application/vnd.microsoft.datawrangler.viewer.v0+json": {
       "columns": [
        {
         "name": "index",
         "rawType": "int64",
         "type": "integer"
        },
        {
         "name": "Posição",
         "rawType": "object",
         "type": "string"
        },
        {
         "name": "País/Território",
         "rawType": "object",
         "type": "string"
        },
        {
         "name": "US$",
         "rawType": "float64",
         "type": "float"
        }
       ],
       "conversionMethod": "pd.DataFrame",
       "ref": "55f79f48-d7f0-4711-805d-85fe7c21b6cf",
       "rows": [
        [
         "0",
         "1",
         "Luxemburgo",
         "131.384"
        ],
        [
         "1",
         "2",
         "Irlanda",
         "106.059"
        ],
        [
         "2",
         "3",
         "Suíça",
         "105.669"
        ],
        [
         "3",
         "4",
         "Noruega",
         "94.66"
        ],
        [
         "4",
         "5",
         "Singapura",
         "88.447"
        ],
        [
         "5",
         "6",
         "Estados Unidos",
         "85.373"
        ],
        [
         "6",
         "7",
         "Islândia",
         "84.594"
        ],
        [
         "7",
         "8",
         "Catar",
         "81.4"
        ],
        [
         "8",
         "—",
         "Macau",
         "78.962"
        ],
        [
         "9",
         "9",
         "Dinamarca",
         "68.898"
        ]
       ],
       "shape": {
        "columns": 3,
        "rows": 10
       }
      },
      "text/html": [
       "<div>\n",
       "<style scoped>\n",
       "    .dataframe tbody tr th:only-of-type {\n",
       "        vertical-align: middle;\n",
       "    }\n",
       "\n",
       "    .dataframe tbody tr th {\n",
       "        vertical-align: top;\n",
       "    }\n",
       "\n",
       "    .dataframe thead th {\n",
       "        text-align: right;\n",
       "    }\n",
       "</style>\n",
       "<table border=\"1\" class=\"dataframe\">\n",
       "  <thead>\n",
       "    <tr style=\"text-align: right;\">\n",
       "      <th></th>\n",
       "      <th>Posição</th>\n",
       "      <th>País/Território</th>\n",
       "      <th>US$</th>\n",
       "    </tr>\n",
       "  </thead>\n",
       "  <tbody>\n",
       "    <tr>\n",
       "      <th>0</th>\n",
       "      <td>1</td>\n",
       "      <td>Luxemburgo</td>\n",
       "      <td>131.384</td>\n",
       "    </tr>\n",
       "    <tr>\n",
       "      <th>1</th>\n",
       "      <td>2</td>\n",
       "      <td>Irlanda</td>\n",
       "      <td>106.059</td>\n",
       "    </tr>\n",
       "    <tr>\n",
       "      <th>2</th>\n",
       "      <td>3</td>\n",
       "      <td>Suíça</td>\n",
       "      <td>105.669</td>\n",
       "    </tr>\n",
       "    <tr>\n",
       "      <th>3</th>\n",
       "      <td>4</td>\n",
       "      <td>Noruega</td>\n",
       "      <td>94.660</td>\n",
       "    </tr>\n",
       "    <tr>\n",
       "      <th>4</th>\n",
       "      <td>5</td>\n",
       "      <td>Singapura</td>\n",
       "      <td>88.447</td>\n",
       "    </tr>\n",
       "    <tr>\n",
       "      <th>5</th>\n",
       "      <td>6</td>\n",
       "      <td>Estados Unidos</td>\n",
       "      <td>85.373</td>\n",
       "    </tr>\n",
       "    <tr>\n",
       "      <th>6</th>\n",
       "      <td>7</td>\n",
       "      <td>Islândia</td>\n",
       "      <td>84.594</td>\n",
       "    </tr>\n",
       "    <tr>\n",
       "      <th>7</th>\n",
       "      <td>8</td>\n",
       "      <td>Catar</td>\n",
       "      <td>81.400</td>\n",
       "    </tr>\n",
       "    <tr>\n",
       "      <th>8</th>\n",
       "      <td>—</td>\n",
       "      <td>Macau</td>\n",
       "      <td>78.962</td>\n",
       "    </tr>\n",
       "    <tr>\n",
       "      <th>9</th>\n",
       "      <td>9</td>\n",
       "      <td>Dinamarca</td>\n",
       "      <td>68.898</td>\n",
       "    </tr>\n",
       "  </tbody>\n",
       "</table>\n",
       "</div>"
      ],
      "text/plain": [
       "  Posição País/Território      US$\n",
       "0       1      Luxemburgo  131.384\n",
       "1       2         Irlanda  106.059\n",
       "2       3           Suíça  105.669\n",
       "3       4         Noruega   94.660\n",
       "4       5       Singapura   88.447\n",
       "5       6  Estados Unidos   85.373\n",
       "6       7        Islândia   84.594\n",
       "7       8           Catar   81.400\n",
       "8       —           Macau   78.962\n",
       "9       9       Dinamarca   68.898"
      ]
     },
     "execution_count": 111,
     "metadata": {},
     "output_type": "execute_result"
    }
   ],
   "source": [
    "# Verificando a quarta tabela\n",
    "df_list[3].head(10)"
   ]
  },
  {
   "cell_type": "code",
   "execution_count": 112,
   "metadata": {},
   "outputs": [
    {
     "data": {
      "application/vnd.microsoft.datawrangler.viewer.v0+json": {
       "columns": [
        {
         "name": "index",
         "rawType": "int64",
         "type": "integer"
        },
        {
         "name": "Posição",
         "rawType": "object",
         "type": "string"
        },
        {
         "name": "País/Território",
         "rawType": "object",
         "type": "string"
        },
        {
         "name": "US$",
         "rawType": "float64",
         "type": "float"
        }
       ],
       "conversionMethod": "pd.DataFrame",
       "ref": "585e8758-62cc-43be-80b4-666457b2cced",
       "rows": [
        [
         "0",
         "1",
         "Mónaco[6]",
         "190.512"
        ],
        [
         "1",
         "2",
         "Liechtenstein (2018)[6]",
         "180.366"
        ],
        [
         "2",
         "3",
         "Luxemburgo",
         "114.705"
        ],
        [
         "3",
         "—",
         "Macau",
         "84.096"
        ],
        [
         "4",
         "4",
         "Suíça",
         "81.994"
        ],
        [
         "5",
         "5",
         "Irlanda",
         "78.661"
        ],
        [
         "6",
         "6",
         "Noruega",
         "75.42"
        ],
        [
         "7",
         "7",
         "Islândia",
         "66.945"
        ],
        [
         "8",
         "8",
         "Estados Unidos",
         "65.281"
        ],
        [
         "9",
         "9",
         "Singapura",
         "65.233"
        ]
       ],
       "shape": {
        "columns": 3,
        "rows": 10
       }
      },
      "text/html": [
       "<div>\n",
       "<style scoped>\n",
       "    .dataframe tbody tr th:only-of-type {\n",
       "        vertical-align: middle;\n",
       "    }\n",
       "\n",
       "    .dataframe tbody tr th {\n",
       "        vertical-align: top;\n",
       "    }\n",
       "\n",
       "    .dataframe thead th {\n",
       "        text-align: right;\n",
       "    }\n",
       "</style>\n",
       "<table border=\"1\" class=\"dataframe\">\n",
       "  <thead>\n",
       "    <tr style=\"text-align: right;\">\n",
       "      <th></th>\n",
       "      <th>Posição</th>\n",
       "      <th>País/Território</th>\n",
       "      <th>US$</th>\n",
       "    </tr>\n",
       "  </thead>\n",
       "  <tbody>\n",
       "    <tr>\n",
       "      <th>0</th>\n",
       "      <td>1</td>\n",
       "      <td>Mónaco[6]</td>\n",
       "      <td>190.512</td>\n",
       "    </tr>\n",
       "    <tr>\n",
       "      <th>1</th>\n",
       "      <td>2</td>\n",
       "      <td>Liechtenstein (2018)[6]</td>\n",
       "      <td>180.366</td>\n",
       "    </tr>\n",
       "    <tr>\n",
       "      <th>2</th>\n",
       "      <td>3</td>\n",
       "      <td>Luxemburgo</td>\n",
       "      <td>114.705</td>\n",
       "    </tr>\n",
       "    <tr>\n",
       "      <th>3</th>\n",
       "      <td>—</td>\n",
       "      <td>Macau</td>\n",
       "      <td>84.096</td>\n",
       "    </tr>\n",
       "    <tr>\n",
       "      <th>4</th>\n",
       "      <td>4</td>\n",
       "      <td>Suíça</td>\n",
       "      <td>81.994</td>\n",
       "    </tr>\n",
       "    <tr>\n",
       "      <th>5</th>\n",
       "      <td>5</td>\n",
       "      <td>Irlanda</td>\n",
       "      <td>78.661</td>\n",
       "    </tr>\n",
       "    <tr>\n",
       "      <th>6</th>\n",
       "      <td>6</td>\n",
       "      <td>Noruega</td>\n",
       "      <td>75.420</td>\n",
       "    </tr>\n",
       "    <tr>\n",
       "      <th>7</th>\n",
       "      <td>7</td>\n",
       "      <td>Islândia</td>\n",
       "      <td>66.945</td>\n",
       "    </tr>\n",
       "    <tr>\n",
       "      <th>8</th>\n",
       "      <td>8</td>\n",
       "      <td>Estados Unidos</td>\n",
       "      <td>65.281</td>\n",
       "    </tr>\n",
       "    <tr>\n",
       "      <th>9</th>\n",
       "      <td>9</td>\n",
       "      <td>Singapura</td>\n",
       "      <td>65.233</td>\n",
       "    </tr>\n",
       "  </tbody>\n",
       "</table>\n",
       "</div>"
      ],
      "text/plain": [
       "  Posição          País/Território      US$\n",
       "0       1                Mónaco[6]  190.512\n",
       "1       2  Liechtenstein (2018)[6]  180.366\n",
       "2       3               Luxemburgo  114.705\n",
       "3       —                    Macau   84.096\n",
       "4       4                    Suíça   81.994\n",
       "5       5                  Irlanda   78.661\n",
       "6       6                  Noruega   75.420\n",
       "7       7                 Islândia   66.945\n",
       "8       8           Estados Unidos   65.281\n",
       "9       9                Singapura   65.233"
      ]
     },
     "execution_count": 112,
     "metadata": {},
     "output_type": "execute_result"
    }
   ],
   "source": [
    "# Verificando a quinta tabela\n",
    "df_list[4].head(10)"
   ]
  },
  {
   "cell_type": "code",
   "execution_count": 113,
   "metadata": {},
   "outputs": [
    {
     "data": {
      "application/vnd.microsoft.datawrangler.viewer.v0+json": {
       "columns": [
        {
         "name": "index",
         "rawType": "int64",
         "type": "integer"
        },
        {
         "name": "Posição",
         "rawType": "object",
         "type": "string"
        },
        {
         "name": "País/Território",
         "rawType": "object",
         "type": "string"
        },
        {
         "name": "US$",
         "rawType": "float64",
         "type": "float"
        }
       ],
       "conversionMethod": "pd.DataFrame",
       "ref": "78d2543a-fba5-4308-9e02-d395717b2d3d",
       "rows": [
        [
         "0",
         "1",
         "Mónaco",
         "185.835"
        ],
        [
         "1",
         "2",
         "Liechtenstein",
         "179.258"
        ],
        [
         "2",
         "3",
         "Luxemburgo",
         "117.37"
        ],
        [
         "3",
         "4",
         "Bermudas",
         "101.208"
        ],
        [
         "4",
         "5",
         "Macau",
         "86.355"
        ],
        [
         "5",
         "6",
         "Ilhas Caimã",
         "85.474"
        ],
        [
         "6",
         "4",
         "Suíça",
         "82.709"
        ],
        [
         "7",
         "5",
         "Noruega",
         "81.336"
        ],
        [
         "8",
         "6",
         "Irlanda",
         "79.415"
        ],
        [
         "9",
         "7",
         "Islândia",
         "76.867"
        ]
       ],
       "shape": {
        "columns": 3,
        "rows": 10
       }
      },
      "text/html": [
       "<div>\n",
       "<style scoped>\n",
       "    .dataframe tbody tr th:only-of-type {\n",
       "        vertical-align: middle;\n",
       "    }\n",
       "\n",
       "    .dataframe tbody tr th {\n",
       "        vertical-align: top;\n",
       "    }\n",
       "\n",
       "    .dataframe thead th {\n",
       "        text-align: right;\n",
       "    }\n",
       "</style>\n",
       "<table border=\"1\" class=\"dataframe\">\n",
       "  <thead>\n",
       "    <tr style=\"text-align: right;\">\n",
       "      <th></th>\n",
       "      <th>Posição</th>\n",
       "      <th>País/Território</th>\n",
       "      <th>US$</th>\n",
       "    </tr>\n",
       "  </thead>\n",
       "  <tbody>\n",
       "    <tr>\n",
       "      <th>0</th>\n",
       "      <td>1</td>\n",
       "      <td>Mónaco</td>\n",
       "      <td>185.835</td>\n",
       "    </tr>\n",
       "    <tr>\n",
       "      <th>1</th>\n",
       "      <td>2</td>\n",
       "      <td>Liechtenstein</td>\n",
       "      <td>179.258</td>\n",
       "    </tr>\n",
       "    <tr>\n",
       "      <th>2</th>\n",
       "      <td>3</td>\n",
       "      <td>Luxemburgo</td>\n",
       "      <td>117.370</td>\n",
       "    </tr>\n",
       "    <tr>\n",
       "      <th>3</th>\n",
       "      <td>4</td>\n",
       "      <td>Bermudas</td>\n",
       "      <td>101.208</td>\n",
       "    </tr>\n",
       "    <tr>\n",
       "      <th>4</th>\n",
       "      <td>5</td>\n",
       "      <td>Macau</td>\n",
       "      <td>86.355</td>\n",
       "    </tr>\n",
       "    <tr>\n",
       "      <th>5</th>\n",
       "      <td>6</td>\n",
       "      <td>Ilhas Caimã</td>\n",
       "      <td>85.474</td>\n",
       "    </tr>\n",
       "    <tr>\n",
       "      <th>6</th>\n",
       "      <td>4</td>\n",
       "      <td>Suíça</td>\n",
       "      <td>82.709</td>\n",
       "    </tr>\n",
       "    <tr>\n",
       "      <th>7</th>\n",
       "      <td>5</td>\n",
       "      <td>Noruega</td>\n",
       "      <td>81.336</td>\n",
       "    </tr>\n",
       "    <tr>\n",
       "      <th>8</th>\n",
       "      <td>6</td>\n",
       "      <td>Irlanda</td>\n",
       "      <td>79.415</td>\n",
       "    </tr>\n",
       "    <tr>\n",
       "      <th>9</th>\n",
       "      <td>7</td>\n",
       "      <td>Islândia</td>\n",
       "      <td>76.867</td>\n",
       "    </tr>\n",
       "  </tbody>\n",
       "</table>\n",
       "</div>"
      ],
      "text/plain": [
       "  Posição País/Território      US$\n",
       "0       1          Mónaco  185.835\n",
       "1       2   Liechtenstein  179.258\n",
       "2       3      Luxemburgo  117.370\n",
       "3       4        Bermudas  101.208\n",
       "4       5           Macau   86.355\n",
       "5       6     Ilhas Caimã   85.474\n",
       "6       4           Suíça   82.709\n",
       "7       5         Noruega   81.336\n",
       "8       6         Irlanda   79.415\n",
       "9       7        Islândia   76.867"
      ]
     },
     "execution_count": 113,
     "metadata": {},
     "output_type": "execute_result"
    }
   ],
   "source": [
    "# Verificando a sexta tabela\n",
    "df_list[5].head(10)"
   ]
  },
  {
   "cell_type": "markdown",
   "metadata": {},
   "source": [
    "As 3 tabelas que queríamos raspar são: `df_list[3]`, `df_list[4]` e `df_list[5]`."
   ]
  },
  {
   "cell_type": "code",
   "execution_count": 114,
   "metadata": {},
   "outputs": [],
   "source": [
    "tabela1 = df_list[3]\n",
    "tabela2 = df_list[4]\n",
    "tabela3 = df_list[5]"
   ]
  },
  {
   "cell_type": "code",
   "execution_count": 115,
   "metadata": {},
   "outputs": [
    {
     "data": {
      "application/vnd.microsoft.datawrangler.viewer.v0+json": {
       "columns": [
        {
         "name": "index",
         "rawType": "int64",
         "type": "integer"
        },
        {
         "name": "Posição",
         "rawType": "object",
         "type": "string"
        },
        {
         "name": "País/Território",
         "rawType": "object",
         "type": "string"
        },
        {
         "name": "US$",
         "rawType": "float64",
         "type": "float"
        }
       ],
       "conversionMethod": "pd.DataFrame",
       "ref": "73899385-6f99-4e6f-b9c1-803551126da0",
       "rows": [
        [
         "0",
         "1",
         "Luxemburgo",
         "131.384"
        ],
        [
         "1",
         "2",
         "Irlanda",
         "106.059"
        ],
        [
         "2",
         "3",
         "Suíça",
         "105.669"
        ],
        [
         "3",
         "4",
         "Noruega",
         "94.66"
        ],
        [
         "4",
         "5",
         "Singapura",
         "88.447"
        ],
        [
         "5",
         "6",
         "Estados Unidos",
         "85.373"
        ],
        [
         "6",
         "7",
         "Islândia",
         "84.594"
        ],
        [
         "7",
         "8",
         "Catar",
         "81.4"
        ],
        [
         "8",
         "—",
         "Macau",
         "78.962"
        ],
        [
         "9",
         "9",
         "Dinamarca",
         "68.898"
        ],
        [
         "10",
         "10",
         "Austrália",
         "66.589"
        ],
        [
         "11",
         "11",
         "Países Baixos",
         "63.75"
        ],
        [
         "12",
         "12",
         "San Marino",
         "59.405"
        ],
        [
         "13",
         "13",
         "Áustria",
         "59.225"
        ],
        [
         "14",
         "14",
         "Suécia",
         "58.529"
        ],
        [
         "15",
         "15",
         "Bélgica",
         "55.536"
        ],
        [
         "16",
         "16",
         "Finlândia",
         "55.127"
        ],
        [
         "17",
         "17",
         "Canadá",
         "54.866"
        ],
        [
         "18",
         "18",
         "Alemanha",
         "54.291"
        ],
        [
         "19",
         "19",
         "Emirados Árabes Unidos",
         "53.916"
        ],
        [
         "20",
         "—",
         "Hong Kong",
         "53.606"
        ],
        [
         "21",
         "20",
         "Israel",
         "53.372"
        ],
        [
         "22",
         "21",
         "Reino Unido",
         "51.075"
        ],
        [
         "23",
         "22",
         "Nova Zelândia",
         "48.531"
        ],
        [
         "24",
         "23",
         "França",
         "47.359"
        ],
        [
         "25",
         "24",
         "Malta",
         "41.738"
        ],
        [
         "26",
         "25",
         "Itália",
         "39.58"
        ],
        [
         "27",
         "—",
         "Aruba",
         "38.018"
        ],
        [
         "28",
         "—",
         "Porto Rico",
         "37.172"
        ],
        [
         "29",
         "26",
         "Chipre",
         "37.149"
        ],
        [
         "30",
         "27",
         "Bahamas",
         "35.257"
        ],
        [
         "31",
         "28",
         "Brunei",
         "35.111"
        ],
        [
         "32",
         "—",
         "Taiwan",
         "34.432"
        ],
        [
         "33",
         "29",
         "Coreia do Sul",
         "34.165"
        ],
        [
         "34",
         "30",
         "Espanha",
         "34.045"
        ],
        [
         "35",
         "31",
         "Eslovênia",
         "34.026"
        ],
        [
         "36",
         "32",
         "Japão",
         "33.138"
        ],
        [
         "37",
         "33",
         "Arábia Saudita",
         "33.04"
        ],
        [
         "38",
         "34",
         "Estónia",
         "31.855"
        ],
        [
         "39",
         "35",
         "Kuwait",
         "31.724"
        ],
        [
         "40",
         "36",
         "Chéquia",
         "29.801"
        ],
        [
         "41",
         "37",
         "Portugal",
         "28.969"
        ],
        [
         "42",
         "38",
         "Bahrein",
         "28.876"
        ],
        [
         "43",
         "39",
         "Lituânia",
         "28.407"
        ],
        [
         "44",
         "40",
         "Guiana",
         "26.592"
        ],
        [
         "45",
         "41",
         "Eslováquia",
         "25.935"
        ],
        [
         "46",
         "42",
         "Letônia",
         "24.194"
        ],
        [
         "47",
         "43",
         "Grécia",
         "23.966"
        ],
        [
         "48",
         "44",
         "São Cristóvão e Neves",
         "23.705"
        ],
        [
         "49",
         "45",
         "Barbados",
         "23.596"
        ]
       ],
       "shape": {
        "columns": 3,
        "rows": 192
       }
      },
      "text/html": [
       "<div>\n",
       "<style scoped>\n",
       "    .dataframe tbody tr th:only-of-type {\n",
       "        vertical-align: middle;\n",
       "    }\n",
       "\n",
       "    .dataframe tbody tr th {\n",
       "        vertical-align: top;\n",
       "    }\n",
       "\n",
       "    .dataframe thead th {\n",
       "        text-align: right;\n",
       "    }\n",
       "</style>\n",
       "<table border=\"1\" class=\"dataframe\">\n",
       "  <thead>\n",
       "    <tr style=\"text-align: right;\">\n",
       "      <th></th>\n",
       "      <th>Posição</th>\n",
       "      <th>País/Território</th>\n",
       "      <th>US$</th>\n",
       "    </tr>\n",
       "  </thead>\n",
       "  <tbody>\n",
       "    <tr>\n",
       "      <th>0</th>\n",
       "      <td>1</td>\n",
       "      <td>Luxemburgo</td>\n",
       "      <td>131.384</td>\n",
       "    </tr>\n",
       "    <tr>\n",
       "      <th>1</th>\n",
       "      <td>2</td>\n",
       "      <td>Irlanda</td>\n",
       "      <td>106.059</td>\n",
       "    </tr>\n",
       "    <tr>\n",
       "      <th>2</th>\n",
       "      <td>3</td>\n",
       "      <td>Suíça</td>\n",
       "      <td>105.669</td>\n",
       "    </tr>\n",
       "    <tr>\n",
       "      <th>3</th>\n",
       "      <td>4</td>\n",
       "      <td>Noruega</td>\n",
       "      <td>94.660</td>\n",
       "    </tr>\n",
       "    <tr>\n",
       "      <th>4</th>\n",
       "      <td>5</td>\n",
       "      <td>Singapura</td>\n",
       "      <td>88.447</td>\n",
       "    </tr>\n",
       "    <tr>\n",
       "      <th>...</th>\n",
       "      <td>...</td>\n",
       "      <td>...</td>\n",
       "      <td>...</td>\n",
       "    </tr>\n",
       "    <tr>\n",
       "      <th>187</th>\n",
       "      <td>181</td>\n",
       "      <td>Iêmen</td>\n",
       "      <td>486.000</td>\n",
       "    </tr>\n",
       "    <tr>\n",
       "      <th>188</th>\n",
       "      <td>182</td>\n",
       "      <td>Malawi</td>\n",
       "      <td>481.000</td>\n",
       "    </tr>\n",
       "    <tr>\n",
       "      <th>189</th>\n",
       "      <td>183</td>\n",
       "      <td>Afeganistão</td>\n",
       "      <td>422.000</td>\n",
       "    </tr>\n",
       "    <tr>\n",
       "      <th>190</th>\n",
       "      <td>183</td>\n",
       "      <td>Sudão do Sul</td>\n",
       "      <td>422.000</td>\n",
       "    </tr>\n",
       "    <tr>\n",
       "      <th>191</th>\n",
       "      <td>185</td>\n",
       "      <td>Burundi</td>\n",
       "      <td>230.000</td>\n",
       "    </tr>\n",
       "  </tbody>\n",
       "</table>\n",
       "<p>192 rows × 3 columns</p>\n",
       "</div>"
      ],
      "text/plain": [
       "    Posição País/Território      US$\n",
       "0         1      Luxemburgo  131.384\n",
       "1         2         Irlanda  106.059\n",
       "2         3           Suíça  105.669\n",
       "3         4         Noruega   94.660\n",
       "4         5       Singapura   88.447\n",
       "..      ...             ...      ...\n",
       "187     181           Iêmen  486.000\n",
       "188     182          Malawi  481.000\n",
       "189     183     Afeganistão  422.000\n",
       "190     183    Sudão do Sul  422.000\n",
       "191     185         Burundi  230.000\n",
       "\n",
       "[192 rows x 3 columns]"
      ]
     },
     "execution_count": 115,
     "metadata": {},
     "output_type": "execute_result"
    }
   ],
   "source": [
    "tabela1"
   ]
  },
  {
   "cell_type": "code",
   "execution_count": 116,
   "metadata": {},
   "outputs": [
    {
     "data": {
      "application/vnd.microsoft.datawrangler.viewer.v0+json": {
       "columns": [
        {
         "name": "index",
         "rawType": "int64",
         "type": "integer"
        },
        {
         "name": "Posição",
         "rawType": "object",
         "type": "string"
        },
        {
         "name": "País/Território",
         "rawType": "object",
         "type": "string"
        },
        {
         "name": "US$",
         "rawType": "float64",
         "type": "float"
        }
       ],
       "conversionMethod": "pd.DataFrame",
       "ref": "1989c462-1a8e-4198-8dd1-2fd0da1cc209",
       "rows": [
        [
         "0",
         "1",
         "Mónaco[6]",
         "190.512"
        ],
        [
         "1",
         "2",
         "Liechtenstein (2018)[6]",
         "180.366"
        ],
        [
         "2",
         "3",
         "Luxemburgo",
         "114.705"
        ],
        [
         "3",
         "—",
         "Macau",
         "84.096"
        ],
        [
         "4",
         "4",
         "Suíça",
         "81.994"
        ],
        [
         "5",
         "5",
         "Irlanda",
         "78.661"
        ],
        [
         "6",
         "6",
         "Noruega",
         "75.42"
        ],
        [
         "7",
         "7",
         "Islândia",
         "66.945"
        ],
        [
         "8",
         "8",
         "Estados Unidos",
         "65.281"
        ],
        [
         "9",
         "9",
         "Singapura",
         "65.233"
        ],
        [
         "10",
         "10",
         "Catar",
         "64.782"
        ],
        [
         "11",
         "11",
         "Dinamarca",
         "59.822"
        ],
        [
         "12",
         "12",
         "Austrália",
         "54.907"
        ],
        [
         "13",
         "13",
         "Países Baixos",
         "52.448"
        ],
        [
         "14",
         "14",
         "Suécia",
         "51.61"
        ],
        [
         "15",
         "15",
         "Áustria",
         "50.277"
        ],
        [
         "16",
         "—",
         "Hong Kong",
         "48.756"
        ],
        [
         "17",
         "16",
         "Finlândia",
         "48.686"
        ],
        [
         "18",
         "17",
         "San Marino (2018)",
         "48.481"
        ],
        [
         "19",
         "18",
         "Alemanha",
         "46.259"
        ],
        [
         "20",
         "19",
         "Canadá",
         "46.195"
        ],
        [
         "21",
         "20",
         "Bélgica",
         "46.117"
        ],
        [
         "22",
         "21",
         "Israel",
         "43.641"
        ],
        [
         "23",
         "22",
         "Emirados Árabes Unidos",
         "43.103"
        ],
        [
         "24",
         "23",
         "Reino Unido",
         "42.3"
        ],
        [
         "25",
         "24",
         "Nova Zelândia",
         "42.084"
        ],
        [
         "26",
         "25",
         "Andorra",
         "40.886"
        ],
        [
         "27",
         "26",
         "França",
         "40.494"
        ],
        [
         "28",
         "27",
         "Japão",
         "40.247"
        ],
        [
         "29",
         "—",
         "União Europeia",
         "34.843"
        ],
        [
         "30",
         "28",
         "Itália",
         "33.19"
        ],
        [
         "31",
         "29",
         "Bahamas",
         "32.934"
        ],
        [
         "32",
         "—",
         "Porto Rico",
         "32.874"
        ],
        [
         "33",
         "30",
         "Kuwait",
         "32.032"
        ],
        [
         "34",
         "31",
         "Coreia do Sul",
         "31.762"
        ],
        [
         "35",
         "32",
         "Brunei",
         "31.087"
        ],
        [
         "36",
         "33",
         "Espanha",
         "29.614"
        ],
        [
         "37",
         "34",
         "Malta",
         "29.416"
        ],
        [
         "38",
         "35",
         "Chipre",
         "27.858"
        ],
        [
         "39",
         "36",
         "Eslovênia",
         "25.739"
        ],
        [
         "40",
         "37",
         "Estónia",
         "23.66"
        ],
        [
         "41",
         "38",
         "Bahrein",
         "23.504"
        ],
        [
         "42",
         "39",
         "Portugal",
         "23.145"
        ],
        [
         "43",
         "40",
         "Arábia Saudita",
         "23.14"
        ],
        [
         "44",
         "41",
         "Chéquia",
         "23.102"
        ],
        [
         "45",
         "42",
         "São Cristóvão e Neves",
         "19.897"
        ],
        [
         "46",
         "43",
         "Grécia",
         "19.583"
        ],
        [
         "47",
         "44",
         "Lituânia",
         "19.456"
        ],
        [
         "48",
         "45",
         "Eslováquia",
         "19.329"
        ],
        [
         "49",
         "46",
         "Barbados",
         "18.148"
        ]
       ],
       "shape": {
        "columns": 3,
        "rows": 196
       }
      },
      "text/html": [
       "<div>\n",
       "<style scoped>\n",
       "    .dataframe tbody tr th:only-of-type {\n",
       "        vertical-align: middle;\n",
       "    }\n",
       "\n",
       "    .dataframe tbody tr th {\n",
       "        vertical-align: top;\n",
       "    }\n",
       "\n",
       "    .dataframe thead th {\n",
       "        text-align: right;\n",
       "    }\n",
       "</style>\n",
       "<table border=\"1\" class=\"dataframe\">\n",
       "  <thead>\n",
       "    <tr style=\"text-align: right;\">\n",
       "      <th></th>\n",
       "      <th>Posição</th>\n",
       "      <th>País/Território</th>\n",
       "      <th>US$</th>\n",
       "    </tr>\n",
       "  </thead>\n",
       "  <tbody>\n",
       "    <tr>\n",
       "      <th>0</th>\n",
       "      <td>1</td>\n",
       "      <td>Mónaco[6]</td>\n",
       "      <td>190.512</td>\n",
       "    </tr>\n",
       "    <tr>\n",
       "      <th>1</th>\n",
       "      <td>2</td>\n",
       "      <td>Liechtenstein (2018)[6]</td>\n",
       "      <td>180.366</td>\n",
       "    </tr>\n",
       "    <tr>\n",
       "      <th>2</th>\n",
       "      <td>3</td>\n",
       "      <td>Luxemburgo</td>\n",
       "      <td>114.705</td>\n",
       "    </tr>\n",
       "    <tr>\n",
       "      <th>3</th>\n",
       "      <td>—</td>\n",
       "      <td>Macau</td>\n",
       "      <td>84.096</td>\n",
       "    </tr>\n",
       "    <tr>\n",
       "      <th>4</th>\n",
       "      <td>4</td>\n",
       "      <td>Suíça</td>\n",
       "      <td>81.994</td>\n",
       "    </tr>\n",
       "    <tr>\n",
       "      <th>...</th>\n",
       "      <td>...</td>\n",
       "      <td>...</td>\n",
       "      <td>...</td>\n",
       "    </tr>\n",
       "    <tr>\n",
       "      <th>191</th>\n",
       "      <td>185</td>\n",
       "      <td>Moçambique</td>\n",
       "      <td>492.000</td>\n",
       "    </tr>\n",
       "    <tr>\n",
       "      <th>192</th>\n",
       "      <td>186</td>\n",
       "      <td>República Centro-Africana</td>\n",
       "      <td>468.000</td>\n",
       "    </tr>\n",
       "    <tr>\n",
       "      <th>193</th>\n",
       "      <td>187</td>\n",
       "      <td>Sudão</td>\n",
       "      <td>442.000</td>\n",
       "    </tr>\n",
       "    <tr>\n",
       "      <th>194</th>\n",
       "      <td>188</td>\n",
       "      <td>Malawi</td>\n",
       "      <td>412.000</td>\n",
       "    </tr>\n",
       "    <tr>\n",
       "      <th>195</th>\n",
       "      <td>189</td>\n",
       "      <td>Burundi</td>\n",
       "      <td>261.000</td>\n",
       "    </tr>\n",
       "  </tbody>\n",
       "</table>\n",
       "<p>196 rows × 3 columns</p>\n",
       "</div>"
      ],
      "text/plain": [
       "    Posição            País/Território      US$\n",
       "0         1                  Mónaco[6]  190.512\n",
       "1         2    Liechtenstein (2018)[6]  180.366\n",
       "2         3                 Luxemburgo  114.705\n",
       "3         —                      Macau   84.096\n",
       "4         4                      Suíça   81.994\n",
       "..      ...                        ...      ...\n",
       "191     185                 Moçambique  492.000\n",
       "192     186  República Centro-Africana  468.000\n",
       "193     187                      Sudão  442.000\n",
       "194     188                     Malawi  412.000\n",
       "195     189                    Burundi  261.000\n",
       "\n",
       "[196 rows x 3 columns]"
      ]
     },
     "execution_count": 116,
     "metadata": {},
     "output_type": "execute_result"
    }
   ],
   "source": [
    "tabela2"
   ]
  },
  {
   "cell_type": "code",
   "execution_count": 117,
   "metadata": {},
   "outputs": [
    {
     "data": {
      "application/vnd.microsoft.datawrangler.viewer.v0+json": {
       "columns": [
        {
         "name": "index",
         "rawType": "int64",
         "type": "integer"
        },
        {
         "name": "Posição",
         "rawType": "object",
         "type": "string"
        },
        {
         "name": "País/Território",
         "rawType": "object",
         "type": "string"
        },
        {
         "name": "US$",
         "rawType": "float64",
         "type": "float"
        }
       ],
       "conversionMethod": "pd.DataFrame",
       "ref": "c118e8ca-e1b9-4638-86ab-a346e1b0dd90",
       "rows": [
        [
         "0",
         "1",
         "Mónaco",
         "185.835"
        ],
        [
         "1",
         "2",
         "Liechtenstein",
         "179.258"
        ],
        [
         "2",
         "3",
         "Luxemburgo",
         "117.37"
        ],
        [
         "3",
         "4",
         "Bermudas",
         "101.208"
        ],
        [
         "4",
         "5",
         "Macau",
         "86.355"
        ],
        [
         "5",
         "6",
         "Ilhas Caimã",
         "85.474"
        ],
        [
         "6",
         "4",
         "Suíça",
         "82.709"
        ],
        [
         "7",
         "5",
         "Noruega",
         "81.336"
        ],
        [
         "8",
         "6",
         "Irlanda",
         "79.415"
        ],
        [
         "9",
         "7",
         "Islândia",
         "76.867"
        ],
        [
         "10",
         "8",
         "Catar",
         "68.794"
        ],
        [
         "11",
         "9",
         "Estados Unidos",
         "62.918"
        ],
        [
         "12",
         "10",
         "Singapura",
         "62.721"
        ],
        [
         "13",
         "11",
         "Dinamarca",
         "61.834"
        ],
        [
         "14",
         "12",
         "Austrália",
         "58.393"
        ],
        [
         "15",
         "13",
         "Suécia",
         "55.767"
        ],
        [
         "16",
         "—",
         "Gronelândia",
         "53.95"
        ],
        [
         "17",
         "14",
         "Países Baixos",
         "53.583"
        ],
        [
         "18",
         "15",
         "Áustria",
         "51.23"
        ],
        [
         "19",
         "16",
         "Finlândia",
         "50.136"
        ],
        [
         "20",
         "—",
         "Hong Kong",
         "49.199"
        ],
        [
         "21",
         "—",
         "Ilhas Virgens Britânicas",
         "48.511"
        ],
        [
         "22",
         "17",
         "San Marino",
         "48.473"
        ],
        [
         "23",
         "18",
         "Alemanha",
         "47.514"
        ],
        [
         "24",
         "19",
         "Bélgica",
         "47.293"
        ],
        [
         "25",
         "20",
         "Canadá",
         "46.192"
        ],
        [
         "26",
         "21",
         "Israel",
         "44.215"
        ],
        [
         "27",
         "22",
         "Nova Zelândia",
         "43.836"
        ],
        [
         "28",
         "23",
         "Emirados Árabes Unidos",
         "43.005"
        ],
        [
         "29",
         "24",
         "Reino Unido",
         "42.526"
        ],
        [
         "30",
         "25",
         "Andorra",
         "42.052"
        ],
        [
         "31",
         "26",
         "França",
         "41.358"
        ],
        [
         "32",
         "27",
         "Japão",
         "39.082"
        ],
        [
         "33",
         "—",
         "Nova Caledônia",
         "36.335"
        ],
        [
         "34",
         "28",
         "Itália",
         "34.389"
        ],
        [
         "35",
         "29",
         "Kuwait",
         "34.249"
        ],
        [
         "36",
         "30",
         "Coreia do Sul",
         "33.622"
        ],
        [
         "37",
         "—",
         "Porto Rico",
         "33.271"
        ],
        [
         "38",
         "31",
         "Malta",
         "33.123"
        ],
        [
         "39",
         "32",
         "Bahamas",
         "32.218"
        ],
        [
         "40",
         "33",
         "Brunei",
         "31.627"
        ],
        [
         "41",
         "34",
         "Espanha",
         "30.406"
        ],
        [
         "42",
         "—",
         "Aruba",
         "30.262"
        ],
        [
         "43",
         "—",
         "Europa",
         "29.279"
        ],
        [
         "44",
         "35",
         "Chipre",
         "28.968"
        ],
        [
         "45",
         "—",
         "América",
         "27.722"
        ],
        [
         "46",
         "—",
         "Turcas e Caicos",
         "27.142"
        ],
        [
         "47",
         "36",
         "Eslovênia",
         "26.005"
        ],
        [
         "48",
         "37",
         "Bahrein",
         "24.134"
        ],
        [
         "49",
         "38",
         "Portugal",
         "23.478"
        ]
       ],
       "shape": {
        "columns": 3,
        "rows": 216
       }
      },
      "text/html": [
       "<div>\n",
       "<style scoped>\n",
       "    .dataframe tbody tr th:only-of-type {\n",
       "        vertical-align: middle;\n",
       "    }\n",
       "\n",
       "    .dataframe tbody tr th {\n",
       "        vertical-align: top;\n",
       "    }\n",
       "\n",
       "    .dataframe thead th {\n",
       "        text-align: right;\n",
       "    }\n",
       "</style>\n",
       "<table border=\"1\" class=\"dataframe\">\n",
       "  <thead>\n",
       "    <tr style=\"text-align: right;\">\n",
       "      <th></th>\n",
       "      <th>Posição</th>\n",
       "      <th>País/Território</th>\n",
       "      <th>US$</th>\n",
       "    </tr>\n",
       "  </thead>\n",
       "  <tbody>\n",
       "    <tr>\n",
       "      <th>0</th>\n",
       "      <td>1</td>\n",
       "      <td>Mónaco</td>\n",
       "      <td>185.835</td>\n",
       "    </tr>\n",
       "    <tr>\n",
       "      <th>1</th>\n",
       "      <td>2</td>\n",
       "      <td>Liechtenstein</td>\n",
       "      <td>179.258</td>\n",
       "    </tr>\n",
       "    <tr>\n",
       "      <th>2</th>\n",
       "      <td>3</td>\n",
       "      <td>Luxemburgo</td>\n",
       "      <td>117.370</td>\n",
       "    </tr>\n",
       "    <tr>\n",
       "      <th>3</th>\n",
       "      <td>4</td>\n",
       "      <td>Bermudas</td>\n",
       "      <td>101.208</td>\n",
       "    </tr>\n",
       "    <tr>\n",
       "      <th>4</th>\n",
       "      <td>5</td>\n",
       "      <td>Macau</td>\n",
       "      <td>86.355</td>\n",
       "    </tr>\n",
       "    <tr>\n",
       "      <th>...</th>\n",
       "      <td>...</td>\n",
       "      <td>...</td>\n",
       "      <td>...</td>\n",
       "    </tr>\n",
       "    <tr>\n",
       "      <th>211</th>\n",
       "      <td>189</td>\n",
       "      <td>República Centro-Africana</td>\n",
       "      <td>481.000</td>\n",
       "    </tr>\n",
       "    <tr>\n",
       "      <th>212</th>\n",
       "      <td>190</td>\n",
       "      <td>Libéria</td>\n",
       "      <td>440.000</td>\n",
       "    </tr>\n",
       "    <tr>\n",
       "      <th>213</th>\n",
       "      <td>191</td>\n",
       "      <td>Malawi</td>\n",
       "      <td>397.000</td>\n",
       "    </tr>\n",
       "    <tr>\n",
       "      <th>214</th>\n",
       "      <td>192</td>\n",
       "      <td>Burundi</td>\n",
       "      <td>294.000</td>\n",
       "    </tr>\n",
       "    <tr>\n",
       "      <th>215</th>\n",
       "      <td>193</td>\n",
       "      <td>Somália</td>\n",
       "      <td>100.000</td>\n",
       "    </tr>\n",
       "  </tbody>\n",
       "</table>\n",
       "<p>216 rows × 3 columns</p>\n",
       "</div>"
      ],
      "text/plain": [
       "    Posição            País/Território      US$\n",
       "0         1                     Mónaco  185.835\n",
       "1         2              Liechtenstein  179.258\n",
       "2         3                 Luxemburgo  117.370\n",
       "3         4                   Bermudas  101.208\n",
       "4         5                      Macau   86.355\n",
       "..      ...                        ...      ...\n",
       "211     189  República Centro-Africana  481.000\n",
       "212     190                    Libéria  440.000\n",
       "213     191                     Malawi  397.000\n",
       "214     192                    Burundi  294.000\n",
       "215     193                    Somália  100.000\n",
       "\n",
       "[216 rows x 3 columns]"
      ]
     },
     "execution_count": 117,
     "metadata": {},
     "output_type": "execute_result"
    }
   ],
   "source": [
    "tabela3"
   ]
  },
  {
   "cell_type": "markdown",
   "metadata": {},
   "source": [
    "**Limpeza**\n",
    "\n",
    "Primeiramente vamos ajustar os nomes das colunas de cada tabela para que o pib per capita em US Dólar sejá vinculado à fonte de dados específica.\n"
   ]
  },
  {
   "cell_type": "code",
   "execution_count": 118,
   "metadata": {},
   "outputs": [],
   "source": [
    "tabela1.rename(columns={'US$': 'US$_FMI'}, inplace=True)\n",
    "tabela2.rename(columns={'US$': 'US$_WB'}, inplace=True)\n",
    "tabela3.rename(columns={'US$': 'US$_UN'}, inplace=True)"
   ]
  },
  {
   "cell_type": "markdown",
   "metadata": {},
   "source": [
    "Repare que na tabela2, temos Mónaco[6], e precisamos retirar o termo `[6]`. Para isso, podemos usar a função `str.replace()` do Pandas. Como já sabemos, essa função substitui uma substring por outra em uma string. No caso, vamos substituir o `[6]` por vazio (ou seja, vamos removê-lo do string)."
   ]
  },
  {
   "cell_type": "code",
   "execution_count": 120,
   "metadata": {},
   "outputs": [],
   "source": [
    "tabela2['País/Território'] = tabela2['País/Território'].str.replace(r'\\s*\\[.*?\\]', '', regex=True)  # Remove colchetes"
   ]
  },
  {
   "cell_type": "code",
   "execution_count": 121,
   "metadata": {},
   "outputs": [
    {
     "data": {
      "application/vnd.microsoft.datawrangler.viewer.v0+json": {
       "columns": [
        {
         "name": "index",
         "rawType": "int64",
         "type": "integer"
        },
        {
         "name": "Posição",
         "rawType": "object",
         "type": "string"
        },
        {
         "name": "País/Território",
         "rawType": "object",
         "type": "string"
        },
        {
         "name": "US$_WB",
         "rawType": "float64",
         "type": "float"
        }
       ],
       "conversionMethod": "pd.DataFrame",
       "ref": "206ed9ba-3f4d-4833-a3a3-189f7380b485",
       "rows": [
        [
         "0",
         "1",
         "Mónaco",
         "190.512"
        ],
        [
         "1",
         "2",
         "Liechtenstein (2018)",
         "180.366"
        ],
        [
         "2",
         "3",
         "Luxemburgo",
         "114.705"
        ],
        [
         "3",
         "—",
         "Macau",
         "84.096"
        ],
        [
         "4",
         "4",
         "Suíça",
         "81.994"
        ],
        [
         "5",
         "5",
         "Irlanda",
         "78.661"
        ],
        [
         "6",
         "6",
         "Noruega",
         "75.42"
        ],
        [
         "7",
         "7",
         "Islândia",
         "66.945"
        ],
        [
         "8",
         "8",
         "Estados Unidos",
         "65.281"
        ],
        [
         "9",
         "9",
         "Singapura",
         "65.233"
        ],
        [
         "10",
         "10",
         "Catar",
         "64.782"
        ],
        [
         "11",
         "11",
         "Dinamarca",
         "59.822"
        ],
        [
         "12",
         "12",
         "Austrália",
         "54.907"
        ],
        [
         "13",
         "13",
         "Países Baixos",
         "52.448"
        ],
        [
         "14",
         "14",
         "Suécia",
         "51.61"
        ],
        [
         "15",
         "15",
         "Áustria",
         "50.277"
        ],
        [
         "16",
         "—",
         "Hong Kong",
         "48.756"
        ],
        [
         "17",
         "16",
         "Finlândia",
         "48.686"
        ],
        [
         "18",
         "17",
         "San Marino (2018)",
         "48.481"
        ],
        [
         "19",
         "18",
         "Alemanha",
         "46.259"
        ],
        [
         "20",
         "19",
         "Canadá",
         "46.195"
        ],
        [
         "21",
         "20",
         "Bélgica",
         "46.117"
        ],
        [
         "22",
         "21",
         "Israel",
         "43.641"
        ],
        [
         "23",
         "22",
         "Emirados Árabes Unidos",
         "43.103"
        ],
        [
         "24",
         "23",
         "Reino Unido",
         "42.3"
        ],
        [
         "25",
         "24",
         "Nova Zelândia",
         "42.084"
        ],
        [
         "26",
         "25",
         "Andorra",
         "40.886"
        ],
        [
         "27",
         "26",
         "França",
         "40.494"
        ],
        [
         "28",
         "27",
         "Japão",
         "40.247"
        ],
        [
         "29",
         "—",
         "União Europeia",
         "34.843"
        ],
        [
         "30",
         "28",
         "Itália",
         "33.19"
        ],
        [
         "31",
         "29",
         "Bahamas",
         "32.934"
        ],
        [
         "32",
         "—",
         "Porto Rico",
         "32.874"
        ],
        [
         "33",
         "30",
         "Kuwait",
         "32.032"
        ],
        [
         "34",
         "31",
         "Coreia do Sul",
         "31.762"
        ],
        [
         "35",
         "32",
         "Brunei",
         "31.087"
        ],
        [
         "36",
         "33",
         "Espanha",
         "29.614"
        ],
        [
         "37",
         "34",
         "Malta",
         "29.416"
        ],
        [
         "38",
         "35",
         "Chipre",
         "27.858"
        ],
        [
         "39",
         "36",
         "Eslovênia",
         "25.739"
        ],
        [
         "40",
         "37",
         "Estónia",
         "23.66"
        ],
        [
         "41",
         "38",
         "Bahrein",
         "23.504"
        ],
        [
         "42",
         "39",
         "Portugal",
         "23.145"
        ],
        [
         "43",
         "40",
         "Arábia Saudita",
         "23.14"
        ],
        [
         "44",
         "41",
         "Chéquia",
         "23.102"
        ],
        [
         "45",
         "42",
         "São Cristóvão e Neves",
         "19.897"
        ],
        [
         "46",
         "43",
         "Grécia",
         "19.583"
        ],
        [
         "47",
         "44",
         "Lituânia",
         "19.456"
        ],
        [
         "48",
         "45",
         "Eslováquia",
         "19.329"
        ],
        [
         "49",
         "46",
         "Barbados",
         "18.148"
        ]
       ],
       "shape": {
        "columns": 3,
        "rows": 196
       }
      },
      "text/html": [
       "<div>\n",
       "<style scoped>\n",
       "    .dataframe tbody tr th:only-of-type {\n",
       "        vertical-align: middle;\n",
       "    }\n",
       "\n",
       "    .dataframe tbody tr th {\n",
       "        vertical-align: top;\n",
       "    }\n",
       "\n",
       "    .dataframe thead th {\n",
       "        text-align: right;\n",
       "    }\n",
       "</style>\n",
       "<table border=\"1\" class=\"dataframe\">\n",
       "  <thead>\n",
       "    <tr style=\"text-align: right;\">\n",
       "      <th></th>\n",
       "      <th>Posição</th>\n",
       "      <th>País/Território</th>\n",
       "      <th>US$_WB</th>\n",
       "    </tr>\n",
       "  </thead>\n",
       "  <tbody>\n",
       "    <tr>\n",
       "      <th>0</th>\n",
       "      <td>1</td>\n",
       "      <td>Mónaco</td>\n",
       "      <td>190.512</td>\n",
       "    </tr>\n",
       "    <tr>\n",
       "      <th>1</th>\n",
       "      <td>2</td>\n",
       "      <td>Liechtenstein (2018)</td>\n",
       "      <td>180.366</td>\n",
       "    </tr>\n",
       "    <tr>\n",
       "      <th>2</th>\n",
       "      <td>3</td>\n",
       "      <td>Luxemburgo</td>\n",
       "      <td>114.705</td>\n",
       "    </tr>\n",
       "    <tr>\n",
       "      <th>3</th>\n",
       "      <td>—</td>\n",
       "      <td>Macau</td>\n",
       "      <td>84.096</td>\n",
       "    </tr>\n",
       "    <tr>\n",
       "      <th>4</th>\n",
       "      <td>4</td>\n",
       "      <td>Suíça</td>\n",
       "      <td>81.994</td>\n",
       "    </tr>\n",
       "    <tr>\n",
       "      <th>...</th>\n",
       "      <td>...</td>\n",
       "      <td>...</td>\n",
       "      <td>...</td>\n",
       "    </tr>\n",
       "    <tr>\n",
       "      <th>191</th>\n",
       "      <td>185</td>\n",
       "      <td>Moçambique</td>\n",
       "      <td>492.000</td>\n",
       "    </tr>\n",
       "    <tr>\n",
       "      <th>192</th>\n",
       "      <td>186</td>\n",
       "      <td>República Centro-Africana</td>\n",
       "      <td>468.000</td>\n",
       "    </tr>\n",
       "    <tr>\n",
       "      <th>193</th>\n",
       "      <td>187</td>\n",
       "      <td>Sudão</td>\n",
       "      <td>442.000</td>\n",
       "    </tr>\n",
       "    <tr>\n",
       "      <th>194</th>\n",
       "      <td>188</td>\n",
       "      <td>Malawi</td>\n",
       "      <td>412.000</td>\n",
       "    </tr>\n",
       "    <tr>\n",
       "      <th>195</th>\n",
       "      <td>189</td>\n",
       "      <td>Burundi</td>\n",
       "      <td>261.000</td>\n",
       "    </tr>\n",
       "  </tbody>\n",
       "</table>\n",
       "<p>196 rows × 3 columns</p>\n",
       "</div>"
      ],
      "text/plain": [
       "    Posição            País/Território   US$_WB\n",
       "0         1                     Mónaco  190.512\n",
       "1         2       Liechtenstein (2018)  180.366\n",
       "2         3                 Luxemburgo  114.705\n",
       "3         —                      Macau   84.096\n",
       "4         4                      Suíça   81.994\n",
       "..      ...                        ...      ...\n",
       "191     185                 Moçambique  492.000\n",
       "192     186  República Centro-Africana  468.000\n",
       "193     187                      Sudão  442.000\n",
       "194     188                     Malawi  412.000\n",
       "195     189                    Burundi  261.000\n",
       "\n",
       "[196 rows x 3 columns]"
      ]
     },
     "execution_count": 121,
     "metadata": {},
     "output_type": "execute_result"
    }
   ],
   "source": [
    "tabela2"
   ]
  },
  {
   "cell_type": "markdown",
   "metadata": {},
   "source": [
    "Agora, vamos retirar os números entre parênteses, como em Liechtenstein (2018), queremos retirar o (2018). Para isso, podemos usar a função `str.replace()` novamente, mas agora com uma expressão regular diferente. A expressão regular r'\\(\\d+\\)' vai encontrar qualquer número entre parênteses e substituí-lo por nada."
   ]
  },
  {
   "cell_type": "code",
   "execution_count": 122,
   "metadata": {},
   "outputs": [],
   "source": [
    "tabela2['País/Território'] = tabela2['País/Território'].str.replace(r'\\s*\\(.*?\\)', '', regex=True)  # Remove parênteses"
   ]
  },
  {
   "cell_type": "code",
   "execution_count": 123,
   "metadata": {},
   "outputs": [
    {
     "data": {
      "application/vnd.microsoft.datawrangler.viewer.v0+json": {
       "columns": [
        {
         "name": "index",
         "rawType": "int64",
         "type": "integer"
        },
        {
         "name": "Posição",
         "rawType": "object",
         "type": "string"
        },
        {
         "name": "País/Território",
         "rawType": "object",
         "type": "string"
        },
        {
         "name": "US$_WB",
         "rawType": "float64",
         "type": "float"
        }
       ],
       "conversionMethod": "pd.DataFrame",
       "ref": "48c68265-ca35-4870-ae53-6282ae2187f7",
       "rows": [
        [
         "0",
         "1",
         "Mónaco",
         "190.512"
        ],
        [
         "1",
         "2",
         "Liechtenstein",
         "180.366"
        ],
        [
         "2",
         "3",
         "Luxemburgo",
         "114.705"
        ],
        [
         "3",
         "—",
         "Macau",
         "84.096"
        ],
        [
         "4",
         "4",
         "Suíça",
         "81.994"
        ],
        [
         "5",
         "5",
         "Irlanda",
         "78.661"
        ],
        [
         "6",
         "6",
         "Noruega",
         "75.42"
        ],
        [
         "7",
         "7",
         "Islândia",
         "66.945"
        ],
        [
         "8",
         "8",
         "Estados Unidos",
         "65.281"
        ],
        [
         "9",
         "9",
         "Singapura",
         "65.233"
        ],
        [
         "10",
         "10",
         "Catar",
         "64.782"
        ],
        [
         "11",
         "11",
         "Dinamarca",
         "59.822"
        ],
        [
         "12",
         "12",
         "Austrália",
         "54.907"
        ],
        [
         "13",
         "13",
         "Países Baixos",
         "52.448"
        ],
        [
         "14",
         "14",
         "Suécia",
         "51.61"
        ],
        [
         "15",
         "15",
         "Áustria",
         "50.277"
        ],
        [
         "16",
         "—",
         "Hong Kong",
         "48.756"
        ],
        [
         "17",
         "16",
         "Finlândia",
         "48.686"
        ],
        [
         "18",
         "17",
         "San Marino",
         "48.481"
        ],
        [
         "19",
         "18",
         "Alemanha",
         "46.259"
        ],
        [
         "20",
         "19",
         "Canadá",
         "46.195"
        ],
        [
         "21",
         "20",
         "Bélgica",
         "46.117"
        ],
        [
         "22",
         "21",
         "Israel",
         "43.641"
        ],
        [
         "23",
         "22",
         "Emirados Árabes Unidos",
         "43.103"
        ],
        [
         "24",
         "23",
         "Reino Unido",
         "42.3"
        ],
        [
         "25",
         "24",
         "Nova Zelândia",
         "42.084"
        ],
        [
         "26",
         "25",
         "Andorra",
         "40.886"
        ],
        [
         "27",
         "26",
         "França",
         "40.494"
        ],
        [
         "28",
         "27",
         "Japão",
         "40.247"
        ],
        [
         "29",
         "—",
         "União Europeia",
         "34.843"
        ],
        [
         "30",
         "28",
         "Itália",
         "33.19"
        ],
        [
         "31",
         "29",
         "Bahamas",
         "32.934"
        ],
        [
         "32",
         "—",
         "Porto Rico",
         "32.874"
        ],
        [
         "33",
         "30",
         "Kuwait",
         "32.032"
        ],
        [
         "34",
         "31",
         "Coreia do Sul",
         "31.762"
        ],
        [
         "35",
         "32",
         "Brunei",
         "31.087"
        ],
        [
         "36",
         "33",
         "Espanha",
         "29.614"
        ],
        [
         "37",
         "34",
         "Malta",
         "29.416"
        ],
        [
         "38",
         "35",
         "Chipre",
         "27.858"
        ],
        [
         "39",
         "36",
         "Eslovênia",
         "25.739"
        ],
        [
         "40",
         "37",
         "Estónia",
         "23.66"
        ],
        [
         "41",
         "38",
         "Bahrein",
         "23.504"
        ],
        [
         "42",
         "39",
         "Portugal",
         "23.145"
        ],
        [
         "43",
         "40",
         "Arábia Saudita",
         "23.14"
        ],
        [
         "44",
         "41",
         "Chéquia",
         "23.102"
        ],
        [
         "45",
         "42",
         "São Cristóvão e Neves",
         "19.897"
        ],
        [
         "46",
         "43",
         "Grécia",
         "19.583"
        ],
        [
         "47",
         "44",
         "Lituânia",
         "19.456"
        ],
        [
         "48",
         "45",
         "Eslováquia",
         "19.329"
        ],
        [
         "49",
         "46",
         "Barbados",
         "18.148"
        ]
       ],
       "shape": {
        "columns": 3,
        "rows": 196
       }
      },
      "text/html": [
       "<div>\n",
       "<style scoped>\n",
       "    .dataframe tbody tr th:only-of-type {\n",
       "        vertical-align: middle;\n",
       "    }\n",
       "\n",
       "    .dataframe tbody tr th {\n",
       "        vertical-align: top;\n",
       "    }\n",
       "\n",
       "    .dataframe thead th {\n",
       "        text-align: right;\n",
       "    }\n",
       "</style>\n",
       "<table border=\"1\" class=\"dataframe\">\n",
       "  <thead>\n",
       "    <tr style=\"text-align: right;\">\n",
       "      <th></th>\n",
       "      <th>Posição</th>\n",
       "      <th>País/Território</th>\n",
       "      <th>US$_WB</th>\n",
       "    </tr>\n",
       "  </thead>\n",
       "  <tbody>\n",
       "    <tr>\n",
       "      <th>0</th>\n",
       "      <td>1</td>\n",
       "      <td>Mónaco</td>\n",
       "      <td>190.512</td>\n",
       "    </tr>\n",
       "    <tr>\n",
       "      <th>1</th>\n",
       "      <td>2</td>\n",
       "      <td>Liechtenstein</td>\n",
       "      <td>180.366</td>\n",
       "    </tr>\n",
       "    <tr>\n",
       "      <th>2</th>\n",
       "      <td>3</td>\n",
       "      <td>Luxemburgo</td>\n",
       "      <td>114.705</td>\n",
       "    </tr>\n",
       "    <tr>\n",
       "      <th>3</th>\n",
       "      <td>—</td>\n",
       "      <td>Macau</td>\n",
       "      <td>84.096</td>\n",
       "    </tr>\n",
       "    <tr>\n",
       "      <th>4</th>\n",
       "      <td>4</td>\n",
       "      <td>Suíça</td>\n",
       "      <td>81.994</td>\n",
       "    </tr>\n",
       "    <tr>\n",
       "      <th>...</th>\n",
       "      <td>...</td>\n",
       "      <td>...</td>\n",
       "      <td>...</td>\n",
       "    </tr>\n",
       "    <tr>\n",
       "      <th>191</th>\n",
       "      <td>185</td>\n",
       "      <td>Moçambique</td>\n",
       "      <td>492.000</td>\n",
       "    </tr>\n",
       "    <tr>\n",
       "      <th>192</th>\n",
       "      <td>186</td>\n",
       "      <td>República Centro-Africana</td>\n",
       "      <td>468.000</td>\n",
       "    </tr>\n",
       "    <tr>\n",
       "      <th>193</th>\n",
       "      <td>187</td>\n",
       "      <td>Sudão</td>\n",
       "      <td>442.000</td>\n",
       "    </tr>\n",
       "    <tr>\n",
       "      <th>194</th>\n",
       "      <td>188</td>\n",
       "      <td>Malawi</td>\n",
       "      <td>412.000</td>\n",
       "    </tr>\n",
       "    <tr>\n",
       "      <th>195</th>\n",
       "      <td>189</td>\n",
       "      <td>Burundi</td>\n",
       "      <td>261.000</td>\n",
       "    </tr>\n",
       "  </tbody>\n",
       "</table>\n",
       "<p>196 rows × 3 columns</p>\n",
       "</div>"
      ],
      "text/plain": [
       "    Posição            País/Território   US$_WB\n",
       "0         1                     Mónaco  190.512\n",
       "1         2              Liechtenstein  180.366\n",
       "2         3                 Luxemburgo  114.705\n",
       "3         —                      Macau   84.096\n",
       "4         4                      Suíça   81.994\n",
       "..      ...                        ...      ...\n",
       "191     185                 Moçambique  492.000\n",
       "192     186  República Centro-Africana  468.000\n",
       "193     187                      Sudão  442.000\n",
       "194     188                     Malawi  412.000\n",
       "195     189                    Burundi  261.000\n",
       "\n",
       "[196 rows x 3 columns]"
      ]
     },
     "execution_count": 123,
     "metadata": {},
     "output_type": "execute_result"
    }
   ],
   "source": [
    "tabela2"
   ]
  },
  {
   "cell_type": "markdown",
   "metadata": {},
   "source": [
    "Vamos aplicar para todas as tabelas."
   ]
  },
  {
   "cell_type": "code",
   "execution_count": 124,
   "metadata": {},
   "outputs": [],
   "source": [
    "tabela1['País/Território'] = tabela1['País/Território'].str.replace(r'\\s*\\(.*?\\)', '', regex=True)  # Remove parênteses\n",
    "tabela1['País/Território'] = tabela1['País/Território'].str.replace(r'\\s*\\[.*?\\]', '', regex=True)  # Remove colchetes"
   ]
  },
  {
   "cell_type": "code",
   "execution_count": 125,
   "metadata": {},
   "outputs": [],
   "source": [
    "tabela3['País/Território'] = tabela3['País/Território'].str.replace(r'\\s*\\(.*?\\)', '', regex=True)  # Remove parênteses\n",
    "tabela3['País/Território'] = tabela3['País/Território'].str.replace(r'\\s*\\[.*?\\]', '', regex=True)  # Remove colchetes"
   ]
  },
  {
   "cell_type": "markdown",
   "metadata": {},
   "source": [
    "**Criação de variável identificadora para os países**\n",
    "\n",
    "Lembre que para juntarmos os bancos de dados em um único dataframe precisamos de uma variável identificadora. Para isso, vamos criar uma variável chamada `id` que será o código do país. Essa variável vai ser criada a partir da coluna `País/Território` de cada tabela.\n",
    "\n",
    "A tabela3 possui o maior número de países. Vamos contruir a variável `id` a partir dela. "
   ]
  },
  {
   "cell_type": "code",
   "execution_count": 126,
   "metadata": {},
   "outputs": [],
   "source": [
    "paises = pd.concat([tabela1['País/Território'], tabela2['País/Território'], tabela3['País/Território']], ignore_index=True)"
   ]
  },
  {
   "cell_type": "code",
   "execution_count": 127,
   "metadata": {},
   "outputs": [
    {
     "data": {
      "text/plain": [
       "0                     Luxemburgo\n",
       "1                        Irlanda\n",
       "2                          Suíça\n",
       "3                        Noruega\n",
       "4                      Singapura\n",
       "                 ...            \n",
       "599    República Centro-Africana\n",
       "600                      Libéria\n",
       "601                       Malawi\n",
       "602                      Burundi\n",
       "603                      Somália\n",
       "Name: País/Território, Length: 604, dtype: object"
      ]
     },
     "execution_count": 127,
     "metadata": {},
     "output_type": "execute_result"
    }
   ],
   "source": [
    "paises"
   ]
  },
  {
   "cell_type": "markdown",
   "metadata": {},
   "source": [
    "empilhamos as colunas das três tabelas, vamos ordenar os dados.\n",
    "\n",
    "`!pip install unidecode`"
   ]
  },
  {
   "cell_type": "code",
   "execution_count": 128,
   "metadata": {},
   "outputs": [
    {
     "data": {
      "text/plain": [
       "0        Afeganistão\n",
       "1        Afeganistão\n",
       "2        Afeganistão\n",
       "3             África\n",
       "4      África do Sul\n",
       "           ...      \n",
       "599           Zâmbia\n",
       "600           Zâmbia\n",
       "601         Zimbabwe\n",
       "602         Zimbabwe\n",
       "603         Zimbabwe\n",
       "Name: País/Território, Length: 604, dtype: object"
      ]
     },
     "execution_count": 128,
     "metadata": {},
     "output_type": "execute_result"
    }
   ],
   "source": [
    "from unidecode import unidecode\n",
    "# Ordenar ignorando acentos\n",
    "paises = paises.sort_values(key=lambda x: x.apply(unidecode)).reset_index(drop=True)\n",
    "paises"
   ]
  },
  {
   "cell_type": "markdown",
   "metadata": {},
   "source": [
    "Agora, vamos a função `drop_duplicates()` para remover os duplicados. Assim, teremos uma lista de países únicos que podemos usar como identificador."
   ]
  },
  {
   "cell_type": "code",
   "execution_count": 129,
   "metadata": {},
   "outputs": [],
   "source": [
    "paises = paises.drop_duplicates().reset_index(drop=True)"
   ]
  },
  {
   "cell_type": "code",
   "execution_count": 130,
   "metadata": {},
   "outputs": [
    {
     "data": {
      "text/plain": [
       "0        Afeganistão\n",
       "1             África\n",
       "2      África do Sul\n",
       "3            Albânia\n",
       "4           Alemanha\n",
       "           ...      \n",
       "214          Vanuatu\n",
       "215        Venezuela\n",
       "216         Vietname\n",
       "217           Zâmbia\n",
       "218         Zimbabwe\n",
       "Name: País/Território, Length: 219, dtype: object"
      ]
     },
     "execution_count": 130,
     "metadata": {},
     "output_type": "execute_result"
    }
   ],
   "source": [
    "paises"
   ]
  },
  {
   "cell_type": "code",
   "execution_count": 131,
   "metadata": {},
   "outputs": [],
   "source": [
    "paises = pd.DataFrame({'País/Território': paises.reset_index(drop=True)})\n",
    "paises['ID'] = range(1, len(paises) + 1)"
   ]
  },
  {
   "cell_type": "code",
   "execution_count": 132,
   "metadata": {},
   "outputs": [
    {
     "data": {
      "application/vnd.microsoft.datawrangler.viewer.v0+json": {
       "columns": [
        {
         "name": "index",
         "rawType": "int64",
         "type": "integer"
        },
        {
         "name": "País/Território",
         "rawType": "object",
         "type": "string"
        },
        {
         "name": "ID",
         "rawType": "int64",
         "type": "integer"
        }
       ],
       "conversionMethod": "pd.DataFrame",
       "ref": "989a23c0-6b5f-4e57-9beb-a9d402c6f51d",
       "rows": [
        [
         "0",
         "Afeganistão",
         "1"
        ],
        [
         "1",
         "África",
         "2"
        ],
        [
         "2",
         "África do Sul",
         "3"
        ],
        [
         "3",
         "Albânia",
         "4"
        ],
        [
         "4",
         "Alemanha",
         "5"
        ],
        [
         "5",
         "América",
         "6"
        ],
        [
         "6",
         "América Central",
         "7"
        ],
        [
         "7",
         "América do Sul",
         "8"
        ],
        [
         "8",
         "Andorra",
         "9"
        ],
        [
         "9",
         "Angola",
         "10"
        ],
        [
         "10",
         "Anguila",
         "11"
        ],
        [
         "11",
         "Antígua e Barbuda",
         "12"
        ],
        [
         "12",
         "Arábia Saudita",
         "13"
        ],
        [
         "13",
         "Argélia",
         "14"
        ],
        [
         "14",
         "Argentina",
         "15"
        ],
        [
         "15",
         "Armênia",
         "16"
        ],
        [
         "16",
         "Aruba",
         "17"
        ],
        [
         "17",
         "Austrália",
         "18"
        ],
        [
         "18",
         "Áustria",
         "19"
        ],
        [
         "19",
         "Azerbaijão",
         "20"
        ],
        [
         "20",
         "Bahamas",
         "21"
        ],
        [
         "21",
         "Bahrein",
         "22"
        ],
        [
         "22",
         "Bangladesh",
         "23"
        ],
        [
         "23",
         "Barbados",
         "24"
        ],
        [
         "24",
         "Bélgica",
         "25"
        ],
        [
         "25",
         "Belize",
         "26"
        ],
        [
         "26",
         "Benim",
         "27"
        ],
        [
         "27",
         "Bermudas",
         "28"
        ],
        [
         "28",
         "Bielorrússia",
         "29"
        ],
        [
         "29",
         "Bolívia",
         "30"
        ],
        [
         "30",
         "Bósnia e Herzegovina",
         "31"
        ],
        [
         "31",
         "Botswana",
         "32"
        ],
        [
         "32",
         "Brasil",
         "33"
        ],
        [
         "33",
         "Brunei",
         "34"
        ],
        [
         "34",
         "Bulgária",
         "35"
        ],
        [
         "35",
         "Burquina Fasso",
         "36"
        ],
        [
         "36",
         "Burundi",
         "37"
        ],
        [
         "37",
         "Butão",
         "38"
        ],
        [
         "38",
         "Cabo Verde",
         "39"
        ],
        [
         "39",
         "Camarões",
         "40"
        ],
        [
         "40",
         "Camboja",
         "41"
        ],
        [
         "41",
         "Canadá",
         "42"
        ],
        [
         "42",
         "Catar",
         "43"
        ],
        [
         "43",
         "Cazaquistão",
         "44"
        ],
        [
         "44",
         "Chade",
         "45"
        ],
        [
         "45",
         "Chéquia",
         "46"
        ],
        [
         "46",
         "Chile",
         "47"
        ],
        [
         "47",
         "China",
         "48"
        ],
        [
         "48",
         "Chipre",
         "49"
        ],
        [
         "49",
         "Cisjordânia e Faixa de Gaza",
         "50"
        ]
       ],
       "shape": {
        "columns": 2,
        "rows": 219
       }
      },
      "text/html": [
       "<div>\n",
       "<style scoped>\n",
       "    .dataframe tbody tr th:only-of-type {\n",
       "        vertical-align: middle;\n",
       "    }\n",
       "\n",
       "    .dataframe tbody tr th {\n",
       "        vertical-align: top;\n",
       "    }\n",
       "\n",
       "    .dataframe thead th {\n",
       "        text-align: right;\n",
       "    }\n",
       "</style>\n",
       "<table border=\"1\" class=\"dataframe\">\n",
       "  <thead>\n",
       "    <tr style=\"text-align: right;\">\n",
       "      <th></th>\n",
       "      <th>País/Território</th>\n",
       "      <th>ID</th>\n",
       "    </tr>\n",
       "  </thead>\n",
       "  <tbody>\n",
       "    <tr>\n",
       "      <th>0</th>\n",
       "      <td>Afeganistão</td>\n",
       "      <td>1</td>\n",
       "    </tr>\n",
       "    <tr>\n",
       "      <th>1</th>\n",
       "      <td>África</td>\n",
       "      <td>2</td>\n",
       "    </tr>\n",
       "    <tr>\n",
       "      <th>2</th>\n",
       "      <td>África do Sul</td>\n",
       "      <td>3</td>\n",
       "    </tr>\n",
       "    <tr>\n",
       "      <th>3</th>\n",
       "      <td>Albânia</td>\n",
       "      <td>4</td>\n",
       "    </tr>\n",
       "    <tr>\n",
       "      <th>4</th>\n",
       "      <td>Alemanha</td>\n",
       "      <td>5</td>\n",
       "    </tr>\n",
       "    <tr>\n",
       "      <th>...</th>\n",
       "      <td>...</td>\n",
       "      <td>...</td>\n",
       "    </tr>\n",
       "    <tr>\n",
       "      <th>214</th>\n",
       "      <td>Vanuatu</td>\n",
       "      <td>215</td>\n",
       "    </tr>\n",
       "    <tr>\n",
       "      <th>215</th>\n",
       "      <td>Venezuela</td>\n",
       "      <td>216</td>\n",
       "    </tr>\n",
       "    <tr>\n",
       "      <th>216</th>\n",
       "      <td>Vietname</td>\n",
       "      <td>217</td>\n",
       "    </tr>\n",
       "    <tr>\n",
       "      <th>217</th>\n",
       "      <td>Zâmbia</td>\n",
       "      <td>218</td>\n",
       "    </tr>\n",
       "    <tr>\n",
       "      <th>218</th>\n",
       "      <td>Zimbabwe</td>\n",
       "      <td>219</td>\n",
       "    </tr>\n",
       "  </tbody>\n",
       "</table>\n",
       "<p>219 rows × 2 columns</p>\n",
       "</div>"
      ],
      "text/plain": [
       "    País/Território   ID\n",
       "0       Afeganistão    1\n",
       "1            África    2\n",
       "2     África do Sul    3\n",
       "3           Albânia    4\n",
       "4          Alemanha    5\n",
       "..              ...  ...\n",
       "214         Vanuatu  215\n",
       "215       Venezuela  216\n",
       "216        Vietname  217\n",
       "217          Zâmbia  218\n",
       "218        Zimbabwe  219\n",
       "\n",
       "[219 rows x 2 columns]"
      ]
     },
     "execution_count": 132,
     "metadata": {},
     "output_type": "execute_result"
    }
   ],
   "source": [
    "paises"
   ]
  },
  {
   "cell_type": "markdown",
   "metadata": {},
   "source": [
    "Vamos juntar esse identificador em todas as tabelas utilizando 'País/Território' como chave."
   ]
  },
  {
   "cell_type": "code",
   "execution_count": 133,
   "metadata": {},
   "outputs": [],
   "source": [
    "tabela1 = tabela1.merge(paises, on='País/Território', how='left')\n",
    "tabela2 = tabela2.merge(paises, on='País/Território', how='left')\n",
    "tabela3 = tabela3.merge(paises, on='País/Território', how='left')"
   ]
  },
  {
   "cell_type": "code",
   "execution_count": 134,
   "metadata": {},
   "outputs": [
    {
     "data": {
      "application/vnd.microsoft.datawrangler.viewer.v0+json": {
       "columns": [
        {
         "name": "index",
         "rawType": "int64",
         "type": "integer"
        },
        {
         "name": "Posição",
         "rawType": "object",
         "type": "string"
        },
        {
         "name": "País/Território",
         "rawType": "object",
         "type": "string"
        },
        {
         "name": "US$_FMI",
         "rawType": "float64",
         "type": "float"
        },
        {
         "name": "ID",
         "rawType": "int64",
         "type": "integer"
        }
       ],
       "conversionMethod": "pd.DataFrame",
       "ref": "32637112-4506-4b1b-b916-64a8c563a65a",
       "rows": [
        [
         "0",
         "1",
         "Luxemburgo",
         "131.384",
         "126"
        ],
        [
         "1",
         "2",
         "Irlanda",
         "106.059",
         "108"
        ],
        [
         "2",
         "3",
         "Suíça",
         "105.669",
         "195"
        ],
        [
         "3",
         "4",
         "Noruega",
         "94.66",
         "152"
        ],
        [
         "4",
         "5",
         "Singapura",
         "88.447",
         "188"
        ],
        [
         "5",
         "6",
         "Estados Unidos",
         "85.373",
         "73"
        ],
        [
         "6",
         "7",
         "Islândia",
         "84.594",
         "109"
        ],
        [
         "7",
         "8",
         "Catar",
         "81.4",
         "43"
        ],
        [
         "8",
         "—",
         "Macau",
         "78.962",
         "127"
        ],
        [
         "9",
         "9",
         "Dinamarca",
         "68.898",
         "60"
        ],
        [
         "10",
         "10",
         "Austrália",
         "66.589",
         "18"
        ],
        [
         "11",
         "11",
         "Países Baixos",
         "63.75",
         "156"
        ],
        [
         "12",
         "12",
         "San Marino",
         "59.405",
         "179"
        ],
        [
         "13",
         "13",
         "Áustria",
         "59.225",
         "19"
        ],
        [
         "14",
         "14",
         "Suécia",
         "58.529",
         "194"
        ],
        [
         "15",
         "15",
         "Bélgica",
         "55.536",
         "25"
        ],
        [
         "16",
         "16",
         "Finlândia",
         "55.127",
         "79"
        ],
        [
         "17",
         "17",
         "Canadá",
         "54.866",
         "42"
        ],
        [
         "18",
         "18",
         "Alemanha",
         "54.291",
         "5"
        ],
        [
         "19",
         "19",
         "Emirados Árabes Unidos",
         "53.916",
         "65"
        ],
        [
         "20",
         "—",
         "Hong Kong",
         "53.606",
         "95"
        ],
        [
         "21",
         "20",
         "Israel",
         "53.372",
         "110"
        ],
        [
         "22",
         "21",
         "Reino Unido",
         "51.075",
         "170"
        ],
        [
         "23",
         "22",
         "Nova Zelândia",
         "48.531",
         "154"
        ],
        [
         "24",
         "23",
         "França",
         "47.359",
         "80"
        ],
        [
         "25",
         "24",
         "Malta",
         "41.738",
         "134"
        ],
        [
         "26",
         "25",
         "Itália",
         "39.58",
         "111"
        ],
        [
         "27",
         "—",
         "Aruba",
         "38.018",
         "17"
        ],
        [
         "28",
         "—",
         "Porto Rico",
         "37.172",
         "166"
        ],
        [
         "29",
         "26",
         "Chipre",
         "37.149",
         "49"
        ],
        [
         "30",
         "27",
         "Bahamas",
         "35.257",
         "21"
        ],
        [
         "31",
         "28",
         "Brunei",
         "35.111",
         "34"
        ],
        [
         "32",
         "—",
         "Taiwan",
         "34.432",
         "198"
        ],
        [
         "33",
         "29",
         "Coreia do Sul",
         "34.165",
         "54"
        ],
        [
         "34",
         "30",
         "Espanha",
         "34.045",
         "70"
        ],
        [
         "35",
         "31",
         "Eslovênia",
         "34.026",
         "69"
        ],
        [
         "36",
         "32",
         "Japão",
         "33.138",
         "113"
        ],
        [
         "37",
         "33",
         "Arábia Saudita",
         "33.04",
         "13"
        ],
        [
         "38",
         "34",
         "Estónia",
         "31.855",
         "74"
        ],
        [
         "39",
         "35",
         "Kuwait",
         "31.724",
         "117"
        ],
        [
         "40",
         "36",
         "Chéquia",
         "29.801",
         "46"
        ],
        [
         "41",
         "37",
         "Portugal",
         "28.969",
         "167"
        ],
        [
         "42",
         "38",
         "Bahrein",
         "28.876",
         "22"
        ],
        [
         "43",
         "39",
         "Lituânia",
         "28.407",
         "125"
        ],
        [
         "44",
         "40",
         "Guiana",
         "26.592",
         "89"
        ],
        [
         "45",
         "41",
         "Eslováquia",
         "25.935",
         "68"
        ],
        [
         "46",
         "42",
         "Letônia",
         "24.194",
         "120"
        ],
        [
         "47",
         "43",
         "Grécia",
         "23.966",
         "86"
        ],
        [
         "48",
         "44",
         "São Cristóvão e Neves",
         "23.705",
         "181"
        ],
        [
         "49",
         "45",
         "Barbados",
         "23.596",
         "24"
        ]
       ],
       "shape": {
        "columns": 4,
        "rows": 192
       }
      },
      "text/html": [
       "<div>\n",
       "<style scoped>\n",
       "    .dataframe tbody tr th:only-of-type {\n",
       "        vertical-align: middle;\n",
       "    }\n",
       "\n",
       "    .dataframe tbody tr th {\n",
       "        vertical-align: top;\n",
       "    }\n",
       "\n",
       "    .dataframe thead th {\n",
       "        text-align: right;\n",
       "    }\n",
       "</style>\n",
       "<table border=\"1\" class=\"dataframe\">\n",
       "  <thead>\n",
       "    <tr style=\"text-align: right;\">\n",
       "      <th></th>\n",
       "      <th>Posição</th>\n",
       "      <th>País/Território</th>\n",
       "      <th>US$_FMI</th>\n",
       "      <th>ID</th>\n",
       "    </tr>\n",
       "  </thead>\n",
       "  <tbody>\n",
       "    <tr>\n",
       "      <th>0</th>\n",
       "      <td>1</td>\n",
       "      <td>Luxemburgo</td>\n",
       "      <td>131.384</td>\n",
       "      <td>126</td>\n",
       "    </tr>\n",
       "    <tr>\n",
       "      <th>1</th>\n",
       "      <td>2</td>\n",
       "      <td>Irlanda</td>\n",
       "      <td>106.059</td>\n",
       "      <td>108</td>\n",
       "    </tr>\n",
       "    <tr>\n",
       "      <th>2</th>\n",
       "      <td>3</td>\n",
       "      <td>Suíça</td>\n",
       "      <td>105.669</td>\n",
       "      <td>195</td>\n",
       "    </tr>\n",
       "    <tr>\n",
       "      <th>3</th>\n",
       "      <td>4</td>\n",
       "      <td>Noruega</td>\n",
       "      <td>94.660</td>\n",
       "      <td>152</td>\n",
       "    </tr>\n",
       "    <tr>\n",
       "      <th>4</th>\n",
       "      <td>5</td>\n",
       "      <td>Singapura</td>\n",
       "      <td>88.447</td>\n",
       "      <td>188</td>\n",
       "    </tr>\n",
       "    <tr>\n",
       "      <th>...</th>\n",
       "      <td>...</td>\n",
       "      <td>...</td>\n",
       "      <td>...</td>\n",
       "      <td>...</td>\n",
       "    </tr>\n",
       "    <tr>\n",
       "      <th>187</th>\n",
       "      <td>181</td>\n",
       "      <td>Iêmen</td>\n",
       "      <td>486.000</td>\n",
       "      <td>97</td>\n",
       "    </tr>\n",
       "    <tr>\n",
       "      <th>188</th>\n",
       "      <td>182</td>\n",
       "      <td>Malawi</td>\n",
       "      <td>481.000</td>\n",
       "      <td>131</td>\n",
       "    </tr>\n",
       "    <tr>\n",
       "      <th>189</th>\n",
       "      <td>183</td>\n",
       "      <td>Afeganistão</td>\n",
       "      <td>422.000</td>\n",
       "      <td>1</td>\n",
       "    </tr>\n",
       "    <tr>\n",
       "      <th>190</th>\n",
       "      <td>183</td>\n",
       "      <td>Sudão do Sul</td>\n",
       "      <td>422.000</td>\n",
       "      <td>193</td>\n",
       "    </tr>\n",
       "    <tr>\n",
       "      <th>191</th>\n",
       "      <td>185</td>\n",
       "      <td>Burundi</td>\n",
       "      <td>230.000</td>\n",
       "      <td>37</td>\n",
       "    </tr>\n",
       "  </tbody>\n",
       "</table>\n",
       "<p>192 rows × 4 columns</p>\n",
       "</div>"
      ],
      "text/plain": [
       "    Posição País/Território  US$_FMI   ID\n",
       "0         1      Luxemburgo  131.384  126\n",
       "1         2         Irlanda  106.059  108\n",
       "2         3           Suíça  105.669  195\n",
       "3         4         Noruega   94.660  152\n",
       "4         5       Singapura   88.447  188\n",
       "..      ...             ...      ...  ...\n",
       "187     181           Iêmen  486.000   97\n",
       "188     182          Malawi  481.000  131\n",
       "189     183     Afeganistão  422.000    1\n",
       "190     183    Sudão do Sul  422.000  193\n",
       "191     185         Burundi  230.000   37\n",
       "\n",
       "[192 rows x 4 columns]"
      ]
     },
     "execution_count": 134,
     "metadata": {},
     "output_type": "execute_result"
    }
   ],
   "source": [
    "tabela1"
   ]
  },
  {
   "cell_type": "code",
   "execution_count": 135,
   "metadata": {},
   "outputs": [
    {
     "data": {
      "text/plain": [
       "0"
      ]
     },
     "execution_count": 135,
     "metadata": {},
     "output_type": "execute_result"
    }
   ],
   "source": [
    "# verificar o numero de linhas nulas em tabela1['ID]\n",
    "tabela1['ID'].isnull().sum()\n"
   ]
  },
  {
   "cell_type": "code",
   "execution_count": 136,
   "metadata": {},
   "outputs": [
    {
     "data": {
      "application/vnd.microsoft.datawrangler.viewer.v0+json": {
       "columns": [
        {
         "name": "index",
         "rawType": "int64",
         "type": "integer"
        },
        {
         "name": "Posição",
         "rawType": "object",
         "type": "string"
        },
        {
         "name": "País/Território",
         "rawType": "object",
         "type": "string"
        },
        {
         "name": "US$_WB",
         "rawType": "float64",
         "type": "float"
        },
        {
         "name": "ID",
         "rawType": "int64",
         "type": "integer"
        }
       ],
       "conversionMethod": "pd.DataFrame",
       "ref": "fe08644e-bc3c-46ac-8456-a1a328c341b7",
       "rows": [
        [
         "0",
         "1",
         "Mónaco",
         "190.512",
         "140"
        ],
        [
         "1",
         "2",
         "Liechtenstein",
         "180.366",
         "124"
        ],
        [
         "2",
         "3",
         "Luxemburgo",
         "114.705",
         "126"
        ],
        [
         "3",
         "—",
         "Macau",
         "84.096",
         "127"
        ],
        [
         "4",
         "4",
         "Suíça",
         "81.994",
         "195"
        ],
        [
         "5",
         "5",
         "Irlanda",
         "78.661",
         "108"
        ],
        [
         "6",
         "6",
         "Noruega",
         "75.42",
         "152"
        ],
        [
         "7",
         "7",
         "Islândia",
         "66.945",
         "109"
        ],
        [
         "8",
         "8",
         "Estados Unidos",
         "65.281",
         "73"
        ],
        [
         "9",
         "9",
         "Singapura",
         "65.233",
         "188"
        ],
        [
         "10",
         "10",
         "Catar",
         "64.782",
         "43"
        ],
        [
         "11",
         "11",
         "Dinamarca",
         "59.822",
         "60"
        ],
        [
         "12",
         "12",
         "Austrália",
         "54.907",
         "18"
        ],
        [
         "13",
         "13",
         "Países Baixos",
         "52.448",
         "156"
        ],
        [
         "14",
         "14",
         "Suécia",
         "51.61",
         "194"
        ],
        [
         "15",
         "15",
         "Áustria",
         "50.277",
         "19"
        ],
        [
         "16",
         "—",
         "Hong Kong",
         "48.756",
         "95"
        ],
        [
         "17",
         "16",
         "Finlândia",
         "48.686",
         "79"
        ],
        [
         "18",
         "17",
         "San Marino",
         "48.481",
         "179"
        ],
        [
         "19",
         "18",
         "Alemanha",
         "46.259",
         "5"
        ],
        [
         "20",
         "19",
         "Canadá",
         "46.195",
         "42"
        ],
        [
         "21",
         "20",
         "Bélgica",
         "46.117",
         "25"
        ],
        [
         "22",
         "21",
         "Israel",
         "43.641",
         "110"
        ],
        [
         "23",
         "22",
         "Emirados Árabes Unidos",
         "43.103",
         "65"
        ],
        [
         "24",
         "23",
         "Reino Unido",
         "42.3",
         "170"
        ],
        [
         "25",
         "24",
         "Nova Zelândia",
         "42.084",
         "154"
        ],
        [
         "26",
         "25",
         "Andorra",
         "40.886",
         "9"
        ],
        [
         "27",
         "26",
         "França",
         "40.494",
         "80"
        ],
        [
         "28",
         "27",
         "Japão",
         "40.247",
         "113"
        ],
        [
         "29",
         "—",
         "União Europeia",
         "34.843",
         "212"
        ],
        [
         "30",
         "28",
         "Itália",
         "33.19",
         "111"
        ],
        [
         "31",
         "29",
         "Bahamas",
         "32.934",
         "21"
        ],
        [
         "32",
         "—",
         "Porto Rico",
         "32.874",
         "166"
        ],
        [
         "33",
         "30",
         "Kuwait",
         "32.032",
         "117"
        ],
        [
         "34",
         "31",
         "Coreia do Sul",
         "31.762",
         "54"
        ],
        [
         "35",
         "32",
         "Brunei",
         "31.087",
         "34"
        ],
        [
         "36",
         "33",
         "Espanha",
         "29.614",
         "70"
        ],
        [
         "37",
         "34",
         "Malta",
         "29.416",
         "134"
        ],
        [
         "38",
         "35",
         "Chipre",
         "27.858",
         "49"
        ],
        [
         "39",
         "36",
         "Eslovênia",
         "25.739",
         "69"
        ],
        [
         "40",
         "37",
         "Estónia",
         "23.66",
         "74"
        ],
        [
         "41",
         "38",
         "Bahrein",
         "23.504",
         "22"
        ],
        [
         "42",
         "39",
         "Portugal",
         "23.145",
         "167"
        ],
        [
         "43",
         "40",
         "Arábia Saudita",
         "23.14",
         "13"
        ],
        [
         "44",
         "41",
         "Chéquia",
         "23.102",
         "46"
        ],
        [
         "45",
         "42",
         "São Cristóvão e Neves",
         "19.897",
         "181"
        ],
        [
         "46",
         "43",
         "Grécia",
         "19.583",
         "86"
        ],
        [
         "47",
         "44",
         "Lituânia",
         "19.456",
         "125"
        ],
        [
         "48",
         "45",
         "Eslováquia",
         "19.329",
         "68"
        ],
        [
         "49",
         "46",
         "Barbados",
         "18.148",
         "24"
        ]
       ],
       "shape": {
        "columns": 4,
        "rows": 196
       }
      },
      "text/html": [
       "<div>\n",
       "<style scoped>\n",
       "    .dataframe tbody tr th:only-of-type {\n",
       "        vertical-align: middle;\n",
       "    }\n",
       "\n",
       "    .dataframe tbody tr th {\n",
       "        vertical-align: top;\n",
       "    }\n",
       "\n",
       "    .dataframe thead th {\n",
       "        text-align: right;\n",
       "    }\n",
       "</style>\n",
       "<table border=\"1\" class=\"dataframe\">\n",
       "  <thead>\n",
       "    <tr style=\"text-align: right;\">\n",
       "      <th></th>\n",
       "      <th>Posição</th>\n",
       "      <th>País/Território</th>\n",
       "      <th>US$_WB</th>\n",
       "      <th>ID</th>\n",
       "    </tr>\n",
       "  </thead>\n",
       "  <tbody>\n",
       "    <tr>\n",
       "      <th>0</th>\n",
       "      <td>1</td>\n",
       "      <td>Mónaco</td>\n",
       "      <td>190.512</td>\n",
       "      <td>140</td>\n",
       "    </tr>\n",
       "    <tr>\n",
       "      <th>1</th>\n",
       "      <td>2</td>\n",
       "      <td>Liechtenstein</td>\n",
       "      <td>180.366</td>\n",
       "      <td>124</td>\n",
       "    </tr>\n",
       "    <tr>\n",
       "      <th>2</th>\n",
       "      <td>3</td>\n",
       "      <td>Luxemburgo</td>\n",
       "      <td>114.705</td>\n",
       "      <td>126</td>\n",
       "    </tr>\n",
       "    <tr>\n",
       "      <th>3</th>\n",
       "      <td>—</td>\n",
       "      <td>Macau</td>\n",
       "      <td>84.096</td>\n",
       "      <td>127</td>\n",
       "    </tr>\n",
       "    <tr>\n",
       "      <th>4</th>\n",
       "      <td>4</td>\n",
       "      <td>Suíça</td>\n",
       "      <td>81.994</td>\n",
       "      <td>195</td>\n",
       "    </tr>\n",
       "    <tr>\n",
       "      <th>...</th>\n",
       "      <td>...</td>\n",
       "      <td>...</td>\n",
       "      <td>...</td>\n",
       "      <td>...</td>\n",
       "    </tr>\n",
       "    <tr>\n",
       "      <th>191</th>\n",
       "      <td>185</td>\n",
       "      <td>Moçambique</td>\n",
       "      <td>492.000</td>\n",
       "      <td>138</td>\n",
       "    </tr>\n",
       "    <tr>\n",
       "      <th>192</th>\n",
       "      <td>186</td>\n",
       "      <td>República Centro-Africana</td>\n",
       "      <td>468.000</td>\n",
       "      <td>171</td>\n",
       "    </tr>\n",
       "    <tr>\n",
       "      <th>193</th>\n",
       "      <td>187</td>\n",
       "      <td>Sudão</td>\n",
       "      <td>442.000</td>\n",
       "      <td>192</td>\n",
       "    </tr>\n",
       "    <tr>\n",
       "      <th>194</th>\n",
       "      <td>188</td>\n",
       "      <td>Malawi</td>\n",
       "      <td>412.000</td>\n",
       "      <td>131</td>\n",
       "    </tr>\n",
       "    <tr>\n",
       "      <th>195</th>\n",
       "      <td>189</td>\n",
       "      <td>Burundi</td>\n",
       "      <td>261.000</td>\n",
       "      <td>37</td>\n",
       "    </tr>\n",
       "  </tbody>\n",
       "</table>\n",
       "<p>196 rows × 4 columns</p>\n",
       "</div>"
      ],
      "text/plain": [
       "    Posição            País/Território   US$_WB   ID\n",
       "0         1                     Mónaco  190.512  140\n",
       "1         2              Liechtenstein  180.366  124\n",
       "2         3                 Luxemburgo  114.705  126\n",
       "3         —                      Macau   84.096  127\n",
       "4         4                      Suíça   81.994  195\n",
       "..      ...                        ...      ...  ...\n",
       "191     185                 Moçambique  492.000  138\n",
       "192     186  República Centro-Africana  468.000  171\n",
       "193     187                      Sudão  442.000  192\n",
       "194     188                     Malawi  412.000  131\n",
       "195     189                    Burundi  261.000   37\n",
       "\n",
       "[196 rows x 4 columns]"
      ]
     },
     "execution_count": 136,
     "metadata": {},
     "output_type": "execute_result"
    }
   ],
   "source": [
    "tabela2"
   ]
  },
  {
   "cell_type": "code",
   "execution_count": 137,
   "metadata": {},
   "outputs": [
    {
     "data": {
      "text/plain": [
       "0"
      ]
     },
     "execution_count": 137,
     "metadata": {},
     "output_type": "execute_result"
    }
   ],
   "source": [
    "tabela2['ID'].isnull().sum()"
   ]
  },
  {
   "cell_type": "code",
   "execution_count": 138,
   "metadata": {},
   "outputs": [
    {
     "data": {
      "application/vnd.microsoft.datawrangler.viewer.v0+json": {
       "columns": [
        {
         "name": "index",
         "rawType": "int64",
         "type": "integer"
        },
        {
         "name": "Posição",
         "rawType": "object",
         "type": "string"
        },
        {
         "name": "País/Território",
         "rawType": "object",
         "type": "string"
        },
        {
         "name": "US$_UN",
         "rawType": "float64",
         "type": "float"
        },
        {
         "name": "ID",
         "rawType": "int64",
         "type": "integer"
        }
       ],
       "conversionMethod": "pd.DataFrame",
       "ref": "e1081e6e-ee85-4d13-9a2a-e4b7dc769dd8",
       "rows": [
        [
         "0",
         "1",
         "Mónaco",
         "185.835",
         "140"
        ],
        [
         "1",
         "2",
         "Liechtenstein",
         "179.258",
         "124"
        ],
        [
         "2",
         "3",
         "Luxemburgo",
         "117.37",
         "126"
        ],
        [
         "3",
         "4",
         "Bermudas",
         "101.208",
         "28"
        ],
        [
         "4",
         "5",
         "Macau",
         "86.355",
         "127"
        ],
        [
         "5",
         "6",
         "Ilhas Caimã",
         "85.474",
         "98"
        ],
        [
         "6",
         "4",
         "Suíça",
         "82.709",
         "195"
        ],
        [
         "7",
         "5",
         "Noruega",
         "81.336",
         "152"
        ],
        [
         "8",
         "6",
         "Irlanda",
         "79.415",
         "108"
        ],
        [
         "9",
         "7",
         "Islândia",
         "76.867",
         "109"
        ],
        [
         "10",
         "8",
         "Catar",
         "68.794",
         "43"
        ],
        [
         "11",
         "9",
         "Estados Unidos",
         "62.918",
         "73"
        ],
        [
         "12",
         "10",
         "Singapura",
         "62.721",
         "188"
        ],
        [
         "13",
         "11",
         "Dinamarca",
         "61.834",
         "60"
        ],
        [
         "14",
         "12",
         "Austrália",
         "58.393",
         "18"
        ],
        [
         "15",
         "13",
         "Suécia",
         "55.767",
         "194"
        ],
        [
         "16",
         "—",
         "Gronelândia",
         "53.95",
         "87"
        ],
        [
         "17",
         "14",
         "Países Baixos",
         "53.583",
         "156"
        ],
        [
         "18",
         "15",
         "Áustria",
         "51.23",
         "19"
        ],
        [
         "19",
         "16",
         "Finlândia",
         "50.136",
         "79"
        ],
        [
         "20",
         "—",
         "Hong Kong",
         "49.199",
         "95"
        ],
        [
         "21",
         "—",
         "Ilhas Virgens Britânicas",
         "48.511",
         "103"
        ],
        [
         "22",
         "17",
         "San Marino",
         "48.473",
         "179"
        ],
        [
         "23",
         "18",
         "Alemanha",
         "47.514",
         "5"
        ],
        [
         "24",
         "19",
         "Bélgica",
         "47.293",
         "25"
        ],
        [
         "25",
         "20",
         "Canadá",
         "46.192",
         "42"
        ],
        [
         "26",
         "21",
         "Israel",
         "44.215",
         "110"
        ],
        [
         "27",
         "22",
         "Nova Zelândia",
         "43.836",
         "154"
        ],
        [
         "28",
         "23",
         "Emirados Árabes Unidos",
         "43.005",
         "65"
        ],
        [
         "29",
         "24",
         "Reino Unido",
         "42.526",
         "170"
        ],
        [
         "30",
         "25",
         "Andorra",
         "42.052",
         "9"
        ],
        [
         "31",
         "26",
         "França",
         "41.358",
         "80"
        ],
        [
         "32",
         "27",
         "Japão",
         "39.082",
         "113"
        ],
        [
         "33",
         "—",
         "Nova Caledônia",
         "36.335",
         "153"
        ],
        [
         "34",
         "28",
         "Itália",
         "34.389",
         "111"
        ],
        [
         "35",
         "29",
         "Kuwait",
         "34.249",
         "117"
        ],
        [
         "36",
         "30",
         "Coreia do Sul",
         "33.622",
         "54"
        ],
        [
         "37",
         "—",
         "Porto Rico",
         "33.271",
         "166"
        ],
        [
         "38",
         "31",
         "Malta",
         "33.123",
         "134"
        ],
        [
         "39",
         "32",
         "Bahamas",
         "32.218",
         "21"
        ],
        [
         "40",
         "33",
         "Brunei",
         "31.627",
         "34"
        ],
        [
         "41",
         "34",
         "Espanha",
         "30.406",
         "70"
        ],
        [
         "42",
         "—",
         "Aruba",
         "30.262",
         "17"
        ],
        [
         "43",
         "—",
         "Europa",
         "29.279",
         "76"
        ],
        [
         "44",
         "35",
         "Chipre",
         "28.968",
         "49"
        ],
        [
         "45",
         "—",
         "América",
         "27.722",
         "6"
        ],
        [
         "46",
         "—",
         "Turcas e Caicos",
         "27.142",
         "206"
        ],
        [
         "47",
         "36",
         "Eslovênia",
         "26.005",
         "69"
        ],
        [
         "48",
         "37",
         "Bahrein",
         "24.134",
         "22"
        ],
        [
         "49",
         "38",
         "Portugal",
         "23.478",
         "167"
        ]
       ],
       "shape": {
        "columns": 4,
        "rows": 216
       }
      },
      "text/html": [
       "<div>\n",
       "<style scoped>\n",
       "    .dataframe tbody tr th:only-of-type {\n",
       "        vertical-align: middle;\n",
       "    }\n",
       "\n",
       "    .dataframe tbody tr th {\n",
       "        vertical-align: top;\n",
       "    }\n",
       "\n",
       "    .dataframe thead th {\n",
       "        text-align: right;\n",
       "    }\n",
       "</style>\n",
       "<table border=\"1\" class=\"dataframe\">\n",
       "  <thead>\n",
       "    <tr style=\"text-align: right;\">\n",
       "      <th></th>\n",
       "      <th>Posição</th>\n",
       "      <th>País/Território</th>\n",
       "      <th>US$_UN</th>\n",
       "      <th>ID</th>\n",
       "    </tr>\n",
       "  </thead>\n",
       "  <tbody>\n",
       "    <tr>\n",
       "      <th>0</th>\n",
       "      <td>1</td>\n",
       "      <td>Mónaco</td>\n",
       "      <td>185.835</td>\n",
       "      <td>140</td>\n",
       "    </tr>\n",
       "    <tr>\n",
       "      <th>1</th>\n",
       "      <td>2</td>\n",
       "      <td>Liechtenstein</td>\n",
       "      <td>179.258</td>\n",
       "      <td>124</td>\n",
       "    </tr>\n",
       "    <tr>\n",
       "      <th>2</th>\n",
       "      <td>3</td>\n",
       "      <td>Luxemburgo</td>\n",
       "      <td>117.370</td>\n",
       "      <td>126</td>\n",
       "    </tr>\n",
       "    <tr>\n",
       "      <th>3</th>\n",
       "      <td>4</td>\n",
       "      <td>Bermudas</td>\n",
       "      <td>101.208</td>\n",
       "      <td>28</td>\n",
       "    </tr>\n",
       "    <tr>\n",
       "      <th>4</th>\n",
       "      <td>5</td>\n",
       "      <td>Macau</td>\n",
       "      <td>86.355</td>\n",
       "      <td>127</td>\n",
       "    </tr>\n",
       "    <tr>\n",
       "      <th>...</th>\n",
       "      <td>...</td>\n",
       "      <td>...</td>\n",
       "      <td>...</td>\n",
       "      <td>...</td>\n",
       "    </tr>\n",
       "    <tr>\n",
       "      <th>211</th>\n",
       "      <td>189</td>\n",
       "      <td>República Centro-Africana</td>\n",
       "      <td>481.000</td>\n",
       "      <td>171</td>\n",
       "    </tr>\n",
       "    <tr>\n",
       "      <th>212</th>\n",
       "      <td>190</td>\n",
       "      <td>Libéria</td>\n",
       "      <td>440.000</td>\n",
       "      <td>122</td>\n",
       "    </tr>\n",
       "    <tr>\n",
       "      <th>213</th>\n",
       "      <td>191</td>\n",
       "      <td>Malawi</td>\n",
       "      <td>397.000</td>\n",
       "      <td>131</td>\n",
       "    </tr>\n",
       "    <tr>\n",
       "      <th>214</th>\n",
       "      <td>192</td>\n",
       "      <td>Burundi</td>\n",
       "      <td>294.000</td>\n",
       "      <td>37</td>\n",
       "    </tr>\n",
       "    <tr>\n",
       "      <th>215</th>\n",
       "      <td>193</td>\n",
       "      <td>Somália</td>\n",
       "      <td>100.000</td>\n",
       "      <td>190</td>\n",
       "    </tr>\n",
       "  </tbody>\n",
       "</table>\n",
       "<p>216 rows × 4 columns</p>\n",
       "</div>"
      ],
      "text/plain": [
       "    Posição            País/Território   US$_UN   ID\n",
       "0         1                     Mónaco  185.835  140\n",
       "1         2              Liechtenstein  179.258  124\n",
       "2         3                 Luxemburgo  117.370  126\n",
       "3         4                   Bermudas  101.208   28\n",
       "4         5                      Macau   86.355  127\n",
       "..      ...                        ...      ...  ...\n",
       "211     189  República Centro-Africana  481.000  171\n",
       "212     190                    Libéria  440.000  122\n",
       "213     191                     Malawi  397.000  131\n",
       "214     192                    Burundi  294.000   37\n",
       "215     193                    Somália  100.000  190\n",
       "\n",
       "[216 rows x 4 columns]"
      ]
     },
     "execution_count": 138,
     "metadata": {},
     "output_type": "execute_result"
    }
   ],
   "source": [
    "tabela3"
   ]
  },
  {
   "cell_type": "code",
   "execution_count": 139,
   "metadata": {},
   "outputs": [
    {
     "data": {
      "text/plain": [
       "0"
      ]
     },
     "execution_count": 139,
     "metadata": {},
     "output_type": "execute_result"
    }
   ],
   "source": [
    "tabela3['ID'].isnull().sum()"
   ]
  },
  {
   "cell_type": "markdown",
   "metadata": {},
   "source": [
    "Agora temos o mesmo identificador para todas as tabelas. Vamos juntar os dados em um único dataframe."
   ]
  },
  {
   "cell_type": "code",
   "execution_count": 140,
   "metadata": {},
   "outputs": [
    {
     "data": {
      "application/vnd.microsoft.datawrangler.viewer.v0+json": {
       "columns": [
        {
         "name": "index",
         "rawType": "int64",
         "type": "integer"
        },
        {
         "name": "ID",
         "rawType": "int64",
         "type": "integer"
        },
        {
         "name": "País/Território",
         "rawType": "object",
         "type": "string"
        },
        {
         "name": "US$_UN",
         "rawType": "float64",
         "type": "float"
        },
        {
         "name": "US$_WB",
         "rawType": "float64",
         "type": "float"
        },
        {
         "name": "US$_FMI",
         "rawType": "float64",
         "type": "float"
        }
       ],
       "conversionMethod": "pd.DataFrame",
       "ref": "b36806ce-2031-42b0-95ae-2c68ef51c104",
       "rows": [
        [
         "0",
         "140",
         "Mónaco",
         "185.835",
         "190.512",
         null
        ],
        [
         "1",
         "124",
         "Liechtenstein",
         "179.258",
         "180.366",
         null
        ],
        [
         "2",
         "126",
         "Luxemburgo",
         "117.37",
         "114.705",
         "131.384"
        ],
        [
         "3",
         "28",
         "Bermudas",
         "101.208",
         null,
         null
        ],
        [
         "4",
         "127",
         "Macau",
         "86.355",
         "84.096",
         "78.962"
        ],
        [
         "5",
         "98",
         "Ilhas Caimã",
         "85.474",
         null,
         null
        ],
        [
         "6",
         "195",
         "Suíça",
         "82.709",
         "81.994",
         "105.669"
        ],
        [
         "7",
         "152",
         "Noruega",
         "81.336",
         "75.42",
         "94.66"
        ],
        [
         "8",
         "108",
         "Irlanda",
         "79.415",
         "78.661",
         "106.059"
        ],
        [
         "9",
         "109",
         "Islândia",
         "76.867",
         "66.945",
         "84.594"
        ],
        [
         "10",
         "43",
         "Catar",
         "68.794",
         "64.782",
         "81.4"
        ],
        [
         "11",
         "73",
         "Estados Unidos",
         "62.918",
         "65.281",
         "85.373"
        ],
        [
         "12",
         "188",
         "Singapura",
         "62.721",
         "65.233",
         "88.447"
        ],
        [
         "13",
         "60",
         "Dinamarca",
         "61.834",
         "59.822",
         "68.898"
        ],
        [
         "14",
         "18",
         "Austrália",
         "58.393",
         "54.907",
         "66.589"
        ],
        [
         "15",
         "194",
         "Suécia",
         "55.767",
         "51.61",
         "58.529"
        ],
        [
         "16",
         "87",
         "Gronelândia",
         "53.95",
         null,
         null
        ],
        [
         "17",
         "156",
         "Países Baixos",
         "53.583",
         "52.448",
         "63.75"
        ],
        [
         "18",
         "19",
         "Áustria",
         "51.23",
         "50.277",
         "59.225"
        ],
        [
         "19",
         "79",
         "Finlândia",
         "50.136",
         "48.686",
         "55.127"
        ],
        [
         "20",
         "95",
         "Hong Kong",
         "49.199",
         "48.756",
         "53.606"
        ],
        [
         "21",
         "103",
         "Ilhas Virgens Britânicas",
         "48.511",
         null,
         null
        ],
        [
         "22",
         "179",
         "San Marino",
         "48.473",
         "48.481",
         "59.405"
        ],
        [
         "23",
         "5",
         "Alemanha",
         "47.514",
         "46.259",
         "54.291"
        ],
        [
         "24",
         "25",
         "Bélgica",
         "47.293",
         "46.117",
         "55.536"
        ],
        [
         "25",
         "42",
         "Canadá",
         "46.192",
         "46.195",
         "54.866"
        ],
        [
         "26",
         "110",
         "Israel",
         "44.215",
         "43.641",
         "53.372"
        ],
        [
         "27",
         "154",
         "Nova Zelândia",
         "43.836",
         "42.084",
         "48.531"
        ],
        [
         "28",
         "65",
         "Emirados Árabes Unidos",
         "43.005",
         "43.103",
         "53.916"
        ],
        [
         "29",
         "170",
         "Reino Unido",
         "42.526",
         "42.3",
         "51.075"
        ],
        [
         "30",
         "9",
         "Andorra",
         "42.052",
         "40.886",
         null
        ],
        [
         "31",
         "80",
         "França",
         "41.358",
         "40.494",
         "47.359"
        ],
        [
         "32",
         "113",
         "Japão",
         "39.082",
         "40.247",
         "33.138"
        ],
        [
         "33",
         "153",
         "Nova Caledônia",
         "36.335",
         null,
         null
        ],
        [
         "34",
         "111",
         "Itália",
         "34.389",
         "33.19",
         "39.58"
        ],
        [
         "35",
         "117",
         "Kuwait",
         "34.249",
         "32.032",
         "31.724"
        ],
        [
         "36",
         "54",
         "Coreia do Sul",
         "33.622",
         "31.762",
         "34.165"
        ],
        [
         "37",
         "166",
         "Porto Rico",
         "33.271",
         "32.874",
         "37.172"
        ],
        [
         "38",
         "134",
         "Malta",
         "33.123",
         "29.416",
         "41.738"
        ],
        [
         "39",
         "21",
         "Bahamas",
         "32.218",
         "32.934",
         "35.257"
        ],
        [
         "40",
         "34",
         "Brunei",
         "31.627",
         "31.087",
         "35.111"
        ],
        [
         "41",
         "70",
         "Espanha",
         "30.406",
         "29.614",
         "34.045"
        ],
        [
         "42",
         "17",
         "Aruba",
         "30.262",
         null,
         "38.018"
        ],
        [
         "43",
         "76",
         "Europa",
         "29.279",
         null,
         null
        ],
        [
         "44",
         "49",
         "Chipre",
         "28.968",
         "27.858",
         "37.149"
        ],
        [
         "45",
         "6",
         "América",
         "27.722",
         null,
         null
        ],
        [
         "46",
         "206",
         "Turcas e Caicos",
         "27.142",
         null,
         null
        ],
        [
         "47",
         "69",
         "Eslovênia",
         "26.005",
         "25.739",
         "34.026"
        ],
        [
         "48",
         "22",
         "Bahrein",
         "24.134",
         "23.504",
         "28.876"
        ],
        [
         "49",
         "167",
         "Portugal",
         "23.478",
         "23.145",
         "28.969"
        ]
       ],
       "shape": {
        "columns": 5,
        "rows": 216
       }
      },
      "text/html": [
       "<div>\n",
       "<style scoped>\n",
       "    .dataframe tbody tr th:only-of-type {\n",
       "        vertical-align: middle;\n",
       "    }\n",
       "\n",
       "    .dataframe tbody tr th {\n",
       "        vertical-align: top;\n",
       "    }\n",
       "\n",
       "    .dataframe thead th {\n",
       "        text-align: right;\n",
       "    }\n",
       "</style>\n",
       "<table border=\"1\" class=\"dataframe\">\n",
       "  <thead>\n",
       "    <tr style=\"text-align: right;\">\n",
       "      <th></th>\n",
       "      <th>ID</th>\n",
       "      <th>País/Território</th>\n",
       "      <th>US$_UN</th>\n",
       "      <th>US$_WB</th>\n",
       "      <th>US$_FMI</th>\n",
       "    </tr>\n",
       "  </thead>\n",
       "  <tbody>\n",
       "    <tr>\n",
       "      <th>0</th>\n",
       "      <td>140</td>\n",
       "      <td>Mónaco</td>\n",
       "      <td>185.835</td>\n",
       "      <td>190.512</td>\n",
       "      <td>NaN</td>\n",
       "    </tr>\n",
       "    <tr>\n",
       "      <th>1</th>\n",
       "      <td>124</td>\n",
       "      <td>Liechtenstein</td>\n",
       "      <td>179.258</td>\n",
       "      <td>180.366</td>\n",
       "      <td>NaN</td>\n",
       "    </tr>\n",
       "    <tr>\n",
       "      <th>2</th>\n",
       "      <td>126</td>\n",
       "      <td>Luxemburgo</td>\n",
       "      <td>117.370</td>\n",
       "      <td>114.705</td>\n",
       "      <td>131.384</td>\n",
       "    </tr>\n",
       "    <tr>\n",
       "      <th>3</th>\n",
       "      <td>28</td>\n",
       "      <td>Bermudas</td>\n",
       "      <td>101.208</td>\n",
       "      <td>NaN</td>\n",
       "      <td>NaN</td>\n",
       "    </tr>\n",
       "    <tr>\n",
       "      <th>4</th>\n",
       "      <td>127</td>\n",
       "      <td>Macau</td>\n",
       "      <td>86.355</td>\n",
       "      <td>84.096</td>\n",
       "      <td>78.962</td>\n",
       "    </tr>\n",
       "    <tr>\n",
       "      <th>...</th>\n",
       "      <td>...</td>\n",
       "      <td>...</td>\n",
       "      <td>...</td>\n",
       "      <td>...</td>\n",
       "      <td>...</td>\n",
       "    </tr>\n",
       "    <tr>\n",
       "      <th>211</th>\n",
       "      <td>171</td>\n",
       "      <td>República Centro-Africana</td>\n",
       "      <td>481.000</td>\n",
       "      <td>468.000</td>\n",
       "      <td>538.000</td>\n",
       "    </tr>\n",
       "    <tr>\n",
       "      <th>212</th>\n",
       "      <td>122</td>\n",
       "      <td>Libéria</td>\n",
       "      <td>440.000</td>\n",
       "      <td>622.000</td>\n",
       "      <td>855.000</td>\n",
       "    </tr>\n",
       "    <tr>\n",
       "      <th>213</th>\n",
       "      <td>131</td>\n",
       "      <td>Malawi</td>\n",
       "      <td>397.000</td>\n",
       "      <td>412.000</td>\n",
       "      <td>481.000</td>\n",
       "    </tr>\n",
       "    <tr>\n",
       "      <th>214</th>\n",
       "      <td>37</td>\n",
       "      <td>Burundi</td>\n",
       "      <td>294.000</td>\n",
       "      <td>261.000</td>\n",
       "      <td>230.000</td>\n",
       "    </tr>\n",
       "    <tr>\n",
       "      <th>215</th>\n",
       "      <td>190</td>\n",
       "      <td>Somália</td>\n",
       "      <td>100.000</td>\n",
       "      <td>NaN</td>\n",
       "      <td>NaN</td>\n",
       "    </tr>\n",
       "  </tbody>\n",
       "</table>\n",
       "<p>216 rows × 5 columns</p>\n",
       "</div>"
      ],
      "text/plain": [
       "      ID            País/Território   US$_UN   US$_WB  US$_FMI\n",
       "0    140                     Mónaco  185.835  190.512      NaN\n",
       "1    124              Liechtenstein  179.258  180.366      NaN\n",
       "2    126                 Luxemburgo  117.370  114.705  131.384\n",
       "3     28                   Bermudas  101.208      NaN      NaN\n",
       "4    127                      Macau   86.355   84.096   78.962\n",
       "..   ...                        ...      ...      ...      ...\n",
       "211  171  República Centro-Africana  481.000  468.000  538.000\n",
       "212  122                    Libéria  440.000  622.000  855.000\n",
       "213  131                     Malawi  397.000  412.000  481.000\n",
       "214   37                    Burundi  294.000  261.000  230.000\n",
       "215  190                    Somália  100.000      NaN      NaN\n",
       "\n",
       "[216 rows x 5 columns]"
      ]
     },
     "execution_count": 140,
     "metadata": {},
     "output_type": "execute_result"
    }
   ],
   "source": [
    "# Agora temos o mesmo identificador para todas as tabelas. Vamos juntar os dados em um único dataframe, queremos começar com a tabela 3 que possui mais dados\n",
    "df = tabela3[['ID', 'País/Território', 'US$_UN']].copy()\n",
    "# Merge com a tabela 2\n",
    "df = df.merge(tabela2[['ID', 'US$_WB']], on='ID', how='left')\n",
    "# Merge com a tabela 1\n",
    "df = df.merge(tabela1[['ID', 'US$_FMI']], on='ID', how='left')\n",
    "df\n"
   ]
  },
  {
   "cell_type": "markdown",
   "metadata": {},
   "source": [
    "Ótimo, esse processo é importante para preparação de dados em econometria e machine learning. Agora temos um dataframe com os dados de PIB nominal per capita de vários países, com uma variável identificadora única para cada país. Podemos usar esse dataframe para realizar análises e modelagens econométricas."
   ]
  },
  {
   "cell_type": "markdown",
   "metadata": {},
   "source": [
    "**Web Scraping com BeautifulSoup**"
   ]
  },
  {
   "cell_type": "markdown",
   "metadata": {},
   "source": [
    "API"
   ]
  },
  {
   "cell_type": "code",
   "execution_count": 12,
   "metadata": {},
   "outputs": [
    {
     "data": {
      "text/plain": [
       "{'post code': '90210',\n",
       " 'country': 'United States',\n",
       " 'country abbreviation': 'US',\n",
       " 'places': [{'place name': 'Beverly Hills',\n",
       "   'longitude': '-118.4065',\n",
       "   'state': 'California',\n",
       "   'state abbreviation': 'CA',\n",
       "   'latitude': '34.0901'}]}"
      ]
     },
     "execution_count": 12,
     "metadata": {},
     "output_type": "execute_result"
    }
   ],
   "source": [
    "# Let's search the department locatiton\n",
    "import requests\n",
    "\n",
    "zipcode = '90210'\n",
    "url = 'https://api.zippopotam.us/us/'+zipcode\n",
    "\n",
    "response = requests.get(url)\n",
    "data = response.json()\n",
    "data"
   ]
  },
  {
   "cell_type": "code",
   "execution_count": 13,
   "metadata": {},
   "outputs": [
    {
     "name": "stdout",
     "output_type": "stream",
     "text": [
      "<class 'str'>\n",
      "<class 'str'>\n",
      "<class 'str'>\n",
      "<class 'list'>\n",
      "1\n",
      "<class 'dict'>\n"
     ]
    }
   ],
   "source": [
    "# Check type of value\n",
    "for d in data.values():\n",
    "    print(type(d))\n",
    "    \n",
    "# Check list length\n",
    "print(len(data['places']))\n",
    "\n",
    "# Check type of content of list\n",
    "print(type(data['places'][0]))"
   ]
  },
  {
   "cell_type": "code",
   "execution_count": 14,
   "metadata": {},
   "outputs": [
    {
     "data": {
      "application/vnd.microsoft.datawrangler.viewer.v0+json": {
       "columns": [
        {
         "name": "index",
         "rawType": "int64",
         "type": "integer"
        },
        {
         "name": "place name",
         "rawType": "object",
         "type": "string"
        },
        {
         "name": "longitude",
         "rawType": "object",
         "type": "string"
        },
        {
         "name": "state",
         "rawType": "object",
         "type": "string"
        },
        {
         "name": "state abbreviation",
         "rawType": "object",
         "type": "string"
        },
        {
         "name": "latitude",
         "rawType": "object",
         "type": "string"
        },
        {
         "name": "zipcode",
         "rawType": "object",
         "type": "string"
        }
       ],
       "conversionMethod": "pd.DataFrame",
       "ref": "a0538769-e156-458c-93d1-b0d3a439df75",
       "rows": [
        [
         "0",
         "Beverly Hills",
         "-118.4065",
         "California",
         "CA",
         "34.0901",
         "90210"
        ]
       ],
       "shape": {
        "columns": 6,
        "rows": 1
       }
      },
      "text/html": [
       "<div>\n",
       "<style scoped>\n",
       "    .dataframe tbody tr th:only-of-type {\n",
       "        vertical-align: middle;\n",
       "    }\n",
       "\n",
       "    .dataframe tbody tr th {\n",
       "        vertical-align: top;\n",
       "    }\n",
       "\n",
       "    .dataframe thead th {\n",
       "        text-align: right;\n",
       "    }\n",
       "</style>\n",
       "<table border=\"1\" class=\"dataframe\">\n",
       "  <thead>\n",
       "    <tr style=\"text-align: right;\">\n",
       "      <th></th>\n",
       "      <th>place name</th>\n",
       "      <th>longitude</th>\n",
       "      <th>state</th>\n",
       "      <th>state abbreviation</th>\n",
       "      <th>latitude</th>\n",
       "      <th>zipcode</th>\n",
       "    </tr>\n",
       "  </thead>\n",
       "  <tbody>\n",
       "    <tr>\n",
       "      <th>0</th>\n",
       "      <td>Beverly Hills</td>\n",
       "      <td>-118.4065</td>\n",
       "      <td>California</td>\n",
       "      <td>CA</td>\n",
       "      <td>34.0901</td>\n",
       "      <td>90210</td>\n",
       "    </tr>\n",
       "  </tbody>\n",
       "</table>\n",
       "</div>"
      ],
      "text/plain": [
       "      place name  longitude       state state abbreviation latitude zipcode\n",
       "0  Beverly Hills  -118.4065  California                 CA  34.0901   90210"
      ]
     },
     "execution_count": 14,
     "metadata": {},
     "output_type": "execute_result"
    }
   ],
   "source": [
    "# Add zipcode to data\n",
    "data['places'][0]['zipcode'] = zipcode\n",
    "\n",
    "# Export data\n",
    "df = pd.DataFrame(data['places'])\n",
    "df"
   ]
  },
  {
   "cell_type": "markdown",
   "metadata": {},
   "source": [
    "### Introdução\n",
    "\n",
    "Em econometria e ciência de dados aplicados à economia, é fundamental compreender a estrutura dos dados que estamos analisando. A forma como os dados estão organizados influencia diretamente:\n",
    "\n",
    "* O tipo de modelo estatístico que podemos aplicar;\n",
    "* As hipóteses que podem ser testadas;\n",
    "* As limitações na inferência causal.\n",
    "\n",
    "Os três principais tipos de estrutura de dados são:\n",
    "\n",
    "* **Séries Temporais (Time Series)**\n",
    "* **Dados em Seção Cruzada (Cross-sectional)**\n",
    "* **Dados em Painel (Panel Data)**"
   ]
  },
  {
   "cell_type": "markdown",
   "metadata": {},
   "source": [
    "### Séries Temporais\n",
    "\n",
    "**Definição**\n",
    "\n",
    "Séries temporais são conjuntos de observações ordenadas no tempo. Em geral, os dados são univariados ou multivariados e possuem frequência temporal regular (diária, mensal, trimestral, anual etc.).\n",
    "\n",
    "Os dados de séries temporais acompanham a evolução de variáveis de um indivíduo (unidade de análise) ao longo do tempo. Por exemplo, o preço de fechamento de uma ação em cada dia do mês é uma série temporal; Ou o pib per capita de um país em cada ano.\n",
    "\n",
    "Costuma-se modelar séries temporais como:\n",
    "\n",
    "$$ Y_{t} = f(Y_{t-1}, Y_{t-2}, ..., Y_{t-n}) $$\n",
    "\n",
    "Supondo que $Y_t$ seja a variável dependente, $Y_{t-1}$, $Y_{t-2}$, ..., $Y_{t-n}$ sejam as variáveis independentes e $f$ seja uma função que relaciona essas variáveis. Essa função pode ser linear ou não linear. Assumindo que a relação seja linear, podemos escrever:\n",
    "\n",
    "$$ Y_t = \\alpha + \\beta_1 Y_{t-1} + \\beta_2 Y_{t-2} + ... + \\epsilon_t $$\n",
    "\n",
    "repare que a variável dependente $Y_t$ possui um subscrito $t$ que indica o tempo, e a variável independente $Y_{t-1}$ possui um subscrito $t-1$ que indica o tempo anterior. Essa estrutura é típica de séries temporais, onde a variável dependente depende de seus próprios valores passados.\n",
    "\n",
    "\n",
    "***Estrutura típica em python***"
   ]
  },
  {
   "cell_type": "code",
   "execution_count": 5,
   "metadata": {},
   "outputs": [
    {
     "data": {
      "application/vnd.microsoft.datawrangler.viewer.v0+json": {
       "columns": [
        {
         "name": "date",
         "rawType": "datetime64[ns]",
         "type": "datetime"
        },
        {
         "name": "gdp",
         "rawType": "float64",
         "type": "float"
        },
        {
         "name": "inflation",
         "rawType": "float64",
         "type": "float"
        }
       ],
       "conversionMethod": "pd.DataFrame",
       "ref": "04631478-0d14-43a7-9f5b-e6bdc7834236",
       "rows": [
        [
         "2010-01-31 00:00:00",
         "100.64901424590337",
         "2.904165152430942"
        ],
        [
         "2010-02-28 00:00:00",
         "101.10753495555201",
         "2.9628682046672368"
        ],
        [
         "2010-03-31 00:00:00",
         "101.80184151698222",
         "2.778733005198794"
        ],
        [
         "2010-04-30 00:00:00",
         "102.75875047390463",
         "2.7607586751838658"
        ],
        [
         "2010-05-31 00:00:00",
         "103.18850446148763",
         "3.16250516447884"
        ],
        [
         "2010-06-30 00:00:00",
         "103.61826337440287",
         "3.2712480057141646"
        ],
        [
         "2010-07-31 00:00:00",
         "104.5920272190551",
         "2.985597975683933"
        ],
        [
         "2010-08-31 00:00:00",
         "105.32225763780096",
         "3.2007065795784047"
        ],
        [
         "2010-09-30 00:00:00",
         "105.68141532202048",
         "3.0723272050095267"
        ],
        [
         "2010-10-31 00:00:00",
         "106.34418333509626",
         "2.8709760490789753"
        ],
        [
         "2010-11-30 00:00:00",
         "106.70515802725254",
         "3.072279121101683"
        ],
        [
         "2010-12-31 00:00:00",
         "107.06543910118145",
         "3.307607313293194"
        ],
        [
         "2011-01-31 00:00:00",
         "107.63802778265126",
         "2.9928347921780096"
        ],
        [
         "2011-02-28 00:00:00",
         "107.56404370925392",
         "3.3129287311628013"
        ],
        [
         "2011-03-31 00:00:00",
         "107.54656835950001",
         "2.476050979182051"
        ],
        [
         "2011-04-30 00:00:00",
         "107.87788210072772",
         "3.164380500875045"
        ],
        [
         "2011-05-31 00:00:00",
         "108.07403276462739",
         "3.017409413647634"
        ],
        [
         "2011-06-30 00:00:00",
         "108.66830696440597",
         "2.9401985299068265"
        ],
        [
         "2011-07-31 00:00:00",
         "108.89589974174962",
         "3.0183521553071007"
        ],
        [
         "2011-08-31 00:00:00",
         "108.97220863134902",
         "2.6024862170798215"
        ],
        [
         "2011-09-30 00:00:00",
         "109.91190326202549",
         "2.9560656224324977"
        ],
        [
         "2011-10-31 00:00:00",
         "110.34417037187953",
         "3.0714225143023492"
        ],
        [
         "2011-11-30 00:00:00",
         "110.86442883328591",
         "3.2955788089483034"
        ],
        [
         "2011-12-31 00:00:00",
         "110.93700437742187",
         "2.8963459563452707"
        ],
        [
         "2012-01-31 00:00:00",
         "111.27368956006431",
         "2.8383012794213625"
        ],
        [
         "2012-02-29 00:00:00",
         "111.80696633697727",
         "2.8996485912830927"
        ],
        [
         "2012-03-31 00:00:00",
         "111.96166826375058",
         "3.1830804235404146"
        ],
        [
         "2012-04-30 00:00:00",
         "112.57437766925429",
         "3.065750221931937"
        ],
        [
         "2012-05-31 00:00:00",
         "112.89418606227865",
         "2.8940479592465924"
        ],
        [
         "2012-06-30 00:00:00",
         "113.30667793734067",
         "3.102653486622671"
        ],
        [
         "2012-07-31 00:00:00",
         "113.62616595367184",
         "3.0194155098696083"
        ],
        [
         "2012-08-31 00:00:00",
         "114.68184940902452",
         "3.193728998106578"
        ],
        [
         "2012-09-30 00:00:00",
         "115.17780024160315",
         "2.8595893812245294"
        ],
        [
         "2012-10-31 00:00:00",
         "115.36048696291638",
         "2.934467570680446"
        ],
        [
         "2012-11-30 00:00:00",
         "116.10725043654733",
         "2.9215783693735684"
        ],
        [
         "2012-12-31 00:00:00",
         "116.24099734155602",
         "2.7072970103735763"
        ],
        [
         "2013-01-31 00:00:00",
         "116.80365642005745",
         "3.059224055412915"
        ],
        [
         "2013-02-28 00:00:00",
         "116.71575538289352",
         "3.0522110544359777"
        ],
        [
         "2013-03-31 00:00:00",
         "116.81729956822399",
         "3.001022691328492"
        ],
        [
         "2013-04-30 00:00:00",
         "117.37635793898473",
         "2.953082573324971"
        ],
        [
         "2013-05-31 00:00:00",
         "118.09789791298336",
         "2.716925851589917"
        ],
        [
         "2013-06-30 00:00:00",
         "118.64930839734035",
         "2.9158709354469283"
        ],
        [
         "2013-07-31 00:00:00",
         "119.11461391262387",
         "2.931457096694646"
        ],
        [
         "2013-08-31 00:00:00",
         "119.52428280394709",
         "2.8395445461556763"
        ],
        [
         "2013-09-30 00:00:00",
         "119.58072620683686",
         "2.9677428576667984"
        ],
        [
         "2013-10-31 00:00:00",
         "119.86477294431845",
         "3.0808101713629075"
        ],
        [
         "2013-11-30 00:00:00",
         "120.22658131303052",
         "3.377237180242106"
        ],
        [
         "2013-12-31 00:00:00",
         "121.04371798089619",
         "3.034915562566368"
        ],
        [
         "2014-01-31 00:00:00",
         "121.64680346776673",
         "3.051510078144553"
        ],
        [
         "2014-02-28 00:00:00",
         "121.6178914211579",
         "2.9851108168467664"
        ]
       ],
       "shape": {
        "columns": 2,
        "rows": 60
       }
      },
      "text/html": [
       "<div>\n",
       "<style scoped>\n",
       "    .dataframe tbody tr th:only-of-type {\n",
       "        vertical-align: middle;\n",
       "    }\n",
       "\n",
       "    .dataframe tbody tr th {\n",
       "        vertical-align: top;\n",
       "    }\n",
       "\n",
       "    .dataframe thead th {\n",
       "        text-align: right;\n",
       "    }\n",
       "</style>\n",
       "<table border=\"1\" class=\"dataframe\">\n",
       "  <thead>\n",
       "    <tr style=\"text-align: right;\">\n",
       "      <th></th>\n",
       "      <th>gdp</th>\n",
       "      <th>inflation</th>\n",
       "    </tr>\n",
       "    <tr>\n",
       "      <th>date</th>\n",
       "      <th></th>\n",
       "      <th></th>\n",
       "    </tr>\n",
       "  </thead>\n",
       "  <tbody>\n",
       "    <tr>\n",
       "      <th>2010-01-31</th>\n",
       "      <td>100.649014</td>\n",
       "      <td>2.904165</td>\n",
       "    </tr>\n",
       "    <tr>\n",
       "      <th>2010-02-28</th>\n",
       "      <td>101.107535</td>\n",
       "      <td>2.962868</td>\n",
       "    </tr>\n",
       "    <tr>\n",
       "      <th>2010-03-31</th>\n",
       "      <td>101.801842</td>\n",
       "      <td>2.778733</td>\n",
       "    </tr>\n",
       "    <tr>\n",
       "      <th>2010-04-30</th>\n",
       "      <td>102.758750</td>\n",
       "      <td>2.760759</td>\n",
       "    </tr>\n",
       "    <tr>\n",
       "      <th>2010-05-31</th>\n",
       "      <td>103.188504</td>\n",
       "      <td>3.162505</td>\n",
       "    </tr>\n",
       "    <tr>\n",
       "      <th>2010-06-30</th>\n",
       "      <td>103.618263</td>\n",
       "      <td>3.271248</td>\n",
       "    </tr>\n",
       "    <tr>\n",
       "      <th>2010-07-31</th>\n",
       "      <td>104.592027</td>\n",
       "      <td>2.985598</td>\n",
       "    </tr>\n",
       "    <tr>\n",
       "      <th>2010-08-31</th>\n",
       "      <td>105.322258</td>\n",
       "      <td>3.200707</td>\n",
       "    </tr>\n",
       "    <tr>\n",
       "      <th>2010-09-30</th>\n",
       "      <td>105.681415</td>\n",
       "      <td>3.072327</td>\n",
       "    </tr>\n",
       "    <tr>\n",
       "      <th>2010-10-31</th>\n",
       "      <td>106.344183</td>\n",
       "      <td>2.870976</td>\n",
       "    </tr>\n",
       "    <tr>\n",
       "      <th>2010-11-30</th>\n",
       "      <td>106.705158</td>\n",
       "      <td>3.072279</td>\n",
       "    </tr>\n",
       "    <tr>\n",
       "      <th>2010-12-31</th>\n",
       "      <td>107.065439</td>\n",
       "      <td>3.307607</td>\n",
       "    </tr>\n",
       "    <tr>\n",
       "      <th>2011-01-31</th>\n",
       "      <td>107.638028</td>\n",
       "      <td>2.992835</td>\n",
       "    </tr>\n",
       "    <tr>\n",
       "      <th>2011-02-28</th>\n",
       "      <td>107.564044</td>\n",
       "      <td>3.312929</td>\n",
       "    </tr>\n",
       "    <tr>\n",
       "      <th>2011-03-31</th>\n",
       "      <td>107.546568</td>\n",
       "      <td>2.476051</td>\n",
       "    </tr>\n",
       "    <tr>\n",
       "      <th>2011-04-30</th>\n",
       "      <td>107.877882</td>\n",
       "      <td>3.164381</td>\n",
       "    </tr>\n",
       "    <tr>\n",
       "      <th>2011-05-31</th>\n",
       "      <td>108.074033</td>\n",
       "      <td>3.017409</td>\n",
       "    </tr>\n",
       "    <tr>\n",
       "      <th>2011-06-30</th>\n",
       "      <td>108.668307</td>\n",
       "      <td>2.940199</td>\n",
       "    </tr>\n",
       "    <tr>\n",
       "      <th>2011-07-31</th>\n",
       "      <td>108.895900</td>\n",
       "      <td>3.018352</td>\n",
       "    </tr>\n",
       "    <tr>\n",
       "      <th>2011-08-31</th>\n",
       "      <td>108.972209</td>\n",
       "      <td>2.602486</td>\n",
       "    </tr>\n",
       "    <tr>\n",
       "      <th>2011-09-30</th>\n",
       "      <td>109.911903</td>\n",
       "      <td>2.956066</td>\n",
       "    </tr>\n",
       "    <tr>\n",
       "      <th>2011-10-31</th>\n",
       "      <td>110.344170</td>\n",
       "      <td>3.071423</td>\n",
       "    </tr>\n",
       "    <tr>\n",
       "      <th>2011-11-30</th>\n",
       "      <td>110.864429</td>\n",
       "      <td>3.295579</td>\n",
       "    </tr>\n",
       "    <tr>\n",
       "      <th>2011-12-31</th>\n",
       "      <td>110.937004</td>\n",
       "      <td>2.896346</td>\n",
       "    </tr>\n",
       "    <tr>\n",
       "      <th>2012-01-31</th>\n",
       "      <td>111.273690</td>\n",
       "      <td>2.838301</td>\n",
       "    </tr>\n",
       "    <tr>\n",
       "      <th>2012-02-29</th>\n",
       "      <td>111.806966</td>\n",
       "      <td>2.899649</td>\n",
       "    </tr>\n",
       "    <tr>\n",
       "      <th>2012-03-31</th>\n",
       "      <td>111.961668</td>\n",
       "      <td>3.183080</td>\n",
       "    </tr>\n",
       "    <tr>\n",
       "      <th>2012-04-30</th>\n",
       "      <td>112.574378</td>\n",
       "      <td>3.065750</td>\n",
       "    </tr>\n",
       "    <tr>\n",
       "      <th>2012-05-31</th>\n",
       "      <td>112.894186</td>\n",
       "      <td>2.894048</td>\n",
       "    </tr>\n",
       "    <tr>\n",
       "      <th>2012-06-30</th>\n",
       "      <td>113.306678</td>\n",
       "      <td>3.102653</td>\n",
       "    </tr>\n",
       "    <tr>\n",
       "      <th>2012-07-31</th>\n",
       "      <td>113.626166</td>\n",
       "      <td>3.019416</td>\n",
       "    </tr>\n",
       "    <tr>\n",
       "      <th>2012-08-31</th>\n",
       "      <td>114.681849</td>\n",
       "      <td>3.193729</td>\n",
       "    </tr>\n",
       "    <tr>\n",
       "      <th>2012-09-30</th>\n",
       "      <td>115.177800</td>\n",
       "      <td>2.859589</td>\n",
       "    </tr>\n",
       "    <tr>\n",
       "      <th>2012-10-31</th>\n",
       "      <td>115.360487</td>\n",
       "      <td>2.934468</td>\n",
       "    </tr>\n",
       "    <tr>\n",
       "      <th>2012-11-30</th>\n",
       "      <td>116.107250</td>\n",
       "      <td>2.921578</td>\n",
       "    </tr>\n",
       "    <tr>\n",
       "      <th>2012-12-31</th>\n",
       "      <td>116.240997</td>\n",
       "      <td>2.707297</td>\n",
       "    </tr>\n",
       "    <tr>\n",
       "      <th>2013-01-31</th>\n",
       "      <td>116.803656</td>\n",
       "      <td>3.059224</td>\n",
       "    </tr>\n",
       "    <tr>\n",
       "      <th>2013-02-28</th>\n",
       "      <td>116.715755</td>\n",
       "      <td>3.052211</td>\n",
       "    </tr>\n",
       "    <tr>\n",
       "      <th>2013-03-31</th>\n",
       "      <td>116.817300</td>\n",
       "      <td>3.001023</td>\n",
       "    </tr>\n",
       "    <tr>\n",
       "      <th>2013-04-30</th>\n",
       "      <td>117.376358</td>\n",
       "      <td>2.953083</td>\n",
       "    </tr>\n",
       "    <tr>\n",
       "      <th>2013-05-31</th>\n",
       "      <td>118.097898</td>\n",
       "      <td>2.716926</td>\n",
       "    </tr>\n",
       "    <tr>\n",
       "      <th>2013-06-30</th>\n",
       "      <td>118.649308</td>\n",
       "      <td>2.915871</td>\n",
       "    </tr>\n",
       "    <tr>\n",
       "      <th>2013-07-31</th>\n",
       "      <td>119.114614</td>\n",
       "      <td>2.931457</td>\n",
       "    </tr>\n",
       "    <tr>\n",
       "      <th>2013-08-31</th>\n",
       "      <td>119.524283</td>\n",
       "      <td>2.839545</td>\n",
       "    </tr>\n",
       "    <tr>\n",
       "      <th>2013-09-30</th>\n",
       "      <td>119.580726</td>\n",
       "      <td>2.967743</td>\n",
       "    </tr>\n",
       "    <tr>\n",
       "      <th>2013-10-31</th>\n",
       "      <td>119.864773</td>\n",
       "      <td>3.080810</td>\n",
       "    </tr>\n",
       "    <tr>\n",
       "      <th>2013-11-30</th>\n",
       "      <td>120.226581</td>\n",
       "      <td>3.377237</td>\n",
       "    </tr>\n",
       "    <tr>\n",
       "      <th>2013-12-31</th>\n",
       "      <td>121.043718</td>\n",
       "      <td>3.034916</td>\n",
       "    </tr>\n",
       "    <tr>\n",
       "      <th>2014-01-31</th>\n",
       "      <td>121.646803</td>\n",
       "      <td>3.051510</td>\n",
       "    </tr>\n",
       "    <tr>\n",
       "      <th>2014-02-28</th>\n",
       "      <td>121.617891</td>\n",
       "      <td>2.985111</td>\n",
       "    </tr>\n",
       "    <tr>\n",
       "      <th>2014-03-31</th>\n",
       "      <td>122.215117</td>\n",
       "      <td>2.616246</td>\n",
       "    </tr>\n",
       "    <tr>\n",
       "      <th>2014-04-30</th>\n",
       "      <td>122.599592</td>\n",
       "      <td>2.994697</td>\n",
       "    </tr>\n",
       "    <tr>\n",
       "      <th>2014-05-31</th>\n",
       "      <td>122.896515</td>\n",
       "      <td>3.012046</td>\n",
       "    </tr>\n",
       "    <tr>\n",
       "      <th>2014-06-30</th>\n",
       "      <td>123.580018</td>\n",
       "      <td>3.492648</td>\n",
       "    </tr>\n",
       "    <tr>\n",
       "      <th>2014-07-31</th>\n",
       "      <td>124.389318</td>\n",
       "      <td>2.961528</td>\n",
       "    </tr>\n",
       "    <tr>\n",
       "      <th>2014-08-31</th>\n",
       "      <td>125.168702</td>\n",
       "      <td>3.060309</td>\n",
       "    </tr>\n",
       "    <tr>\n",
       "      <th>2014-09-30</th>\n",
       "      <td>125.416937</td>\n",
       "      <td>2.993058</td>\n",
       "    </tr>\n",
       "    <tr>\n",
       "      <th>2014-10-31</th>\n",
       "      <td>125.824173</td>\n",
       "      <td>2.766264</td>\n",
       "    </tr>\n",
       "    <tr>\n",
       "      <th>2014-11-30</th>\n",
       "      <td>126.423552</td>\n",
       "      <td>3.228565</td>\n",
       "    </tr>\n",
       "    <tr>\n",
       "      <th>2014-12-31</th>\n",
       "      <td>127.216216</td>\n",
       "      <td>3.150387</td>\n",
       "    </tr>\n",
       "  </tbody>\n",
       "</table>\n",
       "</div>"
      ],
      "text/plain": [
       "                   gdp  inflation\n",
       "date                             \n",
       "2010-01-31  100.649014   2.904165\n",
       "2010-02-28  101.107535   2.962868\n",
       "2010-03-31  101.801842   2.778733\n",
       "2010-04-30  102.758750   2.760759\n",
       "2010-05-31  103.188504   3.162505\n",
       "2010-06-30  103.618263   3.271248\n",
       "2010-07-31  104.592027   2.985598\n",
       "2010-08-31  105.322258   3.200707\n",
       "2010-09-30  105.681415   3.072327\n",
       "2010-10-31  106.344183   2.870976\n",
       "2010-11-30  106.705158   3.072279\n",
       "2010-12-31  107.065439   3.307607\n",
       "2011-01-31  107.638028   2.992835\n",
       "2011-02-28  107.564044   3.312929\n",
       "2011-03-31  107.546568   2.476051\n",
       "2011-04-30  107.877882   3.164381\n",
       "2011-05-31  108.074033   3.017409\n",
       "2011-06-30  108.668307   2.940199\n",
       "2011-07-31  108.895900   3.018352\n",
       "2011-08-31  108.972209   2.602486\n",
       "2011-09-30  109.911903   2.956066\n",
       "2011-10-31  110.344170   3.071423\n",
       "2011-11-30  110.864429   3.295579\n",
       "2011-12-31  110.937004   2.896346\n",
       "2012-01-31  111.273690   2.838301\n",
       "2012-02-29  111.806966   2.899649\n",
       "2012-03-31  111.961668   3.183080\n",
       "2012-04-30  112.574378   3.065750\n",
       "2012-05-31  112.894186   2.894048\n",
       "2012-06-30  113.306678   3.102653\n",
       "2012-07-31  113.626166   3.019416\n",
       "2012-08-31  114.681849   3.193729\n",
       "2012-09-30  115.177800   2.859589\n",
       "2012-10-31  115.360487   2.934468\n",
       "2012-11-30  116.107250   2.921578\n",
       "2012-12-31  116.240997   2.707297\n",
       "2013-01-31  116.803656   3.059224\n",
       "2013-02-28  116.715755   3.052211\n",
       "2013-03-31  116.817300   3.001023\n",
       "2013-04-30  117.376358   2.953083\n",
       "2013-05-31  118.097898   2.716926\n",
       "2013-06-30  118.649308   2.915871\n",
       "2013-07-31  119.114614   2.931457\n",
       "2013-08-31  119.524283   2.839545\n",
       "2013-09-30  119.580726   2.967743\n",
       "2013-10-31  119.864773   3.080810\n",
       "2013-11-30  120.226581   3.377237\n",
       "2013-12-31  121.043718   3.034916\n",
       "2014-01-31  121.646803   3.051510\n",
       "2014-02-28  121.617891   2.985111\n",
       "2014-03-31  122.215117   2.616246\n",
       "2014-04-30  122.599592   2.994697\n",
       "2014-05-31  122.896515   3.012046\n",
       "2014-06-30  123.580018   3.492648\n",
       "2014-07-31  124.389318   2.961528\n",
       "2014-08-31  125.168702   3.060309\n",
       "2014-09-30  125.416937   2.993058\n",
       "2014-10-31  125.824173   2.766264\n",
       "2014-11-30  126.423552   3.228565\n",
       "2014-12-31  127.216216   3.150387"
      ]
     },
     "execution_count": 5,
     "metadata": {},
     "output_type": "execute_result"
    }
   ],
   "source": [
    "import pandas as pd\n",
    "import numpy as np\n",
    "\n",
    "# Simulação de série mensal\n",
    "np.random.seed(42)\n",
    "dates = pd.date_range(start='2010-01-01', periods=60, freq='M')\n",
    "gdp = np.cumsum(np.random.normal(0.5, 0.3, size=60)) + 100\n",
    "inflation = np.random.normal(3, 0.2, size=60)\n",
    "\n",
    "df_ts = pd.DataFrame({\n",
    "    'date': dates,\n",
    "    'gdp': gdp,\n",
    "    'inflation': inflation\n",
    "}).set_index('date')\n",
    "\n",
    "df_ts\n"
   ]
  },
  {
   "cell_type": "markdown",
   "metadata": {},
   "source": [
    "Repare que são informações de um único indivíduo (ou unidade de análise) ao longo do tempo."
   ]
  },
  {
   "cell_type": "markdown",
   "metadata": {},
   "source": [
    "***Plotando a série temporal `df_ts['gdp']`***\n",
    "\n",
    "Vamos utilizar o índice do dataframe como eixo x e o valor do PIB como eixo y. Para isso, utilizamos a função `plot()` do matplotlib, que é uma biblioteca de visualização de dados em Python. "
   ]
  },
  {
   "cell_type": "code",
   "execution_count": 12,
   "metadata": {},
   "outputs": [
    {
     "data": {
      "text/plain": [
       "[<matplotlib.lines.Line2D at 0x1a47f5cfbd0>]"
      ]
     },
     "execution_count": 12,
     "metadata": {},
     "output_type": "execute_result"
    },
    {
     "data": {
      "image/png": "[encoded data removed]",
      "text/plain": [
       "<Figure size 640x480 with 1 Axes>"
      ]
     },
     "metadata": {},
     "output_type": "display_data"
    }
   ],
   "source": [
    "import matplotlib.pyplot as plt\n",
    "plt.plot(df_ts.index, df_ts['gdp'])"
   ]
  },
  {
   "cell_type": "markdown",
   "metadata": {},
   "source": [
    "***Plotando a série temporal `df_ts['inflation']`***\n",
    "\n",
    "Novamente, utilizamos o índice do dataframe como eixo x e o valor da inflação como eixo y. A função `plot()` do matplotlib é utilizada para criar o gráfico."
   ]
  },
  {
   "cell_type": "code",
   "execution_count": 13,
   "metadata": {},
   "outputs": [
    {
     "data": {
      "text/plain": [
       "[<matplotlib.lines.Line2D at 0x1a47fbe2c90>]"
      ]
     },
     "execution_count": 13,
     "metadata": {},
     "output_type": "execute_result"
    },
    {
     "data": {
      "image/png": "[encoded data removed]",
      "text/plain": [
       "<Figure size 640x480 with 1 Axes>"
      ]
     },
     "metadata": {},
     "output_type": "display_data"
    }
   ],
   "source": [
    "plt.plot(df_ts.index, df_ts['inflation'])"
   ]
  },
  {
   "cell_type": "markdown",
   "metadata": {},
   "source": [
    "Para a análise desse tipo de dados, é usual o aprofundamento na teoria de séries temporais, que envolve conceitos como:\n",
    "* Tendência\n",
    "* Estacionariedade (ADF, KPSS)\n",
    "* Sazonalidade\n",
    "* Autocorrelação\n",
    "* Heterocedasticidade\n",
    "\n",
    "E a modelagem econométrica de séries temporais, que envolve a construção de modelos estatísticos para ***prever o comportamento futuro da variável e unidade de pesquisa em questão. Esses modelos podem ser univariados ou multivariados, dependendo do número de variáveis envolvidas na análise. Por exemplo:\n",
    "\n",
    "* Modelos ARIMA (AutoRegressive Integrated Moving Average)\n",
    "* Modelos SARIMA (Seasonal ARIMA)\n",
    "* Modelos VAR (Vector AutoRegressive)\n",
    "* Modelos VEC (Vector Error Correction)\n",
    "* Modelos GARCH (Generalized Autoregressive Conditional Heteroskedasticity)\n",
    "* Modelos EGARCH (Exponential GARCH)\n",
    "* Modelos VECM (Vector Error Correction Model)\n",
    "* Modelos VECX (Vector Error Correction with eXogenous variables)\n",
    "* Modelos VECMAX (Vector Error Correction Moving Average with eXogenous variables)\n",
    "* entre outros."
   ]
  },
  {
   "cell_type": "markdown",
   "metadata": {},
   "source": [
    "Cuidados: \n",
    "* Não permutáveis no tempo\n",
    "* Necessidade de estacionariedade em muitos modelos\n",
    "* Sazonalidade, autocorrelação, heterocedasticidade"
   ]
  },
  {
   "cell_type": "markdown",
   "metadata": {},
   "source": [
    "Atualmente, a literatura está se desenvolvendo a partir de modelos de aprendizado de máquina para séries temporais, que buscam capturar padrões complexos e não lineares nos dados. \n",
    "\n",
    "Esses modelos incluem:\n",
    "\n",
    "* Prophet (Facebook)\n",
    "* Random Forest / Extra Trees\n",
    "* Gradient Boosting (XGBoost, LightGBM, CatBoost)\n",
    "* Support Vector Regression (SVR)\n",
    "* Deep Learning para Séries Temporais\n",
    "  * RNN (Recurrent Neural Networks)\n",
    "  * LSTM (Long Short-Term Memory) / GRU\n",
    "  * Temporal Convolutional Networks (TCN)\n",
    "  * Transformer (e variantes como Informer, Autoformer)\n",
    "\n",
    "**Algumas bibliotecas python populares para previsão de séries temporais**\n",
    "\n",
    "| Framework\t| Modelos incluídos |\n",
    "|------------------|------------------|\n",
    "| [sklearn](https://scikit-learn.org/stable/install.html) |\tRF, GB, SVR, Regressão |\n",
    "| [statsmodels](https://www.statsmodels.org/stable/index.html) |\tARIMA, SARIMA, Holt-Winters|\n",
    "| [Prophet](https://facebook.github.io/prophet/docs/quick_start.html) |\tTendência + Sazonalidade + Feriados |\n",
    "| [pmdarima](https://alkaline-ml.com/pmdarima/) |\tAuto ARIMA |\n",
    "| [darts](https://unit8co.github.io/darts/) |\tInterface única para ML, DL e ARIMA |\n",
    "| [gluonts](https://ts.gluon.ai/stable/), [tslearn](https://tslearn.readthedocs.io/en/stable/) | \tDeep learning para séries temporais |"
   ]
  },
  {
   "cell_type": "markdown",
   "metadata": {},
   "source": [
    "### Cross-Sectional - Dados em função de variáveis\n",
    "\n",
    "Dados observados em um único ponto no tempo, abrangendo diferentes unidades (indivíduos, empresas, países, etc.). Muito comuns em estudos de avaliação de impacto e análise de comportamento.\n",
    "\n",
    "Costuma-se modelar dados em seção cruzada como:\n",
    "\n",
    "$$ Y_{i} = f(X_{i}) $$\n",
    "\n",
    "onde $Y_{i}$ é a variável dependente, $X_{i}$ é um vetor de variáveis independentes e $f$ é uma função que relaciona essas variáveis. Essa função pode ser linear ou não linear. Assumindo que a relação seja linear, podemos escrever:\n",
    "\n",
    "$$ Y_{i} = \\alpha + \\beta_1 X_{i1} + \\beta_2 X_{i2} + ... + \\epsilon_{i} $$\n",
    "\n",
    "onde $X_{i1}$, $X_{i2}$, ... são as variáveis independentes e $\\epsilon_{i}$ é o erro aleatório. Essa estrutura é típica de dados em seção cruzada, onde a variável dependente depende de um conjunto de variáveis independentes observadas em um único ponto no tempo.\n",
    "\n",
    "***Estrutura típica em python***\n",
    "\n"
   ]
  },
  {
   "cell_type": "markdown",
   "metadata": {},
   "source": [
    "### Dados em Painel - Dados em função de variáveis e do tempo\n"
   ]
  },
  {
   "cell_type": "markdown",
   "metadata": {},
   "source": [
    "## Objetivo da Aula\n",
    "\n",
    "Nesta aula, vamos aprender a acessar e carregar bases de dados econômicos diretamente do Python utilizando pandas. Faremos exemplos com dados do IBGE, Banco Central do Brasil e fontes internacionais como o World Bank. Ao final, construiremos visualizações básicas que ajudam a explorar esses dados.\n",
    "\n"
   ]
  },
  {
   "cell_type": "code",
   "execution_count": 1,
   "metadata": {},
   "outputs": [
    {
     "ename": "Exception",
     "evalue": "Download error: code = 433",
     "output_type": "error",
     "traceback": [
      "\u001b[1;31m---------------------------------------------------------------------------\u001b[0m",
      "\u001b[1;31mException\u001b[0m                                 Traceback (most recent call last)",
      "Cell \u001b[1;32mIn[1], line 4\u001b[0m\n\u001b[0;32m      1\u001b[0m \u001b[38;5;28;01mfrom\u001b[39;00m \u001b[38;5;21;01mbcb\u001b[39;00m \u001b[38;5;28;01mimport\u001b[39;00m sgs\n\u001b[0;32m      3\u001b[0m \u001b[38;5;66;03m# Série histórica do IPCA (código 433) – IPCA mensal\u001b[39;00m\n\u001b[1;32m----> 4\u001b[0m ipca \u001b[38;5;241m=\u001b[39m \u001b[43msgs\u001b[49m\u001b[38;5;241;43m.\u001b[39;49m\u001b[43mget\u001b[49m\u001b[43m(\u001b[49m\u001b[38;5;241;43m433\u001b[39;49m\u001b[43m,\u001b[49m\u001b[43m \u001b[49m\u001b[43mstart\u001b[49m\u001b[38;5;241;43m=\u001b[39;49m\u001b[38;5;124;43m'\u001b[39;49m\u001b[38;5;124;43m2015-01-01\u001b[39;49m\u001b[38;5;124;43m'\u001b[39;49m\u001b[43m)\u001b[49m\n\u001b[0;32m      5\u001b[0m ipca\u001b[38;5;241m.\u001b[39mhead()\n",
      "File \u001b[1;32mc:\\Users\\danie\\AppData\\Local\\Programs\\Python\\Python311\\Lib\\site-packages\\bcb\\sgs.py:121\u001b[0m, in \u001b[0;36mget\u001b[1;34m(codes, start, end, last, multi, freq)\u001b[0m\n\u001b[0;32m    119\u001b[0m res \u001b[38;5;241m=\u001b[39m requests\u001b[38;5;241m.\u001b[39mget(urd[\u001b[38;5;124m\"\u001b[39m\u001b[38;5;124murl\u001b[39m\u001b[38;5;124m\"\u001b[39m], params\u001b[38;5;241m=\u001b[39murd[\u001b[38;5;124m\"\u001b[39m\u001b[38;5;124mpayload\u001b[39m\u001b[38;5;124m\"\u001b[39m])\n\u001b[0;32m    120\u001b[0m \u001b[38;5;28;01mif\u001b[39;00m res\u001b[38;5;241m.\u001b[39mstatus_code \u001b[38;5;241m!=\u001b[39m \u001b[38;5;241m200\u001b[39m:\n\u001b[1;32m--> 121\u001b[0m     \u001b[38;5;28;01mraise\u001b[39;00m \u001b[38;5;167;01mException\u001b[39;00m(\u001b[38;5;124m\"\u001b[39m\u001b[38;5;124mDownload error: code = \u001b[39m\u001b[38;5;132;01m{}\u001b[39;00m\u001b[38;5;124m\"\u001b[39m\u001b[38;5;241m.\u001b[39mformat(code\u001b[38;5;241m.\u001b[39mvalue))\n\u001b[0;32m    122\u001b[0m df \u001b[38;5;241m=\u001b[39m pd\u001b[38;5;241m.\u001b[39mread_json(StringIO(res\u001b[38;5;241m.\u001b[39mtext))\n\u001b[0;32m    123\u001b[0m df \u001b[38;5;241m=\u001b[39m _format_df(df, code, freq)\n",
      "\u001b[1;31mException\u001b[0m: Download error: code = 433"
     ]
    }
   ],
   "source": [
    "from bcb import sgs\n",
    "\n",
    "# Série histórica do IPCA (código 433) – IPCA mensal\n",
    "ipca = sgs.get(433, start='2015-01-01')\n",
    "ipca.head()\n"
   ]
  }
 ],
 "metadata": {
  "kernelspec": {
   "display_name": "Python 3",
   "language": "python",
   "name": "python3"
  },
  "language_info": {
   "codemirror_mode": {
    "name": "ipython",
    "version": 3
   },
   "file_extension": ".py",
   "mimetype": "text/x-python",
   "name": "python",
   "nbconvert_exporter": "python",
   "pygments_lexer": "ipython3",
   "version": "3.11.5"
  }
 },
 "nbformat": 4,
 "nbformat_minor": 2
}
