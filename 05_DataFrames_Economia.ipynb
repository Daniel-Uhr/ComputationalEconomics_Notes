{
 "cells": [
  {
   "cell_type": "markdown",
   "metadata": {},
   "source": [
    "# DataFrames em Economia\n",
    "\n",
    "Prof. Daniel de Abreu Pereira Uhr\n",
    "\n",
    "### Conteúdo\n",
    "\n",
    "* Definição \n",
    "  * DataFrames - Séries Temporais\n",
    "  * DataFrames - Cross-Sectional\n",
    "  * DataFrames - Dados em Painel\n",
    "* Algumas Fonte de Dados\n",
    "  * Bacen Data\n",
    "  * Yahoo Finance Data\n",
    "  * IBGE Data\n",
    "  * WoldBank Open Data\n",
    "\n",
    "\n",
    "\n",
    "### Referências\n",
    "\n",
    "* Géron, Aurélien. Hands-On Machine Learning with Scikit-Learn, Keras, and TensorFlow: Concepts, Tools, and Techniques to Build Intelligent Systems. O'Reilly Media, 2019.\n",
    "* Athey, S., & Imbens, G. (2017). \"The State of Applied Econometrics: Causality and Policy Evaluation.\" *Journal of Economic Perspectives*.\n",
    "* Mullainathan, S., & Spiess, J. (2017). \"Machine Learning: An Applied Econometric Approach.\" *Journal of Economic Perspectives*.\n",
    "* Varian, H. R. (2014). \"Big Data: New Tricks for Econometrics.\" *Journal of Economic Perspectives*."
   ]
  },
  {
   "cell_type": "markdown",
   "metadata": {},
   "source": [
    "## Objetivo da Aula\n",
    "\n",
    "Nesta aula, vamos aprender a acessar e carregar bases de dados econômicos diretamente do Python utilizando pandas. Faremos exemplos com dados do IBGE, Banco Central do Brasil e fontes internacionais como o World Bank. Ao final, construiremos visualizações básicas que ajudam a explorar esses dados.\n",
    "\n"
   ]
  },
  {
   "cell_type": "code",
   "execution_count": 1,
   "metadata": {},
   "outputs": [
    {
     "ename": "Exception",
     "evalue": "Download error: code = 433",
     "output_type": "error",
     "traceback": [
      "\u001b[1;31m---------------------------------------------------------------------------\u001b[0m",
      "\u001b[1;31mException\u001b[0m                                 Traceback (most recent call last)",
      "Cell \u001b[1;32mIn[1], line 4\u001b[0m\n\u001b[0;32m      1\u001b[0m \u001b[38;5;28;01mfrom\u001b[39;00m \u001b[38;5;21;01mbcb\u001b[39;00m \u001b[38;5;28;01mimport\u001b[39;00m sgs\n\u001b[0;32m      3\u001b[0m \u001b[38;5;66;03m# Série histórica do IPCA (código 433) – IPCA mensal\u001b[39;00m\n\u001b[1;32m----> 4\u001b[0m ipca \u001b[38;5;241m=\u001b[39m \u001b[43msgs\u001b[49m\u001b[38;5;241;43m.\u001b[39;49m\u001b[43mget\u001b[49m\u001b[43m(\u001b[49m\u001b[38;5;241;43m433\u001b[39;49m\u001b[43m,\u001b[49m\u001b[43m \u001b[49m\u001b[43mstart\u001b[49m\u001b[38;5;241;43m=\u001b[39;49m\u001b[38;5;124;43m'\u001b[39;49m\u001b[38;5;124;43m2015-01-01\u001b[39;49m\u001b[38;5;124;43m'\u001b[39;49m\u001b[43m)\u001b[49m\n\u001b[0;32m      5\u001b[0m ipca\u001b[38;5;241m.\u001b[39mhead()\n",
      "File \u001b[1;32mc:\\Users\\danie\\AppData\\Local\\Programs\\Python\\Python311\\Lib\\site-packages\\bcb\\sgs.py:121\u001b[0m, in \u001b[0;36mget\u001b[1;34m(codes, start, end, last, multi, freq)\u001b[0m\n\u001b[0;32m    119\u001b[0m res \u001b[38;5;241m=\u001b[39m requests\u001b[38;5;241m.\u001b[39mget(urd[\u001b[38;5;124m\"\u001b[39m\u001b[38;5;124murl\u001b[39m\u001b[38;5;124m\"\u001b[39m], params\u001b[38;5;241m=\u001b[39murd[\u001b[38;5;124m\"\u001b[39m\u001b[38;5;124mpayload\u001b[39m\u001b[38;5;124m\"\u001b[39m])\n\u001b[0;32m    120\u001b[0m \u001b[38;5;28;01mif\u001b[39;00m res\u001b[38;5;241m.\u001b[39mstatus_code \u001b[38;5;241m!=\u001b[39m \u001b[38;5;241m200\u001b[39m:\n\u001b[1;32m--> 121\u001b[0m     \u001b[38;5;28;01mraise\u001b[39;00m \u001b[38;5;167;01mException\u001b[39;00m(\u001b[38;5;124m\"\u001b[39m\u001b[38;5;124mDownload error: code = \u001b[39m\u001b[38;5;132;01m{}\u001b[39;00m\u001b[38;5;124m\"\u001b[39m\u001b[38;5;241m.\u001b[39mformat(code\u001b[38;5;241m.\u001b[39mvalue))\n\u001b[0;32m    122\u001b[0m df \u001b[38;5;241m=\u001b[39m pd\u001b[38;5;241m.\u001b[39mread_json(StringIO(res\u001b[38;5;241m.\u001b[39mtext))\n\u001b[0;32m    123\u001b[0m df \u001b[38;5;241m=\u001b[39m _format_df(df, code, freq)\n",
      "\u001b[1;31mException\u001b[0m: Download error: code = 433"
     ]
    }
   ],
   "source": [
    "from bcb import sgs\n",
    "\n",
    "# Série histórica do IPCA (código 433) – IPCA mensal\n",
    "ipca = sgs.get(433, start='2015-01-01')\n",
    "ipca.head()\n"
   ]
  }
 ],
 "metadata": {
  "kernelspec": {
   "display_name": "Python 3",
   "language": "python",
   "name": "python3"
  },
  "language_info": {
   "codemirror_mode": {
    "name": "ipython",
    "version": 3
   },
   "file_extension": ".py",
   "mimetype": "text/x-python",
   "name": "python",
   "nbconvert_exporter": "python",
   "pygments_lexer": "ipython3",
   "version": "3.11.5"
  }
 },
 "nbformat": 4,
 "nbformat_minor": 2
}
