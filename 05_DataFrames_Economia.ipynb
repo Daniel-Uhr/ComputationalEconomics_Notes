{
 "cells": [
  {
   "cell_type": "markdown",
   "metadata": {},
   "source": [
    "# DataFrames em Economia\n",
    "\n",
    "Prof. Daniel de Abreu Pereira Uhr\n",
    "\n",
    "### Conteúdo\n",
    "\n",
    "* Estrutura de Dados \n",
    "  * DataFrames - Séries Temporais\n",
    "  * DataFrames - Cross-Sectional\n",
    "  * DataFrames - Dados em Painel\n",
    "* Algumas Fonte de Dados\n",
    "  * Bacen Data\n",
    "  * Yahoo Finance Data\n",
    "  * IBGE Data\n",
    "  * WoldBank Open Data\n",
    "* Web Scraping\n",
    "  * BeautifulSoup\n",
    "  * Scrapy\n",
    "\n",
    "\n",
    "### Referências\n",
    "\n",
    "* Géron, Aurélien. Hands-On Machine Learning with Scikit-Learn, Keras, and TensorFlow: Concepts, Tools, and Techniques to Build Intelligent Systems. O'Reilly Media, 2019.\n",
    "* Athey, S., & Imbens, G. (2017). \"The State of Applied Econometrics: Causality and Policy Evaluation.\" *Journal of Economic Perspectives*.\n",
    "* Mullainathan, S., & Spiess, J. (2017). \"Machine Learning: An Applied Econometric Approach.\" *Journal of Economic Perspectives*.\n",
    "* Varian, H. R. (2014). \"Big Data: New Tricks for Econometrics.\" *Journal of Economic Perspectives*."
   ]
  },
  {
   "cell_type": "markdown",
   "metadata": {},
   "source": [
    "### Introdução\n",
    "\n",
    "Em econometria e ciência de dados aplicados à economia, é fundamental compreender a estrutura dos dados que estamos analisando. A forma como os dados estão organizados influencia diretamente:\n",
    "\n",
    "* O tipo de modelo estatístico que podemos aplicar;\n",
    "* As hipóteses que podem ser testadas;\n",
    "* As limitações na inferência causal.\n",
    "\n",
    "Os três principais tipos de estrutura de dados são:\n",
    "\n",
    "* **Séries Temporais (Time Series)**\n",
    "* **Dados em Seção Cruzada (Cross-sectional)**\n",
    "* **Dados em Painel (Panel Data)**"
   ]
  },
  {
   "cell_type": "markdown",
   "metadata": {},
   "source": [
    "### Séries Temporais\n",
    "\n",
    "**Definição**\n",
    "\n",
    "Séries temporais são conjuntos de observações ordenadas no tempo. Em geral, os dados são univariados ou multivariados e possuem frequência temporal regular (diária, mensal, trimestral, anual etc.).\n",
    "\n",
    "Estrutura típica"
   ]
  },
  {
   "cell_type": "code",
   "execution_count": 2,
   "metadata": {},
   "outputs": [
    {
     "data": {
      "application/vnd.microsoft.datawrangler.viewer.v0+json": {
       "columns": [
        {
         "name": "date",
         "rawType": "datetime64[ns]",
         "type": "datetime"
        },
        {
         "name": "gdp",
         "rawType": "float64",
         "type": "float"
        },
        {
         "name": "inflation",
         "rawType": "float64",
         "type": "float"
        }
       ],
       "conversionMethod": "pd.DataFrame",
       "ref": "ec97895c-bde5-4fb4-bc34-6a01ed28edcb",
       "rows": [
        [
         "2010-01-31 00:00:00",
         "100.64901424590337",
         "2.904165152430942"
        ],
        [
         "2010-02-28 00:00:00",
         "101.10753495555201",
         "2.9628682046672368"
        ],
        [
         "2010-03-31 00:00:00",
         "101.80184151698222",
         "2.778733005198794"
        ],
        [
         "2010-04-30 00:00:00",
         "102.75875047390463",
         "2.7607586751838658"
        ],
        [
         "2010-05-31 00:00:00",
         "103.18850446148763",
         "3.16250516447884"
        ]
       ],
       "shape": {
        "columns": 2,
        "rows": 5
       }
      },
      "text/html": [
       "<div>\n",
       "<style scoped>\n",
       "    .dataframe tbody tr th:only-of-type {\n",
       "        vertical-align: middle;\n",
       "    }\n",
       "\n",
       "    .dataframe tbody tr th {\n",
       "        vertical-align: top;\n",
       "    }\n",
       "\n",
       "    .dataframe thead th {\n",
       "        text-align: right;\n",
       "    }\n",
       "</style>\n",
       "<table border=\"1\" class=\"dataframe\">\n",
       "  <thead>\n",
       "    <tr style=\"text-align: right;\">\n",
       "      <th></th>\n",
       "      <th>gdp</th>\n",
       "      <th>inflation</th>\n",
       "    </tr>\n",
       "    <tr>\n",
       "      <th>date</th>\n",
       "      <th></th>\n",
       "      <th></th>\n",
       "    </tr>\n",
       "  </thead>\n",
       "  <tbody>\n",
       "    <tr>\n",
       "      <th>2010-01-31</th>\n",
       "      <td>100.649014</td>\n",
       "      <td>2.904165</td>\n",
       "    </tr>\n",
       "    <tr>\n",
       "      <th>2010-02-28</th>\n",
       "      <td>101.107535</td>\n",
       "      <td>2.962868</td>\n",
       "    </tr>\n",
       "    <tr>\n",
       "      <th>2010-03-31</th>\n",
       "      <td>101.801842</td>\n",
       "      <td>2.778733</td>\n",
       "    </tr>\n",
       "    <tr>\n",
       "      <th>2010-04-30</th>\n",
       "      <td>102.758750</td>\n",
       "      <td>2.760759</td>\n",
       "    </tr>\n",
       "    <tr>\n",
       "      <th>2010-05-31</th>\n",
       "      <td>103.188504</td>\n",
       "      <td>3.162505</td>\n",
       "    </tr>\n",
       "  </tbody>\n",
       "</table>\n",
       "</div>"
      ],
      "text/plain": [
       "                   gdp  inflation\n",
       "date                             \n",
       "2010-01-31  100.649014   2.904165\n",
       "2010-02-28  101.107535   2.962868\n",
       "2010-03-31  101.801842   2.778733\n",
       "2010-04-30  102.758750   2.760759\n",
       "2010-05-31  103.188504   3.162505"
      ]
     },
     "execution_count": 2,
     "metadata": {},
     "output_type": "execute_result"
    }
   ],
   "source": [
    "import pandas as pd\n",
    "import numpy as np\n",
    "\n",
    "# Simulação de série mensal\n",
    "np.random.seed(42)\n",
    "dates = pd.date_range(start='2010-01-01', periods=60, freq='M')\n",
    "gdp = np.cumsum(np.random.normal(0.5, 0.3, size=60)) + 100\n",
    "inflation = np.random.normal(3, 0.2, size=60)\n",
    "\n",
    "df_ts = pd.DataFrame({\n",
    "    'date': dates,\n",
    "    'gdp': gdp,\n",
    "    'inflation': inflation\n",
    "}).set_index('date')\n",
    "\n",
    "df_ts.head()\n"
   ]
  },
  {
   "cell_type": "markdown",
   "metadata": {},
   "source": [
    "Aplicações\n",
    "Modelos ARIMA, SARIMA, Prophet\n",
    "\n",
    "Testes de estacionariedade (ADF, KPSS)\n",
    "\n",
    "Previsão e análise de tendência/sazonalidade\n",
    "\n",
    "Cuidados: \n",
    "* Não permutáveis no tempo\n",
    "* Necessidade de estacionariedade em muitos modelos\n",
    "* Sazonalidade, autocorrelação, heterocedasticidade"
   ]
  },
  {
   "cell_type": "code",
   "execution_count": null,
   "metadata": {},
   "outputs": [],
   "source": []
  },
  {
   "cell_type": "markdown",
   "metadata": {},
   "source": [
    "### Estrutura de Dados\n",
    "\n",
    "Nos vamos trabalhar com três tipos de estrutura de dados:\n",
    "\n",
    "* Séries Temporais - Dados em função do tempo\n",
    "\n",
    "* Cross-Sectional - Dados em função de variáveis\n",
    "\n",
    "* Dados em Painel - Dados em função de variáveis e do tempo\n",
    "\n"
   ]
  },
  {
   "cell_type": "markdown",
   "metadata": {},
   "source": [
    "## Objetivo da Aula\n",
    "\n",
    "Nesta aula, vamos aprender a acessar e carregar bases de dados econômicos diretamente do Python utilizando pandas. Faremos exemplos com dados do IBGE, Banco Central do Brasil e fontes internacionais como o World Bank. Ao final, construiremos visualizações básicas que ajudam a explorar esses dados.\n",
    "\n"
   ]
  },
  {
   "cell_type": "code",
   "execution_count": 1,
   "metadata": {},
   "outputs": [
    {
     "ename": "Exception",
     "evalue": "Download error: code = 433",
     "output_type": "error",
     "traceback": [
      "\u001b[1;31m---------------------------------------------------------------------------\u001b[0m",
      "\u001b[1;31mException\u001b[0m                                 Traceback (most recent call last)",
      "Cell \u001b[1;32mIn[1], line 4\u001b[0m\n\u001b[0;32m      1\u001b[0m \u001b[38;5;28;01mfrom\u001b[39;00m \u001b[38;5;21;01mbcb\u001b[39;00m \u001b[38;5;28;01mimport\u001b[39;00m sgs\n\u001b[0;32m      3\u001b[0m \u001b[38;5;66;03m# Série histórica do IPCA (código 433) – IPCA mensal\u001b[39;00m\n\u001b[1;32m----> 4\u001b[0m ipca \u001b[38;5;241m=\u001b[39m \u001b[43msgs\u001b[49m\u001b[38;5;241;43m.\u001b[39;49m\u001b[43mget\u001b[49m\u001b[43m(\u001b[49m\u001b[38;5;241;43m433\u001b[39;49m\u001b[43m,\u001b[49m\u001b[43m \u001b[49m\u001b[43mstart\u001b[49m\u001b[38;5;241;43m=\u001b[39;49m\u001b[38;5;124;43m'\u001b[39;49m\u001b[38;5;124;43m2015-01-01\u001b[39;49m\u001b[38;5;124;43m'\u001b[39;49m\u001b[43m)\u001b[49m\n\u001b[0;32m      5\u001b[0m ipca\u001b[38;5;241m.\u001b[39mhead()\n",
      "File \u001b[1;32mc:\\Users\\danie\\AppData\\Local\\Programs\\Python\\Python311\\Lib\\site-packages\\bcb\\sgs.py:121\u001b[0m, in \u001b[0;36mget\u001b[1;34m(codes, start, end, last, multi, freq)\u001b[0m\n\u001b[0;32m    119\u001b[0m res \u001b[38;5;241m=\u001b[39m requests\u001b[38;5;241m.\u001b[39mget(urd[\u001b[38;5;124m\"\u001b[39m\u001b[38;5;124murl\u001b[39m\u001b[38;5;124m\"\u001b[39m], params\u001b[38;5;241m=\u001b[39murd[\u001b[38;5;124m\"\u001b[39m\u001b[38;5;124mpayload\u001b[39m\u001b[38;5;124m\"\u001b[39m])\n\u001b[0;32m    120\u001b[0m \u001b[38;5;28;01mif\u001b[39;00m res\u001b[38;5;241m.\u001b[39mstatus_code \u001b[38;5;241m!=\u001b[39m \u001b[38;5;241m200\u001b[39m:\n\u001b[1;32m--> 121\u001b[0m     \u001b[38;5;28;01mraise\u001b[39;00m \u001b[38;5;167;01mException\u001b[39;00m(\u001b[38;5;124m\"\u001b[39m\u001b[38;5;124mDownload error: code = \u001b[39m\u001b[38;5;132;01m{}\u001b[39;00m\u001b[38;5;124m\"\u001b[39m\u001b[38;5;241m.\u001b[39mformat(code\u001b[38;5;241m.\u001b[39mvalue))\n\u001b[0;32m    122\u001b[0m df \u001b[38;5;241m=\u001b[39m pd\u001b[38;5;241m.\u001b[39mread_json(StringIO(res\u001b[38;5;241m.\u001b[39mtext))\n\u001b[0;32m    123\u001b[0m df \u001b[38;5;241m=\u001b[39m _format_df(df, code, freq)\n",
      "\u001b[1;31mException\u001b[0m: Download error: code = 433"
     ]
    }
   ],
   "source": [
    "from bcb import sgs\n",
    "\n",
    "# Série histórica do IPCA (código 433) – IPCA mensal\n",
    "ipca = sgs.get(433, start='2015-01-01')\n",
    "ipca.head()\n"
   ]
  }
 ],
 "metadata": {
  "kernelspec": {
   "display_name": "Python 3",
   "language": "python",
   "name": "python3"
  },
  "language_info": {
   "codemirror_mode": {
    "name": "ipython",
    "version": 3
   },
   "file_extension": ".py",
   "mimetype": "text/x-python",
   "name": "python",
   "nbconvert_exporter": "python",
   "pygments_lexer": "ipython3",
   "version": "3.11.5"
  }
 },
 "nbformat": 4,
 "nbformat_minor": 2
}
