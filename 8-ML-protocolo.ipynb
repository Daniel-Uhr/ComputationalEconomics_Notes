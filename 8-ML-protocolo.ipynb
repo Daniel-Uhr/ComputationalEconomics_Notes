{
 "cells": [
  {
   "cell_type": "markdown",
   "metadata": {},
   "source": [
    "# Protocolo Básico para a Aplicação das Técnicas de Machine Learning em Economia\n",
    "\n",
    "Prof. Daniel de Abreu Pereira Uhr\n",
    "\n",
    "### Conteúdo\n",
    "\n",
    "* Protocolo básico para a aplicação de técnicas de Machine Learning em Economia\n",
    "\n",
    "### Referências\n",
    "\n",
    "* Géron, Aurélien. Hands-On Machine Learning with Scikit-Learn, Keras, and TensorFlow: Concepts, Tools, and Techniques to Build Intelligent Systems. O'Reilly Media, 2019.\n",
    "* Athey, S., & Imbens, G. (2017). \"The State of Applied Econometrics: Causality and Policy Evaluation.\" *Journal of Economic Perspectives*.\n",
    "* Mullainathan, S., & Spiess, J. (2017). \"Machine Learning: An Applied Econometric Approach.\" *Journal of Economic Perspectives*.\n",
    "* Varian, H. R. (2014). \"Big Data: New Tricks for Econometrics.\" *Journal of Economic Perspectives*."
   ]
  },
  {
   "cell_type": "markdown",
   "metadata": {},
   "source": [
    "## Protocolo básico para a plicação de técnicas de Machine Learning em Economia\n",
    "\n",
    "Supondo que já temos nossa base de dados (dataframe) pronta para ser utilizada, isto é, todas as variáveis estão no formato adequado e não há valores faltantes, temos em mente as relações entre as variáveis e o problema que queremos resolver, podemos seguir o protocolo básico para a aplicação de técnicas de Machine Learning em Economia.\n",
    "\n",
    "* **1. Dividir a base de dados em treino e teste**\n",
    "* **2. Selecionar o modelo**\n",
    "* **3. Treinar o modelo**\n",
    "* **4. Avaliar o modelo**\n",
    "* **5. Ajustar o modelo**\n",
    "* **6. Fazer previsões**\n",
    " \n",
    "### 1. Dividir a base de dados em treino e teste\n",
    "\n",
    "**Por que dividir a base de dados em treino e teste?**\n",
    "\n",
    "A divisão da base de dados é uma etapa essencial para garantir que o modelo tenha um desempenho confiável e generalizável. Existem diferentes formas de realizar essa divisão, dependendo do contexto e do objetivo do estudo:\n",
    "\n",
    "* Divisão Simples (Hold-Out)\n",
    "  * Descrição: A base de dados é dividida em duas partes: treino e teste. Geralmente, usa-se uma proporção de 70-80% para treino e 20-30% para teste.\n",
    "    * Vantages: É simples e rápido de implementar.\n",
    "    * Desvantagens: Pode gerar resultados instáveis, dependendo da aleatoriedade da divisão.\n",
    "* Validação Cruzada (Cross-Validation)\n",
    "  * Descrição: Divide a base em múltiplos \"folds\". O modelo é treinado em $k-1$ folds e testado no fold restante, repetindo o processo $k$ vezes.\n",
    "    * Vantages: Fornece uma estimativa mais estável do desempenho do modelo.\n",
    "    * Desvantagens: Pode ser computacionalmente mais custoso.\n",
    "* Validação Cruzada Leave-One-Out\n",
    "  * Descrição: Cada observação é usada como conjunto de teste uma vez, enquanto as demais são usadas para treino.\n",
    "    * Vantages: Fornece uma estimativa mais precisa do desempenho do modelo.\n",
    "    * Desvantagens: Pode ser computacionalmente custoso para bases de dados grandes.\n",
    "\n",
    "**Quais as formas de dividir a base de dados em treino e teste?**\n",
    "\n",
    "* **Holdout**: dividir a base de dados em treino e teste de forma aleatória. A proporção mais comum é 70% para treino e 30% para teste.\n",
    "* **Cross-validation**: dividir a base de dados em k partes (folds) e treinar o modelo k vezes, cada vez utilizando uma parte diferente para teste e as demais para treino. A média dos resultados é utilizada para avaliar o modelo.\n",
    "* **Leave-one-out**: é um caso especial de cross-validation em que k é igual ao número de observações da base de dados. Ou seja, treinamos o modelo k vezes, cada vez utilizando uma observação diferente para teste e as demais para treino.\n",
    "* **Leave-p-out**: é um caso especial de cross-validation em que k é igual a um número p de observações. Ou seja, treinamos o modelo k vezes, cada vez utilizando p observações diferentes para teste e as demais para treino.\n",
    "* **Bootstrap**: é uma técnica de reamostragem que consiste em criar várias amostras com reposição da base de dados original. Cada amostra é utilizada para treinar o modelo e a média dos resultados é utilizada para avaliar o modelo.    \n",
    "* **Time series split**: é uma técnica de validação cruzada que considera a ordem temporal dos dados. A base de dados é dividida em k partes, cada parte contendo um número de observações igual ao número total de observações dividido por k. O modelo é treinado k vezes, cada vez utilizando uma parte diferente para teste e as demais para treino.\n",
    "\n"
   ]
  },
  {
   "cell_type": "markdown",
   "metadata": {},
   "source": []
  },
  {
   "cell_type": "markdown",
   "metadata": {},
   "source": [
    "## "
   ]
  }
 ],
 "metadata": {
  "language_info": {
   "name": "python"
  }
 },
 "nbformat": 4,
 "nbformat_minor": 2
}
