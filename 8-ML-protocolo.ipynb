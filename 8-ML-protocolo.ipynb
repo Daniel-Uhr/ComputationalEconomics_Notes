{
 "cells": [
  {
   "cell_type": "markdown",
   "metadata": {},
   "source": [
    "# Protocolo Básico para a Aplicação das Técnicas de Machine Learning em Economia\n",
    "\n",
    "Prof. Daniel de Abreu Pereira Uhr\n",
    "\n",
    "### Conteúdo\n",
    "\n",
    "* Protocolo básico para a aplicação de técnicas de Machine Learning em Economia\n",
    "\n",
    "### Referências\n",
    "\n",
    "* Géron, Aurélien. Hands-On Machine Learning with Scikit-Learn, Keras, and TensorFlow: Concepts, Tools, and Techniques to Build Intelligent Systems. O'Reilly Media, 2019.\n",
    "* Athey, S., & Imbens, G. (2017). \"The State of Applied Econometrics: Causality and Policy Evaluation.\" *Journal of Economic Perspectives*.\n",
    "* Mullainathan, S., & Spiess, J. (2017). \"Machine Learning: An Applied Econometric Approach.\" *Journal of Economic Perspectives*.\n",
    "* Varian, H. R. (2014). \"Big Data: New Tricks for Econometrics.\" *Journal of Economic Perspectives*."
   ]
  },
  {
   "cell_type": "markdown",
   "metadata": {},
   "source": [
    "## Protocolo básico para a plicação de técnicas de Machine Learning em Economia\n",
    "\n",
    "Supondo que já temos nossa base de dados (dataframe) pronta para ser utilizada, isto é, todas as variáveis estão no formato adequado e não há valores faltantes, temos em mente as relações entre as variáveis e o problema que queremos resolver, podemos seguir o protocolo básico para a aplicação de técnicas de Machine Learning em Economia.\n",
    "\n",
    "* **1. Dividir a base de dados em treino e teste**\n",
    "* **2. Selecionar o modelo**\n",
    "* **3. Treinar o modelo**\n",
    "* **4. Avaliar o modelo**\n",
    "* **5. Ajustar o modelo**\n",
    "* **6. Fazer previsões**\n",
    " \n",
    "\n",
    "\n"
   ]
  },
  {
   "cell_type": "markdown",
   "metadata": {},
   "source": []
  },
  {
   "cell_type": "markdown",
   "metadata": {},
   "source": [
    "## "
   ]
  }
 ],
 "metadata": {
  "language_info": {
   "name": "python"
  }
 },
 "nbformat": 4,
 "nbformat_minor": 2
}
