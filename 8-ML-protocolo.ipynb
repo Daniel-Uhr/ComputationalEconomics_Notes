{
 "cells": [
  {
   "cell_type": "markdown",
   "metadata": {},
   "source": [
    "# Protocolo Básico para a Aplicação das Técnicas de Machine Learning em Economia\n",
    "\n",
    "Prof. Daniel de Abreu Pereira Uhr\n",
    "\n",
    "### Conteúdo\n",
    "\n",
    "* Protocolo básico para a aplicação de técnicas de Machine Learning em Economia\n",
    "\n",
    "### Referências\n",
    "\n",
    "* Géron, Aurélien. Hands-On Machine Learning with Scikit-Learn, Keras, and TensorFlow: Concepts, Tools, and Techniques to Build Intelligent Systems. O'Reilly Media, 2019.\n",
    "* Athey, S., & Imbens, G. (2017). \"The State of Applied Econometrics: Causality and Policy Evaluation.\" *Journal of Economic Perspectives*.\n",
    "* Mullainathan, S., & Spiess, J. (2017). \"Machine Learning: An Applied Econometric Approach.\" *Journal of Economic Perspectives*.\n",
    "* Varian, H. R. (2014). \"Big Data: New Tricks for Econometrics.\" *Journal of Economic Perspectives*."
   ]
  },
  {
   "cell_type": "markdown",
   "metadata": {},
   "source": [
    "## Protocolo básico para a aplicação de técnicas de Machine Learning em Economia\n",
    "\n",
    "Supondo que já temos nossa base de dados (dataframe) pronta para ser utilizada, isto é, todas as variáveis estão no formato adequado e não há valores faltantes, temos em mente as relações entre as variáveis e o problema que queremos resolver, podemos seguir o protocolo básico para a aplicação de técnicas de Machine Learning em Economia.\n",
    "\n",
    "* **1. Dividir a base de dados em treino e teste**\n",
    "* **2. Selecionar o modelo**\n",
    "* **3. Treinar o modelo**\n",
    "* **4. Avaliar o modelo**\n",
    "* **5. Ajustar o modelo**\n",
    "* **6. Fazer previsões**\n",
    " \n",
    "### 1. Dividir a base de dados em treino e teste\n",
    "\n",
    "**Por que dividir a base de dados em treino e teste?**\n",
    "\n",
    "A **divisão da base de dados** é uma etapa essencial para garantir que o modelo tenha um desempenho confiável e generalizável. Existem diferentes formas de realizar essa divisão, dependendo do contexto e do objetivo do estudo:\n",
    "\n",
    "* **Divisão Simples (Hold-Out)**\n",
    "  * Descrição: A base de dados é dividida em duas partes: treino e teste. Geralmente, usa-se uma proporção de 70-80% para treino e 20-30% para teste.\n",
    "    * Vantages: É simples e rápido de implementar.\n",
    "    * Desvantagens: Pode gerar resultados instáveis, dependendo da aleatoriedade da divisão.\n",
    "* **Validação Cruzada (Cross-Validation)**\n",
    "  * Descrição: Divide a base em múltiplos \"folds\". O modelo é treinado em $k-1$ folds e testado no fold restante, repetindo o processo $k$ vezes.\n",
    "    * Vantages: Fornece uma estimativa mais estável do desempenho do modelo.\n",
    "    * Desvantagens: Pode ser computacionalmente mais custoso.\n",
    "* **Validação Cruzada Leave-One-Out**\n",
    "  * Descrição: Cada observação é usada como conjunto de teste uma vez, enquanto as demais são usadas para treino.\n",
    "    * Vantages: Fornece uma estimativa mais precisa do desempenho do modelo.\n",
    "    * Desvantagens: Pode ser computacionalmente custoso para bases de dados grandes.\n",
    "\n",
    "A divisão simples (hold-out) é mais comum na prática profissional, devido à sua simplicidade e rapidez de implementação.\n",
    "\n",
    "Já na prática acadêmica, recomenda-se a utilização da **validação cruzada**, em especial a validação cruzada com **10 folds**, para avaliar o desempenho do modelo. Porque a validação cruzada com 10 folds oferece um bom **equilíbrio entre viés (erros sistemáticos) e variância (sensibilidade a diferentes divisões dos dados)**, é eficiente computacionalmente e é adotada na literatura. Além disso, com 10 folds, a base é dividida em partes suficientes para garantir uma avaliação confiável, mas sem aumentar excessivamente o custo computacional, como acontece com Leave-One-Out. Obsevação, com bases grandes, 5 folds podem ser suficientes. Já com bases pequenas, pode-se utilizar 20 folds.\n",
    "\n",
    "\n",
    "### 2. Selecionar o modelo\n",
    "\n",
    "**Por que é importante escolher o modelo adequado?**\n",
    "\n",
    "A escolha do modelo é uma etapa crucial no protocolo de Machine Learning, pois influencia diretamente a capacidade do modelo de capturar as relações entre as variáveis e resolver o problema proposto. Em Economia, a escolha deve considerar tanto o tipo de problema quanto a necessidade de interpretabilidade, recursos computacionais disponíveis e a robustez dos resultados.\n",
    "\n",
    "**Como selecionar o modelo?** \n",
    "\n",
    "A escolha do modelo pode ser guiada por diversos fatores:\n",
    "\n",
    "* **Tipo de Problema**\n",
    "  * **Regressão**: Prever um valor contínuo.\n",
    "    * Regressão Linear\n",
    "    * Árvores de Decisão e Random Forest\n",
    "    * Gradient Boosting (XGBoost, LightGBM)\n",
    "    * Redes Neurais para dados complexos\n",
    "  * **Classificação**: Prever uma classe ou categoria.\n",
    "    * Regressão Logística\n",
    "    * Support Vector Machines (SVM)\n",
    "    * Árvores de Decisão e Random Forest e Gradient Boosting\n",
    "    * Redes Neurais para classificações complexas\n",
    "  * **Agrupamento (Clustering)**: Identificar padrões e grupos nos dados. Identificação de grupos em dados não rotulados (e.g., segmentação de consumidores).\n",
    "    * K-Means\n",
    "    * DBSCAN\n",
    "    * Hierarchical Clustering\n",
    "\n",
    "* **Interpretabilidade**\n",
    "  * Modelos simples e interpretáveis:\n",
    "    * Regressão Linear e Logística.\n",
    "    * Árvores de Decisão.\n",
    "  * Modelos complexos e menos interpretáveis:\n",
    "    * Random Forest, Gradient Boosting.\n",
    "    * Redes Neurais.\n",
    "\n",
    "No dia a dia, a maior parte dos problemas são de **regressão** ou **classificação**. Grosso modo, a **Regressão** é utilizada quando queremos prever um valor contínuo de Y (e.g., preço de um imóvel), enquanto a **Classificação** é utilizada quando queremos prever uma classe ou categoria de Y (e.g., aprovação de crédito). "
   ]
  },
  {
   "cell_type": "markdown",
   "metadata": {},
   "source": [
    "### 3. Treinar o modelo\n",
    "\n",
    "**O que significa treinar um modelo?**\n",
    "\n",
    "Treinar um modelo significa ajustar seus parâmetros internos com base nos dados de treino, a fim de minimizar uma função de erro ou maximizar o desempenho em relação ao objetivo específico (e.g., minimizar o erro quadrático médio em um problema de regressão). Durante o treinamento, o modelo \"aprende\" padrões e relações entre as variáveis preditoras ($X$) e a variável dependente ($y$).\n",
    "\n",
    "Etapas no treinamento do modelo\n",
    "* Preparar os dados para o treinamento\n",
    "* Selecionar o modelo que será treinado com os dados\n",
    "* Ajustar o modelo aos dados de treino\n",
    "\n",
    "#### 4. Avaliar o modelo"
   ]
  },
  {
   "cell_type": "markdown",
   "metadata": {
    "notebookRunGroups": {
     "groupValue": "1"
    }
   },
   "source": [
    "Sendo assim, vamos fazer o procedimento de validação cruzada com 10 folds para selecionar o modelo que melhor se ajusta aos nossos dados.\n",
    "\n"
   ]
  },
  {
   "cell_type": "markdown",
   "metadata": {},
   "source": []
  },
  {
   "cell_type": "markdown",
   "metadata": {},
   "source": [
    "## "
   ]
  }
 ],
 "metadata": {
  "language_info": {
   "name": "python"
  }
 },
 "nbformat": 4,
 "nbformat_minor": 2
}
