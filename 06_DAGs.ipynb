{
 "cells": [
  {
   "cell_type": "markdown",
   "metadata": {},
   "source": [
    "# DAGs, Causalidade e Previsão\n",
    "\n",
    "Prof. Daniel de Abreu Pereira Uhr\n",
    "\n",
    "\n",
    "### Conteúdo\n",
    "\n",
    "* Modelos Causais em Grafos (Directed Acyclic Graph - DAG´s) \n",
    "* Independência e Independência Condicional\n",
    "* Estruturas básicas das DAGs\n",
    "* Critérios de Identificação Causal (Back-Door Criterion)\n",
    "* Procedimentos para Estimação Causal\n",
    "* Viéses na Análise Causal\n",
    "* DAG como representação de experimentos\n",
    "* Praticando com DAGs no Python\n",
    "* Covariáveis e Variáveis de Controle\n",
    "* Previsão e Causalidade\n",
    "\n",
    "\n",
    "### Referências\n",
    "\n",
    "* Pearl, J. (2009). Causality: Models, reasoning and inference. Cambridge university press.\n",
    "* Spirtes, P., Glymour, C., & Scheines, R. (2000). Causation, prediction, and search. MIT press.\n",
    "* Joshua D. Angrist and Jörn-Steffen Pischke (2009). Mostly Harmless Econometrics: An Empiricist's Companion. Princeton University Press.\n",
    "* Morgan, S. L., & Winship, C. (2014). Counterfactuals and causal inference: Methods and principles for social research. Cambridge University Press. \n",
    "* Cunningham, S. W. (2013). Causal inference: The mixtape. https://www.scunning.com/mixtape.html\n",
    "* Facure, Matheus. Causal Inference for Brave and True. https://matheusfacure.github.io/python-causality-handbook/landing-page.html \n",
    "* Hernan, M. Causal Inference: What If (the book). https://www.hsph.harvard.edu/miguel-hernan/causal-inference-book/ \n",
    "* Matsueda, Ross L. 2012. “Handbook of Structural Equation Modeling.” In. Guilford Press.\n",
    "* Heckman, James, and Rodrigo Pinto. 2015. “Causal Analysis After Haavelmo.” Econometric Theory 31 (1): 115–51.\n",
    "* Imbens, Guido W. 2019. “Potential Outcome and Directed Acyclic Graph Approaches to Causality: Relevance for Empirical Practices in Economics.” NBER Working Paper Series. https://doi.org/10.3386/w26104."
   ]
  },
  {
   "cell_type": "markdown",
   "metadata": {},
   "source": []
  },
  {
   "cell_type": "markdown",
   "metadata": {},
   "source": []
  }
 ],
 "metadata": {
  "kernelspec": {
   "display_name": "Python 3",
   "language": "python",
   "name": "python3"
  },
  "language_info": {
   "codemirror_mode": {
    "name": "ipython",
    "version": 3
   },
   "file_extension": ".py",
   "mimetype": "text/x-python",
   "name": "python",
   "nbconvert_exporter": "python",
   "pygments_lexer": "ipython3",
   "version": "3.11.5"
  }
 },
 "nbformat": 4,
 "nbformat_minor": 2
}
