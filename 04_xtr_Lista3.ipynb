{
 "cells": [
  {
   "cell_type": "markdown",
   "id": "647adfa7",
   "metadata": {},
   "source": [
    "# Lista de Exercícios — Plotagem\n",
    "\n",
    "Esta lista tem como objetivo praticar os principais recursos de visualização de dados em Python visto na última aula."
   ]
  },
  {
   "cell_type": "markdown",
   "id": "40212ca9",
   "metadata": {},
   "source": [
    "### Tarefa para entregar\n",
    "\n",
    "* Refazer todos as etapas vistas na aula anterior, utilizando os dados do **Airbnb do Rio de Janeiro**.\n",
    "  * Dados do Airbnb do Rio de Janeiro do final de 2024, disponíveis em: \n",
    "    * listings: https://data.insideairbnb.com/brazil/rj/rio-de-janeiro/2024-12-27/data/listings.csv.gz\n",
    "    * price/calendar: https://data.insideairbnb.com/brazil/rj/rio-de-janeiro/2024-12-27/data/calendar.csv.gz\n",
    "* Faça em Jupyter Notebook, e entregue o arquivo `.ipynb` por e-mail (daniel.uhr@gmail.com) até o dia **08/04/2024**.\n",
    "\n",
    "**Bom trabaho!**"
   ]
  }
 ],
 "metadata": {
  "kernelspec": {
   "display_name": "Python 3",
   "language": "python",
   "name": "python3"
  },
  "language_info": {
   "codemirror_mode": {
    "name": "ipython",
    "version": 3
   },
   "file_extension": ".py",
   "mimetype": "text/x-python",
   "name": "python",
   "nbconvert_exporter": "python",
   "pygments_lexer": "ipython3",
   "version": "3.11.5"
  }
 },
 "nbformat": 4,
 "nbformat_minor": 5
}
