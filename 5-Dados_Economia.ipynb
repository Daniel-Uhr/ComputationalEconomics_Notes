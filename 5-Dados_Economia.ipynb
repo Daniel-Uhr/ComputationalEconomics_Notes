{
 "cells": [
  {
   "cell_type": "markdown",
   "metadata": {},
   "source": [
    "# Criação Variáveis e Indicadores Financeiros, Econômicos e Sociais\n",
    "\n",
    "Prof. Daniel de Abreu Pereira Uhr\n",
    "\n",
    "### Conteúdo\n",
    "\n",
    "* Conceito de variáveis econômicas e financeiras\n",
    "* Importância das variáveis econômicas e financeiras\n",
    "* Fontes de dados para criação de variáveis\n",
    "* Cálculo de variáveis econômicas e financeiras\n",
    "  * Crescimento percentual\n",
    "  * log-rendimentos\n",
    "  * Índices de preços\n",
    "* Indicadores Sociais\n",
    "  * Índice de Gini\n",
    "  * IDH\n",
    "  * Taxa de desemprego\n",
    "  * Taxa de inflação\n",
    "  * Herfindahl-Hirschman Index (HHI)\n",
    "\n",
    "### Referências\n",
    "\n",
    "* Géron, Aurélien. Hands-On Machine Learning with Scikit-Learn, Keras, and TensorFlow: Concepts, Tools, and Techniques to Build Intelligent Systems. O'Reilly Media, 2019.\n",
    "* Athey, S., & Imbens, G. (2017). \"The State of Applied Econometrics: Causality and Policy Evaluation.\" *Journal of Economic Perspectives*.\n",
    "* Mullainathan, S., & Spiess, J. (2017). \"Machine Learning: An Applied Econometric Approach.\" *Journal of Economic Perspectives*.\n",
    "* Varian, H. R. (2014). \"Big Data: New Tricks for Econometrics.\" *Journal of Economic Perspectives*."
   ]
  },
  {
   "cell_type": "markdown",
   "metadata": {},
   "source": [
    "1. **Definição do Problema**\n",
    "    * Definir o problema de pesquisa\n",
    "    * Definir a variável dependente\n",
    "    * Definir as variáveis independentes\n",
    "    * Definir a população alvo\n",
    "    * Definir a unidade de análise\n",
    "    * Definir a estratégia de amostragem\n",
    "    * Definir a estratégia de coleta de dados\n",
    "    * Definir a estratégia de pré-processamento de dados\n",
    "    * Definir a estratégia de avaliação de desempenho\n",
    "    * Definir a estratégia de validação cruzada"
   ]
  },
  {
   "cell_type": "code",
   "execution_count": null,
   "metadata": {
    "vscode": {
     "languageId": "plaintext"
    }
   },
   "outputs": [],
   "source": []
  }
 ],
 "metadata": {
  "language_info": {
   "name": "python"
  }
 },
 "nbformat": 4,
 "nbformat_minor": 2
}
