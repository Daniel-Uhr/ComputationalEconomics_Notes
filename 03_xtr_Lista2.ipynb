{
 "cells": [
  {
   "cell_type": "markdown",
   "id": "9a1509b5",
   "metadata": {},
   "source": [
    "# Lista 2\n",
    "\n",
    "Prof. Daniel de Abreu Pereira Uhr\n"
   ]
  },
  {
   "cell_type": "markdown",
   "id": "21f66cb2",
   "metadata": {},
   "source": [
    "Nesta lista de exercícios, você aplicará conceitos de manipulação e transformação de tipos de dados utilizando `pandas` e `numpy`."
   ]
  },
  {
   "cell_type": "markdown",
   "id": "893eb477",
   "metadata": {},
   "source": [
    "### 1. Conversão de Tipos\n",
    "\n",
    "##### 1.1 Carregue o seguinte dicionário como um DataFrame do pandas e verifique os tipos das colunas.\n",
    "\n",
    "```python\n",
    "import pandas as pd\n",
    "dados = {'ID': ['1', '2', '3'], 'Valor': ['10.5', '20.8', '30.2'], 'Data': ['2024-01-01', '2024-02-15', '2024-03-10']}\n",
    "df = pd.DataFrame(dados)\n",
    "```\n",
    "\n",
    "##### 1.2 Converta a coluna 'ID' para inteiro, 'Valor' para float e 'Data' para datetime.\n"
   ]
  },
  {
   "cell_type": "markdown",
   "id": "edc32582",
   "metadata": {},
   "source": [
    "### 2. Tratamento de Valores Ausentes\n",
    "\n",
    "##### 2.1 Crie um DataFrame com valores ausentes e substitua os valores `NaN` pela média da respectiva coluna.\n",
    "\n",
    "```python\t\n",
    "dados = {'A': [1, 2, None, 4], 'B': [None, 5, 6, 7], 'C': [10, None, None, 40]}\n",
    "df = pd.DataFrame(dados)\n",
    "```\n"
   ]
  },
  {
   "cell_type": "markdown",
   "id": "0f523e1f",
   "metadata": {},
   "source": [
    "### 3. Manipulação de Strings\n",
    "\n",
    "##### 3.1 Crie um DataFrame contendo nomes completos e extraia apenas os sobrenomes.\n",
    "\n",
    "```python\n",
    "df = pd.DataFrame({'Nome': ['Ana Silva', 'Bruno Souza', 'Carlos Pereira']})\n",
    "```\n"
   ]
  },
  {
   "cell_type": "markdown",
   "id": "43fb7c9c",
   "metadata": {},
   "source": [
    "### 4. Criação de Novas Colunas\n",
    "\n",
    "##### 4.1 A partir do DataFrame `df` abaixo, crie uma nova coluna chamada 'Desconto', que seja 10% do valor da coluna 'Valor'.\n",
    "\n",
    "```python\n",
    "df = pd.DataFrame({'Produto': ['A', 'B', 'C'], 'Valor': [100, 200, 300]})\n",
    "```"
   ]
  },
  {
   "cell_type": "markdown",
   "id": "170f3df9",
   "metadata": {},
   "source": [
    "### 5. Uso do Numpy\n",
    "\n",
    "##### 5.1 Crie um array NumPy de números aleatórios entre 1 e 100 de tamanho (5,5) e substitua os valores menores que 50 por 0.\n"
   ]
  },
  {
   "cell_type": "markdown",
   "id": "6126501d",
   "metadata": {},
   "source": [
    "### 6. Filtragem de Dados\n",
    "\n",
    "##### 6.1 Usando o seguinte DataFrame, filtre apenas os produtos com valor acima de 150.\n",
    "\n",
    "```python\n",
    "df = pd.DataFrame({'Produto': ['A', 'B', 'C', 'D'], 'Valor': [120, 180, 90, 200]})\n",
    "```"
   ]
  }
 ],
 "metadata": {
  "language_info": {
   "name": "python"
  }
 },
 "nbformat": 4,
 "nbformat_minor": 5
}
