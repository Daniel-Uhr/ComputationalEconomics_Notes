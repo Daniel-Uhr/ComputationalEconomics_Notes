{
 "cells": [
  {
   "cell_type": "markdown",
   "metadata": {},
   "source": [
    "# Binned Scatterplot - Gráfico de dispersão binado\n",
    "\n"
   ]
  },
  {
   "cell_type": "markdown",
   "metadata": {},
   "source": [
    "Um \"Binned Scatterplot\" é um tipo de gráfico de dispersão que agrupa os dados em intervalos ou \"bins\" (faixas ou categorias) ao longo de um eixo, geralmente o eixo \n",
    "𝑥\n",
    "x, e exibe os valores médios ou outros agregados (como medianas) de cada grupo no eixo \n",
    "𝑦\n",
    "y. Ele é útil quando se deseja simplificar e resumir um conjunto grande de pontos em um gráfico, facilitando a identificação de padrões ou tendências gerais sem o \"ruído\" dos pontos individuais.\n",
    "\n",
    "Características principais:\n",
    "\n",
    "* Agrupamento em bins:\n",
    "    * Os valores do eixo *x* são divididos em intervalos (bins)."
   ]
  },
  {
   "cell_type": "code",
   "execution_count": null,
   "metadata": {
    "vscode": {
     "languageId": "plaintext"
    }
   },
   "outputs": [],
   "source": []
  }
 ],
 "metadata": {
  "language_info": {
   "name": "python"
  }
 },
 "nbformat": 4,
 "nbformat_minor": 2
}
