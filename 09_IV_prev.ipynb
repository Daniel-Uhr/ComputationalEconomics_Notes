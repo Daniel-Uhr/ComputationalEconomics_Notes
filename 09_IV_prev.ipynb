{
 "cells": [
  {
   "cell_type": "markdown",
   "metadata": {},
   "source": [
    "# Instrumental Variables\n",
    "\n",
    "Prof. Daniel de Abreu Pereira Uhr\n",
    "\n",
    "### Conteúdo\n",
    "\n",
    "1. Introdução ao Método de Variáveis Instrumentais\n",
    "2. Regressão Linear Simples\n",
    "3. Ampliando o Modelo de Regressão Linear\n",
    "4. Endogeneidade\n",
    "5. Primeio Estágio\n",
    "6. Segundo Estágio\n",
    "7. Álgebra Matricial\n",
    " \n",
    "\n",
    "\n",
    "### Referências\n",
    "\n",
    "\n"
   ]
  },
  {
   "cell_type": "markdown",
   "metadata": {},
   "source": [
    "### 1. Introdução ao Método de Variáveis Instrumentais\n",
    "\n",
    "\n",
    "O método de variáveis instrumentais (*Instrumental Variables - IV*) é uma técnica estatística utilizada para lidar com problemas de endogeneidade em modelos de regressão. A endogeneidade ocorre quando uma variável explicativa está correlacionada com o erro do modelo, o que pode levar a estimativas viesadas e inconsistentes dos parâmetros do modelo."
   ]
  },
  {
   "cell_type": "markdown",
   "metadata": {},
   "source": []
  },
  {
   "cell_type": "markdown",
   "metadata": {},
   "source": [
    "### 2. Regressão Linear Simples\n",
    "\n"
   ]
  },
  {
   "cell_type": "markdown",
   "metadata": {},
   "source": [
    "Em Acemoglu, Johnson, Robinson (2002), “ As origens coloniais do desenvolvimento comparativo ” , os autores desejam determinar se as diferenças nas instituições podem ou não ajudar a explicar os resultados econômicos observados.\n",
    "\n",
    "Como medimos diferenças institucionais e resultados econômicos ?\n",
    "\n",
    "Nesse artigo,\n",
    "\n",
    "os resultados econômicos são representados pelo logaritmo do PIB per capita em 1995, ajustado pelas taxas de câmbio.\n",
    "as diferenças institucionais são representadas por um índice de proteção contra a expropriação em média ao longo de 1985-95, construído pelo Political Risk Services Group .\n",
    "Essas variáveis ​​e outros dados usados ​​no artigo estão disponíveis para download na página de Daron Acemoglu .\n",
    "\n",
    "O conjunto de dados original está no .dtaformato Stata, mas foi convertido para .csv.\n",
    "\n",
    "Primeiro, vamos carregar os dados e analisá-los."
   ]
  },
  {
   "cell_type": "code",
   "execution_count": 3,
   "metadata": {},
   "outputs": [],
   "source": [
    "import warnings\n",
    "warnings.filterwarnings('ignore')\n",
    "\n",
    "import pandas as pd\n",
    "import numpy as np\n",
    "import seaborn as sns\n",
    "import statsmodels.api as sm\n",
    "\n",
    "from numpy.linalg import inv\n",
    "from statsmodels.iolib.summary2 import summary_col\n",
    "from linearmodels.iv import IV2SLS"
   ]
  },
  {
   "cell_type": "markdown",
   "metadata": {},
   "source": [
    "***Ajuste nos gráficos***"
   ]
  },
  {
   "cell_type": "code",
   "execution_count": 4,
   "metadata": {},
   "outputs": [],
   "source": [
    "import matplotlib.pyplot as plt\n",
    "from mpl_toolkits.mplot3d import axes3d\n",
    "\n",
    "%matplotlib inline\n",
    "plt.style.use('seaborn-v0_8-whitegrid') \n",
    "plt.rcParams['lines.linewidth'] = 3\n",
    "plt.rcParams['figure.figsize'] = (8,4)\n",
    "plt.rcParams['figure.titlesize'] = 18\n",
    "plt.rcParams['axes.titlesize'] = 16\n",
    "plt.rcParams['axes.labelsize'] = 12\n",
    "plt.rcParams['legend.fontsize'] = 12"
   ]
  },
  {
   "cell_type": "code",
   "execution_count": null,
   "metadata": {},
   "outputs": [
    {
     "data": {
      "application/vnd.microsoft.datawrangler.viewer.v0+json": {
       "columns": [
        {
         "name": "index",
         "rawType": "int64",
         "type": "integer"
        },
        {
         "name": "GDP",
         "rawType": "float64",
         "type": "float"
        },
        {
         "name": "Exprop",
         "rawType": "float64",
         "type": "float"
        },
        {
         "name": "Mort",
         "rawType": "float64",
         "type": "float"
        },
        {
         "name": "Latitude",
         "rawType": "float64",
         "type": "float"
        },
        {
         "name": "Neo",
         "rawType": "int64",
         "type": "integer"
        },
        {
         "name": "Africa",
         "rawType": "int64",
         "type": "integer"
        },
        {
         "name": "Asia",
         "rawType": "int64",
         "type": "integer"
        },
        {
         "name": "Namer",
         "rawType": "int64",
         "type": "integer"
        },
        {
         "name": "Samer",
         "rawType": "int64",
         "type": "integer"
        },
        {
         "name": "logMort",
         "rawType": "float64",
         "type": "float"
        },
        {
         "name": "Latitude2",
         "rawType": "float64",
         "type": "float"
        }
       ],
       "conversionMethod": "pd.DataFrame",
       "ref": "fe61b47e-bc9d-459e-b31c-e2bca0490237",
       "rows": [
        [
         "1",
         "8.39",
         "6.5",
         "78.2",
         "0.3111",
         "0",
         "1",
         "0",
         "0",
         "0",
         "4.35926964755127",
         "0.09678321"
        ],
        [
         "2",
         "7.77",
         "5.36",
         "280.0",
         "0.1367",
         "0",
         "1",
         "0",
         "0",
         "0",
         "5.63478960316925",
         "0.01868689"
        ],
        [
         "3",
         "9.13",
         "6.39",
         "68.9",
         "0.3778",
         "0",
         "0",
         "0",
         "0",
         "1",
         "4.23265617801961",
         "0.14273284"
        ],
        [
         "4",
         "9.9",
         "9.32",
         "8.55",
         "0.3",
         "1",
         "0",
         "0",
         "0",
         "0",
         "2.14593128294867",
         "0.09"
        ],
        [
         "5",
         "9.29",
         "7.5",
         "85.0",
         "0.2683",
         "0",
         "0",
         "0",
         "1",
         "0",
         "4.44265125649032",
         "0.07198489"
        ],
        [
         "6",
         "6.88",
         "5.14",
         "71.41",
         "0.2667",
         "0",
         "0",
         "1",
         "0",
         "0",
         "4.26843791556102",
         "0.07112889"
        ],
        [
         "7",
         "7.93",
         "5.64",
         "71.0",
         "0.1889",
         "0",
         "0",
         "0",
         "0",
         "1",
         "4.26267987704132",
         "0.03568321"
        ],
        [
         "8",
         "8.73",
         "7.91",
         "71.0",
         "0.1111",
         "0",
         "0",
         "0",
         "0",
         "1",
         "4.26267987704132",
         "0.01234321"
        ],
        [
         "9",
         "6.85",
         "4.45",
         "280.0",
         "0.1444",
         "0",
         "1",
         "0",
         "0",
         "0",
         "5.63478960316925",
         "0.02085136"
        ],
        [
         "10",
         "7.5",
         "6.45",
         "280.0",
         "0.6667",
         "0",
         "1",
         "0",
         "0",
         "0",
         "5.63478960316925",
         "0.44448889"
        ],
        [
         "11",
         "9.99",
         "9.73",
         "16.1",
         "0.6667",
         "1",
         "0",
         "0",
         "1",
         "0",
         "2.77881927199042",
         "0.44448889"
        ],
        [
         "12",
         "9.34",
         "7.82",
         "68.9",
         "0.3333",
         "0",
         "0",
         "0",
         "0",
         "1",
         "4.23265617801961",
         "0.11108889"
        ],
        [
         "13",
         "8.81",
         "7.32",
         "71.0",
         "0.0444",
         "0",
         "0",
         "0",
         "0",
         "1",
         "4.26267987704132",
         "0.00197136"
        ],
        [
         "14",
         "7.42",
         "4.68",
         "240.0",
         "0.0111",
         "0",
         "1",
         "0",
         "0",
         "0",
         "5.48063892334199",
         "0.00012321"
        ],
        [
         "15",
         "8.79",
         "7.05",
         "78.1",
         "0.1111",
         "0",
         "0",
         "0",
         "1",
         "0",
         "4.35799005684564",
         "0.01234321"
        ],
        [
         "16",
         "7.44",
         "7.0",
         "668.0",
         "0.0889",
         "0",
         "1",
         "0",
         "0",
         "0",
         "6.50428817353665",
         "0.00790321"
        ],
        [
         "17",
         "8.36",
         "6.18",
         "130.0",
         "0.2111",
         "0",
         "0",
         "0",
         "1",
         "0",
         "4.86753445045558",
         "0.04456321"
        ],
        [
         "18",
         "8.47",
         "6.55",
         "71.0",
         "0.0222",
         "0",
         "0",
         "0",
         "0",
         "1",
         "4.26267987704132",
         "0.00049284"
        ],
        [
         "19",
         "7.95",
         "6.77",
         "67.8",
         "0.3",
         "0",
         "1",
         "0",
         "0",
         "0",
         "4.21656219494635",
         "0.09"
        ],
        [
         "20",
         "7.95",
         "5.0",
         "78.1",
         "0.15",
         "0",
         "0",
         "0",
         "1",
         "0",
         "4.35799005684564",
         "0.0225"
        ],
        [
         "21",
         "6.11",
         "5.73",
         "26.0",
         "0.0889",
         "0",
         "1",
         "0",
         "0",
         "0",
         "3.25809653802148",
         "0.00790321"
        ],
        [
         "22",
         "8.9",
         "7.82",
         "280.0",
         "0.0111",
         "0",
         "1",
         "0",
         "0",
         "0",
         "5.63478960316925",
         "0.00012321"
        ],
        [
         "23",
         "7.27",
         "8.27",
         "1470.0",
         "0.1476",
         "0",
         "1",
         "0",
         "0",
         "0",
         "7.29301767977278",
         "0.02178576"
        ],
        [
         "24",
         "7.37",
         "6.27",
         "668.0",
         "0.0889",
         "0",
         "1",
         "0",
         "0",
         "0",
         "6.50428817353665",
         "0.00790321"
        ],
        [
         "25",
         "8.29",
         "5.14",
         "71.0",
         "0.17",
         "0",
         "0",
         "0",
         "1",
         "0",
         "4.26267987704132",
         "0.0289"
        ],
        [
         "26",
         "7.49",
         "6.55",
         "483.0",
         "0.1222",
         "0",
         "1",
         "0",
         "0",
         "0",
         "6.18001665365257",
         "0.01493284"
        ],
        [
         "27",
         "7.9",
         "5.89",
         "32.18",
         "0.0556",
         "0",
         "0",
         "0",
         "0",
         "1",
         "3.47134514156424",
         "0.00309136"
        ],
        [
         "28",
         "7.15",
         "3.73",
         "130.0",
         "0.2111",
         "0",
         "0",
         "0",
         "1",
         "0",
         "4.86753445045558",
         "0.04456321"
        ],
        [
         "29",
         "7.69",
         "5.32",
         "78.1",
         "0.1667",
         "0",
         "0",
         "0",
         "1",
         "0",
         "4.35799005684564",
         "0.02778889"
        ],
        [
         "30",
         "10.05",
         "8.14",
         "14.9",
         "0.2461",
         "0",
         "0",
         "1",
         "0",
         "0",
         "2.70136121295141",
         "0.06056521"
        ],
        [
         "31",
         "7.33",
         "8.27",
         "48.63",
         "0.2222",
         "0",
         "0",
         "1",
         "0",
         "0",
         "3.88424062441569",
         "0.04937284"
        ],
        [
         "32",
         "8.07",
         "7.59",
         "170.0",
         "0.0556",
         "0",
         "0",
         "1",
         "0",
         "0",
         "5.13579843705026",
         "0.00309136"
        ],
        [
         "33",
         "8.19",
         "7.09",
         "130.0",
         "0.2017",
         "0",
         "0",
         "0",
         "1",
         "0",
         "4.86753445045558",
         "0.04068289"
        ],
        [
         "34",
         "7.06",
         "6.05",
         "145.0",
         "0.0111",
         "0",
         "1",
         "0",
         "0",
         "0",
         "4.97673374242057",
         "0.00012321"
        ],
        [
         "35",
         "6.84",
         "4.45",
         "536.04",
         "0.2222",
         "0",
         "1",
         "0",
         "0",
         "0",
         "6.28420878515203",
         "0.04937284"
        ],
        [
         "36",
         "8.89",
         "7.95",
         "17.7",
         "0.0256",
         "0",
         "0",
         "1",
         "0",
         "0",
         "2.87356463957978",
         "0.00065536"
        ],
        [
         "37",
         "6.57",
         "4.0",
         "2940.0",
         "0.1889",
         "0",
         "1",
         "0",
         "0",
         "0",
         "7.98616486033273",
         "0.03568321"
        ],
        [
         "38",
         "9.43",
         "7.23",
         "16.3",
         "0.3944",
         "0",
         "0",
         "0",
         "0",
         "0",
         "2.79116510781272",
         "0.15555136"
        ],
        [
         "39",
         "8.94",
         "7.5",
         "71.0",
         "0.2556",
         "0",
         "0",
         "0",
         "1",
         "0",
         "4.26267987704132",
         "0.06533136"
        ],
        [
         "40",
         "8.04",
         "7.09",
         "78.2",
         "0.3556",
         "0",
         "1",
         "0",
         "0",
         "0",
         "4.35926964755127",
         "0.12645136"
        ],
        [
         "41",
         "9.76",
         "9.73",
         "8.55",
         "0.4556",
         "1",
         "0",
         "0",
         "0",
         "0",
         "2.14593128294867",
         "0.20757136"
        ],
        [
         "42",
         "7.54",
         "5.23",
         "163.3",
         "0.1444",
         "0",
         "0",
         "0",
         "1",
         "0",
         "5.09558899997642",
         "0.02085136"
        ],
        [
         "43",
         "6.73",
         "5.0",
         "400.0",
         "0.1778",
         "0",
         "1",
         "0",
         "0",
         "0",
         "5.99146454710798",
         "0.03161284"
        ],
        [
         "44",
         "6.81",
         "5.55",
         "2004.0",
         "0.1111",
         "0",
         "1",
         "0",
         "0",
         "0",
         "7.60290046220476",
         "0.01234321"
        ],
        [
         "45",
         "7.35",
         "6.05",
         "36.99",
         "0.3333",
         "0",
         "0",
         "1",
         "0",
         "0",
         "3.61064760584436",
         "0.11108889"
        ],
        [
         "46",
         "8.84",
         "5.91",
         "163.3",
         "0.1",
         "0",
         "0",
         "0",
         "1",
         "0",
         "5.09558899997642",
         "0.01"
        ],
        [
         "47",
         "8.21",
         "6.95",
         "78.1",
         "0.2556",
         "0",
         "0",
         "0",
         "0",
         "1",
         "4.35799005684564",
         "0.06533136"
        ],
        [
         "48",
         "8.4",
         "5.77",
         "71.0",
         "0.1111",
         "0",
         "0",
         "0",
         "0",
         "1",
         "4.26267987704132",
         "0.01234321"
        ],
        [
         "49",
         "7.4",
         "6.0",
         "164.66",
         "0.1556",
         "0",
         "1",
         "0",
         "0",
         "0",
         "5.10388274187028",
         "0.02421136"
        ],
        [
         "50",
         "6.25",
         "5.82",
         "483.0",
         "0.0922",
         "0",
         "1",
         "0",
         "0",
         "0",
         "6.18001665365257",
         "0.00850084"
        ]
       ],
       "shape": {
        "columns": 11,
        "rows": 64
       }
      },
      "text/html": [
       "<div>\n",
       "<style scoped>\n",
       "    .dataframe tbody tr th:only-of-type {\n",
       "        vertical-align: middle;\n",
       "    }\n",
       "\n",
       "    .dataframe tbody tr th {\n",
       "        vertical-align: top;\n",
       "    }\n",
       "\n",
       "    .dataframe thead th {\n",
       "        text-align: right;\n",
       "    }\n",
       "</style>\n",
       "<table border=\"1\" class=\"dataframe\">\n",
       "  <thead>\n",
       "    <tr style=\"text-align: right;\">\n",
       "      <th></th>\n",
       "      <th>GDP</th>\n",
       "      <th>Exprop</th>\n",
       "      <th>Mort</th>\n",
       "      <th>Latitude</th>\n",
       "      <th>Neo</th>\n",
       "      <th>Africa</th>\n",
       "      <th>Asia</th>\n",
       "      <th>Namer</th>\n",
       "      <th>Samer</th>\n",
       "      <th>logMort</th>\n",
       "      <th>Latitude2</th>\n",
       "    </tr>\n",
       "  </thead>\n",
       "  <tbody>\n",
       "    <tr>\n",
       "      <th>1</th>\n",
       "      <td>8.39</td>\n",
       "      <td>6.50</td>\n",
       "      <td>78.20</td>\n",
       "      <td>0.3111</td>\n",
       "      <td>0</td>\n",
       "      <td>1</td>\n",
       "      <td>0</td>\n",
       "      <td>0</td>\n",
       "      <td>0</td>\n",
       "      <td>4.359270</td>\n",
       "      <td>0.096783</td>\n",
       "    </tr>\n",
       "    <tr>\n",
       "      <th>2</th>\n",
       "      <td>7.77</td>\n",
       "      <td>5.36</td>\n",
       "      <td>280.00</td>\n",
       "      <td>0.1367</td>\n",
       "      <td>0</td>\n",
       "      <td>1</td>\n",
       "      <td>0</td>\n",
       "      <td>0</td>\n",
       "      <td>0</td>\n",
       "      <td>5.634790</td>\n",
       "      <td>0.018687</td>\n",
       "    </tr>\n",
       "    <tr>\n",
       "      <th>3</th>\n",
       "      <td>9.13</td>\n",
       "      <td>6.39</td>\n",
       "      <td>68.90</td>\n",
       "      <td>0.3778</td>\n",
       "      <td>0</td>\n",
       "      <td>0</td>\n",
       "      <td>0</td>\n",
       "      <td>0</td>\n",
       "      <td>1</td>\n",
       "      <td>4.232656</td>\n",
       "      <td>0.142733</td>\n",
       "    </tr>\n",
       "    <tr>\n",
       "      <th>4</th>\n",
       "      <td>9.90</td>\n",
       "      <td>9.32</td>\n",
       "      <td>8.55</td>\n",
       "      <td>0.3000</td>\n",
       "      <td>1</td>\n",
       "      <td>0</td>\n",
       "      <td>0</td>\n",
       "      <td>0</td>\n",
       "      <td>0</td>\n",
       "      <td>2.145931</td>\n",
       "      <td>0.090000</td>\n",
       "    </tr>\n",
       "    <tr>\n",
       "      <th>5</th>\n",
       "      <td>9.29</td>\n",
       "      <td>7.50</td>\n",
       "      <td>85.00</td>\n",
       "      <td>0.2683</td>\n",
       "      <td>0</td>\n",
       "      <td>0</td>\n",
       "      <td>0</td>\n",
       "      <td>1</td>\n",
       "      <td>0</td>\n",
       "      <td>4.442651</td>\n",
       "      <td>0.071985</td>\n",
       "    </tr>\n",
       "    <tr>\n",
       "      <th>...</th>\n",
       "      <td>...</td>\n",
       "      <td>...</td>\n",
       "      <td>...</td>\n",
       "      <td>...</td>\n",
       "      <td>...</td>\n",
       "      <td>...</td>\n",
       "      <td>...</td>\n",
       "      <td>...</td>\n",
       "      <td>...</td>\n",
       "      <td>...</td>\n",
       "      <td>...</td>\n",
       "    </tr>\n",
       "    <tr>\n",
       "      <th>60</th>\n",
       "      <td>9.03</td>\n",
       "      <td>7.00</td>\n",
       "      <td>71.00</td>\n",
       "      <td>0.3667</td>\n",
       "      <td>0</td>\n",
       "      <td>0</td>\n",
       "      <td>0</td>\n",
       "      <td>0</td>\n",
       "      <td>1</td>\n",
       "      <td>4.262680</td>\n",
       "      <td>0.134469</td>\n",
       "    </tr>\n",
       "    <tr>\n",
       "      <th>61</th>\n",
       "      <td>10.22</td>\n",
       "      <td>10.00</td>\n",
       "      <td>15.00</td>\n",
       "      <td>0.4222</td>\n",
       "      <td>1</td>\n",
       "      <td>0</td>\n",
       "      <td>0</td>\n",
       "      <td>1</td>\n",
       "      <td>0</td>\n",
       "      <td>2.708050</td>\n",
       "      <td>0.178253</td>\n",
       "    </tr>\n",
       "    <tr>\n",
       "      <th>62</th>\n",
       "      <td>9.07</td>\n",
       "      <td>7.14</td>\n",
       "      <td>78.10</td>\n",
       "      <td>0.0889</td>\n",
       "      <td>0</td>\n",
       "      <td>0</td>\n",
       "      <td>0</td>\n",
       "      <td>0</td>\n",
       "      <td>1</td>\n",
       "      <td>4.357990</td>\n",
       "      <td>0.007903</td>\n",
       "    </tr>\n",
       "    <tr>\n",
       "      <th>63</th>\n",
       "      <td>7.28</td>\n",
       "      <td>6.41</td>\n",
       "      <td>140.00</td>\n",
       "      <td>0.1778</td>\n",
       "      <td>0</td>\n",
       "      <td>0</td>\n",
       "      <td>1</td>\n",
       "      <td>0</td>\n",
       "      <td>0</td>\n",
       "      <td>4.941642</td>\n",
       "      <td>0.031613</td>\n",
       "    </tr>\n",
       "    <tr>\n",
       "      <th>64</th>\n",
       "      <td>6.87</td>\n",
       "      <td>3.50</td>\n",
       "      <td>240.00</td>\n",
       "      <td>0.0000</td>\n",
       "      <td>0</td>\n",
       "      <td>1</td>\n",
       "      <td>0</td>\n",
       "      <td>0</td>\n",
       "      <td>0</td>\n",
       "      <td>5.480639</td>\n",
       "      <td>0.000000</td>\n",
       "    </tr>\n",
       "  </tbody>\n",
       "</table>\n",
       "<p>64 rows × 11 columns</p>\n",
       "</div>"
      ],
      "text/plain": [
       "      GDP  Exprop    Mort  Latitude  Neo  Africa  Asia  Namer  Samer  \\\n",
       "1    8.39    6.50   78.20    0.3111    0       1     0      0      0   \n",
       "2    7.77    5.36  280.00    0.1367    0       1     0      0      0   \n",
       "3    9.13    6.39   68.90    0.3778    0       0     0      0      1   \n",
       "4    9.90    9.32    8.55    0.3000    1       0     0      0      0   \n",
       "5    9.29    7.50   85.00    0.2683    0       0     0      1      0   \n",
       "..    ...     ...     ...       ...  ...     ...   ...    ...    ...   \n",
       "60   9.03    7.00   71.00    0.3667    0       0     0      0      1   \n",
       "61  10.22   10.00   15.00    0.4222    1       0     0      1      0   \n",
       "62   9.07    7.14   78.10    0.0889    0       0     0      0      1   \n",
       "63   7.28    6.41  140.00    0.1778    0       0     1      0      0   \n",
       "64   6.87    3.50  240.00    0.0000    0       1     0      0      0   \n",
       "\n",
       "     logMort  Latitude2  \n",
       "1   4.359270   0.096783  \n",
       "2   5.634790   0.018687  \n",
       "3   4.232656   0.142733  \n",
       "4   2.145931   0.090000  \n",
       "5   4.442651   0.071985  \n",
       "..       ...        ...  \n",
       "60  4.262680   0.134469  \n",
       "61  2.708050   0.178253  \n",
       "62  4.357990   0.007903  \n",
       "63  4.941642   0.031613  \n",
       "64  5.480639   0.000000  \n",
       "\n",
       "[64 rows x 11 columns]"
      ]
     },
     "execution_count": 5,
     "metadata": {},
     "output_type": "execute_result"
    }
   ],
   "source": [
    "# Dados - Acemoglu Johnson Robinson\n",
    "df = pd.read_csv('https://github.com/Daniel-Uhr/data/raw/main/AJR02.csv', index_col=0)\n",
    "df"
   ]
  },
  {
   "cell_type": "markdown",
   "metadata": {},
   "source": [
    "Vamos usar um gráfico de dispersão para ver se existe alguma relação óbvia entre o PIB per capita (GDP) e a proteção contra a expropriação."
   ]
  },
  {
   "cell_type": "code",
   "execution_count": 6,
   "metadata": {},
   "outputs": [
    {
     "data": {
      "image/png": "[encoded data removed]",
      "text/plain": [
       "<Figure size 800x400 with 1 Axes>"
      ]
     },
     "metadata": {},
     "output_type": "display_data"
    }
   ],
   "source": [
    "# Plotar relacionamento entre GDP e taxa de expropriação\n",
    "fig, ax = plt.subplots(1,1)\n",
    "ax.set_title('Figure 1: joint distribution of GDP and expropriation')\n",
    "df.plot(x='Exprop', y='GDP', kind='scatter', s=50, ax=ax);"
   ]
  },
  {
   "cell_type": "markdown",
   "metadata": {},
   "source": [
    "O gráfico mostra uma relação positiva bastante forte entre a proteção contra a expropriação e o logaritmo do PIB per capita.\n",
    "\n",
    "Especificamente, se maior proteção contra expropriação é uma medida de qualidade institucional, então melhores instituições parecem estar positivamente correlacionadas com melhores resultados econômicos (maior PIB per capita).\n",
    "\n",
    "Dado o enredo, escolher um modelo linear para descrever essa relação parece uma suposição razoável.\n",
    "\n",
    "Podemos escrever nosso modelo como:\n",
    "\n",
    "$$ GDP_{i} = \\beta_0 + \\beta_1 Exprop_i + u_i $$\n",
    "\n",
    "onde:\n",
    "* $GDP_{i}$ é o logaritmo do PIB per capita do país $i$ em 1995\n",
    "* $\\beta_0$ é o intercepto do modelo\n",
    "* $\\beta_1$ é a inclinação da linha de regressão, representando o efeito marginal da proteção contra a expropriação no PIB per capita\n",
    "* $u_i$ é o erro do modelo, que captura a variação no PIB per capita que não pode ser explicada pela proteção contra a expropriação.\n",
    "\n",
    "A técnica mais comum para estimar os parâmetros ($\\beta$'s) do modelo linear é Mínimos Quadrados Ordinários (MQO).\n",
    "\n",
    "Como o nome indica, um modelo OLS/MQO é resolvido encontrando os parâmetros que minimizam a soma dos resíduos quadrados , ou seja:\n",
    "\n",
    "$$ \\hat{\\beta} = \\underset{\\beta}{\\text{argmin}} \\sum_{i=1}^{n} (\\hat{u}_i)^2 = \\underset{\\beta}{\\text{argmin}} \\sum_{i=1}^{n} (GDP_i - \\hat{GDP}_i)^2 $$\n",
    "\n",
    "Lembre que para estimar a constante devemos adicionar uma coluna de 1s à matriz de variáveis independentes.\n",
    "\n",
    "Agora, podemos construir nosso modelo `statsmodels` usando a função OLS."
   ]
  },
  {
   "cell_type": "code",
   "execution_count": 16,
   "metadata": {},
   "outputs": [
    {
     "data": {
      "text/plain": [
       "statsmodels.regression.linear_model.OLS"
      ]
     },
     "execution_count": 16,
     "metadata": {},
     "output_type": "execute_result"
    }
   ],
   "source": [
    "# Regressão GDP sobre Expropriation Rate\n",
    "reg1 = sm.OLS.from_formula('GDP ~ Exprop', df)\n",
    "type(reg1)"
   ]
  },
  {
   "cell_type": "markdown",
   "metadata": {},
   "source": [
    "Precisamos usar `.fit()` para obter estimativas de parâmetros"
   ]
  },
  {
   "cell_type": "code",
   "execution_count": null,
   "metadata": {},
   "outputs": [
    {
     "data": {
      "text/plain": [
       "statsmodels.regression.linear_model.RegressionResultsWrapper"
      ]
     },
     "execution_count": 8,
     "metadata": {},
     "output_type": "execute_result"
    }
   ],
   "source": [
    "results = reg1.fit()\n",
    "type(results)"
   ]
  },
  {
   "cell_type": "markdown",
   "metadata": {},
   "source": [
    "Agora temos o modelo de regressão ajustado armazenado em results.\n",
    "\n",
    "Para visualizar os resultados da regressão MCO, podemos chamar o .summary() método .\n",
    "\n",
    "Observe que uma observação foi erroneamente excluída dos resultados do artigo original (veja a nota localizada em maketable2.do da página de Acemoglu) e, portanto, os coeficientes diferem"
   ]
  },
  {
   "cell_type": "code",
   "execution_count": 9,
   "metadata": {},
   "outputs": [
    {
     "data": {
      "text/html": [
       "<table class=\"simpletable\">\n",
       "<caption>OLS Regression Results</caption>\n",
       "<tr>\n",
       "  <th>Dep. Variable:</th>           <td>GDP</td>       <th>  R-squared:         </th> <td>   0.540</td>\n",
       "</tr>\n",
       "<tr>\n",
       "  <th>Model:</th>                   <td>OLS</td>       <th>  Adj. R-squared:    </th> <td>   0.532</td>\n",
       "</tr>\n",
       "<tr>\n",
       "  <th>Method:</th>             <td>Least Squares</td>  <th>  F-statistic:       </th> <td>   72.71</td>\n",
       "</tr>\n",
       "<tr>\n",
       "  <th>Date:</th>             <td>seg, 05 mai 2025</td> <th>  Prob (F-statistic):</th> <td>4.84e-12</td>\n",
       "</tr>\n",
       "<tr>\n",
       "  <th>Time:</th>                 <td>16:44:02</td>     <th>  Log-Likelihood:    </th> <td> -68.214</td>\n",
       "</tr>\n",
       "<tr>\n",
       "  <th>No. Observations:</th>      <td>    64</td>      <th>  AIC:               </th> <td>   140.4</td>\n",
       "</tr>\n",
       "<tr>\n",
       "  <th>Df Residuals:</th>          <td>    62</td>      <th>  BIC:               </th> <td>   144.7</td>\n",
       "</tr>\n",
       "<tr>\n",
       "  <th>Df Model:</th>              <td>     1</td>      <th>                     </th>     <td> </td>   \n",
       "</tr>\n",
       "<tr>\n",
       "  <th>Covariance Type:</th>      <td>nonrobust</td>    <th>                     </th>     <td> </td>   \n",
       "</tr>\n",
       "</table>\n",
       "<table class=\"simpletable\">\n",
       "<tr>\n",
       "      <td></td>         <th>coef</th>     <th>std err</th>      <th>t</th>      <th>P>|t|</th>  <th>[0.025</th>    <th>0.975]</th>  \n",
       "</tr>\n",
       "<tr>\n",
       "  <th>Intercept</th> <td>    4.6609</td> <td>    0.409</td> <td>   11.402</td> <td> 0.000</td> <td>    3.844</td> <td>    5.478</td>\n",
       "</tr>\n",
       "<tr>\n",
       "  <th>Exprop</th>    <td>    0.5220</td> <td>    0.061</td> <td>    8.527</td> <td> 0.000</td> <td>    0.400</td> <td>    0.644</td>\n",
       "</tr>\n",
       "</table>\n",
       "<table class=\"simpletable\">\n",
       "<tr>\n",
       "  <th>Omnibus:</th>       <td> 7.134</td> <th>  Durbin-Watson:     </th> <td>   2.081</td>\n",
       "</tr>\n",
       "<tr>\n",
       "  <th>Prob(Omnibus):</th> <td> 0.028</td> <th>  Jarque-Bera (JB):  </th> <td>   6.698</td>\n",
       "</tr>\n",
       "<tr>\n",
       "  <th>Skew:</th>          <td>-0.784</td> <th>  Prob(JB):          </th> <td>  0.0351</td>\n",
       "</tr>\n",
       "<tr>\n",
       "  <th>Kurtosis:</th>      <td> 3.234</td> <th>  Cond. No.          </th> <td>    31.2</td>\n",
       "</tr>\n",
       "</table><br/><br/>Notes:<br/>[1] Standard Errors assume that the covariance matrix of the errors is correctly specified."
      ],
      "text/plain": [
       "<class 'statsmodels.iolib.summary.Summary'>\n",
       "\"\"\"\n",
       "                            OLS Regression Results                            \n",
       "==============================================================================\n",
       "Dep. Variable:                    GDP   R-squared:                       0.540\n",
       "Model:                            OLS   Adj. R-squared:                  0.532\n",
       "Method:                 Least Squares   F-statistic:                     72.71\n",
       "Date:                seg, 05 mai 2025   Prob (F-statistic):           4.84e-12\n",
       "Time:                        16:44:02   Log-Likelihood:                -68.214\n",
       "No. Observations:                  64   AIC:                             140.4\n",
       "Df Residuals:                      62   BIC:                             144.7\n",
       "Df Model:                           1                                         \n",
       "Covariance Type:            nonrobust                                         \n",
       "==============================================================================\n",
       "                 coef    std err          t      P>|t|      [0.025      0.975]\n",
       "------------------------------------------------------------------------------\n",
       "Intercept      4.6609      0.409     11.402      0.000       3.844       5.478\n",
       "Exprop         0.5220      0.061      8.527      0.000       0.400       0.644\n",
       "==============================================================================\n",
       "Omnibus:                        7.134   Durbin-Watson:                   2.081\n",
       "Prob(Omnibus):                  0.028   Jarque-Bera (JB):                6.698\n",
       "Skew:                          -0.784   Prob(JB):                       0.0351\n",
       "Kurtosis:                       3.234   Cond. No.                         31.2\n",
       "==============================================================================\n",
       "\n",
       "Notes:\n",
       "[1] Standard Errors assume that the covariance matrix of the errors is correctly specified.\n",
       "\"\"\""
      ]
     },
     "execution_count": 9,
     "metadata": {},
     "output_type": "execute_result"
    }
   ],
   "source": [
    "results.summary()"
   ]
  },
  {
   "cell_type": "markdown",
   "metadata": {},
   "source": [
    "Observe que uma observação foi erroneamente excluída dos resultados do artigo original (veja a nota localizada em maketable2.do da página de Acemoglu) e, portanto, os coeficientes diferem ligeiramente."
   ]
  },
  {
   "cell_type": "markdown",
   "metadata": {},
   "source": [
    "Usando nossas estimativas de parâmetros, agora podemos escrever nossa relação estimada como:\n",
    "\n",
    "$$ \\hat{GDP}_{i} = 4.63 + 0.53 Exprop_i $$"
   ]
  },
  {
   "cell_type": "markdown",
   "metadata": {},
   "source": [
    "Esta equação descreve a linha que melhor se ajusta aos nossos dados, conforme mostrado na Figura 2.\n",
    "\n",
    "Podemos usar essa equação para prever o nível do logaritmo do PIB per capita para um valor do índice de proteção contra expropriação."
   ]
  },
  {
   "cell_type": "code",
   "execution_count": 10,
   "metadata": {},
   "outputs": [
    {
     "data": {
      "text/plain": [
       "6.5160937500000005"
      ]
     },
     "execution_count": 10,
     "metadata": {},
     "output_type": "execute_result"
    }
   ],
   "source": [
    "mean_expr = np.mean(df['Exprop'])\n",
    "mean_expr"
   ]
  },
  {
   "cell_type": "code",
   "execution_count": 11,
   "metadata": {},
   "outputs": [
    {
     "data": {
      "text/plain": [
       "8.062499999999995"
      ]
     },
     "execution_count": 11,
     "metadata": {},
     "output_type": "execute_result"
    }
   ],
   "source": [
    "predicted_logpdp95 = results.params[0] + results.params[1] * mean_expr\n",
    "predicted_logpdp95"
   ]
  },
  {
   "cell_type": "markdown",
   "metadata": {},
   "source": [
    "Ou seja, para um país com um valor de índice de **6,51** (a média do conjunto de dados), descobrimos que seu nível previsto de logaritmo do PIB per capita em 1995 é **8,09**."
   ]
  },
  {
   "cell_type": "markdown",
   "metadata": {},
   "source": [
    "Uma maneira mais fácil (e precisa) de obter esse resultado é usar `.predict()` e definir \n",
    "e"
   ]
  },
  {
   "cell_type": "code",
   "execution_count": 28,
   "metadata": {},
   "outputs": [
    {
     "data": {
      "text/plain": [
       "0    8.0625\n",
       "dtype: float64"
      ]
     },
     "execution_count": 28,
     "metadata": {},
     "output_type": "execute_result"
    }
   ],
   "source": [
    "mean_expr = df['Exprop'].mean()\n",
    "new_data = pd.DataFrame({'Exprop': [mean_expr]})\n",
    "results.predict(new_data)"
   ]
  },
  {
   "cell_type": "markdown",
   "metadata": {},
   "source": [
    "Podemos obter uma matriz de previsões $GDP_{i}$ para cada valor de $Exprop_i$ em nosso conjunto de dados, recorrendo `.predict()` aos nossos resultados.\n",
    "\n",
    "Traçando os valores previstos em relação $Exprop_i$, mostra que os valores previstos estão ao longo da linha linear que ajustamos acima.\n",
    "\n",
    "Os valores observados de $GDP_{i}$ também são plotados para fins de comparação."
   ]
  },
  {
   "cell_type": "code",
   "execution_count": 29,
   "metadata": {},
   "outputs": [],
   "source": [
    "# Make first new figure\n",
    "def make_new_fig_2():\n",
    "\n",
    "    # Init figure\n",
    "    fig, ax = plt.subplots(1,1)\n",
    "    ax.set_title('Figure 2: OLS predicted values')\n",
    "\n",
    "    # Drop missing observations from whole sample\n",
    "    df_plot = df.dropna(subset=['GDP', 'Exprop'])\n",
    "    sns.regplot(x=df_plot['Exprop'], y=df_plot['GDP'], ax=ax, order=1, ci=None, line_kws={'color':'r'})\n",
    "\n",
    "    ax.legend(['observed', 'predicted'])\n",
    "    ax.set_xlabel('Exprop')\n",
    "    ax.set_ylabel('GDP')\n",
    "    plt.show()"
   ]
  },
  {
   "cell_type": "code",
   "execution_count": 30,
   "metadata": {},
   "outputs": [
    {
     "data": {
      "image/png": "[encoded data removed]",
      "text/plain": [
       "<Figure size 800x400 with 1 Axes>"
      ]
     },
     "metadata": {},
     "output_type": "display_data"
    }
   ],
   "source": [
    "make_new_fig_2()"
   ]
  },
  {
   "cell_type": "markdown",
   "metadata": {},
   "source": [
    "### 3. Ampliando o Modelo de Regressão Linear\n",
    "\n",
    "Até agora, contabilizamos apenas as instituições que afetam o desempenho econômico. É quase certo que há vários outros fatores que afetam o PIB e que não estão incluídos em nosso modelo.\n",
    "\n",
    "Deixando de fora as variáveis ​​que afetam $GDP_{i}$ resultará em **viés de variável omitida**, produzindo estimativas de parâmetros tendenciosas e inconsistentes.\n",
    "\n",
    "Podemos estender nosso modelo de regressão bivariada para um modelo de regressão multivariada adicionando outros fatores que podem afetar $GDP_{i}$.\n",
    "\n",
    "[AJR01] considere outros fatores como:\n",
    "\n",
    "* o efeito do clima nos resultados económicos; a latitude é usada como proxy para isso\n",
    "* diferenças que afetam tanto o desempenho econômico quanto as instituições, por exemplo, culturais, históricas, etc.; controladas com o uso de modelos continentais\n",
    "\n",
    "Vamos estimar alguns dos modelos estendidos considerados no artigo (Tabela 2) usando dados de `maketable2.dta`"
   ]
  },
  {
   "cell_type": "code",
   "execution_count": 31,
   "metadata": {},
   "outputs": [],
   "source": [
    "# Adicionar constante\n",
    "df['const'] = 1\n",
    "\n",
    "# Create lists of variables to be used in each regression\n",
    "X1 = df[['const', 'Exprop']]\n",
    "X2 = df[['const', 'Exprop', 'Latitude', 'Latitude2']]\n",
    "X3 = df[['const', 'Exprop', 'Latitude', 'Latitude2', 'Asia', 'Africa', 'Namer', 'Samer']]\n",
    "\n",
    "# Estimate an OLS regression for each set of variables\n",
    "reg1 = sm.OLS(df['GDP'], X1, missing='drop').fit()\n",
    "reg2 = sm.OLS(df['GDP'], X2, missing='drop').fit()\n",
    "reg3 = sm.OLS(df['GDP'], X3, missing='drop').fit()"
   ]
  },
  {
   "cell_type": "markdown",
   "metadata": {},
   "source": [
    "Agora que ajustamos nosso modelo, usaremos `summary_col` para exibir os resultados em uma única tabela (os números do modelo correspondem aos do artigo)"
   ]
  },
  {
   "cell_type": "code",
   "execution_count": 32,
   "metadata": {},
   "outputs": [
    {
     "data": {
      "text/html": [
       "<table class=\"simpletable\">\n",
       "<tr>\n",
       "          <td></td>         <th>Model 1</th> <th>Model 2</th> <th>Model 3</th>\n",
       "</tr>\n",
       "<tr>\n",
       "  <th>const</th>            <td>4.66***</td> <td>4.55***</td> <td>5.95***</td>\n",
       "</tr>\n",
       "<tr>\n",
       "  <th></th>                 <td>(0.41)</td>  <td>(0.45)</td>  <td>(0.68)</td> \n",
       "</tr>\n",
       "<tr>\n",
       "  <th>Exprop</th>           <td>0.52***</td> <td>0.49***</td> <td>0.40***</td>\n",
       "</tr>\n",
       "<tr>\n",
       "  <th></th>                 <td>(0.06)</td>  <td>(0.07)</td>  <td>(0.06)</td> \n",
       "</tr>\n",
       "<tr>\n",
       "  <th>Latitude</th>            <td></td>      <td>2.16</td>    <td>0.42</td>  \n",
       "</tr>\n",
       "<tr>\n",
       "  <th></th>                    <td></td>     <td>(1.68)</td>  <td>(1.47)</td> \n",
       "</tr>\n",
       "<tr>\n",
       "  <th>Latitude2</th>           <td></td>      <td>-2.12</td>   <td>0.44</td>  \n",
       "</tr>\n",
       "<tr>\n",
       "  <th></th>                    <td></td>     <td>(2.86)</td>  <td>(2.48)</td> \n",
       "</tr>\n",
       "<tr>\n",
       "  <th>Africa</th>              <td></td>        <td></td>     <td>-1.06**</td>\n",
       "</tr>\n",
       "<tr>\n",
       "  <th></th>                    <td></td>        <td></td>     <td>(0.41)</td> \n",
       "</tr>\n",
       "<tr>\n",
       "  <th>Asia</th>                <td></td>        <td></td>     <td>-0.74*</td> \n",
       "</tr>\n",
       "<tr>\n",
       "  <th></th>                    <td></td>        <td></td>     <td>(0.42)</td> \n",
       "</tr>\n",
       "<tr>\n",
       "  <th>Namer</th>               <td></td>        <td></td>      <td>-0.17</td> \n",
       "</tr>\n",
       "<tr>\n",
       "  <th></th>                    <td></td>        <td></td>     <td>(0.40)</td> \n",
       "</tr>\n",
       "<tr>\n",
       "  <th>Samer</th>               <td></td>        <td></td>      <td>-0.12</td> \n",
       "</tr>\n",
       "<tr>\n",
       "  <th></th>                    <td></td>        <td></td>     <td>(0.42)</td> \n",
       "</tr>\n",
       "<tr>\n",
       "  <th>R-squared</th>         <td>0.54</td>    <td>0.56</td>    <td>0.71</td>  \n",
       "</tr>\n",
       "<tr>\n",
       "  <th>R-squared Adj.</th>    <td>0.53</td>    <td>0.54</td>    <td>0.67</td>  \n",
       "</tr>\n",
       "<tr>\n",
       "  <th>No. observations</th>   <td>64</td>      <td>64</td>      <td>64</td>   \n",
       "</tr>\n",
       "</table>"
      ],
      "text/plain": [
       "<class 'statsmodels.iolib.summary2.Summary'>\n",
       "\"\"\"\n",
       "\n",
       "========================================\n",
       "                 Model 1 Model 2 Model 3\n",
       "----------------------------------------\n",
       "const            4.66*** 4.55*** 5.95***\n",
       "                 (0.41)  (0.45)  (0.68) \n",
       "Exprop           0.52*** 0.49*** 0.40***\n",
       "                 (0.06)  (0.07)  (0.06) \n",
       "Latitude                 2.16    0.42   \n",
       "                         (1.68)  (1.47) \n",
       "Latitude2                -2.12   0.44   \n",
       "                         (2.86)  (2.48) \n",
       "Africa                           -1.06**\n",
       "                                 (0.41) \n",
       "Asia                             -0.74* \n",
       "                                 (0.42) \n",
       "Namer                            -0.17  \n",
       "                                 (0.40) \n",
       "Samer                            -0.12  \n",
       "                                 (0.42) \n",
       "R-squared        0.54    0.56    0.71   \n",
       "R-squared Adj.   0.53    0.54    0.67   \n",
       "No. observations 64      64      64     \n",
       "========================================\n",
       "Standard errors in parentheses.\n",
       "* p<.1, ** p<.05, ***p<.01\n",
       "\"\"\""
      ]
     },
     "execution_count": 32,
     "metadata": {},
     "output_type": "execute_result"
    }
   ],
   "source": [
    "info_dict={'No. observations' : lambda x: f\"{int(x.nobs):d}\"}\n",
    "\n",
    "results_table = summary_col(results=[reg1,reg2,reg3],\n",
    "                            float_format='%0.2f',\n",
    "                            stars = True,\n",
    "                            model_names=['Model 1','Model 2','Model 3'],\n",
    "                            info_dict=info_dict,\n",
    "                            regressor_order=['const','Exprop','Latitude','Latitude2'])\n",
    "\n",
    "results_table"
   ]
  },
  {
   "cell_type": "markdown",
   "metadata": {},
   "source": [
    "### 4. Endogeneidade\n",
    "\n",
    "Conforme discutido por [AJR01], os modelos OLS/MQO provavelmente sofrem de **problemas de endogeneidade**, resultando em estimativas de modelo tendenciosas e inconsistentes.\n",
    "\n",
    "Ou seja, é provável que exista uma relação bidirecional entre instituições e resultados econômicos:\n",
    "\n",
    "* países mais ricos podem ter condições de pagar ou preferir instituições melhores\n",
    "* variáveis ​​que afetam a renda também podem estar correlacionadas com diferenças institucionais\n",
    "* a construção do índice pode ser tendenciosa; os analistas podem ser tendenciosos no sentido de ver os países com rendimentos mais elevados como tendo melhores instituições\n",
    "\n",
    "\n",
    "Para lidar com a endogeneidade, podemos usar a ***regressão de mínimos quadrados em dois estágios (2SLS)***, que é uma extensão da regressão OLS.\n",
    "\n",
    "Este método requer a substituição da variável endógena\n",
    "com uma variável que é:\n",
    "\n",
    "1. correlacionado com $Exprop_i$ \n",
    "2. não correlacionado com o termo de erro (ou seja, não deve afetar diretamente a variável dependente, caso contrário, estaria correlacionado com $u_i$ devido ao viés da variável omitida).\n",
    "   \n",
    "\n",
    "Podemos escrever nosso modelo como:\n",
    "\n",
    "$$ GDP_{i} = \\beta_0 + \\beta_1 Exprop_i + u_i $$\n",
    "\n",
    "$$ Exprop_i = \\pi_0 + \\pi_1 logMort_{i} + v_i $$\n",
    "\n",
    "\n",
    "\n",
    "O novo conjunto de regressores logMorté chamado de instrumento , que visa remover a endogeneidade em nosso proxy de diferenças institucionais.\n",
    "\n",
    "A principal contribuição de [AJR01] é o uso de taxas de mortalidade de colonos para instrumentar diferenças institucionais.\n",
    "\n",
    "Eles levantam a hipótese de que taxas mais altas de mortalidade dos colonizadores levaram ao estabelecimento de instituições de natureza mais extrativista (menos proteção contra a expropriação), e essas instituições persistem até hoje.\n",
    "\n",
    "Usando um gráfico de dispersão (Figura 3 em [AJR01] ), podemos ver que a proteção contra a expropriação está negativamente correlacionada com as taxas de mortalidade dos colonos, coincidindo com a hipótese dos autores e satisfazendo a primeira condição de um instrumento válido.\n",
    "\n",
    "\n"
   ]
  },
  {
   "cell_type": "code",
   "execution_count": 33,
   "metadata": {},
   "outputs": [],
   "source": [
    "# Dropping NA's is required to use numpy's polyfit\n",
    "df2 = df.dropna(subset=['logMort', 'Exprop'])\n",
    "X = df2['logMort']\n",
    "y = df2['Exprop']"
   ]
  },
  {
   "cell_type": "code",
   "execution_count": 34,
   "metadata": {},
   "outputs": [],
   "source": [
    "# Make new figure 2\n",
    "def make_new_figure_2():\n",
    "\n",
    "    # Init figure\n",
    "    fig, ax = plt.subplots(1,1)\n",
    "    ax.set_title('Figure 3: First-stage')\n",
    "\n",
    "    # Fit a linear trend line\n",
    "    sns.regplot(x=X, y=y, ax=ax, order=1, scatter=True, ci=None, line_kws={\"color\": \"r\"})\n",
    "\n",
    "    ax.set_xlim([1.8,8.4])\n",
    "    ax.set_ylim([3.3,10.4])\n",
    "    ax.set_xlabel('Log of Settler Mortality')\n",
    "    ax.set_ylabel('Average Expropriation Risk 1985-95');"
   ]
  },
  {
   "cell_type": "code",
   "execution_count": 35,
   "metadata": {},
   "outputs": [
    {
     "data": {
      "image/png": "[encoded data removed]",
      "text/plain": [
       "<Figure size 800x400 with 1 Axes>"
      ]
     },
     "metadata": {},
     "output_type": "display_data"
    }
   ],
   "source": [
    "make_new_figure_2()"
   ]
  },
  {
   "cell_type": "markdown",
   "metadata": {},
   "source": [
    "A segunda condição pode não ser satisfeita se as taxas de mortalidade dos colonos nos séculos XVII a XIX tiverem um efeito direto no PIB atual (além de seu efeito indireto por meio de instituições).\n",
    "\n",
    "Por exemplo, as taxas de mortalidade de colonos podem estar relacionadas ao ambiente atual de doenças em um país, o que pode afetar o desempenho econômico atual.\n",
    "\n",
    "[AJR01] argumentam que isso é improvável porque:\n",
    "\n",
    "A maioria das mortes de colonos foi causada por malária e febre amarela e teve efeito limitado sobre a população local.\n",
    "A carga de doenças sobre populações locais na África ou na Índia, por exemplo, não pareceu ser maior que a média, apoiada por densidades populacionais relativamente altas nessas áreas antes da colonização.\n",
    "\n",
    "Como parecemos ter um instrumento válido, podemos usar a regressão 2SLS para obter estimativas de parâmetros consistentes e imparciais.\n"
   ]
  },
  {
   "cell_type": "markdown",
   "metadata": {},
   "source": [
    "### 5. Primeio Estágio\n",
    "\n",
    "\n",
    "A primeira etapa envolve a regressão da variável endógena ($Exprop_i$) no instrumento.\n",
    "\n",
    "O instrumento é o conjunto de todas as variáveis ​​exógenas em nosso modelo (e não apenas a variável que substituímos).\n",
    "\n",
    "Usando o modelo 1 como exemplo, nosso instrumento é simplesmente uma constante e taxas de mortalidade de colonos $logMort_i$.\n",
    "\n",
    "Portanto, estimaremos a regressão do primeiro estágio como\n",
    "\n",
    "$$ Exprop_i = \\pi_0 + \\pi_1 logMort_{i} + v_i $$\n",
    "\n",
    "\n",
    "\n"
   ]
  },
  {
   "cell_type": "code",
   "execution_count": 36,
   "metadata": {},
   "outputs": [
    {
     "data": {
      "text/html": [
       "<table class=\"simpletable\">\n",
       "<caption>OLS Regression Results</caption>\n",
       "<tr>\n",
       "  <th>Dep. Variable:</th>         <td>Exprop</td>      <th>  R-squared:         </th> <td>   0.274</td>\n",
       "</tr>\n",
       "<tr>\n",
       "  <th>Model:</th>                   <td>OLS</td>       <th>  Adj. R-squared:    </th> <td>   0.262</td>\n",
       "</tr>\n",
       "<tr>\n",
       "  <th>Method:</th>             <td>Least Squares</td>  <th>  F-statistic:       </th> <td>   23.34</td>\n",
       "</tr>\n",
       "<tr>\n",
       "  <th>Date:</th>             <td>seg, 05 mai 2025</td> <th>  Prob (F-statistic):</th> <td>9.27e-06</td>\n",
       "</tr>\n",
       "<tr>\n",
       "  <th>Time:</th>                 <td>17:52:13</td>     <th>  Log-Likelihood:    </th> <td> -104.69</td>\n",
       "</tr>\n",
       "<tr>\n",
       "  <th>No. Observations:</th>      <td>    64</td>      <th>  AIC:               </th> <td>   213.4</td>\n",
       "</tr>\n",
       "<tr>\n",
       "  <th>Df Residuals:</th>          <td>    62</td>      <th>  BIC:               </th> <td>   217.7</td>\n",
       "</tr>\n",
       "<tr>\n",
       "  <th>Df Model:</th>              <td>     1</td>      <th>                     </th>     <td> </td>   \n",
       "</tr>\n",
       "<tr>\n",
       "  <th>Covariance Type:</th>      <td>nonrobust</td>    <th>                     </th>     <td> </td>   \n",
       "</tr>\n",
       "</table>\n",
       "<table class=\"simpletable\">\n",
       "<tr>\n",
       "     <td></td>        <th>coef</th>     <th>std err</th>      <th>t</th>      <th>P>|t|</th>  <th>[0.025</th>    <th>0.975]</th>  \n",
       "</tr>\n",
       "<tr>\n",
       "  <th>const</th>   <td>    9.3659</td> <td>    0.611</td> <td>   15.339</td> <td> 0.000</td> <td>    8.145</td> <td>   10.586</td>\n",
       "</tr>\n",
       "<tr>\n",
       "  <th>logMort</th> <td>   -0.6133</td> <td>    0.127</td> <td>   -4.831</td> <td> 0.000</td> <td>   -0.867</td> <td>   -0.360</td>\n",
       "</tr>\n",
       "</table>\n",
       "<table class=\"simpletable\">\n",
       "<tr>\n",
       "  <th>Omnibus:</th>       <td> 0.047</td> <th>  Durbin-Watson:     </th> <td>   1.592</td>\n",
       "</tr>\n",
       "<tr>\n",
       "  <th>Prob(Omnibus):</th> <td> 0.977</td> <th>  Jarque-Bera (JB):  </th> <td>   0.154</td>\n",
       "</tr>\n",
       "<tr>\n",
       "  <th>Skew:</th>          <td> 0.060</td> <th>  Prob(JB):          </th> <td>   0.926</td>\n",
       "</tr>\n",
       "<tr>\n",
       "  <th>Kurtosis:</th>      <td> 2.792</td> <th>  Cond. No.          </th> <td>    19.4</td>\n",
       "</tr>\n",
       "</table><br/><br/>Notes:<br/>[1] Standard Errors assume that the covariance matrix of the errors is correctly specified."
      ],
      "text/plain": [
       "<class 'statsmodels.iolib.summary.Summary'>\n",
       "\"\"\"\n",
       "                            OLS Regression Results                            \n",
       "==============================================================================\n",
       "Dep. Variable:                 Exprop   R-squared:                       0.274\n",
       "Model:                            OLS   Adj. R-squared:                  0.262\n",
       "Method:                 Least Squares   F-statistic:                     23.34\n",
       "Date:                seg, 05 mai 2025   Prob (F-statistic):           9.27e-06\n",
       "Time:                        17:52:13   Log-Likelihood:                -104.69\n",
       "No. Observations:                  64   AIC:                             213.4\n",
       "Df Residuals:                      62   BIC:                             217.7\n",
       "Df Model:                           1                                         \n",
       "Covariance Type:            nonrobust                                         \n",
       "==============================================================================\n",
       "                 coef    std err          t      P>|t|      [0.025      0.975]\n",
       "------------------------------------------------------------------------------\n",
       "const          9.3659      0.611     15.339      0.000       8.145      10.586\n",
       "logMort       -0.6133      0.127     -4.831      0.000      -0.867      -0.360\n",
       "==============================================================================\n",
       "Omnibus:                        0.047   Durbin-Watson:                   1.592\n",
       "Prob(Omnibus):                  0.977   Jarque-Bera (JB):                0.154\n",
       "Skew:                           0.060   Prob(JB):                        0.926\n",
       "Kurtosis:                       2.792   Cond. No.                         19.4\n",
       "==============================================================================\n",
       "\n",
       "Notes:\n",
       "[1] Standard Errors assume that the covariance matrix of the errors is correctly specified.\n",
       "\"\"\""
      ]
     },
     "execution_count": 36,
     "metadata": {},
     "output_type": "execute_result"
    }
   ],
   "source": [
    "# Add a constant variable\n",
    "df['const'] = 1\n",
    "\n",
    "# Fit the first stage regression and print summary\n",
    "results_fs = sm.OLS(df['Exprop'],\n",
    "                    df.loc[:,['const', 'logMort']],\n",
    "                    missing='drop').fit()\n",
    "results_fs.summary()"
   ]
  },
  {
   "cell_type": "markdown",
   "metadata": {},
   "source": [
    "Precisamos recuperar os valores previstos de\n",
    "usando `.predict()`.\n",
    "\n",
    "Substituímos então a variável endógena $Exprop_i$ com os valores previstos $\\hat{Exprop}_i$ no modelo linear original.\n",
    "\n",
    "Nossa regressão de segundo estágio é assim:\n",
    "\n",
    "$$ GDP_{i} = \\beta_0 + \\beta_1 \\hat{Exprop}_i + u_i $$\n",
    "\n"
   ]
  },
  {
   "cell_type": "markdown",
   "metadata": {},
   "source": [
    "### 6. Segundo Estágio\n"
   ]
  },
  {
   "cell_type": "code",
   "execution_count": 37,
   "metadata": {},
   "outputs": [
    {
     "data": {
      "text/html": [
       "<table class=\"simpletable\">\n",
       "<caption>OLS Regression Results</caption>\n",
       "<tr>\n",
       "  <th>Dep. Variable:</th>           <td>GDP</td>       <th>  R-squared:         </th> <td>   0.462</td>\n",
       "</tr>\n",
       "<tr>\n",
       "  <th>Model:</th>                   <td>OLS</td>       <th>  Adj. R-squared:    </th> <td>   0.453</td>\n",
       "</tr>\n",
       "<tr>\n",
       "  <th>Method:</th>             <td>Least Squares</td>  <th>  F-statistic:       </th> <td>   53.24</td>\n",
       "</tr>\n",
       "<tr>\n",
       "  <th>Date:</th>             <td>seg, 05 mai 2025</td> <th>  Prob (F-statistic):</th> <td>6.58e-10</td>\n",
       "</tr>\n",
       "<tr>\n",
       "  <th>Time:</th>                 <td>17:53:15</td>     <th>  Log-Likelihood:    </th> <td> -73.208</td>\n",
       "</tr>\n",
       "<tr>\n",
       "  <th>No. Observations:</th>      <td>    64</td>      <th>  AIC:               </th> <td>   150.4</td>\n",
       "</tr>\n",
       "<tr>\n",
       "  <th>Df Residuals:</th>          <td>    62</td>      <th>  BIC:               </th> <td>   154.7</td>\n",
       "</tr>\n",
       "<tr>\n",
       "  <th>Df Model:</th>              <td>     1</td>      <th>                     </th>     <td> </td>   \n",
       "</tr>\n",
       "<tr>\n",
       "  <th>Covariance Type:</th>      <td>nonrobust</td>    <th>                     </th>     <td> </td>   \n",
       "</tr>\n",
       "</table>\n",
       "<table class=\"simpletable\">\n",
       "<tr>\n",
       "          <td></td>            <th>coef</th>     <th>std err</th>      <th>t</th>      <th>P>|t|</th>  <th>[0.025</th>    <th>0.975]</th>  \n",
       "</tr>\n",
       "<tr>\n",
       "  <th>Intercept</th>        <td>    2.0448</td> <td>    0.830</td> <td>    2.463</td> <td> 0.017</td> <td>    0.385</td> <td>    3.705</td>\n",
       "</tr>\n",
       "<tr>\n",
       "  <th>predicted_Exprop</th> <td>    0.9235</td> <td>    0.127</td> <td>    7.297</td> <td> 0.000</td> <td>    0.671</td> <td>    1.177</td>\n",
       "</tr>\n",
       "</table>\n",
       "<table class=\"simpletable\">\n",
       "<tr>\n",
       "  <th>Omnibus:</th>       <td>10.463</td> <th>  Durbin-Watson:     </th> <td>   2.052</td>\n",
       "</tr>\n",
       "<tr>\n",
       "  <th>Prob(Omnibus):</th> <td> 0.005</td> <th>  Jarque-Bera (JB):  </th> <td>  10.693</td>\n",
       "</tr>\n",
       "<tr>\n",
       "  <th>Skew:</th>          <td>-0.806</td> <th>  Prob(JB):          </th> <td> 0.00476</td>\n",
       "</tr>\n",
       "<tr>\n",
       "  <th>Kurtosis:</th>      <td> 4.188</td> <th>  Cond. No.          </th> <td>    57.8</td>\n",
       "</tr>\n",
       "</table><br/><br/>Notes:<br/>[1] Standard Errors assume that the covariance matrix of the errors is correctly specified."
      ],
      "text/plain": [
       "<class 'statsmodels.iolib.summary.Summary'>\n",
       "\"\"\"\n",
       "                            OLS Regression Results                            \n",
       "==============================================================================\n",
       "Dep. Variable:                    GDP   R-squared:                       0.462\n",
       "Model:                            OLS   Adj. R-squared:                  0.453\n",
       "Method:                 Least Squares   F-statistic:                     53.24\n",
       "Date:                seg, 05 mai 2025   Prob (F-statistic):           6.58e-10\n",
       "Time:                        17:53:15   Log-Likelihood:                -73.208\n",
       "No. Observations:                  64   AIC:                             150.4\n",
       "Df Residuals:                      62   BIC:                             154.7\n",
       "Df Model:                           1                                         \n",
       "Covariance Type:            nonrobust                                         \n",
       "====================================================================================\n",
       "                       coef    std err          t      P>|t|      [0.025      0.975]\n",
       "------------------------------------------------------------------------------------\n",
       "Intercept            2.0448      0.830      2.463      0.017       0.385       3.705\n",
       "predicted_Exprop     0.9235      0.127      7.297      0.000       0.671       1.177\n",
       "==============================================================================\n",
       "Omnibus:                       10.463   Durbin-Watson:                   2.052\n",
       "Prob(Omnibus):                  0.005   Jarque-Bera (JB):               10.693\n",
       "Skew:                          -0.806   Prob(JB):                      0.00476\n",
       "Kurtosis:                       4.188   Cond. No.                         57.8\n",
       "==============================================================================\n",
       "\n",
       "Notes:\n",
       "[1] Standard Errors assume that the covariance matrix of the errors is correctly specified.\n",
       "\"\"\""
      ]
     },
     "execution_count": 37,
     "metadata": {},
     "output_type": "execute_result"
    }
   ],
   "source": [
    "# Second stage\n",
    "df['predicted_Exprop'] = results_fs.predict()\n",
    "results_ss = sm.OLS.from_formula('GDP ~ predicted_Exprop', df).fit()\n",
    "\n",
    "# Print\n",
    "results_ss.summary()"
   ]
  },
  {
   "cell_type": "markdown",
   "metadata": {},
   "source": [
    "Os resultados da regressão do segundo estágio nos fornecem uma estimativa imparcial e consistente do efeito das instituições nos resultados econômicos.\n",
    "\n",
    "O resultado sugere uma relação positiva mais forte do que os resultados do OLS indicaram.\n",
    "\n",
    "Observe que, embora nossas estimativas de parâmetros estejam corretas, nossos erros padrão não estão e, por esse motivo, não é recomendado calcular 2SLS 'manualmente' (em etapas com OLS).\n",
    "\n",
    "Podemos estimar corretamente uma regressão 2SLS em uma etapa usando o pacote `linearmodels` , uma extensão do `statsmodels`\n",
    "\n",
    "Observe que ao usar IV2SLS, as variáveis ​​exógenas e de instrumento são divididas nos argumentos da função (enquanto antes o instrumento incluía variáveis ​​exógenas)"
   ]
  },
  {
   "cell_type": "code",
   "execution_count": 38,
   "metadata": {},
   "outputs": [
    {
     "data": {
      "text/html": [
       "<table class=\"simpletable\">\n",
       "<caption>IV-2SLS Estimation Summary</caption>\n",
       "<tr>\n",
       "  <th>Dep. Variable:</th>           <td>GDP</td>       <th>  R-squared:         </th> <td>0.2205</td> \n",
       "</tr>\n",
       "<tr>\n",
       "  <th>Estimator:</th>             <td>IV-2SLS</td>     <th>  Adj. R-squared:    </th> <td>0.2079</td> \n",
       "</tr>\n",
       "<tr>\n",
       "  <th>No. Observations:</th>        <td>64</td>        <th>  F-statistic:       </th> <td>29.811</td> \n",
       "</tr>\n",
       "<tr>\n",
       "  <th>Date:</th>             <td>seg, mai 05 2025</td> <th>  P-value (F-stat)   </th> <td>0.0000</td> \n",
       "</tr>\n",
       "<tr>\n",
       "  <th>Time:</th>                 <td>17:54:09</td>     <th>  Distribution:      </th> <td>chi2(1)</td>\n",
       "</tr>\n",
       "<tr>\n",
       "  <th>Cov. Estimator:</th>        <td>robust</td>      <th>                     </th>    <td></td>    \n",
       "</tr>\n",
       "<tr>\n",
       "  <th></th>                          <td></td>         <th>                     </th>    <td></td>    \n",
       "</tr>\n",
       "</table>\n",
       "<table class=\"simpletable\">\n",
       "<caption>Parameter Estimates</caption>\n",
       "<tr>\n",
       "     <td></td>    <th>Parameter</th> <th>Std. Err.</th> <th>T-stat</th> <th>P-value</th> <th>Lower CI</th> <th>Upper CI</th>\n",
       "</tr>\n",
       "<tr>\n",
       "  <th>const</th>   <td>2.0448</td>    <td>1.1273</td>   <td>1.8139</td> <td>0.0697</td>   <td>-0.1647</td>  <td>4.2542</td> \n",
       "</tr>\n",
       "<tr>\n",
       "  <th>Exprop</th>  <td>0.9235</td>    <td>0.1691</td>   <td>5.4599</td> <td>0.0000</td>   <td>0.5920</td>   <td>1.2550</td> \n",
       "</tr>\n",
       "</table><br/><br/>Endogenous: Exprop<br/>Instruments: logMort<br/>Robust Covariance (Heteroskedastic)<br/>Debiased: False"
      ],
      "text/plain": [
       "<class 'linearmodels.compat.statsmodels.Summary'>\n",
       "\"\"\"\n",
       "                          IV-2SLS Estimation Summary                          \n",
       "==============================================================================\n",
       "Dep. Variable:                    GDP   R-squared:                      0.2205\n",
       "Estimator:                    IV-2SLS   Adj. R-squared:                 0.2079\n",
       "No. Observations:                  64   F-statistic:                    29.811\n",
       "Date:                seg, mai 05 2025   P-value (F-stat)                0.0000\n",
       "Time:                        17:54:09   Distribution:                  chi2(1)\n",
       "Cov. Estimator:                robust                                         \n",
       "                                                                              \n",
       "                             Parameter Estimates                              \n",
       "==============================================================================\n",
       "            Parameter  Std. Err.     T-stat    P-value    Lower CI    Upper CI\n",
       "------------------------------------------------------------------------------\n",
       "const          2.0448     1.1273     1.8139     0.0697     -0.1647      4.2542\n",
       "Exprop         0.9235     0.1691     5.4599     0.0000      0.5920      1.2550\n",
       "==============================================================================\n",
       "\n",
       "Endogenous: Exprop\n",
       "Instruments: logMort\n",
       "Robust Covariance (Heteroskedastic)\n",
       "Debiased: False\n",
       "\"\"\""
      ]
     },
     "execution_count": 38,
     "metadata": {},
     "output_type": "execute_result"
    }
   ],
   "source": [
    "# IV regression\n",
    "iv = IV2SLS(dependent=df['GDP'],\n",
    "            exog=df['const'],\n",
    "            endog=df['Exprop'],\n",
    "            instruments=df['logMort']).fit()\n",
    "\n",
    "# Print\n",
    "iv.summary"
   ]
  },
  {
   "cell_type": "markdown",
   "metadata": {},
   "source": [
    "Dado que agora temos estimativas consistentes e imparciais, podemos inferir do modelo que estimamos que as diferenças institucionais (decorrentes de instituições criadas durante a colonização) podem ajudar a explicar as diferenças nos níveis de renda entre os países atualmente.\n",
    "\n",
    "[AJR01] usa um efeito marginal de 0,94 para calcular que a diferença no índice entre Chile e Nigéria (ou seja, qualidade institucional) implica uma diferença de até 7 vezes na renda, enfatizando a importância das instituições no desenvolvimento econômico."
   ]
  },
  {
   "cell_type": "markdown",
   "metadata": {},
   "source": [
    "### 7. Álgebra Matricial\n",
    "\n"
   ]
  },
  {
   "cell_type": "markdown",
   "metadata": {},
   "source": [
    "O parâmetro $\\beta$ OLS também pode ser estimado usando álgebra matricial e `numpy`.\n",
    "\n",
    "A equação linear que queremos estimar é (escrita em forma de matriz)\n",
    "\n",
    "$$ y = X \\beta + u $$\n"
   ]
  },
  {
   "cell_type": "code",
   "execution_count": 39,
   "metadata": {},
   "outputs": [],
   "source": [
    "# Init \n",
    "X = df[['const', 'Exprop']].values\n",
    "Z = df[['const', 'logMort']].values\n",
    "y = df['GDP'].values"
   ]
  },
  {
   "cell_type": "markdown",
   "metadata": {},
   "source": [
    "Para resolver o parâmetro desconhecido $\\beta$, queremos minimizar a soma dos resíduos quadrados\n",
    "\n",
    "$$ \\hat{\\beta} = \\underset{\\beta}{\\text{argmin}} \\sum_{i=1}^{n} \\hat{\\epsilon}`\\hat{\\epsilon}$$\n",
    "\n",
    "\n",
    "Reorganizando a primeira equação e substituindo na segunda equação, podemos escrever $\\beta$ \n",
    "\n",
    "$$ \\hat{\\beta} = \\underset{\\beta}{\\text{argmin}} \\sum_{i=1}^{n} (y - X\\beta)^{´}(y - X\\beta) $$\n",
    "\n",
    "A resolução deste problema de otimização fornece a solução para o $\\beta$ OLS como:\n",
    "\n",
    "$$ \\hat{\\beta} = (X^{´}X)^{-1}X^{´}y $$\n",
    "\n"
   ]
  },
  {
   "cell_type": "code",
   "execution_count": 40,
   "metadata": {},
   "outputs": [
    {
     "name": "stdout",
     "output_type": "stream",
     "text": [
      "[4.66087966 0.52203367]\n"
     ]
    }
   ],
   "source": [
    "# Compute beta OLS\n",
    "beta_OLS = inv(X.T @ X) @ X.T @ y\n",
    "\n",
    "print(beta_OLS)"
   ]
  },
  {
   "cell_type": "markdown",
   "metadata": {},
   "source": [
    "Como vimos acima, o coeficiente MQO pode sofrer de viés de endogeneidade. Podemos resolver o problema instrumentando a taxa média de expropriação prevista com a mortalidade média dos colonos.\n",
    "\n",
    "Se definirmos a mortalidade dos colonos como\n",
    ", nosso modelo completo é"
   ]
  },
  {
   "cell_type": "code",
   "execution_count": 41,
   "metadata": {},
   "outputs": [
    {
     "name": "stdout",
     "output_type": "stream",
     "text": [
      "[2.0447613  0.92351936]\n"
     ]
    }
   ],
   "source": [
    "# Compute beta IV\n",
    "beta_IV = inv(Z.T @ X) @ Z.T @ y\n",
    "\n",
    "print(beta_IV)"
   ]
  },
  {
   "cell_type": "code",
   "execution_count": 31,
   "metadata": {},
   "outputs": [
    {
     "name": "stdout",
     "output_type": "stream",
     "text": [
      "-0.613289272386867\n"
     ]
    }
   ],
   "source": [
    "# Estimate first stage coefficient\n",
    "gamma_hat = (inv(Z.T @ Z) @ Z.T @ X)\n",
    "\n",
    "print(gamma_hat[1,1])"
   ]
  },
  {
   "cell_type": "code",
   "execution_count": 32,
   "metadata": {},
   "outputs": [
    {
     "name": "stdout",
     "output_type": "stream",
     "text": [
      "0.08834733362858559\n"
     ]
    }
   ],
   "source": [
    "# Compute variance of the estimator\n",
    "u = X - Z @ gamma_hat\n",
    "var_gamma_hat = np.var(u) * inv(Z.T @ Z)\n",
    "\n",
    "# Compute standard errors\n",
    "std_gamma_hat = var_gamma_hat[1,1]**.5\n",
    "print(std_gamma_hat)"
   ]
  },
  {
   "cell_type": "code",
   "execution_count": 33,
   "metadata": {},
   "outputs": [
    {
     "name": "stdout",
     "output_type": "stream",
     "text": [
      "[-0.7864500462988948, -0.44012849847483926]\n"
     ]
    }
   ],
   "source": [
    "# Compute 95% confidence interval\n",
    "CI = [gamma_hat[1,1] - 1.96*std_gamma_hat, gamma_hat[1,1] + 1.96*std_gamma_hat]\n",
    "\n",
    "print(CI)"
   ]
  },
  {
   "cell_type": "code",
   "execution_count": 34,
   "metadata": {},
   "outputs": [],
   "source": [
    "df['logMort_2'] = df['logMort']**2"
   ]
  },
  {
   "cell_type": "code",
   "execution_count": 35,
   "metadata": {},
   "outputs": [
    {
     "name": "stdout",
     "output_type": "stream",
     "text": [
      "[3.08817432 0.76339075]\n"
     ]
    }
   ],
   "source": [
    "# Define Z\n",
    "Z1 = df[['const', 'logMort', 'logMort_2']].values\n",
    "\n",
    "# Compute beta 2SLS in two steps\n",
    "X_hat = Z1 @ inv(Z1.T @ Z1) @ Z1.T @ X\n",
    "beta_2SLS = inv(X_hat.T @ X_hat) @ X_hat.T @ y\n",
    "\n",
    "print(beta_2SLS)"
   ]
  },
  {
   "cell_type": "code",
   "execution_count": 36,
   "metadata": {},
   "outputs": [
    {
     "name": "stdout",
     "output_type": "stream",
     "text": [
      "[3.08817432 0.76339075]\n"
     ]
    }
   ],
   "source": [
    "# Compute beta 2SLS in one step\n",
    "beta_2SLS = inv(X_hat.T @ Z1 @ inv(Z1.T @ Z1) @ Z1.T @ X_hat) @ X_hat.T @ Z1 @ inv(Z1.T @ Z1) @ Z1.T @ y\n",
    "    \n",
    "print(beta_2SLS)"
   ]
  },
  {
   "cell_type": "markdown",
   "metadata": {},
   "source": []
  },
  {
   "cell_type": "markdown",
   "metadata": {},
   "source": []
  },
  {
   "cell_type": "markdown",
   "metadata": {},
   "source": []
  },
  {
   "cell_type": "markdown",
   "metadata": {},
   "source": [
    "# Introdução à Inteligência Artificial e Redes Neurais Artificiais (Deep Learning)\n",
    "\n",
    "\n",
    "\n",
    "\n",
    "## O que é Inteligência Artificial?\n",
    "\n",
    "Relembrando a estrutura geral\n",
    "\n",
    "\n",
    "Vejamos as possíves subáreas da AI:\n",
    "\n",
    "<div style=\"text-align:center;\">\n",
    "    <img src=\"images\\IA_ML_DL.png\"  alt=\"Imagem\" style=\"width: 450px;\"/>\n",
    "</div>\n",
    "\n",
    "Assim, temos que:\n",
    "* AI: Campo amplo da ciência da computação que busca criar sistemas capazes de simular comportamentos humanos inteligentes.\n",
    "* ML: Subárea da AI que se concentra no desenvolvimento de algoritmos e modelos que permitem que os computadores aprendam a partir de dados.\n",
    "* DL: Subárea do ML que se concentra no desenvolvimento de redes neurais profundas para tarefas de aprendizado de máquina.\n",
    "\n",
    "\n",
    "A Inteligência Artificial (IA) é o campo da ciência da computação que se dedica a criar sistemas capazes de executar tarefas que normalmente requerem inteligência humana. Essas tarefas incluem:\n",
    "\n",
    "- Reconhecimento de padrões em imagens, áudios e vídeos.\n",
    "- Predição de eventos futuros com base em dados históricos.\n",
    "- Processamento de linguagem natural para interagir com humanos de forma mais intuitiva.\n",
    "- Otimização de sistemas complexos e tomada de decisão automatizada.\n",
    "\n",
    "A IA depende fortemente de matemática, estatística e computação para extrair informações útis dos dados e transformar essas informações em ações automatizadas. Entre suas principais subáreas, destacam-se:\n",
    "\n",
    "1. Aprendizado de Máquina (Machine Learning).\n",
    "2. Aprendizado Profundo (Deep Learning).\n",
    "3. Visão Computacional.\n",
    "4. Processamento de Linguagem Natural.\n",
    "5. Robótica e Sistemas Autônomos.\n",
    "\n",
    "---\n",
    "\n",
    "## Redes Neurais Artificiais: A Inspiração Biológica\n",
    "As redes neurais artificiais (RNAs) são modelos computacionais inspirados no funcionamento do cérebro humano. Elas são compostas por \"neurônios artificiais\", que são abstrações matemáticas baseadas nos neurônios biológicos. A estrutura básica de uma RNA é baseada em:\n",
    "\n",
    "1. **Dendritos**: recebem informações (entradas).\n",
    "2. **Núcleo Somático**: integra as informações recebidas e produz uma síntese.\n",
    "3. **Axônios**: transmitem a saída para outros neurônios.\n",
    "\n",
    "\n",
    "\n",
    "<div style=\"text-align:center;\">\n",
    "    <img src=\"images\\neuronio_biologico.png\"  alt=\"Imagem\" style=\"width: 450px;\"/>\n",
    "</div>\n",
    "\n",
    "\n",
    "\n",
    "### Funcionamento do Neurônio Biológico\n",
    "\n",
    "O neurônio biológico processa informações através de sinais elétricos e químicos. Dendritos recebem sinais de outros neurônios, que são somados no núcleo somático. Se o sinal agregado ultrapassar um determinado limiar, um novo sinal é gerado e transmitido pelo axônio aos próximos neurônios. Este funcionamento pode ser modelado matematicamente para criar algoritmos de aprendizado.\n",
    "\n",
    "### Analogias no Neurônio Artificial\n",
    "\n",
    "O neurônio artificial replica esse processo de forma matemática:\n",
    "\n",
    "- **Entradas (inputs)**: Representam os dendritos, recebendo dados de entrada.\n",
    "- **Função Somatória**: Soma ponderada das entradas, representando o núcleo somático.\n",
    "- **Função de Ativação**: Determina a saída do neurônio, simulando a transmissão pelo axônio.\n",
    "\n",
    "Abaixo, uma tabela comparativa:\n",
    "\n",
    "| **Neurônio Biológico** | **Neurônio Artificial** |\n",
    "|--------------------------|---------------------------|\n",
    "| Dendritos                | Entradas (Vetores ou Matrizes) |\n",
    "| Núcleo Somático          | Função Somatória         |\n",
    "| Axônio                   | Saídas (Ativadas por Função) |\n",
    "\n",
    "---\n",
    "\n",
    "# Fundamentos Matemáticos das Redes Neurais Artificiais\n",
    "\n",
    "As redes neurais dependem de conceitos matemáticos fundamentais para processar informações e aprender padrões complexos. Esses conceitos incluem vetores, matrizes e tensores, que formam a base do cálculo em IA.\n",
    "\n",
    "## Vetores\n",
    "\n",
    "Um vetor é uma representação unidimensional de dados. Em IA, eles podem representar entradas, pesos ou saídas de um modelo.\n",
    "\n",
    "### Representação Matemática\n",
    "Um vetor $ \\mathbf{x} $ com $ n $ elementos pode ser escrito como:\n",
    "$$\n",
    "\\mathbf{x} = \\begin{bmatrix} x_1 \\\\ x_2 \\\\ \\vdots \\\\ x_n \\end{bmatrix}\n",
    "$$\n",
    "\n",
    "#### Operações Fundamentais\n",
    "1. **Produto Escalar**:\n",
    "   $$\n",
    "   \\mathbf{a}^T \\mathbf{b} = \\sum_{i=1}^n a_i b_i\n",
    "   $$\n",
    "\n",
    "2. **Norma do Vetor** (magnitude):\n",
    "   $$\n",
    "   \\|\\mathbf{x}\\| = \\sqrt{\\sum_{i=1}^n x_i^2}\n",
    "   $$\n",
    "\n",
    "\n",
    "<div style=\"text-align:center;\">\n",
    "    <img src=\"images\\neuronio_artificial.png\"  alt=\"Imagem\" style=\"width: 450px;\"/>\n",
    "</div>\n",
    "\n",
    "\n",
    "### Exemplos Práticos\n",
    "1. Representar pixels de uma imagem em escala de cinza como um vetor.\n",
    "2. Representar variáveis de entrada em um modelo preditivo.\n",
    "\n",
    "## Matrizes\n",
    "\n",
    "As matrizes permitem trabalhar com dados bidimensionais, como coleções de vetores.\n",
    "\n",
    "### Representação Matemática\n",
    "Uma matriz $ \\mathbf{X} $ com $ m $ linhas e $ n $ colunas pode ser representada como:\n",
    "$$\n",
    "\\mathbf{X} = \\begin{bmatrix} x_{11} & x_{12} & \\dots & x_{1n} \\\\ x_{21} & x_{22} & \\dots & x_{2n} \\\\ \\vdots & \\vdots & \\ddots & \\vdots \\\\ x_{m1} & x_{m2} & \\dots & x_{mn} \\end{bmatrix}\n",
    "$$\n",
    "\n",
    "#### Operações Fundamentais\n",
    "1. **Multiplicação Matricial**:\n",
    "   $$\n",
    "   \\mathbf{C} = \\mathbf{A} \\cdot \\mathbf{B}\n",
    "   $$\n",
    "\n",
    "2. **Transposição**:\n",
    "   $$\n",
    "   \\mathbf{A}^T = \\begin{bmatrix} a_{11} & a_{21} \\\\ a_{12} & a_{22} \\end{bmatrix}\n",
    "   $$\n",
    "\n",
    "### Exemplos Práticos\n",
    "1. Representar uma coleção de imagens como uma matriz onde cada linha é uma imagem vetorizada.\n",
    "2. Representar pesos conectando camadas em redes neurais.\n",
    "\n",
    "## Tensores\n",
    "\n",
    "Os tensores generalizam vetores e matrizes para dimensões superiores, sendo essenciais para modelar dados complexos em IA.\n",
    "\n",
    "### Representação Matemática\n",
    "Um tensor de ordem 3 pode ser representado como um conjunto de matrizes:\n",
    "$$\n",
    "\\mathcal{T} = \\begin{bmatrix} \\mathbf{A}_1 \\\\ \\mathbf{A}_2 \\\\ \\vdots \\\\ \\mathbf{A}_k \\end{bmatrix}\n",
    "$$\n",
    "\n",
    "### Exemplos Práticos\n",
    "1. Imagens RGB são representadas como tensores de ordem 3: Altura, Largura e Canais de Cor.\n",
    "2. Representação de sequências temporais multimodais.\n",
    "\n",
    "---\n",
    "\n",
    "# O Processamento de Informações em Redes Neurais\n",
    "\n",
    "## Fluxo de Informação\n",
    "\n",
    "1. **Multiplicação Entrada-Peso**:\n",
    "   $$\n",
    "   \\mathbf{z} = \\mathbf{W}^T \\mathbf{x}\n",
    "   $$\n",
    "\n",
    "2. **Soma (Função Somatória)**:\n",
    "   $$\n",
    "   z = \\sum_{i=1}^n w_i x_i + b\n",
    "   $$\n",
    "\n",
    "3. **Função de Ativação**:\n",
    "   $$\n",
    "   f(z) = \\frac{1}{1 + e^{-z}}\n",
    "   $$\n",
    "\n",
    "4. **Saída**:\n",
    "   Os valores calculados são propagados para a próxima camada.\n",
    "\n",
    "## Backpropagation e Aprendizado\n",
    "\n",
    "O processo de aprendizado ajusta os pesos para minimizar o erro. Este ajuste é feito através de:\n",
    "\n",
    "1. **Função de Custo**:\n",
    "   $$\n",
    "   J(\\mathbf{W}) = \\frac{1}{m} \\sum_{i=1}^m (\\hat{y}_i - y_i)^2\n",
    "   $$\n",
    "\n",
    "2. **Descida de Gradiente**:\n",
    "   $$\n",
    "   \\mathbf{W} = \\mathbf{W} - \\eta \\nabla J(\\mathbf{W})\n",
    "   $$\n",
    "\n",
    "---\n",
    "\n",
    "# Interseção entre IA e Matemática Avançada\n",
    "\n",
    "## Álgebra Linear na Inteligência Artificial\n",
    "\n",
    "A IA utiliza intensamente conceitos de álgebra linear, como:\n",
    "- Multiplicações matriciais para modelar relações complexas.\n",
    "- Decomposição de tensores para otimizar representações de dados.\n",
    "\n",
    "## Modelos de Altíssima Dimensão\n",
    "\n",
    "Em modelos modernos, tensores podem ter milhares ou até milhões de dimensões, representando dados de alta complexidade. Exemplos:\n",
    "\n",
    "- **Redes Convolucionais (CNNs)**: Representam imagens como tensores 4D.\n",
    "- **Transformers**: Utilizam tensores para processar linguagens naturais.\n",
    "\n",
    "---\n",
    "\n",
    "# Conclusão e Reflexões\n",
    "\n",
    "A combinação de inspiração biológica e matemática avançada torna a IA uma ferramenta poderosa para resolver problemas reais. No entanto, é essencial compreender seus fundamentos para avançar no campo.\n",
    "\n",
    "## Recomendações de Estudos Adicionais\n",
    "\n",
    "1. **Matemática Avançada**:\n",
    "   - Álgebra Linear.\n",
    "   - Otimização Convexa.\n",
    "\n",
    "2. **Implementação Prática**:\n",
    "   - Estudo de frameworks como TensorFlow e PyTorch.\n",
    "   - Análise de casos práticos em Python.\n",
    "\n",
    "3. **Referências Clássicas**:\n",
    "   - \"Deep Learning\" por Ian Goodfellow et al.\n",
    "   - \"Hands-On Machine Learning\" por Aurélien Géron.\n"
   ]
  }
 ],
 "metadata": {
  "kernelspec": {
   "display_name": "Python 3",
   "language": "python",
   "name": "python3"
  },
  "language_info": {
   "codemirror_mode": {
    "name": "ipython",
    "version": 3
   },
   "file_extension": ".py",
   "mimetype": "text/x-python",
   "name": "python",
   "nbconvert_exporter": "python",
   "pygments_lexer": "ipython3",
   "version": "3.11.5"
  }
 },
 "nbformat": 4,
 "nbformat_minor": 2
}
