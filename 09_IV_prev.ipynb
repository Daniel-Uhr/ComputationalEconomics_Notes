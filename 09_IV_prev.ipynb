{
 "cells": [
  {
   "cell_type": "markdown",
   "metadata": {},
   "source": [
    "# Instrumental Variables\n",
    "\n",
    "Prof. Daniel de Abreu Pereira Uhr\n",
    "\n",
    "### Conteúdo\n",
    "\n",
    "1. Introdução ao Método de Variáveis Instrumentais\n",
    "2. Regressão Linear Simples\n",
    "3. Ampliando o Modelo de Regressão Linear\n",
    "4. Endogeneidade\n",
    "5. Primeio Estágio\n",
    "6. Segundo Estágio\n",
    "7. Álgebra Matricial\n",
    "8. Outros Métodos Relacionados\n",
    "9. Considerações Finais\n",
    "\n",
    "\n",
    "\n",
    "### Referências\n",
    "\n",
    "* Acemoglu, Daron, Simon Johnson, and James A. Robinson. 2001. *\"The Colonial Origins of Comparative Development: An Empirical Investigation.\"* American Economic Review 91 (5): 1369–1401. DOI: 10.1257/aer.91.5.1369 (https://www.aeaweb.org/articles?id=10.1257/aer.91.5.1369)\n",
    "*\n",
    "*\n"
   ]
  },
  {
   "cell_type": "markdown",
   "metadata": {},
   "source": [
    "### 1. Introdução ao Método de Variáveis Instrumentais\n",
    "\n",
    "Vamos reforçar alguns conceitos importantes vistos nas últimas aulas.\n",
    "\n",
    "**Endogeneidade** ocorre em modelos de regressão quando pelo menos uma variável explicativa está correlacionada com o termo de erro. Isso viola a suposição de exogeneidade e leva a estimadores viesados e inconsistentes. Existem várias causas para a endogeneidade, incluindo:\n",
    "\n",
    "* ***Omitted variable bias*** (OVB): é um conceito geral (problema de modelagem), que se aplica a qualquer *modelo estatístico mal especificado* (sintoma estatístico).\n",
    "* ***Confounding variables***: é um conceito específico da *inferência causal* (estrutural e causal), que trata da validade do efeito estimado (diagnóstico causal). Ou seja, está ligado à distribuição não aleatória do tratamento.\n",
    "    * ***Toda confounding variable não controlada gera um Omitted Variable Bias (OVB), mas nem toda variável omitida (causadora de OVB) é uma confounding variable.***\n",
    "\n",
    "* ***Selection bias***: é *estrutural*, ligado à forma como a amostra é observada ou construída. \n",
    "  * ***Selection bias (amostral)***: desbalanceamento na construção da amostra;\n",
    "  * ***Selection bias (*collider*)***: adicionar variável colisora.\n",
    "\n",
    "* **Outras**:\n",
    "  * ***Viés de Simultaneidade***: ocorre quando uma ou mais variáveis independentes são determinadas simultaneamente com a variável dependente — ou seja, há causalidade bidirecional entre elas. Isso gera uma violação da exogeneidade, pois essas variáveis tornam-se correlacionadas com o erro do modelo, resultando em estimativas viesadas e inconsistentes.\n",
    "  * ***Erro de Medida***: ocorre quando uma variável explicativa não é observada com precisão, sendo substituída por uma medida com erro (aleatório ou sistemático). Esse problema também pode induzir endogeneidade, pois o erro de medida introduz correlação entre a variável observada e o erro do modelo, levando a estimativas viesadas e inconsistentes dos parâmetros.\n",
    "\n",
    "\n",
    "\n",
    "Através das ***DAGs (Directed Acyclic Graphs)***, podemos mapear as relações entre as variáveis, identificar potenciais fontes de endogeneidade, e propor estratégias de estimação. Em resumo, vimos que:\n",
    "\n",
    "\n",
    "<div style=\"text-align:center;\">\n",
    "    <img src=\"images\\DAG38.png\"  alt=\"Imagem\" style=\"width: 500px;\"/>\n",
    "</div>\n",
    "\n",
    "\n",
    "Na figura temos duas fontes de endogeneidade derivadas do *Confounding Bias*:\n",
    "\n",
    "* **Seleção em Observáveis (Selection on Observables)**: A seleção em observáveis refere-se à situação em que a seleção das unidades para um tratamento ($D$) é influenciada por variáveis observáveis ($Z$). Em outras palavras, as características ou atributos conhecidos das unidades afetam a probabilidade de serem selecionadas para receber o tratamento. Nesse cenário, ***é possível controlar o viés resultante ao levar em consideração e ajustar as diferenças nas características observáveis entre os grupos de tratamento e controle***. Em outras palavras, os componentes observáveis influenciam a seleção para o tratamento (auto-seleção) e o resultado ($Y$).\n",
    "\n",
    "* **Seleção em Não-Observáveis (Selection on Unobservables):** A seleção em não-observáveis ocorre quando a seleção das unidades para o tratamento é influenciada por variáveis não observadas que não estão disponíveis para o pesquisador. Essas variáveis não observadas podem estar correlacionadas tanto com a seleção para o tratamento quanto com o resultado, levando a um viés não observável. Em outras palavras, algum(s) componente(s) do termo não observado ($U$) influencia tanto a seleção para o tratamento (auto-seleção) quanto o resultado ($Y$). Nesse cenário, não é possível controlar o viés resultante, mesmo que todas as variáveis observáveis sejam levadas em consideração e ajustadas.\n",
    "\n",
    "Essas duas fontes de endogeneidade geram a quebra da hipótese de **ignorabilidade** (ou **independência condicional**), que é uma suposição fundamental para a validade de inferências causais em modelos de regressão. A ignorabilidade implica que, dado um conjunto de variáveis observáveis, a seleção para o tratamento é independente do resultado potencial. Quando essa suposição não é atendida, as estimativas dos efeitos do tratamento podem ser enviesadas e não confiáveis.\n",
    "\n",
    "$$ Y_i(0), Y_i(1) \\perp D_i | X_i $$\n",
    "\n",
    "Assim, conseguimos identificar o efeito causal com modelos que controlam a seleção em observáveis, como regressão linear com covariáveis, *propensity score matching* (PSM) e *inverse probability weighting* (IPW). Esses métodos ajustam as diferenças nas características observáveis entre os grupos de tratamento e controle, permitindo estimar o efeito causal do tratamento.\n",
    "\n",
    "Relembrando outro exemplo:\n",
    "\n",
    "<div style=\"text-align:center;\">\n",
    "    <img src=\"images\\DAG1.png\"  alt=\"Imagem\" style=\"width: 500px;\"/>\n",
    "</div>\n",
    "\n",
    "\n",
    "Aqui, vimos que além de controlar a possível seleção em observáveis fechando o caminho de porta dos fundos (\"backdoor path\"), também podemos controlar a seleção em não observáveis, ao utilizar variáveis instrumentais. \n",
    "\n",
    "No exemplo da segunda imagem, a variável $C$ é um bom candidato a variável instrumental, pois ela afeta a variável de tratamento $D$ e não afeta diretamente o resultado $Y$. Assim, podemos usar $C$ como um instrumento para estimar o efeito causal do tratamento $D$ sobre o resultado $Y$. $C$ apresenta duas características importantes:\n",
    "\n",
    "* $C$ é correlacionada com $D$ (força/relevância do instrumento);\n",
    "* $C$ não é correlacionada com o erro do modelo (exogeneidade do instrumento/Validade).\n",
    "\n",
    "\n",
    "A conclusão de Judea Pearl, considerando os pressupostos das DAGs, é que para identificar o efeito causal de $D$ sobre $Y$, podemos utilizar (i) um sistema de equações simultâneas, (ii) controle de covariáveis, ou (iii) variáveis instrumentais.\n",
    "\n",
    "Vamos relembrar como aplicar os métodos de *Instrumental Variables - IV* e de *Two Stage Least Squares - 2SLS* com dados de um artigo clássico de Acemoglu, Johnson e Robinson (2001). Eles receberam o Prêmio Nobel de Economia em 2021 por suas contribuições à economia política e ao estudo das instituições. O artigo é um marco na literatura sobre o impacto das instituições no desenvolvimento econômico e é amplamente citado em estudos de economia do desenvolvimento.\n"
   ]
  },
  {
   "cell_type": "markdown",
   "metadata": {},
   "source": [
    "### 2. Regressão Linear Simples\n",
    "\n"
   ]
  },
  {
   "cell_type": "markdown",
   "metadata": {},
   "source": [
    "O artigo ***\"The Colonial Origins of Comparative Development: An Empirical Investigation\"*** de Daron Acemoglu, Simon Johnson e James A. Robinson (2001) tem como principal objetivo investigar empiricamente a influência das instituições na explicação das diferenças de desenvolvimento econômico entre países. A grande contribuição do artigo é usar a mortalidade de colonizadores europeus como um instrumento para identificar o efeito causal das instituições sobre a renda per capita atual.\n",
    "\n",
    "* Acemoglu, Daron, Simon Johnson, and James A. Robinson. 2001. *\"The Colonial Origins of Comparative Development: An Empirical Investigation.\"* American Economic Review 91 (5): 1369–1401. DOI: 10.1257/aer.91.5.1369 (https://www.aeaweb.org/articles?id=10.1257/aer.91.5.1369)\n",
    "\n",
    "<div style=\"text-align:center;\">\n",
    "    <img src=\"images\\AJR2002_AER.png\"  alt=\"Imagem\" style=\"width: 650px;\"/>\n",
    "</div>\n",
    "\n",
    "\n",
    "<div style=\"text-align:center;\">\n",
    "    <img src=\"images\\AJR2002.png\"  alt=\"Imagem\" style=\"width: 650px;\"/>\n",
    "</div>\n",
    "\n",
    "\n",
    "A tese dos autores é que:\n",
    "\n",
    "* Durante o período colonial, os europeus adotaram diferentes estratégias de colonização dependendo das condições locais.\n",
    "\n",
    "* Em locais onde a mortalidade dos colonizadores europeus era alta (por exemplo, devido a doenças tropicais como malária e febre amarela), eles não se estabeleceram de forma permanente e criaram instituições extrativas — ou seja, voltadas à exploração econômica sem preocupação com direitos de propriedade, democracia ou incentivos ao investimento local.\n",
    "\n",
    "* Já em locais com baixa mortalidade europeia, os colonizadores se estabeleceram com suas famílias e construíram instituições mais inclusivas, como sistemas legais confiáveis e direitos de propriedade bem definidos.\n",
    "\n",
    "Essas instituições, segundo os autores, persistiram ao longo do tempo e têm efeitos duradouros sobre o desempenho econômico atual dos países.\n",
    "\n",
    "\n",
    "**Estrutura de Identificação**\n",
    "\n",
    "O modelo pode ser resumido por uma estratégia de variáveis instrumentais (IV), onde:\n",
    "\n",
    "- **Instituições atuais** são a variável endógena,\n",
    "  -  Índice de Proteção contra Expropriação de Investimentos (Protection Against Risk of Expropriation), varia de 0 a 10, onde valores mais altos indicam maior proteção contra expropriação por parte do governo (i.e., maior segurança dos direitos de propriedade).\n",
    "  -  Fonte: Political Risk Services – International Country Risk Guide (ICRG)\n",
    "  -  Período considerado: Média dos anos de 1985 a 1995.\n",
    "  -  Os autores argumentam que a proteção contra expropriação capta um “cluster de instituições” que são fundamentais para o desenvolvimento:\n",
    "     -  *“Our view is that there is a ‘cluster of institutions,’ including constraints on government expropriation, independent judiciary, property rights enforcement, and institutions providing equal access to education and ensuring civil liberties, that are important to encourage investment and growth.”*\n",
    "  - Ou seja, embora o índice seja focado na proteção contra expropriação, ele é considerado um bom proxy para a qualidade institucional mais ampla.\n",
    "- **Renda per capita atual** é a variável dependente,\n",
    "  - PIB per capita em paridade de poder de compra (PPP) no ano de 1995 (em dólares de 1995).\n",
    "  - PPP para refletir melhor o poder de compra real da população em cada país\n",
    "- **Mortalidade de colonizadores (settler mortality)** atua como instrumento exógeno.\n",
    "  - número de mortes por mil por ano entre europeus enviados para as colônias\n",
    "  - Essa medida é interpretada como exógena ao desenvolvimento atual, mas associada às estratégias coloniais adotadas: \n",
    "    - Mortalidade era alta: europeus não se estabeleciam com famílias, optando por criar instituições extrativistas, voltadas à exploração dos recursos com pouca preocupação com o bem-estar local. \n",
    "    - Mortalidade era baixa: eles colonizavam permanentemente, levando a instituições mais inclusivas e voltadas ao crescimento de longo prazo.\n",
    "\n",
    "\n",
    "***Modelagem em DAG***"
   ]
  },
  {
   "cell_type": "code",
   "execution_count": 8,
   "metadata": {},
   "outputs": [
    {
     "data": {
      "image/svg+xml": [
       "<?xml version=\"1.0\" encoding=\"UTF-8\" standalone=\"no\"?>\n",
       "<!DOCTYPE svg PUBLIC \"-//W3C//DTD SVG 1.1//EN\"\n",
       " \"http://www.w3.org/Graphics/SVG/1.1/DTD/svg11.dtd\">\n",
       "<!-- Generated by graphviz version 11.0.0 (20240428.1522)\n",
       " -->\n",
       "<!-- Pages: 1 -->\n",
       "<svg width=\"540pt\" height=\"188pt\"\n",
       " viewBox=\"0.00 0.00 539.82 188.00\" xmlns=\"http://www.w3.org/2000/svg\" xmlns:xlink=\"http://www.w3.org/1999/xlink\">\n",
       "<g id=\"graph0\" class=\"graph\" transform=\"scale(1 1) rotate(0) translate(4 184)\">\n",
       "<polygon fill=\"white\" stroke=\"none\" points=\"-4,4 -4,-184 535.82,-184 535.82,4 -4,4\"/>\n",
       "<!-- Instituições -->\n",
       "<g id=\"node1\" class=\"node\">\n",
       "<title>Instituições</title>\n",
       "<ellipse fill=\"none\" stroke=\"black\" cx=\"305.44\" cy=\"-90\" rx=\"53.06\" ry=\"18\"/>\n",
       "<text text-anchor=\"middle\" x=\"305.44\" y=\"-84.58\" font-family=\"Times New Roman,serif\" font-size=\"14.00\">Instituições</text>\n",
       "</g>\n",
       "<!-- Rendapc -->\n",
       "<g id=\"node2\" class=\"node\">\n",
       "<title>Rendapc</title>\n",
       "<ellipse fill=\"none\" stroke=\"black\" cx=\"345.44\" cy=\"-18\" rx=\"44.08\" ry=\"18\"/>\n",
       "<text text-anchor=\"middle\" x=\"345.44\" y=\"-12.57\" font-family=\"Times New Roman,serif\" font-size=\"14.00\">Rendapc</text>\n",
       "</g>\n",
       "<!-- Instituições&#45;&gt;Rendapc -->\n",
       "<g id=\"edge1\" class=\"edge\">\n",
       "<title>Instituições&#45;&gt;Rendapc</title>\n",
       "<path fill=\"none\" stroke=\"black\" d=\"M315.13,-72.05C319.65,-64.14 325.13,-54.54 330.19,-45.69\"/>\n",
       "<polygon fill=\"black\" stroke=\"black\" points=\"333.18,-47.52 335.1,-37.1 327.1,-44.05 333.18,-47.52\"/>\n",
       "</g>\n",
       "<!-- Fatores Históricos Não Observados -->\n",
       "<g id=\"node3\" class=\"node\">\n",
       "<title>Fatores Históricos Não Observados</title>\n",
       "<ellipse fill=\"none\" stroke=\"black\" cx=\"386.44\" cy=\"-162\" rx=\"145.37\" ry=\"18\"/>\n",
       "<text text-anchor=\"middle\" x=\"386.44\" y=\"-156.57\" font-family=\"Times New Roman,serif\" font-size=\"14.00\">Fatores Históricos Não Observados</text>\n",
       "</g>\n",
       "<!-- Fatores Históricos Não Observados&#45;&gt;Instituições -->\n",
       "<g id=\"edge2\" class=\"edge\">\n",
       "<title>Fatores Históricos Não Observados&#45;&gt;Instituições</title>\n",
       "<path fill=\"none\" stroke=\"black\" stroke-dasharray=\"5,2\" d=\"M366.42,-143.7C356.22,-134.88 343.66,-124.03 332.6,-114.47\"/>\n",
       "<polygon fill=\"black\" stroke=\"black\" points=\"335.12,-112.02 325.27,-108.13 330.55,-117.32 335.12,-112.02\"/>\n",
       "</g>\n",
       "<!-- Fatores Históricos Não Observados&#45;&gt;Rendapc -->\n",
       "<g id=\"edge3\" class=\"edge\">\n",
       "<title>Fatores Históricos Não Observados&#45;&gt;Rendapc</title>\n",
       "<path fill=\"none\" stroke=\"black\" stroke-dasharray=\"5,2\" d=\"M383.72,-143.7C380.64,-125.59 375.05,-96.44 367.44,-72 364.79,-63.5 361.31,-54.47 357.91,-46.33\"/>\n",
       "<polygon fill=\"black\" stroke=\"black\" points=\"361.17,-45.07 353.99,-37.28 354.75,-47.85 361.17,-45.07\"/>\n",
       "</g>\n",
       "<!-- Mortalidade Colonizadores -->\n",
       "<g id=\"node4\" class=\"node\">\n",
       "<title>Mortalidade Colonizadores</title>\n",
       "<ellipse fill=\"none\" stroke=\"black\" cx=\"111.44\" cy=\"-162\" rx=\"111.44\" ry=\"18\"/>\n",
       "<text text-anchor=\"middle\" x=\"111.44\" y=\"-156.57\" font-family=\"Times New Roman,serif\" font-size=\"14.00\">Mortalidade Colonizadores</text>\n",
       "</g>\n",
       "<!-- Mortalidade Colonizadores&#45;&gt;Instituições -->\n",
       "<g id=\"edge4\" class=\"edge\">\n",
       "<title>Mortalidade Colonizadores&#45;&gt;Instituições</title>\n",
       "<path fill=\"none\" stroke=\"black\" d=\"M155.46,-145.12C186.46,-133.93 227.88,-118.99 259.33,-107.64\"/>\n",
       "<polygon fill=\"black\" stroke=\"black\" points=\"260.37,-110.98 268.59,-104.3 257.99,-104.4 260.37,-110.98\"/>\n",
       "</g>\n",
       "</g>\n",
       "</svg>\n"
      ],
      "text/plain": [
       "<graphviz.graphs.Digraph at 0x1412d462010>"
      ]
     },
     "execution_count": 8,
     "metadata": {},
     "output_type": "execute_result"
    }
   ],
   "source": [
    "import graphviz as gr\n",
    "g = gr.Digraph()\n",
    "# Relação causal de interesse\n",
    "g.edge(\"Instituições\", \"Rendapc\")\n",
    "# Confounding não observável\n",
    "g.edge(\"Fatores Históricos Não Observados\", \"Instituições\", style=\"dashed\")\n",
    "g.edge(\"Fatores Históricos Não Observados\", \"Rendapc\", style=\"dashed\")\n",
    "# Instrumento\n",
    "g.edge(\"Mortalidade Colonizadores\", \"Instituições\")\n",
    "g"
   ]
  },
  {
   "cell_type": "markdown",
   "metadata": {},
   "source": [
    "Modelagem econométrica:\n",
    "\n",
    "Primeiro Estágio:\n",
    "$$\n",
    "\\text{Instituições}_i = \\alpha + \\gamma \\cdot \\text{Mortalidade}_i + u_i\n",
    "$$\n",
    "\n",
    "Segundo Estágio:\n",
    "$$\n",
    "\\text{Rendapc}_i = \\beta + \\delta \\cdot \\widehat{\\text{Instituições}}_i + \\varepsilon_i\n",
    "$$\n",
    "\n",
    "Essa abordagem visa lidar com **confounding por não-observáveis históricos** que possam afetar simultaneamente instituições e desenvolvimento econômico, como cultura, geografia ou legado colonial.\n",
    "\n"
   ]
  },
  {
   "cell_type": "markdown",
   "metadata": {},
   "source": [
    "Vamos aprofundar a análise tem termos econométricos em python.\n",
    "\n",
    "Primeiro, vamos carregar os dados e analisá-los."
   ]
  },
  {
   "cell_type": "markdown",
   "metadata": {},
   "source": [
    "***Pacotes***"
   ]
  },
  {
   "cell_type": "code",
   "execution_count": 9,
   "metadata": {},
   "outputs": [],
   "source": [
    "import warnings\n",
    "warnings.filterwarnings('ignore')\n",
    "\n",
    "import pandas as pd\n",
    "import numpy as np\n",
    "import seaborn as sns\n",
    "import statsmodels.api as sm\n",
    "\n",
    "from numpy.linalg import inv\n",
    "from statsmodels.iolib.summary2 import summary_col\n",
    "from linearmodels.iv import IV2SLS"
   ]
  },
  {
   "cell_type": "markdown",
   "metadata": {},
   "source": [
    "***Ajuste dos gráficos***"
   ]
  },
  {
   "cell_type": "code",
   "execution_count": 10,
   "metadata": {},
   "outputs": [],
   "source": [
    "import matplotlib.pyplot as plt\n",
    "from mpl_toolkits.mplot3d import axes3d\n",
    "\n",
    "%matplotlib inline\n",
    "plt.style.use('seaborn-v0_8-whitegrid') \n",
    "plt.rcParams['lines.linewidth'] = 3\n",
    "plt.rcParams['figure.figsize'] = (8,4)\n",
    "plt.rcParams['figure.titlesize'] = 18\n",
    "plt.rcParams['axes.titlesize'] = 16\n",
    "plt.rcParams['axes.labelsize'] = 12\n",
    "plt.rcParams['legend.fontsize'] = 12"
   ]
  },
  {
   "cell_type": "markdown",
   "metadata": {},
   "source": [
    "**Carregando os dados**"
   ]
  },
  {
   "cell_type": "code",
   "execution_count": 11,
   "metadata": {},
   "outputs": [
    {
     "data": {
      "application/vnd.microsoft.datawrangler.viewer.v0+json": {
       "columns": [
        {
         "name": "index",
         "rawType": "int64",
         "type": "integer"
        },
        {
         "name": "GDP",
         "rawType": "float64",
         "type": "float"
        },
        {
         "name": "Exprop",
         "rawType": "float64",
         "type": "float"
        },
        {
         "name": "Mort",
         "rawType": "float64",
         "type": "float"
        },
        {
         "name": "Latitude",
         "rawType": "float64",
         "type": "float"
        },
        {
         "name": "Neo",
         "rawType": "int64",
         "type": "integer"
        },
        {
         "name": "Africa",
         "rawType": "int64",
         "type": "integer"
        },
        {
         "name": "Asia",
         "rawType": "int64",
         "type": "integer"
        },
        {
         "name": "Namer",
         "rawType": "int64",
         "type": "integer"
        },
        {
         "name": "Samer",
         "rawType": "int64",
         "type": "integer"
        },
        {
         "name": "logMort",
         "rawType": "float64",
         "type": "float"
        },
        {
         "name": "Latitude2",
         "rawType": "float64",
         "type": "float"
        }
       ],
       "conversionMethod": "pd.DataFrame",
       "ref": "f70fff09-6012-4cfe-9ca5-7929e5741af6",
       "rows": [
        [
         "1",
         "8.39",
         "6.5",
         "78.2",
         "0.3111",
         "0",
         "1",
         "0",
         "0",
         "0",
         "4.35926964755127",
         "0.09678321"
        ],
        [
         "2",
         "7.77",
         "5.36",
         "280.0",
         "0.1367",
         "0",
         "1",
         "0",
         "0",
         "0",
         "5.63478960316925",
         "0.01868689"
        ],
        [
         "3",
         "9.13",
         "6.39",
         "68.9",
         "0.3778",
         "0",
         "0",
         "0",
         "0",
         "1",
         "4.23265617801961",
         "0.14273284"
        ],
        [
         "4",
         "9.9",
         "9.32",
         "8.55",
         "0.3",
         "1",
         "0",
         "0",
         "0",
         "0",
         "2.14593128294867",
         "0.09"
        ],
        [
         "5",
         "9.29",
         "7.5",
         "85.0",
         "0.2683",
         "0",
         "0",
         "0",
         "1",
         "0",
         "4.44265125649032",
         "0.07198489"
        ],
        [
         "6",
         "6.88",
         "5.14",
         "71.41",
         "0.2667",
         "0",
         "0",
         "1",
         "0",
         "0",
         "4.26843791556102",
         "0.07112889"
        ],
        [
         "7",
         "7.93",
         "5.64",
         "71.0",
         "0.1889",
         "0",
         "0",
         "0",
         "0",
         "1",
         "4.26267987704132",
         "0.03568321"
        ],
        [
         "8",
         "8.73",
         "7.91",
         "71.0",
         "0.1111",
         "0",
         "0",
         "0",
         "0",
         "1",
         "4.26267987704132",
         "0.01234321"
        ],
        [
         "9",
         "6.85",
         "4.45",
         "280.0",
         "0.1444",
         "0",
         "1",
         "0",
         "0",
         "0",
         "5.63478960316925",
         "0.02085136"
        ],
        [
         "10",
         "7.5",
         "6.45",
         "280.0",
         "0.6667",
         "0",
         "1",
         "0",
         "0",
         "0",
         "5.63478960316925",
         "0.44448889"
        ],
        [
         "11",
         "9.99",
         "9.73",
         "16.1",
         "0.6667",
         "1",
         "0",
         "0",
         "1",
         "0",
         "2.77881927199042",
         "0.44448889"
        ],
        [
         "12",
         "9.34",
         "7.82",
         "68.9",
         "0.3333",
         "0",
         "0",
         "0",
         "0",
         "1",
         "4.23265617801961",
         "0.11108889"
        ],
        [
         "13",
         "8.81",
         "7.32",
         "71.0",
         "0.0444",
         "0",
         "0",
         "0",
         "0",
         "1",
         "4.26267987704132",
         "0.00197136"
        ],
        [
         "14",
         "7.42",
         "4.68",
         "240.0",
         "0.0111",
         "0",
         "1",
         "0",
         "0",
         "0",
         "5.48063892334199",
         "0.00012321"
        ],
        [
         "15",
         "8.79",
         "7.05",
         "78.1",
         "0.1111",
         "0",
         "0",
         "0",
         "1",
         "0",
         "4.35799005684564",
         "0.01234321"
        ],
        [
         "16",
         "7.44",
         "7.0",
         "668.0",
         "0.0889",
         "0",
         "1",
         "0",
         "0",
         "0",
         "6.50428817353665",
         "0.00790321"
        ],
        [
         "17",
         "8.36",
         "6.18",
         "130.0",
         "0.2111",
         "0",
         "0",
         "0",
         "1",
         "0",
         "4.86753445045558",
         "0.04456321"
        ],
        [
         "18",
         "8.47",
         "6.55",
         "71.0",
         "0.0222",
         "0",
         "0",
         "0",
         "0",
         "1",
         "4.26267987704132",
         "0.00049284"
        ],
        [
         "19",
         "7.95",
         "6.77",
         "67.8",
         "0.3",
         "0",
         "1",
         "0",
         "0",
         "0",
         "4.21656219494635",
         "0.09"
        ],
        [
         "20",
         "7.95",
         "5.0",
         "78.1",
         "0.15",
         "0",
         "0",
         "0",
         "1",
         "0",
         "4.35799005684564",
         "0.0225"
        ],
        [
         "21",
         "6.11",
         "5.73",
         "26.0",
         "0.0889",
         "0",
         "1",
         "0",
         "0",
         "0",
         "3.25809653802148",
         "0.00790321"
        ],
        [
         "22",
         "8.9",
         "7.82",
         "280.0",
         "0.0111",
         "0",
         "1",
         "0",
         "0",
         "0",
         "5.63478960316925",
         "0.00012321"
        ],
        [
         "23",
         "7.27",
         "8.27",
         "1470.0",
         "0.1476",
         "0",
         "1",
         "0",
         "0",
         "0",
         "7.29301767977278",
         "0.02178576"
        ],
        [
         "24",
         "7.37",
         "6.27",
         "668.0",
         "0.0889",
         "0",
         "1",
         "0",
         "0",
         "0",
         "6.50428817353665",
         "0.00790321"
        ],
        [
         "25",
         "8.29",
         "5.14",
         "71.0",
         "0.17",
         "0",
         "0",
         "0",
         "1",
         "0",
         "4.26267987704132",
         "0.0289"
        ],
        [
         "26",
         "7.49",
         "6.55",
         "483.0",
         "0.1222",
         "0",
         "1",
         "0",
         "0",
         "0",
         "6.18001665365257",
         "0.01493284"
        ],
        [
         "27",
         "7.9",
         "5.89",
         "32.18",
         "0.0556",
         "0",
         "0",
         "0",
         "0",
         "1",
         "3.47134514156424",
         "0.00309136"
        ],
        [
         "28",
         "7.15",
         "3.73",
         "130.0",
         "0.2111",
         "0",
         "0",
         "0",
         "1",
         "0",
         "4.86753445045558",
         "0.04456321"
        ],
        [
         "29",
         "7.69",
         "5.32",
         "78.1",
         "0.1667",
         "0",
         "0",
         "0",
         "1",
         "0",
         "4.35799005684564",
         "0.02778889"
        ],
        [
         "30",
         "10.05",
         "8.14",
         "14.9",
         "0.2461",
         "0",
         "0",
         "1",
         "0",
         "0",
         "2.70136121295141",
         "0.06056521"
        ],
        [
         "31",
         "7.33",
         "8.27",
         "48.63",
         "0.2222",
         "0",
         "0",
         "1",
         "0",
         "0",
         "3.88424062441569",
         "0.04937284"
        ],
        [
         "32",
         "8.07",
         "7.59",
         "170.0",
         "0.0556",
         "0",
         "0",
         "1",
         "0",
         "0",
         "5.13579843705026",
         "0.00309136"
        ],
        [
         "33",
         "8.19",
         "7.09",
         "130.0",
         "0.2017",
         "0",
         "0",
         "0",
         "1",
         "0",
         "4.86753445045558",
         "0.04068289"
        ],
        [
         "34",
         "7.06",
         "6.05",
         "145.0",
         "0.0111",
         "0",
         "1",
         "0",
         "0",
         "0",
         "4.97673374242057",
         "0.00012321"
        ],
        [
         "35",
         "6.84",
         "4.45",
         "536.04",
         "0.2222",
         "0",
         "1",
         "0",
         "0",
         "0",
         "6.28420878515203",
         "0.04937284"
        ],
        [
         "36",
         "8.89",
         "7.95",
         "17.7",
         "0.0256",
         "0",
         "0",
         "1",
         "0",
         "0",
         "2.87356463957978",
         "0.00065536"
        ],
        [
         "37",
         "6.57",
         "4.0",
         "2940.0",
         "0.1889",
         "0",
         "1",
         "0",
         "0",
         "0",
         "7.98616486033273",
         "0.03568321"
        ],
        [
         "38",
         "9.43",
         "7.23",
         "16.3",
         "0.3944",
         "0",
         "0",
         "0",
         "0",
         "0",
         "2.79116510781272",
         "0.15555136"
        ],
        [
         "39",
         "8.94",
         "7.5",
         "71.0",
         "0.2556",
         "0",
         "0",
         "0",
         "1",
         "0",
         "4.26267987704132",
         "0.06533136"
        ],
        [
         "40",
         "8.04",
         "7.09",
         "78.2",
         "0.3556",
         "0",
         "1",
         "0",
         "0",
         "0",
         "4.35926964755127",
         "0.12645136"
        ],
        [
         "41",
         "9.76",
         "9.73",
         "8.55",
         "0.4556",
         "1",
         "0",
         "0",
         "0",
         "0",
         "2.14593128294867",
         "0.20757136"
        ],
        [
         "42",
         "7.54",
         "5.23",
         "163.3",
         "0.1444",
         "0",
         "0",
         "0",
         "1",
         "0",
         "5.09558899997642",
         "0.02085136"
        ],
        [
         "43",
         "6.73",
         "5.0",
         "400.0",
         "0.1778",
         "0",
         "1",
         "0",
         "0",
         "0",
         "5.99146454710798",
         "0.03161284"
        ],
        [
         "44",
         "6.81",
         "5.55",
         "2004.0",
         "0.1111",
         "0",
         "1",
         "0",
         "0",
         "0",
         "7.60290046220476",
         "0.01234321"
        ],
        [
         "45",
         "7.35",
         "6.05",
         "36.99",
         "0.3333",
         "0",
         "0",
         "1",
         "0",
         "0",
         "3.61064760584436",
         "0.11108889"
        ],
        [
         "46",
         "8.84",
         "5.91",
         "163.3",
         "0.1",
         "0",
         "0",
         "0",
         "1",
         "0",
         "5.09558899997642",
         "0.01"
        ],
        [
         "47",
         "8.21",
         "6.95",
         "78.1",
         "0.2556",
         "0",
         "0",
         "0",
         "0",
         "1",
         "4.35799005684564",
         "0.06533136"
        ],
        [
         "48",
         "8.4",
         "5.77",
         "71.0",
         "0.1111",
         "0",
         "0",
         "0",
         "0",
         "1",
         "4.26267987704132",
         "0.01234321"
        ],
        [
         "49",
         "7.4",
         "6.0",
         "164.66",
         "0.1556",
         "0",
         "1",
         "0",
         "0",
         "0",
         "5.10388274187028",
         "0.02421136"
        ],
        [
         "50",
         "6.25",
         "5.82",
         "483.0",
         "0.0922",
         "0",
         "1",
         "0",
         "0",
         "0",
         "6.18001665365257",
         "0.00850084"
        ]
       ],
       "shape": {
        "columns": 11,
        "rows": 64
       }
      },
      "text/html": [
       "<div>\n",
       "<style scoped>\n",
       "    .dataframe tbody tr th:only-of-type {\n",
       "        vertical-align: middle;\n",
       "    }\n",
       "\n",
       "    .dataframe tbody tr th {\n",
       "        vertical-align: top;\n",
       "    }\n",
       "\n",
       "    .dataframe thead th {\n",
       "        text-align: right;\n",
       "    }\n",
       "</style>\n",
       "<table border=\"1\" class=\"dataframe\">\n",
       "  <thead>\n",
       "    <tr style=\"text-align: right;\">\n",
       "      <th></th>\n",
       "      <th>GDP</th>\n",
       "      <th>Exprop</th>\n",
       "      <th>Mort</th>\n",
       "      <th>Latitude</th>\n",
       "      <th>Neo</th>\n",
       "      <th>Africa</th>\n",
       "      <th>Asia</th>\n",
       "      <th>Namer</th>\n",
       "      <th>Samer</th>\n",
       "      <th>logMort</th>\n",
       "      <th>Latitude2</th>\n",
       "    </tr>\n",
       "  </thead>\n",
       "  <tbody>\n",
       "    <tr>\n",
       "      <th>1</th>\n",
       "      <td>8.39</td>\n",
       "      <td>6.50</td>\n",
       "      <td>78.20</td>\n",
       "      <td>0.3111</td>\n",
       "      <td>0</td>\n",
       "      <td>1</td>\n",
       "      <td>0</td>\n",
       "      <td>0</td>\n",
       "      <td>0</td>\n",
       "      <td>4.359270</td>\n",
       "      <td>0.096783</td>\n",
       "    </tr>\n",
       "    <tr>\n",
       "      <th>2</th>\n",
       "      <td>7.77</td>\n",
       "      <td>5.36</td>\n",
       "      <td>280.00</td>\n",
       "      <td>0.1367</td>\n",
       "      <td>0</td>\n",
       "      <td>1</td>\n",
       "      <td>0</td>\n",
       "      <td>0</td>\n",
       "      <td>0</td>\n",
       "      <td>5.634790</td>\n",
       "      <td>0.018687</td>\n",
       "    </tr>\n",
       "    <tr>\n",
       "      <th>3</th>\n",
       "      <td>9.13</td>\n",
       "      <td>6.39</td>\n",
       "      <td>68.90</td>\n",
       "      <td>0.3778</td>\n",
       "      <td>0</td>\n",
       "      <td>0</td>\n",
       "      <td>0</td>\n",
       "      <td>0</td>\n",
       "      <td>1</td>\n",
       "      <td>4.232656</td>\n",
       "      <td>0.142733</td>\n",
       "    </tr>\n",
       "    <tr>\n",
       "      <th>4</th>\n",
       "      <td>9.90</td>\n",
       "      <td>9.32</td>\n",
       "      <td>8.55</td>\n",
       "      <td>0.3000</td>\n",
       "      <td>1</td>\n",
       "      <td>0</td>\n",
       "      <td>0</td>\n",
       "      <td>0</td>\n",
       "      <td>0</td>\n",
       "      <td>2.145931</td>\n",
       "      <td>0.090000</td>\n",
       "    </tr>\n",
       "    <tr>\n",
       "      <th>5</th>\n",
       "      <td>9.29</td>\n",
       "      <td>7.50</td>\n",
       "      <td>85.00</td>\n",
       "      <td>0.2683</td>\n",
       "      <td>0</td>\n",
       "      <td>0</td>\n",
       "      <td>0</td>\n",
       "      <td>1</td>\n",
       "      <td>0</td>\n",
       "      <td>4.442651</td>\n",
       "      <td>0.071985</td>\n",
       "    </tr>\n",
       "    <tr>\n",
       "      <th>...</th>\n",
       "      <td>...</td>\n",
       "      <td>...</td>\n",
       "      <td>...</td>\n",
       "      <td>...</td>\n",
       "      <td>...</td>\n",
       "      <td>...</td>\n",
       "      <td>...</td>\n",
       "      <td>...</td>\n",
       "      <td>...</td>\n",
       "      <td>...</td>\n",
       "      <td>...</td>\n",
       "    </tr>\n",
       "    <tr>\n",
       "      <th>60</th>\n",
       "      <td>9.03</td>\n",
       "      <td>7.00</td>\n",
       "      <td>71.00</td>\n",
       "      <td>0.3667</td>\n",
       "      <td>0</td>\n",
       "      <td>0</td>\n",
       "      <td>0</td>\n",
       "      <td>0</td>\n",
       "      <td>1</td>\n",
       "      <td>4.262680</td>\n",
       "      <td>0.134469</td>\n",
       "    </tr>\n",
       "    <tr>\n",
       "      <th>61</th>\n",
       "      <td>10.22</td>\n",
       "      <td>10.00</td>\n",
       "      <td>15.00</td>\n",
       "      <td>0.4222</td>\n",
       "      <td>1</td>\n",
       "      <td>0</td>\n",
       "      <td>0</td>\n",
       "      <td>1</td>\n",
       "      <td>0</td>\n",
       "      <td>2.708050</td>\n",
       "      <td>0.178253</td>\n",
       "    </tr>\n",
       "    <tr>\n",
       "      <th>62</th>\n",
       "      <td>9.07</td>\n",
       "      <td>7.14</td>\n",
       "      <td>78.10</td>\n",
       "      <td>0.0889</td>\n",
       "      <td>0</td>\n",
       "      <td>0</td>\n",
       "      <td>0</td>\n",
       "      <td>0</td>\n",
       "      <td>1</td>\n",
       "      <td>4.357990</td>\n",
       "      <td>0.007903</td>\n",
       "    </tr>\n",
       "    <tr>\n",
       "      <th>63</th>\n",
       "      <td>7.28</td>\n",
       "      <td>6.41</td>\n",
       "      <td>140.00</td>\n",
       "      <td>0.1778</td>\n",
       "      <td>0</td>\n",
       "      <td>0</td>\n",
       "      <td>1</td>\n",
       "      <td>0</td>\n",
       "      <td>0</td>\n",
       "      <td>4.941642</td>\n",
       "      <td>0.031613</td>\n",
       "    </tr>\n",
       "    <tr>\n",
       "      <th>64</th>\n",
       "      <td>6.87</td>\n",
       "      <td>3.50</td>\n",
       "      <td>240.00</td>\n",
       "      <td>0.0000</td>\n",
       "      <td>0</td>\n",
       "      <td>1</td>\n",
       "      <td>0</td>\n",
       "      <td>0</td>\n",
       "      <td>0</td>\n",
       "      <td>5.480639</td>\n",
       "      <td>0.000000</td>\n",
       "    </tr>\n",
       "  </tbody>\n",
       "</table>\n",
       "<p>64 rows × 11 columns</p>\n",
       "</div>"
      ],
      "text/plain": [
       "      GDP  Exprop    Mort  Latitude  Neo  Africa  Asia  Namer  Samer  \\\n",
       "1    8.39    6.50   78.20    0.3111    0       1     0      0      0   \n",
       "2    7.77    5.36  280.00    0.1367    0       1     0      0      0   \n",
       "3    9.13    6.39   68.90    0.3778    0       0     0      0      1   \n",
       "4    9.90    9.32    8.55    0.3000    1       0     0      0      0   \n",
       "5    9.29    7.50   85.00    0.2683    0       0     0      1      0   \n",
       "..    ...     ...     ...       ...  ...     ...   ...    ...    ...   \n",
       "60   9.03    7.00   71.00    0.3667    0       0     0      0      1   \n",
       "61  10.22   10.00   15.00    0.4222    1       0     0      1      0   \n",
       "62   9.07    7.14   78.10    0.0889    0       0     0      0      1   \n",
       "63   7.28    6.41  140.00    0.1778    0       0     1      0      0   \n",
       "64   6.87    3.50  240.00    0.0000    0       1     0      0      0   \n",
       "\n",
       "     logMort  Latitude2  \n",
       "1   4.359270   0.096783  \n",
       "2   5.634790   0.018687  \n",
       "3   4.232656   0.142733  \n",
       "4   2.145931   0.090000  \n",
       "5   4.442651   0.071985  \n",
       "..       ...        ...  \n",
       "60  4.262680   0.134469  \n",
       "61  2.708050   0.178253  \n",
       "62  4.357990   0.007903  \n",
       "63  4.941642   0.031613  \n",
       "64  5.480639   0.000000  \n",
       "\n",
       "[64 rows x 11 columns]"
      ]
     },
     "execution_count": 11,
     "metadata": {},
     "output_type": "execute_result"
    }
   ],
   "source": [
    "# Dados - Acemoglu, Johnson, Robinson 2001\n",
    "df = pd.read_csv('https://github.com/Daniel-Uhr/data/raw/main/AJR02.csv', index_col=0)\n",
    "df"
   ]
  },
  {
   "cell_type": "markdown",
   "metadata": {},
   "source": [
    "Mostrar as estatísticas descritivas "
   ]
  },
  {
   "cell_type": "code",
   "execution_count": 12,
   "metadata": {},
   "outputs": [
    {
     "data": {
      "application/vnd.microsoft.datawrangler.viewer.v0+json": {
       "columns": [
        {
         "name": "index",
         "rawType": "object",
         "type": "string"
        },
        {
         "name": "GDP",
         "rawType": "float64",
         "type": "float"
        },
        {
         "name": "Exprop",
         "rawType": "float64",
         "type": "float"
        },
        {
         "name": "Mort",
         "rawType": "float64",
         "type": "float"
        },
        {
         "name": "Latitude",
         "rawType": "float64",
         "type": "float"
        },
        {
         "name": "Neo",
         "rawType": "float64",
         "type": "float"
        },
        {
         "name": "Africa",
         "rawType": "float64",
         "type": "float"
        },
        {
         "name": "Asia",
         "rawType": "float64",
         "type": "float"
        },
        {
         "name": "Namer",
         "rawType": "float64",
         "type": "float"
        },
        {
         "name": "Samer",
         "rawType": "float64",
         "type": "float"
        },
        {
         "name": "logMort",
         "rawType": "float64",
         "type": "float"
        },
        {
         "name": "Latitude2",
         "rawType": "float64",
         "type": "float"
        }
       ],
       "conversionMethod": "pd.DataFrame",
       "ref": "1f65169b-9839-4d27-88d6-15cd72589865",
       "rows": [
        [
         "count",
         "64.0",
         "64.0",
         "64.0",
         "64.0",
         "64.0",
         "64.0",
         "64.0",
         "64.0",
         "64.0",
         "64.0",
         "64.0"
        ],
        [
         "mean",
         "8.0625",
         "6.5160937500000005",
         "245.91109375",
         "0.19048281250000001",
         "0.0625",
         "0.421875",
         "0.140625",
         "0.21875",
         "0.171875",
         "4.6467488954648735",
         "0.05700161921875"
        ],
        [
         "std",
         "1.0437006808041813",
         "1.4688410474988303",
         "472.6239426561043",
         "0.1450750605444102",
         "0.2439750182371333",
         "0.4977628523130841",
         "0.35038244411336755",
         "0.4166666666666667",
         "0.38025419651629616",
         "1.2525426281965661",
         "0.08603899738416802"
        ],
        [
         "min",
         "6.11",
         "3.5",
         "8.55",
         "0.0",
         "0.0",
         "0.0",
         "0.0",
         "0.0",
         "0.0",
         "2.14593128294867",
         "0.0"
        ],
        [
         "25%",
         "7.3025",
         "5.6175",
         "68.9",
         "0.0889",
         "0.0",
         "0.0",
         "0.0",
         "0.0",
         "0.0",
         "4.23265617801961",
         "0.00790321"
        ],
        [
         "50%",
         "7.95",
         "6.475",
         "78.15",
         "0.16115",
         "0.0",
         "0.0",
         "0.0",
         "0.0",
         "0.0",
         "4.358629852198455",
         "0.026000125"
        ],
        [
         "75%",
         "8.8525",
         "7.3525",
         "240.0",
         "0.2671",
         "0.0",
         "1.0",
         "0.0",
         "0.0",
         "0.0",
         "5.48063892334199",
         "0.07134288999999999"
        ],
        [
         "max",
         "10.22",
         "10.0",
         "2940.0",
         "0.6667",
         "1.0",
         "1.0",
         "1.0",
         "1.0",
         "1.0",
         "7.98616486033273",
         "0.44448889"
        ]
       ],
       "shape": {
        "columns": 11,
        "rows": 8
       }
      },
      "text/html": [
       "<div>\n",
       "<style scoped>\n",
       "    .dataframe tbody tr th:only-of-type {\n",
       "        vertical-align: middle;\n",
       "    }\n",
       "\n",
       "    .dataframe tbody tr th {\n",
       "        vertical-align: top;\n",
       "    }\n",
       "\n",
       "    .dataframe thead th {\n",
       "        text-align: right;\n",
       "    }\n",
       "</style>\n",
       "<table border=\"1\" class=\"dataframe\">\n",
       "  <thead>\n",
       "    <tr style=\"text-align: right;\">\n",
       "      <th></th>\n",
       "      <th>GDP</th>\n",
       "      <th>Exprop</th>\n",
       "      <th>Mort</th>\n",
       "      <th>Latitude</th>\n",
       "      <th>Neo</th>\n",
       "      <th>Africa</th>\n",
       "      <th>Asia</th>\n",
       "      <th>Namer</th>\n",
       "      <th>Samer</th>\n",
       "      <th>logMort</th>\n",
       "      <th>Latitude2</th>\n",
       "    </tr>\n",
       "  </thead>\n",
       "  <tbody>\n",
       "    <tr>\n",
       "      <th>count</th>\n",
       "      <td>64.000000</td>\n",
       "      <td>64.000000</td>\n",
       "      <td>64.000000</td>\n",
       "      <td>64.000000</td>\n",
       "      <td>64.000000</td>\n",
       "      <td>64.000000</td>\n",
       "      <td>64.000000</td>\n",
       "      <td>64.000000</td>\n",
       "      <td>64.000000</td>\n",
       "      <td>64.000000</td>\n",
       "      <td>64.000000</td>\n",
       "    </tr>\n",
       "    <tr>\n",
       "      <th>mean</th>\n",
       "      <td>8.062500</td>\n",
       "      <td>6.516094</td>\n",
       "      <td>245.911094</td>\n",
       "      <td>0.190483</td>\n",
       "      <td>0.062500</td>\n",
       "      <td>0.421875</td>\n",
       "      <td>0.140625</td>\n",
       "      <td>0.218750</td>\n",
       "      <td>0.171875</td>\n",
       "      <td>4.646749</td>\n",
       "      <td>0.057002</td>\n",
       "    </tr>\n",
       "    <tr>\n",
       "      <th>std</th>\n",
       "      <td>1.043701</td>\n",
       "      <td>1.468841</td>\n",
       "      <td>472.623943</td>\n",
       "      <td>0.145075</td>\n",
       "      <td>0.243975</td>\n",
       "      <td>0.497763</td>\n",
       "      <td>0.350382</td>\n",
       "      <td>0.416667</td>\n",
       "      <td>0.380254</td>\n",
       "      <td>1.252543</td>\n",
       "      <td>0.086039</td>\n",
       "    </tr>\n",
       "    <tr>\n",
       "      <th>min</th>\n",
       "      <td>6.110000</td>\n",
       "      <td>3.500000</td>\n",
       "      <td>8.550000</td>\n",
       "      <td>0.000000</td>\n",
       "      <td>0.000000</td>\n",
       "      <td>0.000000</td>\n",
       "      <td>0.000000</td>\n",
       "      <td>0.000000</td>\n",
       "      <td>0.000000</td>\n",
       "      <td>2.145931</td>\n",
       "      <td>0.000000</td>\n",
       "    </tr>\n",
       "    <tr>\n",
       "      <th>25%</th>\n",
       "      <td>7.302500</td>\n",
       "      <td>5.617500</td>\n",
       "      <td>68.900000</td>\n",
       "      <td>0.088900</td>\n",
       "      <td>0.000000</td>\n",
       "      <td>0.000000</td>\n",
       "      <td>0.000000</td>\n",
       "      <td>0.000000</td>\n",
       "      <td>0.000000</td>\n",
       "      <td>4.232656</td>\n",
       "      <td>0.007903</td>\n",
       "    </tr>\n",
       "    <tr>\n",
       "      <th>50%</th>\n",
       "      <td>7.950000</td>\n",
       "      <td>6.475000</td>\n",
       "      <td>78.150000</td>\n",
       "      <td>0.161150</td>\n",
       "      <td>0.000000</td>\n",
       "      <td>0.000000</td>\n",
       "      <td>0.000000</td>\n",
       "      <td>0.000000</td>\n",
       "      <td>0.000000</td>\n",
       "      <td>4.358630</td>\n",
       "      <td>0.026000</td>\n",
       "    </tr>\n",
       "    <tr>\n",
       "      <th>75%</th>\n",
       "      <td>8.852500</td>\n",
       "      <td>7.352500</td>\n",
       "      <td>240.000000</td>\n",
       "      <td>0.267100</td>\n",
       "      <td>0.000000</td>\n",
       "      <td>1.000000</td>\n",
       "      <td>0.000000</td>\n",
       "      <td>0.000000</td>\n",
       "      <td>0.000000</td>\n",
       "      <td>5.480639</td>\n",
       "      <td>0.071343</td>\n",
       "    </tr>\n",
       "    <tr>\n",
       "      <th>max</th>\n",
       "      <td>10.220000</td>\n",
       "      <td>10.000000</td>\n",
       "      <td>2940.000000</td>\n",
       "      <td>0.666700</td>\n",
       "      <td>1.000000</td>\n",
       "      <td>1.000000</td>\n",
       "      <td>1.000000</td>\n",
       "      <td>1.000000</td>\n",
       "      <td>1.000000</td>\n",
       "      <td>7.986165</td>\n",
       "      <td>0.444489</td>\n",
       "    </tr>\n",
       "  </tbody>\n",
       "</table>\n",
       "</div>"
      ],
      "text/plain": [
       "             GDP     Exprop         Mort   Latitude        Neo     Africa  \\\n",
       "count  64.000000  64.000000    64.000000  64.000000  64.000000  64.000000   \n",
       "mean    8.062500   6.516094   245.911094   0.190483   0.062500   0.421875   \n",
       "std     1.043701   1.468841   472.623943   0.145075   0.243975   0.497763   \n",
       "min     6.110000   3.500000     8.550000   0.000000   0.000000   0.000000   \n",
       "25%     7.302500   5.617500    68.900000   0.088900   0.000000   0.000000   \n",
       "50%     7.950000   6.475000    78.150000   0.161150   0.000000   0.000000   \n",
       "75%     8.852500   7.352500   240.000000   0.267100   0.000000   1.000000   \n",
       "max    10.220000  10.000000  2940.000000   0.666700   1.000000   1.000000   \n",
       "\n",
       "            Asia      Namer      Samer    logMort  Latitude2  \n",
       "count  64.000000  64.000000  64.000000  64.000000  64.000000  \n",
       "mean    0.140625   0.218750   0.171875   4.646749   0.057002  \n",
       "std     0.350382   0.416667   0.380254   1.252543   0.086039  \n",
       "min     0.000000   0.000000   0.000000   2.145931   0.000000  \n",
       "25%     0.000000   0.000000   0.000000   4.232656   0.007903  \n",
       "50%     0.000000   0.000000   0.000000   4.358630   0.026000  \n",
       "75%     0.000000   0.000000   0.000000   5.480639   0.071343  \n",
       "max     1.000000   1.000000   1.000000   7.986165   0.444489  "
      ]
     },
     "execution_count": 12,
     "metadata": {},
     "output_type": "execute_result"
    }
   ],
   "source": [
    "df.describe()"
   ]
  },
  {
   "cell_type": "markdown",
   "metadata": {},
   "source": [
    "Vamos usar um gráfico de dispersão para ver se existe alguma relação óbvia entre o GDP e a proteção contra a expropriação."
   ]
  },
  {
   "cell_type": "code",
   "execution_count": 13,
   "metadata": {},
   "outputs": [
    {
     "data": {
      "image/png": "[encoded data removed]",
      "text/plain": [
       "<Figure size 800x400 with 1 Axes>"
      ]
     },
     "metadata": {},
     "output_type": "display_data"
    }
   ],
   "source": [
    "# Plotar relacionamento entre GDP e taxa de expropriação\n",
    "fig, ax = plt.subplots(1,1)\n",
    "ax.set_title('Figure 1: joint distribution of GDP and expropriation')\n",
    "df.plot(x='Exprop', y='GDP', kind='scatter', s=50, ax=ax);"
   ]
  },
  {
   "cell_type": "markdown",
   "metadata": {},
   "source": [
    "O gráfico mostra uma relação positiva bastante forte entre a proteção contra a expropriação (\"Instituições\") e o logaritmo do PIB per capita. **Então melhores instituições parecem estar positivamente correlacionadas com melhores resultados econômicos** (maior PIB per capita).\n",
    "\n",
    "Dado o enredo, escolher um modelo linear para descrever essa relação parece uma suposição razoável.\n",
    "\n",
    "Podemos escrever nosso modelo como:\n",
    "\n",
    "$$ GDP_{i} = \\beta_0 + \\beta_1 Exprop_i + u_i $$\n",
    "\n",
    "onde:\n",
    "* $GDP_{i}$ é o logaritmo do PIB per capita PPP do país $i$ em 1995\n",
    "* $\\beta_0$ é o intercepto do modelo\n",
    "* $\\beta_1$ é a inclinação da linha de regressão, representando o efeito marginal da proteção contra a expropriação no PIB per capita\n",
    "* $u_i$ é o erro do modelo, que captura a variação no PIB per capita que não pode ser explicada pela proteção contra a expropriação.\n",
    "\n",
    "A técnica mais comum para estimar os parâmetros ($\\beta$'s) do modelo linear é Mínimos Quadrados Ordinários (MQO).\n",
    "\n",
    "Como o nome indica, um modelo OLS/MQO é resolvido encontrando os parâmetros que minimizam a soma dos resíduos quadrados , ou seja:\n",
    "\n",
    "$$ \\hat{\\beta} = \\underset{\\beta}{\\text{argmin}} \\sum_{i=1}^{n} (\\hat{u}_i)^2 = \\underset{\\beta}{\\text{argmin}} \\sum_{i=1}^{n} (GDP_i - \\hat{GDP}_i)^2 $$\n",
    "\n",
    "Lembre que para estimar a constante devemos adicionar uma coluna de 1s à matriz de variáveis independentes.\n",
    "\n",
    "Agora, podemos construir nosso modelo `statsmodels` usando a função OLS."
   ]
  },
  {
   "cell_type": "code",
   "execution_count": 14,
   "metadata": {},
   "outputs": [
    {
     "data": {
      "text/plain": [
       "statsmodels.regression.linear_model.OLS"
      ]
     },
     "execution_count": 14,
     "metadata": {},
     "output_type": "execute_result"
    }
   ],
   "source": [
    "# Regressão GDP sobre Expropriation Rate\n",
    "reg1 = sm.OLS.from_formula('GDP ~ Exprop', df)\n",
    "type(reg1)"
   ]
  },
  {
   "cell_type": "markdown",
   "metadata": {},
   "source": [
    "Precisamos usar `.fit()` para obter estimativas de parâmetros"
   ]
  },
  {
   "cell_type": "code",
   "execution_count": 15,
   "metadata": {},
   "outputs": [
    {
     "data": {
      "text/plain": [
       "statsmodels.regression.linear_model.RegressionResultsWrapper"
      ]
     },
     "execution_count": 15,
     "metadata": {},
     "output_type": "execute_result"
    }
   ],
   "source": [
    "results = reg1.fit()\n",
    "type(results)"
   ]
  },
  {
   "cell_type": "markdown",
   "metadata": {},
   "source": [
    "Agora temos o modelo de regressão ajustado armazenado em results.\n",
    "\n",
    "Para visualizar os resultados da regressão OLS/MQO, podemos chamar o método `.summary()`.\n",
    "\n",
    "Observe que uma observação foi erroneamente excluída dos resultados do artigo original (veja a nota localizada em maketable2.do da página de Acemoglu) e, portanto, os coeficientes diferem"
   ]
  },
  {
   "cell_type": "code",
   "execution_count": 16,
   "metadata": {},
   "outputs": [
    {
     "data": {
      "text/html": [
       "<table class=\"simpletable\">\n",
       "<caption>OLS Regression Results</caption>\n",
       "<tr>\n",
       "  <th>Dep. Variable:</th>           <td>GDP</td>       <th>  R-squared:         </th> <td>   0.540</td>\n",
       "</tr>\n",
       "<tr>\n",
       "  <th>Model:</th>                   <td>OLS</td>       <th>  Adj. R-squared:    </th> <td>   0.532</td>\n",
       "</tr>\n",
       "<tr>\n",
       "  <th>Method:</th>             <td>Least Squares</td>  <th>  F-statistic:       </th> <td>   72.71</td>\n",
       "</tr>\n",
       "<tr>\n",
       "  <th>Date:</th>             <td>qua, 07 mai 2025</td> <th>  Prob (F-statistic):</th> <td>4.84e-12</td>\n",
       "</tr>\n",
       "<tr>\n",
       "  <th>Time:</th>                 <td>13:31:08</td>     <th>  Log-Likelihood:    </th> <td> -68.214</td>\n",
       "</tr>\n",
       "<tr>\n",
       "  <th>No. Observations:</th>      <td>    64</td>      <th>  AIC:               </th> <td>   140.4</td>\n",
       "</tr>\n",
       "<tr>\n",
       "  <th>Df Residuals:</th>          <td>    62</td>      <th>  BIC:               </th> <td>   144.7</td>\n",
       "</tr>\n",
       "<tr>\n",
       "  <th>Df Model:</th>              <td>     1</td>      <th>                     </th>     <td> </td>   \n",
       "</tr>\n",
       "<tr>\n",
       "  <th>Covariance Type:</th>      <td>nonrobust</td>    <th>                     </th>     <td> </td>   \n",
       "</tr>\n",
       "</table>\n",
       "<table class=\"simpletable\">\n",
       "<tr>\n",
       "      <td></td>         <th>coef</th>     <th>std err</th>      <th>t</th>      <th>P>|t|</th>  <th>[0.025</th>    <th>0.975]</th>  \n",
       "</tr>\n",
       "<tr>\n",
       "  <th>Intercept</th> <td>    4.6609</td> <td>    0.409</td> <td>   11.402</td> <td> 0.000</td> <td>    3.844</td> <td>    5.478</td>\n",
       "</tr>\n",
       "<tr>\n",
       "  <th>Exprop</th>    <td>    0.5220</td> <td>    0.061</td> <td>    8.527</td> <td> 0.000</td> <td>    0.400</td> <td>    0.644</td>\n",
       "</tr>\n",
       "</table>\n",
       "<table class=\"simpletable\">\n",
       "<tr>\n",
       "  <th>Omnibus:</th>       <td> 7.134</td> <th>  Durbin-Watson:     </th> <td>   2.081</td>\n",
       "</tr>\n",
       "<tr>\n",
       "  <th>Prob(Omnibus):</th> <td> 0.028</td> <th>  Jarque-Bera (JB):  </th> <td>   6.698</td>\n",
       "</tr>\n",
       "<tr>\n",
       "  <th>Skew:</th>          <td>-0.784</td> <th>  Prob(JB):          </th> <td>  0.0351</td>\n",
       "</tr>\n",
       "<tr>\n",
       "  <th>Kurtosis:</th>      <td> 3.234</td> <th>  Cond. No.          </th> <td>    31.2</td>\n",
       "</tr>\n",
       "</table><br/><br/>Notes:<br/>[1] Standard Errors assume that the covariance matrix of the errors is correctly specified."
      ],
      "text/plain": [
       "<class 'statsmodels.iolib.summary.Summary'>\n",
       "\"\"\"\n",
       "                            OLS Regression Results                            \n",
       "==============================================================================\n",
       "Dep. Variable:                    GDP   R-squared:                       0.540\n",
       "Model:                            OLS   Adj. R-squared:                  0.532\n",
       "Method:                 Least Squares   F-statistic:                     72.71\n",
       "Date:                qua, 07 mai 2025   Prob (F-statistic):           4.84e-12\n",
       "Time:                        13:31:08   Log-Likelihood:                -68.214\n",
       "No. Observations:                  64   AIC:                             140.4\n",
       "Df Residuals:                      62   BIC:                             144.7\n",
       "Df Model:                           1                                         \n",
       "Covariance Type:            nonrobust                                         \n",
       "==============================================================================\n",
       "                 coef    std err          t      P>|t|      [0.025      0.975]\n",
       "------------------------------------------------------------------------------\n",
       "Intercept      4.6609      0.409     11.402      0.000       3.844       5.478\n",
       "Exprop         0.5220      0.061      8.527      0.000       0.400       0.644\n",
       "==============================================================================\n",
       "Omnibus:                        7.134   Durbin-Watson:                   2.081\n",
       "Prob(Omnibus):                  0.028   Jarque-Bera (JB):                6.698\n",
       "Skew:                          -0.784   Prob(JB):                       0.0351\n",
       "Kurtosis:                       3.234   Cond. No.                         31.2\n",
       "==============================================================================\n",
       "\n",
       "Notes:\n",
       "[1] Standard Errors assume that the covariance matrix of the errors is correctly specified.\n",
       "\"\"\""
      ]
     },
     "execution_count": 16,
     "metadata": {},
     "output_type": "execute_result"
    }
   ],
   "source": [
    "results.summary()"
   ]
  },
  {
   "cell_type": "markdown",
   "metadata": {},
   "source": [
    "OBS: há um problema nos dados. uma observação foi erroneamente excluída dos resultados do artigo original e, portanto, os coeficientes diferem ligeiramente."
   ]
  },
  {
   "cell_type": "markdown",
   "metadata": {},
   "source": [
    "Usando nossas estimativas de parâmetros, agora podemos escrever nossa relação estimada como:\n",
    "\n",
    "$$ \\hat{GDP}_{i} = 4.63 + 0.53 Exprop_i $$"
   ]
  },
  {
   "cell_type": "markdown",
   "metadata": {},
   "source": [
    "Esta equação descreve a linha que melhor se ajusta aos nossos dados, conforme mostrado na Figura 2.\n",
    "\n",
    "Podemos usar essa equação para \"prever\" o nível do logaritmo do PIB per capita para um valor do índice de proteção contra expropriação."
   ]
  },
  {
   "cell_type": "code",
   "execution_count": 18,
   "metadata": {},
   "outputs": [
    {
     "data": {
      "text/plain": [
       "6.5160937500000005"
      ]
     },
     "execution_count": 18,
     "metadata": {},
     "output_type": "execute_result"
    }
   ],
   "source": [
    "mean_expr = np.mean(df['Exprop'])\n",
    "mean_expr"
   ]
  },
  {
   "cell_type": "code",
   "execution_count": 19,
   "metadata": {},
   "outputs": [
    {
     "data": {
      "text/plain": [
       "8.062499999999995"
      ]
     },
     "execution_count": 19,
     "metadata": {},
     "output_type": "execute_result"
    }
   ],
   "source": [
    "predicted_logpdp95 = results.params[0] + results.params[1] * mean_expr\n",
    "predicted_logpdp95"
   ]
  },
  {
   "cell_type": "markdown",
   "metadata": {},
   "source": [
    "Ou seja, para um país com um valor de índice institucional de **6,51** (a média do conjunto de dados), descobrimos que seu nível previsto de logaritmo do PIB per capita em 1995 é **8,09**."
   ]
  },
  {
   "cell_type": "markdown",
   "metadata": {},
   "source": [
    "Uma maneira mais fácil (e precisa) de obter esse resultado é usar `.predict()` e definir \n",
    "e"
   ]
  },
  {
   "cell_type": "code",
   "execution_count": null,
   "metadata": {},
   "outputs": [
    {
     "data": {
      "text/plain": [
       "0    8.0625\n",
       "dtype: float64"
      ]
     },
     "execution_count": 20,
     "metadata": {},
     "output_type": "execute_result"
    }
   ],
   "source": [
    "mean_expr = df['Exprop'].mean()\n",
    "new_data = pd.DataFrame({'Exprop': [mean_expr]})\n",
    "results.predict(new_data)"
   ]
  },
  {
   "cell_type": "markdown",
   "metadata": {},
   "source": [
    "Podemos obter uma matriz de previsões $GDP_{i}$ para cada valor de $Exprop_i$ em nosso conjunto de dados, recorrendo `.predict()` aos nossos resultados.\n",
    "\n",
    "Traçando os valores previstos em relação $Exprop_i$, mostra que os valores previstos estão ao longo da linha linear que ajustamos acima.\n",
    "\n",
    "Os valores observados de $GDP_{i}$ também são plotados para fins de comparação."
   ]
  },
  {
   "cell_type": "code",
   "execution_count": 21,
   "metadata": {},
   "outputs": [
    {
     "data": {
      "image/png": "[encoded data removed]",
      "text/plain": [
       "<Figure size 800x400 with 1 Axes>"
      ]
     },
     "metadata": {},
     "output_type": "display_data"
    }
   ],
   "source": [
    "fig, ax = plt.subplots(1,1)\n",
    "ax.set_title('Figure 2: OLS predicted values')\n",
    "\n",
    "# Drop missing observations from whole sample\n",
    "df_plot = df.dropna(subset=['GDP', 'Exprop'])\n",
    "sns.regplot(x=df_plot['Exprop'], y=df_plot['GDP'], ax=ax, order=1, ci=None, line_kws={'color':'r'})\n",
    "\n",
    "ax.legend(['observed', 'predicted'])\n",
    "ax.set_xlabel('Exprop')\n",
    "ax.set_ylabel('GDP')\n",
    "plt.show()"
   ]
  },
  {
   "cell_type": "markdown",
   "metadata": {},
   "source": [
    "### 3. Ampliando o Modelo de Regressão Linear\n",
    "\n",
    "Até agora, contabilizamos apenas as instituições que afetam o desempenho econômico. É quase certo que há vários outros fatores que afetam o PIB e que não estão incluídos em nosso modelo.\n",
    "\n",
    "Deixando de fora as variáveis ​​que afetam $GDP_{i}$ resultará em **viés de variável omitida**, produzindo estimativas de parâmetros tendenciosas e inconsistentes.\n",
    "\n",
    "Podemos estender nosso modelo de regressão bivariada para um modelo de regressão multivariada adicionando outros fatores que podem afetar $GDP_{i}$.\n",
    "\n",
    "[AJR01] considere outros fatores como:\n",
    "\n",
    "* o efeito do clima nos resultados económicos; a latitude é usada como proxy para isso\n",
    "* diferenças que afetam tanto o desempenho econômico quanto as instituições, por exemplo, culturais, históricas, etc.; tentar controlar com o uso de modelos continentais\n",
    "\n",
    "Vamos estimar alguns dos modelos estendidos considerados no artigo (Tabela 2)"
   ]
  },
  {
   "cell_type": "code",
   "execution_count": 22,
   "metadata": {},
   "outputs": [],
   "source": [
    "# Adicionar constante\n",
    "df['const'] = 1\n",
    "\n",
    "# Create lists of variables to be used in each regression\n",
    "X1 = df[['const', 'Exprop']]\n",
    "X2 = df[['const', 'Exprop', 'Latitude', 'Latitude2']]\n",
    "X3 = df[['const', 'Exprop', 'Latitude', 'Latitude2', 'Asia', 'Africa', 'Namer', 'Samer']]\n",
    "\n",
    "# Estimate an OLS regression for each set of variables\n",
    "reg1 = sm.OLS(df['GDP'], X1, missing='drop').fit()\n",
    "reg2 = sm.OLS(df['GDP'], X2, missing='drop').fit()\n",
    "reg3 = sm.OLS(df['GDP'], X3, missing='drop').fit()"
   ]
  },
  {
   "cell_type": "markdown",
   "metadata": {},
   "source": [
    "Agora que ajustamos nosso modelo, usaremos `summary_col` para exibir os resultados em uma única tabela (os números do modelo correspondem aos do artigo)"
   ]
  },
  {
   "cell_type": "code",
   "execution_count": 23,
   "metadata": {},
   "outputs": [
    {
     "data": {
      "text/html": [
       "<table class=\"simpletable\">\n",
       "<tr>\n",
       "          <td></td>         <th>Model 1</th> <th>Model 2</th> <th>Model 3</th>\n",
       "</tr>\n",
       "<tr>\n",
       "  <th>const</th>            <td>4.66***</td> <td>4.55***</td> <td>5.95***</td>\n",
       "</tr>\n",
       "<tr>\n",
       "  <th></th>                 <td>(0.41)</td>  <td>(0.45)</td>  <td>(0.68)</td> \n",
       "</tr>\n",
       "<tr>\n",
       "  <th>Exprop</th>           <td>0.52***</td> <td>0.49***</td> <td>0.40***</td>\n",
       "</tr>\n",
       "<tr>\n",
       "  <th></th>                 <td>(0.06)</td>  <td>(0.07)</td>  <td>(0.06)</td> \n",
       "</tr>\n",
       "<tr>\n",
       "  <th>Latitude</th>            <td></td>      <td>2.16</td>    <td>0.42</td>  \n",
       "</tr>\n",
       "<tr>\n",
       "  <th></th>                    <td></td>     <td>(1.68)</td>  <td>(1.47)</td> \n",
       "</tr>\n",
       "<tr>\n",
       "  <th>Latitude2</th>           <td></td>      <td>-2.12</td>   <td>0.44</td>  \n",
       "</tr>\n",
       "<tr>\n",
       "  <th></th>                    <td></td>     <td>(2.86)</td>  <td>(2.48)</td> \n",
       "</tr>\n",
       "<tr>\n",
       "  <th>Africa</th>              <td></td>        <td></td>     <td>-1.06**</td>\n",
       "</tr>\n",
       "<tr>\n",
       "  <th></th>                    <td></td>        <td></td>     <td>(0.41)</td> \n",
       "</tr>\n",
       "<tr>\n",
       "  <th>Asia</th>                <td></td>        <td></td>     <td>-0.74*</td> \n",
       "</tr>\n",
       "<tr>\n",
       "  <th></th>                    <td></td>        <td></td>     <td>(0.42)</td> \n",
       "</tr>\n",
       "<tr>\n",
       "  <th>Namer</th>               <td></td>        <td></td>      <td>-0.17</td> \n",
       "</tr>\n",
       "<tr>\n",
       "  <th></th>                    <td></td>        <td></td>     <td>(0.40)</td> \n",
       "</tr>\n",
       "<tr>\n",
       "  <th>Samer</th>               <td></td>        <td></td>      <td>-0.12</td> \n",
       "</tr>\n",
       "<tr>\n",
       "  <th></th>                    <td></td>        <td></td>     <td>(0.42)</td> \n",
       "</tr>\n",
       "<tr>\n",
       "  <th>R-squared</th>         <td>0.54</td>    <td>0.56</td>    <td>0.71</td>  \n",
       "</tr>\n",
       "<tr>\n",
       "  <th>R-squared Adj.</th>    <td>0.53</td>    <td>0.54</td>    <td>0.67</td>  \n",
       "</tr>\n",
       "<tr>\n",
       "  <th>No. observations</th>   <td>64</td>      <td>64</td>      <td>64</td>   \n",
       "</tr>\n",
       "</table>"
      ],
      "text/plain": [
       "<class 'statsmodels.iolib.summary2.Summary'>\n",
       "\"\"\"\n",
       "\n",
       "========================================\n",
       "                 Model 1 Model 2 Model 3\n",
       "----------------------------------------\n",
       "const            4.66*** 4.55*** 5.95***\n",
       "                 (0.41)  (0.45)  (0.68) \n",
       "Exprop           0.52*** 0.49*** 0.40***\n",
       "                 (0.06)  (0.07)  (0.06) \n",
       "Latitude                 2.16    0.42   \n",
       "                         (1.68)  (1.47) \n",
       "Latitude2                -2.12   0.44   \n",
       "                         (2.86)  (2.48) \n",
       "Africa                           -1.06**\n",
       "                                 (0.41) \n",
       "Asia                             -0.74* \n",
       "                                 (0.42) \n",
       "Namer                            -0.17  \n",
       "                                 (0.40) \n",
       "Samer                            -0.12  \n",
       "                                 (0.42) \n",
       "R-squared        0.54    0.56    0.71   \n",
       "R-squared Adj.   0.53    0.54    0.67   \n",
       "No. observations 64      64      64     \n",
       "========================================\n",
       "Standard errors in parentheses.\n",
       "* p<.1, ** p<.05, ***p<.01\n",
       "\"\"\""
      ]
     },
     "execution_count": 23,
     "metadata": {},
     "output_type": "execute_result"
    }
   ],
   "source": [
    "info_dict={'No. observations' : lambda x: f\"{int(x.nobs):d}\"}\n",
    "\n",
    "results_table = summary_col(results=[reg1,reg2,reg3],\n",
    "                            float_format='%0.2f',\n",
    "                            stars = True,\n",
    "                            model_names=['Model 1','Model 2','Model 3'],\n",
    "                            info_dict=info_dict,\n",
    "                            regressor_order=['const','Exprop','Latitude','Latitude2'])\n",
    "results_table"
   ]
  },
  {
   "cell_type": "markdown",
   "metadata": {},
   "source": [
    "### 4. Endogeneidade\n",
    "\n",
    "Conforme discutido por [AJR01], os modelos estimados por Mínimos Quadrados Ordinários (MQO/OLS) sofrem potencialmente de **problemas de endogeneidade**, resultando em estimativas viesadas e inconsistentes.\n",
    "\n",
    "Os autores utilizam a estratégia de **variáveis instrumentais (IV)** principalmente para lidar com **viés de variável omitida**, ou seja, *confounding* devido a fatores **não observáveis**.\n",
    "\n",
    "> A preocupação central é que as **instituições contemporâneas** (como o grau de proteção aos direitos de propriedade) podem estar correlacionadas com **fatores históricos, culturais ou geográficos não observáveis**, os quais também influenciam o desempenho econômico atual. Isso gera endogeneidade no modelo e compromete a interpretação causal de uma regressão simples entre instituições e desenvolvimento.\n",
    "\n",
    "Algumas fontes possíveis dessa endogeneidade incluem:\n",
    "\n",
    "- Países mais ricos podem ter maior capacidade (ou preferência) por adotar instituições melhores;\n",
    "- Fatores que afetam a renda também podem estar correlacionados com a qualidade institucional;\n",
    "- A própria construção do índice de instituições pode conter viés: analistas podem avaliar de forma mais favorável países mais ricos.\n",
    "\n",
    "Para lidar com esse problema, os autores utilizam o método de **Instrumental Variables (IV)**, que envolve a utilização de uma variável instrumental para isolar a variação exógena na variável endógena (neste caso, as instituições). O estimador é conhecido como **Two-Stage Least Squares (2SLS)**, ou **Mínimos Quadrados em Dois Estágios (2SLS)**, o qual pode ser entendido como uma extensão da regressão MQO que permite isolar a variação exógena de uma variável endógena.\n",
    "\n",
    "Essa abordagem exige um **instrumento válido** e **relevante** para a variável endógena, ou seja, uma variável que:\n",
    "\n",
    "1. Seja **exógena**: Não seja correlacionada com o termo de erro $ u_i $ (exogeneidade, validade do instrumento).\n",
    "   * $\\text{Cov}(Z_i, u_i) = 0$ (não correlacionada com o erro do modelo);\n",
    "2. Seja **correlacionada com $Exprop_i$** (primeiro estágio); ***NÃO afete diretamente*** $GDP_i$ ($Y$),\n",
    "   * $\\text{Cov}(Z_i, Exprop_i) \\neq 0$ (correlacionada com a variável endógena);\n",
    "\n",
    "\n",
    "**Modelagem**\n",
    "\n",
    "***Segundo Estágio (equação estrutural - o que queremos estimar):***\n",
    "\n",
    "$$\n",
    "GDP_{i} = \\beta_0 + \\beta_1 \\cdot Exprop_i + u_i\n",
    "$$\n",
    "\n",
    "**Primeiro Estágio (instrumentação):**\n",
    "$$\n",
    "Exprop_i = \\pi_0 + \\pi_1 \\cdot \\log(Mortality_i) + v_i\n",
    "$$\n",
    "\n",
    "Neste contexto, $ Z_{i} = \\log(Mortality_i) $ — a mortalidade de colonizadores europeus — é usada como **instrumento para a variável endógena $ Exprop_i $** (índice de proteção contra expropriação - Medida de nível Institucional).\n",
    "\n",
    "A principal contribuição de [AJR01] é justamente a utilização de **taxas históricas de mortalidade de colonizadores** como instrumento para a qualidade institucional.\n",
    "\n",
    "> A hipótese dos autores é que altas taxas de mortalidade levaram à instalação de **instituições extrativas** (com baixa proteção à propriedade), enquanto baixas taxas favoreceram **instituições inclusivas**. Essas instituições persistiram ao longo do tempo e influenciam o desempenho econômico atual.\n"
   ]
  },
  {
   "cell_type": "markdown",
   "metadata": {},
   "source": [
    "Vejamos se há uma relação gráfica entre a mortalidade e o índice de proteção contra a expropriação."
   ]
  },
  {
   "cell_type": "code",
   "execution_count": null,
   "metadata": {},
   "outputs": [
    {
     "data": {
      "image/png": "[encoded data removed]",
      "text/plain": [
       "<Figure size 800x400 with 1 Axes>"
      ]
     },
     "metadata": {},
     "output_type": "display_data"
    }
   ],
   "source": [
    "X = df['logMort']\n",
    "y = df['Exprop']\n",
    "\n",
    "# Init figure\n",
    "fig, ax = plt.subplots(1,1)\n",
    "ax.set_title('Figure 3: First-stage')\n",
    "# Fit a linear trend line\n",
    "sns.regplot(x=X, y=y, ax=ax, order=1, scatter=True, ci=None, line_kws={\"color\": \"r\"})\n",
    "ax.set_xlim([1.8,8.4])\n",
    "ax.set_ylim([3.3,10.4])\n",
    "ax.set_xlabel('Log of Settler Mortality')\n",
    "ax.set_ylabel('Average Expropriation Risk 1985-95');"
   ]
  },
  {
   "cell_type": "markdown",
   "metadata": {},
   "source": [
    "***Possível crítica ao instrumento***\n",
    "\n",
    "* A segunda condição pode não ser satisfeita se as taxas de mortalidade dos colonos nos séculos XVII a XIX tiverem um efeito direto no PIB atual (além de seu efeito indireto por meio de instituições).\n",
    "  * Por exemplo, as taxas de mortalidade de colonos podem estar relacionadas ao ambiente atual de doenças em um país, o que pode afetar o desempenho econômico atual.\n",
    "\n",
    "Os autores argumentam que isso é improvável porque:\n",
    "\n",
    "* A maioria das mortes de colonos foi causada por malária e febre amarela e teve efeito limitado sobre a população local. A carga de doenças sobre populações locais na África ou na Índia, por exemplo, não pareceu ser maior que a média, apoiada por densidades populacionais relativamente altas nessas áreas antes da colonização.\n",
    "\n",
    "Assim, parece que temos um instrumento válido. Logo, podemos usar a regressão 2SLS para obter estimativas de parâmetros não viesados, e consistentes."
   ]
  },
  {
   "cell_type": "markdown",
   "metadata": {},
   "source": [
    "### 5. Primeio Estágio\n",
    "\n",
    "Vamos trabalhar as duas etapas do estimador 2SLS.\n",
    "\n",
    "A primeira etapa envolve a regressão da variável endógena ($Exprop_i$) no instrumento.\n",
    "\n",
    "Tecnicamente, a matriz $Z_{i}$ é composta por todas as variáveis exógenas em nosso modelo, incluindo o instrumento e outras variáveis que não são endógenas. Portanto, a matriz $Z_{i}$ é a matriz de variáveis instrumentais (IV) e variáveis exógenas (X).\n",
    "\n",
    "Entretanto, no caso desse exemplo, nossa matriz instrumental ($Z_{i}$) é simplesmente uma constante na primeira coluna e a taxas de mortalidade de colonos $logMort_i$ na segunda coluna.\n",
    "\n",
    "Portanto, estimaremos a regressão do primeiro estágio como:\n",
    "\n",
    "$$ Exprop_i = \\pi_0 + \\pi_1 logMort_{i} + v_i $$\n",
    "\n",
    "\n",
    "\n"
   ]
  },
  {
   "cell_type": "code",
   "execution_count": 25,
   "metadata": {},
   "outputs": [
    {
     "data": {
      "text/html": [
       "<table class=\"simpletable\">\n",
       "<caption>OLS Regression Results</caption>\n",
       "<tr>\n",
       "  <th>Dep. Variable:</th>         <td>Exprop</td>      <th>  R-squared:         </th> <td>   0.274</td>\n",
       "</tr>\n",
       "<tr>\n",
       "  <th>Model:</th>                   <td>OLS</td>       <th>  Adj. R-squared:    </th> <td>   0.262</td>\n",
       "</tr>\n",
       "<tr>\n",
       "  <th>Method:</th>             <td>Least Squares</td>  <th>  F-statistic:       </th> <td>   23.34</td>\n",
       "</tr>\n",
       "<tr>\n",
       "  <th>Date:</th>             <td>qua, 07 mai 2025</td> <th>  Prob (F-statistic):</th> <td>9.27e-06</td>\n",
       "</tr>\n",
       "<tr>\n",
       "  <th>Time:</th>                 <td>13:31:49</td>     <th>  Log-Likelihood:    </th> <td> -104.69</td>\n",
       "</tr>\n",
       "<tr>\n",
       "  <th>No. Observations:</th>      <td>    64</td>      <th>  AIC:               </th> <td>   213.4</td>\n",
       "</tr>\n",
       "<tr>\n",
       "  <th>Df Residuals:</th>          <td>    62</td>      <th>  BIC:               </th> <td>   217.7</td>\n",
       "</tr>\n",
       "<tr>\n",
       "  <th>Df Model:</th>              <td>     1</td>      <th>                     </th>     <td> </td>   \n",
       "</tr>\n",
       "<tr>\n",
       "  <th>Covariance Type:</th>      <td>nonrobust</td>    <th>                     </th>     <td> </td>   \n",
       "</tr>\n",
       "</table>\n",
       "<table class=\"simpletable\">\n",
       "<tr>\n",
       "      <td></td>         <th>coef</th>     <th>std err</th>      <th>t</th>      <th>P>|t|</th>  <th>[0.025</th>    <th>0.975]</th>  \n",
       "</tr>\n",
       "<tr>\n",
       "  <th>Intercept</th> <td>    9.3659</td> <td>    0.611</td> <td>   15.339</td> <td> 0.000</td> <td>    8.145</td> <td>   10.586</td>\n",
       "</tr>\n",
       "<tr>\n",
       "  <th>logMort</th>   <td>   -0.6133</td> <td>    0.127</td> <td>   -4.831</td> <td> 0.000</td> <td>   -0.867</td> <td>   -0.360</td>\n",
       "</tr>\n",
       "</table>\n",
       "<table class=\"simpletable\">\n",
       "<tr>\n",
       "  <th>Omnibus:</th>       <td> 0.047</td> <th>  Durbin-Watson:     </th> <td>   1.592</td>\n",
       "</tr>\n",
       "<tr>\n",
       "  <th>Prob(Omnibus):</th> <td> 0.977</td> <th>  Jarque-Bera (JB):  </th> <td>   0.154</td>\n",
       "</tr>\n",
       "<tr>\n",
       "  <th>Skew:</th>          <td> 0.060</td> <th>  Prob(JB):          </th> <td>   0.926</td>\n",
       "</tr>\n",
       "<tr>\n",
       "  <th>Kurtosis:</th>      <td> 2.792</td> <th>  Cond. No.          </th> <td>    19.4</td>\n",
       "</tr>\n",
       "</table><br/><br/>Notes:<br/>[1] Standard Errors assume that the covariance matrix of the errors is correctly specified."
      ],
      "text/plain": [
       "<class 'statsmodels.iolib.summary.Summary'>\n",
       "\"\"\"\n",
       "                            OLS Regression Results                            \n",
       "==============================================================================\n",
       "Dep. Variable:                 Exprop   R-squared:                       0.274\n",
       "Model:                            OLS   Adj. R-squared:                  0.262\n",
       "Method:                 Least Squares   F-statistic:                     23.34\n",
       "Date:                qua, 07 mai 2025   Prob (F-statistic):           9.27e-06\n",
       "Time:                        13:31:49   Log-Likelihood:                -104.69\n",
       "No. Observations:                  64   AIC:                             213.4\n",
       "Df Residuals:                      62   BIC:                             217.7\n",
       "Df Model:                           1                                         \n",
       "Covariance Type:            nonrobust                                         \n",
       "==============================================================================\n",
       "                 coef    std err          t      P>|t|      [0.025      0.975]\n",
       "------------------------------------------------------------------------------\n",
       "Intercept      9.3659      0.611     15.339      0.000       8.145      10.586\n",
       "logMort       -0.6133      0.127     -4.831      0.000      -0.867      -0.360\n",
       "==============================================================================\n",
       "Omnibus:                        0.047   Durbin-Watson:                   1.592\n",
       "Prob(Omnibus):                  0.977   Jarque-Bera (JB):                0.154\n",
       "Skew:                           0.060   Prob(JB):                        0.926\n",
       "Kurtosis:                       2.792   Cond. No.                         19.4\n",
       "==============================================================================\n",
       "\n",
       "Notes:\n",
       "[1] Standard Errors assume that the covariance matrix of the errors is correctly specified.\n",
       "\"\"\""
      ]
     },
     "execution_count": 25,
     "metadata": {},
     "output_type": "execute_result"
    }
   ],
   "source": [
    "# First stage\n",
    "results_fs = sm.OLS.from_formula('Exprop ~ logMort', df).fit()\n",
    "results_fs.summary()"
   ]
  },
  {
   "cell_type": "markdown",
   "metadata": {},
   "source": [
    "***E o instrumento é forte?***\n",
    "\n",
    "Para testar isso, fazemos o **Teste F sobre os intrumentos excluídos** (no primeiro estágio da regressão)."
   ]
  },
  {
   "cell_type": "code",
   "execution_count": 27,
   "metadata": {},
   "outputs": [
    {
     "name": "stdout",
     "output_type": "stream",
     "text": [
      "<F test: F=23.341328052062696, p=9.272862612030776e-06, df_denom=62, df_num=1>\n"
     ]
    }
   ],
   "source": [
    "print(results_fs.f_test(['logMort']))"
   ]
  },
  {
   "cell_type": "markdown",
   "metadata": {},
   "source": [
    "Consideramos os instrumentos fortes porque cumpre a \"regra de dedo\" (F>10).\n",
    "\n",
    "\n",
    "***E a validade do instrumento?***\n",
    "\n",
    "No caso de apenas um único instrumento (exatamente identificado), não há teste estatístico para a validade do instrumento. A validade deve ser discutida com base em argumentos teóricos (argumentativos). Para o caso de mais de um instrumento, podemos usar o teste de sobreidentificação de Sargan-Hansen (ver mais adiante)."
   ]
  },
  {
   "cell_type": "markdown",
   "metadata": {},
   "source": [
    "### 6. Segundo Estágio\n"
   ]
  },
  {
   "cell_type": "markdown",
   "metadata": {},
   "source": [
    "Precisamos recuperar os valores previstos de primeiro estágio usando o `.predict()`. Posteriormente, esses valores previstos serão usados como a variável endógena em nosso segundo estágio. \n",
    "\n",
    "Ou seja, substituímos então a variável endógena $Exprop_i$ pelos valores previstos $\\hat{Exprop}_i$ no modelo linear estrutural.\n",
    "\n",
    "Nossa regressão de segundo estágio é assim definida:\n",
    "\n",
    "$$ GDP_{i} = \\beta_0 + \\beta_1 \\hat{Exprop}_i + u_i $$\n",
    "\n"
   ]
  },
  {
   "cell_type": "code",
   "execution_count": 26,
   "metadata": {},
   "outputs": [
    {
     "data": {
      "text/html": [
       "<table class=\"simpletable\">\n",
       "<caption>OLS Regression Results</caption>\n",
       "<tr>\n",
       "  <th>Dep. Variable:</th>           <td>GDP</td>       <th>  R-squared:         </th> <td>   0.462</td>\n",
       "</tr>\n",
       "<tr>\n",
       "  <th>Model:</th>                   <td>OLS</td>       <th>  Adj. R-squared:    </th> <td>   0.453</td>\n",
       "</tr>\n",
       "<tr>\n",
       "  <th>Method:</th>             <td>Least Squares</td>  <th>  F-statistic:       </th> <td>   53.24</td>\n",
       "</tr>\n",
       "<tr>\n",
       "  <th>Date:</th>             <td>qua, 07 mai 2025</td> <th>  Prob (F-statistic):</th> <td>6.58e-10</td>\n",
       "</tr>\n",
       "<tr>\n",
       "  <th>Time:</th>                 <td>13:31:52</td>     <th>  Log-Likelihood:    </th> <td> -73.208</td>\n",
       "</tr>\n",
       "<tr>\n",
       "  <th>No. Observations:</th>      <td>    64</td>      <th>  AIC:               </th> <td>   150.4</td>\n",
       "</tr>\n",
       "<tr>\n",
       "  <th>Df Residuals:</th>          <td>    62</td>      <th>  BIC:               </th> <td>   154.7</td>\n",
       "</tr>\n",
       "<tr>\n",
       "  <th>Df Model:</th>              <td>     1</td>      <th>                     </th>     <td> </td>   \n",
       "</tr>\n",
       "<tr>\n",
       "  <th>Covariance Type:</th>      <td>nonrobust</td>    <th>                     </th>     <td> </td>   \n",
       "</tr>\n",
       "</table>\n",
       "<table class=\"simpletable\">\n",
       "<tr>\n",
       "          <td></td>            <th>coef</th>     <th>std err</th>      <th>t</th>      <th>P>|t|</th>  <th>[0.025</th>    <th>0.975]</th>  \n",
       "</tr>\n",
       "<tr>\n",
       "  <th>Intercept</th>        <td>    2.0448</td> <td>    0.830</td> <td>    2.463</td> <td> 0.017</td> <td>    0.385</td> <td>    3.705</td>\n",
       "</tr>\n",
       "<tr>\n",
       "  <th>predicted_Exprop</th> <td>    0.9235</td> <td>    0.127</td> <td>    7.297</td> <td> 0.000</td> <td>    0.671</td> <td>    1.177</td>\n",
       "</tr>\n",
       "</table>\n",
       "<table class=\"simpletable\">\n",
       "<tr>\n",
       "  <th>Omnibus:</th>       <td>10.463</td> <th>  Durbin-Watson:     </th> <td>   2.052</td>\n",
       "</tr>\n",
       "<tr>\n",
       "  <th>Prob(Omnibus):</th> <td> 0.005</td> <th>  Jarque-Bera (JB):  </th> <td>  10.693</td>\n",
       "</tr>\n",
       "<tr>\n",
       "  <th>Skew:</th>          <td>-0.806</td> <th>  Prob(JB):          </th> <td> 0.00476</td>\n",
       "</tr>\n",
       "<tr>\n",
       "  <th>Kurtosis:</th>      <td> 4.188</td> <th>  Cond. No.          </th> <td>    57.8</td>\n",
       "</tr>\n",
       "</table><br/><br/>Notes:<br/>[1] Standard Errors assume that the covariance matrix of the errors is correctly specified."
      ],
      "text/plain": [
       "<class 'statsmodels.iolib.summary.Summary'>\n",
       "\"\"\"\n",
       "                            OLS Regression Results                            \n",
       "==============================================================================\n",
       "Dep. Variable:                    GDP   R-squared:                       0.462\n",
       "Model:                            OLS   Adj. R-squared:                  0.453\n",
       "Method:                 Least Squares   F-statistic:                     53.24\n",
       "Date:                qua, 07 mai 2025   Prob (F-statistic):           6.58e-10\n",
       "Time:                        13:31:52   Log-Likelihood:                -73.208\n",
       "No. Observations:                  64   AIC:                             150.4\n",
       "Df Residuals:                      62   BIC:                             154.7\n",
       "Df Model:                           1                                         \n",
       "Covariance Type:            nonrobust                                         \n",
       "====================================================================================\n",
       "                       coef    std err          t      P>|t|      [0.025      0.975]\n",
       "------------------------------------------------------------------------------------\n",
       "Intercept            2.0448      0.830      2.463      0.017       0.385       3.705\n",
       "predicted_Exprop     0.9235      0.127      7.297      0.000       0.671       1.177\n",
       "==============================================================================\n",
       "Omnibus:                       10.463   Durbin-Watson:                   2.052\n",
       "Prob(Omnibus):                  0.005   Jarque-Bera (JB):               10.693\n",
       "Skew:                          -0.806   Prob(JB):                      0.00476\n",
       "Kurtosis:                       4.188   Cond. No.                         57.8\n",
       "==============================================================================\n",
       "\n",
       "Notes:\n",
       "[1] Standard Errors assume that the covariance matrix of the errors is correctly specified.\n",
       "\"\"\""
      ]
     },
     "execution_count": 26,
     "metadata": {},
     "output_type": "execute_result"
    }
   ],
   "source": [
    "df['predicted_Exprop'] = results_fs.predict()\n",
    "\n",
    "# Second stage\n",
    "results_ss = sm.OLS.from_formula('GDP ~ predicted_Exprop', df).fit()\n",
    "\n",
    "# Print\n",
    "results_ss.summary()"
   ]
  },
  {
   "cell_type": "markdown",
   "metadata": {},
   "source": [
    "Os resultados da regressão do segundo estágio nos fornecem uma estimativa não viesada e consistente do efeito das instituições nos resultados econômicos.\n",
    "\n",
    "O resultado sugere uma relação positiva mais forte do que os resultados do OLS indicaram.\n",
    "\n",
    "Observe que, embora nossas estimativas de parâmetros estejam corretas, nossos erros padrão não estão e, por esse motivo, não é recomendado calcular 2SLS 'manualmente' (em etapas com OLS).\n",
    "\n",
    "Podemos estimar corretamente uma regressão 2SLS em uma etapa usando o pacote `linearmodels` , uma extensão do `statsmodels`\n",
    "\n",
    "Observe que ao usar IV2SLS, as variáveis ​​exógenas e de instrumento são divididas nos argumentos da função (enquanto antes o instrumento incluía variáveis ​​exógenas)"
   ]
  },
  {
   "cell_type": "code",
   "execution_count": 65,
   "metadata": {},
   "outputs": [
    {
     "data": {
      "text/html": [
       "<table class=\"simpletable\">\n",
       "<caption>IV-2SLS Estimation Summary</caption>\n",
       "<tr>\n",
       "  <th>Dep. Variable:</th>           <td>GDP</td>       <th>  R-squared:         </th> <td>0.2205</td> \n",
       "</tr>\n",
       "<tr>\n",
       "  <th>Estimator:</th>             <td>IV-2SLS</td>     <th>  Adj. R-squared:    </th> <td>0.2079</td> \n",
       "</tr>\n",
       "<tr>\n",
       "  <th>No. Observations:</th>        <td>64</td>        <th>  F-statistic:       </th> <td>29.811</td> \n",
       "</tr>\n",
       "<tr>\n",
       "  <th>Date:</th>             <td>qua, mai 07 2025</td> <th>  P-value (F-stat)   </th> <td>0.0000</td> \n",
       "</tr>\n",
       "<tr>\n",
       "  <th>Time:</th>                 <td>10:57:24</td>     <th>  Distribution:      </th> <td>chi2(1)</td>\n",
       "</tr>\n",
       "<tr>\n",
       "  <th>Cov. Estimator:</th>        <td>robust</td>      <th>                     </th>    <td></td>    \n",
       "</tr>\n",
       "<tr>\n",
       "  <th></th>                          <td></td>         <th>                     </th>    <td></td>    \n",
       "</tr>\n",
       "</table>\n",
       "<table class=\"simpletable\">\n",
       "<caption>Parameter Estimates</caption>\n",
       "<tr>\n",
       "     <td></td>    <th>Parameter</th> <th>Std. Err.</th> <th>T-stat</th> <th>P-value</th> <th>Lower CI</th> <th>Upper CI</th>\n",
       "</tr>\n",
       "<tr>\n",
       "  <th>const</th>   <td>2.0448</td>    <td>1.1273</td>   <td>1.8139</td> <td>0.0697</td>   <td>-0.1647</td>  <td>4.2542</td> \n",
       "</tr>\n",
       "<tr>\n",
       "  <th>Exprop</th>  <td>0.9235</td>    <td>0.1691</td>   <td>5.4599</td> <td>0.0000</td>   <td>0.5920</td>   <td>1.2550</td> \n",
       "</tr>\n",
       "</table><br/><br/>Endogenous: Exprop<br/>Instruments: logMort<br/>Robust Covariance (Heteroskedastic)<br/>Debiased: False"
      ],
      "text/plain": [
       "<class 'linearmodels.compat.statsmodels.Summary'>\n",
       "\"\"\"\n",
       "                          IV-2SLS Estimation Summary                          \n",
       "==============================================================================\n",
       "Dep. Variable:                    GDP   R-squared:                      0.2205\n",
       "Estimator:                    IV-2SLS   Adj. R-squared:                 0.2079\n",
       "No. Observations:                  64   F-statistic:                    29.811\n",
       "Date:                qua, mai 07 2025   P-value (F-stat)                0.0000\n",
       "Time:                        10:57:24   Distribution:                  chi2(1)\n",
       "Cov. Estimator:                robust                                         \n",
       "                                                                              \n",
       "                             Parameter Estimates                              \n",
       "==============================================================================\n",
       "            Parameter  Std. Err.     T-stat    P-value    Lower CI    Upper CI\n",
       "------------------------------------------------------------------------------\n",
       "const          2.0448     1.1273     1.8139     0.0697     -0.1647      4.2542\n",
       "Exprop         0.9235     0.1691     5.4599     0.0000      0.5920      1.2550\n",
       "==============================================================================\n",
       "\n",
       "Endogenous: Exprop\n",
       "Instruments: logMort\n",
       "Robust Covariance (Heteroskedastic)\n",
       "Debiased: False\n",
       "\"\"\""
      ]
     },
     "execution_count": 65,
     "metadata": {},
     "output_type": "execute_result"
    }
   ],
   "source": [
    "# IV regression\n",
    "iv = IV2SLS(dependent=df['GDP'], exog=df['const'], endog=df['Exprop'], instruments=df['logMort']).fit()\n",
    "# Print\n",
    "iv.summary"
   ]
  },
  {
   "cell_type": "code",
   "execution_count": 68,
   "metadata": {},
   "outputs": [
    {
     "data": {
      "text/html": [
       "<table class=\"simpletable\">\n",
       "<caption>IV-2SLS Estimation Summary</caption>\n",
       "<tr>\n",
       "  <th>Dep. Variable:</th>           <td>GDP</td>       <th>  R-squared:         </th> <td>0.2205</td> \n",
       "</tr>\n",
       "<tr>\n",
       "  <th>Estimator:</th>             <td>IV-2SLS</td>     <th>  Adj. R-squared:    </th> <td>0.2079</td> \n",
       "</tr>\n",
       "<tr>\n",
       "  <th>No. Observations:</th>        <td>64</td>        <th>  F-statistic:       </th> <td>29.811</td> \n",
       "</tr>\n",
       "<tr>\n",
       "  <th>Date:</th>             <td>qua, mai 07 2025</td> <th>  P-value (F-stat)   </th> <td>0.0000</td> \n",
       "</tr>\n",
       "<tr>\n",
       "  <th>Time:</th>                 <td>10:58:25</td>     <th>  Distribution:      </th> <td>chi2(1)</td>\n",
       "</tr>\n",
       "<tr>\n",
       "  <th>Cov. Estimator:</th>        <td>robust</td>      <th>                     </th>    <td></td>    \n",
       "</tr>\n",
       "<tr>\n",
       "  <th></th>                          <td></td>         <th>                     </th>    <td></td>    \n",
       "</tr>\n",
       "</table>\n",
       "<table class=\"simpletable\">\n",
       "<caption>Parameter Estimates</caption>\n",
       "<tr>\n",
       "      <td></td>      <th>Parameter</th> <th>Std. Err.</th> <th>T-stat</th> <th>P-value</th> <th>Lower CI</th> <th>Upper CI</th>\n",
       "</tr>\n",
       "<tr>\n",
       "  <th>Intercept</th>  <td>2.0448</td>    <td>1.1273</td>   <td>1.8139</td> <td>0.0697</td>   <td>-0.1647</td>  <td>4.2542</td> \n",
       "</tr>\n",
       "<tr>\n",
       "  <th>Exprop</th>     <td>0.9235</td>    <td>0.1691</td>   <td>5.4599</td> <td>0.0000</td>   <td>0.5920</td>   <td>1.2550</td> \n",
       "</tr>\n",
       "</table><br/><br/>Endogenous: Exprop<br/>Instruments: logMort<br/>Robust Covariance (Heteroskedastic)<br/>Debiased: False<br/>id: 0x1d020dd3d90"
      ],
      "text/plain": [
       "                          IV-2SLS Estimation Summary                          \n",
       "==============================================================================\n",
       "Dep. Variable:                    GDP   R-squared:                      0.2205\n",
       "Estimator:                    IV-2SLS   Adj. R-squared:                 0.2079\n",
       "No. Observations:                  64   F-statistic:                    29.811\n",
       "Date:                qua, mai 07 2025   P-value (F-stat)                0.0000\n",
       "Time:                        10:58:25   Distribution:                  chi2(1)\n",
       "Cov. Estimator:                robust                                         \n",
       "                                                                              \n",
       "                             Parameter Estimates                              \n",
       "==============================================================================\n",
       "            Parameter  Std. Err.     T-stat    P-value    Lower CI    Upper CI\n",
       "------------------------------------------------------------------------------\n",
       "Intercept      2.0448     1.1273     1.8139     0.0697     -0.1647      4.2542\n",
       "Exprop         0.9235     0.1691     5.4599     0.0000      0.5920      1.2550\n",
       "==============================================================================\n",
       "\n",
       "Endogenous: Exprop\n",
       "Instruments: logMort\n",
       "Robust Covariance (Heteroskedastic)\n",
       "Debiased: False\n",
       "IVResults, id: 0x1d020dd3d90"
      ]
     },
     "execution_count": 68,
     "metadata": {},
     "output_type": "execute_result"
    }
   ],
   "source": [
    "# IV regression\n",
    "iv2 = IV2SLS.from_formula('GDP ~ 1 + [Exprop ~ logMort]', df).fit()\n",
    "# Print\n",
    "iv2"
   ]
  },
  {
   "cell_type": "markdown",
   "metadata": {},
   "source": [
    "Dado que agora temos estimativas consistentes e não viesadas, podemos inferir do modelo que estimamos que as diferenças institucionais (decorrentes de instituições criadas durante a colonização) podem ajudar a explicar as diferenças nos níveis de renda entre os países atualmente."
   ]
  },
  {
   "cell_type": "markdown",
   "metadata": {},
   "source": [
    "### 7. Álgebra Matricial\n",
    "\n"
   ]
  },
  {
   "cell_type": "markdown",
   "metadata": {},
   "source": [
    "O parâmetro $\\beta$ OLS também pode ser estimado usando álgebra matricial e `numpy`.\n",
    "\n",
    "A equação linear que queremos estimar é (escrita em forma de matriz)\n",
    "\n",
    "$$ y = X \\beta + u $$\n"
   ]
  },
  {
   "cell_type": "code",
   "execution_count": 30,
   "metadata": {},
   "outputs": [],
   "source": [
    "# Algebra do OLS\n",
    "X = df[['const', 'Exprop']].values\n",
    "Z = df[['const', 'logMort']].values\n",
    "y = df['GDP'].values"
   ]
  },
  {
   "cell_type": "markdown",
   "metadata": {},
   "source": [
    "Para resolver o parâmetro desconhecido $\\beta$, queremos minimizar a soma dos resíduos quadrados\n",
    "\n",
    "$$ \\hat{\\beta} = \\underset{\\beta}{\\text{argmin}} \\sum_{i=1}^{n} \\hat{\\epsilon}`\\hat{\\epsilon}$$\n",
    "\n",
    "\n",
    "Reorganizando a primeira equação e substituindo na segunda equação, podemos escrever $\\beta$ \n",
    "\n",
    "$$ \\hat{\\beta} = \\underset{\\beta}{\\text{argmin}} \\sum_{i=1}^{n} (y - X\\beta)^{´}(y - X\\beta) $$\n",
    "\n",
    "A resolução deste problema de otimização fornece a solução para o $\\beta$ OLS como:\n",
    "\n",
    "$$ \\hat{\\beta} = (X^{´}X)^{-1}X^{´}y $$\n",
    "\n"
   ]
  },
  {
   "cell_type": "code",
   "execution_count": 31,
   "metadata": {},
   "outputs": [
    {
     "name": "stdout",
     "output_type": "stream",
     "text": [
      "[4.66087966 0.52203367]\n"
     ]
    }
   ],
   "source": [
    "# Computar o beta OLS\n",
    "beta_OLS = inv(X.T @ X) @ X.T @ y\n",
    "\n",
    "print(beta_OLS)"
   ]
  },
  {
   "cell_type": "markdown",
   "metadata": {},
   "source": [
    "Como vimos acima, o coeficiente MQO pode sofrer de viés de endogeneidade. \n",
    "\n",
    "A solução vista é através da instrumentalização da taxa média de expropriação prevista com a mortalidade média dos colonos.\n",
    "\n",
    "Se definirmos a mortalidade dos colonos como coluna da matriz de variáveis exógenas $Z$, nosso modelo completo é\n",
    "\n",
    "Defina $Z$ como matriz de instrumentos (com $L$ colunas):\n",
    "\n",
    "$$ Z = [\\mathbf{1}, Z_2] $$\n",
    "\n",
    "onde $Z_2$ inclui, por exemplo, a mortalidade dos colonos.\n",
    "\n",
    "Projete $X$ sobre os instrumentos $Z$:\n",
    "\n",
    "$$ \\hat{X} = P_Z X = Z (Z'Z)^{-1} Z' X $$\n",
    "\n",
    "Essa é a parte de $X$ que pode ser explicada por instrumentos exógenos.\n",
    "\n",
    "\n",
    "Use $\\hat{X}$ na equação da regressão para estimar $\\beta$ via OLS:\n",
    "\n",
    "$$ \\hat{\\beta}_{2SLS} = (\\hat{X}'\\hat{X})^{-1} \\hat{X}' y $$\n",
    "\n",
    "Substituindo $\\hat{X}$:\n",
    "\n",
    "$$ \\hat{\\beta}_{2SLS} = (X'Z(Z'Z)^{-1}Z'X)^{-1} X'Z(Z'Z)^{-1}Z'y $$"
   ]
  },
  {
   "cell_type": "code",
   "execution_count": null,
   "metadata": {},
   "outputs": [
    {
     "name": "stdout",
     "output_type": "stream",
     "text": [
      "[2.0447613  0.92351936]\n"
     ]
    }
   ],
   "source": [
    "# computar beta 2SLS\n",
    "beta_2SLS = inv(X.T @ Z @ inv(Z.T @ Z) @ Z.T @ X) @ X.T @ Z @ inv(Z.T @ Z) @ Z.T @ y\n",
    "print(beta_2SLS)"
   ]
  },
  {
   "cell_type": "markdown",
   "metadata": {},
   "source": [
    "***E se nós utilizásemos o termo ao quadrado da mortalidade dos colonos como um outro instrumento?***\n",
    "\n",
    "Vejamos graficamente se essa ideia faz sentido."
   ]
  },
  {
   "cell_type": "code",
   "execution_count": 33,
   "metadata": {},
   "outputs": [
    {
     "data": {
      "image/png": "[encoded data removed]",
      "text/plain": [
       "<Figure size 800x600 with 1 Axes>"
      ]
     },
     "metadata": {},
     "output_type": "display_data"
    }
   ],
   "source": [
    "X = df['logMort']\n",
    "y = df['Exprop']\n",
    "\n",
    "# Criar gráfico\n",
    "fig, ax = plt.subplots(figsize=(8, 6))\n",
    "ax.set_title('Figure 4: First-stage')\n",
    "\n",
    "# Regressão linear (reta)\n",
    "sns.regplot(x=X, y=y, ax=ax, order=1, scatter=True, ci=None, line_kws={\"color\": \"red\", \"label\": \"Linear fit\"})\n",
    "\n",
    "# Regressão quadrática (curva)\n",
    "sns.regplot(x=X, y=y, ax=ax, order=2, scatter=False, ci=None, line_kws={\"color\": \"blue\"})\n",
    "\n",
    "# Adiciona manualmente a legenda da curva quadrática\n",
    "ax.plot([], [], color='blue', label='Quadratic fit')\n",
    "\n",
    "# Configurações finais\n",
    "ax.set_xlim([1.8, 8.4])\n",
    "ax.set_ylim([3.3, 10.4])\n",
    "ax.set_xlabel('Log of Settler Mortality')\n",
    "ax.set_ylabel('Average Expropriation Risk 1985–95')\n",
    "ax.legend()\n",
    "plt.show()"
   ]
  },
  {
   "cell_type": "markdown",
   "metadata": {},
   "source": [
    "Vamos assumir que a mortalidade dos colonos é uma variável exógena e que o termo ao quadrado da mortalidade dos colonos é um bom instrumento para a variável endógena $Exprop_i$.\n",
    "\n",
    "A possivel explicação para isso é que a mortalidade dos colonos pode afetar a qualidade das instituições de forma não linear, ou seja, o efeito da mortalidade dos colonos sobre as instituições pode aumentar à medida que a mortalidade aumenta."
   ]
  },
  {
   "cell_type": "code",
   "execution_count": 34,
   "metadata": {},
   "outputs": [],
   "source": [
    "df['logMort_2'] = df['logMort']**2"
   ]
  },
  {
   "cell_type": "markdown",
   "metadata": {},
   "source": [
    "Agora a temos mais instrumentos que variáveis endógenas, o que nos leva a um modelo de **Mínimos Quadrados em Dois Estágios com Múltiplos Instrumentos**. E dizemos que temos um modelo **sobreidentificado** (*overidentified*).\n",
    "\n",
    "Vamos ver como isso funciona na prática.\n"
   ]
  },
  {
   "cell_type": "code",
   "execution_count": 37,
   "metadata": {},
   "outputs": [
    {
     "data": {
      "text/html": [
       "<table class=\"simpletable\">\n",
       "<caption>IV-2SLS Estimation Summary</caption>\n",
       "<tr>\n",
       "  <th>Dep. Variable:</th>           <td>GDP</td>       <th>  R-squared:         </th> <td>0.4244</td> \n",
       "</tr>\n",
       "<tr>\n",
       "  <th>Estimator:</th>             <td>IV-2SLS</td>     <th>  Adj. R-squared:    </th> <td>0.4151</td> \n",
       "</tr>\n",
       "<tr>\n",
       "  <th>No. Observations:</th>        <td>64</td>        <th>  F-statistic:       </th> <td>62.728</td> \n",
       "</tr>\n",
       "<tr>\n",
       "  <th>Date:</th>             <td>qua, mai 07 2025</td> <th>  P-value (F-stat)   </th> <td>0.0000</td> \n",
       "</tr>\n",
       "<tr>\n",
       "  <th>Time:</th>                 <td>13:59:54</td>     <th>  Distribution:      </th> <td>chi2(1)</td>\n",
       "</tr>\n",
       "<tr>\n",
       "  <th>Cov. Estimator:</th>        <td>robust</td>      <th>                     </th>    <td></td>    \n",
       "</tr>\n",
       "<tr>\n",
       "  <th></th>                          <td></td>         <th>                     </th>    <td></td>    \n",
       "</tr>\n",
       "</table>\n",
       "<table class=\"simpletable\">\n",
       "<caption>Parameter Estimates</caption>\n",
       "<tr>\n",
       "      <td></td>      <th>Parameter</th> <th>Std. Err.</th> <th>T-stat</th> <th>P-value</th> <th>Lower CI</th> <th>Upper CI</th>\n",
       "</tr>\n",
       "<tr>\n",
       "  <th>Intercept</th>  <td>3.0882</td>    <td>0.6543</td>   <td>4.7199</td> <td>0.0000</td>   <td>1.8058</td>   <td>4.3706</td> \n",
       "</tr>\n",
       "<tr>\n",
       "  <th>Exprop</th>     <td>0.7634</td>    <td>0.0964</td>   <td>7.9201</td> <td>0.0000</td>   <td>0.5745</td>   <td>0.9523</td> \n",
       "</tr>\n",
       "</table><br/><br/>Endogenous: Exprop<br/>Instruments: logMort, logMort_2<br/>Robust Covariance (Heteroskedastic)<br/>Debiased: False<br/>id: 0x1412d45afd0"
      ],
      "text/plain": [
       "                          IV-2SLS Estimation Summary                          \n",
       "==============================================================================\n",
       "Dep. Variable:                    GDP   R-squared:                      0.4244\n",
       "Estimator:                    IV-2SLS   Adj. R-squared:                 0.4151\n",
       "No. Observations:                  64   F-statistic:                    62.728\n",
       "Date:                qua, mai 07 2025   P-value (F-stat)                0.0000\n",
       "Time:                        13:59:54   Distribution:                  chi2(1)\n",
       "Cov. Estimator:                robust                                         \n",
       "                                                                              \n",
       "                             Parameter Estimates                              \n",
       "==============================================================================\n",
       "            Parameter  Std. Err.     T-stat    P-value    Lower CI    Upper CI\n",
       "------------------------------------------------------------------------------\n",
       "Intercept      3.0882     0.6543     4.7199     0.0000      1.8058      4.3706\n",
       "Exprop         0.7634     0.0964     7.9201     0.0000      0.5745      0.9523\n",
       "==============================================================================\n",
       "\n",
       "Endogenous: Exprop\n",
       "Instruments: logMort, logMort_2\n",
       "Robust Covariance (Heteroskedastic)\n",
       "Debiased: False\n",
       "IVResults, id: 0x1412d45afd0"
      ]
     },
     "execution_count": 37,
     "metadata": {},
     "output_type": "execute_result"
    }
   ],
   "source": [
    "# IV regression - formula\n",
    "iv3 = IV2SLS.from_formula('GDP ~ 1 + [Exprop ~ logMort + logMort_2]', df).fit()\n",
    "# Print\n",
    "iv3"
   ]
  },
  {
   "cell_type": "markdown",
   "metadata": {},
   "source": [
    "Algebricamente"
   ]
  },
  {
   "cell_type": "code",
   "execution_count": 39,
   "metadata": {},
   "outputs": [
    {
     "name": "stdout",
     "output_type": "stream",
     "text": [
      "[3.08817432 0.76339075]\n"
     ]
    }
   ],
   "source": [
    "X = df[['const', 'Exprop']].values\n",
    "y = df['GDP'].values\n",
    "\n",
    "# Definir nossa nova matriz Z sobreidentificada\n",
    "Z = df[['const', 'logMort', 'logMort_2']].values\n",
    "\n",
    "# Primeiro estágio: projetar X nos instrumentos Z\n",
    "ZTZ_inv = np.linalg.inv(Z.T @ Z)\n",
    "PZ = Z @ ZTZ_inv @ Z.T   # matriz de projeção P_Z\n",
    "\n",
    "# Segundo estágio: usar a parte exógena de X para estimar beta\n",
    "beta_2sls = np.linalg.inv(X.T @ PZ @ X) @ (X.T @ PZ @ y)\n",
    "\n",
    "print(beta_2sls)"
   ]
  },
  {
   "cell_type": "markdown",
   "metadata": {},
   "source": [
    "Existe uma forma de fazer em apenas uma etapa, mas não é tão simples quanto a forma de duas etapas."
   ]
  },
  {
   "cell_type": "code",
   "execution_count": 41,
   "metadata": {},
   "outputs": [
    {
     "name": "stdout",
     "output_type": "stream",
     "text": [
      "[3.08817432 0.76339075]\n"
     ]
    }
   ],
   "source": [
    "beta_2SLS = inv(X.T @ Z @ inv(Z.T @ Z) @ Z.T @ X) @ (X.T @ Z @ inv(Z.T @ Z) @ Z.T @ y)\n",
    "print(beta_2SLS)"
   ]
  },
  {
   "cell_type": "markdown",
   "metadata": {},
   "source": [
    "### 8. Outros Métodos Relacionados\n",
    "\n",
    "Outros modelos aprofundaram a análise econométrica a fim de buscar eficiência dos estimadores a partir da possibilidade de uso de múltimpos instrumentos. Por exemplo:\n",
    "\n",
    "* GMM (Generalized Method of Moments)\n",
    "  * One-Step GMM\n",
    "  * Two-Step GMM\n",
    "* LIML (Limited Information Maximum Likelihood)\n",
    "\n",
    "***Método Generalizado dos Momentos – GMM***\n",
    "\n",
    "*Lars Peter Hansen (1982)*\n",
    "\n",
    "O método GMM é uma generalização do método IV, que permite a utilização de mais instrumentos que o número de variáveis endógenas. \n",
    "\n",
    "Seja $Z$ o conjunto de variáveis exógenas $(nxL)$, onde $Z=[Z_{1} Z_{2}]$\n",
    "\n",
    "* $Z_{1}$: instrumentos excluídos ($Z_{1}$), elas não estão incluídas diretamente como regressores no modelo estrutural, mas são assumidas como exógenas e correlacionadas com as variáveis endógenas.\n",
    "  * $L_{1}$: número de instrumentos excluídos\n",
    "* $Z_{2}$: ($Z-Z_{1}$) são os instrumentos incluídos - instrumentos incluídos, ou seja, variáveis exógenas que fazem parte dos regressores estruturais (normalmente chamadas de $X$)\n",
    "  * $L_{2}$: número de instrumentos incluídos\n",
    "\n",
    "\n",
    "**condição de identificação**: L maior ou igual a K\n",
    "\n",
    "* L>k sobreidentificada\n",
    "* L=k equação exatamente identificada.\n",
    "\n",
    "**Hipótese GMM1** \n",
    "\n",
    "$$ E[Z_{i},u_{i}]=0 $$\n",
    "\n",
    "A Hipótese GMM1 afirma que os instrumentos são não correlacionados com o termo de erro. Isto é, em média, não há relação sistemática entre os instrumentos e os fatores não observados que afetam a variável dependente.\n",
    "\n",
    "\n",
    "E seja $g(.)$ uma função (linear ou não linear), então,\n",
    "\n",
    "$$ g(\\beta)= Z_{i}'u_{i} = Z_{i}´(Y-X_{i}\\beta) $$\n",
    "\n",
    "considerando a hipótese,\n",
    "\n",
    "$$ E[g_{i}(\\beta)]= E[Z_{i}´u_{i}]=0 $$\n",
    "\n",
    "Considere a seguinte função objetivo:\n",
    "\n",
    "$$ J(\\hat{\\beta})= n\\hat{g}(\\beta)´W\\hat{g}(\\beta) $$\n",
    "\n",
    "O estimador GMM minimiza a função objetivo $J(\\hat{\\beta})$ em relação a $\\beta$, onde $W$ é uma matriz de pesos simétrica positiva definida.\n",
    "\n",
    "$$ \\hat{\\beta}_{GMM}= argmin_{\\hat{\\beta}} J(\\hat{\\beta}) = n\\hat{g}(\\beta)´W\\hat{g}(\\beta) = [Z´(Y-X\\beta)]´W[Z´(Y-X\\beta)]$$\n",
    "\n",
    "$$ \\hat{\\beta}_{GMM} = [Z´(Y-X\\beta)]´W[Z´(Y-X\\beta)]$$\n",
    "\n",
    "\n",
    "Derivando com relação a $\\beta$, temos:\n",
    "\n",
    "$$ \\beta_{GMM}= (X´ZWZ´X)^{-1}X´ZWZ´Y $$\n",
    "\n",
    "O estimador GMM é consistente para qualquer matriz $W$ simétrica positiva-definida. \n",
    "\n",
    "OBS: O estimador GMM lembra alguns estimadores que vimos anteriormente:\n",
    "\n",
    "$$ \\beta_{2SLS}= (X´Z(Z´Z)^{-1}Z´X)^{-1}X´Z(Z´Z)^{-1}Z´Y $$\n",
    "\n",
    "$$ \\beta_{GLS} = (X´\\Omega^{-1}X)^{-1}X´\\Omega^{-1}Y $$\n",
    "\n",
    "Os $\\hat{\\beta_{GMM}}$ são assintoticamente normais, com matriz de variância-covariância dada por:\n",
    "\n",
    "$$ V(\\hat{\\beta}_{GMM}) = (X´ZWZ´X)^{-1}X´ZW \\hat{S} WZ´X(X´ZWZ´X)^{-1} $$\n",
    "\n",
    "E uma estimativa do tipo robusta de White de S é dada por:\n",
    "\n",
    "$$ \\hat{S}= \\frac{1}{n} \\sum Z_{i}´\\hat{u_{i}}\\hat{u_{i}}´Z_{i} $$\n",
    "\n",
    "Temos dois tipos de GMM:\n",
    "* One-step GMM\n",
    "* Two-step GMM\n",
    "\n",
    "**One-step GMM**\n",
    "\n",
    "$$ \\hat{\\beta}_{GMM}= (X´ZWZ´X)^{-1}X´ZWZ´Y $$\n",
    "\n",
    "Assume-se que a matriz de pesos W é conhecida, e dada por $W = (Z´Z)^{-1}$, então o estimador torna-se o 2SLS:\n",
    "\n",
    "$$ \\hat{\\beta}_{1SGMM} = \\hat{\\beta}_{2SLS} = (X´Z(Z´Z)^{-1}Z´X)^{-1}X´Z(Z´Z)^{-1}Z´Y $$\n",
    "\n",
    "**Two-step GMM**\n",
    "\n",
    "É o estimador GMM mais eficiente (com variância mínima), onde assume-se que $W=(\\hat{S})^{-1}$, onde $\\hat{S}$ é uma estimativa robusta de S. Então, o estimador GMM torna-se:\n",
    "\n",
    "$$ \\hat{\\beta}_{2SGMM} = (X´Z\\hat{S}Z´X)^{-1}X´Z\\hat{S}Z´Y $$\n",
    "\n",
    "$$ \\hat{\\beta}_{2SGMM} = (X´Z(Z´\\Omega Z)Z´X)^{-1}X´Z(Z´\\Omega Z)Z´Y $$\n",
    "\n",
    "$$ \\hat{\\beta}_{2SGMM} = (X´Z(Z´uu´ Z)Z´X)^{-1}X´Z(Z´uu´ Z)Z´Y $$\n",
    "\n",
    "É chamado de Two-step GMM porque no primeiro estágio obtem-se os resíduos por 2SLS e compor $\\hat{S}$, e no segundo estágio utiliza-se $\\hat{S}$ para obter o estimador GMM. Também é conhecido como **Feasible Efficient GMM estimator**."
   ]
  },
  {
   "cell_type": "code",
   "execution_count": 42,
   "metadata": {},
   "outputs": [
    {
     "data": {
      "text/html": [
       "<table class=\"simpletable\">\n",
       "<caption>IV-GMM Estimation Summary</caption>\n",
       "<tr>\n",
       "  <th>Dep. Variable:</th>           <td>GDP</td>       <th>  R-squared:         </th> <td>0.2205</td> \n",
       "</tr>\n",
       "<tr>\n",
       "  <th>Estimator:</th>             <td>IV-GMM</td>      <th>  Adj. R-squared:    </th> <td>0.2079</td> \n",
       "</tr>\n",
       "<tr>\n",
       "  <th>No. Observations:</th>        <td>64</td>        <th>  F-statistic:       </th> <td>29.811</td> \n",
       "</tr>\n",
       "<tr>\n",
       "  <th>Date:</th>             <td>qua, mai 07 2025</td> <th>  P-value (F-stat)   </th> <td>0.0000</td> \n",
       "</tr>\n",
       "<tr>\n",
       "  <th>Time:</th>                 <td>14:08:21</td>     <th>  Distribution:      </th> <td>chi2(1)</td>\n",
       "</tr>\n",
       "<tr>\n",
       "  <th>Cov. Estimator:</th>        <td>robust</td>      <th>                     </th>    <td></td>    \n",
       "</tr>\n",
       "<tr>\n",
       "  <th></th>                          <td></td>         <th>                     </th>    <td></td>    \n",
       "</tr>\n",
       "</table>\n",
       "<table class=\"simpletable\">\n",
       "<caption>Parameter Estimates</caption>\n",
       "<tr>\n",
       "      <td></td>      <th>Parameter</th> <th>Std. Err.</th> <th>T-stat</th> <th>P-value</th> <th>Lower CI</th> <th>Upper CI</th>\n",
       "</tr>\n",
       "<tr>\n",
       "  <th>Intercept</th>  <td>2.0448</td>    <td>1.1273</td>   <td>1.8139</td> <td>0.0697</td>   <td>-0.1647</td>  <td>4.2542</td> \n",
       "</tr>\n",
       "<tr>\n",
       "  <th>Exprop</th>     <td>0.9235</td>    <td>0.1691</td>   <td>5.4599</td> <td>0.0000</td>   <td>0.5920</td>   <td>1.2550</td> \n",
       "</tr>\n",
       "</table><br/><br/>Endogenous: Exprop<br/>Instruments: logMort<br/>GMM Covariance<br/>Debiased: False<br/>Robust (Heteroskedastic)<br/>id: 0x1412fd42050"
      ],
      "text/plain": [
       "                          IV-GMM Estimation Summary                           \n",
       "==============================================================================\n",
       "Dep. Variable:                    GDP   R-squared:                      0.2205\n",
       "Estimator:                     IV-GMM   Adj. R-squared:                 0.2079\n",
       "No. Observations:                  64   F-statistic:                    29.811\n",
       "Date:                qua, mai 07 2025   P-value (F-stat)                0.0000\n",
       "Time:                        14:08:21   Distribution:                  chi2(1)\n",
       "Cov. Estimator:                robust                                         \n",
       "                                                                              \n",
       "                             Parameter Estimates                              \n",
       "==============================================================================\n",
       "            Parameter  Std. Err.     T-stat    P-value    Lower CI    Upper CI\n",
       "------------------------------------------------------------------------------\n",
       "Intercept      2.0448     1.1273     1.8139     0.0697     -0.1647      4.2542\n",
       "Exprop         0.9235     0.1691     5.4599     0.0000      0.5920      1.2550\n",
       "==============================================================================\n",
       "\n",
       "Endogenous: Exprop\n",
       "Instruments: logMort\n",
       "GMM Covariance\n",
       "Debiased: False\n",
       "Robust (Heteroskedastic)\n",
       "IVGMMResults, id: 0x1412fd42050"
      ]
     },
     "execution_count": 42,
     "metadata": {},
     "output_type": "execute_result"
    }
   ],
   "source": [
    "# GMM\n",
    "from linearmodels.iv import IVGMM\n",
    "GMM1 = IVGMM.from_formula('GDP ~ 1 + [Exprop ~ logMort]', df).fit()\n",
    "GMM1\n"
   ]
  },
  {
   "cell_type": "code",
   "execution_count": 43,
   "metadata": {},
   "outputs": [
    {
     "data": {
      "text/html": [
       "<table class=\"simpletable\">\n",
       "<caption>IV-GMM Estimation Summary</caption>\n",
       "<tr>\n",
       "  <th>Dep. Variable:</th>           <td>GDP</td>       <th>  R-squared:         </th> <td>0.4655</td> \n",
       "</tr>\n",
       "<tr>\n",
       "  <th>Estimator:</th>             <td>IV-GMM</td>      <th>  Adj. R-squared:    </th> <td>0.4569</td> \n",
       "</tr>\n",
       "<tr>\n",
       "  <th>No. Observations:</th>        <td>64</td>        <th>  F-statistic:       </th> <td>67.394</td> \n",
       "</tr>\n",
       "<tr>\n",
       "  <th>Date:</th>             <td>qua, mai 07 2025</td> <th>  P-value (F-stat)   </th> <td>0.0000</td> \n",
       "</tr>\n",
       "<tr>\n",
       "  <th>Time:</th>                 <td>14:09:47</td>     <th>  Distribution:      </th> <td>chi2(1)</td>\n",
       "</tr>\n",
       "<tr>\n",
       "  <th>Cov. Estimator:</th>        <td>robust</td>      <th>                     </th>    <td></td>    \n",
       "</tr>\n",
       "<tr>\n",
       "  <th></th>                          <td></td>         <th>                     </th>    <td></td>    \n",
       "</tr>\n",
       "</table>\n",
       "<table class=\"simpletable\">\n",
       "<caption>Parameter Estimates</caption>\n",
       "<tr>\n",
       "      <td></td>      <th>Parameter</th> <th>Std. Err.</th> <th>T-stat</th> <th>P-value</th> <th>Lower CI</th> <th>Upper CI</th>\n",
       "</tr>\n",
       "<tr>\n",
       "  <th>Intercept</th>  <td>3.4402</td>    <td>0.5899</td>   <td>5.8322</td> <td>0.0000</td>   <td>2.2841</td>   <td>4.5963</td> \n",
       "</tr>\n",
       "<tr>\n",
       "  <th>Exprop</th>     <td>0.7143</td>    <td>0.0870</td>   <td>8.2094</td> <td>0.0000</td>   <td>0.5438</td>   <td>0.8849</td> \n",
       "</tr>\n",
       "</table><br/><br/>Endogenous: Exprop<br/>Instruments: logMort, logMort_2<br/>GMM Covariance<br/>Debiased: False<br/>Robust (Heteroskedastic)<br/>id: 0x1412fd44b50"
      ],
      "text/plain": [
       "                          IV-GMM Estimation Summary                           \n",
       "==============================================================================\n",
       "Dep. Variable:                    GDP   R-squared:                      0.4655\n",
       "Estimator:                     IV-GMM   Adj. R-squared:                 0.4569\n",
       "No. Observations:                  64   F-statistic:                    67.394\n",
       "Date:                qua, mai 07 2025   P-value (F-stat)                0.0000\n",
       "Time:                        14:09:47   Distribution:                  chi2(1)\n",
       "Cov. Estimator:                robust                                         \n",
       "                                                                              \n",
       "                             Parameter Estimates                              \n",
       "==============================================================================\n",
       "            Parameter  Std. Err.     T-stat    P-value    Lower CI    Upper CI\n",
       "------------------------------------------------------------------------------\n",
       "Intercept      3.4402     0.5899     5.8322     0.0000      2.2841      4.5963\n",
       "Exprop         0.7143     0.0870     8.2094     0.0000      0.5438      0.8849\n",
       "==============================================================================\n",
       "\n",
       "Endogenous: Exprop\n",
       "Instruments: logMort, logMort_2\n",
       "GMM Covariance\n",
       "Debiased: False\n",
       "Robust (Heteroskedastic)\n",
       "IVGMMResults, id: 0x1412fd44b50"
      ]
     },
     "execution_count": 43,
     "metadata": {},
     "output_type": "execute_result"
    }
   ],
   "source": [
    "# Two step  GMM\n",
    "GMM2 = IVGMM.from_formula('GDP ~ 1 + [Exprop ~ logMort + logMort_2]', df).fit()\n",
    "GMM2"
   ]
  },
  {
   "cell_type": "markdown",
   "metadata": {},
   "source": [
    "**Por que utilizamos GMM?**\n",
    "\n",
    "* Se $X = Z$, então o estimador converge para o OLS (GMM -> OLS)\n",
    "* Se o modelo é exatamente identificado, o GMM converve para o IV/2SLS (GMM -> 2SLS)\n",
    "* Para modelos sobreidentificados, o GMM é assintoticamente eficiente, mas se os erros forem homocedásticos, o GMM -> 2SLS.\n",
    "* Se há *heterocedasticidade*, o GMM é mais eficiente que o 2SLS!\n",
    "* Em séries de tempo, com correlação serial no termo de erro, usar GMM é mais eficiente que 2SLS.\n",
    "* É possível perceber fortemente os benefícios do GMM em modelos dinâmicos de dados em painel."
   ]
  },
  {
   "cell_type": "markdown",
   "metadata": {},
   "source": [
    "***LIML (Limited Information Maximum Likelihood)***\n",
    "\n",
    "O estimador LIML é uma alternativa ao 2SLS no contexto de modelos com variáveis instrumentais. Ele é especialmente útil quando há mais de um instrumento (i.e., o modelo é sobreidentificado).\n",
    "\n",
    "* O LIML tende a ser mais eficiente que o 2SLS em amostras pequenas, particularmente quando os instrumentos são fracos, ou seja, pouco correlacionados com as variáveis endógenas.\n",
    "* Em termos assintóticos, o LIML é consistente e equivalente ao estimador GMM ótimo sob certas condições (como homocedasticidade).\n",
    "* No entanto, o LIML é menos sensível à presença de instrumentos fracos do que o 2SLS, o que o torna mais robusto em certas situações práticas.\n",
    "* Quanto à robustez a erros de especificação, é importante observar que:\n",
    "  * O LIML não é imune a erros de especificação (por exemplo, violação de exogeneidade dos instrumentos),\n",
    "  * Mas ele pode apresentar menor viés finite-sample do que o 2SLS, especialmente quando os instrumentos são fracos.\n",
    "  \n",
    "O estimador LIML é definido por:\n",
    "\n",
    "$$ \\hat{\\beta}_{LIML} = \\left( X' (I - \\hat{\\kappa} M_Z) X \\right)^{-1} X' (I - \\hat{\\kappa} M_Z) y $$\n",
    "\n",
    "onde:\n",
    "\n",
    "- $ M_Z = I - Z(Z'Z)^{-1}Z' $ é a **matriz de aniquilação dos instrumentos**, também chamada de **matriz residual de $Z$**;\n",
    "- $ \\hat{\\kappa} $ é um escalar estimado (o \"kappa\" de **Anderson-Rubin**) obtido como a **menor raiz generalizada** do seguinte problema de autovalor:\n",
    "\n",
    "$$ \\det\\left( (Y, X)' M_Z (Y, X) - \\kappa (Y, X)' M_X (Y, X) \\right) = 0 $$\n",
    "\n",
    "com:\n",
    "\n",
    "- $ Y $: variável dependente;\n",
    "- $ X $: matriz de regressores (alguns possivelmente endógenos);\n",
    "- $ M_X = I - X(X'X)^{-1}X' $: matriz de aniquilação de $X$.\n",
    "\n",
    "Essa estrutura torna o LIML mais estável em **amostras pequenas** e em contextos com **instrumentos fracos**, ao contrário do 2SLS, que **não depende** desse fator escalar $ \\hat{\\kappa} $.\n"
   ]
  },
  {
   "cell_type": "code",
   "execution_count": 44,
   "metadata": {},
   "outputs": [
    {
     "data": {
      "text/html": [
       "<table class=\"simpletable\">\n",
       "<caption>IV-LIML Estimation Summary</caption>\n",
       "<tr>\n",
       "  <th>Dep. Variable:</th>           <td>GDP</td>       <th>  R-squared:         </th> <td>0.2205</td> \n",
       "</tr>\n",
       "<tr>\n",
       "  <th>Estimator:</th>             <td>IV-LIML</td>     <th>  Adj. R-squared:    </th> <td>0.2079</td> \n",
       "</tr>\n",
       "<tr>\n",
       "  <th>No. Observations:</th>        <td>64</td>        <th>  F-statistic:       </th> <td>29.811</td> \n",
       "</tr>\n",
       "<tr>\n",
       "  <th>Date:</th>             <td>qua, mai 07 2025</td> <th>  P-value (F-stat)   </th> <td>0.0000</td> \n",
       "</tr>\n",
       "<tr>\n",
       "  <th>Time:</th>                 <td>14:12:28</td>     <th>  Distribution:      </th> <td>chi2(1)</td>\n",
       "</tr>\n",
       "<tr>\n",
       "  <th>Cov. Estimator:</th>        <td>robust</td>      <th>                     </th>    <td></td>    \n",
       "</tr>\n",
       "<tr>\n",
       "  <th></th>                          <td></td>         <th>                     </th>    <td></td>    \n",
       "</tr>\n",
       "</table>\n",
       "<table class=\"simpletable\">\n",
       "<caption>Parameter Estimates</caption>\n",
       "<tr>\n",
       "      <td></td>      <th>Parameter</th> <th>Std. Err.</th> <th>T-stat</th> <th>P-value</th> <th>Lower CI</th> <th>Upper CI</th>\n",
       "</tr>\n",
       "<tr>\n",
       "  <th>Intercept</th>  <td>2.0448</td>    <td>1.1273</td>   <td>1.8139</td> <td>0.0697</td>   <td>-0.1647</td>  <td>4.2542</td> \n",
       "</tr>\n",
       "<tr>\n",
       "  <th>Exprop</th>     <td>0.9235</td>    <td>0.1691</td>   <td>5.4599</td> <td>0.0000</td>   <td>0.5920</td>   <td>1.2550</td> \n",
       "</tr>\n",
       "</table><br/><br/>Endogenous: Exprop<br/>Instruments: logMort<br/>Robust Covariance (Heteroskedastic)<br/>Debiased: False<br/>Kappa: 1.000<br/>id: 0x1412d5466d0"
      ],
      "text/plain": [
       "                          IV-LIML Estimation Summary                          \n",
       "==============================================================================\n",
       "Dep. Variable:                    GDP   R-squared:                      0.2205\n",
       "Estimator:                    IV-LIML   Adj. R-squared:                 0.2079\n",
       "No. Observations:                  64   F-statistic:                    29.811\n",
       "Date:                qua, mai 07 2025   P-value (F-stat)                0.0000\n",
       "Time:                        14:12:28   Distribution:                  chi2(1)\n",
       "Cov. Estimator:                robust                                         \n",
       "                                                                              \n",
       "                             Parameter Estimates                              \n",
       "==============================================================================\n",
       "            Parameter  Std. Err.     T-stat    P-value    Lower CI    Upper CI\n",
       "------------------------------------------------------------------------------\n",
       "Intercept      2.0448     1.1273     1.8139     0.0697     -0.1647      4.2542\n",
       "Exprop         0.9235     0.1691     5.4599     0.0000      0.5920      1.2550\n",
       "==============================================================================\n",
       "\n",
       "Endogenous: Exprop\n",
       "Instruments: logMort\n",
       "Robust Covariance (Heteroskedastic)\n",
       "Debiased: False\n",
       "Kappa: 1.000\n",
       "IVResults, id: 0x1412d5466d0"
      ]
     },
     "execution_count": 44,
     "metadata": {},
     "output_type": "execute_result"
    }
   ],
   "source": [
    "# LIML\n",
    "from linearmodels.iv import IVLIML\n",
    "LIML1 = IVLIML.from_formula('GDP ~ 1 + [Exprop ~ logMort]', df).fit()\n",
    "LIML1"
   ]
  },
  {
   "cell_type": "code",
   "execution_count": 45,
   "metadata": {},
   "outputs": [
    {
     "data": {
      "text/html": [
       "<table class=\"simpletable\">\n",
       "<caption>IV-LIML Estimation Summary</caption>\n",
       "<tr>\n",
       "  <th>Dep. Variable:</th>           <td>GDP</td>       <th>  R-squared:         </th> <td>0.3494</td> \n",
       "</tr>\n",
       "<tr>\n",
       "  <th>Estimator:</th>             <td>IV-LIML</td>     <th>  Adj. R-squared:    </th> <td>0.3389</td> \n",
       "</tr>\n",
       "<tr>\n",
       "  <th>No. Observations:</th>        <td>64</td>        <th>  F-statistic:       </th> <td>42.584</td> \n",
       "</tr>\n",
       "<tr>\n",
       "  <th>Date:</th>             <td>qua, mai 07 2025</td> <th>  P-value (F-stat)   </th> <td>0.0000</td> \n",
       "</tr>\n",
       "<tr>\n",
       "  <th>Time:</th>                 <td>14:12:53</td>     <th>  Distribution:      </th> <td>chi2(1)</td>\n",
       "</tr>\n",
       "<tr>\n",
       "  <th>Cov. Estimator:</th>        <td>robust</td>      <th>                     </th>    <td></td>    \n",
       "</tr>\n",
       "<tr>\n",
       "  <th></th>                          <td></td>         <th>                     </th>    <td></td>    \n",
       "</tr>\n",
       "</table>\n",
       "<table class=\"simpletable\">\n",
       "<caption>Parameter Estimates</caption>\n",
       "<tr>\n",
       "      <td></td>      <th>Parameter</th> <th>Std. Err.</th> <th>T-stat</th> <th>P-value</th> <th>Lower CI</th> <th>Upper CI</th>\n",
       "</tr>\n",
       "<tr>\n",
       "  <th>Intercept</th>  <td>2.6407</td>    <td>0.8531</td>   <td>3.0953</td> <td>0.0020</td>   <td>0.9686</td>   <td>4.3128</td> \n",
       "</tr>\n",
       "<tr>\n",
       "  <th>Exprop</th>     <td>0.8321</td>    <td>0.1275</td>   <td>6.5256</td> <td>0.0000</td>   <td>0.5822</td>   <td>1.0820</td> \n",
       "</tr>\n",
       "</table><br/><br/>Endogenous: Exprop<br/>Instruments: logMort, logMort_2<br/>Robust Covariance (Heteroskedastic)<br/>Debiased: False<br/>Kappa: 1.091<br/>id: 0x1412fda2450"
      ],
      "text/plain": [
       "                          IV-LIML Estimation Summary                          \n",
       "==============================================================================\n",
       "Dep. Variable:                    GDP   R-squared:                      0.3494\n",
       "Estimator:                    IV-LIML   Adj. R-squared:                 0.3389\n",
       "No. Observations:                  64   F-statistic:                    42.584\n",
       "Date:                qua, mai 07 2025   P-value (F-stat)                0.0000\n",
       "Time:                        14:12:53   Distribution:                  chi2(1)\n",
       "Cov. Estimator:                robust                                         \n",
       "                                                                              \n",
       "                             Parameter Estimates                              \n",
       "==============================================================================\n",
       "            Parameter  Std. Err.     T-stat    P-value    Lower CI    Upper CI\n",
       "------------------------------------------------------------------------------\n",
       "Intercept      2.6407     0.8531     3.0953     0.0020      0.9686      4.3128\n",
       "Exprop         0.8321     0.1275     6.5256     0.0000      0.5822      1.0820\n",
       "==============================================================================\n",
       "\n",
       "Endogenous: Exprop\n",
       "Instruments: logMort, logMort_2\n",
       "Robust Covariance (Heteroskedastic)\n",
       "Debiased: False\n",
       "Kappa: 1.091\n",
       "IVResults, id: 0x1412fda2450"
      ]
     },
     "execution_count": 45,
     "metadata": {},
     "output_type": "execute_result"
    }
   ],
   "source": [
    "# LIML 2 instrumentos\n",
    "LIML2 = IVLIML.from_formula('GDP ~ 1 + [Exprop ~ logMort + logMort_2]', df).fit()\n",
    "LIML2"
   ]
  },
  {
   "cell_type": "markdown",
   "metadata": {},
   "source": [
    "### 9. Considerações Finais\n",
    "\n",
    "É importante ressaltar que os modelos vistos até aqui assumem que a relação entre as variáveis é linear. Além disso, a escolha do instrumento deve ser feita com cautela, pois um instrumento inválido pode levar a estimativas viesadas e inconsistentes. Outro ponto muito importante é que estamos partindo do pressuposto de que o efeito causal é homogêneo, ou seja, o efeito do tratamento é o mesmo para todos os indivíduos. Isso pode não ser verdade em muitos casos, e a heterogeneidade dos efeitos do tratamento deve ser considerada na análise."
   ]
  }
 ],
 "metadata": {
  "kernelspec": {
   "display_name": "Python 3",
   "language": "python",
   "name": "python3"
  },
  "language_info": {
   "codemirror_mode": {
    "name": "ipython",
    "version": 3
   },
   "file_extension": ".py",
   "mimetype": "text/x-python",
   "name": "python",
   "nbconvert_exporter": "python",
   "pygments_lexer": "ipython3",
   "version": "3.11.5"
  }
 },
 "nbformat": 4,
 "nbformat_minor": 2
}
