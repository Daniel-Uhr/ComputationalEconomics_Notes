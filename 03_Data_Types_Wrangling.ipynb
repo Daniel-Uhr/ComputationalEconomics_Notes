{
 "cells": [
  {
   "cell_type": "markdown",
   "metadata": {},
   "source": [
    "# Data Types and Data Wrangling\n",
    "\n",
    "Prof. Daniel de Abreu Pereira Uhr\n",
    "\n",
    "### Conteúdo\n",
    "\n",
    "* Data Types\n",
    "  * Dados Numéricos\n",
    "  * Dados de Sequência\n",
    "  * Dados Temporais\n",
    "  * Dados Ausentes\n",
    "* Data Wrangling\n",
    "  * Classificando e Renomeando\n",
    "  * Agregando\n",
    "  * Combinando conjunto de dados\n",
    "  * Remodelando\n",
    "  * Função da Janela\n",
    "\n",
    "\n",
    "### Referências\n",
    "* [Introduction to Statistical Learning](https://www.statlearning.com/) by Gareth James, Daniela Witten, Trevor Hastie and Robert Tibshirani \n",
    "* [Python Data Science Handbook](https://jakevdp.github.io/PythonDataScienceHandbook/) by Jake VanderPlas"
   ]
  },
  {
   "cell_type": "markdown",
   "metadata": {},
   "source": [
    "# Data Types"
   ]
  },
  {
   "cell_type": "markdown",
   "metadata": {},
   "source": [
    "Para o escopo deste tutorial, usaremos dados Scraped do AirBnb para a cidade de Bolonha. Os dados estão disponíveis gratuitamente em Inside AirBnb : http://insideairbnb.com/get-the-data.html .\n",
    "\n",
    "Usaremos 2 conjuntos de dados:\n",
    "\n",
    "* conjunto de dados de listagem: contém informações de nível de listagem\n",
    "* conjunto de dados de preços: contém dados de preços ao longo do tempo"
   ]
  },
  {
   "cell_type": "code",
   "execution_count": 1,
   "metadata": {},
   "outputs": [],
   "source": [
    "import numpy as np\n",
    "import pandas as pd"
   ]
  },
  {
   "cell_type": "code",
   "execution_count": 2,
   "metadata": {},
   "outputs": [],
   "source": [
    "# Import listings data\n",
    "url_listings = \"http://data.insideairbnb.com/italy/emilia-romagna/bologna/2021-12-17/visualisations/listings.csv\"\n",
    "df_listings = pd.read_csv(url_listings)\n",
    "\n",
    "# Import pricing data\n",
    "url_prices = \"http://data.insideairbnb.com/italy/emilia-romagna/bologna/2021-12-17/data/calendar.csv.gz\"\n",
    "df_prices = pd.read_csv(url_prices, compression=\"gzip\")"
   ]
  },
  {
   "cell_type": "markdown",
   "metadata": {},
   "source": [
    "### Dados Numéricos\n",
    "\n",
    "Métodos\n",
    "\n",
    "* +, -, *,/\n",
    "* funções numpy\n",
    "* pd.cut()\n",
    "\n",
    "As operações matemáticas padrão entre colunas são feitas por linha."
   ]
  },
  {
   "cell_type": "code",
   "execution_count": 3,
   "metadata": {},
   "outputs": [
    {
     "data": {
      "text/plain": [
       "0           148\n",
       "1           357\n",
       "2           357\n",
       "3           357\n",
       "4           357\n",
       "           ... \n",
       "1260340    1124\n",
       "1260341    1124\n",
       "1260342    1124\n",
       "1260343    1124\n",
       "1260344    1124\n",
       "Length: 1260345, dtype: int64"
      ]
     },
     "execution_count": 3,
     "metadata": {},
     "output_type": "execute_result"
    }
   ],
   "source": [
    "df_prices['maximum_nights'] - df_prices['minimum_nights']"
   ]
  },
  {
   "cell_type": "markdown",
   "metadata": {},
   "source": [
    "Podemos usar a maioria numpydas operações elemento a elemento em uma única coluna."
   ]
  },
  {
   "cell_type": "code",
   "execution_count": 4,
   "metadata": {},
   "outputs": [
    {
     "data": {
      "text/plain": [
       "0       4.219508\n",
       "1       3.367296\n",
       "2       3.912023\n",
       "3       4.836282\n",
       "4       3.912023\n",
       "          ...   \n",
       "3448    3.465736\n",
       "3449    3.806662\n",
       "3450    3.912023\n",
       "3451    4.897840\n",
       "3452    4.744932\n",
       "Name: price, Length: 3453, dtype: float64"
      ]
     },
     "execution_count": 4,
     "metadata": {},
     "output_type": "execute_result"
    }
   ],
   "source": [
    "np.log(df_listings['price'])"
   ]
  },
  {
   "cell_type": "markdown",
   "metadata": {},
   "source": [
    "Podemos criar variáveis ​​categóricas a partir de uma numérica usando a função `pd.cut()`."
   ]
  },
  {
   "cell_type": "code",
   "execution_count": 5,
   "metadata": {},
   "outputs": [
    {
     "data": {
      "text/plain": [
       "0              ok\n",
       "1           cheap\n",
       "2           cheap\n",
       "3       expensive\n",
       "4           cheap\n",
       "          ...    \n",
       "3448        cheap\n",
       "3449        cheap\n",
       "3450        cheap\n",
       "3451    expensive\n",
       "3452    expensive\n",
       "Name: price, Length: 3453, dtype: category\n",
       "Categories (3, object): ['cheap' < 'ok' < 'expensive']"
      ]
     },
     "execution_count": 5,
     "metadata": {},
     "output_type": "execute_result"
    }
   ],
   "source": [
    "pd.cut(df_listings['price'], \n",
    "       bins = [0, 50, 100, np.inf], \n",
    "       labels=['cheap', 'ok', 'expensive'])"
   ]
  },
  {
   "cell_type": "markdown",
   "metadata": {},
   "source": [
    "### Dados de Sequência\n",
    "\n",
    "Métodos\n",
    "\n",
    "* \"+\"\n",
    "* .str.replace\n",
    "* .str.contains\n",
    "* .astype(str) -pd.get_dummies()\n",
    "\n",
    "Podemos usar o operador `+` entre colunas para fazer acréscimos em pares.\n",
    "\n",
    "Nota: não podemos fazer isso com strings."
   ]
  },
  {
   "cell_type": "code",
   "execution_count": 6,
   "metadata": {},
   "outputs": [
    {
     "data": {
      "text/plain": [
       "0                     CarloSanto Stefano\n",
       "1              EleonoraPorto - Saragozza\n",
       "2                     PaoloSanto Stefano\n",
       "3                Anna MariaSanto Stefano\n",
       "4               ValerioPorto - Saragozza\n",
       "                      ...               \n",
       "3448                        IleanaNavile\n",
       "3449           FernandaPorto - Saragozza\n",
       "3450                        IleanaNavile\n",
       "3451        Wonderful ItalySanto Stefano\n",
       "3452    Wonderful ItalyPorto - Saragozza\n",
       "Length: 3453, dtype: object"
      ]
     },
     "execution_count": 6,
     "metadata": {},
     "output_type": "execute_result"
    }
   ],
   "source": [
    "df_listings['host_name'] + df_listings['neighbourhood']"
   ]
  },
  {
   "cell_type": "markdown",
   "metadata": {},
   "source": [
    "Por exemplo, queremos remover o símbolo de dólar da variável `price` no conjunto de dados `df_prices`."
   ]
  },
  {
   "cell_type": "code",
   "execution_count": 7,
   "metadata": {},
   "outputs": [
    {
     "data": {
      "text/plain": [
       "0           70.00\n",
       "1           68.00\n",
       "2           68.00\n",
       "3           68.00\n",
       "4           68.00\n",
       "            ...  \n",
       "1260340    115.00\n",
       "1260341    115.00\n",
       "1260342    115.00\n",
       "1260343    115.00\n",
       "1260344    115.00\n",
       "Name: price, Length: 1260345, dtype: object"
      ]
     },
     "execution_count": 7,
     "metadata": {},
     "output_type": "execute_result"
    }
   ],
   "source": [
    "df_prices['price'].str.replace('$', '', regex=False)"
   ]
  },
  {
   "cell_type": "markdown",
   "metadata": {},
   "source": [
    "Algumas dessas funções usam expressões regulares.\n",
    "\n",
    "* `match()`: Chame `re.match()` em cada elemento, retornando um booleano.\n",
    "* `extract()`: Chame `re.match()` em cada elemento, retornando grupos correspondentes como strings.\n",
    "* `findall()`: Chame `re.findall()` em cada elemento\n",
    "* `replace()`: Substituir ocorrências de padrão por alguma outra string\n",
    "* `contains()`: Chame `re.search()` em cada elemento, retornando um booleano\n",
    "* `count()`: Contar ocorrências do padrão\n",
    "* `split()`: Equivalente a `str.split()`, mas aceita expressões regulares `rsplit()`\n",
    "\n",
    "Por exemplo, o próximo código verifica se na palavra **centre** ou **center** estão contidos na descrição do texto."
   ]
  },
  {
   "cell_type": "code",
   "execution_count": 8,
   "metadata": {},
   "outputs": [
    {
     "data": {
      "text/plain": [
       "0        True\n",
       "1       False\n",
       "2        True\n",
       "3       False\n",
       "4       False\n",
       "        ...  \n",
       "3448    False\n",
       "3449    False\n",
       "3450    False\n",
       "3451    False\n",
       "3452    False\n",
       "Name: name, Length: 3453, dtype: bool"
      ]
     },
     "execution_count": 8,
     "metadata": {},
     "output_type": "execute_result"
    }
   ],
   "source": [
    "df_listings['name'].str.contains('centre|center')"
   ]
  },
  {
   "cell_type": "markdown",
   "metadata": {},
   "source": [
    "Por fim, podemos (tentar) converter variáveis ​​de string em numéricas usando `astype(float)`."
   ]
  },
  {
   "cell_type": "code",
   "execution_count": 9,
   "metadata": {},
   "outputs": [
    {
     "data": {
      "text/plain": [
       "0           70.0\n",
       "1           68.0\n",
       "2           68.0\n",
       "3           68.0\n",
       "4           68.0\n",
       "           ...  \n",
       "1260340    115.0\n",
       "1260341    115.0\n",
       "1260342    115.0\n",
       "1260343    115.0\n",
       "1260344    115.0\n",
       "Name: price, Length: 1260345, dtype: float64"
      ]
     },
     "execution_count": 9,
     "metadata": {},
     "output_type": "execute_result"
    }
   ],
   "source": [
    "df_prices['price'].str.replace('[$|,]', '', regex=True).astype(float)"
   ]
  },
  {
   "cell_type": "markdown",
   "metadata": {},
   "source": [
    "Também podemos usá-lo para converter números em strings usando `astype(str)`."
   ]
  },
  {
   "cell_type": "code",
   "execution_count": 10,
   "metadata": {},
   "outputs": [
    {
     "data": {
      "text/plain": [
       "0          42196\n",
       "1          46352\n",
       "2          59697\n",
       "3          85368\n",
       "4         145779\n",
       "          ...   \n",
       "3448    53810648\n",
       "3449    53820830\n",
       "3450    53837098\n",
       "3451    53837654\n",
       "3452    53854962\n",
       "Name: id, Length: 3453, dtype: object"
      ]
     },
     "execution_count": 10,
     "metadata": {},
     "output_type": "execute_result"
    }
   ],
   "source": [
    "df_listings['id'].astype(str)"
   ]
  },
  {
   "cell_type": "markdown",
   "metadata": {},
   "source": [
    "Podemos gerar dummies a partir de uma variável categórica usando `pd.get_dummies()`."
   ]
  },
  {
   "cell_type": "code",
   "execution_count": 11,
   "metadata": {},
   "outputs": [
    {
     "data": {
      "application/vnd.microsoft.datawrangler.viewer.v0+json": {
       "columns": [
        {
         "name": "index",
         "rawType": "int64",
         "type": "integer"
        },
        {
         "name": "Borgo Panigale - Reno",
         "rawType": "uint8",
         "type": "integer"
        },
        {
         "name": "Navile",
         "rawType": "uint8",
         "type": "integer"
        },
        {
         "name": "Porto - Saragozza",
         "rawType": "uint8",
         "type": "integer"
        },
        {
         "name": "San Donato - San Vitale",
         "rawType": "uint8",
         "type": "integer"
        },
        {
         "name": "Santo Stefano",
         "rawType": "uint8",
         "type": "integer"
        },
        {
         "name": "Savena",
         "rawType": "uint8",
         "type": "integer"
        }
       ],
       "conversionMethod": "pd.DataFrame",
       "ref": "07eeef52-08bc-4e04-b548-bdd000b3c358",
       "rows": [
        [
         "0",
         "0",
         "0",
         "0",
         "0",
         "1",
         "0"
        ],
        [
         "1",
         "0",
         "0",
         "1",
         "0",
         "0",
         "0"
        ],
        [
         "2",
         "0",
         "0",
         "0",
         "0",
         "1",
         "0"
        ],
        [
         "3",
         "0",
         "0",
         "0",
         "0",
         "1",
         "0"
        ],
        [
         "4",
         "0",
         "0",
         "1",
         "0",
         "0",
         "0"
        ]
       ],
       "shape": {
        "columns": 6,
        "rows": 5
       }
      },
      "text/html": [
       "<div>\n",
       "<style scoped>\n",
       "    .dataframe tbody tr th:only-of-type {\n",
       "        vertical-align: middle;\n",
       "    }\n",
       "\n",
       "    .dataframe tbody tr th {\n",
       "        vertical-align: top;\n",
       "    }\n",
       "\n",
       "    .dataframe thead th {\n",
       "        text-align: right;\n",
       "    }\n",
       "</style>\n",
       "<table border=\"1\" class=\"dataframe\">\n",
       "  <thead>\n",
       "    <tr style=\"text-align: right;\">\n",
       "      <th></th>\n",
       "      <th>Borgo Panigale - Reno</th>\n",
       "      <th>Navile</th>\n",
       "      <th>Porto - Saragozza</th>\n",
       "      <th>San Donato - San Vitale</th>\n",
       "      <th>Santo Stefano</th>\n",
       "      <th>Savena</th>\n",
       "    </tr>\n",
       "  </thead>\n",
       "  <tbody>\n",
       "    <tr>\n",
       "      <th>0</th>\n",
       "      <td>0</td>\n",
       "      <td>0</td>\n",
       "      <td>0</td>\n",
       "      <td>0</td>\n",
       "      <td>1</td>\n",
       "      <td>0</td>\n",
       "    </tr>\n",
       "    <tr>\n",
       "      <th>1</th>\n",
       "      <td>0</td>\n",
       "      <td>0</td>\n",
       "      <td>1</td>\n",
       "      <td>0</td>\n",
       "      <td>0</td>\n",
       "      <td>0</td>\n",
       "    </tr>\n",
       "    <tr>\n",
       "      <th>2</th>\n",
       "      <td>0</td>\n",
       "      <td>0</td>\n",
       "      <td>0</td>\n",
       "      <td>0</td>\n",
       "      <td>1</td>\n",
       "      <td>0</td>\n",
       "    </tr>\n",
       "    <tr>\n",
       "      <th>3</th>\n",
       "      <td>0</td>\n",
       "      <td>0</td>\n",
       "      <td>0</td>\n",
       "      <td>0</td>\n",
       "      <td>1</td>\n",
       "      <td>0</td>\n",
       "    </tr>\n",
       "    <tr>\n",
       "      <th>4</th>\n",
       "      <td>0</td>\n",
       "      <td>0</td>\n",
       "      <td>1</td>\n",
       "      <td>0</td>\n",
       "      <td>0</td>\n",
       "      <td>0</td>\n",
       "    </tr>\n",
       "  </tbody>\n",
       "</table>\n",
       "</div>"
      ],
      "text/plain": [
       "   Borgo Panigale - Reno  Navile  Porto - Saragozza  San Donato - San Vitale  \\\n",
       "0                      0       0                  0                        0   \n",
       "1                      0       0                  1                        0   \n",
       "2                      0       0                  0                        0   \n",
       "3                      0       0                  0                        0   \n",
       "4                      0       0                  1                        0   \n",
       "\n",
       "   Santo Stefano  Savena  \n",
       "0              1       0  \n",
       "1              0       0  \n",
       "2              1       0  \n",
       "3              1       0  \n",
       "4              0       0  "
      ]
     },
     "execution_count": 11,
     "metadata": {},
     "output_type": "execute_result"
    }
   ],
   "source": [
    "pd.get_dummies(df_listings['neighbourhood']).head()"
   ]
  },
  {
   "cell_type": "markdown",
   "metadata": {},
   "source": [
    "### Dados Temporais\n",
    "\n",
    "Métodos\n",
    "\n",
    "* `pd.to_datetime()`\n",
    "* `.dt.year`\n",
    "* `.df.to_period()`\n",
    "* `pd.to_timedelta()`\n",
    "\n",
    "No `df_prices` temos uma variável de data, `date`. Em qual formato ela está? Podemos verificar com o atributo `.dtypes`."
   ]
  },
  {
   "cell_type": "code",
   "execution_count": 12,
   "metadata": {},
   "outputs": [
    {
     "data": {
      "text/plain": [
       "dtype('O')"
      ]
     },
     "execution_count": 12,
     "metadata": {},
     "output_type": "execute_result"
    }
   ],
   "source": [
    "df_prices['date'].dtypes"
   ]
  },
  {
   "cell_type": "markdown",
   "metadata": {},
   "source": [
    "Podemos converter uma variável em uma data usando o"
   ]
  },
  {
   "cell_type": "code",
   "execution_count": 13,
   "metadata": {},
   "outputs": [],
   "source": [
    "df_prices['datetime'] = pd.to_datetime(df_prices['date'])"
   ]
  },
  {
   "cell_type": "markdown",
   "metadata": {},
   "source": [
    "De fato, se agora verificarmos o formato da variável `datetime` , é datetime."
   ]
  },
  {
   "cell_type": "code",
   "execution_count": 14,
   "metadata": {},
   "outputs": [
    {
     "data": {
      "text/plain": [
       "dtype('<M8[ns]')"
      ]
     },
     "execution_count": 14,
     "metadata": {},
     "output_type": "execute_result"
    }
   ],
   "source": [
    "df_prices['datetime'].dtypes"
   ]
  },
  {
   "cell_type": "markdown",
   "metadata": {},
   "source": [
    "Quando temos uma variável em formato `datetime`, ganhamos muitas operações de data e hora por meio do objeto `dt` para propriedades do tipo data e hora.\n",
    "\n",
    "Por exemplo, podemos extrair o ano usando `.dt.year`. Podemos fazer o mesmo com `month`, `week` e `day`."
   ]
  },
  {
   "cell_type": "code",
   "execution_count": 15,
   "metadata": {},
   "outputs": [
    {
     "data": {
      "text/plain": [
       "0          2021\n",
       "1          2021\n",
       "2          2021\n",
       "3          2021\n",
       "4          2021\n",
       "           ... \n",
       "1260340    2022\n",
       "1260341    2022\n",
       "1260342    2022\n",
       "1260343    2022\n",
       "1260344    2022\n",
       "Name: datetime, Length: 1260345, dtype: int64"
      ]
     },
     "execution_count": 15,
     "metadata": {},
     "output_type": "execute_result"
    }
   ],
   "source": [
    "df_prices['datetime'].dt.year"
   ]
  },
  {
   "cell_type": "markdown",
   "metadata": {},
   "source": [
    "Podemos alterar o nível de agregação de uma data usando `.dt.to_period()`. A opção `M` converte para o nível ano-mês."
   ]
  },
  {
   "cell_type": "code",
   "execution_count": 16,
   "metadata": {},
   "outputs": [
    {
     "data": {
      "text/plain": [
       "0          2021-12\n",
       "1          2021-12\n",
       "2          2021-12\n",
       "3          2021-12\n",
       "4          2021-12\n",
       "            ...   \n",
       "1260340    2022-12\n",
       "1260341    2022-12\n",
       "1260342    2022-12\n",
       "1260343    2022-12\n",
       "1260344    2022-12\n",
       "Name: datetime, Length: 1260345, dtype: period[M]"
      ]
     },
     "execution_count": 16,
     "metadata": {},
     "output_type": "execute_result"
    }
   ],
   "source": [
    "df_prices['datetime'].dt.to_period('M')"
   ]
  },
  {
   "cell_type": "markdown",
   "metadata": {},
   "source": [
    "Podemos adicionar ou subtrair períodos de tempo de uma data usando a função `pd.to_timedelta()`. Precisamos especificar a unidade de medida com a opção `unit`."
   ]
  },
  {
   "cell_type": "code",
   "execution_count": 17,
   "metadata": {},
   "outputs": [
    {
     "data": {
      "text/plain": [
       "0         2021-12-14\n",
       "1         2021-12-14\n",
       "2         2021-12-15\n",
       "3         2021-12-16\n",
       "4         2021-12-17\n",
       "             ...    \n",
       "1260340   2022-12-09\n",
       "1260341   2022-12-10\n",
       "1260342   2022-12-11\n",
       "1260343   2022-12-12\n",
       "1260344   2022-12-13\n",
       "Name: datetime, Length: 1260345, dtype: datetime64[ns]"
      ]
     },
     "execution_count": 17,
     "metadata": {},
     "output_type": "execute_result"
    }
   ],
   "source": [
    "df_prices['datetime'] -  pd.to_timedelta(3, unit='d')"
   ]
  },
  {
   "cell_type": "markdown",
   "metadata": {},
   "source": [
    "### Dados Ausentes\n",
    "\n",
    "**Métodos**\n",
    "\n",
    "* `.isna()`\n",
    "* `.dropna()`\n",
    "* `.fillna()`\n",
    "\n",
    "A função isna() relata valores ausentes."
   ]
  },
  {
   "cell_type": "code",
   "execution_count": 18,
   "metadata": {},
   "outputs": [
    {
     "data": {
      "application/vnd.microsoft.datawrangler.viewer.v0+json": {
       "columns": [
        {
         "name": "index",
         "rawType": "int64",
         "type": "integer"
        },
        {
         "name": "id",
         "rawType": "bool",
         "type": "boolean"
        },
        {
         "name": "name",
         "rawType": "bool",
         "type": "boolean"
        },
        {
         "name": "host_id",
         "rawType": "bool",
         "type": "boolean"
        },
        {
         "name": "host_name",
         "rawType": "bool",
         "type": "boolean"
        },
        {
         "name": "neighbourhood_group",
         "rawType": "bool",
         "type": "boolean"
        },
        {
         "name": "neighbourhood",
         "rawType": "bool",
         "type": "boolean"
        },
        {
         "name": "latitude",
         "rawType": "bool",
         "type": "boolean"
        },
        {
         "name": "longitude",
         "rawType": "bool",
         "type": "boolean"
        },
        {
         "name": "room_type",
         "rawType": "bool",
         "type": "boolean"
        },
        {
         "name": "price",
         "rawType": "bool",
         "type": "boolean"
        },
        {
         "name": "minimum_nights",
         "rawType": "bool",
         "type": "boolean"
        },
        {
         "name": "number_of_reviews",
         "rawType": "bool",
         "type": "boolean"
        },
        {
         "name": "last_review",
         "rawType": "bool",
         "type": "boolean"
        },
        {
         "name": "reviews_per_month",
         "rawType": "bool",
         "type": "boolean"
        },
        {
         "name": "calculated_host_listings_count",
         "rawType": "bool",
         "type": "boolean"
        },
        {
         "name": "availability_365",
         "rawType": "bool",
         "type": "boolean"
        },
        {
         "name": "number_of_reviews_ltm",
         "rawType": "bool",
         "type": "boolean"
        },
        {
         "name": "license",
         "rawType": "bool",
         "type": "boolean"
        }
       ],
       "conversionMethod": "pd.DataFrame",
       "ref": "df5b9560-d0d3-433a-aaba-af1376fc4111",
       "rows": [
        [
         "0",
         "False",
         "False",
         "False",
         "False",
         "True",
         "False",
         "False",
         "False",
         "False",
         "False",
         "False",
         "False",
         "False",
         "False",
         "False",
         "False",
         "False",
         "True"
        ],
        [
         "1",
         "False",
         "False",
         "False",
         "False",
         "True",
         "False",
         "False",
         "False",
         "False",
         "False",
         "False",
         "False",
         "False",
         "False",
         "False",
         "False",
         "False",
         "True"
        ],
        [
         "2",
         "False",
         "False",
         "False",
         "False",
         "True",
         "False",
         "False",
         "False",
         "False",
         "False",
         "False",
         "False",
         "False",
         "False",
         "False",
         "False",
         "False",
         "True"
        ],
        [
         "3",
         "False",
         "False",
         "False",
         "False",
         "True",
         "False",
         "False",
         "False",
         "False",
         "False",
         "False",
         "False",
         "False",
         "False",
         "False",
         "False",
         "False",
         "True"
        ],
        [
         "4",
         "False",
         "False",
         "False",
         "False",
         "True",
         "False",
         "False",
         "False",
         "False",
         "False",
         "False",
         "False",
         "False",
         "False",
         "False",
         "False",
         "False",
         "True"
        ]
       ],
       "shape": {
        "columns": 18,
        "rows": 5
       }
      },
      "text/html": [
       "<div>\n",
       "<style scoped>\n",
       "    .dataframe tbody tr th:only-of-type {\n",
       "        vertical-align: middle;\n",
       "    }\n",
       "\n",
       "    .dataframe tbody tr th {\n",
       "        vertical-align: top;\n",
       "    }\n",
       "\n",
       "    .dataframe thead th {\n",
       "        text-align: right;\n",
       "    }\n",
       "</style>\n",
       "<table border=\"1\" class=\"dataframe\">\n",
       "  <thead>\n",
       "    <tr style=\"text-align: right;\">\n",
       "      <th></th>\n",
       "      <th>id</th>\n",
       "      <th>name</th>\n",
       "      <th>host_id</th>\n",
       "      <th>host_name</th>\n",
       "      <th>neighbourhood_group</th>\n",
       "      <th>neighbourhood</th>\n",
       "      <th>latitude</th>\n",
       "      <th>longitude</th>\n",
       "      <th>room_type</th>\n",
       "      <th>price</th>\n",
       "      <th>minimum_nights</th>\n",
       "      <th>number_of_reviews</th>\n",
       "      <th>last_review</th>\n",
       "      <th>reviews_per_month</th>\n",
       "      <th>calculated_host_listings_count</th>\n",
       "      <th>availability_365</th>\n",
       "      <th>number_of_reviews_ltm</th>\n",
       "      <th>license</th>\n",
       "    </tr>\n",
       "  </thead>\n",
       "  <tbody>\n",
       "    <tr>\n",
       "      <th>0</th>\n",
       "      <td>False</td>\n",
       "      <td>False</td>\n",
       "      <td>False</td>\n",
       "      <td>False</td>\n",
       "      <td>True</td>\n",
       "      <td>False</td>\n",
       "      <td>False</td>\n",
       "      <td>False</td>\n",
       "      <td>False</td>\n",
       "      <td>False</td>\n",
       "      <td>False</td>\n",
       "      <td>False</td>\n",
       "      <td>False</td>\n",
       "      <td>False</td>\n",
       "      <td>False</td>\n",
       "      <td>False</td>\n",
       "      <td>False</td>\n",
       "      <td>True</td>\n",
       "    </tr>\n",
       "    <tr>\n",
       "      <th>1</th>\n",
       "      <td>False</td>\n",
       "      <td>False</td>\n",
       "      <td>False</td>\n",
       "      <td>False</td>\n",
       "      <td>True</td>\n",
       "      <td>False</td>\n",
       "      <td>False</td>\n",
       "      <td>False</td>\n",
       "      <td>False</td>\n",
       "      <td>False</td>\n",
       "      <td>False</td>\n",
       "      <td>False</td>\n",
       "      <td>False</td>\n",
       "      <td>False</td>\n",
       "      <td>False</td>\n",
       "      <td>False</td>\n",
       "      <td>False</td>\n",
       "      <td>True</td>\n",
       "    </tr>\n",
       "    <tr>\n",
       "      <th>2</th>\n",
       "      <td>False</td>\n",
       "      <td>False</td>\n",
       "      <td>False</td>\n",
       "      <td>False</td>\n",
       "      <td>True</td>\n",
       "      <td>False</td>\n",
       "      <td>False</td>\n",
       "      <td>False</td>\n",
       "      <td>False</td>\n",
       "      <td>False</td>\n",
       "      <td>False</td>\n",
       "      <td>False</td>\n",
       "      <td>False</td>\n",
       "      <td>False</td>\n",
       "      <td>False</td>\n",
       "      <td>False</td>\n",
       "      <td>False</td>\n",
       "      <td>True</td>\n",
       "    </tr>\n",
       "    <tr>\n",
       "      <th>3</th>\n",
       "      <td>False</td>\n",
       "      <td>False</td>\n",
       "      <td>False</td>\n",
       "      <td>False</td>\n",
       "      <td>True</td>\n",
       "      <td>False</td>\n",
       "      <td>False</td>\n",
       "      <td>False</td>\n",
       "      <td>False</td>\n",
       "      <td>False</td>\n",
       "      <td>False</td>\n",
       "      <td>False</td>\n",
       "      <td>False</td>\n",
       "      <td>False</td>\n",
       "      <td>False</td>\n",
       "      <td>False</td>\n",
       "      <td>False</td>\n",
       "      <td>True</td>\n",
       "    </tr>\n",
       "    <tr>\n",
       "      <th>4</th>\n",
       "      <td>False</td>\n",
       "      <td>False</td>\n",
       "      <td>False</td>\n",
       "      <td>False</td>\n",
       "      <td>True</td>\n",
       "      <td>False</td>\n",
       "      <td>False</td>\n",
       "      <td>False</td>\n",
       "      <td>False</td>\n",
       "      <td>False</td>\n",
       "      <td>False</td>\n",
       "      <td>False</td>\n",
       "      <td>False</td>\n",
       "      <td>False</td>\n",
       "      <td>False</td>\n",
       "      <td>False</td>\n",
       "      <td>False</td>\n",
       "      <td>True</td>\n",
       "    </tr>\n",
       "  </tbody>\n",
       "</table>\n",
       "</div>"
      ],
      "text/plain": [
       "      id   name  host_id  host_name  neighbourhood_group  neighbourhood  \\\n",
       "0  False  False    False      False                 True          False   \n",
       "1  False  False    False      False                 True          False   \n",
       "2  False  False    False      False                 True          False   \n",
       "3  False  False    False      False                 True          False   \n",
       "4  False  False    False      False                 True          False   \n",
       "\n",
       "   latitude  longitude  room_type  price  minimum_nights  number_of_reviews  \\\n",
       "0     False      False      False  False           False              False   \n",
       "1     False      False      False  False           False              False   \n",
       "2     False      False      False  False           False              False   \n",
       "3     False      False      False  False           False              False   \n",
       "4     False      False      False  False           False              False   \n",
       "\n",
       "   last_review  reviews_per_month  calculated_host_listings_count  \\\n",
       "0        False              False                           False   \n",
       "1        False              False                           False   \n",
       "2        False              False                           False   \n",
       "3        False              False                           False   \n",
       "4        False              False                           False   \n",
       "\n",
       "   availability_365  number_of_reviews_ltm  license  \n",
       "0             False                  False     True  \n",
       "1             False                  False     True  \n",
       "2             False                  False     True  \n",
       "3             False                  False     True  \n",
       "4             False                  False     True  "
      ]
     },
     "execution_count": 18,
     "metadata": {},
     "output_type": "execute_result"
    }
   ],
   "source": [
    "df_listings.isna().head()"
   ]
  },
  {
   "cell_type": "markdown",
   "metadata": {},
   "source": [
    "Para obter uma descrição rápida da quantidade de dados ausentes no conjunto de dados, podemos usar"
   ]
  },
  {
   "cell_type": "code",
   "execution_count": 19,
   "metadata": {},
   "outputs": [
    {
     "data": {
      "text/plain": [
       "id                                   0\n",
       "name                                 0\n",
       "host_id                              0\n",
       "host_name                            9\n",
       "neighbourhood_group               3453\n",
       "neighbourhood                        0\n",
       "latitude                             0\n",
       "longitude                            0\n",
       "room_type                            0\n",
       "price                                0\n",
       "minimum_nights                       0\n",
       "number_of_reviews                    0\n",
       "last_review                        409\n",
       "reviews_per_month                  409\n",
       "calculated_host_listings_count       0\n",
       "availability_365                     0\n",
       "number_of_reviews_ltm                0\n",
       "license                           3318\n",
       "dtype: int64"
      ]
     },
     "execution_count": 19,
     "metadata": {},
     "output_type": "execute_result"
    }
   ],
   "source": [
    "df_listings.isna().sum()"
   ]
  },
  {
   "cell_type": "markdown",
   "metadata": {},
   "source": [
    "Podemos remover valores ausentes usando `dropna()`. Ele remove todas as linhas com pelo menos um valor ausente."
   ]
  },
  {
   "cell_type": "code",
   "execution_count": 20,
   "metadata": {},
   "outputs": [
    {
     "data": {
      "text/plain": [
       "(0, 18)"
      ]
     },
     "execution_count": 20,
     "metadata": {},
     "output_type": "execute_result"
    }
   ],
   "source": [
    "df_listings.dropna().shape"
   ]
  },
  {
   "cell_type": "markdown",
   "metadata": {},
   "source": [
    "Neste caso, infelizmente, ele descarta todas as linhas. Se quisermos descartar apenas linhas com todos os valores ausentes, podemos usar o parâmetro how='all'."
   ]
  },
  {
   "cell_type": "code",
   "execution_count": 20,
   "metadata": {},
   "outputs": [
    {
     "data": {
      "text/plain": [
       "(3453, 18)"
      ]
     },
     "execution_count": 20,
     "metadata": {},
     "output_type": "execute_result"
    }
   ],
   "source": [
    "df_listings.dropna(how='all').shape"
   ]
  },
  {
   "cell_type": "markdown",
   "metadata": {},
   "source": [
    "Se quisermos descartar apenas valores ausentes para um valor específico, podemos usar a opção `subset`."
   ]
  },
  {
   "cell_type": "code",
   "execution_count": 21,
   "metadata": {},
   "outputs": [
    {
     "data": {
      "text/plain": [
       "(3044, 18)"
      ]
     },
     "execution_count": 21,
     "metadata": {},
     "output_type": "execute_result"
    }
   ],
   "source": [
    "df_listings.dropna(subset=['reviews_per_month']).shape"
   ]
  },
  {
   "cell_type": "markdown",
   "metadata": {},
   "source": [
    "Também podemos preencher os valores ausentes em vez de descartá-los, usando `fillna()`."
   ]
  },
  {
   "cell_type": "code",
   "execution_count": 22,
   "metadata": {},
   "outputs": [
    {
     "data": {
      "application/vnd.microsoft.datawrangler.viewer.v0+json": {
       "columns": [
        {
         "name": "index",
         "rawType": "int64",
         "type": "integer"
        },
        {
         "name": "id",
         "rawType": "int64",
         "type": "integer"
        },
        {
         "name": "name",
         "rawType": "object",
         "type": "string"
        },
        {
         "name": "host_id",
         "rawType": "int64",
         "type": "integer"
        },
        {
         "name": "host_name",
         "rawType": "object",
         "type": "string"
        },
        {
         "name": "neighbourhood_group",
         "rawType": "object",
         "type": "string"
        },
        {
         "name": "neighbourhood",
         "rawType": "object",
         "type": "string"
        },
        {
         "name": "latitude",
         "rawType": "float64",
         "type": "float"
        },
        {
         "name": "longitude",
         "rawType": "float64",
         "type": "float"
        },
        {
         "name": "room_type",
         "rawType": "object",
         "type": "string"
        },
        {
         "name": "price",
         "rawType": "int64",
         "type": "integer"
        },
        {
         "name": "minimum_nights",
         "rawType": "int64",
         "type": "integer"
        },
        {
         "name": "number_of_reviews",
         "rawType": "int64",
         "type": "integer"
        },
        {
         "name": "last_review",
         "rawType": "object",
         "type": "string"
        },
        {
         "name": "reviews_per_month",
         "rawType": "object",
         "type": "string"
        },
        {
         "name": "calculated_host_listings_count",
         "rawType": "int64",
         "type": "integer"
        },
        {
         "name": "availability_365",
         "rawType": "int64",
         "type": "integer"
        },
        {
         "name": "number_of_reviews_ltm",
         "rawType": "int64",
         "type": "integer"
        },
        {
         "name": "license",
         "rawType": "object",
         "type": "string"
        }
       ],
       "conversionMethod": "pd.DataFrame",
       "ref": "ca157dee-fd05-47f0-a419-2c39cbf35cf0",
       "rows": [
        [
         "0",
         "42196",
         "50 sm Studio in the historic centre",
         "184487",
         "Carlo",
         " -- Este estava NA  -- ",
         "Santo Stefano",
         "44.48507",
         "11.34786",
         "Entire home/apt",
         "68",
         "3",
         "180",
         "2021-11-12",
         "1.32",
         "1",
         "161",
         "6",
         " -- Este estava NA  -- "
        ],
        [
         "1",
         "46352",
         "A room in Pasolini's house",
         "467810",
         "Eleonora",
         " -- Este estava NA  -- ",
         "Porto - Saragozza",
         "44.49168",
         "11.33514",
         "Private room",
         "29",
         "1",
         "300",
         "2021-11-30",
         "2.2",
         "2",
         "248",
         "37",
         " -- Este estava NA  -- "
        ],
        [
         "2",
         "59697",
         "COZY LARGE BEDROOM in the city center",
         "286688",
         "Paolo",
         " -- Este estava NA  -- ",
         "Santo Stefano",
         "44.48817",
         "11.34124",
         "Private room",
         "50",
         "1",
         "240",
         "2020-10-04",
         "2.18",
         "2",
         "327",
         "0",
         " -- Este estava NA  -- "
        ],
        [
         "3",
         "85368",
         "Garden House Bologna",
         "467675",
         "Anna Maria",
         " -- Este estava NA  -- ",
         "Santo Stefano",
         "44.47834",
         "11.35672",
         "Entire home/apt",
         "126",
         "2",
         "40",
         "2019-11-03",
         "0.34",
         "1",
         "332",
         "0",
         " -- Este estava NA  -- "
        ],
        [
         "4",
         "145779",
         "SINGLE ROOM",
         "705535",
         "Valerio",
         " -- Este estava NA  -- ",
         "Porto - Saragozza",
         "44.49306",
         "11.33786",
         "Private room",
         "50",
         "10",
         "69",
         "2021-12-05",
         "0.55",
         "9",
         "365",
         "5",
         " -- Este estava NA  -- "
        ]
       ],
       "shape": {
        "columns": 18,
        "rows": 5
       }
      },
      "text/html": [
       "<div>\n",
       "<style scoped>\n",
       "    .dataframe tbody tr th:only-of-type {\n",
       "        vertical-align: middle;\n",
       "    }\n",
       "\n",
       "    .dataframe tbody tr th {\n",
       "        vertical-align: top;\n",
       "    }\n",
       "\n",
       "    .dataframe thead th {\n",
       "        text-align: right;\n",
       "    }\n",
       "</style>\n",
       "<table border=\"1\" class=\"dataframe\">\n",
       "  <thead>\n",
       "    <tr style=\"text-align: right;\">\n",
       "      <th></th>\n",
       "      <th>id</th>\n",
       "      <th>name</th>\n",
       "      <th>host_id</th>\n",
       "      <th>host_name</th>\n",
       "      <th>neighbourhood_group</th>\n",
       "      <th>neighbourhood</th>\n",
       "      <th>latitude</th>\n",
       "      <th>longitude</th>\n",
       "      <th>room_type</th>\n",
       "      <th>price</th>\n",
       "      <th>minimum_nights</th>\n",
       "      <th>number_of_reviews</th>\n",
       "      <th>last_review</th>\n",
       "      <th>reviews_per_month</th>\n",
       "      <th>calculated_host_listings_count</th>\n",
       "      <th>availability_365</th>\n",
       "      <th>number_of_reviews_ltm</th>\n",
       "      <th>license</th>\n",
       "    </tr>\n",
       "  </thead>\n",
       "  <tbody>\n",
       "    <tr>\n",
       "      <th>0</th>\n",
       "      <td>42196</td>\n",
       "      <td>50 sm Studio in the historic centre</td>\n",
       "      <td>184487</td>\n",
       "      <td>Carlo</td>\n",
       "      <td>-- Este estava NA  --</td>\n",
       "      <td>Santo Stefano</td>\n",
       "      <td>44.48507</td>\n",
       "      <td>11.34786</td>\n",
       "      <td>Entire home/apt</td>\n",
       "      <td>68</td>\n",
       "      <td>3</td>\n",
       "      <td>180</td>\n",
       "      <td>2021-11-12</td>\n",
       "      <td>1.32</td>\n",
       "      <td>1</td>\n",
       "      <td>161</td>\n",
       "      <td>6</td>\n",
       "      <td>-- Este estava NA  --</td>\n",
       "    </tr>\n",
       "    <tr>\n",
       "      <th>1</th>\n",
       "      <td>46352</td>\n",
       "      <td>A room in Pasolini's house</td>\n",
       "      <td>467810</td>\n",
       "      <td>Eleonora</td>\n",
       "      <td>-- Este estava NA  --</td>\n",
       "      <td>Porto - Saragozza</td>\n",
       "      <td>44.49168</td>\n",
       "      <td>11.33514</td>\n",
       "      <td>Private room</td>\n",
       "      <td>29</td>\n",
       "      <td>1</td>\n",
       "      <td>300</td>\n",
       "      <td>2021-11-30</td>\n",
       "      <td>2.2</td>\n",
       "      <td>2</td>\n",
       "      <td>248</td>\n",
       "      <td>37</td>\n",
       "      <td>-- Este estava NA  --</td>\n",
       "    </tr>\n",
       "    <tr>\n",
       "      <th>2</th>\n",
       "      <td>59697</td>\n",
       "      <td>COZY LARGE BEDROOM in the city center</td>\n",
       "      <td>286688</td>\n",
       "      <td>Paolo</td>\n",
       "      <td>-- Este estava NA  --</td>\n",
       "      <td>Santo Stefano</td>\n",
       "      <td>44.48817</td>\n",
       "      <td>11.34124</td>\n",
       "      <td>Private room</td>\n",
       "      <td>50</td>\n",
       "      <td>1</td>\n",
       "      <td>240</td>\n",
       "      <td>2020-10-04</td>\n",
       "      <td>2.18</td>\n",
       "      <td>2</td>\n",
       "      <td>327</td>\n",
       "      <td>0</td>\n",
       "      <td>-- Este estava NA  --</td>\n",
       "    </tr>\n",
       "    <tr>\n",
       "      <th>3</th>\n",
       "      <td>85368</td>\n",
       "      <td>Garden House Bologna</td>\n",
       "      <td>467675</td>\n",
       "      <td>Anna Maria</td>\n",
       "      <td>-- Este estava NA  --</td>\n",
       "      <td>Santo Stefano</td>\n",
       "      <td>44.47834</td>\n",
       "      <td>11.35672</td>\n",
       "      <td>Entire home/apt</td>\n",
       "      <td>126</td>\n",
       "      <td>2</td>\n",
       "      <td>40</td>\n",
       "      <td>2019-11-03</td>\n",
       "      <td>0.34</td>\n",
       "      <td>1</td>\n",
       "      <td>332</td>\n",
       "      <td>0</td>\n",
       "      <td>-- Este estava NA  --</td>\n",
       "    </tr>\n",
       "    <tr>\n",
       "      <th>4</th>\n",
       "      <td>145779</td>\n",
       "      <td>SINGLE ROOM</td>\n",
       "      <td>705535</td>\n",
       "      <td>Valerio</td>\n",
       "      <td>-- Este estava NA  --</td>\n",
       "      <td>Porto - Saragozza</td>\n",
       "      <td>44.49306</td>\n",
       "      <td>11.33786</td>\n",
       "      <td>Private room</td>\n",
       "      <td>50</td>\n",
       "      <td>10</td>\n",
       "      <td>69</td>\n",
       "      <td>2021-12-05</td>\n",
       "      <td>0.55</td>\n",
       "      <td>9</td>\n",
       "      <td>365</td>\n",
       "      <td>5</td>\n",
       "      <td>-- Este estava NA  --</td>\n",
       "    </tr>\n",
       "  </tbody>\n",
       "</table>\n",
       "</div>"
      ],
      "text/plain": [
       "       id                                   name  host_id   host_name  \\\n",
       "0   42196    50 sm Studio in the historic centre   184487       Carlo   \n",
       "1   46352             A room in Pasolini's house   467810    Eleonora   \n",
       "2   59697  COZY LARGE BEDROOM in the city center   286688       Paolo   \n",
       "3   85368                   Garden House Bologna   467675  Anna Maria   \n",
       "4  145779                            SINGLE ROOM   705535     Valerio   \n",
       "\n",
       "       neighbourhood_group      neighbourhood  latitude  longitude  \\\n",
       "0   -- Este estava NA  --       Santo Stefano  44.48507   11.34786   \n",
       "1   -- Este estava NA  --   Porto - Saragozza  44.49168   11.33514   \n",
       "2   -- Este estava NA  --       Santo Stefano  44.48817   11.34124   \n",
       "3   -- Este estava NA  --       Santo Stefano  44.47834   11.35672   \n",
       "4   -- Este estava NA  --   Porto - Saragozza  44.49306   11.33786   \n",
       "\n",
       "         room_type  price  minimum_nights  number_of_reviews last_review  \\\n",
       "0  Entire home/apt     68               3                180  2021-11-12   \n",
       "1     Private room     29               1                300  2021-11-30   \n",
       "2     Private room     50               1                240  2020-10-04   \n",
       "3  Entire home/apt    126               2                 40  2019-11-03   \n",
       "4     Private room     50              10                 69  2021-12-05   \n",
       "\n",
       "  reviews_per_month  calculated_host_listings_count  availability_365  \\\n",
       "0              1.32                               1               161   \n",
       "1               2.2                               2               248   \n",
       "2              2.18                               2               327   \n",
       "3              0.34                               1               332   \n",
       "4              0.55                               9               365   \n",
       "\n",
       "   number_of_reviews_ltm                  license  \n",
       "0                      6   -- Este estava NA  --   \n",
       "1                     37   -- Este estava NA  --   \n",
       "2                      0   -- Este estava NA  --   \n",
       "3                      0   -- Este estava NA  --   \n",
       "4                      5   -- Este estava NA  --   "
      ]
     },
     "execution_count": 22,
     "metadata": {},
     "output_type": "execute_result"
    }
   ],
   "source": [
    "df_listings.fillna(' -- Este estava NA  -- ').head()"
   ]
  },
  {
   "cell_type": "markdown",
   "metadata": {},
   "source": [
    "Também podemos criar valores ausentes, se quisermos."
   ]
  },
  {
   "cell_type": "code",
   "execution_count": 23,
   "metadata": {},
   "outputs": [
    {
     "data": {
      "application/vnd.microsoft.datawrangler.viewer.v0+json": {
       "columns": [
        {
         "name": "index",
         "rawType": "int64",
         "type": "integer"
        },
        {
         "name": "id",
         "rawType": "int64",
         "type": "integer"
        },
        {
         "name": "name",
         "rawType": "object",
         "type": "string"
        },
        {
         "name": "host_id",
         "rawType": "float64",
         "type": "float"
        }
       ],
       "conversionMethod": "pd.DataFrame",
       "ref": "dc91a308-75bf-407d-a820-9cb9ec6577af",
       "rows": [
        [
         "0",
         "42196",
         "50 sm Studio in the historic centre",
         "184487.0"
        ],
        [
         "1",
         "46352",
         "A room in Pasolini's house",
         "467810.0"
        ],
        [
         "2",
         "59697",
         "COZY LARGE BEDROOM in the city center",
         null
        ]
       ],
       "shape": {
        "columns": 3,
        "rows": 3
       }
      },
      "text/html": [
       "<div>\n",
       "<style scoped>\n",
       "    .dataframe tbody tr th:only-of-type {\n",
       "        vertical-align: middle;\n",
       "    }\n",
       "\n",
       "    .dataframe tbody tr th {\n",
       "        vertical-align: top;\n",
       "    }\n",
       "\n",
       "    .dataframe thead th {\n",
       "        text-align: right;\n",
       "    }\n",
       "</style>\n",
       "<table border=\"1\" class=\"dataframe\">\n",
       "  <thead>\n",
       "    <tr style=\"text-align: right;\">\n",
       "      <th></th>\n",
       "      <th>id</th>\n",
       "      <th>name</th>\n",
       "      <th>host_id</th>\n",
       "    </tr>\n",
       "  </thead>\n",
       "  <tbody>\n",
       "    <tr>\n",
       "      <th>0</th>\n",
       "      <td>42196</td>\n",
       "      <td>50 sm Studio in the historic centre</td>\n",
       "      <td>184487.0</td>\n",
       "    </tr>\n",
       "    <tr>\n",
       "      <th>1</th>\n",
       "      <td>46352</td>\n",
       "      <td>A room in Pasolini's house</td>\n",
       "      <td>467810.0</td>\n",
       "    </tr>\n",
       "    <tr>\n",
       "      <th>2</th>\n",
       "      <td>59697</td>\n",
       "      <td>COZY LARGE BEDROOM in the city center</td>\n",
       "      <td>NaN</td>\n",
       "    </tr>\n",
       "  </tbody>\n",
       "</table>\n",
       "</div>"
      ],
      "text/plain": [
       "      id                                   name   host_id\n",
       "0  42196    50 sm Studio in the historic centre  184487.0\n",
       "1  46352             A room in Pasolini's house  467810.0\n",
       "2  59697  COZY LARGE BEDROOM in the city center       NaN"
      ]
     },
     "execution_count": 23,
     "metadata": {},
     "output_type": "execute_result"
    }
   ],
   "source": [
    "df_listings.iloc[2, 2] = np.nan\n",
    "df_listings.iloc[:3, :3]"
   ]
  },
  {
   "cell_type": "markdown",
   "metadata": {},
   "source": [
    "# Data Wrangling\n",
    "\n",
    "Aqui continuamos com os dados Scraped do AirBnb para a cidade de Bolonha. Os dados estão disponíveis gratuitamente em Inside AirBnb : http://insideairbnb.com/get-the-data.html .\n",
    "\n",
    "Usaremos 2 conjuntos de dados:\n",
    "\n",
    "* conjunto de dados de listagem: contém informações de nível de listagem\n",
    "* conjunto de dados de preços: contém dados de preços ao longo do tempo"
   ]
  },
  {
   "cell_type": "code",
   "execution_count": 24,
   "metadata": {},
   "outputs": [],
   "source": [
    "import numpy as np\n",
    "import pandas as pd"
   ]
  },
  {
   "cell_type": "code",
   "execution_count": 25,
   "metadata": {},
   "outputs": [],
   "source": [
    "# Import listings data\n",
    "url_listings = \"http://data.insideairbnb.com/italy/emilia-romagna/bologna/2021-12-17/visualisations/listings.csv\"\n",
    "df_listings = pd.read_csv(url_listings)\n",
    "\n",
    "# Import pricing data\n",
    "url_prices = \"http://data.insideairbnb.com/italy/emilia-romagna/bologna/2021-12-17/data/calendar.csv.gz\"\n",
    "df_prices = pd.read_csv(url_prices, compression=\"gzip\")"
   ]
  },
  {
   "cell_type": "markdown",
   "metadata": {},
   "source": [
    "### Classificando e Renomeando\n",
    "\n",
    "Você pode classificar os dados usando a função `sort_values`.\n",
    "\n",
    "Opções\n",
    "* `ascending`: bool ou lista de bool, padrão True\n",
    "* `na_position`: {'primeiro', 'último'}, padrão 'último'"
   ]
  },
  {
   "cell_type": "code",
   "execution_count": 26,
   "metadata": {},
   "outputs": [
    {
     "data": {
      "application/vnd.microsoft.datawrangler.viewer.v0+json": {
       "columns": [
        {
         "name": "index",
         "rawType": "int64",
         "type": "integer"
        },
        {
         "name": "id",
         "rawType": "int64",
         "type": "integer"
        },
        {
         "name": "name",
         "rawType": "object",
         "type": "string"
        },
        {
         "name": "host_id",
         "rawType": "int64",
         "type": "integer"
        },
        {
         "name": "host_name",
         "rawType": "object",
         "type": "string"
        },
        {
         "name": "neighbourhood_group",
         "rawType": "float64",
         "type": "float"
        },
        {
         "name": "neighbourhood",
         "rawType": "object",
         "type": "string"
        },
        {
         "name": "latitude",
         "rawType": "float64",
         "type": "float"
        },
        {
         "name": "longitude",
         "rawType": "float64",
         "type": "float"
        },
        {
         "name": "room_type",
         "rawType": "object",
         "type": "string"
        },
        {
         "name": "price",
         "rawType": "int64",
         "type": "integer"
        },
        {
         "name": "minimum_nights",
         "rawType": "int64",
         "type": "integer"
        },
        {
         "name": "number_of_reviews",
         "rawType": "int64",
         "type": "integer"
        },
        {
         "name": "last_review",
         "rawType": "object",
         "type": "string"
        },
        {
         "name": "reviews_per_month",
         "rawType": "float64",
         "type": "float"
        },
        {
         "name": "calculated_host_listings_count",
         "rawType": "int64",
         "type": "integer"
        },
        {
         "name": "availability_365",
         "rawType": "int64",
         "type": "integer"
        },
        {
         "name": "number_of_reviews_ltm",
         "rawType": "int64",
         "type": "integer"
        },
        {
         "name": "license",
         "rawType": "object",
         "type": "string"
        }
       ],
       "conversionMethod": "pd.DataFrame",
       "ref": "2908e47d-d566-41a6-888b-7969177a1853",
       "rows": [
        [
         "2280",
         "38601411",
         "🏡Giardino di Annabella-relax in città-casa intera",
         "240803020",
         "Annabella",
         null,
         "Porto - Saragozza",
         "44.49303",
         "11.31986",
         "Entire home/apt",
         "90",
         "2",
         "53",
         "2021-12-13",
         "1.96",
         "1",
         "76",
         "27",
         "392901"
        ],
        [
         "2988",
         "48177313",
         "❤ Romantic Suite with SPA Bath ❤ 4starbologna.com",
         "239491712",
         "4 Star Bologna",
         null,
         "Santo Stefano",
         "44.50271",
         "11.34998",
         "Entire home/apt",
         "309",
         "1",
         "1",
         "2021-03-14",
         "0.11",
         "14",
         "344",
         "1",
         null
        ],
        [
         "3302",
         "52367336",
         "✨House of Alchemy✨",
         "140013413",
         "Greta",
         null,
         "Porto - Saragozza",
         "44.49072",
         "11.3089",
         "Entire home/apt",
         "96",
         "2",
         "7",
         "2021-11-28",
         "3.18",
         "1",
         "88",
         "7",
         null
        ],
        [
         "2039",
         "34495335",
         "♥ Romantic for Couple in Love ♥ | 4 Star Boutique",
         "239491712",
         "4 Star Bologna",
         null,
         "Santo Stefano",
         "44.50368",
         "11.34972",
         "Entire home/apt",
         "143",
         "1",
         "25",
         "2021-08-20",
         "0.79",
         "14",
         "262",
         "6",
         null
        ],
        [
         "2964",
         "47866124",
         "♡Amazing Suite with Private SPA ♡ 4starbologna.com",
         "239491712",
         "4 Star Bologna",
         null,
         "Santo Stefano",
         "44.50381",
         "11.34951",
         "Entire home/apt",
         "347",
         "1",
         "2",
         "2021-10-17",
         "0.72",
         "14",
         "337",
         "2",
         null
        ]
       ],
       "shape": {
        "columns": 18,
        "rows": 5
       }
      },
      "text/html": [
       "<div>\n",
       "<style scoped>\n",
       "    .dataframe tbody tr th:only-of-type {\n",
       "        vertical-align: middle;\n",
       "    }\n",
       "\n",
       "    .dataframe tbody tr th {\n",
       "        vertical-align: top;\n",
       "    }\n",
       "\n",
       "    .dataframe thead th {\n",
       "        text-align: right;\n",
       "    }\n",
       "</style>\n",
       "<table border=\"1\" class=\"dataframe\">\n",
       "  <thead>\n",
       "    <tr style=\"text-align: right;\">\n",
       "      <th></th>\n",
       "      <th>id</th>\n",
       "      <th>name</th>\n",
       "      <th>host_id</th>\n",
       "      <th>host_name</th>\n",
       "      <th>neighbourhood_group</th>\n",
       "      <th>neighbourhood</th>\n",
       "      <th>latitude</th>\n",
       "      <th>longitude</th>\n",
       "      <th>room_type</th>\n",
       "      <th>price</th>\n",
       "      <th>minimum_nights</th>\n",
       "      <th>number_of_reviews</th>\n",
       "      <th>last_review</th>\n",
       "      <th>reviews_per_month</th>\n",
       "      <th>calculated_host_listings_count</th>\n",
       "      <th>availability_365</th>\n",
       "      <th>number_of_reviews_ltm</th>\n",
       "      <th>license</th>\n",
       "    </tr>\n",
       "  </thead>\n",
       "  <tbody>\n",
       "    <tr>\n",
       "      <th>2280</th>\n",
       "      <td>38601411</td>\n",
       "      <td>🏡Giardino di Annabella-relax in città-casa intera</td>\n",
       "      <td>240803020</td>\n",
       "      <td>Annabella</td>\n",
       "      <td>NaN</td>\n",
       "      <td>Porto - Saragozza</td>\n",
       "      <td>44.49303</td>\n",
       "      <td>11.31986</td>\n",
       "      <td>Entire home/apt</td>\n",
       "      <td>90</td>\n",
       "      <td>2</td>\n",
       "      <td>53</td>\n",
       "      <td>2021-12-13</td>\n",
       "      <td>1.96</td>\n",
       "      <td>1</td>\n",
       "      <td>76</td>\n",
       "      <td>27</td>\n",
       "      <td>392901</td>\n",
       "    </tr>\n",
       "    <tr>\n",
       "      <th>2988</th>\n",
       "      <td>48177313</td>\n",
       "      <td>❤ Romantic Suite with SPA Bath ❤ 4starbologna.com</td>\n",
       "      <td>239491712</td>\n",
       "      <td>4 Star Bologna</td>\n",
       "      <td>NaN</td>\n",
       "      <td>Santo Stefano</td>\n",
       "      <td>44.50271</td>\n",
       "      <td>11.34998</td>\n",
       "      <td>Entire home/apt</td>\n",
       "      <td>309</td>\n",
       "      <td>1</td>\n",
       "      <td>1</td>\n",
       "      <td>2021-03-14</td>\n",
       "      <td>0.11</td>\n",
       "      <td>14</td>\n",
       "      <td>344</td>\n",
       "      <td>1</td>\n",
       "      <td>NaN</td>\n",
       "    </tr>\n",
       "    <tr>\n",
       "      <th>3302</th>\n",
       "      <td>52367336</td>\n",
       "      <td>✨House of Alchemy✨</td>\n",
       "      <td>140013413</td>\n",
       "      <td>Greta</td>\n",
       "      <td>NaN</td>\n",
       "      <td>Porto - Saragozza</td>\n",
       "      <td>44.49072</td>\n",
       "      <td>11.30890</td>\n",
       "      <td>Entire home/apt</td>\n",
       "      <td>96</td>\n",
       "      <td>2</td>\n",
       "      <td>7</td>\n",
       "      <td>2021-11-28</td>\n",
       "      <td>3.18</td>\n",
       "      <td>1</td>\n",
       "      <td>88</td>\n",
       "      <td>7</td>\n",
       "      <td>NaN</td>\n",
       "    </tr>\n",
       "    <tr>\n",
       "      <th>2039</th>\n",
       "      <td>34495335</td>\n",
       "      <td>♥ Romantic for Couple in Love ♥ | 4 Star Boutique</td>\n",
       "      <td>239491712</td>\n",
       "      <td>4 Star Bologna</td>\n",
       "      <td>NaN</td>\n",
       "      <td>Santo Stefano</td>\n",
       "      <td>44.50368</td>\n",
       "      <td>11.34972</td>\n",
       "      <td>Entire home/apt</td>\n",
       "      <td>143</td>\n",
       "      <td>1</td>\n",
       "      <td>25</td>\n",
       "      <td>2021-08-20</td>\n",
       "      <td>0.79</td>\n",
       "      <td>14</td>\n",
       "      <td>262</td>\n",
       "      <td>6</td>\n",
       "      <td>NaN</td>\n",
       "    </tr>\n",
       "    <tr>\n",
       "      <th>2964</th>\n",
       "      <td>47866124</td>\n",
       "      <td>♡Amazing Suite with Private SPA ♡ 4starbologna...</td>\n",
       "      <td>239491712</td>\n",
       "      <td>4 Star Bologna</td>\n",
       "      <td>NaN</td>\n",
       "      <td>Santo Stefano</td>\n",
       "      <td>44.50381</td>\n",
       "      <td>11.34951</td>\n",
       "      <td>Entire home/apt</td>\n",
       "      <td>347</td>\n",
       "      <td>1</td>\n",
       "      <td>2</td>\n",
       "      <td>2021-10-17</td>\n",
       "      <td>0.72</td>\n",
       "      <td>14</td>\n",
       "      <td>337</td>\n",
       "      <td>2</td>\n",
       "      <td>NaN</td>\n",
       "    </tr>\n",
       "  </tbody>\n",
       "</table>\n",
       "</div>"
      ],
      "text/plain": [
       "            id                                               name    host_id  \\\n",
       "2280  38601411  🏡Giardino di Annabella-relax in città-casa intera  240803020   \n",
       "2988  48177313  ❤ Romantic Suite with SPA Bath ❤ 4starbologna.com  239491712   \n",
       "3302  52367336                                 ✨House of Alchemy✨  140013413   \n",
       "2039  34495335  ♥ Romantic for Couple in Love ♥ | 4 Star Boutique  239491712   \n",
       "2964  47866124  ♡Amazing Suite with Private SPA ♡ 4starbologna...  239491712   \n",
       "\n",
       "           host_name  neighbourhood_group      neighbourhood  latitude  \\\n",
       "2280       Annabella                  NaN  Porto - Saragozza  44.49303   \n",
       "2988  4 Star Bologna                  NaN      Santo Stefano  44.50271   \n",
       "3302           Greta                  NaN  Porto - Saragozza  44.49072   \n",
       "2039  4 Star Bologna                  NaN      Santo Stefano  44.50368   \n",
       "2964  4 Star Bologna                  NaN      Santo Stefano  44.50381   \n",
       "\n",
       "      longitude        room_type  price  minimum_nights  number_of_reviews  \\\n",
       "2280   11.31986  Entire home/apt     90               2                 53   \n",
       "2988   11.34998  Entire home/apt    309               1                  1   \n",
       "3302   11.30890  Entire home/apt     96               2                  7   \n",
       "2039   11.34972  Entire home/apt    143               1                 25   \n",
       "2964   11.34951  Entire home/apt    347               1                  2   \n",
       "\n",
       "     last_review  reviews_per_month  calculated_host_listings_count  \\\n",
       "2280  2021-12-13               1.96                               1   \n",
       "2988  2021-03-14               0.11                              14   \n",
       "3302  2021-11-28               3.18                               1   \n",
       "2039  2021-08-20               0.79                              14   \n",
       "2964  2021-10-17               0.72                              14   \n",
       "\n",
       "      availability_365  number_of_reviews_ltm license  \n",
       "2280                76                     27  392901  \n",
       "2988               344                      1     NaN  \n",
       "3302                88                      7     NaN  \n",
       "2039               262                      6     NaN  \n",
       "2964               337                      2     NaN  "
      ]
     },
     "execution_count": 26,
     "metadata": {},
     "output_type": "execute_result"
    }
   ],
   "source": [
    "df_listings.sort_values(by=['name', 'price'], \n",
    "                        ascending=[False, True], \n",
    "                        na_position='last').head()"
   ]
  },
  {
   "cell_type": "markdown",
   "metadata": {},
   "source": [
    "Você pode remanejar colunas usando a função `rename()`. Ela recebe um dicionário como argumento `column` no formato {\"old_name\": \"new_name\"}."
   ]
  },
  {
   "cell_type": "code",
   "execution_count": 27,
   "metadata": {},
   "outputs": [
    {
     "data": {
      "application/vnd.microsoft.datawrangler.viewer.v0+json": {
       "columns": [
        {
         "name": "index",
         "rawType": "int64",
         "type": "integer"
        },
        {
         "name": "listing_id",
         "rawType": "int64",
         "type": "integer"
        },
        {
         "name": "listing_name",
         "rawType": "object",
         "type": "string"
        },
        {
         "name": "host_id",
         "rawType": "int64",
         "type": "integer"
        },
        {
         "name": "host_name",
         "rawType": "object",
         "type": "string"
        },
        {
         "name": "neighbourhood_group",
         "rawType": "float64",
         "type": "float"
        },
        {
         "name": "neighbourhood",
         "rawType": "object",
         "type": "string"
        },
        {
         "name": "latitude",
         "rawType": "float64",
         "type": "float"
        },
        {
         "name": "longitude",
         "rawType": "float64",
         "type": "float"
        },
        {
         "name": "room_type",
         "rawType": "object",
         "type": "string"
        },
        {
         "name": "price",
         "rawType": "int64",
         "type": "integer"
        },
        {
         "name": "minimum_nights",
         "rawType": "int64",
         "type": "integer"
        },
        {
         "name": "number_of_reviews",
         "rawType": "int64",
         "type": "integer"
        },
        {
         "name": "last_review",
         "rawType": "object",
         "type": "string"
        },
        {
         "name": "reviews_per_month",
         "rawType": "float64",
         "type": "float"
        },
        {
         "name": "calculated_host_listings_count",
         "rawType": "int64",
         "type": "integer"
        },
        {
         "name": "availability_365",
         "rawType": "int64",
         "type": "integer"
        },
        {
         "name": "number_of_reviews_ltm",
         "rawType": "int64",
         "type": "integer"
        },
        {
         "name": "license",
         "rawType": "object",
         "type": "string"
        }
       ],
       "conversionMethod": "pd.DataFrame",
       "ref": "3198bf32-81fd-40fc-b19f-8bbad35fb8e2",
       "rows": [
        [
         "0",
         "42196",
         "50 sm Studio in the historic centre",
         "184487",
         "Carlo",
         null,
         "Santo Stefano",
         "44.48507",
         "11.34786",
         "Entire home/apt",
         "68",
         "3",
         "180",
         "2021-11-12",
         "1.32",
         "1",
         "161",
         "6",
         null
        ],
        [
         "1",
         "46352",
         "A room in Pasolini's house",
         "467810",
         "Eleonora",
         null,
         "Porto - Saragozza",
         "44.49168",
         "11.33514",
         "Private room",
         "29",
         "1",
         "300",
         "2021-11-30",
         "2.2",
         "2",
         "248",
         "37",
         null
        ],
        [
         "2",
         "59697",
         "COZY LARGE BEDROOM in the city center",
         "286688",
         "Paolo",
         null,
         "Santo Stefano",
         "44.48817",
         "11.34124",
         "Private room",
         "50",
         "1",
         "240",
         "2020-10-04",
         "2.18",
         "2",
         "327",
         "0",
         null
        ],
        [
         "3",
         "85368",
         "Garden House Bologna",
         "467675",
         "Anna Maria",
         null,
         "Santo Stefano",
         "44.47834",
         "11.35672",
         "Entire home/apt",
         "126",
         "2",
         "40",
         "2019-11-03",
         "0.34",
         "1",
         "332",
         "0",
         null
        ],
        [
         "4",
         "145779",
         "SINGLE ROOM",
         "705535",
         "Valerio",
         null,
         "Porto - Saragozza",
         "44.49306",
         "11.33786",
         "Private room",
         "50",
         "10",
         "69",
         "2021-12-05",
         "0.55",
         "9",
         "365",
         "5",
         null
        ]
       ],
       "shape": {
        "columns": 18,
        "rows": 5
       }
      },
      "text/html": [
       "<div>\n",
       "<style scoped>\n",
       "    .dataframe tbody tr th:only-of-type {\n",
       "        vertical-align: middle;\n",
       "    }\n",
       "\n",
       "    .dataframe tbody tr th {\n",
       "        vertical-align: top;\n",
       "    }\n",
       "\n",
       "    .dataframe thead th {\n",
       "        text-align: right;\n",
       "    }\n",
       "</style>\n",
       "<table border=\"1\" class=\"dataframe\">\n",
       "  <thead>\n",
       "    <tr style=\"text-align: right;\">\n",
       "      <th></th>\n",
       "      <th>listing_id</th>\n",
       "      <th>listing_name</th>\n",
       "      <th>host_id</th>\n",
       "      <th>host_name</th>\n",
       "      <th>neighbourhood_group</th>\n",
       "      <th>neighbourhood</th>\n",
       "      <th>latitude</th>\n",
       "      <th>longitude</th>\n",
       "      <th>room_type</th>\n",
       "      <th>price</th>\n",
       "      <th>minimum_nights</th>\n",
       "      <th>number_of_reviews</th>\n",
       "      <th>last_review</th>\n",
       "      <th>reviews_per_month</th>\n",
       "      <th>calculated_host_listings_count</th>\n",
       "      <th>availability_365</th>\n",
       "      <th>number_of_reviews_ltm</th>\n",
       "      <th>license</th>\n",
       "    </tr>\n",
       "  </thead>\n",
       "  <tbody>\n",
       "    <tr>\n",
       "      <th>0</th>\n",
       "      <td>42196</td>\n",
       "      <td>50 sm Studio in the historic centre</td>\n",
       "      <td>184487</td>\n",
       "      <td>Carlo</td>\n",
       "      <td>NaN</td>\n",
       "      <td>Santo Stefano</td>\n",
       "      <td>44.48507</td>\n",
       "      <td>11.34786</td>\n",
       "      <td>Entire home/apt</td>\n",
       "      <td>68</td>\n",
       "      <td>3</td>\n",
       "      <td>180</td>\n",
       "      <td>2021-11-12</td>\n",
       "      <td>1.32</td>\n",
       "      <td>1</td>\n",
       "      <td>161</td>\n",
       "      <td>6</td>\n",
       "      <td>NaN</td>\n",
       "    </tr>\n",
       "    <tr>\n",
       "      <th>1</th>\n",
       "      <td>46352</td>\n",
       "      <td>A room in Pasolini's house</td>\n",
       "      <td>467810</td>\n",
       "      <td>Eleonora</td>\n",
       "      <td>NaN</td>\n",
       "      <td>Porto - Saragozza</td>\n",
       "      <td>44.49168</td>\n",
       "      <td>11.33514</td>\n",
       "      <td>Private room</td>\n",
       "      <td>29</td>\n",
       "      <td>1</td>\n",
       "      <td>300</td>\n",
       "      <td>2021-11-30</td>\n",
       "      <td>2.20</td>\n",
       "      <td>2</td>\n",
       "      <td>248</td>\n",
       "      <td>37</td>\n",
       "      <td>NaN</td>\n",
       "    </tr>\n",
       "    <tr>\n",
       "      <th>2</th>\n",
       "      <td>59697</td>\n",
       "      <td>COZY LARGE BEDROOM in the city center</td>\n",
       "      <td>286688</td>\n",
       "      <td>Paolo</td>\n",
       "      <td>NaN</td>\n",
       "      <td>Santo Stefano</td>\n",
       "      <td>44.48817</td>\n",
       "      <td>11.34124</td>\n",
       "      <td>Private room</td>\n",
       "      <td>50</td>\n",
       "      <td>1</td>\n",
       "      <td>240</td>\n",
       "      <td>2020-10-04</td>\n",
       "      <td>2.18</td>\n",
       "      <td>2</td>\n",
       "      <td>327</td>\n",
       "      <td>0</td>\n",
       "      <td>NaN</td>\n",
       "    </tr>\n",
       "    <tr>\n",
       "      <th>3</th>\n",
       "      <td>85368</td>\n",
       "      <td>Garden House Bologna</td>\n",
       "      <td>467675</td>\n",
       "      <td>Anna Maria</td>\n",
       "      <td>NaN</td>\n",
       "      <td>Santo Stefano</td>\n",
       "      <td>44.47834</td>\n",
       "      <td>11.35672</td>\n",
       "      <td>Entire home/apt</td>\n",
       "      <td>126</td>\n",
       "      <td>2</td>\n",
       "      <td>40</td>\n",
       "      <td>2019-11-03</td>\n",
       "      <td>0.34</td>\n",
       "      <td>1</td>\n",
       "      <td>332</td>\n",
       "      <td>0</td>\n",
       "      <td>NaN</td>\n",
       "    </tr>\n",
       "    <tr>\n",
       "      <th>4</th>\n",
       "      <td>145779</td>\n",
       "      <td>SINGLE ROOM</td>\n",
       "      <td>705535</td>\n",
       "      <td>Valerio</td>\n",
       "      <td>NaN</td>\n",
       "      <td>Porto - Saragozza</td>\n",
       "      <td>44.49306</td>\n",
       "      <td>11.33786</td>\n",
       "      <td>Private room</td>\n",
       "      <td>50</td>\n",
       "      <td>10</td>\n",
       "      <td>69</td>\n",
       "      <td>2021-12-05</td>\n",
       "      <td>0.55</td>\n",
       "      <td>9</td>\n",
       "      <td>365</td>\n",
       "      <td>5</td>\n",
       "      <td>NaN</td>\n",
       "    </tr>\n",
       "  </tbody>\n",
       "</table>\n",
       "</div>"
      ],
      "text/plain": [
       "   listing_id                           listing_name  host_id   host_name  \\\n",
       "0       42196    50 sm Studio in the historic centre   184487       Carlo   \n",
       "1       46352             A room in Pasolini's house   467810    Eleonora   \n",
       "2       59697  COZY LARGE BEDROOM in the city center   286688       Paolo   \n",
       "3       85368                   Garden House Bologna   467675  Anna Maria   \n",
       "4      145779                            SINGLE ROOM   705535     Valerio   \n",
       "\n",
       "   neighbourhood_group      neighbourhood  latitude  longitude  \\\n",
       "0                  NaN      Santo Stefano  44.48507   11.34786   \n",
       "1                  NaN  Porto - Saragozza  44.49168   11.33514   \n",
       "2                  NaN      Santo Stefano  44.48817   11.34124   \n",
       "3                  NaN      Santo Stefano  44.47834   11.35672   \n",
       "4                  NaN  Porto - Saragozza  44.49306   11.33786   \n",
       "\n",
       "         room_type  price  minimum_nights  number_of_reviews last_review  \\\n",
       "0  Entire home/apt     68               3                180  2021-11-12   \n",
       "1     Private room     29               1                300  2021-11-30   \n",
       "2     Private room     50               1                240  2020-10-04   \n",
       "3  Entire home/apt    126               2                 40  2019-11-03   \n",
       "4     Private room     50              10                 69  2021-12-05   \n",
       "\n",
       "   reviews_per_month  calculated_host_listings_count  availability_365  \\\n",
       "0               1.32                               1               161   \n",
       "1               2.20                               2               248   \n",
       "2               2.18                               2               327   \n",
       "3               0.34                               1               332   \n",
       "4               0.55                               9               365   \n",
       "\n",
       "   number_of_reviews_ltm license  \n",
       "0                      6     NaN  \n",
       "1                     37     NaN  \n",
       "2                      0     NaN  \n",
       "3                      0     NaN  \n",
       "4                      5     NaN  "
      ]
     },
     "execution_count": 27,
     "metadata": {},
     "output_type": "execute_result"
    }
   ],
   "source": [
    "df_listings.rename(columns={'name': 'listing_name', \n",
    "                            'id': 'listing_id'}).head()"
   ]
  },
  {
   "cell_type": "markdown",
   "metadata": {},
   "source": [
    "### Agregando\n",
    "\n",
    "Se quisermos contar observações em 2 variáveis ​​categóricas, podemos usar `pd.crosstab()`."
   ]
  },
  {
   "cell_type": "code",
   "execution_count": 28,
   "metadata": {},
   "outputs": [
    {
     "data": {
      "application/vnd.microsoft.datawrangler.viewer.v0+json": {
       "columns": [
        {
         "name": "neighbourhood",
         "rawType": "object",
         "type": "string"
        },
        {
         "name": "Entire home/apt",
         "rawType": "int64",
         "type": "integer"
        },
        {
         "name": "Hotel room",
         "rawType": "int64",
         "type": "integer"
        },
        {
         "name": "Private room",
         "rawType": "int64",
         "type": "integer"
        },
        {
         "name": "Shared room",
         "rawType": "int64",
         "type": "integer"
        }
       ],
       "conversionMethod": "pd.DataFrame",
       "ref": "f927a898-8789-4793-8579-dcd035911867",
       "rows": [
        [
         "Borgo Panigale - Reno",
         "107",
         "0",
         "39",
         "0"
        ],
        [
         "Navile",
         "250",
         "3",
         "149",
         "1"
        ],
        [
         "Porto - Saragozza",
         "842",
         "16",
         "299",
         "10"
        ],
        [
         "San Donato - San Vitale",
         "280",
         "1",
         "134",
         "4"
        ],
        [
         "Santo Stefano",
         "924",
         "29",
         "237",
         "5"
        ],
        [
         "Savena",
         "73",
         "0",
         "48",
         "2"
        ]
       ],
       "shape": {
        "columns": 4,
        "rows": 6
       }
      },
      "text/html": [
       "<div>\n",
       "<style scoped>\n",
       "    .dataframe tbody tr th:only-of-type {\n",
       "        vertical-align: middle;\n",
       "    }\n",
       "\n",
       "    .dataframe tbody tr th {\n",
       "        vertical-align: top;\n",
       "    }\n",
       "\n",
       "    .dataframe thead th {\n",
       "        text-align: right;\n",
       "    }\n",
       "</style>\n",
       "<table border=\"1\" class=\"dataframe\">\n",
       "  <thead>\n",
       "    <tr style=\"text-align: right;\">\n",
       "      <th>room_type</th>\n",
       "      <th>Entire home/apt</th>\n",
       "      <th>Hotel room</th>\n",
       "      <th>Private room</th>\n",
       "      <th>Shared room</th>\n",
       "    </tr>\n",
       "    <tr>\n",
       "      <th>neighbourhood</th>\n",
       "      <th></th>\n",
       "      <th></th>\n",
       "      <th></th>\n",
       "      <th></th>\n",
       "    </tr>\n",
       "  </thead>\n",
       "  <tbody>\n",
       "    <tr>\n",
       "      <th>Borgo Panigale - Reno</th>\n",
       "      <td>107</td>\n",
       "      <td>0</td>\n",
       "      <td>39</td>\n",
       "      <td>0</td>\n",
       "    </tr>\n",
       "    <tr>\n",
       "      <th>Navile</th>\n",
       "      <td>250</td>\n",
       "      <td>3</td>\n",
       "      <td>149</td>\n",
       "      <td>1</td>\n",
       "    </tr>\n",
       "    <tr>\n",
       "      <th>Porto - Saragozza</th>\n",
       "      <td>842</td>\n",
       "      <td>16</td>\n",
       "      <td>299</td>\n",
       "      <td>10</td>\n",
       "    </tr>\n",
       "    <tr>\n",
       "      <th>San Donato - San Vitale</th>\n",
       "      <td>280</td>\n",
       "      <td>1</td>\n",
       "      <td>134</td>\n",
       "      <td>4</td>\n",
       "    </tr>\n",
       "    <tr>\n",
       "      <th>Santo Stefano</th>\n",
       "      <td>924</td>\n",
       "      <td>29</td>\n",
       "      <td>237</td>\n",
       "      <td>5</td>\n",
       "    </tr>\n",
       "    <tr>\n",
       "      <th>Savena</th>\n",
       "      <td>73</td>\n",
       "      <td>0</td>\n",
       "      <td>48</td>\n",
       "      <td>2</td>\n",
       "    </tr>\n",
       "  </tbody>\n",
       "</table>\n",
       "</div>"
      ],
      "text/plain": [
       "room_type                Entire home/apt  Hotel room  Private room  \\\n",
       "neighbourhood                                                        \n",
       "Borgo Panigale - Reno                107           0            39   \n",
       "Navile                               250           3           149   \n",
       "Porto - Saragozza                    842          16           299   \n",
       "San Donato - San Vitale              280           1           134   \n",
       "Santo Stefano                        924          29           237   \n",
       "Savena                                73           0            48   \n",
       "\n",
       "room_type                Shared room  \n",
       "neighbourhood                         \n",
       "Borgo Panigale - Reno              0  \n",
       "Navile                             1  \n",
       "Porto - Saragozza                 10  \n",
       "San Donato - San Vitale            4  \n",
       "Santo Stefano                      5  \n",
       "Savena                             2  "
      ]
     },
     "execution_count": 28,
     "metadata": {},
     "output_type": "execute_result"
    }
   ],
   "source": [
    "pd.crosstab(df_listings['neighbourhood'], df_listings['room_type'])"
   ]
  },
  {
   "cell_type": "markdown",
   "metadata": {},
   "source": [
    "Podemos calcular estatísticas por grupo usando `groupby()`."
   ]
  },
  {
   "cell_type": "code",
   "execution_count": 29,
   "metadata": {},
   "outputs": [
    {
     "data": {
      "application/vnd.microsoft.datawrangler.viewer.v0+json": {
       "columns": [
        {
         "name": "neighbourhood",
         "rawType": "object",
         "type": "string"
        },
        {
         "name": "price",
         "rawType": "float64",
         "type": "float"
        },
        {
         "name": "reviews_per_month",
         "rawType": "float64",
         "type": "float"
        }
       ],
       "conversionMethod": "pd.DataFrame",
       "ref": "6cb38842-9ef2-4be7-bf36-34c704066254",
       "rows": [
        [
         "Borgo Panigale - Reno",
         "83.02054794520548",
         "0.9834883720930233"
        ],
        [
         "Navile",
         "142.20099255583128",
         "1.1567448680351906"
        ],
        [
         "Porto - Saragozza",
         "129.90831191088262",
         "1.3403253588516748"
        ],
        [
         "San Donato - San Vitale",
         "91.618138424821",
         "0.933010752688172"
        ],
        [
         "Santo Stefano",
         "119.4418410041841",
         "1.3448095238095237"
        ],
        [
         "Savena",
         "69.6260162601626",
         "0.8058878504672897"
        ]
       ],
       "shape": {
        "columns": 2,
        "rows": 6
       }
      },
      "text/html": [
       "<div>\n",
       "<style scoped>\n",
       "    .dataframe tbody tr th:only-of-type {\n",
       "        vertical-align: middle;\n",
       "    }\n",
       "\n",
       "    .dataframe tbody tr th {\n",
       "        vertical-align: top;\n",
       "    }\n",
       "\n",
       "    .dataframe thead th {\n",
       "        text-align: right;\n",
       "    }\n",
       "</style>\n",
       "<table border=\"1\" class=\"dataframe\">\n",
       "  <thead>\n",
       "    <tr style=\"text-align: right;\">\n",
       "      <th></th>\n",
       "      <th>price</th>\n",
       "      <th>reviews_per_month</th>\n",
       "    </tr>\n",
       "    <tr>\n",
       "      <th>neighbourhood</th>\n",
       "      <th></th>\n",
       "      <th></th>\n",
       "    </tr>\n",
       "  </thead>\n",
       "  <tbody>\n",
       "    <tr>\n",
       "      <th>Borgo Panigale - Reno</th>\n",
       "      <td>83.020548</td>\n",
       "      <td>0.983488</td>\n",
       "    </tr>\n",
       "    <tr>\n",
       "      <th>Navile</th>\n",
       "      <td>142.200993</td>\n",
       "      <td>1.156745</td>\n",
       "    </tr>\n",
       "    <tr>\n",
       "      <th>Porto - Saragozza</th>\n",
       "      <td>129.908312</td>\n",
       "      <td>1.340325</td>\n",
       "    </tr>\n",
       "    <tr>\n",
       "      <th>San Donato - San Vitale</th>\n",
       "      <td>91.618138</td>\n",
       "      <td>0.933011</td>\n",
       "    </tr>\n",
       "    <tr>\n",
       "      <th>Santo Stefano</th>\n",
       "      <td>119.441841</td>\n",
       "      <td>1.344810</td>\n",
       "    </tr>\n",
       "    <tr>\n",
       "      <th>Savena</th>\n",
       "      <td>69.626016</td>\n",
       "      <td>0.805888</td>\n",
       "    </tr>\n",
       "  </tbody>\n",
       "</table>\n",
       "</div>"
      ],
      "text/plain": [
       "                              price  reviews_per_month\n",
       "neighbourhood                                         \n",
       "Borgo Panigale - Reno     83.020548           0.983488\n",
       "Navile                   142.200993           1.156745\n",
       "Porto - Saragozza        129.908312           1.340325\n",
       "San Donato - San Vitale   91.618138           0.933011\n",
       "Santo Stefano            119.441841           1.344810\n",
       "Savena                    69.626016           0.805888"
      ]
     },
     "execution_count": 29,
     "metadata": {},
     "output_type": "execute_result"
    }
   ],
   "source": [
    "df_listings.groupby('neighbourhood')[['price', 'reviews_per_month']].mean()"
   ]
  },
  {
   "cell_type": "markdown",
   "metadata": {},
   "source": [
    "Se você quiser executar mais de uma função, talvez em colunas diferentes, você pode usar `aggregate()` que pode ser abreviado para `agg()`. \n",
    "\n",
    "A sintaxe é `agg(output_var = (\"input_var\", function))` e aceita também funções `numpy`."
   ]
  },
  {
   "cell_type": "code",
   "execution_count": 30,
   "metadata": {},
   "outputs": [
    {
     "data": {
      "application/vnd.microsoft.datawrangler.viewer.v0+json": {
       "columns": [
        {
         "name": "index",
         "rawType": "int64",
         "type": "integer"
        },
        {
         "name": "neighbourhood",
         "rawType": "object",
         "type": "string"
        },
        {
         "name": "mean_reviews",
         "rawType": "float64",
         "type": "float"
        },
        {
         "name": "min_price",
         "rawType": "int64",
         "type": "integer"
        },
        {
         "name": "max_price",
         "rawType": "int64",
         "type": "integer"
        }
       ],
       "conversionMethod": "pd.DataFrame",
       "ref": "fe1ead91-7267-4d19-adee-d3028c361e37",
       "rows": [
        [
         "0",
         "Borgo Panigale - Reno",
         "0.9834883720930233",
         "9",
         "1429"
        ],
        [
         "1",
         "Navile",
         "1.1567448680351906",
         "14",
         "5000"
        ],
        [
         "2",
         "Porto - Saragozza",
         "1.3403253588516748",
         "7",
         "9999"
        ],
        [
         "3",
         "San Donato - San Vitale",
         "0.933010752688172",
         "10",
         "1600"
        ],
        [
         "4",
         "Santo Stefano",
         "1.3448095238095237",
         "11",
         "9999"
        ],
        [
         "5",
         "Savena",
         "0.8058878504672897",
         "9",
         "680"
        ]
       ],
       "shape": {
        "columns": 4,
        "rows": 6
       }
      },
      "text/html": [
       "<div>\n",
       "<style scoped>\n",
       "    .dataframe tbody tr th:only-of-type {\n",
       "        vertical-align: middle;\n",
       "    }\n",
       "\n",
       "    .dataframe tbody tr th {\n",
       "        vertical-align: top;\n",
       "    }\n",
       "\n",
       "    .dataframe thead th {\n",
       "        text-align: right;\n",
       "    }\n",
       "</style>\n",
       "<table border=\"1\" class=\"dataframe\">\n",
       "  <thead>\n",
       "    <tr style=\"text-align: right;\">\n",
       "      <th></th>\n",
       "      <th>neighbourhood</th>\n",
       "      <th>mean_reviews</th>\n",
       "      <th>min_price</th>\n",
       "      <th>max_price</th>\n",
       "    </tr>\n",
       "  </thead>\n",
       "  <tbody>\n",
       "    <tr>\n",
       "      <th>0</th>\n",
       "      <td>Borgo Panigale - Reno</td>\n",
       "      <td>0.983488</td>\n",
       "      <td>9</td>\n",
       "      <td>1429</td>\n",
       "    </tr>\n",
       "    <tr>\n",
       "      <th>1</th>\n",
       "      <td>Navile</td>\n",
       "      <td>1.156745</td>\n",
       "      <td>14</td>\n",
       "      <td>5000</td>\n",
       "    </tr>\n",
       "    <tr>\n",
       "      <th>2</th>\n",
       "      <td>Porto - Saragozza</td>\n",
       "      <td>1.340325</td>\n",
       "      <td>7</td>\n",
       "      <td>9999</td>\n",
       "    </tr>\n",
       "    <tr>\n",
       "      <th>3</th>\n",
       "      <td>San Donato - San Vitale</td>\n",
       "      <td>0.933011</td>\n",
       "      <td>10</td>\n",
       "      <td>1600</td>\n",
       "    </tr>\n",
       "    <tr>\n",
       "      <th>4</th>\n",
       "      <td>Santo Stefano</td>\n",
       "      <td>1.344810</td>\n",
       "      <td>11</td>\n",
       "      <td>9999</td>\n",
       "    </tr>\n",
       "    <tr>\n",
       "      <th>5</th>\n",
       "      <td>Savena</td>\n",
       "      <td>0.805888</td>\n",
       "      <td>9</td>\n",
       "      <td>680</td>\n",
       "    </tr>\n",
       "  </tbody>\n",
       "</table>\n",
       "</div>"
      ],
      "text/plain": [
       "             neighbourhood  mean_reviews  min_price  max_price\n",
       "0    Borgo Panigale - Reno      0.983488          9       1429\n",
       "1                   Navile      1.156745         14       5000\n",
       "2        Porto - Saragozza      1.340325          7       9999\n",
       "3  San Donato - San Vitale      0.933011         10       1600\n",
       "4            Santo Stefano      1.344810         11       9999\n",
       "5                   Savena      0.805888          9        680"
      ]
     },
     "execution_count": 30,
     "metadata": {},
     "output_type": "execute_result"
    }
   ],
   "source": [
    "df_listings.groupby('neighbourhood').agg(mean_reviews=(\"reviews_per_month\", \"mean\"),\n",
    "                                         min_price=(\"price\", \"min\"),\n",
    "                                         max_price=(\"price\", np.max)).reset_index()"
   ]
  },
  {
   "cell_type": "markdown",
   "metadata": {},
   "source": [
    "Se quisermos construir uma nova coluna por grupo, podemos usar os dados agrupados `transform()` . Infelizmente, não funciona tão bem `aggregate()` e temos que fazer uma coluna de cada vez."
   ]
  },
  {
   "cell_type": "code",
   "execution_count": 31,
   "metadata": {},
   "outputs": [
    {
     "data": {
      "application/vnd.microsoft.datawrangler.viewer.v0+json": {
       "columns": [
        {
         "name": "index",
         "rawType": "int64",
         "type": "integer"
        },
        {
         "name": "price",
         "rawType": "float64",
         "type": "float"
        },
        {
         "name": "reviews_per_month",
         "rawType": "float64",
         "type": "float"
        }
       ],
       "conversionMethod": "pd.DataFrame",
       "ref": "b409526e-05be-48fe-87da-062823a3e964",
       "rows": [
        [
         "0",
         "119.4418410041841",
         "1.3448095238095237"
        ],
        [
         "1",
         "129.90831191088262",
         "1.3403253588516748"
        ],
        [
         "2",
         "119.4418410041841",
         "1.3448095238095237"
        ],
        [
         "3",
         "119.4418410041841",
         "1.3448095238095237"
        ],
        [
         "4",
         "129.90831191088262",
         "1.3403253588516748"
        ]
       ],
       "shape": {
        "columns": 2,
        "rows": 5
       }
      },
      "text/html": [
       "<div>\n",
       "<style scoped>\n",
       "    .dataframe tbody tr th:only-of-type {\n",
       "        vertical-align: middle;\n",
       "    }\n",
       "\n",
       "    .dataframe tbody tr th {\n",
       "        vertical-align: top;\n",
       "    }\n",
       "\n",
       "    .dataframe thead th {\n",
       "        text-align: right;\n",
       "    }\n",
       "</style>\n",
       "<table border=\"1\" class=\"dataframe\">\n",
       "  <thead>\n",
       "    <tr style=\"text-align: right;\">\n",
       "      <th></th>\n",
       "      <th>price</th>\n",
       "      <th>reviews_per_month</th>\n",
       "    </tr>\n",
       "  </thead>\n",
       "  <tbody>\n",
       "    <tr>\n",
       "      <th>0</th>\n",
       "      <td>119.441841</td>\n",
       "      <td>1.344810</td>\n",
       "    </tr>\n",
       "    <tr>\n",
       "      <th>1</th>\n",
       "      <td>129.908312</td>\n",
       "      <td>1.340325</td>\n",
       "    </tr>\n",
       "    <tr>\n",
       "      <th>2</th>\n",
       "      <td>119.441841</td>\n",
       "      <td>1.344810</td>\n",
       "    </tr>\n",
       "    <tr>\n",
       "      <th>3</th>\n",
       "      <td>119.441841</td>\n",
       "      <td>1.344810</td>\n",
       "    </tr>\n",
       "    <tr>\n",
       "      <th>4</th>\n",
       "      <td>129.908312</td>\n",
       "      <td>1.340325</td>\n",
       "    </tr>\n",
       "  </tbody>\n",
       "</table>\n",
       "</div>"
      ],
      "text/plain": [
       "        price  reviews_per_month\n",
       "0  119.441841           1.344810\n",
       "1  129.908312           1.340325\n",
       "2  119.441841           1.344810\n",
       "3  119.441841           1.344810\n",
       "4  129.908312           1.340325"
      ]
     },
     "execution_count": 31,
     "metadata": {},
     "output_type": "execute_result"
    }
   ],
   "source": [
    "df_listings.groupby('neighbourhood')[['price', 'reviews_per_month']].transform('mean').head()"
   ]
  },
  {
   "cell_type": "markdown",
   "metadata": {},
   "source": [
    "### Combinando conjunto de dados\n",
    "\n",
    "Podemos concatenar datasets usando `pd.concat()`. Ele recebe como argumento uma lista de dataframes. Por padrão, `pd.concat()` executa o outer join. Podemos alterá-lo usando a opção `join` (nesse caso, não faz diferença)."
   ]
  },
  {
   "cell_type": "code",
   "execution_count": 32,
   "metadata": {},
   "outputs": [
    {
     "data": {
      "text/plain": [
       "(2000, 18)"
      ]
     },
     "execution_count": 32,
     "metadata": {},
     "output_type": "execute_result"
    }
   ],
   "source": [
    "df_listings1 = df_listings[:2000]\n",
    "np.shape(df_listings1)"
   ]
  },
  {
   "cell_type": "code",
   "execution_count": 33,
   "metadata": {},
   "outputs": [
    {
     "data": {
      "text/plain": [
       "(2453, 18)"
      ]
     },
     "execution_count": 33,
     "metadata": {},
     "output_type": "execute_result"
    }
   ],
   "source": [
    "df_listings2 = df_listings[1000:]\n",
    "np.shape(df_listings2)"
   ]
  },
  {
   "cell_type": "code",
   "execution_count": 34,
   "metadata": {},
   "outputs": [
    {
     "data": {
      "text/plain": [
       "(4453, 18)"
      ]
     },
     "execution_count": 34,
     "metadata": {},
     "output_type": "execute_result"
    }
   ],
   "source": [
    "np.shape(\n",
    "    pd.concat([df_listings1, df_listings2])\n",
    ")"
   ]
  },
  {
   "cell_type": "markdown",
   "metadata": {},
   "source": [
    "Para mesclar dataframes, podemos usar a função `pd.merge`.\n",
    "\n",
    "Opções\n",
    "* how: {'esquerda', 'direita', 'externo', 'interno', 'cruzado'}, padrão 'interno'\n",
    "* on: rótulo ou lista"
   ]
  },
  {
   "cell_type": "code",
   "execution_count": 35,
   "metadata": {},
   "outputs": [
    {
     "data": {
      "application/vnd.microsoft.datawrangler.viewer.v0+json": {
       "columns": [
        {
         "name": "index",
         "rawType": "int64",
         "type": "integer"
        },
        {
         "name": "id",
         "rawType": "int64",
         "type": "integer"
        },
        {
         "name": "name",
         "rawType": "object",
         "type": "string"
        },
        {
         "name": "host_id",
         "rawType": "int64",
         "type": "integer"
        },
        {
         "name": "host_name",
         "rawType": "object",
         "type": "string"
        },
        {
         "name": "neighbourhood_group",
         "rawType": "float64",
         "type": "float"
        },
        {
         "name": "neighbourhood",
         "rawType": "object",
         "type": "string"
        },
        {
         "name": "latitude",
         "rawType": "float64",
         "type": "float"
        },
        {
         "name": "longitude",
         "rawType": "float64",
         "type": "float"
        },
        {
         "name": "room_type",
         "rawType": "object",
         "type": "string"
        },
        {
         "name": "price_x",
         "rawType": "int64",
         "type": "integer"
        },
        {
         "name": "minimum_nights_x",
         "rawType": "int64",
         "type": "integer"
        },
        {
         "name": "number_of_reviews",
         "rawType": "int64",
         "type": "integer"
        },
        {
         "name": "last_review",
         "rawType": "object",
         "type": "string"
        },
        {
         "name": "reviews_per_month",
         "rawType": "float64",
         "type": "float"
        },
        {
         "name": "calculated_host_listings_count",
         "rawType": "int64",
         "type": "integer"
        },
        {
         "name": "availability_365",
         "rawType": "int64",
         "type": "integer"
        },
        {
         "name": "number_of_reviews_ltm",
         "rawType": "int64",
         "type": "integer"
        },
        {
         "name": "license",
         "rawType": "object",
         "type": "string"
        },
        {
         "name": "listing_id",
         "rawType": "int64",
         "type": "integer"
        },
        {
         "name": "date",
         "rawType": "object",
         "type": "string"
        },
        {
         "name": "available",
         "rawType": "object",
         "type": "string"
        },
        {
         "name": "price_y",
         "rawType": "object",
         "type": "string"
        },
        {
         "name": "adjusted_price",
         "rawType": "object",
         "type": "string"
        },
        {
         "name": "minimum_nights_y",
         "rawType": "int64",
         "type": "integer"
        },
        {
         "name": "maximum_nights",
         "rawType": "int64",
         "type": "integer"
        }
       ],
       "conversionMethod": "pd.DataFrame",
       "ref": "d8e694a0-4c6b-4940-9653-9c66bb0f46a0",
       "rows": [
        [
         "0",
         "42196",
         "50 sm Studio in the historic centre",
         "184487",
         "Carlo",
         null,
         "Santo Stefano",
         "44.48507",
         "11.34786",
         "Entire home/apt",
         "68",
         "3",
         "180",
         "2021-11-12",
         "1.32",
         "1",
         "161",
         "6",
         null,
         "42196",
         "2021-12-17",
         "f",
         "$68.00",
         "$68.00",
         "3",
         "360"
        ],
        [
         "1",
         "42196",
         "50 sm Studio in the historic centre",
         "184487",
         "Carlo",
         null,
         "Santo Stefano",
         "44.48507",
         "11.34786",
         "Entire home/apt",
         "68",
         "3",
         "180",
         "2021-11-12",
         "1.32",
         "1",
         "161",
         "6",
         null,
         "42196",
         "2021-12-18",
         "f",
         "$68.00",
         "$68.00",
         "3",
         "360"
        ],
        [
         "2",
         "42196",
         "50 sm Studio in the historic centre",
         "184487",
         "Carlo",
         null,
         "Santo Stefano",
         "44.48507",
         "11.34786",
         "Entire home/apt",
         "68",
         "3",
         "180",
         "2021-11-12",
         "1.32",
         "1",
         "161",
         "6",
         null,
         "42196",
         "2021-12-19",
         "f",
         "$68.00",
         "$68.00",
         "3",
         "360"
        ],
        [
         "3",
         "42196",
         "50 sm Studio in the historic centre",
         "184487",
         "Carlo",
         null,
         "Santo Stefano",
         "44.48507",
         "11.34786",
         "Entire home/apt",
         "68",
         "3",
         "180",
         "2021-11-12",
         "1.32",
         "1",
         "161",
         "6",
         null,
         "42196",
         "2021-12-20",
         "f",
         "$68.00",
         "$68.00",
         "3",
         "360"
        ],
        [
         "4",
         "42196",
         "50 sm Studio in the historic centre",
         "184487",
         "Carlo",
         null,
         "Santo Stefano",
         "44.48507",
         "11.34786",
         "Entire home/apt",
         "68",
         "3",
         "180",
         "2021-11-12",
         "1.32",
         "1",
         "161",
         "6",
         null,
         "42196",
         "2021-12-21",
         "f",
         "$68.00",
         "$68.00",
         "3",
         "360"
        ]
       ],
       "shape": {
        "columns": 25,
        "rows": 5
       }
      },
      "text/html": [
       "<div>\n",
       "<style scoped>\n",
       "    .dataframe tbody tr th:only-of-type {\n",
       "        vertical-align: middle;\n",
       "    }\n",
       "\n",
       "    .dataframe tbody tr th {\n",
       "        vertical-align: top;\n",
       "    }\n",
       "\n",
       "    .dataframe thead th {\n",
       "        text-align: right;\n",
       "    }\n",
       "</style>\n",
       "<table border=\"1\" class=\"dataframe\">\n",
       "  <thead>\n",
       "    <tr style=\"text-align: right;\">\n",
       "      <th></th>\n",
       "      <th>id</th>\n",
       "      <th>name</th>\n",
       "      <th>host_id</th>\n",
       "      <th>host_name</th>\n",
       "      <th>neighbourhood_group</th>\n",
       "      <th>neighbourhood</th>\n",
       "      <th>latitude</th>\n",
       "      <th>longitude</th>\n",
       "      <th>room_type</th>\n",
       "      <th>price_x</th>\n",
       "      <th>...</th>\n",
       "      <th>availability_365</th>\n",
       "      <th>number_of_reviews_ltm</th>\n",
       "      <th>license</th>\n",
       "      <th>listing_id</th>\n",
       "      <th>date</th>\n",
       "      <th>available</th>\n",
       "      <th>price_y</th>\n",
       "      <th>adjusted_price</th>\n",
       "      <th>minimum_nights_y</th>\n",
       "      <th>maximum_nights</th>\n",
       "    </tr>\n",
       "  </thead>\n",
       "  <tbody>\n",
       "    <tr>\n",
       "      <th>0</th>\n",
       "      <td>42196</td>\n",
       "      <td>50 sm Studio in the historic centre</td>\n",
       "      <td>184487</td>\n",
       "      <td>Carlo</td>\n",
       "      <td>NaN</td>\n",
       "      <td>Santo Stefano</td>\n",
       "      <td>44.48507</td>\n",
       "      <td>11.34786</td>\n",
       "      <td>Entire home/apt</td>\n",
       "      <td>68</td>\n",
       "      <td>...</td>\n",
       "      <td>161</td>\n",
       "      <td>6</td>\n",
       "      <td>NaN</td>\n",
       "      <td>42196</td>\n",
       "      <td>2021-12-17</td>\n",
       "      <td>f</td>\n",
       "      <td>$68.00</td>\n",
       "      <td>$68.00</td>\n",
       "      <td>3</td>\n",
       "      <td>360</td>\n",
       "    </tr>\n",
       "    <tr>\n",
       "      <th>1</th>\n",
       "      <td>42196</td>\n",
       "      <td>50 sm Studio in the historic centre</td>\n",
       "      <td>184487</td>\n",
       "      <td>Carlo</td>\n",
       "      <td>NaN</td>\n",
       "      <td>Santo Stefano</td>\n",
       "      <td>44.48507</td>\n",
       "      <td>11.34786</td>\n",
       "      <td>Entire home/apt</td>\n",
       "      <td>68</td>\n",
       "      <td>...</td>\n",
       "      <td>161</td>\n",
       "      <td>6</td>\n",
       "      <td>NaN</td>\n",
       "      <td>42196</td>\n",
       "      <td>2021-12-18</td>\n",
       "      <td>f</td>\n",
       "      <td>$68.00</td>\n",
       "      <td>$68.00</td>\n",
       "      <td>3</td>\n",
       "      <td>360</td>\n",
       "    </tr>\n",
       "    <tr>\n",
       "      <th>2</th>\n",
       "      <td>42196</td>\n",
       "      <td>50 sm Studio in the historic centre</td>\n",
       "      <td>184487</td>\n",
       "      <td>Carlo</td>\n",
       "      <td>NaN</td>\n",
       "      <td>Santo Stefano</td>\n",
       "      <td>44.48507</td>\n",
       "      <td>11.34786</td>\n",
       "      <td>Entire home/apt</td>\n",
       "      <td>68</td>\n",
       "      <td>...</td>\n",
       "      <td>161</td>\n",
       "      <td>6</td>\n",
       "      <td>NaN</td>\n",
       "      <td>42196</td>\n",
       "      <td>2021-12-19</td>\n",
       "      <td>f</td>\n",
       "      <td>$68.00</td>\n",
       "      <td>$68.00</td>\n",
       "      <td>3</td>\n",
       "      <td>360</td>\n",
       "    </tr>\n",
       "    <tr>\n",
       "      <th>3</th>\n",
       "      <td>42196</td>\n",
       "      <td>50 sm Studio in the historic centre</td>\n",
       "      <td>184487</td>\n",
       "      <td>Carlo</td>\n",
       "      <td>NaN</td>\n",
       "      <td>Santo Stefano</td>\n",
       "      <td>44.48507</td>\n",
       "      <td>11.34786</td>\n",
       "      <td>Entire home/apt</td>\n",
       "      <td>68</td>\n",
       "      <td>...</td>\n",
       "      <td>161</td>\n",
       "      <td>6</td>\n",
       "      <td>NaN</td>\n",
       "      <td>42196</td>\n",
       "      <td>2021-12-20</td>\n",
       "      <td>f</td>\n",
       "      <td>$68.00</td>\n",
       "      <td>$68.00</td>\n",
       "      <td>3</td>\n",
       "      <td>360</td>\n",
       "    </tr>\n",
       "    <tr>\n",
       "      <th>4</th>\n",
       "      <td>42196</td>\n",
       "      <td>50 sm Studio in the historic centre</td>\n",
       "      <td>184487</td>\n",
       "      <td>Carlo</td>\n",
       "      <td>NaN</td>\n",
       "      <td>Santo Stefano</td>\n",
       "      <td>44.48507</td>\n",
       "      <td>11.34786</td>\n",
       "      <td>Entire home/apt</td>\n",
       "      <td>68</td>\n",
       "      <td>...</td>\n",
       "      <td>161</td>\n",
       "      <td>6</td>\n",
       "      <td>NaN</td>\n",
       "      <td>42196</td>\n",
       "      <td>2021-12-21</td>\n",
       "      <td>f</td>\n",
       "      <td>$68.00</td>\n",
       "      <td>$68.00</td>\n",
       "      <td>3</td>\n",
       "      <td>360</td>\n",
       "    </tr>\n",
       "  </tbody>\n",
       "</table>\n",
       "<p>5 rows × 25 columns</p>\n",
       "</div>"
      ],
      "text/plain": [
       "      id                                 name  host_id host_name  \\\n",
       "0  42196  50 sm Studio in the historic centre   184487     Carlo   \n",
       "1  42196  50 sm Studio in the historic centre   184487     Carlo   \n",
       "2  42196  50 sm Studio in the historic centre   184487     Carlo   \n",
       "3  42196  50 sm Studio in the historic centre   184487     Carlo   \n",
       "4  42196  50 sm Studio in the historic centre   184487     Carlo   \n",
       "\n",
       "   neighbourhood_group  neighbourhood  latitude  longitude        room_type  \\\n",
       "0                  NaN  Santo Stefano  44.48507   11.34786  Entire home/apt   \n",
       "1                  NaN  Santo Stefano  44.48507   11.34786  Entire home/apt   \n",
       "2                  NaN  Santo Stefano  44.48507   11.34786  Entire home/apt   \n",
       "3                  NaN  Santo Stefano  44.48507   11.34786  Entire home/apt   \n",
       "4                  NaN  Santo Stefano  44.48507   11.34786  Entire home/apt   \n",
       "\n",
       "   price_x  ...  availability_365  number_of_reviews_ltm license  listing_id  \\\n",
       "0       68  ...               161                      6     NaN       42196   \n",
       "1       68  ...               161                      6     NaN       42196   \n",
       "2       68  ...               161                      6     NaN       42196   \n",
       "3       68  ...               161                      6     NaN       42196   \n",
       "4       68  ...               161                      6     NaN       42196   \n",
       "\n",
       "         date  available  price_y adjusted_price  minimum_nights_y  \\\n",
       "0  2021-12-17          f   $68.00         $68.00                 3   \n",
       "1  2021-12-18          f   $68.00         $68.00                 3   \n",
       "2  2021-12-19          f   $68.00         $68.00                 3   \n",
       "3  2021-12-20          f   $68.00         $68.00                 3   \n",
       "4  2021-12-21          f   $68.00         $68.00                 3   \n",
       "\n",
       "  maximum_nights  \n",
       "0            360  \n",
       "1            360  \n",
       "2            360  \n",
       "3            360  \n",
       "4            360  \n",
       "\n",
       "[5 rows x 25 columns]"
      ]
     },
     "execution_count": 35,
     "metadata": {},
     "output_type": "execute_result"
    }
   ],
   "source": [
    "df_merged = pd.merge(df_listings, df_prices, left_on='id', right_on='listing_id', how='inner')\n",
    "df_merged.head()"
   ]
  },
  {
   "cell_type": "markdown",
   "metadata": {},
   "source": [
    "Como você pode ver, como a variável `price` estava presente em ambos os conjuntos de dados, agora temos a `price.x` e a `price.y`."
   ]
  },
  {
   "cell_type": "markdown",
   "metadata": {},
   "source": [
    "### Remodelando\n",
    "\n",
    "Primeiro, vamos calcular os preços médios `neighbourhood` usando dateo conjunto de dados mesclado."
   ]
  },
  {
   "cell_type": "code",
   "execution_count": 36,
   "metadata": {},
   "outputs": [
    {
     "data": {
      "application/vnd.microsoft.datawrangler.viewer.v0+json": {
       "columns": [
        {
         "name": "index",
         "rawType": "int64",
         "type": "integer"
        },
        {
         "name": "neighbourhood",
         "rawType": "object",
         "type": "string"
        },
        {
         "name": "date",
         "rawType": "object",
         "type": "string"
        },
        {
         "name": "price_x",
         "rawType": "float64",
         "type": "float"
        }
       ],
       "conversionMethod": "pd.DataFrame",
       "ref": "005ba2e4-a7b6-4926-8c7a-747fa505d152",
       "rows": [
        [
         "0",
         "Borgo Panigale - Reno",
         "2021-12-17",
         "83.02054794520548"
        ],
        [
         "1",
         "Borgo Panigale - Reno",
         "2021-12-18",
         "83.02054794520548"
        ],
        [
         "2",
         "Borgo Panigale - Reno",
         "2021-12-19",
         "83.02054794520548"
        ],
        [
         "3",
         "Borgo Panigale - Reno",
         "2021-12-20",
         "83.02054794520548"
        ],
        [
         "4",
         "Borgo Panigale - Reno",
         "2021-12-21",
         "83.02054794520548"
        ]
       ],
       "shape": {
        "columns": 3,
        "rows": 5
       }
      },
      "text/html": [
       "<div>\n",
       "<style scoped>\n",
       "    .dataframe tbody tr th:only-of-type {\n",
       "        vertical-align: middle;\n",
       "    }\n",
       "\n",
       "    .dataframe tbody tr th {\n",
       "        vertical-align: top;\n",
       "    }\n",
       "\n",
       "    .dataframe thead th {\n",
       "        text-align: right;\n",
       "    }\n",
       "</style>\n",
       "<table border=\"1\" class=\"dataframe\">\n",
       "  <thead>\n",
       "    <tr style=\"text-align: right;\">\n",
       "      <th></th>\n",
       "      <th>neighbourhood</th>\n",
       "      <th>date</th>\n",
       "      <th>price_x</th>\n",
       "    </tr>\n",
       "  </thead>\n",
       "  <tbody>\n",
       "    <tr>\n",
       "      <th>0</th>\n",
       "      <td>Borgo Panigale - Reno</td>\n",
       "      <td>2021-12-17</td>\n",
       "      <td>83.020548</td>\n",
       "    </tr>\n",
       "    <tr>\n",
       "      <th>1</th>\n",
       "      <td>Borgo Panigale - Reno</td>\n",
       "      <td>2021-12-18</td>\n",
       "      <td>83.020548</td>\n",
       "    </tr>\n",
       "    <tr>\n",
       "      <th>2</th>\n",
       "      <td>Borgo Panigale - Reno</td>\n",
       "      <td>2021-12-19</td>\n",
       "      <td>83.020548</td>\n",
       "    </tr>\n",
       "    <tr>\n",
       "      <th>3</th>\n",
       "      <td>Borgo Panigale - Reno</td>\n",
       "      <td>2021-12-20</td>\n",
       "      <td>83.020548</td>\n",
       "    </tr>\n",
       "    <tr>\n",
       "      <th>4</th>\n",
       "      <td>Borgo Panigale - Reno</td>\n",
       "      <td>2021-12-21</td>\n",
       "      <td>83.020548</td>\n",
       "    </tr>\n",
       "  </tbody>\n",
       "</table>\n",
       "</div>"
      ],
      "text/plain": [
       "           neighbourhood        date    price_x\n",
       "0  Borgo Panigale - Reno  2021-12-17  83.020548\n",
       "1  Borgo Panigale - Reno  2021-12-18  83.020548\n",
       "2  Borgo Panigale - Reno  2021-12-19  83.020548\n",
       "3  Borgo Panigale - Reno  2021-12-20  83.020548\n",
       "4  Borgo Panigale - Reno  2021-12-21  83.020548"
      ]
     },
     "execution_count": 36,
     "metadata": {},
     "output_type": "execute_result"
    }
   ],
   "source": [
    "df_long = df_merged.groupby(['neighbourhood', 'date'])['price_x'].agg('mean').reset_index()\n",
    "df_long.head()"
   ]
  },
  {
   "cell_type": "markdown",
   "metadata": {},
   "source": [
    "Isso é o que chamamos de **formato longo**, pois tem uma ou mais variáveis ​​( `price_x` neste caso) empilhadas verticalmente ao longo de uma variável categórica (`neighborhoode` `date` aqui), que atua como índice.\n",
    "\n",
    "A alternativa é o **formato amplo**, onde temos uma coluna separada para cada bairro.\n",
    "\n",
    "Podemos remodelar o conjunto de dados **de longo** para **largo** usando o comando `pd.pivot()`."
   ]
  },
  {
   "cell_type": "code",
   "execution_count": 37,
   "metadata": {},
   "outputs": [
    {
     "data": {
      "application/vnd.microsoft.datawrangler.viewer.v0+json": {
       "columns": [
        {
         "name": "index",
         "rawType": "int64",
         "type": "integer"
        },
        {
         "name": "('date', '')",
         "rawType": "object",
         "type": "string"
        },
        {
         "name": "('price_x', 'Borgo Panigale - Reno')",
         "rawType": "float64",
         "type": "float"
        },
        {
         "name": "('price_x', 'Navile')",
         "rawType": "float64",
         "type": "float"
        },
        {
         "name": "('price_x', 'Porto - Saragozza')",
         "rawType": "float64",
         "type": "float"
        },
        {
         "name": "('price_x', 'San Donato - San Vitale')",
         "rawType": "float64",
         "type": "float"
        },
        {
         "name": "('price_x', 'Santo Stefano')",
         "rawType": "float64",
         "type": "float"
        },
        {
         "name": "('price_x', 'Savena')",
         "rawType": "float64",
         "type": "float"
        }
       ],
       "conversionMethod": "pd.DataFrame",
       "ref": "5acdead5-f5ca-4e3e-a407-b810c077665f",
       "rows": [
        [
         "0",
         "2021-12-17",
         "83.02054794520548",
         "142.20099255583128",
         "129.90831191088262",
         "91.618138424821",
         "119.4418410041841",
         "69.6260162601626"
        ],
        [
         "1",
         "2021-12-18",
         "83.02054794520548",
         "142.20099255583128",
         "129.90831191088262",
         "91.618138424821",
         "119.4418410041841",
         "69.6260162601626"
        ],
        [
         "2",
         "2021-12-19",
         "83.02054794520548",
         "142.20099255583128",
         "129.90831191088262",
         "91.618138424821",
         "119.4418410041841",
         "69.6260162601626"
        ],
        [
         "3",
         "2021-12-20",
         "83.02054794520548",
         "142.20099255583128",
         "129.90831191088262",
         "91.618138424821",
         "119.4418410041841",
         "69.6260162601626"
        ],
        [
         "4",
         "2021-12-21",
         "83.02054794520548",
         "142.20099255583128",
         "129.90831191088262",
         "91.618138424821",
         "119.4418410041841",
         "69.6260162601626"
        ]
       ],
       "shape": {
        "columns": 7,
        "rows": 5
       }
      },
      "text/html": [
       "<div>\n",
       "<style scoped>\n",
       "    .dataframe tbody tr th:only-of-type {\n",
       "        vertical-align: middle;\n",
       "    }\n",
       "\n",
       "    .dataframe tbody tr th {\n",
       "        vertical-align: top;\n",
       "    }\n",
       "\n",
       "    .dataframe thead tr th {\n",
       "        text-align: left;\n",
       "    }\n",
       "</style>\n",
       "<table border=\"1\" class=\"dataframe\">\n",
       "  <thead>\n",
       "    <tr>\n",
       "      <th></th>\n",
       "      <th>date</th>\n",
       "      <th colspan=\"6\" halign=\"left\">price_x</th>\n",
       "    </tr>\n",
       "    <tr>\n",
       "      <th>neighbourhood</th>\n",
       "      <th></th>\n",
       "      <th>Borgo Panigale - Reno</th>\n",
       "      <th>Navile</th>\n",
       "      <th>Porto - Saragozza</th>\n",
       "      <th>San Donato - San Vitale</th>\n",
       "      <th>Santo Stefano</th>\n",
       "      <th>Savena</th>\n",
       "    </tr>\n",
       "  </thead>\n",
       "  <tbody>\n",
       "    <tr>\n",
       "      <th>0</th>\n",
       "      <td>2021-12-17</td>\n",
       "      <td>83.020548</td>\n",
       "      <td>142.200993</td>\n",
       "      <td>129.908312</td>\n",
       "      <td>91.618138</td>\n",
       "      <td>119.441841</td>\n",
       "      <td>69.626016</td>\n",
       "    </tr>\n",
       "    <tr>\n",
       "      <th>1</th>\n",
       "      <td>2021-12-18</td>\n",
       "      <td>83.020548</td>\n",
       "      <td>142.200993</td>\n",
       "      <td>129.908312</td>\n",
       "      <td>91.618138</td>\n",
       "      <td>119.441841</td>\n",
       "      <td>69.626016</td>\n",
       "    </tr>\n",
       "    <tr>\n",
       "      <th>2</th>\n",
       "      <td>2021-12-19</td>\n",
       "      <td>83.020548</td>\n",
       "      <td>142.200993</td>\n",
       "      <td>129.908312</td>\n",
       "      <td>91.618138</td>\n",
       "      <td>119.441841</td>\n",
       "      <td>69.626016</td>\n",
       "    </tr>\n",
       "    <tr>\n",
       "      <th>3</th>\n",
       "      <td>2021-12-20</td>\n",
       "      <td>83.020548</td>\n",
       "      <td>142.200993</td>\n",
       "      <td>129.908312</td>\n",
       "      <td>91.618138</td>\n",
       "      <td>119.441841</td>\n",
       "      <td>69.626016</td>\n",
       "    </tr>\n",
       "    <tr>\n",
       "      <th>4</th>\n",
       "      <td>2021-12-21</td>\n",
       "      <td>83.020548</td>\n",
       "      <td>142.200993</td>\n",
       "      <td>129.908312</td>\n",
       "      <td>91.618138</td>\n",
       "      <td>119.441841</td>\n",
       "      <td>69.626016</td>\n",
       "    </tr>\n",
       "  </tbody>\n",
       "</table>\n",
       "</div>"
      ],
      "text/plain": [
       "                     date               price_x                                \\\n",
       "neighbourhood             Borgo Panigale - Reno      Navile Porto - Saragozza   \n",
       "0              2021-12-17             83.020548  142.200993        129.908312   \n",
       "1              2021-12-18             83.020548  142.200993        129.908312   \n",
       "2              2021-12-19             83.020548  142.200993        129.908312   \n",
       "3              2021-12-20             83.020548  142.200993        129.908312   \n",
       "4              2021-12-21             83.020548  142.200993        129.908312   \n",
       "\n",
       "                                                                \n",
       "neighbourhood San Donato - San Vitale Santo Stefano     Savena  \n",
       "0                           91.618138    119.441841  69.626016  \n",
       "1                           91.618138    119.441841  69.626016  \n",
       "2                           91.618138    119.441841  69.626016  \n",
       "3                           91.618138    119.441841  69.626016  \n",
       "4                           91.618138    119.441841  69.626016  "
      ]
     },
     "execution_count": 37,
     "metadata": {},
     "output_type": "execute_result"
    }
   ],
   "source": [
    "df_wide = pd.pivot(data=df_long, index='date', columns='neighbourhood').reset_index()\n",
    "df_wide.head()"
   ]
  },
  {
   "cell_type": "markdown",
   "metadata": {},
   "source": [
    "Podemos remodelar o conjunto de dados de largo para longo usando o comando `pd.melt()`. Ele aceita os seguintes argumentos\n",
    "\n",
    "* data: o dataframe\n",
    "* id_vars: a variável que estava indexando o antigo conjunto de dados\n",
    "  "
   ]
  },
  {
   "cell_type": "code",
   "execution_count": 38,
   "metadata": {},
   "outputs": [
    {
     "data": {
      "application/vnd.microsoft.datawrangler.viewer.v0+json": {
       "columns": [
        {
         "name": "index",
         "rawType": "int64",
         "type": "integer"
        },
        {
         "name": "date",
         "rawType": "object",
         "type": "string"
        },
        {
         "name": "None",
         "rawType": "object",
         "type": "string"
        },
        {
         "name": "neighbourhood",
         "rawType": "object",
         "type": "string"
        },
        {
         "name": "price",
         "rawType": "float64",
         "type": "float"
        }
       ],
       "conversionMethod": "pd.DataFrame",
       "ref": "c3720e7f-93ee-4cdf-b0e8-c708f95491b3",
       "rows": [
        [
         "0",
         "2021-12-17",
         "price_x",
         "Borgo Panigale - Reno",
         "83.02054794520548"
        ],
        [
         "1",
         "2021-12-18",
         "price_x",
         "Borgo Panigale - Reno",
         "83.02054794520548"
        ],
        [
         "2",
         "2021-12-19",
         "price_x",
         "Borgo Panigale - Reno",
         "83.02054794520548"
        ],
        [
         "3",
         "2021-12-20",
         "price_x",
         "Borgo Panigale - Reno",
         "83.02054794520548"
        ],
        [
         "4",
         "2021-12-21",
         "price_x",
         "Borgo Panigale - Reno",
         "83.02054794520548"
        ]
       ],
       "shape": {
        "columns": 4,
        "rows": 5
       }
      },
      "text/html": [
       "<div>\n",
       "<style scoped>\n",
       "    .dataframe tbody tr th:only-of-type {\n",
       "        vertical-align: middle;\n",
       "    }\n",
       "\n",
       "    .dataframe tbody tr th {\n",
       "        vertical-align: top;\n",
       "    }\n",
       "\n",
       "    .dataframe thead th {\n",
       "        text-align: right;\n",
       "    }\n",
       "</style>\n",
       "<table border=\"1\" class=\"dataframe\">\n",
       "  <thead>\n",
       "    <tr style=\"text-align: right;\">\n",
       "      <th></th>\n",
       "      <th>date</th>\n",
       "      <th>None</th>\n",
       "      <th>neighbourhood</th>\n",
       "      <th>price</th>\n",
       "    </tr>\n",
       "  </thead>\n",
       "  <tbody>\n",
       "    <tr>\n",
       "      <th>0</th>\n",
       "      <td>2021-12-17</td>\n",
       "      <td>price_x</td>\n",
       "      <td>Borgo Panigale - Reno</td>\n",
       "      <td>83.020548</td>\n",
       "    </tr>\n",
       "    <tr>\n",
       "      <th>1</th>\n",
       "      <td>2021-12-18</td>\n",
       "      <td>price_x</td>\n",
       "      <td>Borgo Panigale - Reno</td>\n",
       "      <td>83.020548</td>\n",
       "    </tr>\n",
       "    <tr>\n",
       "      <th>2</th>\n",
       "      <td>2021-12-19</td>\n",
       "      <td>price_x</td>\n",
       "      <td>Borgo Panigale - Reno</td>\n",
       "      <td>83.020548</td>\n",
       "    </tr>\n",
       "    <tr>\n",
       "      <th>3</th>\n",
       "      <td>2021-12-20</td>\n",
       "      <td>price_x</td>\n",
       "      <td>Borgo Panigale - Reno</td>\n",
       "      <td>83.020548</td>\n",
       "    </tr>\n",
       "    <tr>\n",
       "      <th>4</th>\n",
       "      <td>2021-12-21</td>\n",
       "      <td>price_x</td>\n",
       "      <td>Borgo Panigale - Reno</td>\n",
       "      <td>83.020548</td>\n",
       "    </tr>\n",
       "  </tbody>\n",
       "</table>\n",
       "</div>"
      ],
      "text/plain": [
       "         date     None          neighbourhood      price\n",
       "0  2021-12-17  price_x  Borgo Panigale - Reno  83.020548\n",
       "1  2021-12-18  price_x  Borgo Panigale - Reno  83.020548\n",
       "2  2021-12-19  price_x  Borgo Panigale - Reno  83.020548\n",
       "3  2021-12-20  price_x  Borgo Panigale - Reno  83.020548\n",
       "4  2021-12-21  price_x  Borgo Panigale - Reno  83.020548"
      ]
     },
     "execution_count": 38,
     "metadata": {},
     "output_type": "execute_result"
    }
   ],
   "source": [
    "pd.melt(df_wide, id_vars='date', value_name='price').head()"
   ]
  },
  {
   "cell_type": "markdown",
   "metadata": {},
   "source": [
    "Se não tivermos colunas `MultiIndex`, mas apenas um prefixo comum, podemos remodelar o conjunto de dados de largo para longo usando o comando `pd.wide_to_long()`."
   ]
  },
  {
   "cell_type": "code",
   "execution_count": 39,
   "metadata": {},
   "outputs": [
    {
     "data": {
      "application/vnd.microsoft.datawrangler.viewer.v0+json": {
       "columns": [
        {
         "name": "index",
         "rawType": "int64",
         "type": "integer"
        },
        {
         "name": "date",
         "rawType": "object",
         "type": "string"
        },
        {
         "name": "price_xBorgo Panigale - Reno",
         "rawType": "float64",
         "type": "float"
        },
        {
         "name": "price_xNavile",
         "rawType": "float64",
         "type": "float"
        },
        {
         "name": "price_xPorto - Saragozza",
         "rawType": "float64",
         "type": "float"
        },
        {
         "name": "price_xSan Donato - San Vitale",
         "rawType": "float64",
         "type": "float"
        },
        {
         "name": "price_xSanto Stefano",
         "rawType": "float64",
         "type": "float"
        },
        {
         "name": "price_xSavena",
         "rawType": "float64",
         "type": "float"
        }
       ],
       "conversionMethod": "pd.DataFrame",
       "ref": "db41c03b-84eb-434d-8960-5c4dae3e2c67",
       "rows": [
        [
         "0",
         "2021-12-17",
         "83.02054794520548",
         "142.20099255583128",
         "129.90831191088262",
         "91.618138424821",
         "119.4418410041841",
         "69.6260162601626"
        ],
        [
         "1",
         "2021-12-18",
         "83.02054794520548",
         "142.20099255583128",
         "129.90831191088262",
         "91.618138424821",
         "119.4418410041841",
         "69.6260162601626"
        ],
        [
         "2",
         "2021-12-19",
         "83.02054794520548",
         "142.20099255583128",
         "129.90831191088262",
         "91.618138424821",
         "119.4418410041841",
         "69.6260162601626"
        ],
        [
         "3",
         "2021-12-20",
         "83.02054794520548",
         "142.20099255583128",
         "129.90831191088262",
         "91.618138424821",
         "119.4418410041841",
         "69.6260162601626"
        ],
        [
         "4",
         "2021-12-21",
         "83.02054794520548",
         "142.20099255583128",
         "129.90831191088262",
         "91.618138424821",
         "119.4418410041841",
         "69.6260162601626"
        ]
       ],
       "shape": {
        "columns": 7,
        "rows": 5
       }
      },
      "text/html": [
       "<div>\n",
       "<style scoped>\n",
       "    .dataframe tbody tr th:only-of-type {\n",
       "        vertical-align: middle;\n",
       "    }\n",
       "\n",
       "    .dataframe tbody tr th {\n",
       "        vertical-align: top;\n",
       "    }\n",
       "\n",
       "    .dataframe thead th {\n",
       "        text-align: right;\n",
       "    }\n",
       "</style>\n",
       "<table border=\"1\" class=\"dataframe\">\n",
       "  <thead>\n",
       "    <tr style=\"text-align: right;\">\n",
       "      <th></th>\n",
       "      <th>date</th>\n",
       "      <th>price_xBorgo Panigale - Reno</th>\n",
       "      <th>price_xNavile</th>\n",
       "      <th>price_xPorto - Saragozza</th>\n",
       "      <th>price_xSan Donato - San Vitale</th>\n",
       "      <th>price_xSanto Stefano</th>\n",
       "      <th>price_xSavena</th>\n",
       "    </tr>\n",
       "  </thead>\n",
       "  <tbody>\n",
       "    <tr>\n",
       "      <th>0</th>\n",
       "      <td>2021-12-17</td>\n",
       "      <td>83.020548</td>\n",
       "      <td>142.200993</td>\n",
       "      <td>129.908312</td>\n",
       "      <td>91.618138</td>\n",
       "      <td>119.441841</td>\n",
       "      <td>69.626016</td>\n",
       "    </tr>\n",
       "    <tr>\n",
       "      <th>1</th>\n",
       "      <td>2021-12-18</td>\n",
       "      <td>83.020548</td>\n",
       "      <td>142.200993</td>\n",
       "      <td>129.908312</td>\n",
       "      <td>91.618138</td>\n",
       "      <td>119.441841</td>\n",
       "      <td>69.626016</td>\n",
       "    </tr>\n",
       "    <tr>\n",
       "      <th>2</th>\n",
       "      <td>2021-12-19</td>\n",
       "      <td>83.020548</td>\n",
       "      <td>142.200993</td>\n",
       "      <td>129.908312</td>\n",
       "      <td>91.618138</td>\n",
       "      <td>119.441841</td>\n",
       "      <td>69.626016</td>\n",
       "    </tr>\n",
       "    <tr>\n",
       "      <th>3</th>\n",
       "      <td>2021-12-20</td>\n",
       "      <td>83.020548</td>\n",
       "      <td>142.200993</td>\n",
       "      <td>129.908312</td>\n",
       "      <td>91.618138</td>\n",
       "      <td>119.441841</td>\n",
       "      <td>69.626016</td>\n",
       "    </tr>\n",
       "    <tr>\n",
       "      <th>4</th>\n",
       "      <td>2021-12-21</td>\n",
       "      <td>83.020548</td>\n",
       "      <td>142.200993</td>\n",
       "      <td>129.908312</td>\n",
       "      <td>91.618138</td>\n",
       "      <td>119.441841</td>\n",
       "      <td>69.626016</td>\n",
       "    </tr>\n",
       "  </tbody>\n",
       "</table>\n",
       "</div>"
      ],
      "text/plain": [
       "         date  price_xBorgo Panigale - Reno  price_xNavile  \\\n",
       "0  2021-12-17                     83.020548     142.200993   \n",
       "1  2021-12-18                     83.020548     142.200993   \n",
       "2  2021-12-19                     83.020548     142.200993   \n",
       "3  2021-12-20                     83.020548     142.200993   \n",
       "4  2021-12-21                     83.020548     142.200993   \n",
       "\n",
       "   price_xPorto - Saragozza  price_xSan Donato - San Vitale  \\\n",
       "0                129.908312                       91.618138   \n",
       "1                129.908312                       91.618138   \n",
       "2                129.908312                       91.618138   \n",
       "3                129.908312                       91.618138   \n",
       "4                129.908312                       91.618138   \n",
       "\n",
       "   price_xSanto Stefano  price_xSavena  \n",
       "0            119.441841      69.626016  \n",
       "1            119.441841      69.626016  \n",
       "2            119.441841      69.626016  \n",
       "3            119.441841      69.626016  \n",
       "4            119.441841      69.626016  "
      ]
     },
     "execution_count": 39,
     "metadata": {},
     "output_type": "execute_result"
    }
   ],
   "source": [
    "df_wide2 = df_wide.copy()\n",
    "df_wide2.columns = [''.join(col) for col in df_wide2.columns]\n",
    "df_wide2.head()"
   ]
  },
  {
   "cell_type": "markdown",
   "metadata": {},
   "source": [
    "O comando `pd.wide_to_long()` aceita os seguintes argumentos\n",
    "\n",
    "* data: o dataframe\n",
    "* stubnames: os prefixos das variáveis ​​que queremos remodelar em uma\n",
    "* i: a variável que estava indexando o antigo conjunto de dados\n",
    "* j: o nome da nova variável categórica que extraímos destubnames\n",
    "* suffix: expressão regular do sufixo, o padrão é \\d+, ou seja, dígitos"
   ]
  },
  {
   "cell_type": "code",
   "execution_count": 40,
   "metadata": {},
   "outputs": [
    {
     "data": {
      "application/vnd.microsoft.datawrangler.viewer.v0+json": {
       "columns": [
        {
         "name": "('date', 'neighborhood')",
         "rawType": "object",
         "type": "string"
        },
        {
         "name": "price_x",
         "rawType": "float64",
         "type": "float"
        }
       ],
       "conversionMethod": "pd.DataFrame",
       "ref": "97227981-6abf-46df-93ec-882d2b5ab18e",
       "rows": [
        [
         "('2021-12-17', 'Borgo Panigale - Reno')",
         "83.02054794520548"
        ],
        [
         "('2021-12-18', 'Borgo Panigale - Reno')",
         "83.02054794520548"
        ],
        [
         "('2021-12-19', 'Borgo Panigale - Reno')",
         "83.02054794520548"
        ],
        [
         "('2021-12-20', 'Borgo Panigale - Reno')",
         "83.02054794520548"
        ],
        [
         "('2021-12-21', 'Borgo Panigale - Reno')",
         "83.02054794520548"
        ]
       ],
       "shape": {
        "columns": 1,
        "rows": 5
       }
      },
      "text/html": [
       "<div>\n",
       "<style scoped>\n",
       "    .dataframe tbody tr th:only-of-type {\n",
       "        vertical-align: middle;\n",
       "    }\n",
       "\n",
       "    .dataframe tbody tr th {\n",
       "        vertical-align: top;\n",
       "    }\n",
       "\n",
       "    .dataframe thead th {\n",
       "        text-align: right;\n",
       "    }\n",
       "</style>\n",
       "<table border=\"1\" class=\"dataframe\">\n",
       "  <thead>\n",
       "    <tr style=\"text-align: right;\">\n",
       "      <th></th>\n",
       "      <th></th>\n",
       "      <th>price_x</th>\n",
       "    </tr>\n",
       "    <tr>\n",
       "      <th>date</th>\n",
       "      <th>neighborhood</th>\n",
       "      <th></th>\n",
       "    </tr>\n",
       "  </thead>\n",
       "  <tbody>\n",
       "    <tr>\n",
       "      <th>2021-12-17</th>\n",
       "      <th>Borgo Panigale - Reno</th>\n",
       "      <td>83.020548</td>\n",
       "    </tr>\n",
       "    <tr>\n",
       "      <th>2021-12-18</th>\n",
       "      <th>Borgo Panigale - Reno</th>\n",
       "      <td>83.020548</td>\n",
       "    </tr>\n",
       "    <tr>\n",
       "      <th>2021-12-19</th>\n",
       "      <th>Borgo Panigale - Reno</th>\n",
       "      <td>83.020548</td>\n",
       "    </tr>\n",
       "    <tr>\n",
       "      <th>2021-12-20</th>\n",
       "      <th>Borgo Panigale - Reno</th>\n",
       "      <td>83.020548</td>\n",
       "    </tr>\n",
       "    <tr>\n",
       "      <th>2021-12-21</th>\n",
       "      <th>Borgo Panigale - Reno</th>\n",
       "      <td>83.020548</td>\n",
       "    </tr>\n",
       "  </tbody>\n",
       "</table>\n",
       "</div>"
      ],
      "text/plain": [
       "                                    price_x\n",
       "date       neighborhood                    \n",
       "2021-12-17 Borgo Panigale - Reno  83.020548\n",
       "2021-12-18 Borgo Panigale - Reno  83.020548\n",
       "2021-12-19 Borgo Panigale - Reno  83.020548\n",
       "2021-12-20 Borgo Panigale - Reno  83.020548\n",
       "2021-12-21 Borgo Panigale - Reno  83.020548"
      ]
     },
     "execution_count": 40,
     "metadata": {},
     "output_type": "execute_result"
    }
   ],
   "source": [
    "pd.wide_to_long(df_wide2, stubnames='price_x', i='date', j='neighborhood', suffix='\\D+').head()"
   ]
  },
  {
   "cell_type": "markdown",
   "metadata": {},
   "source": [
    "Observe que tivemos que alterar o `suffix` para `\\D+`, ou seja, não dígitos."
   ]
  },
  {
   "cell_type": "markdown",
   "metadata": {},
   "source": [
    "### Função da Janela\n",
    "\n",
    "Métodos\n",
    "\n",
    "* shift()\n",
    "* expanding()\n",
    "* rolling()\n",
    "\n",
    "Quando temos dados de séries temporais, podemos querer fazer operações ao longo do tempo. Primeiro, vamos agregar o conjunto de dados `df_price` no nível ano-mês."
   ]
  },
  {
   "cell_type": "code",
   "execution_count": 41,
   "metadata": {},
   "outputs": [
    {
     "data": {
      "application/vnd.microsoft.datawrangler.viewer.v0+json": {
       "columns": [
        {
         "name": "index",
         "rawType": "int64",
         "type": "integer"
        },
        {
         "name": "listing_id",
         "rawType": "int64",
         "type": "integer"
        },
        {
         "name": "date",
         "rawType": "period[M]",
         "type": "unknown"
        },
        {
         "name": "price",
         "rawType": "float64",
         "type": "float"
        }
       ],
       "conversionMethod": "pd.DataFrame",
       "ref": "efa81ba4-e6ef-4db6-862e-a38e5e40bf4d",
       "rows": [
        [
         "44876",
         "53854962",
         "2021-12",
         "147.4"
        ],
        [
         "44877",
         "53854962",
         "2022-01",
         "137.6451612903226"
        ],
        [
         "44878",
         "53854962",
         "2022-02",
         "124.64285714285714"
        ],
        [
         "44879",
         "53854962",
         "2022-03",
         "285.0967741935484"
        ],
        [
         "44880",
         "53854962",
         "2022-04",
         "115.0"
        ]
       ],
       "shape": {
        "columns": 3,
        "rows": 5
       }
      },
      "text/html": [
       "<div>\n",
       "<style scoped>\n",
       "    .dataframe tbody tr th:only-of-type {\n",
       "        vertical-align: middle;\n",
       "    }\n",
       "\n",
       "    .dataframe tbody tr th {\n",
       "        vertical-align: top;\n",
       "    }\n",
       "\n",
       "    .dataframe thead th {\n",
       "        text-align: right;\n",
       "    }\n",
       "</style>\n",
       "<table border=\"1\" class=\"dataframe\">\n",
       "  <thead>\n",
       "    <tr style=\"text-align: right;\">\n",
       "      <th></th>\n",
       "      <th>listing_id</th>\n",
       "      <th>date</th>\n",
       "      <th>price</th>\n",
       "    </tr>\n",
       "  </thead>\n",
       "  <tbody>\n",
       "    <tr>\n",
       "      <th>44876</th>\n",
       "      <td>53854962</td>\n",
       "      <td>2021-12</td>\n",
       "      <td>147.400000</td>\n",
       "    </tr>\n",
       "    <tr>\n",
       "      <th>44877</th>\n",
       "      <td>53854962</td>\n",
       "      <td>2022-01</td>\n",
       "      <td>137.645161</td>\n",
       "    </tr>\n",
       "    <tr>\n",
       "      <th>44878</th>\n",
       "      <td>53854962</td>\n",
       "      <td>2022-02</td>\n",
       "      <td>124.642857</td>\n",
       "    </tr>\n",
       "    <tr>\n",
       "      <th>44879</th>\n",
       "      <td>53854962</td>\n",
       "      <td>2022-03</td>\n",
       "      <td>285.096774</td>\n",
       "    </tr>\n",
       "    <tr>\n",
       "      <th>44880</th>\n",
       "      <td>53854962</td>\n",
       "      <td>2022-04</td>\n",
       "      <td>115.000000</td>\n",
       "    </tr>\n",
       "  </tbody>\n",
       "</table>\n",
       "</div>"
      ],
      "text/plain": [
       "       listing_id     date       price\n",
       "44876    53854962  2021-12  147.400000\n",
       "44877    53854962  2022-01  137.645161\n",
       "44878    53854962  2022-02  124.642857\n",
       "44879    53854962  2022-03  285.096774\n",
       "44880    53854962  2022-04  115.000000"
      ]
     },
     "execution_count": 41,
     "metadata": {},
     "output_type": "execute_result"
    }
   ],
   "source": [
    "temp = df_prices.copy()\n",
    "temp['price'] = temp['price'].str.replace('[$|,]', '', regex=True).astype(float)\n",
    "temp['date'] = pd.to_datetime(temp['date']).dt.to_period('M')\n",
    "temp = temp.groupby(['listing_id', 'date'])['price'].mean().reset_index()\\\n",
    "    .sort_values(by=['listing_id', 'date'], ascending=[False, True])\n",
    "temp.head()"
   ]
  },
  {
   "cell_type": "markdown",
   "metadata": {},
   "source": [
    "Podemos adiantar ou atrasar uma variável usando `shift()`."
   ]
  },
  {
   "cell_type": "code",
   "execution_count": 42,
   "metadata": {},
   "outputs": [
    {
     "data": {
      "application/vnd.microsoft.datawrangler.viewer.v0+json": {
       "columns": [
        {
         "name": "index",
         "rawType": "int64",
         "type": "integer"
        },
        {
         "name": "listing_id",
         "rawType": "int64",
         "type": "integer"
        },
        {
         "name": "date",
         "rawType": "period[M]",
         "type": "unknown"
        },
        {
         "name": "price",
         "rawType": "float64",
         "type": "float"
        },
        {
         "name": "price1",
         "rawType": "float64",
         "type": "float"
        }
       ],
       "conversionMethod": "pd.DataFrame",
       "ref": "2555bff9-58e6-42e3-9321-bca6fe771fad",
       "rows": [
        [
         "44876",
         "53854962",
         "2021-12",
         "147.4",
         null
        ],
        [
         "44877",
         "53854962",
         "2022-01",
         "137.6451612903226",
         "147.4"
        ],
        [
         "44878",
         "53854962",
         "2022-02",
         "124.64285714285714",
         "137.6451612903226"
        ],
        [
         "44879",
         "53854962",
         "2022-03",
         "285.0967741935484",
         "124.64285714285714"
        ],
        [
         "44880",
         "53854962",
         "2022-04",
         "115.0",
         "285.0967741935484"
        ],
        [
         "44881",
         "53854962",
         "2022-05",
         "115.0",
         "115.0"
        ],
        [
         "44882",
         "53854962",
         "2022-06",
         "115.0",
         "115.0"
        ],
        [
         "44883",
         "53854962",
         "2022-07",
         "115.0",
         "115.0"
        ],
        [
         "44884",
         "53854962",
         "2022-08",
         "115.0",
         "115.0"
        ],
        [
         "44885",
         "53854962",
         "2022-09",
         "115.0",
         "115.0"
        ],
        [
         "44886",
         "53854962",
         "2022-10",
         "115.0",
         "115.0"
        ],
        [
         "44887",
         "53854962",
         "2022-11",
         "115.0",
         "115.0"
        ],
        [
         "44888",
         "53854962",
         "2022-12",
         "115.0",
         "115.0"
        ],
        [
         "44863",
         "53837654",
         "2021-12",
         "184.13333333333333",
         "115.0"
        ],
        [
         "44864",
         "53837654",
         "2022-01",
         "148.74193548387098",
         "184.13333333333333"
        ]
       ],
       "shape": {
        "columns": 4,
        "rows": 15
       }
      },
      "text/html": [
       "<div>\n",
       "<style scoped>\n",
       "    .dataframe tbody tr th:only-of-type {\n",
       "        vertical-align: middle;\n",
       "    }\n",
       "\n",
       "    .dataframe tbody tr th {\n",
       "        vertical-align: top;\n",
       "    }\n",
       "\n",
       "    .dataframe thead th {\n",
       "        text-align: right;\n",
       "    }\n",
       "</style>\n",
       "<table border=\"1\" class=\"dataframe\">\n",
       "  <thead>\n",
       "    <tr style=\"text-align: right;\">\n",
       "      <th></th>\n",
       "      <th>listing_id</th>\n",
       "      <th>date</th>\n",
       "      <th>price</th>\n",
       "      <th>price1</th>\n",
       "    </tr>\n",
       "  </thead>\n",
       "  <tbody>\n",
       "    <tr>\n",
       "      <th>44876</th>\n",
       "      <td>53854962</td>\n",
       "      <td>2021-12</td>\n",
       "      <td>147.400000</td>\n",
       "      <td>NaN</td>\n",
       "    </tr>\n",
       "    <tr>\n",
       "      <th>44877</th>\n",
       "      <td>53854962</td>\n",
       "      <td>2022-01</td>\n",
       "      <td>137.645161</td>\n",
       "      <td>147.400000</td>\n",
       "    </tr>\n",
       "    <tr>\n",
       "      <th>44878</th>\n",
       "      <td>53854962</td>\n",
       "      <td>2022-02</td>\n",
       "      <td>124.642857</td>\n",
       "      <td>137.645161</td>\n",
       "    </tr>\n",
       "    <tr>\n",
       "      <th>44879</th>\n",
       "      <td>53854962</td>\n",
       "      <td>2022-03</td>\n",
       "      <td>285.096774</td>\n",
       "      <td>124.642857</td>\n",
       "    </tr>\n",
       "    <tr>\n",
       "      <th>44880</th>\n",
       "      <td>53854962</td>\n",
       "      <td>2022-04</td>\n",
       "      <td>115.000000</td>\n",
       "      <td>285.096774</td>\n",
       "    </tr>\n",
       "    <tr>\n",
       "      <th>44881</th>\n",
       "      <td>53854962</td>\n",
       "      <td>2022-05</td>\n",
       "      <td>115.000000</td>\n",
       "      <td>115.000000</td>\n",
       "    </tr>\n",
       "    <tr>\n",
       "      <th>44882</th>\n",
       "      <td>53854962</td>\n",
       "      <td>2022-06</td>\n",
       "      <td>115.000000</td>\n",
       "      <td>115.000000</td>\n",
       "    </tr>\n",
       "    <tr>\n",
       "      <th>44883</th>\n",
       "      <td>53854962</td>\n",
       "      <td>2022-07</td>\n",
       "      <td>115.000000</td>\n",
       "      <td>115.000000</td>\n",
       "    </tr>\n",
       "    <tr>\n",
       "      <th>44884</th>\n",
       "      <td>53854962</td>\n",
       "      <td>2022-08</td>\n",
       "      <td>115.000000</td>\n",
       "      <td>115.000000</td>\n",
       "    </tr>\n",
       "    <tr>\n",
       "      <th>44885</th>\n",
       "      <td>53854962</td>\n",
       "      <td>2022-09</td>\n",
       "      <td>115.000000</td>\n",
       "      <td>115.000000</td>\n",
       "    </tr>\n",
       "    <tr>\n",
       "      <th>44886</th>\n",
       "      <td>53854962</td>\n",
       "      <td>2022-10</td>\n",
       "      <td>115.000000</td>\n",
       "      <td>115.000000</td>\n",
       "    </tr>\n",
       "    <tr>\n",
       "      <th>44887</th>\n",
       "      <td>53854962</td>\n",
       "      <td>2022-11</td>\n",
       "      <td>115.000000</td>\n",
       "      <td>115.000000</td>\n",
       "    </tr>\n",
       "    <tr>\n",
       "      <th>44888</th>\n",
       "      <td>53854962</td>\n",
       "      <td>2022-12</td>\n",
       "      <td>115.000000</td>\n",
       "      <td>115.000000</td>\n",
       "    </tr>\n",
       "    <tr>\n",
       "      <th>44863</th>\n",
       "      <td>53837654</td>\n",
       "      <td>2021-12</td>\n",
       "      <td>184.133333</td>\n",
       "      <td>115.000000</td>\n",
       "    </tr>\n",
       "    <tr>\n",
       "      <th>44864</th>\n",
       "      <td>53837654</td>\n",
       "      <td>2022-01</td>\n",
       "      <td>148.741935</td>\n",
       "      <td>184.133333</td>\n",
       "    </tr>\n",
       "  </tbody>\n",
       "</table>\n",
       "</div>"
      ],
      "text/plain": [
       "       listing_id     date       price      price1\n",
       "44876    53854962  2021-12  147.400000         NaN\n",
       "44877    53854962  2022-01  137.645161  147.400000\n",
       "44878    53854962  2022-02  124.642857  137.645161\n",
       "44879    53854962  2022-03  285.096774  124.642857\n",
       "44880    53854962  2022-04  115.000000  285.096774\n",
       "44881    53854962  2022-05  115.000000  115.000000\n",
       "44882    53854962  2022-06  115.000000  115.000000\n",
       "44883    53854962  2022-07  115.000000  115.000000\n",
       "44884    53854962  2022-08  115.000000  115.000000\n",
       "44885    53854962  2022-09  115.000000  115.000000\n",
       "44886    53854962  2022-10  115.000000  115.000000\n",
       "44887    53854962  2022-11  115.000000  115.000000\n",
       "44888    53854962  2022-12  115.000000  115.000000\n",
       "44863    53837654  2021-12  184.133333  115.000000\n",
       "44864    53837654  2022-01  148.741935  184.133333"
      ]
     },
     "execution_count": 42,
     "metadata": {},
     "output_type": "execute_result"
    }
   ],
   "source": [
    "temp['price1'] = temp['price'].shift(1)\n",
    "temp.head(15)"
   ]
  },
  {
   "cell_type": "markdown",
   "metadata": {},
   "source": [
    "Se quisermos adiantar ou atrasar uma variável dentro de um grupo , podemos combinar `shift()` com `groupby()`."
   ]
  },
  {
   "cell_type": "code",
   "execution_count": 43,
   "metadata": {},
   "outputs": [
    {
     "data": {
      "application/vnd.microsoft.datawrangler.viewer.v0+json": {
       "columns": [
        {
         "name": "index",
         "rawType": "int64",
         "type": "integer"
        },
        {
         "name": "listing_id",
         "rawType": "int64",
         "type": "integer"
        },
        {
         "name": "date",
         "rawType": "period[M]",
         "type": "unknown"
        },
        {
         "name": "price",
         "rawType": "float64",
         "type": "float"
        },
        {
         "name": "price1",
         "rawType": "float64",
         "type": "float"
        }
       ],
       "conversionMethod": "pd.DataFrame",
       "ref": "b4fc7e26-f48b-46c8-bc40-e1450b20989e",
       "rows": [
        [
         "44876",
         "53854962",
         "2021-12",
         "147.4",
         null
        ],
        [
         "44877",
         "53854962",
         "2022-01",
         "137.6451612903226",
         "147.4"
        ],
        [
         "44878",
         "53854962",
         "2022-02",
         "124.64285714285714",
         "137.6451612903226"
        ],
        [
         "44879",
         "53854962",
         "2022-03",
         "285.0967741935484",
         "124.64285714285714"
        ],
        [
         "44880",
         "53854962",
         "2022-04",
         "115.0",
         "285.0967741935484"
        ],
        [
         "44881",
         "53854962",
         "2022-05",
         "115.0",
         "115.0"
        ],
        [
         "44882",
         "53854962",
         "2022-06",
         "115.0",
         "115.0"
        ],
        [
         "44883",
         "53854962",
         "2022-07",
         "115.0",
         "115.0"
        ],
        [
         "44884",
         "53854962",
         "2022-08",
         "115.0",
         "115.0"
        ],
        [
         "44885",
         "53854962",
         "2022-09",
         "115.0",
         "115.0"
        ],
        [
         "44886",
         "53854962",
         "2022-10",
         "115.0",
         "115.0"
        ],
        [
         "44887",
         "53854962",
         "2022-11",
         "115.0",
         "115.0"
        ],
        [
         "44888",
         "53854962",
         "2022-12",
         "115.0",
         "115.0"
        ],
        [
         "44863",
         "53837654",
         "2021-12",
         "184.13333333333333",
         null
        ],
        [
         "44864",
         "53837654",
         "2022-01",
         "148.74193548387098",
         "184.13333333333333"
        ]
       ],
       "shape": {
        "columns": 4,
        "rows": 15
       }
      },
      "text/html": [
       "<div>\n",
       "<style scoped>\n",
       "    .dataframe tbody tr th:only-of-type {\n",
       "        vertical-align: middle;\n",
       "    }\n",
       "\n",
       "    .dataframe tbody tr th {\n",
       "        vertical-align: top;\n",
       "    }\n",
       "\n",
       "    .dataframe thead th {\n",
       "        text-align: right;\n",
       "    }\n",
       "</style>\n",
       "<table border=\"1\" class=\"dataframe\">\n",
       "  <thead>\n",
       "    <tr style=\"text-align: right;\">\n",
       "      <th></th>\n",
       "      <th>listing_id</th>\n",
       "      <th>date</th>\n",
       "      <th>price</th>\n",
       "      <th>price1</th>\n",
       "    </tr>\n",
       "  </thead>\n",
       "  <tbody>\n",
       "    <tr>\n",
       "      <th>44876</th>\n",
       "      <td>53854962</td>\n",
       "      <td>2021-12</td>\n",
       "      <td>147.400000</td>\n",
       "      <td>NaN</td>\n",
       "    </tr>\n",
       "    <tr>\n",
       "      <th>44877</th>\n",
       "      <td>53854962</td>\n",
       "      <td>2022-01</td>\n",
       "      <td>137.645161</td>\n",
       "      <td>147.400000</td>\n",
       "    </tr>\n",
       "    <tr>\n",
       "      <th>44878</th>\n",
       "      <td>53854962</td>\n",
       "      <td>2022-02</td>\n",
       "      <td>124.642857</td>\n",
       "      <td>137.645161</td>\n",
       "    </tr>\n",
       "    <tr>\n",
       "      <th>44879</th>\n",
       "      <td>53854962</td>\n",
       "      <td>2022-03</td>\n",
       "      <td>285.096774</td>\n",
       "      <td>124.642857</td>\n",
       "    </tr>\n",
       "    <tr>\n",
       "      <th>44880</th>\n",
       "      <td>53854962</td>\n",
       "      <td>2022-04</td>\n",
       "      <td>115.000000</td>\n",
       "      <td>285.096774</td>\n",
       "    </tr>\n",
       "    <tr>\n",
       "      <th>44881</th>\n",
       "      <td>53854962</td>\n",
       "      <td>2022-05</td>\n",
       "      <td>115.000000</td>\n",
       "      <td>115.000000</td>\n",
       "    </tr>\n",
       "    <tr>\n",
       "      <th>44882</th>\n",
       "      <td>53854962</td>\n",
       "      <td>2022-06</td>\n",
       "      <td>115.000000</td>\n",
       "      <td>115.000000</td>\n",
       "    </tr>\n",
       "    <tr>\n",
       "      <th>44883</th>\n",
       "      <td>53854962</td>\n",
       "      <td>2022-07</td>\n",
       "      <td>115.000000</td>\n",
       "      <td>115.000000</td>\n",
       "    </tr>\n",
       "    <tr>\n",
       "      <th>44884</th>\n",
       "      <td>53854962</td>\n",
       "      <td>2022-08</td>\n",
       "      <td>115.000000</td>\n",
       "      <td>115.000000</td>\n",
       "    </tr>\n",
       "    <tr>\n",
       "      <th>44885</th>\n",
       "      <td>53854962</td>\n",
       "      <td>2022-09</td>\n",
       "      <td>115.000000</td>\n",
       "      <td>115.000000</td>\n",
       "    </tr>\n",
       "    <tr>\n",
       "      <th>44886</th>\n",
       "      <td>53854962</td>\n",
       "      <td>2022-10</td>\n",
       "      <td>115.000000</td>\n",
       "      <td>115.000000</td>\n",
       "    </tr>\n",
       "    <tr>\n",
       "      <th>44887</th>\n",
       "      <td>53854962</td>\n",
       "      <td>2022-11</td>\n",
       "      <td>115.000000</td>\n",
       "      <td>115.000000</td>\n",
       "    </tr>\n",
       "    <tr>\n",
       "      <th>44888</th>\n",
       "      <td>53854962</td>\n",
       "      <td>2022-12</td>\n",
       "      <td>115.000000</td>\n",
       "      <td>115.000000</td>\n",
       "    </tr>\n",
       "    <tr>\n",
       "      <th>44863</th>\n",
       "      <td>53837654</td>\n",
       "      <td>2021-12</td>\n",
       "      <td>184.133333</td>\n",
       "      <td>NaN</td>\n",
       "    </tr>\n",
       "    <tr>\n",
       "      <th>44864</th>\n",
       "      <td>53837654</td>\n",
       "      <td>2022-01</td>\n",
       "      <td>148.741935</td>\n",
       "      <td>184.133333</td>\n",
       "    </tr>\n",
       "  </tbody>\n",
       "</table>\n",
       "</div>"
      ],
      "text/plain": [
       "       listing_id     date       price      price1\n",
       "44876    53854962  2021-12  147.400000         NaN\n",
       "44877    53854962  2022-01  137.645161  147.400000\n",
       "44878    53854962  2022-02  124.642857  137.645161\n",
       "44879    53854962  2022-03  285.096774  124.642857\n",
       "44880    53854962  2022-04  115.000000  285.096774\n",
       "44881    53854962  2022-05  115.000000  115.000000\n",
       "44882    53854962  2022-06  115.000000  115.000000\n",
       "44883    53854962  2022-07  115.000000  115.000000\n",
       "44884    53854962  2022-08  115.000000  115.000000\n",
       "44885    53854962  2022-09  115.000000  115.000000\n",
       "44886    53854962  2022-10  115.000000  115.000000\n",
       "44887    53854962  2022-11  115.000000  115.000000\n",
       "44888    53854962  2022-12  115.000000  115.000000\n",
       "44863    53837654  2021-12  184.133333         NaN\n",
       "44864    53837654  2022-01  148.741935  184.133333"
      ]
     },
     "execution_count": 43,
     "metadata": {},
     "output_type": "execute_result"
    }
   ],
   "source": [
    "temp['price1'] = temp.groupby('listing_id')['price'].shift(1)\n",
    "temp.head(15)"
   ]
  },
  {
   "cell_type": "markdown",
   "metadata": {},
   "source": [
    "Podemos realizar operações cumulativas `expanding()` usando a função"
   ]
  },
  {
   "cell_type": "code",
   "execution_count": 44,
   "metadata": {},
   "outputs": [
    {
     "data": {
      "application/vnd.microsoft.datawrangler.viewer.v0+json": {
       "columns": [
        {
         "name": "index",
         "rawType": "int64",
         "type": "integer"
        },
        {
         "name": "listing_id",
         "rawType": "int64",
         "type": "integer"
        },
        {
         "name": "date",
         "rawType": "period[M]",
         "type": "unknown"
        },
        {
         "name": "price",
         "rawType": "float64",
         "type": "float"
        },
        {
         "name": "price1",
         "rawType": "float64",
         "type": "float"
        },
        {
         "name": "avg_cum_price",
         "rawType": "float64",
         "type": "float"
        }
       ],
       "conversionMethod": "pd.DataFrame",
       "ref": "2f5ce56d-134a-4531-be98-79ddf0a89d19",
       "rows": [
        [
         "44876",
         "53854962",
         "2021-12",
         "147.4",
         null,
         "147.4"
        ],
        [
         "44877",
         "53854962",
         "2022-01",
         "137.6451612903226",
         "147.4",
         "142.5225806451613"
        ],
        [
         "44878",
         "53854962",
         "2022-02",
         "124.64285714285714",
         "137.6451612903226",
         "136.5626728110599"
        ],
        [
         "44879",
         "53854962",
         "2022-03",
         "285.0967741935484",
         "124.64285714285714",
         "173.69619815668204"
        ],
        [
         "44880",
         "53854962",
         "2022-04",
         "115.0",
         "285.0967741935484",
         "161.95695852534564"
        ],
        [
         "44881",
         "53854962",
         "2022-05",
         "115.0",
         "115.0",
         "154.13079877112136"
        ],
        [
         "44882",
         "53854962",
         "2022-06",
         "115.0",
         "115.0",
         "148.54068466096118"
        ],
        [
         "44883",
         "53854962",
         "2022-07",
         "115.0",
         "115.0",
         "144.34809907834102"
        ],
        [
         "44884",
         "53854962",
         "2022-08",
         "115.0",
         "115.0",
         "141.08719918074758"
        ],
        [
         "44885",
         "53854962",
         "2022-09",
         "115.0",
         "115.0",
         "138.4784792626728"
        ],
        [
         "44886",
         "53854962",
         "2022-10",
         "115.0",
         "115.0",
         "136.34407205697528"
        ],
        [
         "44887",
         "53854962",
         "2022-11",
         "115.0",
         "115.0",
         "134.56539938556068"
        ],
        [
         "44888",
         "53854962",
         "2022-12",
         "115.0",
         "115.0",
         "133.0603686635945"
        ],
        [
         "44863",
         "53837654",
         "2021-12",
         "184.13333333333333",
         null,
         "136.70843756857582"
        ],
        [
         "44864",
         "53837654",
         "2022-01",
         "148.74193548387098",
         "184.13333333333333",
         "137.51067076292884"
        ]
       ],
       "shape": {
        "columns": 5,
        "rows": 15
       }
      },
      "text/html": [
       "<div>\n",
       "<style scoped>\n",
       "    .dataframe tbody tr th:only-of-type {\n",
       "        vertical-align: middle;\n",
       "    }\n",
       "\n",
       "    .dataframe tbody tr th {\n",
       "        vertical-align: top;\n",
       "    }\n",
       "\n",
       "    .dataframe thead th {\n",
       "        text-align: right;\n",
       "    }\n",
       "</style>\n",
       "<table border=\"1\" class=\"dataframe\">\n",
       "  <thead>\n",
       "    <tr style=\"text-align: right;\">\n",
       "      <th></th>\n",
       "      <th>listing_id</th>\n",
       "      <th>date</th>\n",
       "      <th>price</th>\n",
       "      <th>price1</th>\n",
       "      <th>avg_cum_price</th>\n",
       "    </tr>\n",
       "  </thead>\n",
       "  <tbody>\n",
       "    <tr>\n",
       "      <th>44876</th>\n",
       "      <td>53854962</td>\n",
       "      <td>2021-12</td>\n",
       "      <td>147.400000</td>\n",
       "      <td>NaN</td>\n",
       "      <td>147.400000</td>\n",
       "    </tr>\n",
       "    <tr>\n",
       "      <th>44877</th>\n",
       "      <td>53854962</td>\n",
       "      <td>2022-01</td>\n",
       "      <td>137.645161</td>\n",
       "      <td>147.400000</td>\n",
       "      <td>142.522581</td>\n",
       "    </tr>\n",
       "    <tr>\n",
       "      <th>44878</th>\n",
       "      <td>53854962</td>\n",
       "      <td>2022-02</td>\n",
       "      <td>124.642857</td>\n",
       "      <td>137.645161</td>\n",
       "      <td>136.562673</td>\n",
       "    </tr>\n",
       "    <tr>\n",
       "      <th>44879</th>\n",
       "      <td>53854962</td>\n",
       "      <td>2022-03</td>\n",
       "      <td>285.096774</td>\n",
       "      <td>124.642857</td>\n",
       "      <td>173.696198</td>\n",
       "    </tr>\n",
       "    <tr>\n",
       "      <th>44880</th>\n",
       "      <td>53854962</td>\n",
       "      <td>2022-04</td>\n",
       "      <td>115.000000</td>\n",
       "      <td>285.096774</td>\n",
       "      <td>161.956959</td>\n",
       "    </tr>\n",
       "    <tr>\n",
       "      <th>44881</th>\n",
       "      <td>53854962</td>\n",
       "      <td>2022-05</td>\n",
       "      <td>115.000000</td>\n",
       "      <td>115.000000</td>\n",
       "      <td>154.130799</td>\n",
       "    </tr>\n",
       "    <tr>\n",
       "      <th>44882</th>\n",
       "      <td>53854962</td>\n",
       "      <td>2022-06</td>\n",
       "      <td>115.000000</td>\n",
       "      <td>115.000000</td>\n",
       "      <td>148.540685</td>\n",
       "    </tr>\n",
       "    <tr>\n",
       "      <th>44883</th>\n",
       "      <td>53854962</td>\n",
       "      <td>2022-07</td>\n",
       "      <td>115.000000</td>\n",
       "      <td>115.000000</td>\n",
       "      <td>144.348099</td>\n",
       "    </tr>\n",
       "    <tr>\n",
       "      <th>44884</th>\n",
       "      <td>53854962</td>\n",
       "      <td>2022-08</td>\n",
       "      <td>115.000000</td>\n",
       "      <td>115.000000</td>\n",
       "      <td>141.087199</td>\n",
       "    </tr>\n",
       "    <tr>\n",
       "      <th>44885</th>\n",
       "      <td>53854962</td>\n",
       "      <td>2022-09</td>\n",
       "      <td>115.000000</td>\n",
       "      <td>115.000000</td>\n",
       "      <td>138.478479</td>\n",
       "    </tr>\n",
       "    <tr>\n",
       "      <th>44886</th>\n",
       "      <td>53854962</td>\n",
       "      <td>2022-10</td>\n",
       "      <td>115.000000</td>\n",
       "      <td>115.000000</td>\n",
       "      <td>136.344072</td>\n",
       "    </tr>\n",
       "    <tr>\n",
       "      <th>44887</th>\n",
       "      <td>53854962</td>\n",
       "      <td>2022-11</td>\n",
       "      <td>115.000000</td>\n",
       "      <td>115.000000</td>\n",
       "      <td>134.565399</td>\n",
       "    </tr>\n",
       "    <tr>\n",
       "      <th>44888</th>\n",
       "      <td>53854962</td>\n",
       "      <td>2022-12</td>\n",
       "      <td>115.000000</td>\n",
       "      <td>115.000000</td>\n",
       "      <td>133.060369</td>\n",
       "    </tr>\n",
       "    <tr>\n",
       "      <th>44863</th>\n",
       "      <td>53837654</td>\n",
       "      <td>2021-12</td>\n",
       "      <td>184.133333</td>\n",
       "      <td>NaN</td>\n",
       "      <td>136.708438</td>\n",
       "    </tr>\n",
       "    <tr>\n",
       "      <th>44864</th>\n",
       "      <td>53837654</td>\n",
       "      <td>2022-01</td>\n",
       "      <td>148.741935</td>\n",
       "      <td>184.133333</td>\n",
       "      <td>137.510671</td>\n",
       "    </tr>\n",
       "  </tbody>\n",
       "</table>\n",
       "</div>"
      ],
      "text/plain": [
       "       listing_id     date       price      price1  avg_cum_price\n",
       "44876    53854962  2021-12  147.400000         NaN     147.400000\n",
       "44877    53854962  2022-01  137.645161  147.400000     142.522581\n",
       "44878    53854962  2022-02  124.642857  137.645161     136.562673\n",
       "44879    53854962  2022-03  285.096774  124.642857     173.696198\n",
       "44880    53854962  2022-04  115.000000  285.096774     161.956959\n",
       "44881    53854962  2022-05  115.000000  115.000000     154.130799\n",
       "44882    53854962  2022-06  115.000000  115.000000     148.540685\n",
       "44883    53854962  2022-07  115.000000  115.000000     144.348099\n",
       "44884    53854962  2022-08  115.000000  115.000000     141.087199\n",
       "44885    53854962  2022-09  115.000000  115.000000     138.478479\n",
       "44886    53854962  2022-10  115.000000  115.000000     136.344072\n",
       "44887    53854962  2022-11  115.000000  115.000000     134.565399\n",
       "44888    53854962  2022-12  115.000000  115.000000     133.060369\n",
       "44863    53837654  2021-12  184.133333         NaN     136.708438\n",
       "44864    53837654  2022-01  148.741935  184.133333     137.510671"
      ]
     },
     "execution_count": 44,
     "metadata": {},
     "output_type": "execute_result"
    }
   ],
   "source": [
    "temp['avg_cum_price'] = temp['price'].expanding().mean()\n",
    "temp.head(15)"
   ]
  },
  {
   "cell_type": "markdown",
   "metadata": {},
   "source": [
    "Para executar operações cumulativas dentro de um grupo , podemos combinar `expanding()` com `groupby()`. Como grupos com observações insuficientes são descartados, precisamos mesclar o conjunto de dados novamente."
   ]
  },
  {
   "cell_type": "code",
   "execution_count": 45,
   "metadata": {},
   "outputs": [
    {
     "data": {
      "application/vnd.microsoft.datawrangler.viewer.v0+json": {
       "columns": [
        {
         "name": "index",
         "rawType": "int64",
         "type": "integer"
        },
        {
         "name": "listing_id",
         "rawType": "int64",
         "type": "integer"
        },
        {
         "name": "price",
         "rawType": "float64",
         "type": "float"
        }
       ],
       "conversionMethod": "pd.DataFrame",
       "ref": "9648dfa9-6cca-44ad-811a-dfd14cf4891c",
       "rows": [
        [
         "0",
         "42196",
         "68.0"
        ],
        [
         "1",
         "42196",
         "68.0"
        ],
        [
         "2",
         "42196",
         "68.0"
        ],
        [
         "3",
         "42196",
         "68.0"
        ],
        [
         "4",
         "42196",
         "68.0"
        ],
        [
         "5",
         "42196",
         "68.0"
        ],
        [
         "6",
         "42196",
         "68.0"
        ],
        [
         "7",
         "42196",
         "68.0"
        ],
        [
         "8",
         "42196",
         "68.0"
        ],
        [
         "9",
         "42196",
         "68.0"
        ],
        [
         "10",
         "42196",
         "68.0"
        ],
        [
         "11",
         "42196",
         "68.0"
        ],
        [
         "12",
         "42196",
         "68.0"
        ],
        [
         "13",
         "46352",
         "29.333333333333332"
        ],
        [
         "14",
         "46352",
         "29.311827956989248"
        ]
       ],
       "shape": {
        "columns": 2,
        "rows": 15
       }
      },
      "text/html": [
       "<div>\n",
       "<style scoped>\n",
       "    .dataframe tbody tr th:only-of-type {\n",
       "        vertical-align: middle;\n",
       "    }\n",
       "\n",
       "    .dataframe tbody tr th {\n",
       "        vertical-align: top;\n",
       "    }\n",
       "\n",
       "    .dataframe thead th {\n",
       "        text-align: right;\n",
       "    }\n",
       "</style>\n",
       "<table border=\"1\" class=\"dataframe\">\n",
       "  <thead>\n",
       "    <tr style=\"text-align: right;\">\n",
       "      <th></th>\n",
       "      <th>listing_id</th>\n",
       "      <th>price</th>\n",
       "    </tr>\n",
       "  </thead>\n",
       "  <tbody>\n",
       "    <tr>\n",
       "      <th>0</th>\n",
       "      <td>42196</td>\n",
       "      <td>68.000000</td>\n",
       "    </tr>\n",
       "    <tr>\n",
       "      <th>1</th>\n",
       "      <td>42196</td>\n",
       "      <td>68.000000</td>\n",
       "    </tr>\n",
       "    <tr>\n",
       "      <th>2</th>\n",
       "      <td>42196</td>\n",
       "      <td>68.000000</td>\n",
       "    </tr>\n",
       "    <tr>\n",
       "      <th>3</th>\n",
       "      <td>42196</td>\n",
       "      <td>68.000000</td>\n",
       "    </tr>\n",
       "    <tr>\n",
       "      <th>4</th>\n",
       "      <td>42196</td>\n",
       "      <td>68.000000</td>\n",
       "    </tr>\n",
       "    <tr>\n",
       "      <th>5</th>\n",
       "      <td>42196</td>\n",
       "      <td>68.000000</td>\n",
       "    </tr>\n",
       "    <tr>\n",
       "      <th>6</th>\n",
       "      <td>42196</td>\n",
       "      <td>68.000000</td>\n",
       "    </tr>\n",
       "    <tr>\n",
       "      <th>7</th>\n",
       "      <td>42196</td>\n",
       "      <td>68.000000</td>\n",
       "    </tr>\n",
       "    <tr>\n",
       "      <th>8</th>\n",
       "      <td>42196</td>\n",
       "      <td>68.000000</td>\n",
       "    </tr>\n",
       "    <tr>\n",
       "      <th>9</th>\n",
       "      <td>42196</td>\n",
       "      <td>68.000000</td>\n",
       "    </tr>\n",
       "    <tr>\n",
       "      <th>10</th>\n",
       "      <td>42196</td>\n",
       "      <td>68.000000</td>\n",
       "    </tr>\n",
       "    <tr>\n",
       "      <th>11</th>\n",
       "      <td>42196</td>\n",
       "      <td>68.000000</td>\n",
       "    </tr>\n",
       "    <tr>\n",
       "      <th>12</th>\n",
       "      <td>42196</td>\n",
       "      <td>68.000000</td>\n",
       "    </tr>\n",
       "    <tr>\n",
       "      <th>13</th>\n",
       "      <td>46352</td>\n",
       "      <td>29.333333</td>\n",
       "    </tr>\n",
       "    <tr>\n",
       "      <th>14</th>\n",
       "      <td>46352</td>\n",
       "      <td>29.311828</td>\n",
       "    </tr>\n",
       "  </tbody>\n",
       "</table>\n",
       "</div>"
      ],
      "text/plain": [
       "    listing_id      price\n",
       "0        42196  68.000000\n",
       "1        42196  68.000000\n",
       "2        42196  68.000000\n",
       "3        42196  68.000000\n",
       "4        42196  68.000000\n",
       "5        42196  68.000000\n",
       "6        42196  68.000000\n",
       "7        42196  68.000000\n",
       "8        42196  68.000000\n",
       "9        42196  68.000000\n",
       "10       42196  68.000000\n",
       "11       42196  68.000000\n",
       "12       42196  68.000000\n",
       "13       46352  29.333333\n",
       "14       46352  29.311828"
      ]
     },
     "execution_count": 45,
     "metadata": {},
     "output_type": "execute_result"
    }
   ],
   "source": [
    "temp.groupby('listing_id')['price'].expanding().mean().reset_index(level=0).head(15)"
   ]
  },
  {
   "cell_type": "markdown",
   "metadata": {},
   "source": [
    "Se quisermos realizar uma operação sobre uma janela rolante , podemos usar a função `rolling()` "
   ]
  },
  {
   "cell_type": "code",
   "execution_count": 46,
   "metadata": {},
   "outputs": [
    {
     "data": {
      "application/vnd.microsoft.datawrangler.viewer.v0+json": {
       "columns": [
        {
         "name": "index",
         "rawType": "int64",
         "type": "integer"
        },
        {
         "name": "listing_id",
         "rawType": "int64",
         "type": "integer"
        },
        {
         "name": "date",
         "rawType": "period[M]",
         "type": "unknown"
        },
        {
         "name": "price",
         "rawType": "float64",
         "type": "float"
        },
        {
         "name": "price1",
         "rawType": "float64",
         "type": "float"
        },
        {
         "name": "avg_cum_price",
         "rawType": "float64",
         "type": "float"
        },
        {
         "name": "avg3_price",
         "rawType": "float64",
         "type": "float"
        }
       ],
       "conversionMethod": "pd.DataFrame",
       "ref": "a4ab124d-b2d5-41ca-8be4-d524ed96bb60",
       "rows": [
        [
         "44876",
         "53854962",
         "2021-12",
         "147.4",
         null,
         "147.4",
         null
        ],
        [
         "44877",
         "53854962",
         "2022-01",
         "137.6451612903226",
         "147.4",
         "142.5225806451613",
         null
        ],
        [
         "44878",
         "53854962",
         "2022-02",
         "124.64285714285714",
         "137.6451612903226",
         "136.5626728110599",
         "136.5626728110599"
        ],
        [
         "44879",
         "53854962",
         "2022-03",
         "285.0967741935484",
         "124.64285714285714",
         "173.69619815668204",
         "182.46159754224274"
        ],
        [
         "44880",
         "53854962",
         "2022-04",
         "115.0",
         "285.0967741935484",
         "161.95695852534564",
         "174.91321044546854"
        ],
        [
         "44881",
         "53854962",
         "2022-05",
         "115.0",
         "115.0",
         "154.13079877112136",
         "171.69892473118284"
        ],
        [
         "44882",
         "53854962",
         "2022-06",
         "115.0",
         "115.0",
         "148.54068466096118",
         "115.0"
        ],
        [
         "44883",
         "53854962",
         "2022-07",
         "115.0",
         "115.0",
         "144.34809907834102",
         "115.0"
        ],
        [
         "44884",
         "53854962",
         "2022-08",
         "115.0",
         "115.0",
         "141.08719918074758",
         "115.0"
        ],
        [
         "44885",
         "53854962",
         "2022-09",
         "115.0",
         "115.0",
         "138.4784792626728",
         "115.0"
        ],
        [
         "44886",
         "53854962",
         "2022-10",
         "115.0",
         "115.0",
         "136.34407205697528",
         "115.0"
        ],
        [
         "44887",
         "53854962",
         "2022-11",
         "115.0",
         "115.0",
         "134.56539938556068",
         "115.0"
        ],
        [
         "44888",
         "53854962",
         "2022-12",
         "115.0",
         "115.0",
         "133.0603686635945",
         "115.0"
        ],
        [
         "44863",
         "53837654",
         "2021-12",
         "184.13333333333333",
         null,
         "136.70843756857582",
         "138.04444444444445"
        ],
        [
         "44864",
         "53837654",
         "2022-01",
         "148.74193548387098",
         "184.13333333333333",
         "137.51067076292884",
         "149.29175627240144"
        ]
       ],
       "shape": {
        "columns": 6,
        "rows": 15
       }
      },
      "text/html": [
       "<div>\n",
       "<style scoped>\n",
       "    .dataframe tbody tr th:only-of-type {\n",
       "        vertical-align: middle;\n",
       "    }\n",
       "\n",
       "    .dataframe tbody tr th {\n",
       "        vertical-align: top;\n",
       "    }\n",
       "\n",
       "    .dataframe thead th {\n",
       "        text-align: right;\n",
       "    }\n",
       "</style>\n",
       "<table border=\"1\" class=\"dataframe\">\n",
       "  <thead>\n",
       "    <tr style=\"text-align: right;\">\n",
       "      <th></th>\n",
       "      <th>listing_id</th>\n",
       "      <th>date</th>\n",
       "      <th>price</th>\n",
       "      <th>price1</th>\n",
       "      <th>avg_cum_price</th>\n",
       "      <th>avg3_price</th>\n",
       "    </tr>\n",
       "  </thead>\n",
       "  <tbody>\n",
       "    <tr>\n",
       "      <th>44876</th>\n",
       "      <td>53854962</td>\n",
       "      <td>2021-12</td>\n",
       "      <td>147.400000</td>\n",
       "      <td>NaN</td>\n",
       "      <td>147.400000</td>\n",
       "      <td>NaN</td>\n",
       "    </tr>\n",
       "    <tr>\n",
       "      <th>44877</th>\n",
       "      <td>53854962</td>\n",
       "      <td>2022-01</td>\n",
       "      <td>137.645161</td>\n",
       "      <td>147.400000</td>\n",
       "      <td>142.522581</td>\n",
       "      <td>NaN</td>\n",
       "    </tr>\n",
       "    <tr>\n",
       "      <th>44878</th>\n",
       "      <td>53854962</td>\n",
       "      <td>2022-02</td>\n",
       "      <td>124.642857</td>\n",
       "      <td>137.645161</td>\n",
       "      <td>136.562673</td>\n",
       "      <td>136.562673</td>\n",
       "    </tr>\n",
       "    <tr>\n",
       "      <th>44879</th>\n",
       "      <td>53854962</td>\n",
       "      <td>2022-03</td>\n",
       "      <td>285.096774</td>\n",
       "      <td>124.642857</td>\n",
       "      <td>173.696198</td>\n",
       "      <td>182.461598</td>\n",
       "    </tr>\n",
       "    <tr>\n",
       "      <th>44880</th>\n",
       "      <td>53854962</td>\n",
       "      <td>2022-04</td>\n",
       "      <td>115.000000</td>\n",
       "      <td>285.096774</td>\n",
       "      <td>161.956959</td>\n",
       "      <td>174.913210</td>\n",
       "    </tr>\n",
       "    <tr>\n",
       "      <th>44881</th>\n",
       "      <td>53854962</td>\n",
       "      <td>2022-05</td>\n",
       "      <td>115.000000</td>\n",
       "      <td>115.000000</td>\n",
       "      <td>154.130799</td>\n",
       "      <td>171.698925</td>\n",
       "    </tr>\n",
       "    <tr>\n",
       "      <th>44882</th>\n",
       "      <td>53854962</td>\n",
       "      <td>2022-06</td>\n",
       "      <td>115.000000</td>\n",
       "      <td>115.000000</td>\n",
       "      <td>148.540685</td>\n",
       "      <td>115.000000</td>\n",
       "    </tr>\n",
       "    <tr>\n",
       "      <th>44883</th>\n",
       "      <td>53854962</td>\n",
       "      <td>2022-07</td>\n",
       "      <td>115.000000</td>\n",
       "      <td>115.000000</td>\n",
       "      <td>144.348099</td>\n",
       "      <td>115.000000</td>\n",
       "    </tr>\n",
       "    <tr>\n",
       "      <th>44884</th>\n",
       "      <td>53854962</td>\n",
       "      <td>2022-08</td>\n",
       "      <td>115.000000</td>\n",
       "      <td>115.000000</td>\n",
       "      <td>141.087199</td>\n",
       "      <td>115.000000</td>\n",
       "    </tr>\n",
       "    <tr>\n",
       "      <th>44885</th>\n",
       "      <td>53854962</td>\n",
       "      <td>2022-09</td>\n",
       "      <td>115.000000</td>\n",
       "      <td>115.000000</td>\n",
       "      <td>138.478479</td>\n",
       "      <td>115.000000</td>\n",
       "    </tr>\n",
       "    <tr>\n",
       "      <th>44886</th>\n",
       "      <td>53854962</td>\n",
       "      <td>2022-10</td>\n",
       "      <td>115.000000</td>\n",
       "      <td>115.000000</td>\n",
       "      <td>136.344072</td>\n",
       "      <td>115.000000</td>\n",
       "    </tr>\n",
       "    <tr>\n",
       "      <th>44887</th>\n",
       "      <td>53854962</td>\n",
       "      <td>2022-11</td>\n",
       "      <td>115.000000</td>\n",
       "      <td>115.000000</td>\n",
       "      <td>134.565399</td>\n",
       "      <td>115.000000</td>\n",
       "    </tr>\n",
       "    <tr>\n",
       "      <th>44888</th>\n",
       "      <td>53854962</td>\n",
       "      <td>2022-12</td>\n",
       "      <td>115.000000</td>\n",
       "      <td>115.000000</td>\n",
       "      <td>133.060369</td>\n",
       "      <td>115.000000</td>\n",
       "    </tr>\n",
       "    <tr>\n",
       "      <th>44863</th>\n",
       "      <td>53837654</td>\n",
       "      <td>2021-12</td>\n",
       "      <td>184.133333</td>\n",
       "      <td>NaN</td>\n",
       "      <td>136.708438</td>\n",
       "      <td>138.044444</td>\n",
       "    </tr>\n",
       "    <tr>\n",
       "      <th>44864</th>\n",
       "      <td>53837654</td>\n",
       "      <td>2022-01</td>\n",
       "      <td>148.741935</td>\n",
       "      <td>184.133333</td>\n",
       "      <td>137.510671</td>\n",
       "      <td>149.291756</td>\n",
       "    </tr>\n",
       "  </tbody>\n",
       "</table>\n",
       "</div>"
      ],
      "text/plain": [
       "       listing_id     date       price      price1  avg_cum_price  avg3_price\n",
       "44876    53854962  2021-12  147.400000         NaN     147.400000         NaN\n",
       "44877    53854962  2022-01  137.645161  147.400000     142.522581         NaN\n",
       "44878    53854962  2022-02  124.642857  137.645161     136.562673  136.562673\n",
       "44879    53854962  2022-03  285.096774  124.642857     173.696198  182.461598\n",
       "44880    53854962  2022-04  115.000000  285.096774     161.956959  174.913210\n",
       "44881    53854962  2022-05  115.000000  115.000000     154.130799  171.698925\n",
       "44882    53854962  2022-06  115.000000  115.000000     148.540685  115.000000\n",
       "44883    53854962  2022-07  115.000000  115.000000     144.348099  115.000000\n",
       "44884    53854962  2022-08  115.000000  115.000000     141.087199  115.000000\n",
       "44885    53854962  2022-09  115.000000  115.000000     138.478479  115.000000\n",
       "44886    53854962  2022-10  115.000000  115.000000     136.344072  115.000000\n",
       "44887    53854962  2022-11  115.000000  115.000000     134.565399  115.000000\n",
       "44888    53854962  2022-12  115.000000  115.000000     133.060369  115.000000\n",
       "44863    53837654  2021-12  184.133333         NaN     136.708438  138.044444\n",
       "44864    53837654  2022-01  148.741935  184.133333     137.510671  149.291756"
      ]
     },
     "execution_count": 46,
     "metadata": {},
     "output_type": "execute_result"
    }
   ],
   "source": [
    "temp['avg3_price'] = temp['price'].rolling(3).mean()\n",
    "temp.head(15)"
   ]
  }
 ],
 "metadata": {
  "kernelspec": {
   "display_name": "Python 3",
   "language": "python",
   "name": "python3"
  },
  "language_info": {
   "codemirror_mode": {
    "name": "ipython",
    "version": 3
   },
   "file_extension": ".py",
   "mimetype": "text/x-python",
   "name": "python",
   "nbconvert_exporter": "python",
   "pygments_lexer": "ipython3",
   "version": "3.11.5"
  }
 },
 "nbformat": 4,
 "nbformat_minor": 2
}
