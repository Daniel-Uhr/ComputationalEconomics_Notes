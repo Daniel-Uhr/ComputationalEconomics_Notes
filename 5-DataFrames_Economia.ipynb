{
 "cells": [
  {
   "cell_type": "markdown",
   "metadata": {},
   "source": [
    "# DataFrames em Economia\n",
    "\n",
    "Prof. Daniel de Abreu Pereira Uhr\n",
    "\n",
    "### Conteúdo\n",
    "\n",
    "* Definição \n",
    "  * DataFrames - Séries Temporais\n",
    "  * DataFrames - Cross-Sectional\n",
    "  * DataFrames - Dados em Painel\n",
    "* Algumas Fonte de Dados\n",
    "  * Bacen Data\n",
    "  * Yahoo Finance Data\n",
    "  * WoldBank Data\n",
    "  * IBGE Data\n",
    "\n",
    "\n",
    "### Referências\n",
    "\n",
    "* Géron, Aurélien. Hands-On Machine Learning with Scikit-Learn, Keras, and TensorFlow: Concepts, Tools, and Techniques to Build Intelligent Systems. O'Reilly Media, 2019.\n",
    "* Athey, S., & Imbens, G. (2017). \"The State of Applied Econometrics: Causality and Policy Evaluation.\" *Journal of Economic Perspectives*.\n",
    "* Mullainathan, S., & Spiess, J. (2017). \"Machine Learning: An Applied Econometric Approach.\" *Journal of Economic Perspectives*.\n",
    "* Varian, H. R. (2014). \"Big Data: New Tricks for Econometrics.\" *Journal of Economic Perspectives*."
   ]
  },
  {
   "cell_type": "markdown",
   "metadata": {},
   "source": []
  },
  {
   "cell_type": "code",
   "execution_count": 1,
   "metadata": {},
   "outputs": [],
   "source": [
    "import numpy as np\n",
    "import pandas as pd"
   ]
  },
  {
   "cell_type": "code",
   "execution_count": 2,
   "metadata": {},
   "outputs": [],
   "source": [
    "# Import listings data\n",
    "url_listings = \"http://data.insideairbnb.com/italy/emilia-romagna/bologna/2021-12-17/visualisations/listings.csv\"\n",
    "df_listings = pd.read_csv(url_listings)\n",
    "\n",
    "# Import pricing data\n",
    "url_prices = \"http://data.insideairbnb.com/italy/emilia-romagna/bologna/2021-12-17/data/calendar.csv.gz\"\n",
    "df_prices = pd.read_csv(url_prices, compression=\"gzip\")"
   ]
  },
  {
   "cell_type": "code",
   "execution_count": 3,
   "metadata": {},
   "outputs": [
    {
     "data": {
      "text/plain": [
       "0           148\n",
       "1           357\n",
       "2           357\n",
       "3           357\n",
       "4           357\n",
       "           ... \n",
       "1260340    1124\n",
       "1260341    1124\n",
       "1260342    1124\n",
       "1260343    1124\n",
       "1260344    1124\n",
       "Length: 1260345, dtype: int64"
      ]
     },
     "execution_count": 3,
     "metadata": {},
     "output_type": "execute_result"
    }
   ],
   "source": [
    "df_prices['maximum_nights'] - df_prices['minimum_nights']"
   ]
  },
  {
   "cell_type": "code",
   "execution_count": 4,
   "metadata": {},
   "outputs": [
    {
     "data": {
      "text/plain": [
       "0       4.219508\n",
       "1       3.367296\n",
       "2       3.912023\n",
       "3       4.836282\n",
       "4       3.912023\n",
       "          ...   \n",
       "3448    3.465736\n",
       "3449    3.806662\n",
       "3450    3.912023\n",
       "3451    4.897840\n",
       "3452    4.744932\n",
       "Name: price, Length: 3453, dtype: float64"
      ]
     },
     "execution_count": 4,
     "metadata": {},
     "output_type": "execute_result"
    }
   ],
   "source": [
    "np.log(df_listings['price'])"
   ]
  },
  {
   "cell_type": "code",
   "execution_count": 5,
   "metadata": {},
   "outputs": [
    {
     "data": {
      "text/plain": [
       "0              ok\n",
       "1           cheap\n",
       "2           cheap\n",
       "3       expensive\n",
       "4           cheap\n",
       "          ...    \n",
       "3448        cheap\n",
       "3449        cheap\n",
       "3450        cheap\n",
       "3451    expensive\n",
       "3452    expensive\n",
       "Name: price, Length: 3453, dtype: category\n",
       "Categories (3, object): ['cheap' < 'ok' < 'expensive']"
      ]
     },
     "execution_count": 5,
     "metadata": {},
     "output_type": "execute_result"
    }
   ],
   "source": [
    "pd.cut(df_listings['price'], \n",
    "       bins = [0, 50, 100, np.inf], \n",
    "       labels=['cheap', 'ok', 'expensive'])"
   ]
  },
  {
   "cell_type": "code",
   "execution_count": 6,
   "metadata": {},
   "outputs": [
    {
     "data": {
      "text/plain": [
       "0                     CarloSanto Stefano\n",
       "1              EleonoraPorto - Saragozza\n",
       "2                     PaoloSanto Stefano\n",
       "3                Anna MariaSanto Stefano\n",
       "4               ValerioPorto - Saragozza\n",
       "                      ...               \n",
       "3448                        IleanaNavile\n",
       "3449           FernandaPorto - Saragozza\n",
       "3450                        IleanaNavile\n",
       "3451        Wonderful ItalySanto Stefano\n",
       "3452    Wonderful ItalyPorto - Saragozza\n",
       "Length: 3453, dtype: object"
      ]
     },
     "execution_count": 6,
     "metadata": {},
     "output_type": "execute_result"
    }
   ],
   "source": [
    "df_listings['host_name'] + df_listings['neighbourhood']"
   ]
  },
  {
   "cell_type": "code",
   "execution_count": 7,
   "metadata": {},
   "outputs": [
    {
     "data": {
      "text/plain": [
       "0           70.00\n",
       "1           68.00\n",
       "2           68.00\n",
       "3           68.00\n",
       "4           68.00\n",
       "            ...  \n",
       "1260340    115.00\n",
       "1260341    115.00\n",
       "1260342    115.00\n",
       "1260343    115.00\n",
       "1260344    115.00\n",
       "Name: price, Length: 1260345, dtype: object"
      ]
     },
     "execution_count": 7,
     "metadata": {},
     "output_type": "execute_result"
    }
   ],
   "source": [
    "df_prices['price'].str.replace('$', '', regex=False)"
   ]
  },
  {
   "cell_type": "code",
   "execution_count": 8,
   "metadata": {},
   "outputs": [
    {
     "data": {
      "text/plain": [
       "0        True\n",
       "1       False\n",
       "2        True\n",
       "3       False\n",
       "4       False\n",
       "        ...  \n",
       "3448    False\n",
       "3449    False\n",
       "3450    False\n",
       "3451    False\n",
       "3452    False\n",
       "Name: name, Length: 3453, dtype: bool"
      ]
     },
     "execution_count": 8,
     "metadata": {},
     "output_type": "execute_result"
    }
   ],
   "source": [
    "df_listings['name'].str.contains('centre|center')"
   ]
  },
  {
   "cell_type": "code",
   "execution_count": 9,
   "metadata": {},
   "outputs": [
    {
     "data": {
      "text/plain": [
       "0           70.0\n",
       "1           68.0\n",
       "2           68.0\n",
       "3           68.0\n",
       "4           68.0\n",
       "           ...  \n",
       "1260340    115.0\n",
       "1260341    115.0\n",
       "1260342    115.0\n",
       "1260343    115.0\n",
       "1260344    115.0\n",
       "Name: price, Length: 1260345, dtype: float64"
      ]
     },
     "execution_count": 9,
     "metadata": {},
     "output_type": "execute_result"
    }
   ],
   "source": [
    "df_prices['price'].str.replace('[$|,]', '', regex=True).astype(float)"
   ]
  },
  {
   "cell_type": "code",
   "execution_count": 10,
   "metadata": {},
   "outputs": [
    {
     "data": {
      "text/plain": [
       "0          42196\n",
       "1          46352\n",
       "2          59697\n",
       "3          85368\n",
       "4         145779\n",
       "          ...   \n",
       "3448    53810648\n",
       "3449    53820830\n",
       "3450    53837098\n",
       "3451    53837654\n",
       "3452    53854962\n",
       "Name: id, Length: 3453, dtype: object"
      ]
     },
     "execution_count": 10,
     "metadata": {},
     "output_type": "execute_result"
    }
   ],
   "source": [
    "df_listings['id'].astype(str)"
   ]
  },
  {
   "cell_type": "code",
   "execution_count": 11,
   "metadata": {},
   "outputs": [
    {
     "data": {
      "text/html": [
       "<div>\n",
       "<style scoped>\n",
       "    .dataframe tbody tr th:only-of-type {\n",
       "        vertical-align: middle;\n",
       "    }\n",
       "\n",
       "    .dataframe tbody tr th {\n",
       "        vertical-align: top;\n",
       "    }\n",
       "\n",
       "    .dataframe thead th {\n",
       "        text-align: right;\n",
       "    }\n",
       "</style>\n",
       "<table border=\"1\" class=\"dataframe\">\n",
       "  <thead>\n",
       "    <tr style=\"text-align: right;\">\n",
       "      <th></th>\n",
       "      <th>Borgo Panigale - Reno</th>\n",
       "      <th>Navile</th>\n",
       "      <th>Porto - Saragozza</th>\n",
       "      <th>San Donato - San Vitale</th>\n",
       "      <th>Santo Stefano</th>\n",
       "      <th>Savena</th>\n",
       "    </tr>\n",
       "  </thead>\n",
       "  <tbody>\n",
       "    <tr>\n",
       "      <th>0</th>\n",
       "      <td>0</td>\n",
       "      <td>0</td>\n",
       "      <td>0</td>\n",
       "      <td>0</td>\n",
       "      <td>1</td>\n",
       "      <td>0</td>\n",
       "    </tr>\n",
       "    <tr>\n",
       "      <th>1</th>\n",
       "      <td>0</td>\n",
       "      <td>0</td>\n",
       "      <td>1</td>\n",
       "      <td>0</td>\n",
       "      <td>0</td>\n",
       "      <td>0</td>\n",
       "    </tr>\n",
       "    <tr>\n",
       "      <th>2</th>\n",
       "      <td>0</td>\n",
       "      <td>0</td>\n",
       "      <td>0</td>\n",
       "      <td>0</td>\n",
       "      <td>1</td>\n",
       "      <td>0</td>\n",
       "    </tr>\n",
       "    <tr>\n",
       "      <th>3</th>\n",
       "      <td>0</td>\n",
       "      <td>0</td>\n",
       "      <td>0</td>\n",
       "      <td>0</td>\n",
       "      <td>1</td>\n",
       "      <td>0</td>\n",
       "    </tr>\n",
       "    <tr>\n",
       "      <th>4</th>\n",
       "      <td>0</td>\n",
       "      <td>0</td>\n",
       "      <td>1</td>\n",
       "      <td>0</td>\n",
       "      <td>0</td>\n",
       "      <td>0</td>\n",
       "    </tr>\n",
       "  </tbody>\n",
       "</table>\n",
       "</div>"
      ],
      "text/plain": [
       "   Borgo Panigale - Reno  Navile  Porto - Saragozza  San Donato - San Vitale  \\\n",
       "0                      0       0                  0                        0   \n",
       "1                      0       0                  1                        0   \n",
       "2                      0       0                  0                        0   \n",
       "3                      0       0                  0                        0   \n",
       "4                      0       0                  1                        0   \n",
       "\n",
       "   Santo Stefano  Savena  \n",
       "0              1       0  \n",
       "1              0       0  \n",
       "2              1       0  \n",
       "3              1       0  \n",
       "4              0       0  "
      ]
     },
     "execution_count": 11,
     "metadata": {},
     "output_type": "execute_result"
    }
   ],
   "source": [
    "pd.get_dummies(df_listings['neighbourhood']).head()"
   ]
  },
  {
   "cell_type": "code",
   "execution_count": 12,
   "metadata": {},
   "outputs": [
    {
     "data": {
      "text/plain": [
       "dtype('O')"
      ]
     },
     "execution_count": 12,
     "metadata": {},
     "output_type": "execute_result"
    }
   ],
   "source": [
    "df_prices['date'].dtypes"
   ]
  },
  {
   "cell_type": "code",
   "execution_count": 13,
   "metadata": {},
   "outputs": [],
   "source": [
    "df_prices['datetime'] = pd.to_datetime(df_prices['date'])"
   ]
  },
  {
   "cell_type": "code",
   "execution_count": 14,
   "metadata": {},
   "outputs": [
    {
     "data": {
      "text/plain": [
       "dtype('<M8[ns]')"
      ]
     },
     "execution_count": 14,
     "metadata": {},
     "output_type": "execute_result"
    }
   ],
   "source": [
    "df_prices['datetime'].dtypes"
   ]
  },
  {
   "cell_type": "code",
   "execution_count": 15,
   "metadata": {},
   "outputs": [
    {
     "data": {
      "text/plain": [
       "0          2021\n",
       "1          2021\n",
       "2          2021\n",
       "3          2021\n",
       "4          2021\n",
       "           ... \n",
       "1260340    2022\n",
       "1260341    2022\n",
       "1260342    2022\n",
       "1260343    2022\n",
       "1260344    2022\n",
       "Name: datetime, Length: 1260345, dtype: int64"
      ]
     },
     "execution_count": 15,
     "metadata": {},
     "output_type": "execute_result"
    }
   ],
   "source": [
    "df_prices['datetime'].dt.year"
   ]
  },
  {
   "cell_type": "code",
   "execution_count": 16,
   "metadata": {},
   "outputs": [
    {
     "data": {
      "text/plain": [
       "0          2021-12\n",
       "1          2021-12\n",
       "2          2021-12\n",
       "3          2021-12\n",
       "4          2021-12\n",
       "            ...   \n",
       "1260340    2022-12\n",
       "1260341    2022-12\n",
       "1260342    2022-12\n",
       "1260343    2022-12\n",
       "1260344    2022-12\n",
       "Name: datetime, Length: 1260345, dtype: period[M]"
      ]
     },
     "execution_count": 16,
     "metadata": {},
     "output_type": "execute_result"
    }
   ],
   "source": [
    "df_prices['datetime'].dt.to_period('M')"
   ]
  },
  {
   "cell_type": "code",
   "execution_count": 17,
   "metadata": {},
   "outputs": [
    {
     "data": {
      "text/plain": [
       "0         2021-12-14\n",
       "1         2021-12-14\n",
       "2         2021-12-15\n",
       "3         2021-12-16\n",
       "4         2021-12-17\n",
       "             ...    \n",
       "1260340   2022-12-09\n",
       "1260341   2022-12-10\n",
       "1260342   2022-12-11\n",
       "1260343   2022-12-12\n",
       "1260344   2022-12-13\n",
       "Name: datetime, Length: 1260345, dtype: datetime64[ns]"
      ]
     },
     "execution_count": 17,
     "metadata": {},
     "output_type": "execute_result"
    }
   ],
   "source": [
    "df_prices['datetime'] -  pd.to_timedelta(3, unit='d')"
   ]
  },
  {
   "cell_type": "code",
   "execution_count": 18,
   "metadata": {},
   "outputs": [
    {
     "data": {
      "text/html": [
       "<div>\n",
       "<style scoped>\n",
       "    .dataframe tbody tr th:only-of-type {\n",
       "        vertical-align: middle;\n",
       "    }\n",
       "\n",
       "    .dataframe tbody tr th {\n",
       "        vertical-align: top;\n",
       "    }\n",
       "\n",
       "    .dataframe thead th {\n",
       "        text-align: right;\n",
       "    }\n",
       "</style>\n",
       "<table border=\"1\" class=\"dataframe\">\n",
       "  <thead>\n",
       "    <tr style=\"text-align: right;\">\n",
       "      <th></th>\n",
       "      <th>id</th>\n",
       "      <th>name</th>\n",
       "      <th>host_id</th>\n",
       "      <th>host_name</th>\n",
       "      <th>neighbourhood_group</th>\n",
       "      <th>neighbourhood</th>\n",
       "      <th>latitude</th>\n",
       "      <th>longitude</th>\n",
       "      <th>room_type</th>\n",
       "      <th>price</th>\n",
       "      <th>minimum_nights</th>\n",
       "      <th>number_of_reviews</th>\n",
       "      <th>last_review</th>\n",
       "      <th>reviews_per_month</th>\n",
       "      <th>calculated_host_listings_count</th>\n",
       "      <th>availability_365</th>\n",
       "      <th>number_of_reviews_ltm</th>\n",
       "      <th>license</th>\n",
       "    </tr>\n",
       "  </thead>\n",
       "  <tbody>\n",
       "    <tr>\n",
       "      <th>0</th>\n",
       "      <td>False</td>\n",
       "      <td>False</td>\n",
       "      <td>False</td>\n",
       "      <td>False</td>\n",
       "      <td>True</td>\n",
       "      <td>False</td>\n",
       "      <td>False</td>\n",
       "      <td>False</td>\n",
       "      <td>False</td>\n",
       "      <td>False</td>\n",
       "      <td>False</td>\n",
       "      <td>False</td>\n",
       "      <td>False</td>\n",
       "      <td>False</td>\n",
       "      <td>False</td>\n",
       "      <td>False</td>\n",
       "      <td>False</td>\n",
       "      <td>True</td>\n",
       "    </tr>\n",
       "    <tr>\n",
       "      <th>1</th>\n",
       "      <td>False</td>\n",
       "      <td>False</td>\n",
       "      <td>False</td>\n",
       "      <td>False</td>\n",
       "      <td>True</td>\n",
       "      <td>False</td>\n",
       "      <td>False</td>\n",
       "      <td>False</td>\n",
       "      <td>False</td>\n",
       "      <td>False</td>\n",
       "      <td>False</td>\n",
       "      <td>False</td>\n",
       "      <td>False</td>\n",
       "      <td>False</td>\n",
       "      <td>False</td>\n",
       "      <td>False</td>\n",
       "      <td>False</td>\n",
       "      <td>True</td>\n",
       "    </tr>\n",
       "    <tr>\n",
       "      <th>2</th>\n",
       "      <td>False</td>\n",
       "      <td>False</td>\n",
       "      <td>False</td>\n",
       "      <td>False</td>\n",
       "      <td>True</td>\n",
       "      <td>False</td>\n",
       "      <td>False</td>\n",
       "      <td>False</td>\n",
       "      <td>False</td>\n",
       "      <td>False</td>\n",
       "      <td>False</td>\n",
       "      <td>False</td>\n",
       "      <td>False</td>\n",
       "      <td>False</td>\n",
       "      <td>False</td>\n",
       "      <td>False</td>\n",
       "      <td>False</td>\n",
       "      <td>True</td>\n",
       "    </tr>\n",
       "    <tr>\n",
       "      <th>3</th>\n",
       "      <td>False</td>\n",
       "      <td>False</td>\n",
       "      <td>False</td>\n",
       "      <td>False</td>\n",
       "      <td>True</td>\n",
       "      <td>False</td>\n",
       "      <td>False</td>\n",
       "      <td>False</td>\n",
       "      <td>False</td>\n",
       "      <td>False</td>\n",
       "      <td>False</td>\n",
       "      <td>False</td>\n",
       "      <td>False</td>\n",
       "      <td>False</td>\n",
       "      <td>False</td>\n",
       "      <td>False</td>\n",
       "      <td>False</td>\n",
       "      <td>True</td>\n",
       "    </tr>\n",
       "    <tr>\n",
       "      <th>4</th>\n",
       "      <td>False</td>\n",
       "      <td>False</td>\n",
       "      <td>False</td>\n",
       "      <td>False</td>\n",
       "      <td>True</td>\n",
       "      <td>False</td>\n",
       "      <td>False</td>\n",
       "      <td>False</td>\n",
       "      <td>False</td>\n",
       "      <td>False</td>\n",
       "      <td>False</td>\n",
       "      <td>False</td>\n",
       "      <td>False</td>\n",
       "      <td>False</td>\n",
       "      <td>False</td>\n",
       "      <td>False</td>\n",
       "      <td>False</td>\n",
       "      <td>True</td>\n",
       "    </tr>\n",
       "  </tbody>\n",
       "</table>\n",
       "</div>"
      ],
      "text/plain": [
       "      id   name  host_id  host_name  neighbourhood_group  neighbourhood  \\\n",
       "0  False  False    False      False                 True          False   \n",
       "1  False  False    False      False                 True          False   \n",
       "2  False  False    False      False                 True          False   \n",
       "3  False  False    False      False                 True          False   \n",
       "4  False  False    False      False                 True          False   \n",
       "\n",
       "   latitude  longitude  room_type  price  minimum_nights  number_of_reviews  \\\n",
       "0     False      False      False  False           False              False   \n",
       "1     False      False      False  False           False              False   \n",
       "2     False      False      False  False           False              False   \n",
       "3     False      False      False  False           False              False   \n",
       "4     False      False      False  False           False              False   \n",
       "\n",
       "   last_review  reviews_per_month  calculated_host_listings_count  \\\n",
       "0        False              False                           False   \n",
       "1        False              False                           False   \n",
       "2        False              False                           False   \n",
       "3        False              False                           False   \n",
       "4        False              False                           False   \n",
       "\n",
       "   availability_365  number_of_reviews_ltm  license  \n",
       "0             False                  False     True  \n",
       "1             False                  False     True  \n",
       "2             False                  False     True  \n",
       "3             False                  False     True  \n",
       "4             False                  False     True  "
      ]
     },
     "execution_count": 18,
     "metadata": {},
     "output_type": "execute_result"
    }
   ],
   "source": [
    "df_listings.isna().head()"
   ]
  },
  {
   "cell_type": "code",
   "execution_count": 19,
   "metadata": {},
   "outputs": [
    {
     "data": {
      "text/plain": [
       "id                                   0\n",
       "name                                 0\n",
       "host_id                              0\n",
       "host_name                            9\n",
       "neighbourhood_group               3453\n",
       "neighbourhood                        0\n",
       "latitude                             0\n",
       "longitude                            0\n",
       "room_type                            0\n",
       "price                                0\n",
       "minimum_nights                       0\n",
       "number_of_reviews                    0\n",
       "last_review                        409\n",
       "reviews_per_month                  409\n",
       "calculated_host_listings_count       0\n",
       "availability_365                     0\n",
       "number_of_reviews_ltm                0\n",
       "license                           3318\n",
       "dtype: int64"
      ]
     },
     "execution_count": 19,
     "metadata": {},
     "output_type": "execute_result"
    }
   ],
   "source": [
    "df_listings.isna().sum()"
   ]
  },
  {
   "cell_type": "code",
   "execution_count": 20,
   "metadata": {},
   "outputs": [
    {
     "data": {
      "text/plain": [
       "(0, 18)"
      ]
     },
     "execution_count": 20,
     "metadata": {},
     "output_type": "execute_result"
    }
   ],
   "source": [
    "df_listings.dropna().shape"
   ]
  },
  {
   "cell_type": "code",
   "execution_count": 21,
   "metadata": {},
   "outputs": [
    {
     "data": {
      "text/plain": [
       "(3453, 18)"
      ]
     },
     "execution_count": 21,
     "metadata": {},
     "output_type": "execute_result"
    }
   ],
   "source": [
    "df_listings.dropna(how='all').shape"
   ]
  },
  {
   "cell_type": "code",
   "execution_count": 22,
   "metadata": {},
   "outputs": [
    {
     "data": {
      "text/plain": [
       "(3044, 18)"
      ]
     },
     "execution_count": 22,
     "metadata": {},
     "output_type": "execute_result"
    }
   ],
   "source": [
    "df_listings.dropna(subset=['reviews_per_month']).shape"
   ]
  },
  {
   "cell_type": "code",
   "execution_count": 23,
   "metadata": {},
   "outputs": [
    {
     "data": {
      "text/html": [
       "<div>\n",
       "<style scoped>\n",
       "    .dataframe tbody tr th:only-of-type {\n",
       "        vertical-align: middle;\n",
       "    }\n",
       "\n",
       "    .dataframe tbody tr th {\n",
       "        vertical-align: top;\n",
       "    }\n",
       "\n",
       "    .dataframe thead th {\n",
       "        text-align: right;\n",
       "    }\n",
       "</style>\n",
       "<table border=\"1\" class=\"dataframe\">\n",
       "  <thead>\n",
       "    <tr style=\"text-align: right;\">\n",
       "      <th></th>\n",
       "      <th>id</th>\n",
       "      <th>name</th>\n",
       "      <th>host_id</th>\n",
       "      <th>host_name</th>\n",
       "      <th>neighbourhood_group</th>\n",
       "      <th>neighbourhood</th>\n",
       "      <th>latitude</th>\n",
       "      <th>longitude</th>\n",
       "      <th>room_type</th>\n",
       "      <th>price</th>\n",
       "      <th>minimum_nights</th>\n",
       "      <th>number_of_reviews</th>\n",
       "      <th>last_review</th>\n",
       "      <th>reviews_per_month</th>\n",
       "      <th>calculated_host_listings_count</th>\n",
       "      <th>availability_365</th>\n",
       "      <th>number_of_reviews_ltm</th>\n",
       "      <th>license</th>\n",
       "    </tr>\n",
       "  </thead>\n",
       "  <tbody>\n",
       "    <tr>\n",
       "      <th>0</th>\n",
       "      <td>42196</td>\n",
       "      <td>50 sm Studio in the historic centre</td>\n",
       "      <td>184487</td>\n",
       "      <td>Carlo</td>\n",
       "      <td>-- This was NA  --</td>\n",
       "      <td>Santo Stefano</td>\n",
       "      <td>44.48507</td>\n",
       "      <td>11.34786</td>\n",
       "      <td>Entire home/apt</td>\n",
       "      <td>68</td>\n",
       "      <td>3</td>\n",
       "      <td>180</td>\n",
       "      <td>2021-11-12</td>\n",
       "      <td>1.32</td>\n",
       "      <td>1</td>\n",
       "      <td>161</td>\n",
       "      <td>6</td>\n",
       "      <td>-- This was NA  --</td>\n",
       "    </tr>\n",
       "    <tr>\n",
       "      <th>1</th>\n",
       "      <td>46352</td>\n",
       "      <td>A room in Pasolini's house</td>\n",
       "      <td>467810</td>\n",
       "      <td>Eleonora</td>\n",
       "      <td>-- This was NA  --</td>\n",
       "      <td>Porto - Saragozza</td>\n",
       "      <td>44.49168</td>\n",
       "      <td>11.33514</td>\n",
       "      <td>Private room</td>\n",
       "      <td>29</td>\n",
       "      <td>1</td>\n",
       "      <td>300</td>\n",
       "      <td>2021-11-30</td>\n",
       "      <td>2.2</td>\n",
       "      <td>2</td>\n",
       "      <td>248</td>\n",
       "      <td>37</td>\n",
       "      <td>-- This was NA  --</td>\n",
       "    </tr>\n",
       "    <tr>\n",
       "      <th>2</th>\n",
       "      <td>59697</td>\n",
       "      <td>COZY LARGE BEDROOM in the city center</td>\n",
       "      <td>286688</td>\n",
       "      <td>Paolo</td>\n",
       "      <td>-- This was NA  --</td>\n",
       "      <td>Santo Stefano</td>\n",
       "      <td>44.48817</td>\n",
       "      <td>11.34124</td>\n",
       "      <td>Private room</td>\n",
       "      <td>50</td>\n",
       "      <td>1</td>\n",
       "      <td>240</td>\n",
       "      <td>2020-10-04</td>\n",
       "      <td>2.18</td>\n",
       "      <td>2</td>\n",
       "      <td>327</td>\n",
       "      <td>0</td>\n",
       "      <td>-- This was NA  --</td>\n",
       "    </tr>\n",
       "    <tr>\n",
       "      <th>3</th>\n",
       "      <td>85368</td>\n",
       "      <td>Garden House Bologna</td>\n",
       "      <td>467675</td>\n",
       "      <td>Anna Maria</td>\n",
       "      <td>-- This was NA  --</td>\n",
       "      <td>Santo Stefano</td>\n",
       "      <td>44.47834</td>\n",
       "      <td>11.35672</td>\n",
       "      <td>Entire home/apt</td>\n",
       "      <td>126</td>\n",
       "      <td>2</td>\n",
       "      <td>40</td>\n",
       "      <td>2019-11-03</td>\n",
       "      <td>0.34</td>\n",
       "      <td>1</td>\n",
       "      <td>332</td>\n",
       "      <td>0</td>\n",
       "      <td>-- This was NA  --</td>\n",
       "    </tr>\n",
       "    <tr>\n",
       "      <th>4</th>\n",
       "      <td>145779</td>\n",
       "      <td>SINGLE ROOM</td>\n",
       "      <td>705535</td>\n",
       "      <td>Valerio</td>\n",
       "      <td>-- This was NA  --</td>\n",
       "      <td>Porto - Saragozza</td>\n",
       "      <td>44.49306</td>\n",
       "      <td>11.33786</td>\n",
       "      <td>Private room</td>\n",
       "      <td>50</td>\n",
       "      <td>10</td>\n",
       "      <td>69</td>\n",
       "      <td>2021-12-05</td>\n",
       "      <td>0.55</td>\n",
       "      <td>9</td>\n",
       "      <td>365</td>\n",
       "      <td>5</td>\n",
       "      <td>-- This was NA  --</td>\n",
       "    </tr>\n",
       "  </tbody>\n",
       "</table>\n",
       "</div>"
      ],
      "text/plain": [
       "       id                                   name  host_id   host_name  \\\n",
       "0   42196    50 sm Studio in the historic centre   184487       Carlo   \n",
       "1   46352             A room in Pasolini's house   467810    Eleonora   \n",
       "2   59697  COZY LARGE BEDROOM in the city center   286688       Paolo   \n",
       "3   85368                   Garden House Bologna   467675  Anna Maria   \n",
       "4  145779                            SINGLE ROOM   705535     Valerio   \n",
       "\n",
       "    neighbourhood_group      neighbourhood  latitude  longitude  \\\n",
       "0   -- This was NA  --       Santo Stefano  44.48507   11.34786   \n",
       "1   -- This was NA  --   Porto - Saragozza  44.49168   11.33514   \n",
       "2   -- This was NA  --       Santo Stefano  44.48817   11.34124   \n",
       "3   -- This was NA  --       Santo Stefano  44.47834   11.35672   \n",
       "4   -- This was NA  --   Porto - Saragozza  44.49306   11.33786   \n",
       "\n",
       "         room_type  price  minimum_nights  number_of_reviews last_review  \\\n",
       "0  Entire home/apt     68               3                180  2021-11-12   \n",
       "1     Private room     29               1                300  2021-11-30   \n",
       "2     Private room     50               1                240  2020-10-04   \n",
       "3  Entire home/apt    126               2                 40  2019-11-03   \n",
       "4     Private room     50              10                 69  2021-12-05   \n",
       "\n",
       "  reviews_per_month  calculated_host_listings_count  availability_365  \\\n",
       "0              1.32                               1               161   \n",
       "1               2.2                               2               248   \n",
       "2              2.18                               2               327   \n",
       "3              0.34                               1               332   \n",
       "4              0.55                               9               365   \n",
       "\n",
       "   number_of_reviews_ltm               license  \n",
       "0                      6   -- This was NA  --   \n",
       "1                     37   -- This was NA  --   \n",
       "2                      0   -- This was NA  --   \n",
       "3                      0   -- This was NA  --   \n",
       "4                      5   -- This was NA  --   "
      ]
     },
     "execution_count": 23,
     "metadata": {},
     "output_type": "execute_result"
    }
   ],
   "source": [
    "df_listings.fillna(' -- This was NA  -- ').head()"
   ]
  },
  {
   "cell_type": "code",
   "execution_count": 24,
   "metadata": {},
   "outputs": [
    {
     "data": {
      "text/html": [
       "<div>\n",
       "<style scoped>\n",
       "    .dataframe tbody tr th:only-of-type {\n",
       "        vertical-align: middle;\n",
       "    }\n",
       "\n",
       "    .dataframe tbody tr th {\n",
       "        vertical-align: top;\n",
       "    }\n",
       "\n",
       "    .dataframe thead th {\n",
       "        text-align: right;\n",
       "    }\n",
       "</style>\n",
       "<table border=\"1\" class=\"dataframe\">\n",
       "  <thead>\n",
       "    <tr style=\"text-align: right;\">\n",
       "      <th></th>\n",
       "      <th>id</th>\n",
       "      <th>name</th>\n",
       "      <th>host_id</th>\n",
       "    </tr>\n",
       "  </thead>\n",
       "  <tbody>\n",
       "    <tr>\n",
       "      <th>0</th>\n",
       "      <td>42196</td>\n",
       "      <td>50 sm Studio in the historic centre</td>\n",
       "      <td>184487.0</td>\n",
       "    </tr>\n",
       "    <tr>\n",
       "      <th>1</th>\n",
       "      <td>46352</td>\n",
       "      <td>A room in Pasolini's house</td>\n",
       "      <td>467810.0</td>\n",
       "    </tr>\n",
       "    <tr>\n",
       "      <th>2</th>\n",
       "      <td>59697</td>\n",
       "      <td>COZY LARGE BEDROOM in the city center</td>\n",
       "      <td>NaN</td>\n",
       "    </tr>\n",
       "  </tbody>\n",
       "</table>\n",
       "</div>"
      ],
      "text/plain": [
       "      id                                   name   host_id\n",
       "0  42196    50 sm Studio in the historic centre  184487.0\n",
       "1  46352             A room in Pasolini's house  467810.0\n",
       "2  59697  COZY LARGE BEDROOM in the city center       NaN"
      ]
     },
     "execution_count": 24,
     "metadata": {},
     "output_type": "execute_result"
    }
   ],
   "source": [
    "df_listings.iloc[2, 2] = np.nan\n",
    "df_listings.iloc[:3, :3]"
   ]
  }
 ],
 "metadata": {
  "kernelspec": {
   "display_name": "Python 3",
   "language": "python",
   "name": "python3"
  },
  "language_info": {
   "codemirror_mode": {
    "name": "ipython",
    "version": 3
   },
   "file_extension": ".py",
   "mimetype": "text/x-python",
   "name": "python",
   "nbconvert_exporter": "python",
   "pygments_lexer": "ipython3",
   "version": "3.11.5"
  }
 },
 "nbformat": 4,
 "nbformat_minor": 2
}
