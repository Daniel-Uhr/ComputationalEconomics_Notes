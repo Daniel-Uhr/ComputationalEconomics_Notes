{
 "cells": [
  {
   "cell_type": "markdown",
   "metadata": {},
   "source": [
    "# Regressão Não Paramétrica (Nonparametric Regression)\n",
    "\n",
    "Prof. Daniel de Abreu Pereira Uhr\n",
    "\n",
    "### Conteúdo\n",
    "\n",
    "* Introdução\n",
    "* Regressão Polinomial e Funções Degrau\n",
    "  * Regressão Polinomial\n",
    "  * Regressão com Funções Degrau (Step Functions)\n",
    "\n",
    "### Referências\n",
    "\n",
    "* Géron, Aurélien. Hands-On Machine Learning with Scikit-Learn, Keras, and TensorFlow: Concepts, Tools, and Techniques to Build Intelligent Systems. O'Reilly Media, 2019.\n",
    "* Athey, S., & Imbens, G. (2017). \"The State of Applied Econometrics: Causality and Policy Evaluation.\" *Journal of Economic Perspectives*.\n",
    "* Mullainathan, S., & Spiess, J. (2017). \"Machine Learning: An Applied Econometric Approach.\" *Journal of Economic Perspectives*.\n",
    "* Varian, H. R. (2014). \"Big Data: New Tricks for Econometrics.\" *Journal of Economic Perspectives*."
   ]
  },
  {
   "cell_type": "markdown",
   "metadata": {},
   "source": [
    "### 1. Introdução\n",
    "\n",
    "Nesta aula, exploraremos as técnicas de **regressão não paramétrica**, com foco em métodos que não impõem uma forma funcional específica para a relação entre as variáveis independentes e a variável dependente. Esse tipo de abordagem é particularmente útil em situações em que essa relação é **complexa ou desconhecida**.\n",
    "\n",
    "Uma ***relação complexa*** refere-se a situações em que os efeitos das variáveis explicativas sobre a variável de interesse **não podem ser capturados adequadamente por funções lineares ou polinomiais de baixa ordem**. Isso pode ocorrer, por exemplo, quando há mudanças bruscas de inclinação, efeitos em diferentes escalas ou interações não lineares entre os regressores.\n",
    "\n",
    "Nesse contexto, os modelos não paramétricos oferecem maior flexibilidade ao permitir que os dados “falem por si”, evitando a imposição de uma estrutura funcional incorreta que possa induzir a **viés de especificação**.\n",
    "\n",
    "**Definições Fundamentais**\n",
    "\n",
    "**Regressão Paramétrica**\n",
    "Modelos que especificam completamente a forma funcional da relação entre as variáveis, assumindo que os dados seguem uma distribuição parametrizada por um número finito de parâmetros.\n",
    "\n",
    "- **Exemplos típicos**: Regressão Linear Clássica (OLS); modelos Logit e Probit; modelos ARIMA em séries temporais; regressões exponenciais e log-lineares.\n",
    "- **Características**:  \n",
    "  - Forma funcional totalmente especificada (ex.: linear, quadrática).  \n",
    "  - Estimativa baseada em um número fixo de parâmetros.  \n",
    "  - Mais eficientes quando bem especificados, mas sensíveis à má especificação da forma funcional.\n",
    "\n",
    "\n",
    "**Regressão Não Paramétrica**\n",
    "Modelos que **não impõem uma forma funcional específica** entre as variáveis. Em vez disso, permitem que os dados determinem a forma da relação, geralmente exigindo amostras maiores para obter estimativas confiáveis.\n",
    "\n",
    "- **Exemplos típicos**: Regressão por Núcleo (Kernel Regression de Nadaraya-Watson); K-Vizinhos Mais Próximos (KNN); Árvores de Decisão, Random Forest, BART; Splines; LOESS.\n",
    "- **Características**:  \n",
    "  - Alta flexibilidade, capaz de capturar relações complexas e não lineares.  \n",
    "  - Alta demanda por dados (problema da *curse of dimensionality*).  \n",
    "  - Não especificam um número fixo de parâmetros.  \n",
    "  - Resultados podem ser mais difíceis de interpretar.\n",
    "\n",
    "\n",
    "**Regressão Semiparamétrica**\n",
    "Modelos que combinam componentes paramétricos e não paramétricos. Em geral, assumem uma estrutura funcional para parte dos efeitos e deixam o restante livre, a ser estimado de forma não paramétrica.\n",
    "\n",
    "- **Exemplos típicos**:  \n",
    "  - Modelo de Cox na análise de sobrevivência.  \n",
    "  - Double Machine Learning (DML), com uso de algoritmos de aprendizado de máquina para controle de covariáveis.  \n",
    "  - Modelo de Regressão Parcialmente Linear:\n",
    "\n",
    "    $$ y_i = X_i' \\beta + g(Z_i) + \\varepsilon_i $$\n",
    "\n",
    "  - onde $y_i$ é a variável dependente, $X_i$ é um vetor de variáveis independentes, $\\beta$ é um vetor de parâmetros a serem estimados, $g(Z_i)$ é uma função não-paramétrica das variáveis $Z_i$, e $\\epsilon_i$ é o erro aleatório.\n",
    "\n",
    "* ***Características:***\n",
    "  * Oferecem equilíbrio entre estrutura e flexibilidade.\n",
    "  * Menos dependentes da correta especificação da forma funcional.\n",
    "  * Mais interpretáveis que modelos totalmente não paramétricos, e mais robustos que modelos totalmente paramétricos.\n"
   ]
  },
  {
   "cell_type": "markdown",
   "metadata": {},
   "source": [
    "Minha ideia é conduzir vocês da relação paramétrica que estamos acostumados, em direção à não paramétrica.\n",
    "\n",
    "Vamos construir a aula sobre exemplos práticos, e depois discutir as definições."
   ]
  },
  {
   "cell_type": "markdown",
   "metadata": {},
   "source": [
    "**Carregando pacotes**"
   ]
  },
  {
   "cell_type": "code",
   "execution_count": 114,
   "metadata": {},
   "outputs": [],
   "source": [
    "%matplotlib inline\n",
    "import matplotlib.pyplot as plt\n",
    "import numpy as np\n",
    "import pandas as pd"
   ]
  },
  {
   "cell_type": "markdown",
   "metadata": {},
   "source": [
    "**Carregando Dados**"
   ]
  },
  {
   "cell_type": "code",
   "execution_count": 115,
   "metadata": {},
   "outputs": [
    {
     "data": {
      "application/vnd.microsoft.datawrangler.viewer.v0+json": {
       "columns": [
        {
         "name": "index",
         "rawType": "int64",
         "type": "integer"
        },
        {
         "name": "year",
         "rawType": "int64",
         "type": "integer"
        },
        {
         "name": "age",
         "rawType": "int64",
         "type": "integer"
        },
        {
         "name": "maritl",
         "rawType": "object",
         "type": "string"
        },
        {
         "name": "race",
         "rawType": "object",
         "type": "string"
        },
        {
         "name": "education",
         "rawType": "object",
         "type": "string"
        },
        {
         "name": "region",
         "rawType": "object",
         "type": "string"
        },
        {
         "name": "jobclass",
         "rawType": "object",
         "type": "string"
        },
        {
         "name": "health",
         "rawType": "object",
         "type": "string"
        },
        {
         "name": "health_ins",
         "rawType": "object",
         "type": "string"
        },
        {
         "name": "logwage",
         "rawType": "float64",
         "type": "float"
        },
        {
         "name": "wage",
         "rawType": "float64",
         "type": "float"
        }
       ],
       "conversionMethod": "pd.DataFrame",
       "ref": "103f829b-174a-43c5-9a50-b2986eb72fef",
       "rows": [
        [
         "231655",
         "2006",
         "18",
         "1. Never Married",
         "1. White",
         "1. < HS Grad",
         "2. Middle Atlantic",
         "1. Industrial",
         "1. <=Good",
         "2. No",
         "4.31806333496276",
         "75.0431540173515"
        ],
        [
         "86582",
         "2004",
         "24",
         "1. Never Married",
         "1. White",
         "4. College Grad",
         "2. Middle Atlantic",
         "2. Information",
         "2. >=Very Good",
         "2. No",
         "4.25527250510331",
         "70.4760196469445"
        ],
        [
         "161300",
         "2003",
         "45",
         "2. Married",
         "1. White",
         "3. Some College",
         "2. Middle Atlantic",
         "1. Industrial",
         "1. <=Good",
         "1. Yes",
         "4.8750612633917",
         "130.982177377461"
        ],
        [
         "155159",
         "2003",
         "43",
         "2. Married",
         "3. Asian",
         "4. College Grad",
         "2. Middle Atlantic",
         "2. Information",
         "2. >=Very Good",
         "1. Yes",
         "5.04139268515823",
         "154.68529299563"
        ],
        [
         "11443",
         "2005",
         "50",
         "4. Divorced",
         "1. White",
         "2. HS Grad",
         "2. Middle Atlantic",
         "2. Information",
         "1. <=Good",
         "1. Yes",
         "4.31806333496276",
         "75.0431540173515"
        ],
        [
         "376662",
         "2008",
         "54",
         "2. Married",
         "1. White",
         "4. College Grad",
         "2. Middle Atlantic",
         "2. Information",
         "2. >=Very Good",
         "1. Yes",
         "4.84509804001426",
         "127.115743812184"
        ],
        [
         "450601",
         "2009",
         "44",
         "2. Married",
         "4. Other",
         "3. Some College",
         "2. Middle Atlantic",
         "1. Industrial",
         "2. >=Very Good",
         "1. Yes",
         "5.13302127864665",
         "169.528538036679"
        ],
        [
         "377954",
         "2008",
         "30",
         "1. Never Married",
         "3. Asian",
         "3. Some College",
         "2. Middle Atlantic",
         "2. Information",
         "1. <=Good",
         "1. Yes",
         "4.7160033436348",
         "111.720849360989"
        ],
        [
         "228963",
         "2006",
         "41",
         "1. Never Married",
         "2. Black",
         "3. Some College",
         "2. Middle Atlantic",
         "2. Information",
         "2. >=Very Good",
         "1. Yes",
         "4.77815125038364",
         "118.884359339886"
        ],
        [
         "81404",
         "2004",
         "52",
         "2. Married",
         "1. White",
         "2. HS Grad",
         "2. Middle Atlantic",
         "2. Information",
         "2. >=Very Good",
         "1. Yes",
         "4.85733249643127",
         "128.680488220624"
        ],
        [
         "302778",
         "2007",
         "45",
         "4. Divorced",
         "1. White",
         "3. Some College",
         "2. Middle Atlantic",
         "2. Information",
         "1. <=Good",
         "1. Yes",
         "4.76342799356294",
         "117.146816914805"
        ],
        [
         "305706",
         "2007",
         "34",
         "2. Married",
         "1. White",
         "2. HS Grad",
         "2. Middle Atlantic",
         "1. Industrial",
         "2. >=Very Good",
         "2. No",
         "4.39794000867204",
         "81.2832532842527"
        ],
        [
         "8690",
         "2005",
         "35",
         "1. Never Married",
         "1. White",
         "2. HS Grad",
         "2. Middle Atlantic",
         "2. Information",
         "2. >=Very Good",
         "1. Yes",
         "4.49415459401844",
         "89.4924795180001"
        ],
        [
         "153561",
         "2003",
         "39",
         "2. Married",
         "1. White",
         "4. College Grad",
         "2. Middle Atlantic",
         "1. Industrial",
         "2. >=Very Good",
         "1. Yes",
         "4.90308998699194",
         "134.705375118879"
        ],
        [
         "449654",
         "2009",
         "54",
         "2. Married",
         "1. White",
         "2. HS Grad",
         "2. Middle Atlantic",
         "2. Information",
         "2. >=Very Good",
         "1. Yes",
         "4.90308998699194",
         "134.705375118879"
        ],
        [
         "447660",
         "2009",
         "51",
         "2. Married",
         "1. White",
         "3. Some College",
         "2. Middle Atlantic",
         "1. Industrial",
         "2. >=Very Good",
         "1. Yes",
         "4.50514997831991",
         "90.4819133566401"
        ],
        [
         "160191",
         "2003",
         "37",
         "1. Never Married",
         "3. Asian",
         "4. College Grad",
         "2. Middle Atlantic",
         "1. Industrial",
         "2. >=Very Good",
         "2. No",
         "4.41497334797082",
         "82.6796372966372"
        ],
        [
         "230312",
         "2006",
         "50",
         "2. Married",
         "1. White",
         "5. Advanced Degree",
         "2. Middle Atlantic",
         "2. Information",
         "2. >=Very Good",
         "2. No",
         "5.36055176170483",
         "212.842352315711"
        ],
        [
         "301585",
         "2007",
         "56",
         "2. Married",
         "1. White",
         "4. College Grad",
         "2. Middle Atlantic",
         "1. Industrial",
         "1. <=Good",
         "1. Yes",
         "4.86102634169657",
         "129.156693004704"
        ],
        [
         "153682",
         "2003",
         "37",
         "1. Never Married",
         "1. White",
         "3. Some College",
         "2. Middle Atlantic",
         "1. Industrial",
         "2. >=Very Good",
         "1. Yes",
         "4.5910646070265",
         "98.5993438603892"
        ],
        [
         "158226",
         "2003",
         "38",
         "2. Married",
         "3. Asian",
         "4. College Grad",
         "2. Middle Atlantic",
         "2. Information",
         "2. >=Very Good",
         "2. No",
         "5.30102999566398",
         "200.543262324662"
        ],
        [
         "11141",
         "2005",
         "40",
         "4. Divorced",
         "1. White",
         "2. HS Grad",
         "2. Middle Atlantic",
         "2. Information",
         "2. >=Very Good",
         "2. No",
         "3.92012332629072",
         "50.406660861266"
        ],
        [
         "448410",
         "2009",
         "75",
         "2. Married",
         "1. White",
         "4. College Grad",
         "2. Middle Atlantic",
         "1. Industrial",
         "2. >=Very Good",
         "1. Yes",
         "4.44715803134222",
         "85.3839403789827"
        ],
        [
         "305116",
         "2007",
         "40",
         "2. Married",
         "1. White",
         "4. College Grad",
         "2. Middle Atlantic",
         "2. Information",
         "2. >=Very Good",
         "2. No",
         "5.07918124604763",
         "160.642475408263"
        ],
        [
         "233002",
         "2006",
         "38",
         "1. Never Married",
         "1. White",
         "2. HS Grad",
         "2. Middle Atlantic",
         "1. Industrial",
         "1. <=Good",
         "2. No",
         "4.54406804435028",
         "94.0727147457005"
        ],
        [
         "8684",
         "2005",
         "49",
         "2. Married",
         "1. White",
         "5. Advanced Degree",
         "2. Middle Atlantic",
         "2. Information",
         "2. >=Very Good",
         "1. Yes",
         "5.62618633492728",
         "277.601417511009"
        ],
        [
         "229379",
         "2006",
         "43",
         "2. Married",
         "1. White",
         "2. HS Grad",
         "2. Middle Atlantic",
         "1. Industrial",
         "1. <=Good",
         "1. Yes",
         "4.43136376415899",
         "84.0459576539924"
        ],
        [
         "86064",
         "2004",
         "34",
         "2. Married",
         "4. Other",
         "2. HS Grad",
         "2. Middle Atlantic",
         "1. Industrial",
         "1. <=Good",
         "1. Yes",
         "4.17609125905568",
         "65.1108537153447"
        ],
        [
         "378472",
         "2008",
         "57",
         "2. Married",
         "1. White",
         "2. HS Grad",
         "2. Middle Atlantic",
         "1. Industrial",
         "2. >=Very Good",
         "2. No",
         "4.75587485567249",
         "116.265324062503"
        ],
        [
         "157244",
         "2003",
         "18",
         "1. Never Married",
         "2. Black",
         "2. HS Grad",
         "2. Middle Atlantic",
         "1. Industrial",
         "2. >=Very Good",
         "1. Yes",
         "4.25527250510331",
         "70.4760196469445"
        ],
        [
         "82694",
         "2004",
         "55",
         "2. Married",
         "1. White",
         "5. Advanced Degree",
         "2. Middle Atlantic",
         "2. Information",
         "2. >=Very Good",
         "1. Yes",
         "5.27646180417324",
         "195.676307990453"
        ],
        [
         "7690",
         "2005",
         "51",
         "2. Married",
         "1. White",
         "3. Some College",
         "2. Middle Atlantic",
         "2. Information",
         "2. >=Very Good",
         "1. Yes",
         "4.61909333062674",
         "101.402052302992"
        ],
        [
         "377879",
         "2008",
         "33",
         "1. Never Married",
         "1. White",
         "5. Advanced Degree",
         "2. Middle Atlantic",
         "1. Industrial",
         "2. >=Very Good",
         "2. No",
         "4.39794000867204",
         "81.2832532842527"
        ],
        [
         "9747",
         "2005",
         "34",
         "1. Never Married",
         "1. White",
         "2. HS Grad",
         "2. Middle Atlantic",
         "1. Industrial",
         "2. >=Very Good",
         "2. No",
         "4.7160033436348",
         "111.720849360989"
        ],
        [
         "233301",
         "2006",
         "36",
         "2. Married",
         "1. White",
         "4. College Grad",
         "2. Middle Atlantic",
         "2. Information",
         "2. >=Very Good",
         "1. Yes",
         "4.49847596780109",
         "89.8800467811106"
        ],
        [
         "157123",
         "2003",
         "56",
         "1. Never Married",
         "1. White",
         "5. Advanced Degree",
         "2. Middle Atlantic",
         "2. Information",
         "1. <=Good",
         "1. Yes",
         "4.47712125471966",
         "87.9810327856054"
        ],
        [
         "230823",
         "2006",
         "70",
         "1. Never Married",
         "1. White",
         "4. College Grad",
         "2. Middle Atlantic",
         "1. Industrial",
         "1. <=Good",
         "1. Yes",
         "4.47712125471966",
         "87.9810327856054"
        ],
        [
         "80406",
         "2004",
         "25",
         "1. Never Married",
         "1. White",
         "4. College Grad",
         "2. Middle Atlantic",
         "1. Industrial",
         "2. >=Very Good",
         "1. Yes",
         "4.64345267648619",
         "103.90247060316"
        ],
        [
         "228851",
         "2006",
         "32",
         "2. Married",
         "1. White",
         "3. Some College",
         "2. Middle Atlantic",
         "1. Industrial",
         "2. >=Very Good",
         "2. No",
         "4.66275783168157",
         "105.927810775063"
        ],
        [
         "153810",
         "2003",
         "27",
         "2. Married",
         "1. White",
         "1. < HS Grad",
         "2. Middle Atlantic",
         "1. Industrial",
         "2. >=Very Good",
         "2. No",
         "4.19312459835446",
         "66.2294082943902"
        ],
        [
         "81383",
         "2004",
         "28",
         "2. Married",
         "3. Asian",
         "4. College Grad",
         "2. Middle Atlantic",
         "1. Industrial",
         "2. >=Very Good",
         "2. No",
         "3.54406804435028",
         "34.6074177301288"
        ],
        [
         "303642",
         "2007",
         "27",
         "1. Never Married",
         "1. White",
         "4. College Grad",
         "2. Middle Atlantic",
         "2. Information",
         "2. >=Very Good",
         "1. Yes",
         "4.69897000433602",
         "109.833985642199"
        ],
        [
         "87492",
         "2004",
         "43",
         "1. Never Married",
         "1. White",
         "1. < HS Grad",
         "2. Middle Atlantic",
         "1. Industrial",
         "1. <=Good",
         "2. No",
         "3.81291335664286",
         "45.282169994022"
        ],
        [
         "8692",
         "2005",
         "50",
         "1. Never Married",
         "4. Other",
         "1. < HS Grad",
         "2. Middle Atlantic",
         "1. Industrial",
         "1. <=Good",
         "1. Yes",
         "4.30102999566398",
         "73.7757432746946"
        ],
        [
         "86929",
         "2004",
         "39",
         "2. Married",
         "2. Black",
         "2. HS Grad",
         "2. Middle Atlantic",
         "2. Information",
         "2. >=Very Good",
         "2. No",
         "4.39794000867204",
         "81.2832532842527"
        ],
        [
         "380872",
         "2008",
         "52",
         "2. Married",
         "1. White",
         "5. Advanced Degree",
         "2. Middle Atlantic",
         "1. Industrial",
         "2. >=Very Good",
         "1. Yes",
         "5.04139268515823",
         "154.68529299563"
        ],
        [
         "449480",
         "2009",
         "35",
         "2. Married",
         "1. White",
         "4. College Grad",
         "2. Middle Atlantic",
         "1. Industrial",
         "2. >=Very Good",
         "1. Yes",
         "5.59061783348625",
         "267.901086855275"
        ],
        [
         "305136",
         "2007",
         "57",
         "2. Married",
         "1. White",
         "5. Advanced Degree",
         "2. Middle Atlantic",
         "2. Information",
         "2. >=Very Good",
         "1. Yes",
         "5.17609125905568",
         "176.989650489877"
        ],
        [
         "227963",
         "2006",
         "25",
         "1. Never Married",
         "1. White",
         "1. < HS Grad",
         "2. Middle Atlantic",
         "1. Industrial",
         "2. >=Very Good",
         "2. No",
         "4.19312459835446",
         "66.2294082943902"
        ],
        [
         "232863",
         "2006",
         "33",
         "1. Never Married",
         "1. White",
         "2. HS Grad",
         "2. Middle Atlantic",
         "2. Information",
         "1. <=Good",
         "1. Yes",
         "4.75587485567249",
         "116.265324062503"
        ]
       ],
       "shape": {
        "columns": 11,
        "rows": 3000
       }
      },
      "text/html": [
       "<div>\n",
       "<style scoped>\n",
       "    .dataframe tbody tr th:only-of-type {\n",
       "        vertical-align: middle;\n",
       "    }\n",
       "\n",
       "    .dataframe tbody tr th {\n",
       "        vertical-align: top;\n",
       "    }\n",
       "\n",
       "    .dataframe thead th {\n",
       "        text-align: right;\n",
       "    }\n",
       "</style>\n",
       "<table border=\"1\" class=\"dataframe\">\n",
       "  <thead>\n",
       "    <tr style=\"text-align: right;\">\n",
       "      <th></th>\n",
       "      <th>year</th>\n",
       "      <th>age</th>\n",
       "      <th>maritl</th>\n",
       "      <th>race</th>\n",
       "      <th>education</th>\n",
       "      <th>region</th>\n",
       "      <th>jobclass</th>\n",
       "      <th>health</th>\n",
       "      <th>health_ins</th>\n",
       "      <th>logwage</th>\n",
       "      <th>wage</th>\n",
       "    </tr>\n",
       "  </thead>\n",
       "  <tbody>\n",
       "    <tr>\n",
       "      <th>231655</th>\n",
       "      <td>2006</td>\n",
       "      <td>18</td>\n",
       "      <td>1. Never Married</td>\n",
       "      <td>1. White</td>\n",
       "      <td>1. &lt; HS Grad</td>\n",
       "      <td>2. Middle Atlantic</td>\n",
       "      <td>1. Industrial</td>\n",
       "      <td>1. &lt;=Good</td>\n",
       "      <td>2. No</td>\n",
       "      <td>4.318063</td>\n",
       "      <td>75.043154</td>\n",
       "    </tr>\n",
       "    <tr>\n",
       "      <th>86582</th>\n",
       "      <td>2004</td>\n",
       "      <td>24</td>\n",
       "      <td>1. Never Married</td>\n",
       "      <td>1. White</td>\n",
       "      <td>4. College Grad</td>\n",
       "      <td>2. Middle Atlantic</td>\n",
       "      <td>2. Information</td>\n",
       "      <td>2. &gt;=Very Good</td>\n",
       "      <td>2. No</td>\n",
       "      <td>4.255273</td>\n",
       "      <td>70.476020</td>\n",
       "    </tr>\n",
       "    <tr>\n",
       "      <th>161300</th>\n",
       "      <td>2003</td>\n",
       "      <td>45</td>\n",
       "      <td>2. Married</td>\n",
       "      <td>1. White</td>\n",
       "      <td>3. Some College</td>\n",
       "      <td>2. Middle Atlantic</td>\n",
       "      <td>1. Industrial</td>\n",
       "      <td>1. &lt;=Good</td>\n",
       "      <td>1. Yes</td>\n",
       "      <td>4.875061</td>\n",
       "      <td>130.982177</td>\n",
       "    </tr>\n",
       "    <tr>\n",
       "      <th>155159</th>\n",
       "      <td>2003</td>\n",
       "      <td>43</td>\n",
       "      <td>2. Married</td>\n",
       "      <td>3. Asian</td>\n",
       "      <td>4. College Grad</td>\n",
       "      <td>2. Middle Atlantic</td>\n",
       "      <td>2. Information</td>\n",
       "      <td>2. &gt;=Very Good</td>\n",
       "      <td>1. Yes</td>\n",
       "      <td>5.041393</td>\n",
       "      <td>154.685293</td>\n",
       "    </tr>\n",
       "    <tr>\n",
       "      <th>11443</th>\n",
       "      <td>2005</td>\n",
       "      <td>50</td>\n",
       "      <td>4. Divorced</td>\n",
       "      <td>1. White</td>\n",
       "      <td>2. HS Grad</td>\n",
       "      <td>2. Middle Atlantic</td>\n",
       "      <td>2. Information</td>\n",
       "      <td>1. &lt;=Good</td>\n",
       "      <td>1. Yes</td>\n",
       "      <td>4.318063</td>\n",
       "      <td>75.043154</td>\n",
       "    </tr>\n",
       "    <tr>\n",
       "      <th>...</th>\n",
       "      <td>...</td>\n",
       "      <td>...</td>\n",
       "      <td>...</td>\n",
       "      <td>...</td>\n",
       "      <td>...</td>\n",
       "      <td>...</td>\n",
       "      <td>...</td>\n",
       "      <td>...</td>\n",
       "      <td>...</td>\n",
       "      <td>...</td>\n",
       "      <td>...</td>\n",
       "    </tr>\n",
       "    <tr>\n",
       "      <th>376816</th>\n",
       "      <td>2008</td>\n",
       "      <td>44</td>\n",
       "      <td>2. Married</td>\n",
       "      <td>1. White</td>\n",
       "      <td>3. Some College</td>\n",
       "      <td>2. Middle Atlantic</td>\n",
       "      <td>1. Industrial</td>\n",
       "      <td>2. &gt;=Very Good</td>\n",
       "      <td>1. Yes</td>\n",
       "      <td>5.041393</td>\n",
       "      <td>154.685293</td>\n",
       "    </tr>\n",
       "    <tr>\n",
       "      <th>302281</th>\n",
       "      <td>2007</td>\n",
       "      <td>30</td>\n",
       "      <td>2. Married</td>\n",
       "      <td>1. White</td>\n",
       "      <td>2. HS Grad</td>\n",
       "      <td>2. Middle Atlantic</td>\n",
       "      <td>1. Industrial</td>\n",
       "      <td>2. &gt;=Very Good</td>\n",
       "      <td>2. No</td>\n",
       "      <td>4.602060</td>\n",
       "      <td>99.689464</td>\n",
       "    </tr>\n",
       "    <tr>\n",
       "      <th>10033</th>\n",
       "      <td>2005</td>\n",
       "      <td>27</td>\n",
       "      <td>2. Married</td>\n",
       "      <td>2. Black</td>\n",
       "      <td>1. &lt; HS Grad</td>\n",
       "      <td>2. Middle Atlantic</td>\n",
       "      <td>1. Industrial</td>\n",
       "      <td>1. &lt;=Good</td>\n",
       "      <td>2. No</td>\n",
       "      <td>4.193125</td>\n",
       "      <td>66.229408</td>\n",
       "    </tr>\n",
       "    <tr>\n",
       "      <th>14375</th>\n",
       "      <td>2005</td>\n",
       "      <td>27</td>\n",
       "      <td>1. Never Married</td>\n",
       "      <td>1. White</td>\n",
       "      <td>3. Some College</td>\n",
       "      <td>2. Middle Atlantic</td>\n",
       "      <td>1. Industrial</td>\n",
       "      <td>2. &gt;=Very Good</td>\n",
       "      <td>1. Yes</td>\n",
       "      <td>4.477121</td>\n",
       "      <td>87.981033</td>\n",
       "    </tr>\n",
       "    <tr>\n",
       "      <th>453557</th>\n",
       "      <td>2009</td>\n",
       "      <td>55</td>\n",
       "      <td>5. Separated</td>\n",
       "      <td>1. White</td>\n",
       "      <td>2. HS Grad</td>\n",
       "      <td>2. Middle Atlantic</td>\n",
       "      <td>1. Industrial</td>\n",
       "      <td>1. &lt;=Good</td>\n",
       "      <td>1. Yes</td>\n",
       "      <td>4.505150</td>\n",
       "      <td>90.481913</td>\n",
       "    </tr>\n",
       "  </tbody>\n",
       "</table>\n",
       "<p>3000 rows × 11 columns</p>\n",
       "</div>"
      ],
      "text/plain": [
       "        year  age            maritl      race        education  \\\n",
       "231655  2006   18  1. Never Married  1. White     1. < HS Grad   \n",
       "86582   2004   24  1. Never Married  1. White  4. College Grad   \n",
       "161300  2003   45        2. Married  1. White  3. Some College   \n",
       "155159  2003   43        2. Married  3. Asian  4. College Grad   \n",
       "11443   2005   50       4. Divorced  1. White       2. HS Grad   \n",
       "...      ...  ...               ...       ...              ...   \n",
       "376816  2008   44        2. Married  1. White  3. Some College   \n",
       "302281  2007   30        2. Married  1. White       2. HS Grad   \n",
       "10033   2005   27        2. Married  2. Black     1. < HS Grad   \n",
       "14375   2005   27  1. Never Married  1. White  3. Some College   \n",
       "453557  2009   55      5. Separated  1. White       2. HS Grad   \n",
       "\n",
       "                    region        jobclass          health health_ins  \\\n",
       "231655  2. Middle Atlantic   1. Industrial       1. <=Good      2. No   \n",
       "86582   2. Middle Atlantic  2. Information  2. >=Very Good      2. No   \n",
       "161300  2. Middle Atlantic   1. Industrial       1. <=Good     1. Yes   \n",
       "155159  2. Middle Atlantic  2. Information  2. >=Very Good     1. Yes   \n",
       "11443   2. Middle Atlantic  2. Information       1. <=Good     1. Yes   \n",
       "...                    ...             ...             ...        ...   \n",
       "376816  2. Middle Atlantic   1. Industrial  2. >=Very Good     1. Yes   \n",
       "302281  2. Middle Atlantic   1. Industrial  2. >=Very Good      2. No   \n",
       "10033   2. Middle Atlantic   1. Industrial       1. <=Good      2. No   \n",
       "14375   2. Middle Atlantic   1. Industrial  2. >=Very Good     1. Yes   \n",
       "453557  2. Middle Atlantic   1. Industrial       1. <=Good     1. Yes   \n",
       "\n",
       "         logwage        wage  \n",
       "231655  4.318063   75.043154  \n",
       "86582   4.255273   70.476020  \n",
       "161300  4.875061  130.982177  \n",
       "155159  5.041393  154.685293  \n",
       "11443   4.318063   75.043154  \n",
       "...          ...         ...  \n",
       "376816  5.041393  154.685293  \n",
       "302281  4.602060   99.689464  \n",
       "10033   4.193125   66.229408  \n",
       "14375   4.477121   87.981033  \n",
       "453557  4.505150   90.481913  \n",
       "\n",
       "[3000 rows x 11 columns]"
      ]
     },
     "execution_count": 115,
     "metadata": {},
     "output_type": "execute_result"
    }
   ],
   "source": [
    "df = pd.read_csv('https://github.com/Daniel-Uhr/data/raw/main/Wage.csv', index_col=0)\n",
    "df"
   ]
  },
  {
   "cell_type": "markdown",
   "metadata": {},
   "source": [
    "Este conjunto de dados contém informações sobre ***salários e características individuais***.\n",
    "\n",
    "Nosso principal objetivo será explicar os salários usando os observáveis ​​contidos no conjunto de dados."
   ]
  },
  {
   "cell_type": "markdown",
   "metadata": {},
   "source": [
    "### 2. Regressão Polinomial e Funções Degrau (Step Functions)\n",
    "\n",
    "A ***regressão polinomial*** introduz não linearidades ao modelo linear padrão, substituindo-o por uma função polinomial. As ***funções escalonadas (degrau)*** dividem a faixa de uma variável em \"caixas\" (bins) e ajustam uma constante diferente em cada uma, evitando impor uma estrutura global.\n",
    "\n",
    "\n",
    "### 2.1. Regressão Polinomial\n",
    "\n",
    "Como vimos no OLS, a maneira mais comum de introduzir linearidades é substituir o modelo linear padrão por uma função polinomial:\n",
    "\n",
    "$$ y = \\beta_0 + \\beta_1 x_{i} + \\beta_2 x_{i}^2 + \\ldots + \\beta_k x_{i}^k + \\epsilon_{i} $$\n"
   ]
  },
  {
   "cell_type": "markdown",
   "metadata": {},
   "source": [
    "***Exemplo em Python***\n",
    "\n",
    "Voltando a nossa base de dados. Suponha que queremos investigar a relação entre $wage$ e $age$. Vamos primeiro plotar as duas variáveis e entender se há algum comportamento claro entre elas. \n"
   ]
  },
  {
   "cell_type": "code",
   "execution_count": 116,
   "metadata": {},
   "outputs": [
    {
     "data": {
      "image/png": "[encoded data removed]",
      "text/plain": [
       "<Figure size 640x480 with 1 Axes>"
      ]
     },
     "metadata": {},
     "output_type": "display_data"
    }
   ],
   "source": [
    "# Scatterplot dos dados\n",
    "df.plot.scatter('age','wage', color='w', edgecolors='k', alpha=0.3);"
   ]
  },
  {
   "cell_type": "markdown",
   "metadata": {},
   "source": [
    "Repare que a relação parece ser **complexa** e **não linear**. Ou seja:\n",
    "* Forma matemática: \"A relação parece ser não linear.\"\n",
    "* Dificuldade em descrever/modelar: \"A relação parece ser complexa.\"\n",
    "\n",
    "Chama atenção que parece existir uma separação entre salário acima e abaixo de 250, não?"
   ]
  },
  {
   "cell_type": "markdown",
   "metadata": {},
   "source": [
    "***Variáveis***\n",
    "\n",
    "Temos a renda ($y$), a idade ($X$), e vamos criar uma nova variável de resultado indicativa/binária ($y01$) que será \"1\" se a renda for maior que 250.000 USD, e \"0\" caso contrário (e adicionar ao datafrane df)."
   ]
  },
  {
   "cell_type": "code",
   "execution_count": 117,
   "metadata": {},
   "outputs": [],
   "source": [
    "X = df['age']\n",
    "y = df['wage']\n",
    "df['y01'] = (df.wage > 250).map({False:0, True:1}).values\n",
    "y01 = df['y01']"
   ]
  },
  {
   "cell_type": "markdown",
   "metadata": {},
   "source": [
    "Vamos expandir nossos polinômios de regressão linear de diferentes graus: de 1 a 5."
   ]
  },
  {
   "cell_type": "code",
   "execution_count": 118,
   "metadata": {},
   "outputs": [],
   "source": [
    "# importar polynomial features do sklearn\n",
    "from sklearn.preprocessing import PolynomialFeatures\n",
    "\n",
    "X_poly1 = PolynomialFeatures(1).fit_transform(df.age.values.reshape(-1,1))\n",
    "X_poly2 = PolynomialFeatures(2).fit_transform(df.age.values.reshape(-1,1))\n",
    "X_poly3 = PolynomialFeatures(3).fit_transform(df.age.values.reshape(-1,1))\n",
    "X_poly4 = PolynomialFeatures(4).fit_transform(df.age.values.reshape(-1,1))\n",
    "X_poly5 = PolynomialFeatures(5).fit_transform(df.age.values.reshape(-1,1))"
   ]
  },
  {
   "cell_type": "markdown",
   "metadata": {},
   "source": [
    "***OBS:*** O Scikit-Learn espera que as entradas sejam uma matriz de forma (*n_amostras, n_características*).\n",
    "Mesmo com apenas uma variável, você precisa informar como (*n_amostras, 1*), e não apenas como (*n_amostras,*).\n",
    "\n",
    "```python\t\n",
    " array([[25],\n",
    "       [30],\n",
    "       [35],\n",
    "       [40],\n",
    "       ...])\n",
    "```\n",
    "Por isso, precisamos usar o método `.reshape()` para transformar a variável em uma matriz de duas dimensões. O método `reshape(-1, 1)` transforma a variável em uma matriz com uma coluna e tantas linhas quantas forem necessárias.\n"
   ]
  },
  {
   "cell_type": "markdown",
   "metadata": {},
   "source": [
    "Se executarmos uma regressão linear em uma expansão polinomial de 4 graus de $age$, isso é o que parece:"
   ]
  },
  {
   "cell_type": "code",
   "execution_count": 119,
   "metadata": {},
   "outputs": [
    {
     "name": "stdout",
     "output_type": "stream",
     "text": [
      "                            OLS Regression Results                            \n",
      "==============================================================================\n",
      "Dep. Variable:                   wage   R-squared:                       0.086\n",
      "Model:                            OLS   Adj. R-squared:                  0.085\n",
      "Method:                 Least Squares   F-statistic:                     70.69\n",
      "Date:                qua, 14 mai 2025   Prob (F-statistic):           2.77e-57\n",
      "Time:                        17:08:34   Log-Likelihood:                -15315.\n",
      "No. Observations:                3000   AIC:                         3.064e+04\n",
      "Df Residuals:                    2995   BIC:                         3.067e+04\n",
      "Df Model:                           4                                         \n",
      "Covariance Type:            nonrobust                                         \n",
      "==============================================================================\n",
      "                 coef    std err          t      P>|t|      [0.025      0.975]\n",
      "------------------------------------------------------------------------------\n",
      "const       -184.1542     60.040     -3.067      0.002    -301.879     -66.430\n",
      "x1            21.2455      5.887      3.609      0.000       9.703      32.788\n",
      "x2            -0.5639      0.206     -2.736      0.006      -0.968      -0.160\n",
      "x3             0.0068      0.003      2.221      0.026       0.001       0.013\n",
      "x4         -3.204e-05   1.64e-05     -1.952      0.051   -6.42e-05    1.45e-07\n",
      "==============================================================================\n",
      "Omnibus:                     1097.594   Durbin-Watson:                   1.960\n",
      "Prob(Omnibus):                  0.000   Jarque-Bera (JB):             4965.521\n",
      "Skew:                           1.722   Prob(JB):                         0.00\n",
      "Kurtosis:                       8.279   Cond. No.                     5.67e+08\n",
      "==============================================================================\n",
      "\n",
      "Notes:\n",
      "[1] Standard Errors assume that the covariance matrix of the errors is correctly specified.\n",
      "[2] The condition number is large, 5.67e+08. This might indicate that there are\n",
      "strong multicollinearity or other numerical problems.\n"
     ]
    }
   ],
   "source": [
    "import statsmodels.api as sm\n",
    "\n",
    "# rodar o OLS no polinomio de grau 4\n",
    "ols_poly4 = sm.OLS(y, X_poly4).fit()\n",
    "print(ols_poly4.summary())"
   ]
  },
  {
   "cell_type": "markdown",
   "metadata": {},
   "source": [
    "Você poderia ter feito a análise da forma manual:"
   ]
  },
  {
   "cell_type": "code",
   "execution_count": 120,
   "metadata": {},
   "outputs": [
    {
     "name": "stdout",
     "output_type": "stream",
     "text": [
      "                            OLS Regression Results                            \n",
      "==============================================================================\n",
      "Dep. Variable:                   wage   R-squared:                       0.086\n",
      "Model:                            OLS   Adj. R-squared:                  0.085\n",
      "Method:                 Least Squares   F-statistic:                     70.69\n",
      "Date:                qua, 14 mai 2025   Prob (F-statistic):           2.77e-57\n",
      "Time:                        17:08:41   Log-Likelihood:                -15315.\n",
      "No. Observations:                3000   AIC:                         3.064e+04\n",
      "Df Residuals:                    2995   BIC:                         3.067e+04\n",
      "Df Model:                           4                                         \n",
      "Covariance Type:            nonrobust                                         \n",
      "===============================================================================\n",
      "                  coef    std err          t      P>|t|      [0.025      0.975]\n",
      "-------------------------------------------------------------------------------\n",
      "Intercept    -184.1542     60.040     -3.067      0.002    -301.879     -66.430\n",
      "age            21.2455      5.887      3.609      0.000       9.703      32.788\n",
      "I(age ** 2)    -0.5639      0.206     -2.736      0.006      -0.968      -0.160\n",
      "I(age ** 3)     0.0068      0.003      2.221      0.026       0.001       0.013\n",
      "I(age ** 4) -3.204e-05   1.64e-05     -1.952      0.051   -6.42e-05    1.45e-07\n",
      "==============================================================================\n",
      "Omnibus:                     1097.594   Durbin-Watson:                   1.960\n",
      "Prob(Omnibus):                  0.000   Jarque-Bera (JB):             4965.521\n",
      "Skew:                           1.722   Prob(JB):                         0.00\n",
      "Kurtosis:                       8.279   Cond. No.                     5.67e+08\n",
      "==============================================================================\n",
      "\n",
      "Notes:\n",
      "[1] Standard Errors assume that the covariance matrix of the errors is correctly specified.\n",
      "[2] The condition number is large, 5.67e+08. This might indicate that there are\n",
      "strong multicollinearity or other numerical problems.\n"
     ]
    }
   ],
   "source": [
    "# Outra forma de fazer o mesmo processo \"forma manual\" Versão 2 (v2)\n",
    "ols_poly4_v2 = sm.OLS.from_formula('wage ~ age + I(age**2) + I(age**3) + I(age**4)', data=df).fit()\n",
    "print(ols_poly4_v2.summary())"
   ]
  },
  {
   "cell_type": "markdown",
   "metadata": {},
   "source": [
    "OBS: `I(...)` diz ao interpretador de fórmulas: “avalie isso como uma expressão Python comum”"
   ]
  },
  {
   "cell_type": "markdown",
   "metadata": {},
   "source": [
    "***Medidas de Ajuste***\n",
    "\n",
    "Agora os coeficientes individuais **não são de particular interesse**. Nosso principal objetivo é **capturar da melhor forma possível a relação entre `age` e `wage`**. Mas como escolher entre diferentes polinômios?\n",
    "\n",
    "Vamos comparar modelos com diferentes graus polinomiais. Para cada regressão, analisaremos um conjunto de métricas de desempenho.\n",
    "\n",
    "***Critérios para prever uma variável contínua***\n",
    "\n",
    "- **MAE (Mean Absolute Error)**  \n",
    "  $$MAE = \\frac{1}{n} \\sum_{i=1}^{n} |y_i - \\hat{y}_i|$$  \n",
    "  Interpretação: quanto **menor**, melhor.\n",
    "\n",
    "- **MSE (Mean Squared Error)**  \n",
    "  $$MSE = \\frac{1}{n} \\sum_{i=1}^{n} (y_i - \\hat{y}_i)^2$$  \n",
    "  Interpretação: quanto **menor**, melhor.\n",
    "\n",
    "- **RMSE (Root Mean Squared Error)**  \n",
    "  $$RMSE = \\sqrt{MSE}$$  \n",
    "  Interpretação: quanto **menor**, melhor.\n",
    "\n",
    "- **R² (Coeficiente de Determinação)**  \n",
    "  $$R^2 = 1 - \\frac{SSR}{SST}$$  \n",
    "  onde $SSR$ é a soma dos quadrados dos resíduos e $SST$ é a soma total dos quadrados.  \n",
    "  Interpretação: quanto **maior**, melhor.\n",
    "\n",
    "- **R² ajustado**  \n",
    "  $$R^2_{\\text{ajustado}} = 1 - \\left(1 - R^2\\right) \\frac{n - 1}{n - k - 1}$$  \n",
    "  onde $k$ é o número de variáveis independentes.  \n",
    "  Interpretação: quanto **maior**, melhor. O R² ajustado penaliza a adição de variáveis irrelevantes.\n",
    "\n",
    "\n",
    "***Critérios baseados em erro de predição***\n",
    "\n",
    "Esses são úteis quando o foco está na **precisão preditiva fora da amostra**:\n",
    "\n",
    "- **MAPE (Mean Absolute Percentage Error)**  \n",
    "  $$MAPE = \\frac{1}{n} \\sum_{i=1}^{n} \\left| \\frac{y_i - \\hat{y}_i}{y_i} \\right|$$  \n",
    "  Interpretação: quanto **menor**, melhor.  \n",
    "  Obs: sensível quando $y_i$ se aproxima de zero.\n",
    "\n",
    "\n",
    "***Critérios de complexidade e ajuste penalizado***\n",
    "\n",
    "Esses critérios penalizam modelos muito complexos, ajudando a evitar **overfitting**:\n",
    "\n",
    "- **AIC (Akaike Information Criterion)**  \n",
    "  $$AIC = 2k - 2 \\ln(L)$$  \n",
    "  onde $k$ é o número de parâmetros e $L$ é a verossimilhança do modelo.  \n",
    "  Interpretação: quanto **menor**, melhor.\n",
    "\n",
    "- **BIC (Bayesian Information Criterion)**  \n",
    "  $$BIC = k \\ln(n) - 2 \\ln(L)$$  \n",
    "  onde $k$ é o número de parâmetros e $n$ é o número de observações.  \n",
    "  Interpretação: quanto **menor**, melhor.\n",
    "\n",
    "\n",
    "Essas métricas ajudam a escolher o grau polinomial que oferece o melhor equilíbrio entre **qualidade de ajuste** e **simplicidade do modelo**, mitigando o risco de **overfitting**.\n"
   ]
  },
  {
   "cell_type": "code",
   "execution_count": 121,
   "metadata": {},
   "outputs": [],
   "source": [
    "# Run regressions\n",
    "fit_1 = sm.OLS(y, X_poly1).fit()\n",
    "fit_2 = sm.OLS(y, X_poly2).fit()\n",
    "fit_3 = sm.OLS(y, X_poly3).fit()\n",
    "fit_4 = sm.OLS(y, X_poly4).fit()\n",
    "fit_5 = sm.OLS(y, X_poly5).fit()"
   ]
  },
  {
   "cell_type": "markdown",
   "metadata": {},
   "source": [
    "Rotina para calcular as métricas de ajuste:"
   ]
  },
  {
   "cell_type": "code",
   "execution_count": 122,
   "metadata": {},
   "outputs": [],
   "source": [
    "from sklearn.metrics import mean_absolute_error, mean_squared_error, r2_score\n",
    "import numpy as np\n",
    "\n",
    "def print_metrics(y_true, y_pred, X, fit, label):\n",
    "    n = len(y_true)\n",
    "    k = X.shape[1] - 1  # subtrai 1 para ignorar o intercepto\n",
    "    mae = mean_absolute_error(y_true, y_pred)\n",
    "    mse = mean_squared_error(y_true, y_pred)\n",
    "    rmse = np.sqrt(mse)\n",
    "    r2 = r2_score(y_true, y_pred)\n",
    "    r2_adj = 1 - (1 - r2) * (n - 1) / (n - k - 1)\n",
    "    mape = np.mean(np.abs((y_true - y_pred) / np.where(y_true == 0, 1e-10, y_true)))\n",
    "\n",
    "    # AIC e BIC vindos do statsmodels\n",
    "    aic = fit.aic\n",
    "    bic = fit.bic\n",
    "\n",
    "    print(f'{label}')\n",
    "    print(f'  MAE        : {mae:.2f}')\n",
    "    print(f'  MSE        : {mse:.2f}')\n",
    "    print(f'  RMSE       : {rmse:.2f}')\n",
    "    print(f'  R²         : {r2:.4f}')\n",
    "    print(f'  R² ajustado: {r2_adj:.4f}')\n",
    "    print(f'  MAPE       : {mape:.4f}')\n",
    "    print(f'  AIC        : {aic:.2f}')\n",
    "    print(f'  BIC        : {bic:.2f}')\n",
    "    print()"
   ]
  },
  {
   "cell_type": "code",
   "execution_count": 123,
   "metadata": {},
   "outputs": [
    {
     "name": "stdout",
     "output_type": "stream",
     "text": [
      "Grau 1\n",
      "  MAE        : 28.77\n",
      "  MSE        : 1674.07\n",
      "  RMSE       : 40.92\n",
      "  R²         : 0.0383\n",
      "  R² ajustado: 0.0380\n",
      "  MAPE       : 0.2918\n",
      "  AIC        : 30786.67\n",
      "  BIC        : 30798.69\n",
      "\n",
      "Grau 2\n",
      "  MAE        : 27.77\n",
      "  MSE        : 1597.81\n",
      "  RMSE       : 39.97\n",
      "  R²         : 0.0821\n",
      "  R² ajustado: 0.0815\n",
      "  MAPE       : 0.2788\n",
      "  AIC        : 30648.80\n",
      "  BIC        : 30666.82\n",
      "\n",
      "Grau 3\n",
      "  MAE        : 27.73\n",
      "  MSE        : 1592.56\n",
      "  RMSE       : 39.91\n",
      "  R²         : 0.0851\n",
      "  R² ajustado: 0.0842\n",
      "  MAPE       : 0.2781\n",
      "  AIC        : 30640.92\n",
      "  BIC        : 30664.95\n",
      "\n",
      "Grau 4\n",
      "  MAE        : 27.70\n",
      "  MSE        : 1590.53\n",
      "  RMSE       : 39.88\n",
      "  R²         : 0.0863\n",
      "  R² ajustado: 0.0850\n",
      "  MAPE       : 0.2779\n",
      "  AIC        : 30639.11\n",
      "  BIC        : 30669.14\n",
      "\n",
      "Grau 5\n",
      "  MAE        : 27.71\n",
      "  MSE        : 1590.11\n",
      "  RMSE       : 39.88\n",
      "  R²         : 0.0865\n",
      "  R² ajustado: 0.0850\n",
      "  MAPE       : 0.2780\n",
      "  AIC        : 30640.30\n",
      "  BIC        : 30676.34\n",
      "\n"
     ]
    }
   ],
   "source": [
    "# Organizar os resultados e matrizes\n",
    "fits = [fit_1, fit_2, fit_3, fit_4, fit_5]\n",
    "X_polys = [X_poly1, X_poly2, X_poly3, X_poly4, X_poly5]\n",
    "\n",
    "# Imprimir as métricas\n",
    "for i, (fit, X_poly) in enumerate(zip(fits, X_polys), 1):\n",
    "    print_metrics(y, fit.fittedvalues, X_poly, fit, f'Grau {i}')\n"
   ]
  },
  {
   "cell_type": "markdown",
   "metadata": {},
   "source": [
    "Melhorias Marginais: Conforme o grau aumenta de 1 para 5:\n",
    "* As métricas de erro (MAE, MSE, RMSE, MAPE) melhoram levemente.\n",
    "* R² e R² ajustado também aumentam, indicando melhor explicação da variabilidade.\n",
    "* Mas os ganhos são cada vez menores, sugerindo retorno decrescente ao aumentar a complexidade.\n",
    "\n",
    "AIC e BIC:\n",
    "* O AIC atinge o menor valor no grau 4.\n",
    "* O BIC, mais penalizador, também é menor no grau 4.\n",
    "\n",
    "Embora modelos mais complexos consigam representar melhor a amostra, eles nem sempre generalizam melhor. AIC e BIC nos ajudam a identificar quando o ganho de explicação começa a ser superado pelo risco de overfitting. Neste caso, grau 4 representa o melhor equilíbrio entre ajuste e simplicidade.\n",
    "\n",
    "\n",
    "Isso indica que grau 4 parece ser o ponto ótimo, balanceando ajuste e complexidade."
   ]
  },
  {
   "cell_type": "code",
   "execution_count": 124,
   "metadata": {},
   "outputs": [],
   "source": [
    "# Set polynomial X to 4th degree\n",
    "X_poly = X_poly4"
   ]
  },
  {
   "cell_type": "markdown",
   "metadata": {},
   "source": [
    "### 2.1.1. Regressões da Família Binomial\n",
    "\n",
    "Uma regressão da **família binomial** é um tipo de modelo estatístico pertencente à classe dos **Modelos Lineares Generalizados (GLMs)**, adequado quando a ***variável dependente é binária*** (ou seja, assume dois valores, como 0 e 1). O nome \"binomial\" se refere ao fato de que a variável resposta segue uma **distribuição binomial condicionalmente às covariáveis**.\n",
    "\n",
    "\n",
    "***Características Gerais***\n",
    "\n",
    "- **Distribuição da família exponencial**: Binomial  \n",
    "- **Variável resposta**:\n",
    "  - Binária (ex: sucesso/fracasso, 1/0)\n",
    "  - Ou proporção (ex: número de sucessos em $n$ tentativas)\n",
    "- **Função de ligação** (*link function*): diversas, como `logit`, `probit`, `cloglog`, `identity`, etc.\n",
    "- **Objetivo**: modelar a probabilidade de sucesso $ \\Pr(Y = 1 \\mid X) $ como uma função das covariáveis $X$\n",
    "\n",
    "\n",
    "***Forma Geral do Modelo***\n",
    "\n",
    "Ao contrário da regressão linear clássica, os GLMs utilizam uma função de ligação $ g(\\cdot) $ para conectar a média da variável resposta ao preditor linear:\n",
    "\n",
    "$$\n",
    "g\\left( \\mathbb{E}[Y_i \\mid X_i] \\right) = \\beta_0 + \\beta_1 x_{i} + \\beta_2 x_{i}^2 + \\ldots + \\beta_k x_{i}^k\n",
    "$$\n",
    "\n",
    "No caso da regressão logística (link `logit`), essa função de ligação é a **Probabilidade Logística**.\n",
    "\n",
    "\n",
    "### 2.1.2. Funções de Ligação para a Família Binomial\n",
    "\n",
    "A escolha da função de ligação determina como a regressão transforma a média condicional para ser modelada como uma combinação linear dos regressores. Algumas funções de ligação comuns para a família binomial são:\n"
   ]
  },
  {
   "cell_type": "code",
   "execution_count": 125,
   "metadata": {},
   "outputs": [
    {
     "data": {
      "text/plain": [
       "[statsmodels.genmod.families.links.Logit,\n",
       " statsmodels.genmod.families.links.probit,\n",
       " statsmodels.genmod.families.links.cauchy,\n",
       " statsmodels.genmod.families.links.Log,\n",
       " statsmodels.genmod.families.links.CLogLog,\n",
       " statsmodels.genmod.families.links.LogLog,\n",
       " statsmodels.genmod.families.links.identity]"
      ]
     },
     "execution_count": 125,
     "metadata": {},
     "output_type": "execute_result"
    }
   ],
   "source": [
    "# List link functions for the Binomial family\n",
    "sm.families.family.Binomial.links"
   ]
  },
  {
   "cell_type": "markdown",
   "metadata": {},
   "source": [
    "### 2.1.3. Regressão Logística (link logit)\n",
    "\n",
    "A função `logit` assume que o termo de erro segue uma distribuição Valor Extremo Tipo I (ou Gumbel). Nesse caso, a probabilidade condicional de sucesso é modelada por:\n",
    "\n",
    "$$\n",
    "\n",
    "Pr(Y=1 \\mid X) = \\frac{1}{1 + e^{-(\\beta_0 + \\beta_1 x_{i} + \\beta_2 x_{i}^2 + \\ldots + \\beta_k x_{i}^k)}} = \\frac{e^{(\\beta_0 + \\beta_1 x_{i} + \\beta_2 x_{i}^2 + \\ldots + \\beta_k x_{i}^k)}}{1 + e^{(\\beta_0 + \\beta_1 x_{i} + \\beta_2 x_{i}^2 + \\ldots + \\beta_k x_{i}^k)}}\n",
    "\n",
    "$$\n"
   ]
  },
  {
   "cell_type": "markdown",
   "metadata": {},
   "source": [
    "Se ao invés disso assumíssemos que os erros seguem uma distribuição normal padrão, obteríamos a regressão probit."
   ]
  },
  {
   "cell_type": "code",
   "execution_count": 126,
   "metadata": {},
   "outputs": [
    {
     "name": "stdout",
     "output_type": "stream",
     "text": [
      "                 Generalized Linear Model Regression Results                  \n",
      "==============================================================================\n",
      "Dep. Variable:                    y01   No. Observations:                 3000\n",
      "Model:                            GLM   Df Residuals:                     2995\n",
      "Model Family:                Binomial   Df Model:                            4\n",
      "Link Function:                  logit   Scale:                          1.0000\n",
      "Method:                          IRLS   Log-Likelihood:                -350.61\n",
      "Date:                qua, 14 mai 2025   Deviance:                       701.22\n",
      "Time:                        17:09:16   Pearson chi2:                 3.70e+03\n",
      "No. Iterations:                    10   Pseudo R-squ. (CS):           0.009724\n",
      "Covariance Type:            nonrobust                                         \n",
      "==============================================================================\n",
      "                 coef    std err          z      P>|z|      [0.025      0.975]\n",
      "------------------------------------------------------------------------------\n",
      "const       -109.5530     47.655     -2.299      0.022    -202.956     -16.150\n",
      "x1             8.9950      4.187      2.148      0.032       0.789      17.201\n",
      "x2            -0.2816      0.135     -2.081      0.037      -0.547      -0.016\n",
      "x3             0.0039      0.002      2.022      0.043       0.000       0.008\n",
      "x4         -1.949e-05   9.91e-06     -1.966      0.049   -3.89e-05   -6.41e-08\n",
      "==============================================================================\n"
     ]
    }
   ],
   "source": [
    "# Configurar o link logit para GLM com família binomial\n",
    "logit_link = sm.families.Binomial(sm.genmod.families.links.logit())\n",
    "\n",
    "# Estimar o modelo (ex: y01 como binária, X_poly como polinômios de age)\n",
    "logit_poly = sm.GLM(y01, X_poly, family=logit_link).fit()\n",
    "\n",
    "# Exibir os coeficientes\n",
    "print(logit_poly.summary())"
   ]
  },
  {
   "cell_type": "markdown",
   "metadata": {},
   "source": [
    "Ou seja:\n",
    "* $const = -109.5530$\n",
    "* $x1    =   8.9950$\n",
    "* $x2    =  -0.2816$\n",
    "* $x3    =   0.0039$\n",
    "* $x4    =  -1.949e-05$\n",
    "\n",
    "logo, a equação da regressão logística seria:\n",
    "$$\n",
    "Pr(Y=1 \\mid X) = \\frac{e^{-109.5530 + 8.9950 x_{i} - 0.2816 x_{i}^2 + 0.0039 x_{i}^3 - 1.949e-05 x_{i}^4}}{1 + e^{-109.5530 + 8.9950 x_{i} - 0.2816 x_{i}^2 + 0.0039 x_{i}^3 - 1.949e-05 x_{i}^4}}\n",
    "$$\n",
    "\n",
    "\n",
    "depois plotaremos. Lembre que a relação não é linear, e sim logit."
   ]
  },
  {
   "cell_type": "markdown",
   "metadata": {},
   "source": [
    "***Comparação de Modelos Lineares***\n",
    "\n",
    "Qual é a diferença com o modelo linear?"
   ]
  },
  {
   "cell_type": "code",
   "execution_count": 127,
   "metadata": {},
   "outputs": [
    {
     "name": "stdout",
     "output_type": "stream",
     "text": [
      "                            OLS Regression Results                            \n",
      "==============================================================================\n",
      "Dep. Variable:                    y01   R-squared:                       0.006\n",
      "Model:                            OLS   Adj. R-squared:                  0.004\n",
      "Method:                 Least Squares   F-statistic:                     4.158\n",
      "Date:                qua, 14 mai 2025   Prob (F-statistic):            0.00232\n",
      "Time:                        17:09:25   Log-Likelihood:                 1246.9\n",
      "No. Observations:                3000   AIC:                            -2484.\n",
      "Df Residuals:                    2995   BIC:                            -2454.\n",
      "Df Model:                           4                                         \n",
      "Covariance Type:            nonrobust                                         \n",
      "==============================================================================\n",
      "                 coef    std err          t      P>|t|      [0.025      0.975]\n",
      "------------------------------------------------------------------------------\n",
      "const         -0.1126      0.240     -0.468      0.640      -0.584       0.359\n",
      "x1             0.0086      0.024      0.363      0.717      -0.038       0.055\n",
      "x2            -0.0002      0.001     -0.270      0.787      -0.002       0.001\n",
      "x3          3.194e-06   1.23e-05      0.260      0.795   -2.09e-05    2.73e-05\n",
      "x4         -1.939e-08   6.57e-08     -0.295      0.768   -1.48e-07    1.09e-07\n",
      "==============================================================================\n",
      "Omnibus:                     3292.674   Durbin-Watson:                   1.976\n",
      "Prob(Omnibus):                  0.000   Jarque-Bera (JB):           150172.815\n",
      "Skew:                           5.866   Prob(JB):                         0.00\n",
      "Kurtosis:                      35.615   Cond. No.                     5.67e+08\n",
      "==============================================================================\n",
      "\n",
      "Notes:\n",
      "[1] Standard Errors assume that the covariance matrix of the errors is correctly specified.\n",
      "[2] The condition number is large, 5.67e+08. This might indicate that there are\n",
      "strong multicollinearity or other numerical problems.\n"
     ]
    }
   ],
   "source": [
    "# Run OLS regression with binary outcome\n",
    "ols_poly = sm.OLS(y01, X_poly).fit()\n",
    "print(ols_poly.summary())"
   ]
  },
  {
   "cell_type": "markdown",
   "metadata": {},
   "source": [
    "A magnitude dos coeficientes é diferente, mas os sinais são os mesmos."
   ]
  },
  {
   "cell_type": "markdown",
   "metadata": {},
   "source": [
    "***Dados de plotagem e previsões***\n",
    "\n",
    "Vamos traçar as curvas estimadas em relação à distribuição de dados."
   ]
  },
  {
   "cell_type": "code",
   "execution_count": 128,
   "metadata": {},
   "outputs": [],
   "source": [
    "# Generate predictions\n",
    "x_grid = np.arange(df.age.min(), df.age.max()).reshape(-1,1)\n",
    "X_poly_test = PolynomialFeatures(4).fit_transform(x_grid)\n",
    "y_hat1 = sm.OLS(y, X_poly).fit().predict(X_poly_test)\n",
    "y01_hat1 = logit_poly.predict(X_poly_test)"
   ]
  },
  {
   "cell_type": "code",
   "execution_count": 129,
   "metadata": {},
   "outputs": [],
   "source": [
    "# Ploimport matplotlib.pyplot as plt\n",
    "\n",
    "def plot_predictions(X, y, x_grid, y_hat1, y01_hat1, title=''):\n",
    "    fig, ax = plt.subplots(1, 2, figsize=(14, 5))\n",
    "\n",
    "    # OLS plot\n",
    "    ax[0].scatter(X, y, color='w', edgecolor='k', alpha=0.3)\n",
    "    ax[0].plot(x_grid, y_hat1, color='blue', label='OLS Prediction')\n",
    "    ax[0].set_title(title + ' - OLS')\n",
    "    ax[0].set_xlabel('Age')\n",
    "    ax[0].set_ylabel('Wage')\n",
    "    ax[0].legend()\n",
    "\n",
    "    # Logistic plot\n",
    "    ax[1].scatter(X, (y > 250).astype(int), color='w', edgecolor='k', alpha=0.3)\n",
    "    ax[1].plot(x_grid, y01_hat1, color='red', label='Logistic Prediction')\n",
    "    ax[1].set_title(title + ' - Logistic')\n",
    "    ax[1].set_xlabel('Age')\n",
    "    ax[1].set_ylabel('Pr(Wage > 250)')\n",
    "    ax[1].set_ylim(0, 0.2)  # <== ajuste da escala do eixo y\n",
    "    ax[1].legend()\n",
    "\n",
    "    plt.tight_layout()\n",
    "    plt.show()"
   ]
  },
  {
   "cell_type": "code",
   "execution_count": 130,
   "metadata": {},
   "outputs": [
    {
     "data": {
      "image/png": "[encoded data removed]",
      "text/plain": [
       "<Figure size 1400x500 with 2 Axes>"
      ]
     },
     "metadata": {},
     "output_type": "display_data"
    }
   ],
   "source": [
    "plot_predictions(X, y, x_grid, y_hat1, y01_hat1, 'Figure 7.1: Degree-4 Polynomial')"
   ]
  },
  {
   "cell_type": "markdown",
   "metadata": {},
   "source": [
    "O **uso de funções polinomiais** das variáveis preditoras ***em um modelo linear impõe uma estrutura global à relação não linear*** entre $age$ e a variável resposta $wage$. Isso significa que **uma pequena mudança em uma parte do domínio pode afetar a forma da função em todo o intervalo**.\n",
    "\n",
    "Como alternativa, podemos utilizar ***funções degrau (Step Functions)***, que evitam a imposição dessa estrutura global.\n",
    "\n",
    "Por exemplo, podemos dividir o intervalo de age em faixas (ou \"caixas\") e estimar uma constante diferente para cada faixa. Isso nos permite capturar mudanças abruptas ou relações locais sem impor suavidade ou continuidade entre os intervalos."
   ]
  },
  {
   "cell_type": "markdown",
   "metadata": {},
   "source": [
    "### 2.2. Funções Degrau (*Step Functions*)\n",
    "\n",
    "Construir uma função degrau significa, primeiro, escolher $ K $ pontos de corte $ c_1, c_2, \\ldots, c_K $ no intervalo da variável $ \\text{age} $, e então definir $ K + 1 $ variáveis indicadoras da seguinte forma:\n",
    "\n",
    "$$\n",
    "\\begin{aligned}\n",
    "C_0(\\text{age}) &= \\mathbb{I}(\\text{age} < c_1) \\\\\n",
    "C_1(\\text{age}) &= \\mathbb{I}(c_1 \\leq \\text{age} < c_2) \\\\\n",
    "C_2(\\text{age}) &= \\mathbb{I}(c_2 \\leq \\text{age} < c_3) \\\\\n",
    "&\\vdots \\\\\n",
    "C_{K-1}(\\text{age}) &= \\mathbb{I}(c_{K-1} \\leq \\text{age} < c_K) \\\\\n",
    "C_K(\\text{age}) &= \\mathbb{I}(\\text{age} \\geq c_K)\n",
    "\\end{aligned}\n",
    "$$\n",
    "\n",
    "onde $ \\mathbb{I}(\\cdot) $ é a **função indicadora**, que assume valor 1 se a condição lógica for verdadeira, e 0 caso contrário.\n",
    "\n",
    "Dessa forma, a função de regressão resultante estima **uma constante separada para cada faixa etária definida pelos cortes**, permitindo capturar variações locais sem impor continuidade ou suavidade entre os intervalos.\n"
   ]
  },
  {
   "cell_type": "code",
   "execution_count": 131,
   "metadata": {},
   "outputs": [],
   "source": [
    "import pandas as pd\n",
    "import statsmodels.api as sm\n",
    "\n",
    "# 1. Criar a variável categórica com os cortes de age em 4 faixas\n",
    "df[\"age_cut\"] = pd.cut(df[\"age\"], bins=4)"
   ]
  },
  {
   "cell_type": "code",
   "execution_count": 132,
   "metadata": {},
   "outputs": [],
   "source": [
    "# 2. Criar dummies e garantir que são inteiros\n",
    "dummies = pd.get_dummies(df[\"age_cut\"], prefix=\"age_bin\", drop_first=False).astype(int)\n",
    "# 3. Juntar ao df\n",
    "df = df.join(dummies)"
   ]
  },
  {
   "cell_type": "code",
   "execution_count": 133,
   "metadata": {},
   "outputs": [
    {
     "data": {
      "application/vnd.microsoft.datawrangler.viewer.v0+json": {
       "columns": [
        {
         "name": "index",
         "rawType": "int64",
         "type": "integer"
        },
        {
         "name": "year",
         "rawType": "int64",
         "type": "integer"
        },
        {
         "name": "age",
         "rawType": "int64",
         "type": "integer"
        },
        {
         "name": "maritl",
         "rawType": "object",
         "type": "string"
        },
        {
         "name": "race",
         "rawType": "object",
         "type": "string"
        },
        {
         "name": "education",
         "rawType": "object",
         "type": "string"
        },
        {
         "name": "region",
         "rawType": "object",
         "type": "string"
        },
        {
         "name": "jobclass",
         "rawType": "object",
         "type": "string"
        },
        {
         "name": "health",
         "rawType": "object",
         "type": "string"
        },
        {
         "name": "health_ins",
         "rawType": "object",
         "type": "string"
        },
        {
         "name": "logwage",
         "rawType": "float64",
         "type": "float"
        },
        {
         "name": "wage",
         "rawType": "float64",
         "type": "float"
        },
        {
         "name": "y01",
         "rawType": "int64",
         "type": "integer"
        },
        {
         "name": "age_cut",
         "rawType": "category",
         "type": "unknown"
        },
        {
         "name": "age_bin_(17.938, 33.5]",
         "rawType": "int32",
         "type": "integer"
        },
        {
         "name": "age_bin_(33.5, 49.0]",
         "rawType": "int32",
         "type": "integer"
        },
        {
         "name": "age_bin_(49.0, 64.5]",
         "rawType": "int32",
         "type": "integer"
        },
        {
         "name": "age_bin_(64.5, 80.0]",
         "rawType": "int32",
         "type": "integer"
        }
       ],
       "conversionMethod": "pd.DataFrame",
       "ref": "b87938ce-7096-4354-b405-fdff2f73a854",
       "rows": [
        [
         "231655",
         "2006",
         "18",
         "1. Never Married",
         "1. White",
         "1. < HS Grad",
         "2. Middle Atlantic",
         "1. Industrial",
         "1. <=Good",
         "2. No",
         "4.31806333496276",
         "75.0431540173515",
         "0",
         "(17.938, 33.5]",
         "1",
         "0",
         "0",
         "0"
        ],
        [
         "86582",
         "2004",
         "24",
         "1. Never Married",
         "1. White",
         "4. College Grad",
         "2. Middle Atlantic",
         "2. Information",
         "2. >=Very Good",
         "2. No",
         "4.25527250510331",
         "70.4760196469445",
         "0",
         "(17.938, 33.5]",
         "1",
         "0",
         "0",
         "0"
        ],
        [
         "161300",
         "2003",
         "45",
         "2. Married",
         "1. White",
         "3. Some College",
         "2. Middle Atlantic",
         "1. Industrial",
         "1. <=Good",
         "1. Yes",
         "4.8750612633917",
         "130.982177377461",
         "0",
         "(33.5, 49.0]",
         "0",
         "1",
         "0",
         "0"
        ],
        [
         "155159",
         "2003",
         "43",
         "2. Married",
         "3. Asian",
         "4. College Grad",
         "2. Middle Atlantic",
         "2. Information",
         "2. >=Very Good",
         "1. Yes",
         "5.04139268515823",
         "154.68529299563",
         "0",
         "(33.5, 49.0]",
         "0",
         "1",
         "0",
         "0"
        ],
        [
         "11443",
         "2005",
         "50",
         "4. Divorced",
         "1. White",
         "2. HS Grad",
         "2. Middle Atlantic",
         "2. Information",
         "1. <=Good",
         "1. Yes",
         "4.31806333496276",
         "75.0431540173515",
         "0",
         "(49.0, 64.5]",
         "0",
         "0",
         "1",
         "0"
        ]
       ],
       "shape": {
        "columns": 17,
        "rows": 5
       }
      },
      "text/html": [
       "<div>\n",
       "<style scoped>\n",
       "    .dataframe tbody tr th:only-of-type {\n",
       "        vertical-align: middle;\n",
       "    }\n",
       "\n",
       "    .dataframe tbody tr th {\n",
       "        vertical-align: top;\n",
       "    }\n",
       "\n",
       "    .dataframe thead th {\n",
       "        text-align: right;\n",
       "    }\n",
       "</style>\n",
       "<table border=\"1\" class=\"dataframe\">\n",
       "  <thead>\n",
       "    <tr style=\"text-align: right;\">\n",
       "      <th></th>\n",
       "      <th>year</th>\n",
       "      <th>age</th>\n",
       "      <th>maritl</th>\n",
       "      <th>race</th>\n",
       "      <th>education</th>\n",
       "      <th>region</th>\n",
       "      <th>jobclass</th>\n",
       "      <th>health</th>\n",
       "      <th>health_ins</th>\n",
       "      <th>logwage</th>\n",
       "      <th>wage</th>\n",
       "      <th>y01</th>\n",
       "      <th>age_cut</th>\n",
       "      <th>age_bin_(17.938, 33.5]</th>\n",
       "      <th>age_bin_(33.5, 49.0]</th>\n",
       "      <th>age_bin_(49.0, 64.5]</th>\n",
       "      <th>age_bin_(64.5, 80.0]</th>\n",
       "    </tr>\n",
       "  </thead>\n",
       "  <tbody>\n",
       "    <tr>\n",
       "      <th>231655</th>\n",
       "      <td>2006</td>\n",
       "      <td>18</td>\n",
       "      <td>1. Never Married</td>\n",
       "      <td>1. White</td>\n",
       "      <td>1. &lt; HS Grad</td>\n",
       "      <td>2. Middle Atlantic</td>\n",
       "      <td>1. Industrial</td>\n",
       "      <td>1. &lt;=Good</td>\n",
       "      <td>2. No</td>\n",
       "      <td>4.318063</td>\n",
       "      <td>75.043154</td>\n",
       "      <td>0</td>\n",
       "      <td>(17.938, 33.5]</td>\n",
       "      <td>1</td>\n",
       "      <td>0</td>\n",
       "      <td>0</td>\n",
       "      <td>0</td>\n",
       "    </tr>\n",
       "    <tr>\n",
       "      <th>86582</th>\n",
       "      <td>2004</td>\n",
       "      <td>24</td>\n",
       "      <td>1. Never Married</td>\n",
       "      <td>1. White</td>\n",
       "      <td>4. College Grad</td>\n",
       "      <td>2. Middle Atlantic</td>\n",
       "      <td>2. Information</td>\n",
       "      <td>2. &gt;=Very Good</td>\n",
       "      <td>2. No</td>\n",
       "      <td>4.255273</td>\n",
       "      <td>70.476020</td>\n",
       "      <td>0</td>\n",
       "      <td>(17.938, 33.5]</td>\n",
       "      <td>1</td>\n",
       "      <td>0</td>\n",
       "      <td>0</td>\n",
       "      <td>0</td>\n",
       "    </tr>\n",
       "    <tr>\n",
       "      <th>161300</th>\n",
       "      <td>2003</td>\n",
       "      <td>45</td>\n",
       "      <td>2. Married</td>\n",
       "      <td>1. White</td>\n",
       "      <td>3. Some College</td>\n",
       "      <td>2. Middle Atlantic</td>\n",
       "      <td>1. Industrial</td>\n",
       "      <td>1. &lt;=Good</td>\n",
       "      <td>1. Yes</td>\n",
       "      <td>4.875061</td>\n",
       "      <td>130.982177</td>\n",
       "      <td>0</td>\n",
       "      <td>(33.5, 49.0]</td>\n",
       "      <td>0</td>\n",
       "      <td>1</td>\n",
       "      <td>0</td>\n",
       "      <td>0</td>\n",
       "    </tr>\n",
       "    <tr>\n",
       "      <th>155159</th>\n",
       "      <td>2003</td>\n",
       "      <td>43</td>\n",
       "      <td>2. Married</td>\n",
       "      <td>3. Asian</td>\n",
       "      <td>4. College Grad</td>\n",
       "      <td>2. Middle Atlantic</td>\n",
       "      <td>2. Information</td>\n",
       "      <td>2. &gt;=Very Good</td>\n",
       "      <td>1. Yes</td>\n",
       "      <td>5.041393</td>\n",
       "      <td>154.685293</td>\n",
       "      <td>0</td>\n",
       "      <td>(33.5, 49.0]</td>\n",
       "      <td>0</td>\n",
       "      <td>1</td>\n",
       "      <td>0</td>\n",
       "      <td>0</td>\n",
       "    </tr>\n",
       "    <tr>\n",
       "      <th>11443</th>\n",
       "      <td>2005</td>\n",
       "      <td>50</td>\n",
       "      <td>4. Divorced</td>\n",
       "      <td>1. White</td>\n",
       "      <td>2. HS Grad</td>\n",
       "      <td>2. Middle Atlantic</td>\n",
       "      <td>2. Information</td>\n",
       "      <td>1. &lt;=Good</td>\n",
       "      <td>1. Yes</td>\n",
       "      <td>4.318063</td>\n",
       "      <td>75.043154</td>\n",
       "      <td>0</td>\n",
       "      <td>(49.0, 64.5]</td>\n",
       "      <td>0</td>\n",
       "      <td>0</td>\n",
       "      <td>1</td>\n",
       "      <td>0</td>\n",
       "    </tr>\n",
       "  </tbody>\n",
       "</table>\n",
       "</div>"
      ],
      "text/plain": [
       "        year  age            maritl      race        education  \\\n",
       "231655  2006   18  1. Never Married  1. White     1. < HS Grad   \n",
       "86582   2004   24  1. Never Married  1. White  4. College Grad   \n",
       "161300  2003   45        2. Married  1. White  3. Some College   \n",
       "155159  2003   43        2. Married  3. Asian  4. College Grad   \n",
       "11443   2005   50       4. Divorced  1. White       2. HS Grad   \n",
       "\n",
       "                    region        jobclass          health health_ins  \\\n",
       "231655  2. Middle Atlantic   1. Industrial       1. <=Good      2. No   \n",
       "86582   2. Middle Atlantic  2. Information  2. >=Very Good      2. No   \n",
       "161300  2. Middle Atlantic   1. Industrial       1. <=Good     1. Yes   \n",
       "155159  2. Middle Atlantic  2. Information  2. >=Very Good     1. Yes   \n",
       "11443   2. Middle Atlantic  2. Information       1. <=Good     1. Yes   \n",
       "\n",
       "         logwage        wage  y01         age_cut  age_bin_(17.938, 33.5]  \\\n",
       "231655  4.318063   75.043154    0  (17.938, 33.5]                       1   \n",
       "86582   4.255273   70.476020    0  (17.938, 33.5]                       1   \n",
       "161300  4.875061  130.982177    0    (33.5, 49.0]                       0   \n",
       "155159  5.041393  154.685293    0    (33.5, 49.0]                       0   \n",
       "11443   4.318063   75.043154    0    (49.0, 64.5]                       0   \n",
       "\n",
       "        age_bin_(33.5, 49.0]  age_bin_(49.0, 64.5]  age_bin_(64.5, 80.0]  \n",
       "231655                     0                     0                     0  \n",
       "86582                      0                     0                     0  \n",
       "161300                     1                     0                     0  \n",
       "155159                     1                     0                     0  \n",
       "11443                      0                     1                     0  "
      ]
     },
     "execution_count": 133,
     "metadata": {},
     "output_type": "execute_result"
    }
   ],
   "source": [
    "df.head()"
   ]
  },
  {
   "cell_type": "markdown",
   "metadata": {},
   "source": [
    "***Regressão Stepwise***"
   ]
  },
  {
   "cell_type": "code",
   "execution_count": 134,
   "metadata": {},
   "outputs": [
    {
     "name": "stdout",
     "output_type": "stream",
     "text": [
      "                            OLS Regression Results                            \n",
      "==============================================================================\n",
      "Dep. Variable:                   wage   R-squared:                       0.062\n",
      "Model:                            OLS   Adj. R-squared:                  0.062\n",
      "Method:                 Least Squares   F-statistic:                     66.58\n",
      "Date:                qua, 14 mai 2025   Prob (F-statistic):           1.13e-41\n",
      "Time:                        17:10:19   Log-Likelihood:                -15353.\n",
      "No. Observations:                3000   AIC:                         3.071e+04\n",
      "Df Residuals:                    2996   BIC:                         3.074e+04\n",
      "Df Model:                           3                                         \n",
      "Covariance Type:            nonrobust                                         \n",
      "==========================================================================================\n",
      "                             coef    std err          t      P>|t|      [0.025      0.975]\n",
      "------------------------------------------------------------------------------------------\n",
      "age_bin_(17.938, 33.5]    94.1584      1.476     63.790      0.000      91.264      97.053\n",
      "age_bin_(33.5, 49.0]     118.2119      1.081    109.379      0.000     116.093     120.331\n",
      "age_bin_(49.0, 64.5]     117.8230      1.448     81.351      0.000     114.983     120.663\n",
      "age_bin_(64.5, 80.0]     101.7990      4.764     21.368      0.000      92.458     111.140\n",
      "==============================================================================\n",
      "Omnibus:                     1062.354   Durbin-Watson:                   1.965\n",
      "Prob(Omnibus):                  0.000   Jarque-Bera (JB):             4551.200\n",
      "Skew:                           1.681   Prob(JB):                         0.00\n",
      "Kurtosis:                       8.011   Cond. No.                         4.41\n",
      "==============================================================================\n",
      "\n",
      "Notes:\n",
      "[1] Standard Errors assume that the covariance matrix of the errors is correctly specified.\n"
     ]
    },
    {
     "name": "stderr",
     "output_type": "stream",
     "text": [
      "c:\\Users\\danie\\AppData\\Local\\Programs\\Python\\Python311\\Lib\\site-packages\\statsmodels\\base\\model.py:127: ValueWarning: unknown kwargs ['data']\n",
      "  warnings.warn(msg, ValueWarning)\n"
     ]
    }
   ],
   "source": [
    "# 4. Definir X com constante\n",
    "X = df[dummies.columns]\n",
    "# 5. Definir y\n",
    "y = df[\"wage\"]\n",
    "\n",
    "# 6. Rodar regressão\n",
    "model_step = sm.OLS(y, X, data=df).fit()\n",
    "print(model_step.summary())"
   ]
  },
  {
   "cell_type": "markdown",
   "metadata": {},
   "source": [
    "A partir do resultado da regressão, podemos ver que os coeficientes de bin são significativos.\n",
    "\n",
    "\n",
    "| Faixa Etária\t| Coeficiente\t| Interpretação\n",
    "|--------------|----------------|----------------|\n",
    "| (17.9, 33.5]\t| 94.16\t| Salário médio estimado para essa faixa: R$ 94,16\n",
    "| (33.5, 49.0]\t| 118.21\t| Salário médio estimado para essa faixa: R$ 118,21\n",
    "| (49.0, 64.5]\t| 117.82\t| Salário médio estimado para essa faixa: R$ 117,82\n",
    "| (64.5, 80.0]\t| 101.80\t| Salário médio estimado para essa faixa: R$ 101,80\n",
    "\n"
   ]
  },
  {
   "cell_type": "code",
   "execution_count": null,
   "metadata": {},
   "outputs": [],
   "source": [
    "# 1. Criar a grade de valores para idade\n",
    "x_grid = np.linspace(df[\"age\"].min(), df[\"age\"].max(), 100)\n",
    "\n",
    "# 2. Colocar os valores da grade nos mesmos bins da regressão\n",
    "age_cut_grid = pd.cut(x_grid, bins=df[\"age_cut\"].cat.categories)\n",
    "\n",
    "# 3. Criar dummies com os mesmos nomes das colunas do modelo (sem drop_first!)\n",
    "X_step_test = pd.get_dummies(age_cut_grid, prefix=\"age_bin\")\n",
    "\n",
    "# 4. Garantir que todas as colunas do modelo estejam presentes\n",
    "for col in model_step.model.exog_names:  # usa colunas reais do modelo\n",
    "    if col not in X_step_test.columns:\n",
    "        X_step_test[col] = 0\n",
    "\n",
    "# 5. Ordenar as colunas para bater com o modelo\n",
    "X_step_test = X_step_test[model_step.model.exog_names]  # mesma ordem\n",
    "\n",
    "# 6. Prever com o modelo (sem constante!)\n",
    "y_hat2 = model_step.predict(X_step_test)"
   ]
  },
  {
   "cell_type": "code",
   "execution_count": 68,
   "metadata": {},
   "outputs": [
    {
     "data": {
      "text/plain": [
       "array([1, 1, 1, 1, 1, 1, 1, 1, 1, 1, 1, 1, 1, 1, 1, 1, 1, 1, 1, 1, 1, 1,\n",
       "       1, 1, 1, 2, 2, 2, 2, 2, 2, 2, 2, 2, 2, 2, 2, 2, 2, 2, 2, 2, 2, 2,\n",
       "       2, 2, 2, 2, 2, 2, 3, 3, 3, 3, 3, 3, 3, 3, 3, 3, 3, 3, 3, 3, 3, 3,\n",
       "       3, 3, 3, 3, 3, 3, 3, 3, 3, 4, 4, 4, 4, 4, 4, 4, 4, 4, 4, 4, 4, 4,\n",
       "       4, 4, 4, 4, 4, 4, 4, 4, 4, 4, 4, 5], dtype=int64)"
      ]
     },
     "execution_count": 68,
     "metadata": {},
     "output_type": "execute_result"
    }
   ],
   "source": [
    "# Put the test data in the same bins as the training data.\n",
    "bin_mapping = np.digitize(x_grid.ravel(), bins)\n",
    "bin_mapping"
   ]
  },
  {
   "cell_type": "code",
   "execution_count": 72,
   "metadata": {},
   "outputs": [
    {
     "data": {
      "application/vnd.microsoft.datawrangler.viewer.v0+json": {
       "columns": [
        {
         "name": "index",
         "rawType": "int64",
         "type": "integer"
        },
        {
         "name": "const",
         "rawType": "float64",
         "type": "float"
        },
        {
         "name": "2",
         "rawType": "float64",
         "type": "float"
        },
        {
         "name": "3",
         "rawType": "float64",
         "type": "float"
        },
        {
         "name": "4",
         "rawType": "float64",
         "type": "float"
        },
        {
         "name": "5",
         "rawType": "float64",
         "type": "float"
        }
       ],
       "conversionMethod": "pd.DataFrame",
       "ref": "28901e3d-497b-4b4c-9f82-3b0368a654f1",
       "rows": [
        [
         "0",
         "1.0",
         "0.0",
         "0.0",
         "0.0",
         "0.0"
        ],
        [
         "1",
         "1.0",
         "0.0",
         "0.0",
         "0.0",
         "0.0"
        ],
        [
         "2",
         "1.0",
         "0.0",
         "0.0",
         "0.0",
         "0.0"
        ],
        [
         "3",
         "1.0",
         "0.0",
         "0.0",
         "0.0",
         "0.0"
        ],
        [
         "4",
         "1.0",
         "0.0",
         "0.0",
         "0.0",
         "0.0"
        ]
       ],
       "shape": {
        "columns": 5,
        "rows": 5
       }
      },
      "text/html": [
       "<div>\n",
       "<style scoped>\n",
       "    .dataframe tbody tr th:only-of-type {\n",
       "        vertical-align: middle;\n",
       "    }\n",
       "\n",
       "    .dataframe tbody tr th {\n",
       "        vertical-align: top;\n",
       "    }\n",
       "\n",
       "    .dataframe thead th {\n",
       "        text-align: right;\n",
       "    }\n",
       "</style>\n",
       "<table border=\"1\" class=\"dataframe\">\n",
       "  <thead>\n",
       "    <tr style=\"text-align: right;\">\n",
       "      <th></th>\n",
       "      <th>const</th>\n",
       "      <th>2</th>\n",
       "      <th>3</th>\n",
       "      <th>4</th>\n",
       "      <th>5</th>\n",
       "    </tr>\n",
       "  </thead>\n",
       "  <tbody>\n",
       "    <tr>\n",
       "      <th>0</th>\n",
       "      <td>1.0</td>\n",
       "      <td>0.0</td>\n",
       "      <td>0.0</td>\n",
       "      <td>0.0</td>\n",
       "      <td>0.0</td>\n",
       "    </tr>\n",
       "    <tr>\n",
       "      <th>1</th>\n",
       "      <td>1.0</td>\n",
       "      <td>0.0</td>\n",
       "      <td>0.0</td>\n",
       "      <td>0.0</td>\n",
       "      <td>0.0</td>\n",
       "    </tr>\n",
       "    <tr>\n",
       "      <th>2</th>\n",
       "      <td>1.0</td>\n",
       "      <td>0.0</td>\n",
       "      <td>0.0</td>\n",
       "      <td>0.0</td>\n",
       "      <td>0.0</td>\n",
       "    </tr>\n",
       "    <tr>\n",
       "      <th>3</th>\n",
       "      <td>1.0</td>\n",
       "      <td>0.0</td>\n",
       "      <td>0.0</td>\n",
       "      <td>0.0</td>\n",
       "      <td>0.0</td>\n",
       "    </tr>\n",
       "    <tr>\n",
       "      <th>4</th>\n",
       "      <td>1.0</td>\n",
       "      <td>0.0</td>\n",
       "      <td>0.0</td>\n",
       "      <td>0.0</td>\n",
       "      <td>0.0</td>\n",
       "    </tr>\n",
       "  </tbody>\n",
       "</table>\n",
       "</div>"
      ],
      "text/plain": [
       "   const    2    3    4    5\n",
       "0    1.0  0.0  0.0  0.0  0.0\n",
       "1    1.0  0.0  0.0  0.0  0.0\n",
       "2    1.0  0.0  0.0  0.0  0.0\n",
       "3    1.0  0.0  0.0  0.0  0.0\n",
       "4    1.0  0.0  0.0  0.0  0.0"
      ]
     },
     "execution_count": 72,
     "metadata": {},
     "output_type": "execute_result"
    }
   ],
   "source": [
    "# Get dummies, drop first dummy category, add constant\n",
    "X_step_test = sm.add_constant(pd.get_dummies(bin_mapping).drop(1, axis=1))\n",
    "X_step_test = X_step_test.astype(float)\n",
    "X_step_test.head()"
   ]
  },
  {
   "cell_type": "code",
   "execution_count": 73,
   "metadata": {},
   "outputs": [
    {
     "ename": "ValueError",
     "evalue": "shapes (100,5) and (4,) not aligned: 5 (dim 1) != 4 (dim 0)",
     "output_type": "error",
     "traceback": [
      "\u001b[1;31m---------------------------------------------------------------------------\u001b[0m",
      "\u001b[1;31mValueError\u001b[0m                                Traceback (most recent call last)",
      "Cell \u001b[1;32mIn[73], line 4\u001b[0m\n\u001b[0;32m      1\u001b[0m \u001b[38;5;66;03m# Step prediction\u001b[39;00m\n\u001b[0;32m      2\u001b[0m X_step \u001b[38;5;241m=\u001b[39m X_step\u001b[38;5;241m.\u001b[39mastype(\u001b[38;5;28mfloat\u001b[39m)\n\u001b[1;32m----> 4\u001b[0m y_hat2 \u001b[38;5;241m=\u001b[39m \u001b[43mmodel_step\u001b[49m\u001b[38;5;241;43m.\u001b[39;49m\u001b[43mpredict\u001b[49m\u001b[43m(\u001b[49m\u001b[43mX_step_test\u001b[49m\u001b[43m)\u001b[49m\n",
      "File \u001b[1;32mc:\\Users\\danie\\AppData\\Local\\Programs\\Python\\Python311\\Lib\\site-packages\\statsmodels\\base\\model.py:1159\u001b[0m, in \u001b[0;36mResults.predict\u001b[1;34m(self, exog, transform, *args, **kwargs)\u001b[0m\n\u001b[0;32m   1156\u001b[0m         exog \u001b[38;5;241m=\u001b[39m exog[:, \u001b[38;5;28;01mNone\u001b[39;00m]\n\u001b[0;32m   1157\u001b[0m     exog \u001b[38;5;241m=\u001b[39m np\u001b[38;5;241m.\u001b[39matleast_2d(exog)  \u001b[38;5;66;03m# needed in count model shape[1]\u001b[39;00m\n\u001b[1;32m-> 1159\u001b[0m predict_results \u001b[38;5;241m=\u001b[39m \u001b[38;5;28;43mself\u001b[39;49m\u001b[38;5;241;43m.\u001b[39;49m\u001b[43mmodel\u001b[49m\u001b[38;5;241;43m.\u001b[39;49m\u001b[43mpredict\u001b[49m\u001b[43m(\u001b[49m\u001b[38;5;28;43mself\u001b[39;49m\u001b[38;5;241;43m.\u001b[39;49m\u001b[43mparams\u001b[49m\u001b[43m,\u001b[49m\u001b[43m \u001b[49m\u001b[43mexog\u001b[49m\u001b[43m,\u001b[49m\u001b[43m \u001b[49m\u001b[38;5;241;43m*\u001b[39;49m\u001b[43margs\u001b[49m\u001b[43m,\u001b[49m\n\u001b[0;32m   1160\u001b[0m \u001b[43m                                     \u001b[49m\u001b[38;5;241;43m*\u001b[39;49m\u001b[38;5;241;43m*\u001b[39;49m\u001b[43mkwargs\u001b[49m\u001b[43m)\u001b[49m\n\u001b[0;32m   1162\u001b[0m \u001b[38;5;28;01mif\u001b[39;00m exog_index \u001b[38;5;129;01mis\u001b[39;00m \u001b[38;5;129;01mnot\u001b[39;00m \u001b[38;5;28;01mNone\u001b[39;00m \u001b[38;5;129;01mand\u001b[39;00m \u001b[38;5;129;01mnot\u001b[39;00m \u001b[38;5;28mhasattr\u001b[39m(predict_results,\n\u001b[0;32m   1163\u001b[0m                                           \u001b[38;5;124m'\u001b[39m\u001b[38;5;124mpredicted_values\u001b[39m\u001b[38;5;124m'\u001b[39m):\n\u001b[0;32m   1164\u001b[0m     \u001b[38;5;28;01mif\u001b[39;00m predict_results\u001b[38;5;241m.\u001b[39mndim \u001b[38;5;241m==\u001b[39m \u001b[38;5;241m1\u001b[39m:\n",
      "File \u001b[1;32mc:\\Users\\danie\\AppData\\Local\\Programs\\Python\\Python311\\Lib\\site-packages\\statsmodels\\regression\\linear_model.py:397\u001b[0m, in \u001b[0;36mRegressionModel.predict\u001b[1;34m(self, params, exog)\u001b[0m\n\u001b[0;32m    394\u001b[0m \u001b[38;5;28;01mif\u001b[39;00m exog \u001b[38;5;129;01mis\u001b[39;00m \u001b[38;5;28;01mNone\u001b[39;00m:\n\u001b[0;32m    395\u001b[0m     exog \u001b[38;5;241m=\u001b[39m \u001b[38;5;28mself\u001b[39m\u001b[38;5;241m.\u001b[39mexog\n\u001b[1;32m--> 397\u001b[0m \u001b[38;5;28;01mreturn\u001b[39;00m \u001b[43mnp\u001b[49m\u001b[38;5;241;43m.\u001b[39;49m\u001b[43mdot\u001b[49m\u001b[43m(\u001b[49m\u001b[43mexog\u001b[49m\u001b[43m,\u001b[49m\u001b[43m \u001b[49m\u001b[43mparams\u001b[49m\u001b[43m)\u001b[49m\n",
      "\u001b[1;31mValueError\u001b[0m: shapes (100,5) and (4,) not aligned: 5 (dim 1) != 4 (dim 0)"
     ]
    }
   ],
   "source": [
    "# Step prediction\n",
    "X_step = X_step.astype(float)\n",
    "\n",
    "y_hat2 = model_step.predict(X_step_test)"
   ]
  },
  {
   "cell_type": "markdown",
   "metadata": {},
   "source": [
    "**Regressão Logística em Etapas**\n",
    "\n",
    "Vamos executar novamente uma regressão logística, já que nosso resultado é binário.\n"
   ]
  },
  {
   "cell_type": "code",
   "execution_count": 137,
   "metadata": {},
   "outputs": [
    {
     "data": {
      "text/html": [
       "<table class=\"simpletable\">\n",
       "<tr>\n",
       "      <td></td>        <th>coef</th>     <th>std err</th>      <th>z</th>      <th>P>|z|</th>  <th>[0.025</th>    <th>0.975]</th>  \n",
       "</tr>\n",
       "<tr>\n",
       "  <th>const</th>    <td>   -5.6836</td> <td>    1.002</td> <td>   -5.674</td> <td> 0.000</td> <td>   -7.647</td> <td>   -3.720</td>\n",
       "</tr>\n",
       "<tr>\n",
       "  <th>(25, 35]</th> <td>    1.2678</td> <td>    1.063</td> <td>    1.193</td> <td> 0.233</td> <td>   -0.816</td> <td>    3.351</td>\n",
       "</tr>\n",
       "<tr>\n",
       "  <th>(35, 45]</th> <td>    2.3232</td> <td>    1.019</td> <td>    2.280</td> <td> 0.023</td> <td>    0.326</td> <td>    4.320</td>\n",
       "</tr>\n",
       "<tr>\n",
       "  <th>(45, 65]</th> <td>    2.3685</td> <td>    1.015</td> <td>    2.335</td> <td> 0.020</td> <td>    0.380</td> <td>    4.357</td>\n",
       "</tr>\n",
       "</table>"
      ],
      "text/plain": [
       "<class 'statsmodels.iolib.table.SimpleTable'>"
      ]
     },
     "execution_count": 137,
     "metadata": {},
     "output_type": "execute_result"
    }
   ],
   "source": [
    "import statsmodels.api as sm\n",
    "\n",
    "logit_step = sm.GLM(y01, X_step, family=sm.families.Binomial()).fit()\n",
    "y01_hat2 = logit_step.predict(X_step_test)\n",
    "logit_step.summary().tables[1]\n"
   ]
  },
  {
   "cell_type": "markdown",
   "metadata": {},
   "source": [
    "**Plotagem**\n",
    "\n",
    "Como é a função prevista?"
   ]
  },
  {
   "cell_type": "code",
   "execution_count": 140,
   "metadata": {},
   "outputs": [
    {
     "ename": "ValueError",
     "evalue": "x and y must be the same size",
     "output_type": "error",
     "traceback": [
      "\u001b[1;31m---------------------------------------------------------------------------\u001b[0m",
      "\u001b[1;31mValueError\u001b[0m                                Traceback (most recent call last)",
      "Cell \u001b[1;32mIn[140], line 1\u001b[0m\n\u001b[1;32m----> 1\u001b[0m \u001b[43mplot_predictions\u001b[49m\u001b[43m(\u001b[49m\u001b[43mX\u001b[49m\u001b[43m,\u001b[49m\u001b[43m \u001b[49m\u001b[43my\u001b[49m\u001b[43m,\u001b[49m\u001b[43m \u001b[49m\u001b[43mx_grid\u001b[49m\u001b[43m,\u001b[49m\u001b[43m \u001b[49m\u001b[43my_hat2\u001b[49m\u001b[43m,\u001b[49m\u001b[43m \u001b[49m\u001b[43my01_hat2\u001b[49m\u001b[43m,\u001b[49m\u001b[43m \u001b[49m\u001b[38;5;124;43m'\u001b[39;49m\u001b[38;5;124;43mFigure 7.2: Piecewise Constant\u001b[39;49m\u001b[38;5;124;43m'\u001b[39;49m\u001b[43m)\u001b[49m\n",
      "Cell \u001b[1;32mIn[129], line 7\u001b[0m, in \u001b[0;36mplot_predictions\u001b[1;34m(X, y, x_grid, y_hat1, y01_hat1, title)\u001b[0m\n\u001b[0;32m      4\u001b[0m fig, ax \u001b[38;5;241m=\u001b[39m plt\u001b[38;5;241m.\u001b[39msubplots(\u001b[38;5;241m1\u001b[39m, \u001b[38;5;241m2\u001b[39m, figsize\u001b[38;5;241m=\u001b[39m(\u001b[38;5;241m14\u001b[39m, \u001b[38;5;241m5\u001b[39m))\n\u001b[0;32m      6\u001b[0m \u001b[38;5;66;03m# OLS plot\u001b[39;00m\n\u001b[1;32m----> 7\u001b[0m \u001b[43max\u001b[49m\u001b[43m[\u001b[49m\u001b[38;5;241;43m0\u001b[39;49m\u001b[43m]\u001b[49m\u001b[38;5;241;43m.\u001b[39;49m\u001b[43mscatter\u001b[49m\u001b[43m(\u001b[49m\u001b[43mX\u001b[49m\u001b[43m,\u001b[49m\u001b[43m \u001b[49m\u001b[43my\u001b[49m\u001b[43m,\u001b[49m\u001b[43m \u001b[49m\u001b[43mcolor\u001b[49m\u001b[38;5;241;43m=\u001b[39;49m\u001b[38;5;124;43m'\u001b[39;49m\u001b[38;5;124;43mw\u001b[39;49m\u001b[38;5;124;43m'\u001b[39;49m\u001b[43m,\u001b[49m\u001b[43m \u001b[49m\u001b[43medgecolor\u001b[49m\u001b[38;5;241;43m=\u001b[39;49m\u001b[38;5;124;43m'\u001b[39;49m\u001b[38;5;124;43mk\u001b[39;49m\u001b[38;5;124;43m'\u001b[39;49m\u001b[43m,\u001b[49m\u001b[43m \u001b[49m\u001b[43malpha\u001b[49m\u001b[38;5;241;43m=\u001b[39;49m\u001b[38;5;241;43m0.3\u001b[39;49m\u001b[43m)\u001b[49m\n\u001b[0;32m      8\u001b[0m ax[\u001b[38;5;241m0\u001b[39m]\u001b[38;5;241m.\u001b[39mplot(x_grid, y_hat1, color\u001b[38;5;241m=\u001b[39m\u001b[38;5;124m'\u001b[39m\u001b[38;5;124mblue\u001b[39m\u001b[38;5;124m'\u001b[39m, label\u001b[38;5;241m=\u001b[39m\u001b[38;5;124m'\u001b[39m\u001b[38;5;124mOLS Prediction\u001b[39m\u001b[38;5;124m'\u001b[39m)\n\u001b[0;32m      9\u001b[0m ax[\u001b[38;5;241m0\u001b[39m]\u001b[38;5;241m.\u001b[39mset_title(title \u001b[38;5;241m+\u001b[39m \u001b[38;5;124m'\u001b[39m\u001b[38;5;124m - OLS\u001b[39m\u001b[38;5;124m'\u001b[39m)\n",
      "File \u001b[1;32mc:\\Users\\danie\\AppData\\Local\\Programs\\Python\\Python311\\Lib\\site-packages\\matplotlib\\_api\\deprecation.py:453\u001b[0m, in \u001b[0;36mmake_keyword_only.<locals>.wrapper\u001b[1;34m(*args, **kwargs)\u001b[0m\n\u001b[0;32m    447\u001b[0m \u001b[38;5;28;01mif\u001b[39;00m \u001b[38;5;28mlen\u001b[39m(args) \u001b[38;5;241m>\u001b[39m name_idx:\n\u001b[0;32m    448\u001b[0m     warn_deprecated(\n\u001b[0;32m    449\u001b[0m         since, message\u001b[38;5;241m=\u001b[39m\u001b[38;5;124m\"\u001b[39m\u001b[38;5;124mPassing the \u001b[39m\u001b[38;5;132;01m%(name)s\u001b[39;00m\u001b[38;5;124m \u001b[39m\u001b[38;5;132;01m%(obj_type)s\u001b[39;00m\u001b[38;5;124m \u001b[39m\u001b[38;5;124m\"\u001b[39m\n\u001b[0;32m    450\u001b[0m         \u001b[38;5;124m\"\u001b[39m\u001b[38;5;124mpositionally is deprecated since Matplotlib \u001b[39m\u001b[38;5;132;01m%(since)s\u001b[39;00m\u001b[38;5;124m; the \u001b[39m\u001b[38;5;124m\"\u001b[39m\n\u001b[0;32m    451\u001b[0m         \u001b[38;5;124m\"\u001b[39m\u001b[38;5;124mparameter will become keyword-only in \u001b[39m\u001b[38;5;132;01m%(removal)s\u001b[39;00m\u001b[38;5;124m.\u001b[39m\u001b[38;5;124m\"\u001b[39m,\n\u001b[0;32m    452\u001b[0m         name\u001b[38;5;241m=\u001b[39mname, obj_type\u001b[38;5;241m=\u001b[39m\u001b[38;5;124mf\u001b[39m\u001b[38;5;124m\"\u001b[39m\u001b[38;5;124mparameter of \u001b[39m\u001b[38;5;132;01m{\u001b[39;00mfunc\u001b[38;5;241m.\u001b[39m\u001b[38;5;18m__name__\u001b[39m\u001b[38;5;132;01m}\u001b[39;00m\u001b[38;5;124m()\u001b[39m\u001b[38;5;124m\"\u001b[39m)\n\u001b[1;32m--> 453\u001b[0m \u001b[38;5;28;01mreturn\u001b[39;00m \u001b[43mfunc\u001b[49m\u001b[43m(\u001b[49m\u001b[38;5;241;43m*\u001b[39;49m\u001b[43margs\u001b[49m\u001b[43m,\u001b[49m\u001b[43m \u001b[49m\u001b[38;5;241;43m*\u001b[39;49m\u001b[38;5;241;43m*\u001b[39;49m\u001b[43mkwargs\u001b[49m\u001b[43m)\u001b[49m\n",
      "File \u001b[1;32mc:\\Users\\danie\\AppData\\Local\\Programs\\Python\\Python311\\Lib\\site-packages\\matplotlib\\__init__.py:1521\u001b[0m, in \u001b[0;36m_preprocess_data.<locals>.inner\u001b[1;34m(ax, data, *args, **kwargs)\u001b[0m\n\u001b[0;32m   1518\u001b[0m \u001b[38;5;129m@functools\u001b[39m\u001b[38;5;241m.\u001b[39mwraps(func)\n\u001b[0;32m   1519\u001b[0m \u001b[38;5;28;01mdef\u001b[39;00m \u001b[38;5;21minner\u001b[39m(ax, \u001b[38;5;241m*\u001b[39margs, data\u001b[38;5;241m=\u001b[39m\u001b[38;5;28;01mNone\u001b[39;00m, \u001b[38;5;241m*\u001b[39m\u001b[38;5;241m*\u001b[39mkwargs):\n\u001b[0;32m   1520\u001b[0m     \u001b[38;5;28;01mif\u001b[39;00m data \u001b[38;5;129;01mis\u001b[39;00m \u001b[38;5;28;01mNone\u001b[39;00m:\n\u001b[1;32m-> 1521\u001b[0m         \u001b[38;5;28;01mreturn\u001b[39;00m \u001b[43mfunc\u001b[49m\u001b[43m(\u001b[49m\n\u001b[0;32m   1522\u001b[0m \u001b[43m            \u001b[49m\u001b[43max\u001b[49m\u001b[43m,\u001b[49m\n\u001b[0;32m   1523\u001b[0m \u001b[43m            \u001b[49m\u001b[38;5;241;43m*\u001b[39;49m\u001b[38;5;28;43mmap\u001b[39;49m\u001b[43m(\u001b[49m\u001b[43mcbook\u001b[49m\u001b[38;5;241;43m.\u001b[39;49m\u001b[43msanitize_sequence\u001b[49m\u001b[43m,\u001b[49m\u001b[43m \u001b[49m\u001b[43margs\u001b[49m\u001b[43m)\u001b[49m\u001b[43m,\u001b[49m\n\u001b[0;32m   1524\u001b[0m \u001b[43m            \u001b[49m\u001b[38;5;241;43m*\u001b[39;49m\u001b[38;5;241;43m*\u001b[39;49m\u001b[43m{\u001b[49m\u001b[43mk\u001b[49m\u001b[43m:\u001b[49m\u001b[43m \u001b[49m\u001b[43mcbook\u001b[49m\u001b[38;5;241;43m.\u001b[39;49m\u001b[43msanitize_sequence\u001b[49m\u001b[43m(\u001b[49m\u001b[43mv\u001b[49m\u001b[43m)\u001b[49m\u001b[43m \u001b[49m\u001b[38;5;28;43;01mfor\u001b[39;49;00m\u001b[43m \u001b[49m\u001b[43mk\u001b[49m\u001b[43m,\u001b[49m\u001b[43m \u001b[49m\u001b[43mv\u001b[49m\u001b[43m \u001b[49m\u001b[38;5;129;43;01min\u001b[39;49;00m\u001b[43m \u001b[49m\u001b[43mkwargs\u001b[49m\u001b[38;5;241;43m.\u001b[39;49m\u001b[43mitems\u001b[49m\u001b[43m(\u001b[49m\u001b[43m)\u001b[49m\u001b[43m}\u001b[49m\u001b[43m)\u001b[49m\n\u001b[0;32m   1526\u001b[0m     bound \u001b[38;5;241m=\u001b[39m new_sig\u001b[38;5;241m.\u001b[39mbind(ax, \u001b[38;5;241m*\u001b[39margs, \u001b[38;5;241m*\u001b[39m\u001b[38;5;241m*\u001b[39mkwargs)\n\u001b[0;32m   1527\u001b[0m     auto_label \u001b[38;5;241m=\u001b[39m (bound\u001b[38;5;241m.\u001b[39marguments\u001b[38;5;241m.\u001b[39mget(label_namer)\n\u001b[0;32m   1528\u001b[0m                   \u001b[38;5;129;01mor\u001b[39;00m bound\u001b[38;5;241m.\u001b[39mkwargs\u001b[38;5;241m.\u001b[39mget(label_namer))\n",
      "File \u001b[1;32mc:\\Users\\danie\\AppData\\Local\\Programs\\Python\\Python311\\Lib\\site-packages\\matplotlib\\axes\\_axes.py:4930\u001b[0m, in \u001b[0;36mAxes.scatter\u001b[1;34m(self, x, y, s, c, marker, cmap, norm, vmin, vmax, alpha, linewidths, edgecolors, colorizer, plotnonfinite, **kwargs)\u001b[0m\n\u001b[0;32m   4928\u001b[0m y \u001b[38;5;241m=\u001b[39m np\u001b[38;5;241m.\u001b[39mma\u001b[38;5;241m.\u001b[39mravel(y)\n\u001b[0;32m   4929\u001b[0m \u001b[38;5;28;01mif\u001b[39;00m x\u001b[38;5;241m.\u001b[39msize \u001b[38;5;241m!=\u001b[39m y\u001b[38;5;241m.\u001b[39msize:\n\u001b[1;32m-> 4930\u001b[0m     \u001b[38;5;28;01mraise\u001b[39;00m \u001b[38;5;167;01mValueError\u001b[39;00m(\u001b[38;5;124m\"\u001b[39m\u001b[38;5;124mx and y must be the same size\u001b[39m\u001b[38;5;124m\"\u001b[39m)\n\u001b[0;32m   4932\u001b[0m \u001b[38;5;28;01mif\u001b[39;00m s \u001b[38;5;129;01mis\u001b[39;00m \u001b[38;5;28;01mNone\u001b[39;00m:\n\u001b[0;32m   4933\u001b[0m     s \u001b[38;5;241m=\u001b[39m (\u001b[38;5;241m20\u001b[39m \u001b[38;5;28;01mif\u001b[39;00m mpl\u001b[38;5;241m.\u001b[39mrcParams[\u001b[38;5;124m'\u001b[39m\u001b[38;5;124m_internal.classic_mode\u001b[39m\u001b[38;5;124m'\u001b[39m] \u001b[38;5;28;01melse\u001b[39;00m\n\u001b[0;32m   4934\u001b[0m          mpl\u001b[38;5;241m.\u001b[39mrcParams[\u001b[38;5;124m'\u001b[39m\u001b[38;5;124mlines.markersize\u001b[39m\u001b[38;5;124m'\u001b[39m] \u001b[38;5;241m*\u001b[39m\u001b[38;5;241m*\u001b[39m \u001b[38;5;241m2.0\u001b[39m)\n",
      "\u001b[1;31mValueError\u001b[0m: x and y must be the same size"
     ]
    },
    {
     "data": {
      "image/png": "[encoded data removed]",
      "text/plain": [
       "<Figure size 1400x500 with 2 Axes>"
      ]
     },
     "metadata": {},
     "output_type": "display_data"
    }
   ],
   "source": [
    "plot_predictions(X, y, x_grid, y_hat2, y01_hat2, 'Figure 7.2: Piecewise Constant')\n"
   ]
  },
  {
   "cell_type": "code",
   "execution_count": 141,
   "metadata": {},
   "outputs": [],
   "source": [
    "def plot_predictions(age, y_real, x_grid, y_hat_ols, y_hat_logit, title):\n",
    "    import matplotlib.pyplot as plt\n",
    "\n",
    "    fig, ax = plt.subplots(1, 2, figsize=(14, 5))\n",
    "\n",
    "    # Gráfico 1 - Regressão Linear (OLS)\n",
    "    ax[0].scatter(age, y_real, color='w', edgecolor='k', alpha=0.3)\n",
    "    ax[0].plot(x_grid, y_hat_ols, color='crimson', label='Função Degrau')\n",
    "    ax[0].set_title(title + ' - Regressão Linear')\n",
    "    ax[0].set_xlabel(\"Idade\")\n",
    "    ax[0].set_ylabel(\"Salário estimado\")\n",
    "    ax[0].grid(True)\n",
    "    ax[0].legend()\n",
    "\n",
    "    # Gráfico 2 - Regressão Logística (se for o caso)\n",
    "    ax[1].plot(x_grid, y_hat_logit, color='blue', label='Logit Prediction')\n",
    "    ax[1].set_title(title + ' - Regressão Logística')\n",
    "    ax[1].set_xlabel(\"Idade\")\n",
    "    ax[1].set_ylabel(\"Probabilidade estimada\")\n",
    "    ax[1].grid(True)\n",
    "    ax[1].legend()\n",
    "\n",
    "    plt.tight_layout()\n",
    "    plt.show()\n"
   ]
  },
  {
   "cell_type": "code",
   "execution_count": 143,
   "metadata": {},
   "outputs": [
    {
     "data": {
      "image/png": "[encoded data removed]",
      "text/plain": [
       "<Figure size 1400x500 with 2 Axes>"
      ]
     },
     "metadata": {},
     "output_type": "display_data"
    }
   ],
   "source": [
    "plot_predictions(df[\"age\"], y, x_grid, y_hat2, y01_hat2, 'Figure 7.2: Piecewise Constant')\n"
   ]
  },
  {
   "cell_type": "markdown",
   "metadata": {},
   "source": [
    "***Splines de regressão***\n",
    "\n",
    "\n",
    "A regressão spline, ou regressão polinomial por partes, envolve o ajuste de polinômios de baixo grau separados em diferentes regiões de\n",
    ". A ideia é ter uma especificação de regressão, mas com coeficientes diferentes em diferentes partes da\n",
    "intervalo. Os pontos onde os coeficientes mudam são chamados de nós.\n",
    "\n",
    "Por exemplo, poderíamos ter um polinômio de terceiro grau e dividir a amostra em dois.\n",
    "\n",
    "$$ y_{i} = \\beta_{01} + \\beta_{11} x_{i} + \\beta_{21} x_{i}^2 + \\beta_{31} x_{i}^3 + \\epsilon_{i} \\quad \\text{se } x_{i} < c $$\n",
    "\n",
    "Agora temos dois conjuntos de coeficientes, um para cada subamostra.\n",
    "\n",
    "Geralmente, usar mais nós resulta em um polinômio por partes mais flexível. Além disso, aumentar o grau do polinômio aumenta o grau de flexibilidade."
   ]
  },
  {
   "cell_type": "markdown",
   "metadata": {},
   "source": [
    "***Exemplo***\n",
    "\n",
    "Agora vamos traçar 4 exemplos diferentes para o age wagerelacionamento:\n",
    "\n",
    "Cúbico descontínuo por partes\n",
    "Cúbico contínuo por partes\n",
    "Quadrático (contínuo)\n",
    "Linear contínuo por partes"
   ]
  },
  {
   "cell_type": "code",
   "execution_count": 144,
   "metadata": {},
   "outputs": [],
   "source": [
    "# Cut dataset\n",
    "df_short = df.iloc[:80,:]\n",
    "X_short = df_short.age\n",
    "y_short = df_short.wage\n",
    "x_grid_short = np.arange(df_short.age.min(), df_short.age.max()+1).reshape(-1,1)\n",
    "\n",
    "# 1. Discontinuous piecewise cubic\n",
    "spline1 = \"bs(x, knots=(50,50,50,50), degree=3, include_intercept=False)\"\n",
    "\n",
    "# 2. Continuous piecewise cubic\n",
    "spline2 = \"bs(x, knots=(50,50,50), degree=3, include_intercept=False)\"\n",
    "\n",
    "# 3. Quadratic (continuous)\n",
    "spline3 = \"bs(x, knots=(%s,%s), degree=2, include_intercept=False)\" % (min(df.age), min(df.age))\n",
    "\n",
    "# 4. Continuous piecewise linear\n",
    "spline4 = \"bs(x, knots=(%s,50), degree=1, include_intercept=False)\" % min(df.age)"
   ]
  },
  {
   "cell_type": "code",
   "execution_count": 145,
   "metadata": {},
   "outputs": [],
   "source": [
    "from patsy import dmatrix\n",
    "\n",
    "# Generate spline predictions\n",
    "def fit_predict_spline(spline, X, y, x_grid):\n",
    "    transformed_x = dmatrix(spline, {\"x\": X}, return_type='dataframe')\n",
    "    fit = sm.GLM(y, transformed_x).fit()\n",
    "    y_hat = fit.predict(dmatrix(spline, {\"x\": x_grid}, return_type='dataframe'))\n",
    "    return y_hat\n",
    "\n",
    "y_hats = [fit_predict_spline(s, X_short, y_short, x_grid_short) for s in [spline1, spline2, spline3, spline4]]"
   ]
  },
  {
   "cell_type": "code",
   "execution_count": 146,
   "metadata": {},
   "outputs": [],
   "source": [
    "import matplotlib.pyplot as plt\n",
    "\n",
    "def plot_splines(df_short, x_grid, y_hats):\n",
    "    titles = [\n",
    "        'Discontinuous piecewise cubic spline',\n",
    "        'Continuous piecewise cubic spline',\n",
    "        'Quadratic spline (continuous)',\n",
    "        'Continuous piecewise linear spline'\n",
    "    ]\n",
    "    \n",
    "    fig, ax = plt.subplots(2, 2, figsize=(14, 10))\n",
    "    ax = ax.ravel()\n",
    "\n",
    "    for i in range(4):\n",
    "        ax[i].scatter(df_short.age, df_short.wage, color='w', edgecolor='k', alpha=0.4)\n",
    "        ax[i].plot(x_grid, y_hats[i], color='crimson', lw=2)\n",
    "        ax[i].set_title(titles[i])\n",
    "        ax[i].set_xlabel(\"Age\")\n",
    "        ax[i].set_ylabel(\"Wage\")\n",
    "    \n",
    "    plt.tight_layout()\n",
    "    plt.show()\n"
   ]
  },
  {
   "cell_type": "code",
   "execution_count": 147,
   "metadata": {},
   "outputs": [
    {
     "data": {
      "image/png": "[encoded data removed]",
      "text/plain": [
       "<Figure size 1400x1000 with 4 Axes>"
      ]
     },
     "metadata": {},
     "output_type": "display_data"
    }
   ],
   "source": [
    "plot_splines(df_short, x_grid_short, y_hats)"
   ]
  },
  {
   "cell_type": "markdown",
   "metadata": {},
   "source": [
    "***Comentário***\n",
    "\n",
    "O primeiro exemplo nos faz pensar por que gostaríamos que nossa função fosse descontínua. A menos que esperemos um aumento salarial repentino em uma determinada idade, gostaríamos que a função fosse contínua. No entanto, se, por exemplo, dividirmos ageem torno da idade de aposentadoria, podemos esperar uma descontinuidade.\n",
    "\n",
    "O segundo exemplo (canto superior direito) nos faz pensar por que desejaríamos que nossa função não fosse diferenciável. A menos que tenhamos algum mecanismo específico em mente, geralmente há um dilema entre tornar a função não diferenciável ou aumentar o grau do polinômio, como os dois últimos exemplos nos mostram. Obtemos um ajuste semelhante com um ajuste quadrático ou um ajuste linear descontínuo. A principal diferença é que, no segundo caso, estamos escolhendo o ponto de descontinuidade manualmente, em vez de deixar que os dados escolham como alterar a inclinação da curva."
   ]
  },
  {
   "cell_type": "markdown",
   "metadata": {},
   "source": [
    "***A representação da base Spline***\n",
    "\n",
    "Como podemos ajustar um polinômio de grau d por partes sob a restrição de que ele (e possivelmente suas primeiras derivadas d − 1) seja contínuo?\n",
    "\n",
    "A maneira mais direta de representar uma spline cúbica é começar com uma base para um polinômio cúbico — ou seja, x, x2, x3 — e, em seguida, adicionar uma função de base de potência truncada por nó. Uma função de base de potência truncada é definida como\n",
    "\n",
    "$$ h(x, c)=(xc)_{+}^{3} = \\Bigg{ (x-c)^{3}} \\text{ se } x>c \\text{ e } 0 \\text{ caso contrário} $$\n",
    "\n",
    "\n",
    "Pode-se mostrar que adicionar um termo da forma\n",
    "ao modelo para um polinômio cúbico levará a uma descontinuidade apenas na terceira derivada em\n",
    "; a função permanecerá contínua, com derivadas primeira e segunda contínuas, em cada um dos nós."
   ]
  },
  {
   "cell_type": "markdown",
   "metadata": {},
   "source": [
    "Splines Cúbicas\n",
    "Uma maneira de especificar a spline é usando nós e graus de liberdade."
   ]
  },
  {
   "cell_type": "code",
   "execution_count": 76,
   "metadata": {},
   "outputs": [],
   "source": [
    "# Specifying 3 knots and 3 degrees of freedom\n",
    "spline5 = \"bs(x, knots=(25,40,60), degree=3, include_intercept=False)\"\n",
    "pred5 = fit_predict_spline(spline5, X, y, x_grid)"
   ]
  },
  {
   "cell_type": "markdown",
   "metadata": {},
   "source": [
    "Sem nós\n",
    "Quando ajustamos uma spline, onde devemos colocar os nós?\n",
    "\n",
    "A spline de regressão é mais flexível em regiões com muitos nós, pois nessas regiões os coeficientes polinomiais podem mudar rapidamente. Portanto, uma opção é colocar mais nós onde acreditamos que a função pode variar mais rapidamente e menos nós onde ela parece mais estável. Embora essa opção possa funcionar bem, na prática é comum colocar os nós de maneira uniforme. Uma maneira de fazer isso é especificar os graus de liberdade desejados e, em seguida, fazer com que o software coloque automaticamente o número correspondente de nós em quantis uniformes dos dados."
   ]
  },
  {
   "cell_type": "code",
   "execution_count": 77,
   "metadata": {},
   "outputs": [],
   "source": [
    "# Specifying degree 3 and 6 degrees of freedom \n",
    "spline6 = \"bs(x, df=6, degree=3, include_intercept=False)\"\n",
    "pred6 = fit_predict_spline(spline6, X, y, x_grid)"
   ]
  },
  {
   "cell_type": "markdown",
   "metadata": {},
   "source": [
    "Splines naturais\n",
    "Uma spline natural é uma spline de regressão com restrições de contorno adicionais: a função precisa ser linear no contorno (na região onde X é menor que o menor nó ou maior que o maior nó). Essa restrição adicional significa que as splines naturais geralmente produzem estimativas mais estáveis ​​nos contornos."
   ]
  },
  {
   "cell_type": "code",
   "execution_count": 78,
   "metadata": {},
   "outputs": [],
   "source": [
    "# Natural spline with 4 degrees of freedom\n",
    "spline7 = \"cr(x, df=4)\"\n",
    "pred7 = fit_predict_spline(spline7, X, y, x_grid)"
   ]
  },
  {
   "cell_type": "markdown",
   "metadata": {},
   "source": [
    "Comparação"
   ]
  },
  {
   "cell_type": "code",
   "execution_count": 79,
   "metadata": {},
   "outputs": [
    {
     "ename": "NameError",
     "evalue": "name 'compare_predictions' is not defined",
     "output_type": "error",
     "traceback": [
      "\u001b[1;31m---------------------------------------------------------------------------\u001b[0m",
      "\u001b[1;31mNameError\u001b[0m                                 Traceback (most recent call last)",
      "Cell \u001b[1;32mIn[79], line 4\u001b[0m\n\u001b[0;32m      2\u001b[0m preds \u001b[38;5;241m=\u001b[39m [pred5, pred6, pred7]\n\u001b[0;32m      3\u001b[0m labels \u001b[38;5;241m=\u001b[39m [\u001b[38;5;124m'\u001b[39m\u001b[38;5;124mdegree 3, knots 3\u001b[39m\u001b[38;5;124m'\u001b[39m, \u001b[38;5;124m'\u001b[39m\u001b[38;5;124mdegree 3, degrees of freedom 3\u001b[39m\u001b[38;5;124m'\u001b[39m, \u001b[38;5;124m'\u001b[39m\u001b[38;5;124mnatural, degrees of freedom 4\u001b[39m\u001b[38;5;124m'\u001b[39m]\n\u001b[1;32m----> 4\u001b[0m \u001b[43mcompare_predictions\u001b[49m(X, y, x_grid, preds, labels)\n",
      "\u001b[1;31mNameError\u001b[0m: name 'compare_predictions' is not defined"
     ]
    }
   ],
   "source": [
    "# Compare predictons\n",
    "preds = [pred5, pred6, pred7]\n",
    "labels = ['degree 3, knots 3', 'degree 3, degrees of freedom 3', 'natural, degrees of freedom 4']\n",
    "compare_predictions(X, y, x_grid, preds, labels)"
   ]
  },
  {
   "cell_type": "markdown",
   "metadata": {},
   "source": [
    "Comparação com Regressão Polinomial\n",
    "Splines de regressão geralmente apresentam resultados superiores à regressão polinomial. Isso ocorre porque, diferentemente dos polinômios, que precisam usar um grau alto para produzir ajustes flexíveis, as splines introduzem flexibilidade aumentando o número de nós, mas mantendo o grau fixo.\n",
    "\n",
    "Agora estamos ajustando um polinômio de grau 15 e uma spline com 15 graus de liberdade.\n",
    "\n",
    "# Polynomial of degree 15"
   ]
  },
  {
   "cell_type": "code",
   "execution_count": 80,
   "metadata": {},
   "outputs": [],
   "source": [
    "# Polynomial of degree 15\n",
    "X_poly15 = PolynomialFeatures(15).fit_transform(df.age.values.reshape(-1,1))\n",
    "ols_poly_15 = sm.OLS(y, X_poly15).fit()\n",
    "pred8 = ols_poly_15.predict(PolynomialFeatures(15).fit_transform(x_grid))\n",
    "\n",
    "# Spline with 15 degrees of freedon\n",
    "spline9 = \"bs(x, df=15, degree=3, include_intercept=False)\"\n",
    "pred9 = fit_predict_spline(spline9, X, y, x_grid)"
   ]
  },
  {
   "cell_type": "code",
   "execution_count": 81,
   "metadata": {},
   "outputs": [
    {
     "ename": "NameError",
     "evalue": "name 'compare_predictions' is not defined",
     "output_type": "error",
     "traceback": [
      "\u001b[1;31m---------------------------------------------------------------------------\u001b[0m",
      "\u001b[1;31mNameError\u001b[0m                                 Traceback (most recent call last)",
      "Cell \u001b[1;32mIn[81], line 4\u001b[0m\n\u001b[0;32m      2\u001b[0m preds \u001b[38;5;241m=\u001b[39m [pred8, pred9]\n\u001b[0;32m      3\u001b[0m labels \u001b[38;5;241m=\u001b[39m [\u001b[38;5;124m'\u001b[39m\u001b[38;5;124mPolynomial\u001b[39m\u001b[38;5;124m'\u001b[39m, \u001b[38;5;124m'\u001b[39m\u001b[38;5;124mSpline\u001b[39m\u001b[38;5;124m'\u001b[39m]\n\u001b[1;32m----> 4\u001b[0m \u001b[43mcompare_predictions\u001b[49m(X, y, x_grid, preds, labels)\n",
      "\u001b[1;31mNameError\u001b[0m: name 'compare_predictions' is not defined"
     ]
    }
   ],
   "source": [
    "# Compare predictons\n",
    "preds = [pred8, pred9]\n",
    "labels = ['Polynomial', 'Spline']\n",
    "compare_predictions(X, y, x_grid, preds, labels)"
   ]
  },
  {
   "cell_type": "markdown",
   "metadata": {},
   "source": [
    "Como podemos ver, apesar das duas regressões terem os mesmos graus de liberdade, o ajuste polinomial é muito mais volátil. Podemos compará-los em algumas dimensões."
   ]
  },
  {
   "cell_type": "markdown",
   "metadata": {},
   "source": [
    "Regressão Local\n",
    "Até agora, examinamos os chamados \" métodos globais \": métodos que tentam aplicar uma especificação de função única a todos os dados. A especificação da função pode ser complexa, como no caso de splines, mas pode ser expressa globalmente.\n",
    "\n",
    "A regressão local é uma abordagem diferente para ajustar funções não lineares flexíveis, que envolve calcular o ajuste em um ponto alvo\n",
    "usando apenas as observações de treinamento próximas."
   ]
  },
  {
   "cell_type": "markdown",
   "metadata": {},
   "source": [
    "Detalhes\n",
    "Como funciona a regressão local?\n",
    "\n",
    "Ingredientes:\n",
    ",\n",
    ".\n",
    "\n",
    "Como você produz uma previsão\n",
    "em um novo ponto\n",
    "?\n",
    "\n",
    "Tome uma série de pontos em\n",
    "perto de\n",
    ":\n",
    "Atribua um peso a cada um desses pontos\n",
    "Ajuste uma regressão ponderada de mínimos quadrados de\n",
    "sobre\n",
    "Use os coeficientes estimados\n",
    "prever\n"
   ]
  },
  {
   "cell_type": "markdown",
   "metadata": {},
   "source": [
    "Gerar Dados"
   ]
  },
  {
   "cell_type": "code",
   "execution_count": 82,
   "metadata": {},
   "outputs": [],
   "source": [
    "# Set seed\n",
    "np.random.seed(1)\n",
    "\n",
    "# Generate data\n",
    "X_sim = np.sort(np.random.uniform(0,1,100))\n",
    "e = np.random.uniform(-.5,.5,100)\n",
    "y_sim = -4*X_sim**2 + 3*X_sim + e\n",
    "\n",
    "# True Generating process without noise\n",
    "X_grid = np.linspace(0,1,100)\n",
    "y_grid = -4*X_grid**2 + 3*X_grid"
   ]
  },
  {
   "cell_type": "markdown",
   "metadata": {},
   "source": [
    "Plotagem\n",
    "Vamos visualizar os dados simulados e a curva sem ruído."
   ]
  },
  {
   "cell_type": "code",
   "execution_count": 83,
   "metadata": {},
   "outputs": [
    {
     "ename": "NameError",
     "evalue": "name 'plot_simulated_data' is not defined",
     "output_type": "error",
     "traceback": [
      "\u001b[1;31m---------------------------------------------------------------------------\u001b[0m",
      "\u001b[1;31mNameError\u001b[0m                                 Traceback (most recent call last)",
      "Cell \u001b[1;32mIn[83], line 1\u001b[0m\n\u001b[1;32m----> 1\u001b[0m \u001b[43mplot_simulated_data\u001b[49m(X_sim, y_sim, X_grid, y_grid);\n",
      "\u001b[1;31mNameError\u001b[0m: name 'plot_simulated_data' is not defined"
     ]
    }
   ],
   "source": [
    "plot_simulated_data(X_sim, y_sim, X_grid, y_grid);"
   ]
  },
  {
   "cell_type": "markdown",
   "metadata": {},
   "source": [
    "Ajuste de regressão LL\n",
    "Agora ajustamos uma regressão linear local."
   ]
  },
  {
   "cell_type": "code",
   "execution_count": null,
   "metadata": {},
   "outputs": [],
   "source": [
    "# Settings\n",
    "spec = 'll'\n",
    "bandwidth = 0.1\n",
    "kernel = 'gaussian'\n",
    "\n",
    "# Locally linear regression\n",
    "local_reg = KernelReg(y_sim, X_sim.reshape(-1,1), \n",
    "                      var_type='c', \n",
    "                      reg_type=spec, \n",
    "                      bw=[bandwidth])\n",
    "y_hat = KernelReg.fit(local_reg)"
   ]
  },
  {
   "cell_type": "markdown",
   "metadata": {},
   "source": [
    "O que os parâmetros significam?\n",
    "\n",
    "var_type: tipo de variável dependente ( cou seja, contínua )\n",
    "reg_type: especificação de regressão local ( llou seja, localmente linear )\n",
    "bw : comprimento de largura de banda ( 0,1 )\n",
    "ckertype: tipo de kernel ( gaussiano )\n",
    "\n",
    "**Previsão**\n",
    "\n",
    "Como é a previsão?\n",
    "\n"
   ]
  },
  {
   "cell_type": "code",
   "execution_count": 84,
   "metadata": {},
   "outputs": [
    {
     "ename": "NameError",
     "evalue": "name 'plot_simulated_data' is not defined",
     "output_type": "error",
     "traceback": [
      "\u001b[1;31m---------------------------------------------------------------------------\u001b[0m",
      "\u001b[1;31mNameError\u001b[0m                                 Traceback (most recent call last)",
      "Cell \u001b[1;32mIn[84], line 1\u001b[0m\n\u001b[1;32m----> 1\u001b[0m fig, ax \u001b[38;5;241m=\u001b[39m \u001b[43mplot_simulated_data\u001b[49m(X_sim, y_sim, X_grid, y_grid);\n\u001b[0;32m      2\u001b[0m make_figure_7_9a(fig, ax, X_sim, y_hat);\n",
      "\u001b[1;31mNameError\u001b[0m: name 'plot_simulated_data' is not defined"
     ]
    }
   ],
   "source": [
    "fig, ax = plot_simulated_data(X_sim, y_sim, X_grid, y_grid);\n",
    "make_figure_7_9a(fig, ax, X_sim, y_hat);"
   ]
  },
  {
   "cell_type": "markdown",
   "metadata": {},
   "source": [
    "Detalhes\n",
    "Como exatamente a previsão foi gerada? Ela foi gerada pontualmente. Agora, vamos analisar a previsão em um ponto específico:\n",
    ".\n",
    "\n",
    "Procedemos da seguinte forma:\n",
    "\n",
    "Selecionamos o ponto focal:\n",
    "Selecionamos observações próximas a\n",
    ", ou seja\n",
    "e\n",
    "Aplicamos pesos gaussianos\n",
    "Executamos uma regressão linear ponderada de\n",
    "sobre"
   ]
  },
  {
   "cell_type": "code",
   "execution_count": null,
   "metadata": {},
   "outputs": [],
   "source": [
    "# Get local X and y\n",
    "x_i = 0.5\n",
    "close_to_i = (x_i-bandwidth < X_sim) & (X_sim < x_i+bandwidth)\n",
    "X_tilde = X_sim[close_to_i]\n",
    "y_tilde = y_sim[close_to_i]\n",
    "\n",
    "# Get local estimates\n",
    "local_estimate = KernelReg.fit(local_reg, data_predict=[x_i])\n",
    "y_i_hat = local_estimate[0]\n",
    "beta_i_hat = local_estimate[1]\n",
    "alpha_i_hat = y_i_hat - beta_i_hat*x_i\n",
    "print('Estimates: alpha=%1.4f, beta=%1.4f' % (alpha_i_hat, beta_i_hat))"
   ]
  },
  {
   "cell_type": "markdown",
   "metadata": {},
   "source": [
    "Visualização\n",
    "Agora podemos usar os coeficientes estimados localmente para prever o valor de\n",
    "para\n",
    "."
   ]
  },
  {
   "cell_type": "code",
   "execution_count": null,
   "metadata": {},
   "outputs": [],
   "source": [
    "# Build local predictions\n",
    "close_to_i_grid = (x_i-bandwidth < X_grid) & (X_grid < x_i+bandwidth)\n",
    "X_grid_tilde = X_grid[close_to_i_grid].reshape(-1,1)\n",
    "y_grid_tilde = alpha_i_hat + X_grid_tilde*beta_i_hat"
   ]
  },
  {
   "cell_type": "code",
   "execution_count": null,
   "metadata": {},
   "outputs": [],
   "source": [
    "fig, ax = plot_simulated_data(X_sim, y_sim, X_grid, y_grid);\n",
    "make_figure_7_9a(fig, ax, X_sim, y_hat);\n",
    "make_figure_7_9b(fig, ax, X_tilde, y_tilde, X_grid_tilde, y_grid_tilde, x_i, y_i_hat)"
   ]
  },
  {
   "cell_type": "markdown",
   "metadata": {},
   "source": [
    "Ampliando\n",
    "Podemos ampliar e olhar apenas para a amostra “ próximo a i ”."
   ]
  },
  {
   "cell_type": "code",
   "execution_count": null,
   "metadata": {},
   "outputs": [],
   "source": [
    "sns.regplot(X_tilde, y_tilde);"
   ]
  },
  {
   "cell_type": "markdown",
   "metadata": {},
   "source": [
    "Por que a reta é inclinada para cima? Esquecemos os pesos gaussianos."
   ]
  },
  {
   "cell_type": "code",
   "execution_count": null,
   "metadata": {},
   "outputs": [],
   "source": [
    "# Weights\n",
    "w = norm.pdf((X_sim-x_i)/bandwidth)\n",
    "\n",
    "# Estimate LWS\n",
    "mod_wls = sm.WLS(y_sim, sm.add_constant(X_sim), weights=w)\n",
    "results = mod_wls.fit()\n",
    "\n",
    "print('Estimates: alpha=%1.4f, beta=%1.4f' % tuple(results.params))"
   ]
  },
  {
   "cell_type": "markdown",
   "metadata": {},
   "source": [
    "De fato, obtivemos as mesmas estimativas de antes. Observe duas coisas:\n",
    "\n",
    "a largura ruim define o parâmetro de escala dos pesos gaussianos\n",
    "nossa regressão linear local é igualmente global"
   ]
  },
  {
   "cell_type": "code",
   "execution_count": null,
   "metadata": {},
   "outputs": [],
   "source": [
    "make_figure_7_9d(X_sim, y_sim, w, results, X_grid, x_i, y_i_hat)"
   ]
  },
  {
   "cell_type": "markdown",
   "metadata": {},
   "source": [
    "Modelos Aditivos Generalizados\n",
    "\n",
    "Modelos aditivos generalizados (GAMs) fornecem uma estrutura geral para estender um modelo linear padrão, permitindo funções não lineares de cada uma das variáveis, mantendo a aditividade.\n",
    "\n",
    "GAM para problemas de regressão\n",
    "Imagine estender a estrutura geral de regressão a algum modelo aditivo separavelmente da forma\n",
    "\n",
    "\n",
    "É chamado de modelo aditivo porque calculamos um modelo separado\n",
    "para cada\n",
    ", e então some todas as suas contribuições.\n",
    "\n",
    "Considere por exemplo o seguinte modelo\n",
    "\n",
    "\n",
    "Exemplo\n",
    "Usaremos as seguintes funções:\n",
    "\n",
    ": spline natural com 8 graus de liberdade\n",
    ": spline natural com 10 graus de liberdade\n",
    ": função degrau\n",
    "\n"
   ]
  },
  {
   "cell_type": "code",
   "execution_count": null,
   "metadata": {},
   "outputs": [],
   "source": [
    "# Set X and y\n",
    "df['education_'] = LabelEncoder().fit_transform(df[\"education\"])\n",
    "X = df[['year','age','education_']].to_numpy()\n",
    "y = df[['wage']].to_numpy()\n",
    "\n",
    "## model\n",
    "linear_gam = LinearGAM(s(0, n_splines=8) + s(1, n_splines=10) + f(2))\n",
    "linear_gam.gridsearch(X, y);"
   ]
  },
  {
   "cell_type": "markdown",
   "metadata": {},
   "source": [
    "Plotagem"
   ]
  },
  {
   "cell_type": "code",
   "execution_count": null,
   "metadata": {},
   "outputs": [],
   "source": [
    "plot_gam(linear_gam)"
   ]
  },
  {
   "cell_type": "markdown",
   "metadata": {},
   "source": [
    "Prós e contras\n",
    "Antes de prosseguirmos, vamos resumir as vantagens de um GAM.\n",
    "\n",
    "Os GAMs nos permitem ajustar uma estrutura não linear\n",
    "para cada um\n",
    ", para que possamos modelar automaticamente relacionamentos não lineares que a regressão linear padrão não irá alcançar\n",
    "Os ajustes não lineares podem potencialmente fazer previsões mais precisas\n",
    "Como o modelo é aditivo, ainda podemos examinar o efeito de cada\n",
    "sobre\n",
    "separadamente\n",
    "A suavidade da função\n",
    "para a variável\n",
    "pode ser resumido por meio de graus de liberdade.\n",
    "A principal limitação dos GAMs é que o modelo é restrito a ser aditivo. Com muitas variáveis, interações importantes podem ser perdidas. No entanto, assim como na regressão linear, podemos adicionar manualmente termos de interação ao modelo GAM, incluindo preditores adicionais da forma\n",
    ".\n",
    "\n",
    "GAMs para problemas de classificação\n",
    "\n",
    "Podemos usar GAMs também com uma variável dependente binária.\n",
    "\n"
   ]
  },
  {
   "cell_type": "code",
   "execution_count": null,
   "metadata": {},
   "outputs": [],
   "source": [
    "# Binary dependent variable\n",
    "y_binary = (y>250)\n",
    "\n",
    "## Logit link function\n",
    "logit_gam = LogisticGAM(s(0, n_splines=8) + s(1, n_splines=10) + f(2), fit_intercept=True)\n",
    "logit_gam.gridsearch(X, y_binary);"
   ]
  },
  {
   "cell_type": "code",
   "execution_count": null,
   "metadata": {},
   "outputs": [],
   "source": [
    "plot_gam(logit_gam)"
   ]
  },
  {
   "cell_type": "markdown",
   "metadata": {},
   "source": [
    "Os resultados são qualitativamente semelhantes ao caso não binário."
   ]
  }
 ],
 "metadata": {
  "kernelspec": {
   "display_name": "Python 3",
   "language": "python",
   "name": "python3"
  },
  "language_info": {
   "codemirror_mode": {
    "name": "ipython",
    "version": 3
   },
   "file_extension": ".py",
   "mimetype": "text/x-python",
   "name": "python",
   "nbconvert_exporter": "python",
   "pygments_lexer": "ipython3",
   "version": "3.11.5"
  }
 },
 "nbformat": 4,
 "nbformat_minor": 2
}
