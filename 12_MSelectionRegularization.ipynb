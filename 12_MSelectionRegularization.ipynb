{
 "cells": [
  {
   "cell_type": "markdown",
   "metadata": {},
   "source": [
    "# *Model Selection and Regularization* (Seleção de Modelos e Regularização)\n",
    "\n",
    "Prof. Daniel de Abreu Pereira Uhr\n",
    "\n",
    "### Conteúdo\n",
    "* Introdução\n",
    "* Seleção de Variáveis por Subconjuntos\n",
    "  * Melhor Seleção de Subconjunto\n",
    "  * Forward Stepwise Selection (Seleção passo a passo para frente)\n",
    "  * Backward Stepwise Selection (Seleção passo a passo para trás)\n",
    "  * Escolhendo o modelo ideal\n",
    "  * Validação e Validação Cruzada\n",
    "* Shrinkage Methods (Métodos de Encolhimento)\n",
    "  * Ridge Regression (L2)\n",
    "  * Trade-off de viés-variância\n",
    "  * Lasso (L1)\n",
    "  * Comparando a regressão Lasso e Ridge\n",
    "  * Selecionando o parâmetro de ajuste\n",
    "  * Elastic Net\n",
    "  * Como escolher na prática?\n",
    "* Seleção de Variáveis Clássica vs Regularização\n",
    "\n",
    "\n",
    "### Referências\n",
    "\n",
    "* [An Introduction to Statistical Learning](https://www.statlearning.com/) (ISL) by Gareth James, Daniela Witten, Trevor Hastie and Robert Tibshirani\n",
    "  * Capítulo 6***\n",
    "* [The Elements of Statistical Learning](https://hastie.su.domains/ElemStatLearn/) (ESL) by Trevor Hastie, Robert Tibshirani and Jerome Friedman\n",
    "* Notas próprias.\n",
    "\n",
    "\n",
    "***Disclaimer:*** *O material apresentado aqui é uma adaptação do material de aula do Prof. Daniel de Abreu Pereira Uhr, e não deve ser utilizado para fins comerciais. O material é disponibilizado para fins educacionais e de pesquisa, e não deve ser reproduzido sem a devida autorização do autor. Este material pode conter erros e imprecisões. O autor não se responsabiliza por quaisquer danos ou prejuízos decorrentes do uso deste material. O uso deste material é de responsabilidade exclusiva do usuário. Caso você encontre erros ou imprecisões neste material, por favor, entre em contato com o autor para que possam ser corrigidos. O autor agradece qualquer feedback ou sugestão de melhoria.*"
   ]
  },
  {
   "cell_type": "markdown",
   "metadata": {},
   "source": [
    "### 1. Introdução\n",
    "\n",
    "***Na era do big data***, não enfrentamos apenas o desafio de trabalhar com conjuntos de dados com um grande número de observações (ou amostras), normalmente representado pela letra $n$. Muitas vezes, também lidamos com um número muito elevado de variáveis explicativas ou preditores, que vamos denotar por $p$.\n",
    "\n",
    "Por exemplo, imagine um estudo com $n = 100$ indivíduos, para os quais coletamos $p = 10$ variáveis, como idade, peso, altura, escolaridade, entre outras. Nesse caso, temos uma situação tradicional, onde o número de variáveis ($p$) é bem menor do que o número de observações ($n$). Esse cenário é confortável para a aplicação de OLS.\n",
    "\n",
    "Entretanto, com a crescente disponibilidade de dados, é cada vez mais comum nos depararmos com situações onde o número de variáveis é muito grande, às vezes até maior do que o número de observações (por exemplo, $p = 10.000$ variáveis para apenas $n = 100$ indivíduos). Nesses casos, surgem sérios desafios:\n",
    "\n",
    "- Quando $p > n$, o modelo OLS **não pode ser ajustado** da forma usual, pois o sistema de equações possui infinitas soluções.\n",
    "- Mesmo quando $p < n$, incluir muitas variáveis pode levar a problemas como o **sobreajuste** (**overfitting**) e **multicolinearidade**, prejudicando a capacidade de generalização do modelo.\n",
    "\n",
    "Além disso, muitas vezes nos interessa construir um modelo **parcimonioso**, que utilize apenas um subconjunto de variáveis relevantes, que chamaremos de $k$. Em geral, buscamos que esse número $k$ de variáveis efetivamente incluídas no modelo seja **muito menor** do que o total disponível: $k \\ll p$, e claro, $k < n$. \n",
    "\n",
    ">\n",
    ">Esse processo de ***identificar e selecionar as variáveis mais importantes*** é conhecido como **seleção de variáveis**.\n",
    ">\n",
    "\n",
    "Diante desses desafios, surgem técnicas de **seleção de modelos** e **regularização**, cujo objetivo é:\n",
    "\n",
    "- Permitir a modelagem mesmo quando $p$ é grande em relação a $n$;\n",
    "- Evitar o sobreajuste;\n",
    "- Melhorar a capacidade de previsão;\n",
    "- Produzir modelos mais interpretáveis.\n",
    "\n",
    "Nesta aula, abordaremos as principais abordagens para lidar com esses problemas, incluindo:\n",
    "\n",
    "- **Seleção de variáveis por subconjuntos**;\n",
    "- **Métodos de regularização**, como Ridge, Lasso e Elastic Net;\n",
    "\n",
    "Nosso foco será entender não apenas como aplicar essas técnicas, mas também quando e por que elas são necessárias, especialmente em cenários de **alta dimensionalidade**."
   ]
  },
  {
   "cell_type": "markdown",
   "metadata": {},
   "source": [
    "Carregando as bibliotecas necessárias para os exempls de aula, e definição das plotagens:"
   ]
  },
  {
   "cell_type": "code",
   "execution_count": 1,
   "metadata": {},
   "outputs": [],
   "source": [
    "# Remove warnings\n",
    "import warnings\n",
    "warnings.filterwarnings('ignore')\n",
    "\n",
    "# Import\n",
    "import pandas as pd\n",
    "import numpy as np\n",
    "import time\n",
    "import itertools\n",
    "import statsmodels.api as sm\n",
    "import seaborn as sns\n",
    "\n",
    "from numpy.random import normal, uniform\n",
    "from itertools import combinations\n",
    "from statsmodels.api import add_constant\n",
    "from statsmodels.regression.linear_model import OLS\n",
    "from sklearn.linear_model import LinearRegression, Ridge, Lasso, RidgeCV, LassoCV\n",
    "from sklearn.cross_decomposition import PLSRegression, PLSSVD\n",
    "from sklearn.model_selection import KFold, cross_val_score, train_test_split, LeaveOneOut, ShuffleSplit\n",
    "from sklearn.preprocessing import scale\n",
    "from sklearn.decomposition import PCA\n",
    "from sklearn.metrics import mean_squared_error"
   ]
  },
  {
   "cell_type": "code",
   "execution_count": 2,
   "metadata": {},
   "outputs": [],
   "source": [
    "import matplotlib.pyplot as plt\n",
    "from mpl_toolkits.mplot3d import axes3d\n",
    "\n",
    "# Set global parameters\n",
    "%matplotlib inline\n",
    "plt.style.use('seaborn-v0_8-white')\n",
    "plt.rcParams['lines.linewidth'] = 3\n",
    "plt.rcParams['figure.figsize'] = (8,3)\n",
    "plt.rcParams['figure.titlesize'] = 14\n",
    "plt.rcParams['axes.titlesize'] = 12\n",
    "plt.rcParams['axes.labelsize'] = 10\n",
    "plt.rcParams['legend.fontsize'] = 10"
   ]
  },
  {
   "cell_type": "markdown",
   "metadata": {},
   "source": [
    "### 2. Seleção de Variáveis por Subconjuntos\n",
    "\n",
    "A abordagem de **seleção de variáveis por subconjuntos** envolve a identificação de um subconjunto dentre os $p$ preditores disponíveis, que acreditamos estar relacionados à variável resposta. Em seguida, ajustamos um modelo utilizando mínimos quadrados apenas com esse conjunto reduzido de variáveis.\n",
    "\n",
    "Vamos carregar o banco de dados e chamá-lo de `credit`."
   ]
  },
  {
   "cell_type": "code",
   "execution_count": 3,
   "metadata": {},
   "outputs": [
    {
     "data": {
      "application/vnd.microsoft.datawrangler.viewer.v0+json": {
       "columns": [
        {
         "name": "index",
         "rawType": "int64",
         "type": "integer"
        },
        {
         "name": "Income",
         "rawType": "float64",
         "type": "float"
        },
        {
         "name": "Limit",
         "rawType": "int64",
         "type": "integer"
        },
        {
         "name": "Rating",
         "rawType": "int64",
         "type": "integer"
        },
        {
         "name": "Cards",
         "rawType": "int64",
         "type": "integer"
        },
        {
         "name": "Age",
         "rawType": "int64",
         "type": "integer"
        },
        {
         "name": "Education",
         "rawType": "int64",
         "type": "integer"
        },
        {
         "name": "Gender",
         "rawType": "object",
         "type": "string"
        },
        {
         "name": "Student",
         "rawType": "object",
         "type": "string"
        },
        {
         "name": "Married",
         "rawType": "object",
         "type": "string"
        },
        {
         "name": "Ethnicity",
         "rawType": "object",
         "type": "string"
        },
        {
         "name": "Balance",
         "rawType": "int64",
         "type": "integer"
        }
       ],
       "ref": "c463dffc-d1d6-4d47-8a3a-92733c32e1ab",
       "rows": [
        [
         "0",
         "14.891",
         "3606",
         "283",
         "2",
         "34",
         "11",
         " Male",
         "No",
         "Yes",
         "Caucasian",
         "333"
        ],
        [
         "1",
         "106.025",
         "6645",
         "483",
         "3",
         "82",
         "15",
         "Female",
         "Yes",
         "Yes",
         "Asian",
         "903"
        ],
        [
         "2",
         "104.593",
         "7075",
         "514",
         "4",
         "71",
         "11",
         " Male",
         "No",
         "No",
         "Asian",
         "580"
        ],
        [
         "3",
         "148.924",
         "9504",
         "681",
         "3",
         "36",
         "11",
         "Female",
         "No",
         "No",
         "Asian",
         "964"
        ],
        [
         "4",
         "55.882",
         "4897",
         "357",
         "2",
         "68",
         "16",
         " Male",
         "No",
         "Yes",
         "Caucasian",
         "331"
        ],
        [
         "5",
         "80.18",
         "8047",
         "569",
         "4",
         "77",
         "10",
         " Male",
         "No",
         "No",
         "Caucasian",
         "1151"
        ],
        [
         "6",
         "20.996",
         "3388",
         "259",
         "2",
         "37",
         "12",
         "Female",
         "No",
         "No",
         "African American",
         "203"
        ],
        [
         "7",
         "71.408",
         "7114",
         "512",
         "2",
         "87",
         "9",
         " Male",
         "No",
         "No",
         "Asian",
         "872"
        ],
        [
         "8",
         "15.125",
         "3300",
         "266",
         "5",
         "66",
         "13",
         "Female",
         "No",
         "No",
         "Caucasian",
         "279"
        ],
        [
         "9",
         "71.061",
         "6819",
         "491",
         "3",
         "41",
         "19",
         "Female",
         "Yes",
         "Yes",
         "African American",
         "1350"
        ],
        [
         "10",
         "63.095",
         "8117",
         "589",
         "4",
         "30",
         "14",
         " Male",
         "No",
         "Yes",
         "Caucasian",
         "1407"
        ],
        [
         "11",
         "15.045",
         "1311",
         "138",
         "3",
         "64",
         "16",
         " Male",
         "No",
         "No",
         "Caucasian",
         "0"
        ],
        [
         "12",
         "80.616",
         "5308",
         "394",
         "1",
         "57",
         "7",
         "Female",
         "No",
         "Yes",
         "Asian",
         "204"
        ],
        [
         "13",
         "43.682",
         "6922",
         "511",
         "1",
         "49",
         "9",
         " Male",
         "No",
         "Yes",
         "Caucasian",
         "1081"
        ],
        [
         "14",
         "19.144",
         "3291",
         "269",
         "2",
         "75",
         "13",
         "Female",
         "No",
         "No",
         "African American",
         "148"
        ],
        [
         "15",
         "20.089",
         "2525",
         "200",
         "3",
         "57",
         "15",
         "Female",
         "No",
         "Yes",
         "African American",
         "0"
        ],
        [
         "16",
         "53.598",
         "3714",
         "286",
         "3",
         "73",
         "17",
         "Female",
         "No",
         "Yes",
         "African American",
         "0"
        ],
        [
         "17",
         "36.496",
         "4378",
         "339",
         "3",
         "69",
         "15",
         "Female",
         "No",
         "Yes",
         "Asian",
         "368"
        ],
        [
         "18",
         "49.57",
         "6384",
         "448",
         "1",
         "28",
         "9",
         "Female",
         "No",
         "Yes",
         "Asian",
         "891"
        ],
        [
         "19",
         "42.079",
         "6626",
         "479",
         "2",
         "44",
         "9",
         " Male",
         "No",
         "No",
         "Asian",
         "1048"
        ],
        [
         "20",
         "17.7",
         "2860",
         "235",
         "4",
         "63",
         "16",
         "Female",
         "No",
         "No",
         "Asian",
         "89"
        ],
        [
         "21",
         "37.348",
         "6378",
         "458",
         "1",
         "72",
         "17",
         "Female",
         "No",
         "No",
         "Caucasian",
         "968"
        ],
        [
         "22",
         "20.103",
         "2631",
         "213",
         "3",
         "61",
         "10",
         " Male",
         "No",
         "Yes",
         "African American",
         "0"
        ],
        [
         "23",
         "64.027",
         "5179",
         "398",
         "5",
         "48",
         "8",
         " Male",
         "No",
         "Yes",
         "African American",
         "411"
        ],
        [
         "24",
         "10.742",
         "1757",
         "156",
         "3",
         "57",
         "15",
         "Female",
         "No",
         "No",
         "Caucasian",
         "0"
        ],
        [
         "25",
         "14.09",
         "4323",
         "326",
         "5",
         "25",
         "16",
         "Female",
         "No",
         "Yes",
         "African American",
         "671"
        ],
        [
         "26",
         "42.471",
         "3625",
         "289",
         "6",
         "44",
         "12",
         "Female",
         "Yes",
         "No",
         "Caucasian",
         "654"
        ],
        [
         "27",
         "32.793",
         "4534",
         "333",
         "2",
         "44",
         "16",
         " Male",
         "No",
         "No",
         "African American",
         "467"
        ],
        [
         "28",
         "186.634",
         "13414",
         "949",
         "2",
         "41",
         "14",
         "Female",
         "No",
         "Yes",
         "African American",
         "1809"
        ],
        [
         "29",
         "26.813",
         "5611",
         "411",
         "4",
         "55",
         "16",
         "Female",
         "No",
         "No",
         "Caucasian",
         "915"
        ],
        [
         "30",
         "34.142",
         "5666",
         "413",
         "4",
         "47",
         "5",
         "Female",
         "No",
         "Yes",
         "Caucasian",
         "863"
        ],
        [
         "31",
         "28.941",
         "2733",
         "210",
         "5",
         "43",
         "16",
         " Male",
         "No",
         "Yes",
         "Asian",
         "0"
        ],
        [
         "32",
         "134.181",
         "7838",
         "563",
         "2",
         "48",
         "13",
         "Female",
         "No",
         "No",
         "Caucasian",
         "526"
        ],
        [
         "33",
         "31.367",
         "1829",
         "162",
         "4",
         "30",
         "10",
         " Male",
         "No",
         "Yes",
         "Caucasian",
         "0"
        ],
        [
         "34",
         "20.15",
         "2646",
         "199",
         "2",
         "25",
         "14",
         "Female",
         "No",
         "Yes",
         "Asian",
         "0"
        ],
        [
         "35",
         "23.35",
         "2558",
         "220",
         "3",
         "49",
         "12",
         "Female",
         "Yes",
         "No",
         "Caucasian",
         "419"
        ],
        [
         "36",
         "62.413",
         "6457",
         "455",
         "2",
         "71",
         "11",
         "Female",
         "No",
         "Yes",
         "Caucasian",
         "762"
        ],
        [
         "37",
         "30.007",
         "6481",
         "462",
         "2",
         "69",
         "9",
         "Female",
         "No",
         "Yes",
         "Caucasian",
         "1093"
        ],
        [
         "38",
         "11.795",
         "3899",
         "300",
         "4",
         "25",
         "10",
         "Female",
         "No",
         "No",
         "Caucasian",
         "531"
        ],
        [
         "39",
         "13.647",
         "3461",
         "264",
         "4",
         "47",
         "14",
         " Male",
         "No",
         "Yes",
         "Caucasian",
         "344"
        ],
        [
         "40",
         "34.95",
         "3327",
         "253",
         "3",
         "54",
         "14",
         "Female",
         "No",
         "No",
         "African American",
         "50"
        ],
        [
         "41",
         "113.659",
         "7659",
         "538",
         "2",
         "66",
         "15",
         " Male",
         "Yes",
         "Yes",
         "African American",
         "1155"
        ],
        [
         "42",
         "44.158",
         "4763",
         "351",
         "2",
         "66",
         "13",
         "Female",
         "No",
         "Yes",
         "Asian",
         "385"
        ],
        [
         "43",
         "36.929",
         "6257",
         "445",
         "1",
         "24",
         "14",
         "Female",
         "No",
         "Yes",
         "Asian",
         "976"
        ],
        [
         "44",
         "31.861",
         "6375",
         "469",
         "3",
         "25",
         "16",
         "Female",
         "No",
         "Yes",
         "Caucasian",
         "1120"
        ],
        [
         "45",
         "77.38",
         "7569",
         "564",
         "3",
         "50",
         "12",
         "Female",
         "No",
         "Yes",
         "Caucasian",
         "997"
        ],
        [
         "46",
         "19.531",
         "5043",
         "376",
         "2",
         "64",
         "16",
         "Female",
         "Yes",
         "Yes",
         "Asian",
         "1241"
        ],
        [
         "47",
         "44.646",
         "4431",
         "320",
         "2",
         "49",
         "15",
         " Male",
         "Yes",
         "Yes",
         "Caucasian",
         "797"
        ],
        [
         "48",
         "44.522",
         "2252",
         "205",
         "6",
         "72",
         "15",
         " Male",
         "No",
         "Yes",
         "Asian",
         "0"
        ],
        [
         "49",
         "43.479",
         "4569",
         "354",
         "4",
         "49",
         "13",
         " Male",
         "Yes",
         "Yes",
         "African American",
         "902"
        ]
       ],
       "shape": {
        "columns": 11,
        "rows": 400
       }
      },
      "text/html": [
       "<div>\n",
       "<style scoped>\n",
       "    .dataframe tbody tr th:only-of-type {\n",
       "        vertical-align: middle;\n",
       "    }\n",
       "\n",
       "    .dataframe tbody tr th {\n",
       "        vertical-align: top;\n",
       "    }\n",
       "\n",
       "    .dataframe thead th {\n",
       "        text-align: right;\n",
       "    }\n",
       "</style>\n",
       "<table border=\"1\" class=\"dataframe\">\n",
       "  <thead>\n",
       "    <tr style=\"text-align: right;\">\n",
       "      <th></th>\n",
       "      <th>Income</th>\n",
       "      <th>Limit</th>\n",
       "      <th>Rating</th>\n",
       "      <th>Cards</th>\n",
       "      <th>Age</th>\n",
       "      <th>Education</th>\n",
       "      <th>Gender</th>\n",
       "      <th>Student</th>\n",
       "      <th>Married</th>\n",
       "      <th>Ethnicity</th>\n",
       "      <th>Balance</th>\n",
       "    </tr>\n",
       "  </thead>\n",
       "  <tbody>\n",
       "    <tr>\n",
       "      <th>0</th>\n",
       "      <td>14.891</td>\n",
       "      <td>3606</td>\n",
       "      <td>283</td>\n",
       "      <td>2</td>\n",
       "      <td>34</td>\n",
       "      <td>11</td>\n",
       "      <td>Male</td>\n",
       "      <td>No</td>\n",
       "      <td>Yes</td>\n",
       "      <td>Caucasian</td>\n",
       "      <td>333</td>\n",
       "    </tr>\n",
       "    <tr>\n",
       "      <th>1</th>\n",
       "      <td>106.025</td>\n",
       "      <td>6645</td>\n",
       "      <td>483</td>\n",
       "      <td>3</td>\n",
       "      <td>82</td>\n",
       "      <td>15</td>\n",
       "      <td>Female</td>\n",
       "      <td>Yes</td>\n",
       "      <td>Yes</td>\n",
       "      <td>Asian</td>\n",
       "      <td>903</td>\n",
       "    </tr>\n",
       "    <tr>\n",
       "      <th>2</th>\n",
       "      <td>104.593</td>\n",
       "      <td>7075</td>\n",
       "      <td>514</td>\n",
       "      <td>4</td>\n",
       "      <td>71</td>\n",
       "      <td>11</td>\n",
       "      <td>Male</td>\n",
       "      <td>No</td>\n",
       "      <td>No</td>\n",
       "      <td>Asian</td>\n",
       "      <td>580</td>\n",
       "    </tr>\n",
       "    <tr>\n",
       "      <th>3</th>\n",
       "      <td>148.924</td>\n",
       "      <td>9504</td>\n",
       "      <td>681</td>\n",
       "      <td>3</td>\n",
       "      <td>36</td>\n",
       "      <td>11</td>\n",
       "      <td>Female</td>\n",
       "      <td>No</td>\n",
       "      <td>No</td>\n",
       "      <td>Asian</td>\n",
       "      <td>964</td>\n",
       "    </tr>\n",
       "    <tr>\n",
       "      <th>4</th>\n",
       "      <td>55.882</td>\n",
       "      <td>4897</td>\n",
       "      <td>357</td>\n",
       "      <td>2</td>\n",
       "      <td>68</td>\n",
       "      <td>16</td>\n",
       "      <td>Male</td>\n",
       "      <td>No</td>\n",
       "      <td>Yes</td>\n",
       "      <td>Caucasian</td>\n",
       "      <td>331</td>\n",
       "    </tr>\n",
       "    <tr>\n",
       "      <th>...</th>\n",
       "      <td>...</td>\n",
       "      <td>...</td>\n",
       "      <td>...</td>\n",
       "      <td>...</td>\n",
       "      <td>...</td>\n",
       "      <td>...</td>\n",
       "      <td>...</td>\n",
       "      <td>...</td>\n",
       "      <td>...</td>\n",
       "      <td>...</td>\n",
       "      <td>...</td>\n",
       "    </tr>\n",
       "    <tr>\n",
       "      <th>395</th>\n",
       "      <td>12.096</td>\n",
       "      <td>4100</td>\n",
       "      <td>307</td>\n",
       "      <td>3</td>\n",
       "      <td>32</td>\n",
       "      <td>13</td>\n",
       "      <td>Male</td>\n",
       "      <td>No</td>\n",
       "      <td>Yes</td>\n",
       "      <td>Caucasian</td>\n",
       "      <td>560</td>\n",
       "    </tr>\n",
       "    <tr>\n",
       "      <th>396</th>\n",
       "      <td>13.364</td>\n",
       "      <td>3838</td>\n",
       "      <td>296</td>\n",
       "      <td>5</td>\n",
       "      <td>65</td>\n",
       "      <td>17</td>\n",
       "      <td>Male</td>\n",
       "      <td>No</td>\n",
       "      <td>No</td>\n",
       "      <td>African American</td>\n",
       "      <td>480</td>\n",
       "    </tr>\n",
       "    <tr>\n",
       "      <th>397</th>\n",
       "      <td>57.872</td>\n",
       "      <td>4171</td>\n",
       "      <td>321</td>\n",
       "      <td>5</td>\n",
       "      <td>67</td>\n",
       "      <td>12</td>\n",
       "      <td>Female</td>\n",
       "      <td>No</td>\n",
       "      <td>Yes</td>\n",
       "      <td>Caucasian</td>\n",
       "      <td>138</td>\n",
       "    </tr>\n",
       "    <tr>\n",
       "      <th>398</th>\n",
       "      <td>37.728</td>\n",
       "      <td>2525</td>\n",
       "      <td>192</td>\n",
       "      <td>1</td>\n",
       "      <td>44</td>\n",
       "      <td>13</td>\n",
       "      <td>Male</td>\n",
       "      <td>No</td>\n",
       "      <td>Yes</td>\n",
       "      <td>Caucasian</td>\n",
       "      <td>0</td>\n",
       "    </tr>\n",
       "    <tr>\n",
       "      <th>399</th>\n",
       "      <td>18.701</td>\n",
       "      <td>5524</td>\n",
       "      <td>415</td>\n",
       "      <td>5</td>\n",
       "      <td>64</td>\n",
       "      <td>7</td>\n",
       "      <td>Female</td>\n",
       "      <td>No</td>\n",
       "      <td>No</td>\n",
       "      <td>Asian</td>\n",
       "      <td>966</td>\n",
       "    </tr>\n",
       "  </tbody>\n",
       "</table>\n",
       "<p>400 rows × 11 columns</p>\n",
       "</div>"
      ],
      "text/plain": [
       "      Income  Limit  Rating  Cards  Age  Education  Gender Student Married  \\\n",
       "0     14.891   3606     283      2   34         11    Male      No     Yes   \n",
       "1    106.025   6645     483      3   82         15  Female     Yes     Yes   \n",
       "2    104.593   7075     514      4   71         11    Male      No      No   \n",
       "3    148.924   9504     681      3   36         11  Female      No      No   \n",
       "4     55.882   4897     357      2   68         16    Male      No     Yes   \n",
       "..       ...    ...     ...    ...  ...        ...     ...     ...     ...   \n",
       "395   12.096   4100     307      3   32         13    Male      No     Yes   \n",
       "396   13.364   3838     296      5   65         17    Male      No      No   \n",
       "397   57.872   4171     321      5   67         12  Female      No     Yes   \n",
       "398   37.728   2525     192      1   44         13    Male      No     Yes   \n",
       "399   18.701   5524     415      5   64          7  Female      No      No   \n",
       "\n",
       "            Ethnicity  Balance  \n",
       "0           Caucasian      333  \n",
       "1               Asian      903  \n",
       "2               Asian      580  \n",
       "3               Asian      964  \n",
       "4           Caucasian      331  \n",
       "..                ...      ...  \n",
       "395         Caucasian      560  \n",
       "396  African American      480  \n",
       "397         Caucasian      138  \n",
       "398         Caucasian        0  \n",
       "399             Asian      966  \n",
       "\n",
       "[400 rows x 11 columns]"
      ]
     },
     "execution_count": 3,
     "metadata": {},
     "output_type": "execute_result"
    }
   ],
   "source": [
    "# Credit ratings dataset\n",
    "credit = pd.read_csv('https://github.com/Daniel-Uhr/data/raw/main/Credit.csv', usecols=list(range(1,12)))\n",
    "credit"
   ]
  },
  {
   "cell_type": "markdown",
   "metadata": {},
   "source": [
    "Vamos analisar a relação entre ***características individuais*** e `Balance` da conta no conjunto de dados `Credit`."
   ]
  },
  {
   "cell_type": "code",
   "execution_count": 4,
   "metadata": {},
   "outputs": [],
   "source": [
    "# X and y\n",
    "X = credit.loc[:, credit.columns != 'Balance']\n",
    "y = credit.loc[:,'Balance']"
   ]
  },
  {
   "cell_type": "code",
   "execution_count": 5,
   "metadata": {},
   "outputs": [
    {
     "data": {
      "application/vnd.microsoft.datawrangler.viewer.v0+json": {
       "columns": [
        {
         "name": "index",
         "rawType": "int64",
         "type": "integer"
        },
        {
         "name": "Income",
         "rawType": "float64",
         "type": "float"
        },
        {
         "name": "Limit",
         "rawType": "int64",
         "type": "integer"
        },
        {
         "name": "Rating",
         "rawType": "int64",
         "type": "integer"
        },
        {
         "name": "Cards",
         "rawType": "int64",
         "type": "integer"
        },
        {
         "name": "Age",
         "rawType": "int64",
         "type": "integer"
        },
        {
         "name": "Education",
         "rawType": "int64",
         "type": "integer"
        },
        {
         "name": "Gender",
         "rawType": "object",
         "type": "string"
        },
        {
         "name": "Student",
         "rawType": "object",
         "type": "string"
        },
        {
         "name": "Married",
         "rawType": "object",
         "type": "string"
        },
        {
         "name": "Ethnicity",
         "rawType": "object",
         "type": "string"
        }
       ],
       "ref": "6daf743a-f5aa-4b29-9960-1da306032ba7",
       "rows": [
        [
         "0",
         "14.891",
         "3606",
         "283",
         "2",
         "34",
         "11",
         " Male",
         "No",
         "Yes",
         "Caucasian"
        ],
        [
         "1",
         "106.025",
         "6645",
         "483",
         "3",
         "82",
         "15",
         "Female",
         "Yes",
         "Yes",
         "Asian"
        ],
        [
         "2",
         "104.593",
         "7075",
         "514",
         "4",
         "71",
         "11",
         " Male",
         "No",
         "No",
         "Asian"
        ],
        [
         "3",
         "148.924",
         "9504",
         "681",
         "3",
         "36",
         "11",
         "Female",
         "No",
         "No",
         "Asian"
        ],
        [
         "4",
         "55.882",
         "4897",
         "357",
         "2",
         "68",
         "16",
         " Male",
         "No",
         "Yes",
         "Caucasian"
        ],
        [
         "5",
         "80.18",
         "8047",
         "569",
         "4",
         "77",
         "10",
         " Male",
         "No",
         "No",
         "Caucasian"
        ],
        [
         "6",
         "20.996",
         "3388",
         "259",
         "2",
         "37",
         "12",
         "Female",
         "No",
         "No",
         "African American"
        ],
        [
         "7",
         "71.408",
         "7114",
         "512",
         "2",
         "87",
         "9",
         " Male",
         "No",
         "No",
         "Asian"
        ],
        [
         "8",
         "15.125",
         "3300",
         "266",
         "5",
         "66",
         "13",
         "Female",
         "No",
         "No",
         "Caucasian"
        ],
        [
         "9",
         "71.061",
         "6819",
         "491",
         "3",
         "41",
         "19",
         "Female",
         "Yes",
         "Yes",
         "African American"
        ],
        [
         "10",
         "63.095",
         "8117",
         "589",
         "4",
         "30",
         "14",
         " Male",
         "No",
         "Yes",
         "Caucasian"
        ],
        [
         "11",
         "15.045",
         "1311",
         "138",
         "3",
         "64",
         "16",
         " Male",
         "No",
         "No",
         "Caucasian"
        ],
        [
         "12",
         "80.616",
         "5308",
         "394",
         "1",
         "57",
         "7",
         "Female",
         "No",
         "Yes",
         "Asian"
        ],
        [
         "13",
         "43.682",
         "6922",
         "511",
         "1",
         "49",
         "9",
         " Male",
         "No",
         "Yes",
         "Caucasian"
        ],
        [
         "14",
         "19.144",
         "3291",
         "269",
         "2",
         "75",
         "13",
         "Female",
         "No",
         "No",
         "African American"
        ],
        [
         "15",
         "20.089",
         "2525",
         "200",
         "3",
         "57",
         "15",
         "Female",
         "No",
         "Yes",
         "African American"
        ],
        [
         "16",
         "53.598",
         "3714",
         "286",
         "3",
         "73",
         "17",
         "Female",
         "No",
         "Yes",
         "African American"
        ],
        [
         "17",
         "36.496",
         "4378",
         "339",
         "3",
         "69",
         "15",
         "Female",
         "No",
         "Yes",
         "Asian"
        ],
        [
         "18",
         "49.57",
         "6384",
         "448",
         "1",
         "28",
         "9",
         "Female",
         "No",
         "Yes",
         "Asian"
        ],
        [
         "19",
         "42.079",
         "6626",
         "479",
         "2",
         "44",
         "9",
         " Male",
         "No",
         "No",
         "Asian"
        ],
        [
         "20",
         "17.7",
         "2860",
         "235",
         "4",
         "63",
         "16",
         "Female",
         "No",
         "No",
         "Asian"
        ],
        [
         "21",
         "37.348",
         "6378",
         "458",
         "1",
         "72",
         "17",
         "Female",
         "No",
         "No",
         "Caucasian"
        ],
        [
         "22",
         "20.103",
         "2631",
         "213",
         "3",
         "61",
         "10",
         " Male",
         "No",
         "Yes",
         "African American"
        ],
        [
         "23",
         "64.027",
         "5179",
         "398",
         "5",
         "48",
         "8",
         " Male",
         "No",
         "Yes",
         "African American"
        ],
        [
         "24",
         "10.742",
         "1757",
         "156",
         "3",
         "57",
         "15",
         "Female",
         "No",
         "No",
         "Caucasian"
        ],
        [
         "25",
         "14.09",
         "4323",
         "326",
         "5",
         "25",
         "16",
         "Female",
         "No",
         "Yes",
         "African American"
        ],
        [
         "26",
         "42.471",
         "3625",
         "289",
         "6",
         "44",
         "12",
         "Female",
         "Yes",
         "No",
         "Caucasian"
        ],
        [
         "27",
         "32.793",
         "4534",
         "333",
         "2",
         "44",
         "16",
         " Male",
         "No",
         "No",
         "African American"
        ],
        [
         "28",
         "186.634",
         "13414",
         "949",
         "2",
         "41",
         "14",
         "Female",
         "No",
         "Yes",
         "African American"
        ],
        [
         "29",
         "26.813",
         "5611",
         "411",
         "4",
         "55",
         "16",
         "Female",
         "No",
         "No",
         "Caucasian"
        ],
        [
         "30",
         "34.142",
         "5666",
         "413",
         "4",
         "47",
         "5",
         "Female",
         "No",
         "Yes",
         "Caucasian"
        ],
        [
         "31",
         "28.941",
         "2733",
         "210",
         "5",
         "43",
         "16",
         " Male",
         "No",
         "Yes",
         "Asian"
        ],
        [
         "32",
         "134.181",
         "7838",
         "563",
         "2",
         "48",
         "13",
         "Female",
         "No",
         "No",
         "Caucasian"
        ],
        [
         "33",
         "31.367",
         "1829",
         "162",
         "4",
         "30",
         "10",
         " Male",
         "No",
         "Yes",
         "Caucasian"
        ],
        [
         "34",
         "20.15",
         "2646",
         "199",
         "2",
         "25",
         "14",
         "Female",
         "No",
         "Yes",
         "Asian"
        ],
        [
         "35",
         "23.35",
         "2558",
         "220",
         "3",
         "49",
         "12",
         "Female",
         "Yes",
         "No",
         "Caucasian"
        ],
        [
         "36",
         "62.413",
         "6457",
         "455",
         "2",
         "71",
         "11",
         "Female",
         "No",
         "Yes",
         "Caucasian"
        ],
        [
         "37",
         "30.007",
         "6481",
         "462",
         "2",
         "69",
         "9",
         "Female",
         "No",
         "Yes",
         "Caucasian"
        ],
        [
         "38",
         "11.795",
         "3899",
         "300",
         "4",
         "25",
         "10",
         "Female",
         "No",
         "No",
         "Caucasian"
        ],
        [
         "39",
         "13.647",
         "3461",
         "264",
         "4",
         "47",
         "14",
         " Male",
         "No",
         "Yes",
         "Caucasian"
        ],
        [
         "40",
         "34.95",
         "3327",
         "253",
         "3",
         "54",
         "14",
         "Female",
         "No",
         "No",
         "African American"
        ],
        [
         "41",
         "113.659",
         "7659",
         "538",
         "2",
         "66",
         "15",
         " Male",
         "Yes",
         "Yes",
         "African American"
        ],
        [
         "42",
         "44.158",
         "4763",
         "351",
         "2",
         "66",
         "13",
         "Female",
         "No",
         "Yes",
         "Asian"
        ],
        [
         "43",
         "36.929",
         "6257",
         "445",
         "1",
         "24",
         "14",
         "Female",
         "No",
         "Yes",
         "Asian"
        ],
        [
         "44",
         "31.861",
         "6375",
         "469",
         "3",
         "25",
         "16",
         "Female",
         "No",
         "Yes",
         "Caucasian"
        ],
        [
         "45",
         "77.38",
         "7569",
         "564",
         "3",
         "50",
         "12",
         "Female",
         "No",
         "Yes",
         "Caucasian"
        ],
        [
         "46",
         "19.531",
         "5043",
         "376",
         "2",
         "64",
         "16",
         "Female",
         "Yes",
         "Yes",
         "Asian"
        ],
        [
         "47",
         "44.646",
         "4431",
         "320",
         "2",
         "49",
         "15",
         " Male",
         "Yes",
         "Yes",
         "Caucasian"
        ],
        [
         "48",
         "44.522",
         "2252",
         "205",
         "6",
         "72",
         "15",
         " Male",
         "No",
         "Yes",
         "Asian"
        ],
        [
         "49",
         "43.479",
         "4569",
         "354",
         "4",
         "49",
         "13",
         " Male",
         "Yes",
         "Yes",
         "African American"
        ]
       ],
       "shape": {
        "columns": 10,
        "rows": 400
       }
      },
      "text/html": [
       "<div>\n",
       "<style scoped>\n",
       "    .dataframe tbody tr th:only-of-type {\n",
       "        vertical-align: middle;\n",
       "    }\n",
       "\n",
       "    .dataframe tbody tr th {\n",
       "        vertical-align: top;\n",
       "    }\n",
       "\n",
       "    .dataframe thead th {\n",
       "        text-align: right;\n",
       "    }\n",
       "</style>\n",
       "<table border=\"1\" class=\"dataframe\">\n",
       "  <thead>\n",
       "    <tr style=\"text-align: right;\">\n",
       "      <th></th>\n",
       "      <th>Income</th>\n",
       "      <th>Limit</th>\n",
       "      <th>Rating</th>\n",
       "      <th>Cards</th>\n",
       "      <th>Age</th>\n",
       "      <th>Education</th>\n",
       "      <th>Gender</th>\n",
       "      <th>Student</th>\n",
       "      <th>Married</th>\n",
       "      <th>Ethnicity</th>\n",
       "    </tr>\n",
       "  </thead>\n",
       "  <tbody>\n",
       "    <tr>\n",
       "      <th>0</th>\n",
       "      <td>14.891</td>\n",
       "      <td>3606</td>\n",
       "      <td>283</td>\n",
       "      <td>2</td>\n",
       "      <td>34</td>\n",
       "      <td>11</td>\n",
       "      <td>Male</td>\n",
       "      <td>No</td>\n",
       "      <td>Yes</td>\n",
       "      <td>Caucasian</td>\n",
       "    </tr>\n",
       "    <tr>\n",
       "      <th>1</th>\n",
       "      <td>106.025</td>\n",
       "      <td>6645</td>\n",
       "      <td>483</td>\n",
       "      <td>3</td>\n",
       "      <td>82</td>\n",
       "      <td>15</td>\n",
       "      <td>Female</td>\n",
       "      <td>Yes</td>\n",
       "      <td>Yes</td>\n",
       "      <td>Asian</td>\n",
       "    </tr>\n",
       "    <tr>\n",
       "      <th>2</th>\n",
       "      <td>104.593</td>\n",
       "      <td>7075</td>\n",
       "      <td>514</td>\n",
       "      <td>4</td>\n",
       "      <td>71</td>\n",
       "      <td>11</td>\n",
       "      <td>Male</td>\n",
       "      <td>No</td>\n",
       "      <td>No</td>\n",
       "      <td>Asian</td>\n",
       "    </tr>\n",
       "    <tr>\n",
       "      <th>3</th>\n",
       "      <td>148.924</td>\n",
       "      <td>9504</td>\n",
       "      <td>681</td>\n",
       "      <td>3</td>\n",
       "      <td>36</td>\n",
       "      <td>11</td>\n",
       "      <td>Female</td>\n",
       "      <td>No</td>\n",
       "      <td>No</td>\n",
       "      <td>Asian</td>\n",
       "    </tr>\n",
       "    <tr>\n",
       "      <th>4</th>\n",
       "      <td>55.882</td>\n",
       "      <td>4897</td>\n",
       "      <td>357</td>\n",
       "      <td>2</td>\n",
       "      <td>68</td>\n",
       "      <td>16</td>\n",
       "      <td>Male</td>\n",
       "      <td>No</td>\n",
       "      <td>Yes</td>\n",
       "      <td>Caucasian</td>\n",
       "    </tr>\n",
       "    <tr>\n",
       "      <th>...</th>\n",
       "      <td>...</td>\n",
       "      <td>...</td>\n",
       "      <td>...</td>\n",
       "      <td>...</td>\n",
       "      <td>...</td>\n",
       "      <td>...</td>\n",
       "      <td>...</td>\n",
       "      <td>...</td>\n",
       "      <td>...</td>\n",
       "      <td>...</td>\n",
       "    </tr>\n",
       "    <tr>\n",
       "      <th>395</th>\n",
       "      <td>12.096</td>\n",
       "      <td>4100</td>\n",
       "      <td>307</td>\n",
       "      <td>3</td>\n",
       "      <td>32</td>\n",
       "      <td>13</td>\n",
       "      <td>Male</td>\n",
       "      <td>No</td>\n",
       "      <td>Yes</td>\n",
       "      <td>Caucasian</td>\n",
       "    </tr>\n",
       "    <tr>\n",
       "      <th>396</th>\n",
       "      <td>13.364</td>\n",
       "      <td>3838</td>\n",
       "      <td>296</td>\n",
       "      <td>5</td>\n",
       "      <td>65</td>\n",
       "      <td>17</td>\n",
       "      <td>Male</td>\n",
       "      <td>No</td>\n",
       "      <td>No</td>\n",
       "      <td>African American</td>\n",
       "    </tr>\n",
       "    <tr>\n",
       "      <th>397</th>\n",
       "      <td>57.872</td>\n",
       "      <td>4171</td>\n",
       "      <td>321</td>\n",
       "      <td>5</td>\n",
       "      <td>67</td>\n",
       "      <td>12</td>\n",
       "      <td>Female</td>\n",
       "      <td>No</td>\n",
       "      <td>Yes</td>\n",
       "      <td>Caucasian</td>\n",
       "    </tr>\n",
       "    <tr>\n",
       "      <th>398</th>\n",
       "      <td>37.728</td>\n",
       "      <td>2525</td>\n",
       "      <td>192</td>\n",
       "      <td>1</td>\n",
       "      <td>44</td>\n",
       "      <td>13</td>\n",
       "      <td>Male</td>\n",
       "      <td>No</td>\n",
       "      <td>Yes</td>\n",
       "      <td>Caucasian</td>\n",
       "    </tr>\n",
       "    <tr>\n",
       "      <th>399</th>\n",
       "      <td>18.701</td>\n",
       "      <td>5524</td>\n",
       "      <td>415</td>\n",
       "      <td>5</td>\n",
       "      <td>64</td>\n",
       "      <td>7</td>\n",
       "      <td>Female</td>\n",
       "      <td>No</td>\n",
       "      <td>No</td>\n",
       "      <td>Asian</td>\n",
       "    </tr>\n",
       "  </tbody>\n",
       "</table>\n",
       "<p>400 rows × 10 columns</p>\n",
       "</div>"
      ],
      "text/plain": [
       "      Income  Limit  Rating  Cards  Age  Education  Gender Student Married  \\\n",
       "0     14.891   3606     283      2   34         11    Male      No     Yes   \n",
       "1    106.025   6645     483      3   82         15  Female     Yes     Yes   \n",
       "2    104.593   7075     514      4   71         11    Male      No      No   \n",
       "3    148.924   9504     681      3   36         11  Female      No      No   \n",
       "4     55.882   4897     357      2   68         16    Male      No     Yes   \n",
       "..       ...    ...     ...    ...  ...        ...     ...     ...     ...   \n",
       "395   12.096   4100     307      3   32         13    Male      No     Yes   \n",
       "396   13.364   3838     296      5   65         17    Male      No      No   \n",
       "397   57.872   4171     321      5   67         12  Female      No     Yes   \n",
       "398   37.728   2525     192      1   44         13    Male      No     Yes   \n",
       "399   18.701   5524     415      5   64          7  Female      No      No   \n",
       "\n",
       "            Ethnicity  \n",
       "0           Caucasian  \n",
       "1               Asian  \n",
       "2               Asian  \n",
       "3               Asian  \n",
       "4           Caucasian  \n",
       "..                ...  \n",
       "395         Caucasian  \n",
       "396  African American  \n",
       "397         Caucasian  \n",
       "398         Caucasian  \n",
       "399             Asian  \n",
       "\n",
       "[400 rows x 10 columns]"
      ]
     },
     "execution_count": 5,
     "metadata": {},
     "output_type": "execute_result"
    }
   ],
   "source": [
    "X"
   ]
  },
  {
   "cell_type": "code",
   "execution_count": 6,
   "metadata": {},
   "outputs": [
    {
     "data": {
      "application/vnd.microsoft.datawrangler.viewer.v0+json": {
       "columns": [
        {
         "name": "index",
         "rawType": "int64",
         "type": "integer"
        },
        {
         "name": "Balance",
         "rawType": "int64",
         "type": "integer"
        }
       ],
       "ref": "e6886872-59bf-4035-a150-bfbd5e3d5922",
       "rows": [
        [
         "0",
         "333"
        ],
        [
         "1",
         "903"
        ],
        [
         "2",
         "580"
        ],
        [
         "3",
         "964"
        ],
        [
         "4",
         "331"
        ],
        [
         "5",
         "1151"
        ],
        [
         "6",
         "203"
        ],
        [
         "7",
         "872"
        ],
        [
         "8",
         "279"
        ],
        [
         "9",
         "1350"
        ],
        [
         "10",
         "1407"
        ],
        [
         "11",
         "0"
        ],
        [
         "12",
         "204"
        ],
        [
         "13",
         "1081"
        ],
        [
         "14",
         "148"
        ],
        [
         "15",
         "0"
        ],
        [
         "16",
         "0"
        ],
        [
         "17",
         "368"
        ],
        [
         "18",
         "891"
        ],
        [
         "19",
         "1048"
        ],
        [
         "20",
         "89"
        ],
        [
         "21",
         "968"
        ],
        [
         "22",
         "0"
        ],
        [
         "23",
         "411"
        ],
        [
         "24",
         "0"
        ],
        [
         "25",
         "671"
        ],
        [
         "26",
         "654"
        ],
        [
         "27",
         "467"
        ],
        [
         "28",
         "1809"
        ],
        [
         "29",
         "915"
        ],
        [
         "30",
         "863"
        ],
        [
         "31",
         "0"
        ],
        [
         "32",
         "526"
        ],
        [
         "33",
         "0"
        ],
        [
         "34",
         "0"
        ],
        [
         "35",
         "419"
        ],
        [
         "36",
         "762"
        ],
        [
         "37",
         "1093"
        ],
        [
         "38",
         "531"
        ],
        [
         "39",
         "344"
        ],
        [
         "40",
         "50"
        ],
        [
         "41",
         "1155"
        ],
        [
         "42",
         "385"
        ],
        [
         "43",
         "976"
        ],
        [
         "44",
         "1120"
        ],
        [
         "45",
         "997"
        ],
        [
         "46",
         "1241"
        ],
        [
         "47",
         "797"
        ],
        [
         "48",
         "0"
        ],
        [
         "49",
         "902"
        ]
       ],
       "shape": {
        "columns": 1,
        "rows": 400
       }
      },
      "text/plain": [
       "0      333\n",
       "1      903\n",
       "2      580\n",
       "3      964\n",
       "4      331\n",
       "      ... \n",
       "395    560\n",
       "396    480\n",
       "397    138\n",
       "398      0\n",
       "399    966\n",
       "Name: Balance, Length: 400, dtype: int64"
      ]
     },
     "execution_count": 6,
     "metadata": {},
     "output_type": "execute_result"
    }
   ],
   "source": [
    "y"
   ]
  },
  {
   "cell_type": "markdown",
   "metadata": {},
   "source": [
    "### 2.1. Melhor Seleção de Subconjunto\n",
    "\n",
    "A **melhor seleção de subconjunto** consiste em ajustar uma regressão de mínimos quadrados separada para **cada combinação possível** de preditores. Ou seja, ajustamos:\n",
    "\n",
    "- todos os modelos que contêm exatamente um preditor;\n",
    "- todos os modelos que contêm exatamente dois preditores;\n",
    "- e assim por diante, até considerar o modelo com todos os preditores.\n",
    "\n",
    "Em seguida, comparamos todos os modelos resultantes, com o objetivo de identificar aquele que apresenta o melhor desempenho segundo algum critério (como $R^2$, RSS, BIC, ou AIC).\n",
    "\n",
    "**Claramente, a principal desvantagem da melhor seleção de subconjunto é o seu elevado custo computacional**, especialmente quando o número de preditores $p$ é grande, pois o número de modelos possíveis cresce exponencialmente com $p$.\n",
    "\n",
    "* O total de modelos possíveis é dado por $2^p$, considerando o modelo nulo (sem preditores).\n",
    "* As combinações de $k$ preditores dentre os $p$ disponíveis é dada por $\\binom{p}{k} = \\frac{p!}{k!(p-k)!}$.\n",
    "\n",
    "\n",
    "A seguir, apresentamos uma função que implementa essa abordagem em Python, permitindo avaliar diferentes combinações de variáveis de acordo com múltiplas métricas. Ou seja, o código gera todas as combinações possíveis de $k$ variáveis entre as $K$ disponíveis. Por exemplo:\n",
    "* Se $K=3$, o total de combinações possíveis é $2^3 = 8$. Seguindo a ideia da busca por subconjuntos, começamos estimando com o modelo nulo (sem variáveis, $k=0$) e vamos até o modelo completo (com todas as variáveis, $k=3$). \n",
    "* Por exemplo, considerando a rodada de análise com apenas $k=2$ (modelo considerado com 2 variáveis), teríamos as combinações $\\binom{3}{2} = \\frac{3!}{2!(3-2)!} = 3$, ou seja, (var1, var2), (var1, var3), (var2, var3).\n",
    "* Então, o código vai ajustar uma regressão para cada combinação possível. E depois verifica-se as métricas de desempenho dos modelos.\n"
   ]
  },
  {
   "cell_type": "code",
   "execution_count": 7,
   "metadata": {},
   "outputs": [],
   "source": [
    "def model_selection(X, y, *args):\n",
    "    \"\"\"\n",
    "    Função para seleção de modelo avaliando diferentes combinações de variáveis.\n",
    "\n",
    "    Parâmetros:\n",
    "    - X: DataFrame com variáveis explicativas.\n",
    "    - y: Série ou array com variável dependente.\n",
    "    - *args: funções que recebem um modelo ajustado e retornam um score (e.g., RSS, R²).\n",
    "\n",
    "    Retorno:\n",
    "    - Lista de arrays, cada um com colunas: [número de variáveis, valor da métrica]\n",
    "    \"\"\"\n",
    "    \n",
    "    # Inicializa listas para armazenar os scores\n",
    "    scores = list(itertools.repeat(np.zeros((0, 2)), len(args)))\n",
    "\n",
    "    # Variáveis categóricas a serem convertidas em dummies\n",
    "    categ_cols = {\"Gender\", \"Student\", \"Married\", \"Ethnicity\"}\n",
    "\n",
    "    # Número total de variáveis\n",
    "    K = np.shape(X)[1]\n",
    "\n",
    "    # Loop sobre o número de variáveis a serem incluídas (de 0 até K)\n",
    "    for k in range(K + 1):\n",
    "        print(f\"Computing k={k}\", end=\"\")\n",
    "\n",
    "        # Todas as combinações possíveis de k variáveis\n",
    "        for i in combinations(range(K), k):\n",
    "\n",
    "            # Subconjunto de variáveis\n",
    "            X_subset = X.iloc[:, list(i)].copy()\n",
    "\n",
    "            # Tratamento de variáveis categóricas\n",
    "            if k > 0:\n",
    "                categ_subset = list(categ_cols & set(X_subset.columns))\n",
    "                X_subset = pd.get_dummies(X_subset, columns=categ_subset, drop_first=True)\n",
    "\n",
    "            # Conversão para float para evitar erro no statsmodels\n",
    "            if k > 0:\n",
    "                X_subset = X_subset.astype(float)\n",
    "            \n",
    "            # Adiciona constante\n",
    "            X_reg = add_constant(X_subset, has_constant='add') if k > 0 else np.ones((len(y), 1))\n",
    "\n",
    "            # Ajusta modelo\n",
    "            reg = OLS(y, X_reg).fit()\n",
    "\n",
    "            # Calcula e armazena as métricas\n",
    "            for j, metric in enumerate(args):\n",
    "                score = np.reshape([k, metric(reg)], (1, -1))\n",
    "                scores[j] = np.append(scores[j], score, axis=0)\n",
    "        \n",
    "        print(\"\", end=\"\\r\")\n",
    "\n",
    "    return scores"
   ]
  },
  {
   "cell_type": "markdown",
   "metadata": {},
   "source": [
    "Vamos considerar, neste exemplo, 10 variáveis explicativas (É o que temos no dataframe $X$, logo, $p=10$) e duas métricas de avaliação para a seleção de modelos:\n",
    "\n",
    "- **Soma dos Quadrados dos Resíduos** (RSS — *Residual Sum of Squares*), que mede o erro de ajuste.\n",
    "- **Coeficiente de Determinação** ($R^2$), que mede a proporção da variabilidade da resposta explicada pelo modelo.\n",
    "\n",
    "A seguir, definimos essas métricas como funções e utilizamos a função `model_selection` para calcular as pontuações de todos os modelos possíveis."
   ]
  },
  {
   "cell_type": "code",
   "execution_count": 8,
   "metadata": {},
   "outputs": [
    {
     "name": "stdout",
     "output_type": "stream",
     "text": [
      "Computing k=10\r"
     ]
    }
   ],
   "source": [
    "# Métricas selecionadas\n",
    "rss = lambda reg : reg.ssr\n",
    "r2 = lambda reg : reg.rsquared\n",
    "\n",
    "# Compute scores\n",
    "scores = model_selection(X, y, rss, r2)\n",
    "ms_RSS = scores[0]\n",
    "ms_R2 = scores[1]"
   ]
  },
  {
   "cell_type": "markdown",
   "metadata": {},
   "source": [
    "* função `lambda`, cria uma função que:\n",
    "  * Recebe argumentos (\"reg\")\n",
    "  * Retorna o valor da expressão (\"reg.ssr\", ou \"reg.rsquared\")\n",
    "\n",
    "A função `model_selection`\n",
    "* Gera todos os subconjuntos possíveis de preditores (de 0 até K variáveis).\n",
    "* Para cada subconjunto, ajusta um modelo de regressão OLS com `statsmodels`.\n",
    "* Para cada modelo ajustado, aplica:\n",
    "  * rss(modelo) → extrai o RSS.\n",
    "  * r2(modelo) → extrai o R².\n",
    "* Guarda o resultado:\n",
    "  * O número de variáveis (k).\n",
    "  * O valor da métrica (rss ou r2).\n",
    "* No fim, `model_selection` retorna:\n",
    "  * Uma lista com dois arrays.\n",
    "    * scores[0]: array com todos os resultados da métrica RSS.\n",
    "    * scores[1]: array com todos os resultados da métrica R²."
   ]
  },
  {
   "cell_type": "code",
   "execution_count": 9,
   "metadata": {},
   "outputs": [],
   "source": [
    "# Save best scores\n",
    "K = np.shape(X)[1]\n",
    "ms_RSS_best = [np.min(ms_RSS[ms_RSS[:,0]==k,1]) for k in range(K+1)]\n",
    "ms_R2_best = [np.max(ms_R2[ms_R2[:,0]==k,1]) for k in range(K+1)]"
   ]
  },
  {
   "cell_type": "markdown",
   "metadata": {},
   "source": [
    "* `ms_RSS_best` é uma lista com $K+1$ elementos. Cada elemento contém o menor RSS obtido entre todos os modelos que possuem exatamente $k$ variáveis.\n",
    "* `ms_R2_best` é uma lista com K+1 elementos. Cada elemento contém o maior $R^{2}$ obtido entre todos os modelos que possuem exatamente k variáveis.\n",
    "* Em resumo: está pegando o melhor modelo em termos dessas métricas, para cada tamanho de modelo (k). \n",
    " \n",
    "\n",
    "***Por exemplo:***\n",
    "\n",
    "Com 3 variáveis (K), teremos o numero total de modelos possíveis: $2^3 = 8$. Para K=0, temos apenas o modelo nulo (sem variáveis), para k=1, temos 3 modelos (cada um com uma variável), para k=2, temos 3 modelos (cada um com duas variáveis) e para k=3, temos apenas 1 modelo (com as 3 variáveis). vejamos:\n",
    "\n",
    "| k | RSS |\n",
    "|--|-|\n",
    "|0\t|500|\n",
    "|1\t|300|\n",
    "|1\t|280|\n",
    "|1\t|350|\n",
    "|2\t|200|\n",
    "|2\t|190|\n",
    "|2\t|210|\n",
    "|3\t|180|\n",
    "\n",
    "* Para k=1, os RSS são: 300, 280, 350 \n",
    "  * mínimo = 280\n",
    "* Para k=2, os RSS são: 210, 200, 190 \n",
    "  * mínimo = 190\n",
    "\n",
    "Resultado é `ms_RSS_best` = [500, 280, 190, 180], temos o vetor com os $K+1$ elementos."
   ]
  },
  {
   "cell_type": "markdown",
   "metadata": {},
   "source": [
    "Vamos traçar as melhores pontuações."
   ]
  },
  {
   "cell_type": "code",
   "execution_count": 10,
   "metadata": {},
   "outputs": [],
   "source": [
    "# Figure 6.1\n",
    "def make_figure_6_1():\n",
    "\n",
    "    fig, (ax1,ax2) = plt.subplots(1,2)\n",
    "    fig.suptitle('Figure 6.1: Best Model Selection')\n",
    "\n",
    "    # RSS\n",
    "    ax1.scatter(x=ms_RSS[:,0], y=ms_RSS[:,1], facecolors='None', edgecolors='k', alpha=0.5);\n",
    "    ax1.plot(range(K+1), ms_RSS_best, c='r');\n",
    "    ax1.scatter(np.argmin(ms_RSS_best), np.min(ms_RSS_best), marker='x', s=300)\n",
    "    ax1.set_ylabel('RSS');\n",
    "\n",
    "    # R2\n",
    "    ax2.scatter(x=ms_R2[:,0], y=ms_R2[:,1], facecolors='None', edgecolors='k', alpha=0.5);\n",
    "    ax2.plot(range(K+1), ms_R2_best, c='r');\n",
    "    ax2.scatter(np.argmax(ms_R2_best), np.max(ms_R2_best), marker='x', s=300)\n",
    "    ax2.set_ylabel('R2');\n",
    "\n",
    "    # All axes;\n",
    "    for ax in fig.axes:\n",
    "        ax.set_xlabel('Number of Predictors'); \n",
    "        ax.set_yticks([]);"
   ]
  },
  {
   "cell_type": "code",
   "execution_count": 11,
   "metadata": {},
   "outputs": [
    {
     "data": {
      "image/png": "[encoded data removed]",
      "text/plain": [
       "<Figure size 800x300 with 2 Axes>"
      ]
     },
     "metadata": {},
     "output_type": "display_data"
    }
   ],
   "source": [
    "make_figure_6_1()"
   ]
  },
  {
   "cell_type": "markdown",
   "metadata": {},
   "source": [
    "A figura mostra que, como esperado, ambas as métricas — o RSS e o $R^2$ — melhoram à medida que o número de variáveis aumenta. No entanto, a partir do modelo com **três variáveis**, observa-se que há **pouca melhoria adicional** no RSS e no $R^2$ com a inclusão de novos preditores.\n",
    "\n",
    "Esse comportamento é típico: modelos mais complexos tendem a ajustar melhor os dados, mas com **ganhos marginais** à medida que mais variáveis são adicionadas, além de aumentarem o risco de **sobreajuste**. Assim, a seleção do modelo ideal deve balancear a qualidade do ajuste com a simplicidade e a interpretabilidade.\n",
    "\n",
    "\n",
    "***Podemos concluir que o procedimento faz sentido, entretanto é computacionalmente intensivo, especialmente quando o número de variáveis é grande. Então, seguimos nossa busca pelo modelo ideal através da busca de métodos mais eficientes.***"
   ]
  },
  {
   "cell_type": "markdown",
   "metadata": {},
   "source": [
    "### 2.2. *Forward Stepwise Selection* (seleção progressiva passo a passo)\n",
    "\n",
    "Enquanto a melhor seleção de variáveis por subconjunto considera **todos os modelos possíveis** formados a partir dos $p$ preditores, a **seleção progressiva passo a passo** (*forward stepwise selection*) ***avalia um número muito menor de modelos, o que a torna uma alternativa mais viável computacionalmente***.\n",
    "\n",
    "Esse procedimento segue a seguinte lógica:\n",
    "\n",
    "1. Começa com o **modelo nulo**, que contém **apenas o intercepto**, sem nenhum preditor.\n",
    "2. Em cada passo, **avalia-se a inclusão de cada uma das variáveis ainda não incluídas** no modelo.\n",
    "3. A variável que proporciona a **maior melhoria adicional** no ajuste — segundo algum **critério de seleção** (como $ R^2$ ajustado, AIC, BIC ou RSS) — é **adicionada** ao modelo.\n",
    "4. O processo continua, **adicionando uma variável por vez**, até que todas as variáveis estejam incluídas ou até que algum **critério de parada** seja satisfeito.\n",
    "\n",
    "Esse tipo de abordagem é considerado uma **estratégia gulosa** (*greedy*), pois faz **escolhas locais** — em cada etapa, seleciona a variável que **parece melhorar mais** o ajuste naquele momento, sem considerar o efeito **global** de todas as combinações.\n",
    "\n",
    "Assim, a *forward stepwise selection* busca construir um modelo **parcimonioso e eficiente**, evitando o **custo computacional** de avaliar todas as combinações possíveis de preditores."
   ]
  },
  {
   "cell_type": "markdown",
   "metadata": {},
   "source": [
    "A seguir, implementamos o procedimento de **seleção progressiva passo a passo** (*forward selection*), que adiciona uma variável de cada vez, sempre escolhendo aquela que minimiza a função de avaliação especificada (por exemplo, a Soma dos Resíduos dos Quadrados - RSS)."
   ]
  },
  {
   "cell_type": "code",
   "execution_count": 12,
   "metadata": {},
   "outputs": [],
   "source": [
    "def forward_selection(X, y, f):\n",
    "    \"\"\"\n",
    "    Forward selection: adiciona uma variável de cada vez, escolhendo a que minimiza a função f.\n",
    "\n",
    "    Parâmetros:\n",
    "    - X: DataFrame com variáveis explicativas.\n",
    "    - y: Série ou array com variável dependente.\n",
    "    - f: função de avaliação do modelo (e.g., RSS).\n",
    "\n",
    "    Retorno:\n",
    "    - fms_scores: vetor com os melhores scores em cada passo.\n",
    "    \"\"\"\n",
    "    \n",
    "    # Inicializa RSS\n",
    "    K = np.shape(X)[1]\n",
    "    fms_scores = np.zeros((K,1))\n",
    "\n",
    "    # Variáveis categóricas\n",
    "    categ_cols = {\"Gender\", \"Student\", \"Married\", \"Ethnicity\"}\n",
    "\n",
    "    # Lista de variáveis selecionadas\n",
    "    selected_cols = []\n",
    "\n",
    "    for k in range(1, K + 1):\n",
    "        remaining_cols = [col for col in X.columns if col not in selected_cols]\n",
    "        temp_scores = np.zeros((0,1))\n",
    "\n",
    "        for col in remaining_cols:\n",
    "            # Subset das variáveis\n",
    "            X_subset = X.loc[:, selected_cols + [col]].copy()\n",
    "\n",
    "            # Dummy encoding para categóricas\n",
    "            categ_subset = list(categ_cols & set(X_subset.columns))\n",
    "            if categ_subset:\n",
    "                X_subset = pd.get_dummies(X_subset, columns=categ_subset, drop_first=True)\n",
    "\n",
    "            # Conversão para float\n",
    "            X_subset = X_subset.astype(float)\n",
    "\n",
    "            # Adiciona constante\n",
    "            X_reg = add_constant(X_subset, has_constant='add')\n",
    "\n",
    "            # Regressão\n",
    "            reg = OLS(y, X_reg).fit()\n",
    "\n",
    "            # Avaliação\n",
    "            temp_scores = np.append(temp_scores, f(reg))\n",
    "\n",
    "        # Seleciona a melhor variável\n",
    "        best_col = remaining_cols[np.argmin(temp_scores)]\n",
    "        print(f\"Selecionada: {best_col}\")\n",
    "        selected_cols += [best_col]\n",
    "        fms_scores[k - 1] = np.min(temp_scores)\n",
    "\n",
    "    return fms_scores"
   ]
  },
  {
   "cell_type": "markdown",
   "metadata": {},
   "source": [
    "Agora, vamos selecionar o melhor modelo utilizando a Soma dos Resíduos dos Quadrados (RSS) como métrica:"
   ]
  },
  {
   "cell_type": "code",
   "execution_count": 13,
   "metadata": {},
   "outputs": [
    {
     "name": "stdout",
     "output_type": "stream",
     "text": [
      "Selecionada: Rating\n",
      "Selecionada: Income\n",
      "Selecionada: Student\n",
      "Selecionada: Limit\n",
      "Selecionada: Cards\n",
      "Selecionada: Age\n",
      "Selecionada: Ethnicity\n",
      "Selecionada: Gender\n",
      "Selecionada: Married\n",
      "Selecionada: Education\n"
     ]
    }
   ],
   "source": [
    "# Forward selection by RSS\n",
    "rss = lambda reg : reg.ssr\n",
    "fms_RSS = forward_selection(X, y, rss)"
   ]
  },
  {
   "cell_type": "markdown",
   "metadata": {},
   "source": [
    "Essa saída significa que o algoritmo de *Forward Stepwise Selection* selecionou as variáveis na ordem mostrada, uma por vez, de acordo com o critério de avaliação especificado — neste caso, a minimização da Soma dos Resíduos dos Quadrados (RSS).\n",
    "\n",
    "* \"Rating\" foi a que, sozinha, mais reduziu o RSS.\n",
    "* Depois, \"Income\" foi a segunda variável que mais reduziu o RSS quando adicionada ao modelo.\n",
    "* E assim por diante..."
   ]
  },
  {
   "cell_type": "markdown",
   "metadata": {},
   "source": [
    "Em seguida, realizamos o mesmo procedimento, mas utilizando o coeficiente de determinação ($R^2$) como métrica de avaliação. Como o `forward_selection` busca minimizar a função, passamos $-R^2$ para manter a coerência com a lógica do algoritmo:"
   ]
  },
  {
   "cell_type": "code",
   "execution_count": 14,
   "metadata": {},
   "outputs": [
    {
     "name": "stdout",
     "output_type": "stream",
     "text": [
      "Selecionada: Rating\n",
      "Selecionada: Income\n",
      "Selecionada: Student\n",
      "Selecionada: Limit\n",
      "Selecionada: Cards\n",
      "Selecionada: Age\n",
      "Selecionada: Ethnicity\n",
      "Selecionada: Gender\n",
      "Selecionada: Married\n",
      "Selecionada: Education\n"
     ]
    }
   ],
   "source": [
    "# Forward selection by R2\n",
    "r2 = lambda reg : -reg.rsquared\n",
    "fms_R2 = -forward_selection(X, y, r2)"
   ]
  },
  {
   "cell_type": "markdown",
   "metadata": {},
   "source": [
    "OBS: Por que usamos o sinal negativo? Porque a função `forward_selection` foi implementada para minimizar a função de avaliação. Como queremos maximizar o $R^{2}$, usamos -reg.rsquared como função objetivo, e depois revertemos o sinal ao armazenar o resultado."
   ]
  },
  {
   "cell_type": "markdown",
   "metadata": {},
   "source": [
    "***Quanto ao resultado encontrado...***\n",
    "\n",
    "Sem surpresa, ambos os métodos selecionam os mesmos modelos. Por quê? Porque, no final, o $R^2$ é apenas uma versão normalizada do RSS: \n",
    "\n",
    "$$ R^2 = 1 - \\frac{RSS}{TSS} $$\n",
    "\n",
    "eles estão monotonamente relacionados, e minimizar o RSS ou maximizar o $R^2$ tende a produzir a mesma sequência de variáveis selecionadas.\n",
    "\n",
    "Por fim, vamos traçar as pontuações obtidas pelos dois métodos, para diferentes números de preditores, comparando visualmente os resultados."
   ]
  },
  {
   "cell_type": "code",
   "execution_count": 15,
   "metadata": {},
   "outputs": [],
   "source": [
    "# New figure 1\n",
    "def make_new_figure_1():\n",
    "\n",
    "    # Init\n",
    "    fig, (ax1,ax2) = plt.subplots(1,2)\n",
    "    fig.suptitle('Forward Model Selection')\n",
    "\n",
    "    # RSS\n",
    "    ax1.plot(range(1,K+1), fms_RSS, c='r');\n",
    "    ax1.scatter(np.argmin(fms_RSS)+1, np.min(fms_RSS), marker='x', s=300)\n",
    "    ax1.set_ylabel('RSS');\n",
    "\n",
    "    # R2\n",
    "    ax2.plot(range(1,K+1), fms_R2, c='r');\n",
    "    ax2.scatter(np.argmax(fms_R2)+1, np.max(fms_R2), marker='x', s=300)\n",
    "    ax2.set_ylabel('R2');\n",
    "\n",
    "    # All axes;\n",
    "    for ax in fig.axes:\n",
    "        ax.set_xlabel('Number of Predictors'); \n",
    "        ax.set_yticks([]);"
   ]
  },
  {
   "cell_type": "code",
   "execution_count": 16,
   "metadata": {},
   "outputs": [
    {
     "data": {
      "image/png": "[encoded data removed]",
      "text/plain": [
       "<Figure size 800x300 with 2 Axes>"
      ]
     },
     "metadata": {},
     "output_type": "display_data"
    }
   ],
   "source": [
    "make_new_figure_1()"
   ]
  },
  {
   "cell_type": "markdown",
   "metadata": {},
   "source": [
    "### 2.3. *Backward Stepwise Selection* (Seleção Progressiva Passo a Passo para Trás)\n",
    "\n",
    "Assim como a **seleção passo a passo para frente**, a **seleção passo a passo para trás** oferece uma alternativa eficiente à **seleção do melhor subconjunto**.\n",
    "\n",
    "No entanto, ao contrário da *forward selection*, a ***backward selection*** começa com o **modelo completo**, contendo **todos os $p$ preditores**, e, a partir daí, **remove iterativamente** a variável **menos útil**, uma de cada vez, até que reste apenas uma variável no modelo.\n",
    "\n",
    "A seguir, implementamos o procedimento de **seleção progressiva passo a passo para trás** (***backward selection***), que remove uma variável de cada vez, sempre excluindo aquela cuja remoção **melhora** a função de avaliação especificada (por exemplo, a **Soma dos Quadrados dos Resíduos- RSS**):\n"
   ]
  },
  {
   "cell_type": "code",
   "execution_count": 17,
   "metadata": {},
   "outputs": [],
   "source": [
    "def backward_selection(X, y, f):\n",
    "    \"\"\"\n",
    "    Backward selection: remove uma variável de cada vez, excluindo a que minimiza a função f.\n",
    "\n",
    "    Parâmetros:\n",
    "    - X: DataFrame com variáveis explicativas.\n",
    "    - y: Série ou array com variável dependente.\n",
    "    - f: função de avaliação do modelo (e.g., RSS).\n",
    "\n",
    "    Retorno:\n",
    "    - fms_scores: vetor com os melhores scores em cada passo.\n",
    "    \"\"\"\n",
    "    \n",
    "    # Inicializa RSS\n",
    "    K = np.shape(X)[1]\n",
    "    fms_scores = np.zeros((K,1))\n",
    "\n",
    "    # Variáveis categóricas\n",
    "    categ_cols = {\"Gender\", \"Student\", \"Married\", \"Ethnicity\"}\n",
    "\n",
    "    # Lista inicial com todas as variáveis\n",
    "    selected_cols = list(X.columns)\n",
    "\n",
    "    for k in range(K, 0, -1):\n",
    "        temp_scores = np.zeros((0,1))\n",
    "\n",
    "        for col in selected_cols:\n",
    "            # Subset removendo uma variável\n",
    "            X_subset = X.loc[:, [x for x in selected_cols if x != col]].copy()\n",
    "\n",
    "            # Dummy encoding para categóricas\n",
    "            categ_subset = list(categ_cols & set(X_subset.columns))\n",
    "            if categ_subset:\n",
    "                X_subset = pd.get_dummies(X_subset, columns=categ_subset, drop_first=True)\n",
    "\n",
    "            # Conversão para float\n",
    "            X_subset = X_subset.astype(float)\n",
    "\n",
    "            # Adiciona constante\n",
    "            X_reg = add_constant(X_subset, has_constant='add')\n",
    "\n",
    "            # Regressão\n",
    "            reg = OLS(y, X_reg).fit()\n",
    "\n",
    "            # Avaliação\n",
    "            temp_scores = np.append(temp_scores, f(reg))\n",
    "\n",
    "        # Identifica a pior variável (que ao ser removida melhora a métrica)\n",
    "        worst_col = selected_cols[np.argmin(temp_scores)]\n",
    "        print(f\"Removida: {worst_col}\")\n",
    "\n",
    "        # Remove a variável\n",
    "        selected_cols.remove(worst_col)\n",
    "\n",
    "        # Armazena o melhor score\n",
    "        fms_scores[k - 1] = np.min(temp_scores)\n",
    "\n",
    "    return fms_scores"
   ]
  },
  {
   "cell_type": "markdown",
   "metadata": {},
   "source": [
    "Agora, realizamos a seleção de variáveis utilizando a Soma dos Quadrados dos Resíduos (RSS) como critério:"
   ]
  },
  {
   "cell_type": "code",
   "execution_count": 18,
   "metadata": {},
   "outputs": [
    {
     "name": "stdout",
     "output_type": "stream",
     "text": [
      "Removida: Education\n",
      "Removida: Married\n",
      "Removida: Gender\n",
      "Removida: Ethnicity\n",
      "Removida: Age\n",
      "Removida: Rating\n",
      "Removida: Cards\n",
      "Removida: Student\n",
      "Removida: Income\n",
      "Removida: Limit\n"
     ]
    }
   ],
   "source": [
    "# Backward selection by RSS\n",
    "rss = lambda reg : reg.ssr\n",
    "bms_RSS = backward_selection(X, y, rss)"
   ]
  },
  {
   "cell_type": "markdown",
   "metadata": {},
   "source": [
    "O algoritmo de *Backward Stepwise Selection* removeu as variáveis na ordem exibida, começando do modelo completo (com todas as variáveis) e, a cada etapa, removendo a menos útil segundo o critério escolhido — neste caso, a Soma dos Quadrados dos Resíduos (RSS).\n",
    "\n",
    "Entre todas as variáveis presentes inicialmente, remover ***\"Education\"*** gerou a melhor melhoria (ou a menor piora) no modelo em termos de redução ou não aumento do RSS. ***Então, foi eliminada primeiro.***"
   ]
  },
  {
   "cell_type": "markdown",
   "metadata": {},
   "source": [
    "Em seguida, repetimos o procedimento usando o coeficiente de determinação ($R^2$)"
   ]
  },
  {
   "cell_type": "code",
   "execution_count": 19,
   "metadata": {},
   "outputs": [
    {
     "name": "stdout",
     "output_type": "stream",
     "text": [
      "Removida: Education\n",
      "Removida: Married\n",
      "Removida: Gender\n",
      "Removida: Ethnicity\n",
      "Removida: Age\n",
      "Removida: Rating\n",
      "Removida: Cards\n",
      "Removida: Student\n",
      "Removida: Income\n",
      "Removida: Limit\n"
     ]
    }
   ],
   "source": [
    "# Backward selection by R2\n",
    "r2 = lambda reg : -reg.rsquared\n",
    "bms_R2 = -backward_selection(X, y, r2)"
   ]
  },
  {
   "cell_type": "markdown",
   "metadata": {},
   "source": [
    "Uma parte interessante dessa análise é que a variável `Rating`, que foi selecionada primeiro na seleção passo a passo para frente, agora é descartada como a quinta variável (antes da última) na *backward selection*.\n",
    "\n",
    "Por quê?\n",
    "\n",
    "Provavelmente porque `Rating` contém muita informação isolada (por isso foi escolhida logo no início na *forward selection*), mas está altamente correlacionada com outras variáveis, como `Student`, `Income` e `Limit`.\n",
    "\n",
    "Como essas variáveis são mais ortogonais entre si, `Rating` acaba sendo removida antes delas na *backward selection*."
   ]
  },
  {
   "cell_type": "markdown",
   "metadata": {},
   "source": [
    "Para verificar isso, podemos observar as correlações entre essas variáveis:"
   ]
  },
  {
   "cell_type": "code",
   "execution_count": 21,
   "metadata": {},
   "outputs": [
    {
     "data": {
      "image/png": "[encoded data removed]",
      "text/plain": [
       "<Figure size 540x540 with 12 Axes>"
      ]
     },
     "metadata": {},
     "output_type": "display_data"
    }
   ],
   "source": [
    "# Plot correlations\n",
    "sns.pairplot(credit[['Rating','Student','Income','Limit']], height=1.8);"
   ]
  },
  {
   "cell_type": "markdown",
   "metadata": {},
   "source": [
    "De fato, observamos que `Rating` e `Limit` são altamente correlacionados.\n",
    "\n",
    "Por fim, vamos traçar as pontuações da *backward selection*, para diferentes números de preditores, assim como fizemos anteriormente com a forward selection."
   ]
  },
  {
   "cell_type": "code",
   "execution_count": 20,
   "metadata": {},
   "outputs": [],
   "source": [
    "# New figure 2\n",
    "def make_new_figure_2():\n",
    "\n",
    "    # Init\n",
    "    fig, (ax1,ax2) = plt.subplots(1,2)\n",
    "    fig.suptitle('Backward Model Selection')\n",
    "\n",
    "    # RSS\n",
    "    ax1.plot(range(1,K+1), bms_RSS, c='r');\n",
    "    ax1.scatter(np.argmin(bms_RSS)+1, np.min(bms_RSS), marker='x', s=300)\n",
    "    ax1.set_ylabel('RSS');\n",
    "\n",
    "    # R2\n",
    "    ax2.plot(range(1,K+1), bms_R2, c='r');\n",
    "    ax2.scatter(np.argmax(bms_R2)+1, np.max(bms_R2), marker='x', s=300)\n",
    "    ax2.set_ylabel('R2');\n",
    "\n",
    "    # All axes;\n",
    "    for ax in fig.axes:\n",
    "        ax.set_xlabel('Number of Predictors'); \n",
    "        ax.set_yticks([]);"
   ]
  },
  {
   "cell_type": "code",
   "execution_count": 21,
   "metadata": {},
   "outputs": [
    {
     "data": {
      "image/png": "[encoded data removed]",
      "text/plain": [
       "<Figure size 800x300 with 2 Axes>"
      ]
     },
     "metadata": {},
     "output_type": "display_data"
    }
   ],
   "source": [
    "make_new_figure_2()"
   ]
  },
  {
   "cell_type": "markdown",
   "metadata": {},
   "source": [
    "### 2.4. Escolhendo o Modelo Ideal\n",
    "\n",
    "Até agora, utilizamos o ***erro de treinamento*** para selecionar o modelo. No entanto, o erro de treinamento pode ser uma **estimativa ruim** do ***erro de teste***.\n",
    "* Erro de treinamento (training error) é o erro calculado nos mesmos dados que foram usados para ajustar o modelo.\n",
    "* Erro de teste (test error) é o erro calculado em dados que **não foram usados** para ajustar o modelo, ou seja, em um conjunto de validação ou teste.\n",
    "\n",
    "Como resultado, métricas como o **RSS** e o **$R^2$** **não são adequadas** para selecionar o melhor modelo entre um conjunto de modelos com diferentes números de preditores. Para selecionar o **melhor modelo** em relação ao **erro de teste**, precisamos **estimar** esse erro. Existem duas abordagens comuns para isso:\n",
    "\n",
    "- Podemos **estimar indiretamente** o erro de teste, ajustando o erro de treinamento para levar em conta o **viés introduzido pelo sobreajuste** (*overfitting*).\n",
    "  - Algumas métricas amplamente utilizadas que ajustam o erro de treinamento, penalizando a complexidade do modelo, são:\n",
    "    - **Critério de Informação Bayesiano (BIC)**\n",
    "    - **Critério de Informação de Akaike (AIC)**\n",
    "    - **$R^2$ Ajustado ($R^2_{adj}$)**\n",
    "- Podemos **estimar diretamente** o erro de teste utilizando um **conjunto de validação** ou uma abordagem de **validação cruzada**.\n",
    "\n",
    "A ideia por trás de todas essas métricas é incluir uma **penalização** pelo número de parâmetros utilizados no modelo, favorecendo modelos mais **parcimoniosos**. Todas essas medidas possuem fundamentos teóricos importantes, que, no entanto, **estão além do escopo** desta aula.\n",
    "\n",
    "Agora, vamos testar essas três métricas:"
   ]
  },
  {
   "cell_type": "code",
   "execution_count": 22,
   "metadata": {},
   "outputs": [
    {
     "name": "stdout",
     "output_type": "stream",
     "text": [
      "Computing k=10\r"
     ]
    }
   ],
   "source": [
    "# Set metrics\n",
    "aic = lambda reg : reg.aic\n",
    "bic = lambda reg : reg.bic\n",
    "r2a = lambda reg : reg.rsquared_adj\n",
    "\n",
    "# Compute best model selection scores\n",
    "scores = model_selection(X, y, aic, bic, r2a)\n",
    "ms_AIC = scores[0]\n",
    "ms_BIC = scores[1]\n",
    "ms_R2a = scores[2]"
   ]
  },
  {
   "cell_type": "markdown",
   "metadata": {},
   "source": [
    "Em seguida, extraímos os melhores valores para cada número possível de preditores:"
   ]
  },
  {
   "cell_type": "code",
   "execution_count": 23,
   "metadata": {},
   "outputs": [],
   "source": [
    "# Save best scores\n",
    "ms_AIC_best = [np.min(ms_AIC[ms_AIC[:,0]==k,1]) for k in range(K+1)]\n",
    "ms_BIC_best = [np.min(ms_BIC[ms_BIC[:,0]==k,1]) for k in range(K+1)]\n",
    "ms_R2a_best = [np.max(ms_R2a[ms_R2a[:,0]==k,1]) for k in range(K+1)]"
   ]
  },
  {
   "cell_type": "markdown",
   "metadata": {},
   "source": [
    "Agora, traçamos as pontuações para os diferentes métodos de seleção de modelos, produzindo uma figura similar à Figura 6.2."
   ]
  },
  {
   "cell_type": "code",
   "execution_count": 24,
   "metadata": {},
   "outputs": [],
   "source": [
    "# Figure 6.2\n",
    "def make_figure_6_2():\n",
    "\n",
    "    # Init\n",
    "    fig, (ax1,ax2,ax3) = plt.subplots(1,3, figsize=(16,5))\n",
    "    fig.suptitle('Figure 6.2')\n",
    "\n",
    "    # AIC\n",
    "    ax1.scatter(x=ms_AIC[:,0], y=ms_AIC[:,1], facecolors='None', edgecolors='k', alpha=0.5);\n",
    "    ax1.plot(range(K+1),ms_AIC_best, c='r');\n",
    "    ax1.scatter(np.argmin(ms_AIC_best), np.min(ms_AIC_best), marker='x', s=300)\n",
    "    ax1.set_ylabel('AIC');\n",
    "\n",
    "    # BIC\n",
    "    ax2.scatter(x=ms_BIC[:,0], y=ms_BIC[:,1], facecolors='None', edgecolors='k', alpha=0.5);\n",
    "    ax2.plot(range(K+1), ms_BIC_best, c='r');\n",
    "    ax2.scatter(np.argmin(ms_BIC_best), np.min(ms_BIC_best), marker='x', s=300)\n",
    "    ax2.set_ylabel('BIC');\n",
    "\n",
    "    # R2 adj\n",
    "    ax3.scatter(x=ms_R2a[:,0], y=ms_R2a[:,1], facecolors='None', edgecolors='k', alpha=0.5);\n",
    "    ax3.plot(range(K+1), ms_R2a_best, c='r');\n",
    "    ax3.scatter(np.argmax(ms_R2a_best), np.max(ms_R2a_best), marker='x', s=300)\n",
    "    ax3.set_ylabel('R2_adj');\n",
    "\n",
    "    # All axes;\n",
    "    for ax in fig.axes:\n",
    "        ax.set_xlabel('Number of Predictors'); \n",
    "        ax.set_yticks([]);"
   ]
  },
  {
   "cell_type": "code",
   "execution_count": 25,
   "metadata": {},
   "outputs": [
    {
     "data": {
      "image/png": "[encoded data removed]",
      "text/plain": [
       "<Figure size 1600x500 with 3 Axes>"
      ]
     },
     "metadata": {},
     "output_type": "display_data"
    }
   ],
   "source": [
    "make_figure_6_2()"
   ]
  },
  {
   "cell_type": "markdown",
   "metadata": {},
   "source": [
    "Como podemos observar, todas as três métricas tendem a selecionar modelos mais parcimoniosos, penalizando a inclusão excessiva de variáveis.\n",
    "\n",
    "* O BIC se mostra particularmente conservador, selecionando um modelo com apenas 4 variáveis.\n",
    "* O AIC, por sua vez, seleciona um modelo com 6 variáveis, que é mais complexo do que o modelo escolhido pelo BIC.\n",
    "* O $R^2_{adj}$, por outro lado, seleciona um modelo maior, com 7 variáveis.\n",
    "\n",
    "Esse comportamento está alinhado com a natureza dessas métricas: o BIC tende a penalizar mais fortemente modelos complexos do que o AIC ou o $R^2_{adj}$, favorecendo soluções mais simples."
   ]
  },
  {
   "cell_type": "markdown",
   "metadata": {},
   "source": [
    "### 2.5. Validação e Validação Cruzada\n",
    "\n",
    "Como alternativa às abordagens discutidas anteriormente, podemos **estimar diretamente o erro de teste** utilizando o **conjunto de validação** ou os métodos de **validação cruzada** vistos anteriormente.\n",
    "\n",
    "* A principal vantagem dessas abordagens é que elas proporcionam uma **estimativa mais realista do erro de generalização**, ao avaliar o desempenho do modelo em dados **não utilizados** durante o treinamento.\n",
    "* Por outro lado, o principal **problema da validação cruzada** é a **carga computacional**: à medida que o número de partições aumenta, cresce também o número de modelos que precisam ser ajustados.\n",
    "\n",
    "Nesta seção, realizaremos a **seleção do melhor modelo** utilizando os seguintes esquemas de validação cruzada:\n",
    "\n",
    "- **Abordagem de conjunto de validação** com **divisão 50-50**, repetida **10 vezes**.\n",
    "- **Validação cruzada** com **5 partições** (*5-fold cross-validation*).\n",
    "- **Validação cruzada** com **10 partições** (*10-fold cross-validation*).\n",
    "\n",
    "**Observação:** não realizaremos a **validação cruzada Leave-One-Out (LOOCV)** devido ao seu **alto custo computacional**, especialmente em cenários com muitos modelos potenciais.\n"
   ]
  },
  {
   "cell_type": "code",
   "execution_count": 26,
   "metadata": {},
   "outputs": [],
   "source": [
    "def cv_scores(X, y, *args):\n",
    "\n",
    "    # Init \n",
    "    scores = list(itertools.repeat(np.zeros((0,2)), len(args)))\n",
    "\n",
    "    # Categorical variables \n",
    "    categ_cols = {\"Gender\", \"Student\", \"Married\", \"Ethnicity\"}\n",
    "\n",
    "    # Loop over all possible combinations of regressions\n",
    "    K = np.shape(X)[1]\n",
    "    for k in range(K+1):\n",
    "        print(\"Computing k=%1.0f\" % k, end =\"\")\n",
    "        for i in combinations(range(K), k):\n",
    "\n",
    "            # Subset X\n",
    "            X_subset = X.iloc[:,list(i)]\n",
    "\n",
    "            # Get dummies for categorical variables\n",
    "            if k>0:\n",
    "                categ_subset = list(categ_cols & set(X_subset.columns))\n",
    "                X_subset = pd.get_dummies(X_subset, columns=categ_subset, drop_first=True)\n",
    "\n",
    "            # Metrics\n",
    "            for i,cv_method in enumerate(args):\n",
    "                score = cross_val_score(LinearRegression(), add_constant(X_subset), y, \n",
    "                                        cv=cv_method, scoring='neg_mean_squared_error').mean()\n",
    "                score_pair = np.reshape([k,score], (1,-1))\n",
    "                scores[i] = np.append(scores[i], score_pair, axis=0)\n",
    "        print(\"\", end=\"\\r\")\n",
    "                \n",
    "    return scores"
   ]
  },
  {
   "cell_type": "markdown",
   "metadata": {},
   "source": [
    "Agora, definimos os métodos de validação cruzada e calculamos as pontuações:"
   ]
  },
  {
   "cell_type": "code",
   "execution_count": 27,
   "metadata": {},
   "outputs": [
    {
     "name": "stdout",
     "output_type": "stream",
     "text": [
      "Computing k=10\r"
     ]
    }
   ],
   "source": [
    "# Define cv methods\n",
    "vset = ShuffleSplit(n_splits=10, test_size=0.5)\n",
    "kf5 = KFold(n_splits=5, shuffle=True)\n",
    "kf10 = KFold(n_splits=10, shuffle=True)\n",
    "\n",
    "# Get best model selection scores\n",
    "scores = cv_scores(X, y, vset, kf5, kf10)\n",
    "ms_vset = scores[0]\n",
    "ms_kf5 = scores[1]\n",
    "ms_kf10 = scores[2]"
   ]
  },
  {
   "cell_type": "markdown",
   "metadata": {},
   "source": [
    "Em seguida, extraímos as melhores pontuações para cada número de preditores:"
   ]
  },
  {
   "cell_type": "code",
   "execution_count": 28,
   "metadata": {},
   "outputs": [],
   "source": [
    "# Save best scores\n",
    "ms_vset_best = [np.max(ms_vset[ms_vset[:,0]==k,1]) for k in range(K+1)]\n",
    "ms_kf5_best = [np.max(ms_kf5[ms_kf5[:,0]==k,1]) for k in range(K+1)]\n",
    "ms_kf10_best = [np.max(ms_kf10[ms_kf10[:,0]==k,1]) for k in range(K+1)]"
   ]
  },
  {
   "cell_type": "markdown",
   "metadata": {},
   "source": [
    "Por fim, traçamos as pontuações obtidas para cada método de validação cruzada, gerando a Figura 6.3:"
   ]
  },
  {
   "cell_type": "code",
   "execution_count": 29,
   "metadata": {},
   "outputs": [],
   "source": [
    "# Figure 6.3\n",
    "def make_figure_6_3():\n",
    "\n",
    "    # Init\n",
    "    fig, (ax1,ax2,ax3) = plt.subplots(1,3, figsize=(16,5))\n",
    "    fig.suptitle('Figure 6.3')\n",
    "\n",
    "    # Validation Set\n",
    "    ax1.scatter(x=ms_vset[:,0], y=ms_vset[:,1], facecolors='None', edgecolors='k', alpha=0.5);\n",
    "    ax1.plot(range(K+1),ms_vset_best, c='r');\n",
    "    ax1.scatter(np.argmax(ms_vset_best), np.max(ms_vset_best), marker='x', s=300)\n",
    "    ax1.set_ylabel('Validation Set');\n",
    "\n",
    "\n",
    "    # 5-Fold Cross Validation\n",
    "    ax2.scatter(x=ms_kf5[:,0], y=ms_kf5[:,1], facecolors='None', edgecolors='k', alpha=0.5);\n",
    "    ax2.plot(range(K+1), ms_kf5_best, c='r');\n",
    "    ax2.scatter(np.argmax(ms_kf5_best), np.max(ms_kf5_best), marker='x', s=300)\n",
    "    ax2.set_ylabel('5-Fold Cross Validation');\n",
    "\n",
    "\n",
    "    # 10-Fold Cross-Validation\n",
    "    ax3.scatter(x=ms_kf10[:,0], y=ms_kf10[:,1], facecolors='None', edgecolors='k', alpha=0.5);\n",
    "    ax3.plot(range(K+1), ms_kf10_best, c='r');\n",
    "    ax3.scatter(np.argmax(ms_kf10_best), np.max(ms_kf10_best), marker='x', s=300)\n",
    "    ax3.set_ylabel('10-Fold Cross-Validation');\n",
    "\n",
    "    # All axes;\n",
    "    for ax in fig.axes:\n",
    "        ax.set_xlabel('Number of Predictors'); \n",
    "        ax.set_yticks([]);"
   ]
  },
  {
   "cell_type": "code",
   "execution_count": 30,
   "metadata": {},
   "outputs": [
    {
     "data": {
      "image/png": "[encoded data removed]",
      "text/plain": [
       "<Figure size 1600x500 with 3 Axes>"
      ]
     },
     "metadata": {},
     "output_type": "display_data"
    }
   ],
   "source": [
    "make_figure_6_3()"
   ]
  },
  {
   "cell_type": "markdown",
   "metadata": {},
   "source": [
    "Na figura, observamos que **cada método de validação cruzada seleciona um modelo diferente**. O mais preciso, a **validação cruzada K-fold**, seleciona um modelo com **7 preditores** (no caso do **5-fold**) e **8 preditores** (no caso do **10-fold**).\n",
    "\n",
    "OBS: não fixei a semente aleatória, então os resultados podem variar a cada execução."
   ]
  },
  {
   "cell_type": "markdown",
   "metadata": {},
   "source": [
    "### 3. *Shrinkage Methods* (Métodos de Encolhimento)\n",
    "\n",
    "Até aqui, vimos que os métodos de seleção de modelos atuam escolhendo subconjuntos de variáveis após a estimação das regressões lineares. Esse processo pode ser computacionalmente custoso, especialmente quando o número de preditores é grande.\n",
    "\n",
    "Por outro lado, os métodos de encolhimento (*shrinkage methods*) buscam ajustar o modelo e controlar sua complexidade simultaneamente. Eles fazem isso ao impor penalidades na função objetivo da regressão, de modo a restringir ou reduzir os valores estimados dos coeficientes $\\beta$ . Como resultado, esses métodos tendem a produzir estimativas mais estáveis, particularmente em situações com alta multicolinearidade ou número elevado de variáveis explicativas."
   ]
  },
  {
   "cell_type": "markdown",
   "metadata": {},
   "source": [
    "### 3.1. *Ridge Regression* (Regressão Ridge)\n",
    "\n",
    "Na regressão clássica de OLS, buscamos os coeficientes $\\hat{\\beta}$ que **minimizam** a **Soma dos Quadrados dos Resíduos** (**RSS** ou *Residual Sum of Squares*):\n",
    "\n",
    "$$ \n",
    "\\hat{\\beta}^{OLS} = \\underset{\\beta}{\\operatorname{argmin}} \\sum_{i=1}^{n} \\left( y_i - \\beta_0 - \\sum_{j=1}^{p} \\beta_j x_{ij} \\right)^2 = \\underset{\\beta}{\\operatorname{argmin}} RSS\n",
    "$$\n",
    "\n",
    "Na **regressão de Ridge**, a função objetivo é **modificada** com a inclusão de uma **penalidade quadrática** sobre os coeficientes (exceto o intercepto $\\beta_0$):\n",
    "\n",
    "$$\n",
    "\\hat{\\beta}^{Ridge} = \\underset{\\beta}{\\operatorname{argmin}} \\left\\{ \\sum_{i=1}^{n} \\left( y_i - \\beta_0 - \\sum_{j=1}^{p} \\beta_j x_{ij} \\right)^2 + \\lambda \\sum_{j=1}^{p} \\beta_j^2 \\right\\} \n",
    "$$\n",
    "\n",
    "De forma compacta usando notação vetorial, a penalização é expressa como norma ($L2$: norma euclidiana) :\n",
    "$$\n",
    "\\hat{\\beta}^{Ridge} = \\underset{\\beta}{\\operatorname{argmin}} (RSS + \\lambda ||\\beta||^{2}_{2})\n",
    "$$\n",
    "\n",
    "onde $||\\beta||^{2}_{2} = \\sum_{j=1}^{p} \\beta_j^2$ é a norma $L2$ dos coeficientes ao quadrado, e $\\lambda > 0$ é um **parâmetro de ajuste (ou hiperparâmetro)** que controla o grau de penalização: quanto maior $\\lambda$, mais os coeficientes são **encolhidos** em direção a zero. "
   ]
  },
  {
   "cell_type": "markdown",
   "metadata": {},
   "source": [
    "Mas por quê? Vejamos na **notação matricial** (após realizar a CPO e igualar a zero), o problema equivale a:\n",
    "\n",
    "$$ \\hat{\\beta}^{Ridge} = \\left( X^\\top X + \\lambda I \\right)^{-1} X^\\top y $$\n",
    "\n",
    "considerando $var(\\epsilon) = \\sigma^2 I$. A variância dos estimadores Ridge (para os $\\beta_{j}$, não o intercepto) é dada por:\n",
    "\n",
    "$$\n",
    "Var(\\hat{\\beta}^{Ridge}) = \\sigma^2 (X^\\top X + \\lambda I)^{-1} X^\\top X (X^\\top X + \\lambda I)^{-1} \n",
    "$$\n",
    "\n",
    "\n",
    "E essa formulação matricial deixa evidente que a regressão de Ridge é uma **extensão natural** do OLS, que busca um **equilíbrio** entre **minimizar o erro** de ajuste e **controlar a magnitude dos coeficientes**:\n",
    "\n",
    "* Por um lado, queremos minimizar o erro (RSS), para que o modelo explique bem os dados.\n",
    "* Por outro lado, queremos evitar coeficientes muito grandes, que podem causar *overfitting* ou instabilidade (especialmente quando há multicolinearidade).\n",
    "\n",
    "Ridge cria esse equilíbrio:\n",
    "* Se $\\lambda = 0$, temos OLS puro: foco total em minimizar o erro.\n",
    "* Se $\\lambda$ muito grande, os coeficientes são fortemente encolhidos para zero, priorizando a simplicidade e estabilidade, mesmo que o erro aumente um pouco.\n",
    "\n",
    "Agora, executaremos a **regressão de Ridge** no conjunto de dados `credit`, tentando explicar a variável **`Balance`** com um conjunto de **características individuais observáveis**.\n"
   ]
  },
  {
   "cell_type": "code",
   "execution_count": 31,
   "metadata": {},
   "outputs": [],
   "source": [
    "# X and y\n",
    "categ_cols = [\"Gender\", \"Student\", \"Married\", \"Ethnicity\"]\n",
    "X = credit.loc[:, credit.columns != 'Balance']\n",
    "X = pd.get_dummies(X, columns=categ_cols, drop_first=True)\n",
    "y = credit.loc[:,'Balance']\n",
    "n = len(credit)"
   ]
  },
  {
   "cell_type": "markdown",
   "metadata": {},
   "source": [
    "Executamos a **regressão de Ridge** em uma faixa de valores para o parâmetro de penalidade $\\lambda$.\n"
   ]
  },
  {
   "cell_type": "code",
   "execution_count": 32,
   "metadata": {},
   "outputs": [],
   "source": [
    "# Init alpha grid\n",
    "n_grid = 100\n",
    "alphas = 10**np.linspace(-2,5,n_grid).reshape(-1,1)\n",
    "ridge = Ridge()\n",
    "ridge_coefs = []\n",
    "\n",
    "# Loop over values of alpha\n",
    "for a in alphas:\n",
    "    ridge.set_params(alpha=a)\n",
    "    ridge.fit(scale(X), y)\n",
    "    ridge_coefs.append(ridge.coef_)\n",
    "ridge_coefs = np.reshape(ridge_coefs,(n_grid,-1))"
   ]
  },
  {
   "cell_type": "markdown",
   "metadata": {},
   "source": [
    "Em seguida, utilizamos a regressão linear como comparação:"
   ]
  },
  {
   "cell_type": "code",
   "execution_count": 33,
   "metadata": {},
   "outputs": [],
   "source": [
    "# OLS regression\n",
    "ols = LinearRegression().fit(scale(X),y)\n",
    "ols_coefs = ols.coef_;\n",
    "mod_ols = np.linalg.norm(ols_coefs)\n",
    "\n",
    "# Relative magnitude\n",
    "rel_beta = [np.linalg.norm(ridge_coefs[k,:])/mod_ols for k in range(n_grid)]\n",
    "rel_beta = np.reshape(rel_beta, (-1,1))"
   ]
  },
  {
   "cell_type": "markdown",
   "metadata": {},
   "source": [
    "Agora, plotamos os resultados:"
   ]
  },
  {
   "cell_type": "code",
   "execution_count": 34,
   "metadata": {},
   "outputs": [],
   "source": [
    "# Figure 6.4\n",
    "def make_figure_6_4():\n",
    "\n",
    "    # Init\n",
    "    fig, (ax1,ax2) = plt.subplots(1,2)\n",
    "    fig.suptitle('Figure 6.4: Ridge Regression Coefficients')\n",
    "\n",
    "    highlight = [0,1,2,7];\n",
    "\n",
    "    # Plot coefficients - absolute\n",
    "    ax1.plot(alphas, ridge_coefs[:,highlight], alpha=1)\n",
    "    ax1.plot(alphas, ridge_coefs, c='grey', alpha=0.3)\n",
    "    ax1.set_xscale('log')\n",
    "    ax1.set_xlabel('lambda'); ax1.set_ylabel('Standardized coefficients');\n",
    "    ax1.legend(['Income', 'Limit', 'Rating', 'Student'])\n",
    "\n",
    "    # Plot coefficients - relative\n",
    "    ax2.plot(rel_beta, ridge_coefs[:,highlight], alpha=1)\n",
    "    ax2.plot(rel_beta, ridge_coefs, c='grey', alpha=0.3)\n",
    "    ax2.set_xlabel('Relative Beta'); ax2.set_ylabel('Standardized coefficients');"
   ]
  },
  {
   "cell_type": "code",
   "execution_count": 35,
   "metadata": {},
   "outputs": [
    {
     "data": {
      "image/png": "[encoded data removed]",
      "text/plain": [
       "<Figure size 800x300 with 2 Axes>"
      ]
     },
     "metadata": {},
     "output_type": "display_data"
    }
   ],
   "source": [
    "make_figure_6_4()"
   ]
  },
  {
   "cell_type": "markdown",
   "metadata": {},
   "source": [
    "À medida que diminuímos o valor de $\\lambda$, os coeficientes da regressão de Ridge aumentam em magnitude, aproximando-se dos coeficientes obtidos pela regressão linear clássica.\n",
    "\n",
    "Além disso, observamos que as variáveis com os coeficientes consistentemente maiores (em termos de magnitude) são:\n",
    "\n",
    "* Income\n",
    "* Limit\n",
    "* Rating\n",
    "* Student\n",
    "\n",
    "Esse comportamento destaca como a penalização afeta os coeficientes, reduzindo sua magnitude conforme $\\lambda$ aumenta e controlando o sobreajuste ao restringir a complexidade do modelo."
   ]
  },
  {
   "cell_type": "markdown",
   "metadata": {},
   "source": [
    "### 3.2. *Trade-off* entre Viés e Variância\n",
    "\n",
    "A principal vantagem da **regressão de Ridge** em relação aos **mínimos quadrados ordinários (OLS)** está no controle do *trade-off* entre **viés** e **variância** do estimador.\n",
    "\n",
    "À medida que o **parâmetro de penalização** $\\lambda$ **aumenta**, a **flexibilidade** do modelo diminui. Isso leva a uma **redução da variância**, mas também a um **aumento do viés**.\n",
    "\n",
    "A relação fundamental pode ser expressa pelo modelo:\n",
    "\n",
    "$$\n",
    "y_i = f(x_i) + \\varepsilon, \\quad \\text{com} \\quad \\mathbb{E}[\\varepsilon] = 0, \\quad \\text{Var}(\\varepsilon) = \\sigma^2\n",
    "$$\n",
    "\n",
    "O **Erro Quadrático Médio** (MSE - *Mean Squared Error*) de um estimador $\\hat{f}(x_i)$ para um ponto $x_i$ pode ser decomposto como:\n",
    "\n",
    "$$\n",
    "\\mathbb{E}\\left[(y_i - \\hat{f}(x_i))^2\\right] = \n",
    "\\underbrace{\\left(\\mathbb{E}[\\hat{f}(x_i)] - f(x_i)\\right)^2}_{\\text{Viés}^2} + \n",
    "\\underbrace{\\text{Var}[\\hat{f}(x_i)]}_{\\text{Variância}} + \n",
    "\\underbrace{\\sigma^2}_{\\text{Erro Irredutível}}\n",
    "$$\n",
    "\n",
    "Passos intermediários:\n",
    "\n",
    "$$ E[(y_i - \\hat{f}(x_i))^2] = E[(f(x_i) + \\varepsilon_i - \\hat{f}(x_i))^2] $$\n",
    "\n",
    "$$ = E[(f(x_i) - \\hat{f}(x_i) + \\varepsilon_i)^2] $$\n",
    "\n",
    "$$ = E[(f(x_i) - \\hat{f}(x_i))^2 + 2(f(x_i) - \\hat{f}(x_i))\\varepsilon_i + \\varepsilon_i^2] $$\n",
    "\n",
    "$$ = E[(f(x_i) - \\hat{f}(x_i))^2] + 2E[(f(x_i) - \\hat{f}(x_i))\\varepsilon_i] + E[\\varepsilon_i^2] $$\n",
    "\n",
    "Como $\\mathbb{E}[\\varepsilon_i] = 0$, o termo cruzado desaparece:\n",
    "\n",
    "$$ = E[(f(x_i) - \\hat{f}(x_i))^2] + \\sigma^2 $$ \n",
    "\n",
    "Por fim, decomponha o primeiro termo (que representa o erro médio entre a predição e o valor verdadeiro); A ideia é separar esse erro em duas partes:\n",
    "* Um erro sistemático: o quanto o valor médio de $\\hat{f}(x_i)$ se afasta do valor verdadeiro $f(x_i)$ → isso é o viés.\n",
    "* Um erro aleatório: o quanto a predição $\\hat{f}(x_i)$ varia em torno do seu valor médio → isso é a variância.\n",
    "\n",
    "Usando a identidade de viés e variância:\n",
    "\n",
    "$$ E[(f(x_i) - \\hat{f}(x_i))^2] = \\left(\\mathbb{E}[\\hat{f}(x_i)] - f(x_i)\\right)^2 + \\text{Var}[\\hat{f}(x_i)] $$\n",
    "\n",
    "Ou seja, decompomos *MSE* como:\n",
    "\n",
    "$$\n",
    "\\mathrm{MSE}(x_i) = \\text{Bias}^2[\\hat{f}(x_i)] + \\text{Var}[\\hat{f}(x_i)] + \\sigma^2\n",
    "$$\n",
    "\n",
    "Essa decomposição revela que o **Erro Quadrático Médio** (MSE) possui três componentes fundamentais:\n",
    "- **Viés ao quadrado**, que captura a rigidez ou subajuste do modelo.\n",
    "- **Variância**, que reflete a instabilidade das estimativas em diferentes amostras.\n",
    "- **Erro irredutível**, que representa o ruído intrínseco nos dados.\n",
    "\n",
    "Como veremos nos experimentos a seguir, ao aumentar $\\lambda$, conseguimos **reduzir a variância**, mas com o custo de um **aumento no viés**. A regressão de Ridge busca **minimizar o MSE** encontrando um ponto ótimo nesse *trade-off*."
   ]
  },
  {
   "cell_type": "code",
   "execution_count": 36,
   "metadata": {},
   "outputs": [],
   "source": [
    "# Compute var-bias\n",
    "def compute_var_bias(X_train, b0, x0, a, k, n, sim, f):\n",
    "    \n",
    "    # Init \n",
    "    y_hat = np.zeros(sim)\n",
    "    coefs = np.zeros((sim, k))\n",
    "    \n",
    "    # Loop over simulations\n",
    "    for s in range(sim):\n",
    "        e_train = normal(0,1,(n,1))\n",
    "        y_train = X_train @ b0 + e_train\n",
    "        fit = f(a).fit(X_train, y_train)\n",
    "        y_hat[s] = fit.predict(x0)\n",
    "        coefs[s,:] = fit.coef_\n",
    "        \n",
    "    # Compute MSE, Var and Bias2   \n",
    "    e_test = normal(0,1,(sim,1))\n",
    "    y_test = x0 @ b0 + e_test\n",
    "    mse = np.mean((y_test - y_hat)**2)\n",
    "    var = np.var(y_hat)\n",
    "    bias2 = np.mean(x0 @ b0 - y_hat)**2\n",
    "    \n",
    "    return [mse, var, bias2], np.mean(coefs, axis=0)"
   ]
  },
  {
   "cell_type": "markdown",
   "metadata": {},
   "source": [
    "Agora, geramos dados sintéticos para simular esse comportamento:"
   ]
  },
  {
   "cell_type": "code",
   "execution_count": 37,
   "metadata": {},
   "outputs": [],
   "source": [
    "np.random.seed(1)\n",
    "\n",
    "# Generate random data\n",
    "n = 50\n",
    "k = 45\n",
    "N = 50000\n",
    "X_train = normal(0.2,1,(n,k))\n",
    "x0 = normal(0.2,1,(1,k))\n",
    "e_train = normal(0,1,(n,1))\n",
    "b0 = uniform(0,1,(k,1))"
   ]
  },
  {
   "cell_type": "code",
   "execution_count": 38,
   "metadata": {},
   "outputs": [
    {
     "name": "stdout",
     "output_type": "stream",
     "text": [
      "Alpha 30/30\r"
     ]
    }
   ],
   "source": [
    "# Init alpha grid\n",
    "sim = 1000\n",
    "n_grid = 30\n",
    "df = pd.DataFrame({'alpha':10**np.linspace(-5,5,n_grid)})\n",
    "ridge_coefs2 = []\n",
    "\n",
    "# Init simulations\n",
    "sim = 1000\n",
    "ridge = lambda a: Ridge(alpha=a, fit_intercept=False)\n",
    "\n",
    "# Loop over values of alpha\n",
    "for i in range(len(df)):\n",
    "    print(\"Alpha %1.0f/%1.0f\" % (i+1,len(df)), end =\"\")\n",
    "    a = df.loc[i,'alpha']\n",
    "    df.loc[i,['mse','var','bias2']], c = compute_var_bias(X_train, b0, x0, a, k, n, sim, ridge)\n",
    "    ridge_coefs2.append(c)\n",
    "    print(\"\", end=\"\\r\")\n",
    "ridge_coefs2 = np.reshape(ridge_coefs2,(n_grid,-1))"
   ]
  },
  {
   "cell_type": "markdown",
   "metadata": {},
   "source": [
    "OBS: O $\\alpha$ no `scikit-learn` é igual ao $\\lambda$ na teoria."
   ]
  },
  {
   "cell_type": "markdown",
   "metadata": {},
   "source": [
    "Em seguida, comparamos com a regressão OLS:"
   ]
  },
  {
   "cell_type": "code",
   "execution_count": 39,
   "metadata": {},
   "outputs": [],
   "source": [
    "# OLS regression\n",
    "y_train = X_train @ b0 + e_train\n",
    "ols = LinearRegression().fit(X_train,y_train)\n",
    "ols_coefs = ols.coef_;\n",
    "mod_ols = np.linalg.norm(ols_coefs)\n",
    "\n",
    "# Relative magnitude\n",
    "rel_beta = [np.linalg.norm(ridge_coefs2[i,:])/mod_ols for i in range(n_grid)]\n",
    "rel_beta = np.reshape(rel_beta, (-1,1))"
   ]
  },
  {
   "cell_type": "markdown",
   "metadata": {},
   "source": [
    "Por fim, plotamos a decomposição do viés e variância:"
   ]
  },
  {
   "cell_type": "code",
   "execution_count": 40,
   "metadata": {},
   "outputs": [],
   "source": [
    "# Figure 6.5\n",
    "def make_figure_6_5():\n",
    "    \n",
    "    # Init\n",
    "    fig, (ax1,ax2) = plt.subplots(1,2)\n",
    "    fig.suptitle('Figure 6.5: Ridge Bias-Var decomposition')\n",
    "\n",
    "    # MSE\n",
    "    ax1.plot(df['alpha'], df[['bias2','var','mse']]);\n",
    "    ax1.set_xscale('log');\n",
    "    ax1.set_xlabel('lambda'); ax1.set_ylabel('Mean Squared Error');\n",
    "    ax1.legend(['Bias2','Variance','MSE'], fontsize=12);\n",
    "\n",
    "    # MSE\n",
    "    ax2.plot(rel_beta, df[['bias2','var','mse']]);\n",
    "    ax2.set_xlabel('Relative Beta'); ax2.set_ylabel('Mean Squared Error');\n",
    "    ax2.legend(['Bias2','Variance','MSE'], fontsize=12);"
   ]
  },
  {
   "cell_type": "code",
   "execution_count": 41,
   "metadata": {},
   "outputs": [
    {
     "data": {
      "image/png": "[encoded data removed]",
      "text/plain": [
       "<Figure size 800x300 with 2 Axes>"
      ]
     },
     "metadata": {},
     "output_type": "display_data"
    }
   ],
   "source": [
    "make_figure_6_5()"
   ]
  },
  {
   "cell_type": "markdown",
   "metadata": {},
   "source": [
    "A Figura 6.5 apresenta a decomposição do **erro quadrático médio (EQM/MSE)** em **viés ao quadrado** e **variância** para diferentes valores do parâmetro de penalização $\\lambda$ na regressão de Ridge.\n",
    "\n",
    "No **gráfico da esquerda**, com o eixo X em escala logarítmica para $\\lambda$, observamos:\n",
    "\n",
    "- Para **valores pequenos de $\\lambda$**, o modelo é muito flexível, resultando em **baixa bias** (viés ao quadrado próximo de zero), mas **alta variância**. Esse é o típico comportamento de um modelo **superajustado** (*overfitted*).\n",
    "- À medida que $\\lambda$ **aumenta**, os coeficientes são **encolhidos**, a **variância do estimador diminui**, mas o **viés aumenta**.\n",
    "- Existe um **ponto ótimo** (em torno de $\\lambda \\approx 10$), onde o **MSE é minimizado**. Nesse ponto, o modelo alcança o **melhor equilíbrio entre viés e variância**.\n",
    "- Para **valores muito altos de $\\lambda$**, o modelo é excessivamente penalizado, os coeficientes são fortemente encolhidos, o **viés domina**, e o erro total volta a crescer.\n",
    "\n",
    "No **gráfico da direita**, o eixo X mostra a **norma relativa dos coeficientes** estimados pela regressão de Ridge em relação à norma dos coeficientes do OLS:\n",
    "\n",
    "$$ \\text{Norma Relativa} = \\frac{||\\hat{\\beta}^{Ridge}||_2}{||\\hat{\\beta}^{OLS}||_2} = \\frac{\\sqrt{\\sum_{j=1}^{p} \\hat{\\beta}_j^{Ridge 2}}}{\\sqrt{\\sum_{j=1}^{p} \\hat{\\beta}_j^{OLS 2}}} $$\n",
    "\n",
    "\n",
    "- Quando os coeficientes estão próximos de zero (**baixa complexidade**) então o Ridge penaliza fortemente os coeficientes, resultando em um **viés alto** e uma **variância baixa**.\n",
    "- Quando os coeficientes se aproximam dos valores do OLS (**alta complexidade**), a **variância aumenta** e o **viés diminui**.\n",
    "- Novamente, o **ponto de menor MSE** ocorre em um ponto intermediário, sugerindo que a **melhor performance preditiva** não ocorre nos extremos, mas no meio do caminho entre **simplicidade e flexibilidade**.\n",
    "\n",
    "Essa simulação reforça a ideia central de que a regressão de Ridge **melhora a generalização** do modelo ao introduzir um **viés controlado** para **reduzir a variância** — especialmente em contextos com **alta dimensionalidade** e **multicolinearidade**.\n",
    "\n"
   ]
  },
  {
   "cell_type": "markdown",
   "metadata": {},
   "source": [
    "A regressão de Ridge tende a incluir todos os $p$ preditores no modelo final, embora com coeficientes reduzidos.\n",
    "\n",
    "O Lasso resolve essa questão ao usar uma função de penalidade diferente, que força alguns coeficientes a serem exatamente iguais a zero, promovendo assim a seleção de variáveis de maneira automática."
   ]
  },
  {
   "cell_type": "markdown",
   "metadata": {},
   "source": [
    "### 3.3. Lasso (*Least Absolute Shrinkage and Selection Operator*)\n",
    "\n",
    "Os coeficientes do **Lasso** (*Operador de Encolhimento Absoluto Mínimo e Seleção de Variáveis*) são obtidos minimizando a seguinte **função objetivo**:\n",
    "\n",
    "$$\n",
    "\\hat{\\beta}^{Lasso} = \\underset{\\beta}{\\operatorname{argmin}} \\left\\{ \\sum_{i=1}^{n} \\left( y_i - \\beta_0 - \\sum_{j=1}^{p} \\beta_j x_{ij} \\right)^2 + \\lambda \\sum_{j=1}^{p} |\\beta_j| \\right\\}\n",
    "$$\n",
    "\n",
    "A principal diferença em relação à **regressão de Ridge** está na forma da **penalização**: enquanto Ridge impõe uma penalidade quadrática sobre os coeficientes (norma $\\ell_2$), o Lasso utiliza a **norma $\\ell_1$**, ou seja, penaliza a soma dos valores absolutos dos coeficientes.\n",
    "\n",
    "Essa distinção possui uma **implicação fundamental**: o Lasso tende a **forçar muitos coeficientes a exatamente zero**, realizando assim uma **seleção automática de variáveis**. Por outro lado, a regressão de Ridge apenas reduz a magnitude dos coeficientes, mas não os anula completamente.\n",
    "\n",
    "Sob algumas condições específicas:\n",
    "\n",
    "- Se as variáveis explicativas são **padronizadas** (média zero e variância unitária),\n",
    "- Se o modelo não possuir intercepto,\n",
    "- E se a **colinearidade entre os preditores for baixa**,\n",
    "\n",
    "a solução do Lasso pode ser **aproximada** por:\n",
    "\n",
    "$$\n",
    "\\hat{\\beta}^{Lasso}_{j} \\approx \\hat{\\beta}^{OLS}_{j} - \\frac{\\lambda}{2} [(X^\\top X)^{-1}]_{j}.\\operatorname{sign}(\\hat{\\beta}^{Lasso}_{j})\n",
    "$$\n",
    "\n",
    "\n",
    "Essa expressão é uma **aproximação heurística** que visa fornecer **intuição** sobre o impacto da penalização $\\ell_1$, mas **não deve ser utilizada para fins computacionais ou teóricos formais**. Diferentemente da regressão de Ridge, o Lasso **não possui solução analítica fechada**. Sua estimação depende de **métodos numéricos iterativos**, como, por exemplo, ***Métodos baseados em gradiente***, como subgradientes ou métodos de otimização convexa.\n",
    "\n",
    "Mas podemos perceber que o $\\beta_{OLS}$ será zerado quando $\\lambda$ for suficientemente grande, ou seja, o Lasso pode levar a uma solução onde alguns coeficientes são exatamente zero, enquanto outros são ajustados de forma semelhante ao OLS.\n",
    "\n",
    "\n",
    "A seguir, aplicaremos o Lasso ao conjunto de dados `credit`, comparando os coeficientes obtidos com os do Ridge e do OLS.\n"
   ]
  },
  {
   "cell_type": "code",
   "execution_count": 52,
   "metadata": {},
   "outputs": [],
   "source": [
    "# X and y\n",
    "categ_cols = [\"Gender\", \"Student\", \"Married\", \"Ethnicity\"]\n",
    "X = credit.loc[:, credit.columns != 'Balance']\n",
    "X = pd.get_dummies(X, columns=categ_cols, drop_first=True)\n",
    "y = credit.loc[:,'Balance']"
   ]
  },
  {
   "cell_type": "markdown",
   "metadata": {},
   "source": [
    "A grade do $\\lambda$ será um pouco diferente agora."
   ]
  },
  {
   "cell_type": "code",
   "execution_count": 53,
   "metadata": {},
   "outputs": [],
   "source": [
    "# Init alpha grid\n",
    "n_grid = 100\n",
    "alphas = 10 ** np.linspace(0, 3, n_grid)  # Sem reshape\n",
    "\n",
    "lasso = Lasso(max_iter=10000)  # Garantia de convergência\n",
    "lasso_coefs = []\n",
    "\n",
    "# Loop over values of alpha\n",
    "for a in alphas:\n",
    "    lasso.set_params(alpha=a)\n",
    "    lasso.fit(scale(X), y)\n",
    "    lasso_coefs.append(lasso.coef_)\n",
    "\n",
    "lasso_coefs = np.reshape(lasso_coefs, (n_grid, -1))"
   ]
  },
  {
   "cell_type": "markdown",
   "metadata": {},
   "source": [
    "Executamos o OLS para traçar a magnitude relativa dos coeficientes do Lasso."
   ]
  },
  {
   "cell_type": "code",
   "execution_count": 54,
   "metadata": {},
   "outputs": [],
   "source": [
    "# Relative magnitude\n",
    "mod_ols = np.linalg.norm(ols_coefs)\n",
    "rel_beta = [np.linalg.norm(lasso_coefs[i,:])/mod_ols for i in range(n_grid)]\n",
    "rel_beta = np.reshape(rel_beta, (-1,1))"
   ]
  },
  {
   "cell_type": "markdown",
   "metadata": {},
   "source": [
    "Traçamos a magnitude dos coeficientes $\\beta$ \n",
    "* para diferentes valores de $\\lambda$.\n",
    "* para diferentes valores de $|\\beta|$."
   ]
  },
  {
   "cell_type": "code",
   "execution_count": 55,
   "metadata": {},
   "outputs": [],
   "source": [
    "# Figure 6.6\n",
    "def make_figure_6_6():\n",
    "\n",
    "    # Init\n",
    "    fig, (ax1,ax2) = plt.subplots(1,2)\n",
    "    fig.suptitle('Figure 6.6')\n",
    "\n",
    "    highlight = [0,1,2,7];\n",
    "\n",
    "    # Plot coefficients - absolute\n",
    "    ax1.plot(alphas, lasso_coefs[:,highlight], alpha=1)\n",
    "    ax1.plot(alphas, lasso_coefs, c='grey', alpha=0.3)\n",
    "    ax1.set_xscale('log')\n",
    "    ax1.set_xlabel('lambda'); ax1.set_ylabel('Standardized coefficients');\n",
    "    ax1.legend(['Income', 'Limit', 'Rating', 'Student'], fontsize=12)\n",
    "\n",
    "    # Plot coefficients - relative\n",
    "    ax2.plot(rel_beta, lasso_coefs[:,highlight], alpha=1)\n",
    "    ax2.plot(rel_beta, lasso_coefs, c='grey', alpha=0.3)\n",
    "    ax2.set_xlabel('relative mod beta'); ax2.set_ylabel('Standardized coefficients');"
   ]
  },
  {
   "cell_type": "code",
   "execution_count": 56,
   "metadata": {},
   "outputs": [
    {
     "data": {
      "image/png": "[encoded data removed]",
      "text/plain": [
       "<Figure size 800x300 with 2 Axes>"
      ]
     },
     "metadata": {},
     "output_type": "display_data"
    }
   ],
   "source": [
    "make_figure_6_6()"
   ]
  },
  {
   "cell_type": "markdown",
   "metadata": {},
   "source": [
    "A Figura 6.6 ilustra a trajetória dos coeficientes estimados pelo Lasso à medida que o parâmetro de penalização $\\lambda$ varia. Observa-se que:\n",
    "\n",
    "- À medida que $\\lambda$ aumenta, os coeficientes são progressivamente encolhidos em direção a zero.\n",
    "- Diferentemente do Ridge, a penalização $\\ell_1$ do Lasso tem o efeito de forçar **alguns coeficientes a zero exatamente**, realizando uma **seleção automática de variáveis**.\n",
    "- Por exemplo, `Rating` se destaca como uma das variáveis mais persistentes, mantendo um valor distinto de zero mesmo sob penalizações mais intensas, enquanto outras variáveis são eliminadas conforme $\\lambda$ cresce.\n",
    "\n",
    "Assim como os métodos de seleção de subconjunto, o Lasso produz modelos **esparsos** — ou seja, modelos que utilizam apenas um subconjunto das variáveis explicativas. Essa característica é especialmente útil em situações com **muitos preditores**, onde é desejável um modelo mais interpretável e robusto.\n",
    "\n",
    "A seguir, exploraremos como a escolha de $\\lambda$ afeta o **trade-off entre viés e variância** no Lasso, de forma análoga ao que foi feito para o Ridge.\n"
   ]
  },
  {
   "cell_type": "code",
   "execution_count": 47,
   "metadata": {},
   "outputs": [
    {
     "name": "stdout",
     "output_type": "stream",
     "text": [
      "Alpha 30/30\r"
     ]
    }
   ],
   "source": [
    "# Init alpha grid\n",
    "sim = 1000\n",
    "n_grid = 30\n",
    "df = pd.DataFrame({'alpha':10**np.linspace(-1,1,n_grid)})\n",
    "lasso_coefs2 = []\n",
    "\n",
    "# Init simulations\n",
    "sim = 1000\n",
    "lasso = lambda a: Lasso(alpha=a, fit_intercept=False)\n",
    "\n",
    "# Loop over values of alpha\n",
    "for i in range(len(df)):\n",
    "    print(\"Alpha %1.0f/%1.0f\" % (i+1,len(df)), end =\"\")\n",
    "    a = df.loc[i,'alpha']\n",
    "    df.loc[i,['mse','var','bias2']], c = compute_var_bias(X_train, b0, x0, a, k, n, sim, lasso)\n",
    "    lasso_coefs2.append(c)\n",
    "    print(\"\", end=\"\\r\")\n",
    "lasso_coefs2 = np.reshape(lasso_coefs2,(n_grid,-1))"
   ]
  },
  {
   "cell_type": "code",
   "execution_count": 48,
   "metadata": {},
   "outputs": [],
   "source": [
    "# Relative magnitude\n",
    "mod_ols = np.linalg.norm(ols_coefs)\n",
    "rel_beta = [np.linalg.norm(lasso_coefs2[k,:])/mod_ols for k in range(n_grid)]\n",
    "rel_beta = np.reshape(rel_beta, (-1,1))"
   ]
  },
  {
   "cell_type": "code",
   "execution_count": 49,
   "metadata": {},
   "outputs": [],
   "source": [
    "# OLS regression\n",
    "y_train = X_train @ b0 + e_train\n",
    "ols = LinearRegression().fit(X_train,y_train)\n",
    "ols_coefs = ols.coef_;\n",
    "mod_ols = np.linalg.norm(ols_coefs)\n",
    "\n",
    "# Relative magnitude\n",
    "mod_ols = np.linalg.norm(ols_coefs)\n",
    "rel_beta = [np.linalg.norm(lasso_coefs2[k,:])/mod_ols for k in range(n_grid)]\n",
    "rel_beta = np.reshape(rel_beta, (-1,1))"
   ]
  },
  {
   "cell_type": "code",
   "execution_count": 50,
   "metadata": {},
   "outputs": [],
   "source": [
    "# Figure 6.8\n",
    "def make_figure_6_8():\n",
    "\n",
    "    fig, (ax1,ax2) = plt.subplots(1,2, figsize=(12,5))\n",
    "    fig.suptitle('Figure 6.8: Lasso Bias-Var decomposition')\n",
    "\n",
    "    # MSE\n",
    "    ax1.plot(df['alpha'], df[['bias2','var','mse']]);\n",
    "    ax1.set_xscale('log');\n",
    "    ax1.set_xlabel('lambda'); ax1.set_ylabel('Mean Squared Error');\n",
    "    ax1.legend(['Bias2','Variance','MSE'], fontsize=12);\n",
    "\n",
    "    # MSE\n",
    "    ax2.plot(rel_beta, df[['bias2','var','mse']]);\n",
    "    ax2.set_xlabel('Relative Beta'); ax1.set_ylabel('Mean Squared Error');\n",
    "    ax2.legend(['Bias2','Variance','MSE'], fontsize=12);"
   ]
  },
  {
   "cell_type": "code",
   "execution_count": 51,
   "metadata": {},
   "outputs": [
    {
     "data": {
      "image/png": "[encoded data removed]",
      "text/plain": [
       "<Figure size 1200x500 with 2 Axes>"
      ]
     },
     "metadata": {},
     "output_type": "display_data"
    }
   ],
   "source": [
    "make_figure_6_8()"
   ]
  },
  {
   "cell_type": "markdown",
   "metadata": {},
   "source": [
    "A Figura 6.8 apresenta a decomposição do **erro quadrático médio (MSE)** em função do parâmetro de penalização $\\lambda$, utilizando simulações para o estimador Lasso.\n",
    "\n",
    "No painel à esquerda, com o eixo $x$ representando os valores de $\\lambda$ em escala logarítmica, observa-se que:\n",
    "\n",
    "- À medida que $\\lambda$ **aumenta**, a penalização $\\ell_1$ se intensifica.\n",
    "- Como consequência, o **viés ao quadrado (Bias²)** aumenta, já que os coeficientes são forçados a valores menores ou até zero.\n",
    "- Em contrapartida, a **variância** do estimador diminui, pois o modelo se torna menos sensível a variações nos dados.\n",
    "- Existe um valor intermediário de $\\lambda$ que **minimiza o MSE**, representando o ponto ótimo do *trade-off* entre viés e variância.\n",
    "\n",
    "O painel à direita apresenta os mesmos componentes do MSE, mas agora em função da **norma relativa dos coeficientes estimados** em relação à regressão OLS. À medida que os coeficientes se tornam menores (menor complexidade do modelo), o viés aumenta, e a variância diminui.\n",
    "\n",
    "Esses resultados mostram que o Lasso, assim como o Ridge, busca reduzir o erro de predição total por meio da **penalização da complexidade**. Entretanto, o Lasso possui a vantagem adicional de **realizar seleção de variáveis**, promovendo modelos mais **esparsos e interpretáveis**.\n"
   ]
  },
  {
   "cell_type": "markdown",
   "metadata": {},
   "source": [
    "### 3.4. Comparando a Regressão Lasso e Ridge\n",
    "\n",
    "Para obter uma melhor **intuição geométrica e algébrica** sobre o comportamento da **regressão de Ridge** e do **Lasso**, considere o seguinte **caso especial simplificado**:\n",
    "\n",
    "- O número de observações é igual ao número de preditores: $n = p$;\n",
    "- A matriz de regressão $X$ é a **matriz identidade**, ou seja, uma matriz diagonal com 1 na diagonal e 0 fora;\n",
    "- O modelo não inclui termo de intercepto.\n",
    "\n",
    "Com essas simplificações, o problema de **mínimos quadrados ordinários (OLS)** se reduz à minimização:\n",
    "\n",
    "$$\n",
    "\\sum_{j=1}^{p} (y_{j} - \\beta_{j})^{2}\n",
    "$$\n",
    "\n",
    "cuja solução é simplesmente:\n",
    "\n",
    "$$\n",
    "\\hat{\\beta}_{j}^{OLS} = y_j\n",
    "$$\n",
    "\n",
    "Contudo, ao introduzirmos penalizações, as soluções estimadas se modificam:\n",
    "\n",
    "***Regressão de Ridge***\n",
    "\n",
    "A solução para o Ridge torna-se:\n",
    "\n",
    "$$\n",
    "\\hat{\\beta}_{j}^{Ridge} = \\frac{y_j}{1 + \\lambda}\n",
    "$$\n",
    "\n",
    "Ou seja, cada coeficiente é **encolhido proporcionalmente** à penalização $\\lambda$, sem jamais atingir exatamente zero.\n",
    "\n",
    "***Regressão Lasso***\n",
    "\n",
    "Para o Lasso, a solução adota a forma da **função de soft-thresholding**:\n",
    "\n",
    "$$\n",
    "\\hat{\\beta}_{j}^{Lasso} = \n",
    "\\begin{cases}\n",
    "y_j - \\lambda/2 & \\text{se } y_j > \\lambda/2 \\\\\\\\\n",
    "y_j + \\lambda/2 & \\text{se } y_j < -\\lambda/2 \\\\\\\\\n",
    "0 & \\text{se } |y_j| \\leq \\lambda/2\n",
    "\\end{cases}\n",
    "$$\n",
    "\n",
    "Dessa forma, o Lasso **reduz a magnitude** dos coeficientes, mas, diferentemente do Ridge, ele também **zera exatamente** aqueles que estão abaixo de certo limiar — promovendo assim **esparsidade** no vetor de parâmetros.\n"
   ]
  },
  {
   "cell_type": "code",
   "execution_count": 54,
   "metadata": {},
   "outputs": [],
   "source": [
    "np.random.seed(3)\n",
    "\n",
    "# Generate random data\n",
    "n = 100\n",
    "k = n\n",
    "X = np.eye(k)\n",
    "e = normal(0,1,(n,1))\n",
    "b0 = uniform(-1,1,(k,1))\n",
    "y = X @ b0 + e"
   ]
  },
  {
   "cell_type": "code",
   "execution_count": 55,
   "metadata": {},
   "outputs": [],
   "source": [
    "# OLS regression\n",
    "reg = LinearRegression().fit(X,y)\n",
    "ols_coefs = reg.coef_;\n",
    "\n",
    "# Ridge regression\n",
    "ridge = Ridge(alpha=1).fit(X,y)\n",
    "ridge_coefs = ridge.coef_;\n",
    "\n",
    "# Ridge regression\n",
    "lasso = Lasso(alpha=0.01).fit(X,y)\n",
    "lasso_coefs = lasso.coef_.reshape(1,-1);\n",
    "\n",
    "# sort\n",
    "order = np.argsort(y.reshape(1,-1), axis=1)\n",
    "y_sorted = np.take_along_axis(ols_coefs, order, axis=1) \n",
    "ols_coefs = np.take_along_axis(ols_coefs, order, axis=1) \n",
    "ridge_coefs = np.take_along_axis(ridge_coefs, order, axis=1) \n",
    "lasso_coefs = np.take_along_axis(lasso_coefs, order, axis=1) "
   ]
  },
  {
   "cell_type": "code",
   "execution_count": 56,
   "metadata": {},
   "outputs": [],
   "source": [
    "# Figure 6.10\n",
    "def make_figure_6_10():\n",
    "    \n",
    "    # Init\n",
    "    fig, (ax1,ax2) = plt.subplots(1,2)\n",
    "    fig.suptitle('Figure 6.10')\n",
    "\n",
    "    # Ridge\n",
    "    ax1.plot(y_sorted.T, ols_coefs.T)\n",
    "    ax1.plot(y_sorted.T, ridge_coefs.T)\n",
    "    ax1.set_xlabel('True Coefficient'); ax1.set_ylabel('Estimated Coefficient');\n",
    "    ax1.legend(['OLS','Ridge'], fontsize=12);\n",
    "\n",
    "    # Lasso\n",
    "    ax2.plot(y_sorted.T, ols_coefs.T)\n",
    "    ax2.plot(y_sorted.T, lasso_coefs.T)\n",
    "    ax2.set_xlabel('True Coefficient'); ax2.set_ylabel('Estimated Coefficient');\n",
    "    ax2.legend(['OLS','Lasso'], fontsize=12);"
   ]
  },
  {
   "cell_type": "code",
   "execution_count": 57,
   "metadata": {},
   "outputs": [
    {
     "data": {
      "image/png": "[encoded data removed]",
      "text/plain": [
       "<Figure size 800x300 with 2 Axes>"
      ]
     },
     "metadata": {},
     "output_type": "display_data"
    }
   ],
   "source": [
    "make_figure_6_10()"
   ]
  },
  {
   "cell_type": "markdown",
   "metadata": {},
   "source": [
    "Vemos que a regressão Ridge reduz todas as dimensões dos dados na mesma proporção, enquanto o LASSO reduz todos os coeficientes em direção a zero em uma quantidade similar, e coeficientes suficientemente pequenos são reduzidos até zero."
   ]
  },
  {
   "cell_type": "markdown",
   "metadata": {},
   "source": [
    "### 3.5. Selecionando o Parâmetro de Ajuste (Hiperparâmetro) $\\lambda$\n",
    "\n",
    "A implementação da **regressão de Ridge** e do **Lasso** requer um método para selecionar um valor apropriado para o **parâmetro de ajuste** $\\lambda$.\n",
    "\n",
    "A **validação cruzada** oferece uma maneira simples e eficaz de resolver esse problema. O procedimento geral consiste em:\n",
    "\n",
    "1. Escolher uma **grade de valores** para o parâmetro $\\lambda$;\n",
    "2. Para cada valor de $\\lambda$, calcular o **erro de validação cruzada** correspondente;\n",
    "3. Selecionar o valor de $\\lambda$ que **minimiza** o **erro de validação cruzada**;\n",
    "4. Por fim, com o **parâmetro selecionado**, o modelo é **reajustado** utilizando **todas as observações disponíveis**, garantindo que o ajuste final se beneficie de toda a informação amostral.\n",
    "\n",
    "Esse procedimento permite equilibrar adequadamente a **complexidade do modelo** e o **erro de generalização**, evitando tanto o **sobreajuste** (quando $\\lambda$ é pequeno) quanto o **subajuste** (quando $\\lambda$ é excessivamente grande).\n"
   ]
  },
  {
   "cell_type": "code",
   "execution_count": 57,
   "metadata": {},
   "outputs": [],
   "source": [
    "# X and y\n",
    "categ_cols = [\"Gender\", \"Student\", \"Married\", \"Ethnicity\"]\n",
    "X = credit.loc[:, credit.columns != 'Balance']\n",
    "X = pd.get_dummies(X, columns=categ_cols, drop_first=True).values\n",
    "y = credit.loc[:,'Balance']\n",
    "n = len(credit)"
   ]
  },
  {
   "cell_type": "markdown",
   "metadata": {},
   "source": [
    "Usaremos o CV de 10 vezes como algoritmo de validação cruzada."
   ]
  },
  {
   "cell_type": "code",
   "execution_count": 64,
   "metadata": {},
   "outputs": [],
   "source": [
    "def cv_lasso(X, y, a):\n",
    "    # Init mse\n",
    "    mse = []\n",
    "    \n",
    "    # Generate splits\n",
    "    kf10 = KFold(n_splits=10, random_state=None, shuffle=False)\n",
    "    \n",
    "    # Loop over splits\n",
    "    for train_index, test_index in kf10.split(X):\n",
    "        X_train, X_test = X[train_index], X[test_index]\n",
    "        y_train, y_test = y[train_index], y[test_index]\n",
    "        \n",
    "        lasso = Lasso(alpha=a, max_iter=10000).fit(X_train, y_train)\n",
    "        y_hat = lasso.predict(X_test)\n",
    "        mse.append(mean_squared_error(y_test, y_hat))\n",
    "    \n",
    "    return np.mean(mse)"
   ]
  },
  {
   "cell_type": "code",
   "execution_count": 59,
   "metadata": {},
   "outputs": [],
   "source": [
    "# Compute MSE over grid of alphas\n",
    "n_grid = 30\n",
    "alphas = 10 ** np.linspace(0, 3, n_grid)  # CORRETO: shape (30,)\n",
    "\n",
    "MSE = [cv_lasso(scale(X), y.values, a) for a in alphas]"
   ]
  },
  {
   "cell_type": "markdown",
   "metadata": {},
   "source": [
    "Qual é o $\\lambda$ ideal?"
   ]
  },
  {
   "cell_type": "code",
   "execution_count": 60,
   "metadata": {},
   "outputs": [
    {
     "name": "stdout",
     "output_type": "stream",
     "text": [
      "Best alpha by 10fold CV: 1.0\n"
     ]
    }
   ],
   "source": [
    "# Find minimum alpha\n",
    "alpha_min = alphas[np.argmin(MSE)]\n",
    "print('Best alpha by 10fold CV:',alpha_min)"
   ]
  },
  {
   "cell_type": "markdown",
   "metadata": {},
   "source": [
    "Agora plotamos a função objetivo e os coeficientes implícitos $\\lambda$ no ponto ótimo."
   ]
  },
  {
   "cell_type": "code",
   "execution_count": 61,
   "metadata": {},
   "outputs": [],
   "source": [
    "# Get coefficients\n",
    "coefs = []\n",
    "\n",
    "# Loop over values of alpha\n",
    "for a in alphas:\n",
    "    lasso = Lasso(alpha=a).fit(scale(X), y)\n",
    "    coefs.append(lasso.coef_)\n",
    "coefs = np.reshape(coefs,(n_grid,-1))"
   ]
  },
  {
   "cell_type": "code",
   "execution_count": 62,
   "metadata": {},
   "outputs": [],
   "source": [
    "# Figure 6.12\n",
    "def make_figure_6_12():\n",
    "    \n",
    "    # Init\n",
    "    fig, (ax1,ax2) = plt.subplots(1,2)\n",
    "    fig.suptitle('Figure 6.12: Lasso 10-fold CV')\n",
    "\n",
    "    # MSE by LOO CV\n",
    "    ax1.plot(alphas, MSE, alpha=1);\n",
    "    ax1.axvline(alpha_min, c='k', ls='--')\n",
    "    ax1.set_xscale('log')\n",
    "    ax1.set_xlabel('lambda'); ax1.set_ylabel('MSE');\n",
    "\n",
    "    highlight = [0,1,2,7];\n",
    "\n",
    "    # Plot coefficients - absolute\n",
    "    ax2.plot(alphas, coefs[:,highlight], alpha=1)\n",
    "    ax2.plot(alphas, coefs, c='grey', alpha=0.3)\n",
    "    ax2.axvline(alpha_min, c='k', ls='--')\n",
    "    ax2.set_xscale('log')\n",
    "    ax2.set_xlabel('lambda'); ax2.set_ylabel('Standardized coefficients');\n",
    "    ax2.legend(['Income', 'Limit', 'Rating', 'Student'], fontsize=10);"
   ]
  },
  {
   "cell_type": "code",
   "execution_count": 87,
   "metadata": {},
   "outputs": [
    {
     "data": {
      "image/png": "[encoded data removed]",
      "text/plain": [
       "<Figure size 1000x400 with 2 Axes>"
      ]
     },
     "metadata": {},
     "output_type": "display_data"
    }
   ],
   "source": [
    "make_figure_6_12()"
   ]
  },
  {
   "cell_type": "markdown",
   "metadata": {},
   "source": [
    "### 3.5. Elastic Net\n",
    "\n",
    "O **Elastic Net** combina os benefícios da regressão **Ridge** e do **Lasso**. Ele é particularmente útil quando há **alta correlação entre variáveis explicativas**, situação na qual o Lasso pode se tornar instável.\n",
    "\n",
    "A função objetivo do Elastic Net é:\n",
    "\n",
    "$$\n",
    "\\hat{\\beta}^{EN} = \\underset{\\beta}{\\operatorname{argmin}} \\left\\{\n",
    "\\| y - X\\beta \\|_2^2 + \\lambda \\left( \\alpha \\|\\beta\\|_1 + \\frac{1 - \\alpha}{2} \\|\\beta\\|_2^2 \\right)\n",
    "\\right\\}\n",
    "$$\n",
    "\n",
    "onde:\n",
    "- $\\lambda \\geq 0$ controla o grau total de penalização;\n",
    "- $\\alpha \\in [0, 1]$ determina o peso relativo entre Lasso e Ridge:\n",
    "  - $\\alpha = 1$: solução do Lasso;\n",
    "  - $\\alpha = 0$: solução do Ridge;\n",
    "  - $0 < \\alpha < 1$: interpolação entre os dois.\n",
    "\n",
    "\n",
    "### Intuição\n",
    "\n",
    "- A penalização $\\ell_1$ favorece **esparsidade** (seleção de variáveis);\n",
    "- A penalização $\\ell_2$ estabiliza as estimativas em presença de **colinearidade**;\n",
    "- O Elastic Net tende a **selecionar grupos de variáveis correlacionadas**, ao contrário do Lasso, que pode selecionar apenas uma.\n",
    "\n",
    "Esse método oferece uma flexibilidade entre Ridge e Lasso.\n"
   ]
  },
  {
   "cell_type": "markdown",
   "metadata": {},
   "source": [
    "### Como escolher na prática?\n",
    "\n",
    "Use validação cruzada para comparar:\n",
    "* Ajuste Ridge e Lasso com grid de $\\lambda$\n",
    "* Ajuste Elastic Net com grid de $\\alpha$ e $\\lambda$ (mistura entre L1 e L2)\n",
    "* Compare os erros de validação cruzada\n",
    "* Escolha o modelo com menor erro."
   ]
  },
  {
   "cell_type": "markdown",
   "metadata": {},
   "source": [
    "### Seleção de Variáveis Clássica vs Regularização\n",
    "\n",
    "A principal diferença entre os métodos de **seleção de variáveis clássica** (como *forward selection*, *backward selection* e *best subset selection*) e os métodos de **regularização** (como Ridge, Lasso e Elastic Net) está na forma como lidam com a **complexidade do modelo** e a **seleção de preditores**.\n",
    "\n",
    "Os métodos de **regularização** tendem a ser superiores em termos de **precisão preditiva** e **robustez** quando:\n",
    "\n",
    "- O número de variáveis é grande.\n",
    "- Existe multicolinearidade entre os preditores.\n",
    "- O contexto é de **alta dimensionalidade** (inclusive $ p > n $).\n",
    "- O objetivo principal é a **generalização fora da amostra**.\n",
    "- O foco está em **minimizar o erro de predição**, e não apenas em interpretar os coeficientes.\n",
    "\n",
    "Já os métodos de **seleção de variáveis clássica** são mais apropriados quando:\n",
    "\n",
    "- O número de variáveis é pequeno ou moderado.\n",
    "- O modelo precisa ser **interpretável e explicativo**, com base em significância estatística.\n",
    "- A multicolinearidade não é um problema importante.\n",
    "- O foco está em **identificar variáveis relevantes** para o fenômeno estudado, mais do que na performance preditiva.\n",
    "\n",
    "**Observação:** entre os métodos de regularização, o **Lasso** e o **Elastic Net** também realizam **seleção de variáveis** — zerando coeficientes — e, por isso, **podem ser interpretáveis** quando bem ajustados.\n"
   ]
  }
 ],
 "metadata": {
  "kernelspec": {
   "display_name": "Python 3",
   "language": "python",
   "name": "python3"
  },
  "language_info": {
   "codemirror_mode": {
    "name": "ipython",
    "version": 3
   },
   "file_extension": ".py",
   "mimetype": "text/x-python",
   "name": "python",
   "nbconvert_exporter": "python",
   "pygments_lexer": "ipython3",
   "version": "3.11.5"
  }
 },
 "nbformat": 4,
 "nbformat_minor": 2
}
