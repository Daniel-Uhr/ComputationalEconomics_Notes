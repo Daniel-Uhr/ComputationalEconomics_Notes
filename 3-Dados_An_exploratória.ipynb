{
 "cells": [
  {
   "cell_type": "markdown",
   "metadata": {},
   "source": [
    "# Análise Exploratória de Dados em Python\n",
    "\n",
    "Prof. Daniel de Abreu Pereira Uhr\n",
    "\n",
    "### Conteúdo\n",
    "\n",
    "* Análise exploratória de dados\n",
    "  * Estatísticas descritivas\n",
    "  * Visualização de dados\n",
    "  * Correlação\n",
    "  * Missing values\n",
    "  * Outliers\n",
    "  * Transformação de variáveis\n",
    "  * Normalização e padronização\n",
    "\n",
    "### Referências\n",
    "\n",
    "* Géron, Aurélien. Hands-On Machine Learning with Scikit-Learn, Keras, and TensorFlow: Concepts, Tools, and Techniques to Build Intelligent Systems. O'Reilly Media, 2019.\n",
    "* Athey, S., & Imbens, G. (2017). \"The State of Applied Econometrics: Causality and Policy Evaluation.\" *Journal of Economic Perspectives*.\n",
    "* Mullainathan, S., & Spiess, J. (2017). \"Machine Learning: An Applied Econometric Approach.\" *Journal of Economic Perspectives*.\n",
    "* Varian, H. R. (2014). \"Big Data: New Tricks for Econometrics.\" *Journal of Economic Perspectives*."
   ]
  },
  {
   "cell_type": "markdown",
   "metadata": {},
   "source": [
    "  * **Análise Exploratória de Dados**\n",
    "    * Análise descritiva\n",
    "    * Análise gráfica\n",
    "    * Análise de correlação\n",
    "    * Análise de missing values\n",
    "    * Análise de outliers\n",
    "    * Análise de balanceamento de classes"
   ]
  }
 ],
 "metadata": {
  "language_info": {
   "name": "python"
  }
 },
 "nbformat": 4,
 "nbformat_minor": 2
}
