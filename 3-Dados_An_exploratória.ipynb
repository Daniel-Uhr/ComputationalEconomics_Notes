{
 "cells": [
  {
   "cell_type": "markdown",
   "metadata": {},
   "source": [
    "# Análise Exploratória de Dados em Python\n",
    "\n",
    "Prof. Daniel de Abreu Pereira Uhr\n",
    "\n",
    "### Conteúdo\n",
    "\n",
    "* Análise exploratória de dados\n",
    "  * Caracterização Geral do Dados\n",
    "    * Descrição das variáveis: Tipos de variáveis (categóricas, numéricas, ordinais, etc.).\n",
    "    * Resumo estatístico: Média, mediana, moda, mínimo, máximo, desvio padrão, quartis.\n",
    "    * Distribuições: Histograma, densidade de probabilidade, gráficos de frequência.\n",
    "    * Detecção de valores ausentes: Identificar e quantificar dados ausentes.\n",
    "    * Outliers: Identificação de valores atípicos por meio de boxplots ou métricas como z-score.\n",
    "  * Relações entre variáveis\n",
    "    * Correlação: Matriz de correlação entre variáveis numéricas.\n",
    "    * Análise bivariada: Gráficos de dispersão, tabelas de contingência, boxplots comparativos.\n",
    "    * Relações categóricas: Gráficos de barras, proporções e análise de frequência cruzada.\n",
    "  * Análise temporal\n",
    "    * Tendências ao longo do tempo: Séries temporais, sazonalidade, ciclos.\n",
    "    * Mudanças estruturais: Quebras ou alterações em padrões.\n",
    "    * Análise de autocorrelação: Identificação de dependências entre períodos.\n",
    "  * Distribuição Espacial\n",
    "    * Mapas temáticos: Visualização de dados geográficos.\n",
    "    * Clusters geográficos: Identificação de padrões regionais ou clusters espaciais.\n",
    "    * Análise de distância: Relações baseadas em proximidade geográfica.\n",
    "  * Análise de Dimensões Multivariadas\n",
    "    * Redução de dimensionalidade: PCA (Principal Component Analysis), t-SNE, UMAP.\n",
    "    * Clusters: Identificação de agrupamentos por meio de k-means, DBSCAN ou hierárquicos.\n",
    "    * Gráficos multivariados: Pares de dispersão, diagramas de paralelismo.\n",
    "  * Análise de Dados Categóricos\n",
    "    * Distribuição de frequências: Tabelas ou gráficos de barras/pizza.\n",
    "    * Análise de associações: Teste qui-quadrado, tabelas de contingência.\n",
    "    * Comparações: Gráficos de boxplot categorizados.\n",
    "  * \n",
    "\n",
    "\n",
    "\n",
    "### Referências\n",
    "\n",
    "* Géron, Aurélien. Hands-On Machine Learning with Scikit-Learn, Keras, and TensorFlow: Concepts, Tools, and Techniques to Build Intelligent Systems. O'Reilly Media, 2019.\n",
    "* Athey, S., & Imbens, G. (2017). \"The State of Applied Econometrics: Causality and Policy Evaluation.\" *Journal of Economic Perspectives*.\n",
    "* Mullainathan, S., & Spiess, J. (2017). \"Machine Learning: An Applied Econometric Approach.\" *Journal of Economic Perspectives*.\n",
    "* Varian, H. R. (2014). \"Big Data: New Tricks for Econometrics.\" *Journal of Economic Perspectives*."
   ]
  },
  {
   "cell_type": "markdown",
   "metadata": {},
   "source": [
    "\n",
    "\n",
    "\n",
    "\n",
    "\n"
   ]
  }
 ],
 "metadata": {
  "language_info": {
   "name": "python"
  }
 },
 "nbformat": 4,
 "nbformat_minor": 2
}
