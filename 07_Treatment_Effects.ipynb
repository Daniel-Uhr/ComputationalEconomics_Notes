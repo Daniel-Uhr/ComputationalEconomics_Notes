{
 "cells": [
  {
   "cell_type": "markdown",
   "metadata": {},
   "source": [
    "# Modelo de Resultados Potenciais\n",
    "\n",
    "Prof. Daniel de Abreu Pereira Uhr\n",
    "\n",
    "\n",
    "### Conteúdo\n",
    "\n",
    "* Resultados Potencias\n",
    "  * Notações e Conceitos Iniciais\n",
    "  * Efeito Médio do Tratamento\n",
    "  * Efeito Médio do Tratamento sobre os Tratados\n",
    "  * Efeito Médio do Tratamento sobre os Não Tratados\n",
    "  * Decomposição de Médias\n",
    "  * Estimador para o ATE\n",
    "  * Diferenças do uso da SDO entre o ATE e o ATT\n",
    "\n",
    "* Método Experimental\n",
    "  * Suposição de Independência e Randomized Controlled Trials (RCTs - A/B-tests)\n",
    "  * SUTVA\n",
    "  * Randomized Controlled Trials (RCT) e Regressão Linear\n",
    "  * RCT em termos de regressão linear\n",
    "\n",
    "* Considerações Finais\n",
    "\n",
    "\n",
    "### Referências\n",
    "\n",
    "\n",
    "* Cunningham, S. W. (2013). Causal inference: The mixtape. https://mixtape.scunning.com/ \n",
    "* Facure, Matheus. Causal Inference for Brave and True. https://matheusfacure.github.io/python-causality-handbook/landing-page.html ​​\n",
    "* Joshua D. Angrist and Jörn-Steffen Pischke (2009). Mostly Harmless Econometrics: An Empiricist's Companion. Princeton University Press.\n",
    "* Hernan, M. Causal Inference: What If (the book). https://www.hsph.harvard.edu/miguel-hernan/causal-inference-book/ \n",
    "* [Avaliação Econômica de Projetos Sociais. Itaú Social, 2017](https://www.itausocial.org.br/wp-content/uploads/2018/05/avaliacao-economica-3a-ed_1513188151.pdf). Capítulos 1, 2 e 3. \n",
    "* Splawa-Neyman, J. (1923). On the Application of Probability Theory to Agricultural Experiments. Essay on Principles. Section 9. Statistical Science, 5(4), 465–472. https://www.jstor.org/stable/2245382\n",
    "* Rubin D. B. (1974). Estimating causal effects of treatments in randomized and nonrandomized studies. Journal of Educational Psychology, 66(5), 688–701. https://doi.org/10.1037/h0037350\n",
    "* Notas próprias.​\n",
    "\n",
    "\n",
    "***Observações:*** *O material apresentado aqui é uma adaptação do material de aula do Prof. Daniel de Abreu Pereira Uhr, e não deve ser utilizado para fins comerciais. O material é disponibilizado para fins educacionais e de pesquisa, e não deve ser reproduzido sem a devida autorização do autor. Este material pode conter erros e imprecisões. O autor não se responsabiliza por quaisquer danos ou prejuízos decorrentes do uso deste material. O uso deste material é de responsabilidade exclusiva do usuário. Caso você encontre erros ou imprecisões neste material, por favor, entre em contato com o autor para que possam ser corrigidos. O autor agradece qualquer feedback ou sugestão de melhoria.*\n",
    "\n"
   ]
  },
  {
   "cell_type": "markdown",
   "metadata": {},
   "source": [
    "## Resultados Potenciais"
   ]
  },
  {
   "cell_type": "markdown",
   "metadata": {},
   "source": [
    "Embora a **notação de resultados potenciais** remonte a Splawa-Neyman ( 1923 ), obteve um grande impulso nas ciências sociais aplicadas com D. Rubin ( 1974 ). Atualmente, esse tipo de abordagem tomou o protagonismo nas principais revistas científicas. **Na tradição de resultados potenciais** (Splawa-Neyman 1923; D. Rubin 1974 ), **um efeito causal é definido como uma comparação entre dois estados do mundo**. \n",
    "\n",
    "Por exemplo, no primeiro estado do mundo (**estado \"factual\"** ou “real” do mundo), uma empresa adota uma nova tecnologia para automação do processo produtivo e um ano depois relata seu nível de produtividade. No segundo estado do mundo (**estado “contrafactual”** do mundo), essa mesma empresa não adota uma nova tecnologia para automação do processo produtivo e um ano depois relata seu nível de produtividade. \n",
    "\n",
    "Qual foi o efeito causal da adocação da tecnologia de automação industrial? \n",
    "\n",
    "De acordo com a tradição dos resultados potenciais, **o efeito causal da tecnologia sobre o processo de produção** é a **diferença na produtividade entre dois estados do mundo**: um onde foi adotada a tecnologia (o estado **factual**/real do mundo) e outro onde ele nunca adotou a tecnologia (o estado **contrafactual** do mundo). A diferença na produtividade entre esses dois estados do mundo é o efeito causal da adoção da tecnologia. A ideia central é essa! \n",
    "\n",
    "Repare que estamos construindo um raciocínio comparativo entre a empresa que sofreu a intervenção, e a mesma empresa caso não tivesse sofrido a intervenção. (Por que?)"
   ]
  },
  {
   "cell_type": "markdown",
   "metadata": {},
   "source": [
    "### Notações e Conceitos Iniciais\n",
    "\n",
    "Vamos introduzir algumas notações e conceitos mais específicos. Cada empresa $i$ apresenta uma medida de produtividade (resultado/outcome) $Y_{i}$, que pode ser observada em dois estados do mundo, $Y_{i}^{1}$ caso a empresa tenha sofrido a intervenção ($D=1$) e $Y_{i}^{0}$ caso contrário ($D=0$). Essas variáveis são factuais (reais e/ou observáveis).\n",
    "\n",
    "**A ideia de resultados potenciais é um arcabouço hipotético**. E a forma de como passamos dos resultados potenciais para os resultados reais é um grande passo filosófico.\n",
    "\n",
    "Então, o ***problema fundamental da inferência causal*** é que nunca podemos observar o mesmo indivíduo sob diferentes condições de tratamento:\n",
    "\n",
    "$$\n",
    "Y^{obs}_i(D)= \n",
    "\\begin{cases}\n",
    "Y_i(1), & \\text{se } D=1 \\\\\n",
    "Y_i(0), & \\text{se } D=0\n",
    "\\end{cases}\n",
    "$$\n",
    "\n",
    "Ou seja, o resultado observável de uma unidade é uma função dos seus resultados potenciais determinados de acordo com a **equação de comutação** (switching equation):\n",
    "\n",
    ">\n",
    "> $$ Y_{i} = D_{i}Y_{i}(1) + (1-D_{i})Y_{i}(0) $$\n",
    ">\n",
    "\n",
    "Onde $D_{i}$ é uma variável binária que indica se a unidade $i$ sofreu a intervenção ($D_{i}=1$) ou não ($D_{i}=0$). Observe a lógica da equação, quando $D_{i}=1$, o resultado observável é igual ao resultado potencial $Y_{i}^{1}$, e quando $D_{i}=0$, o resultado observável é igual ao resultado potencial $Y_{i}^{0}$.\n",
    "\n",
    "\n",
    "***Individual Treatment Effect - ITE - $\\beta_{i}$***\n",
    "\n",
    "Usando essa notação, podemos definir **o efeito causal individual** (ITE - *Individual Treatment Effect*) da intervenção como a diferença entre os resultados potenciais do estado factual e contrafactual da unidade $i$:\n",
    "\n",
    "$$ \n",
    "\\beta_{i}^{ITE} = Y_{i}(1) - Y_{i}(0) \n",
    "$$\n",
    "\n",
    "Reparem que temos um problema, se o efeito causal exige o conhecimento dos dois estados da natureza, mas pela equação de comutação observamos apenas um estado para cada indivíduo, então **não podemos calcular diretamente o efeito causal**. É aqui que reside o **problema fundamental da inferência causal**: a certeza em torno dos efeitos causais requer acesso a dados que estão além do alcance do pesquisador."
   ]
  },
  {
   "cell_type": "markdown",
   "metadata": {},
   "source": [
    "***E a Média dos Efeitos para os Diferentes Indivíduos?***\n",
    "\n",
    "Devido ao **problema fundamental da inferência causal**, podemos entender a questão como um caso de **dados faltantes**: não podemos observar o resultado de um indivíduo sob tratamento e controle simultaneamente. Portanto, **não podemos observar o efeito causal de um tratamento em um indivíduo**. O que podemos observar são os resultados de um indivíduo tratado ou não-tratado, mas não em ambos.\n",
    "\n",
    "$$ Y_{i} = D Y^{1}_{i} + (1-D)Y^{0}_{i} $$\n",
    "\n",
    "rearrajando a equação, temos:\n",
    "\n",
    "$$ Y_{i} = Y^{0}_{i} + (Y^{1}_{i} - Y^{0}_{i})D $$\n",
    "\n",
    "Vamos chamar o ***efeito causal individual*** (ITE) é a diferença nos dois estados da natureza, que vamos denotar aqui como $\\beta_{ITE}$, então:\n",
    "\n",
    "$$ Y_{i} = Y^{0}_{i} + \\beta_{ITE} D $$\n",
    "\n",
    "\n",
    "Quando possuímos uma amostra, podemos avaliar o efeito médio (Efeito Médio do Tratamento - Average Treatment Effect - ATE). Aplicando a esperança de $Y_{i}$, temos:\n",
    "\n",
    "$$ E[Y_{i}] = E[Y^{0}_{i}] + E[\\beta_{ITE}]E[D] $$\n",
    "\n",
    "E as médias condicionais:\n",
    "\n",
    "$$ E[Y_{i}|D=1] = E[Y^{1}_{i}] = E[Y^{0}_{i}] + E[\\beta_{ITE}] $$\n",
    "\n",
    "$$ E[Y_{i}|D=0] = E[Y^{0}_{i}] $$\n",
    "\n",
    "\n",
    "repare que a diferença entre as médias condicionais (média dos tratados e a média dos não tratados) é o efeito médio do tratamento (ATE):\n",
    "\n",
    "$$ ATE = E[Y_{i}|D=1] - E[Y_{i}|D=0] = E[Y^{1}_{i}] - E[Y^{0}_{i}] = E[\\beta_{ITE}] $$\n",
    "\n",
    "Você está me dizendo que o efeito médio do tratamento é uma diferença entre duas médias? ***Sim!***\n",
    "\n",
    "Você está me dizendo que regressões lineares podem ser vistas como diferença entre médias? ***Sim!***\n",
    "\n",
    "***Não acredito nisso!***\n",
    "\n",
    "Então veja você mesmo numa aplicação em Python:\n"
   ]
  },
  {
   "cell_type": "code",
   "execution_count": 1,
   "metadata": {},
   "outputs": [],
   "source": [
    "import pandas as pd\n",
    "from scipy.stats import ttest_ind\n",
    "import statsmodels.formula.api as smf\n",
    "import seaborn as sns"
   ]
  },
  {
   "cell_type": "code",
   "execution_count": null,
   "metadata": {},
   "outputs": [],
   "source": [
    "# DataFrame do peso dos bebês ao nascer\n",
    "df = pd.read_stata(\"https://github.com/Daniel-Uhr/data/raw/main/cattaneo2.dta\")"
   ]
  },
  {
   "cell_type": "code",
   "execution_count": 3,
   "metadata": {},
   "outputs": [],
   "source": [
    "# Ajustando as variáveis\n",
    "# Criar a variável de resultado (Y)\n",
    "df['Y'] = df['bweight']\n",
    "# Crie a variável 'Treated' com valor inicial de 0\n",
    "df['Treated'] = 0\n",
    "# Recodifique 'Treated' para 1 se 'mbsmoke' for igual a 'smoker'\n",
    "df.loc[df['mbsmoke'] == 'smoker', 'Treated'] = 1"
   ]
  },
  {
   "cell_type": "code",
   "execution_count": 4,
   "metadata": {},
   "outputs": [
    {
     "data": {
      "text/plain": [
       "<Axes: xlabel='Y', ylabel='Density'>"
      ]
     },
     "execution_count": 4,
     "metadata": {},
     "output_type": "execute_result"
    },
    {
     "data": {
      "image/png": "[encoded data removed]",
      "text/plain": [
       "<Figure size 640x480 with 1 Axes>"
      ]
     },
     "metadata": {},
     "output_type": "display_data"
    }
   ],
   "source": [
    "# Plotando a distribuição do peso dos bebês ao nascer\n",
    "sns.kdeplot(df[df['Treated'] == 0]['Y'], fill=True, label='Não fumantes')\n",
    "sns.kdeplot(df[df['Treated'] == 1]['Y'], fill=True, label='Fumantes')"
   ]
  },
  {
   "cell_type": "markdown",
   "metadata": {},
   "source": [
    "Vamos verificar a média do peso dos bebês para as mães não fumantes."
   ]
  },
  {
   "cell_type": "code",
   "execution_count": 5,
   "metadata": {},
   "outputs": [
    {
     "data": {
      "text/plain": [
       "3412.91159343568"
      ]
     },
     "execution_count": 5,
     "metadata": {},
     "output_type": "execute_result"
    }
   ],
   "source": [
    "df[df['Treated'] == 0]['Y'].mean()"
   ]
  },
  {
   "cell_type": "markdown",
   "metadata": {},
   "source": [
    "Vamos verificar a média do peso dos bebês para as mães fumantes."
   ]
  },
  {
   "cell_type": "code",
   "execution_count": 6,
   "metadata": {},
   "outputs": [
    {
     "data": {
      "text/plain": [
       "3137.659722222222"
      ]
     },
     "execution_count": 6,
     "metadata": {},
     "output_type": "execute_result"
    }
   ],
   "source": [
    "df[df['Treated'] == 1]['Y'].mean()"
   ]
  },
  {
   "cell_type": "markdown",
   "metadata": {},
   "source": [
    "diferença entre as médias dos bebês para as mães fumantes e não fumantes."
   ]
  },
  {
   "cell_type": "code",
   "execution_count": 7,
   "metadata": {},
   "outputs": [
    {
     "data": {
      "text/plain": [
       "-275.2518712134579"
      ]
     },
     "execution_count": 7,
     "metadata": {},
     "output_type": "execute_result"
    }
   ],
   "source": [
    "df[df['Treated'] == 1]['Y'].mean() - df[df['Treated'] == 0]['Y'].mean()"
   ]
  },
  {
   "cell_type": "code",
   "execution_count": 32,
   "metadata": {},
   "outputs": [
    {
     "name": "stdout",
     "output_type": "stream",
     "text": [
      "Ttest_indResult(statistic=-12.830577987447224, pvalue=4.683726413107466e-37)\n"
     ]
    }
   ],
   "source": [
    "# Gerar um teste-t para comparar a média do peso do bebê entre fumantes e não fumantes\n",
    "grupo_fumantes = df[df['Treated'] == 1]['Y']\n",
    "grupo_nao_fumantes = df[df['Treated'] == 0]['Y']\n",
    "# Realizar o teste-t\n",
    "teste_t = ttest_ind(grupo_fumantes, grupo_nao_fumantes)\n",
    "print(teste_t)"
   ]
  },
  {
   "cell_type": "markdown",
   "metadata": {},
   "source": [
    "E se fizermos uma regressão linear com a variável fumante como variável explicativa?\n"
   ]
  },
  {
   "cell_type": "code",
   "execution_count": 33,
   "metadata": {},
   "outputs": [
    {
     "name": "stdout",
     "output_type": "stream",
     "text": [
      "                            OLS Regression Results                            \n",
      "==============================================================================\n",
      "Dep. Variable:                      Y   R-squared:                       0.034\n",
      "Model:                            OLS   Adj. R-squared:                  0.034\n",
      "Method:                 Least Squares   F-statistic:                     164.6\n",
      "Date:                Mon, 21 Apr 2025   Prob (F-statistic):           4.68e-37\n",
      "Time:                        19:03:03   Log-Likelihood:                -36033.\n",
      "No. Observations:                4642   AIC:                         7.207e+04\n",
      "Df Residuals:                    4640   BIC:                         7.208e+04\n",
      "Df Model:                           1                                         \n",
      "Covariance Type:            nonrobust                                         \n",
      "==============================================================================\n",
      "                 coef    std err          t      P>|t|      [0.025      0.975]\n",
      "------------------------------------------------------------------------------\n",
      "Intercept   3412.9116      9.255    368.754      0.000    3394.767    3431.056\n",
      "Treated     -275.2519     21.453    -12.831      0.000    -317.310    -233.194\n",
      "==============================================================================\n",
      "Omnibus:                      739.371   Durbin-Watson:                   2.007\n",
      "Prob(Omnibus):                  0.000   Jarque-Bera (JB):             2256.717\n",
      "Skew:                          -0.824   Prob(JB):                         0.00\n",
      "Kurtosis:                       5.992   Cond. No.                         2.67\n",
      "==============================================================================\n",
      "\n",
      "Notes:\n",
      "[1] Standard Errors assume that the covariance matrix of the errors is correctly specified.\n"
     ]
    }
   ],
   "source": [
    "reg = smf.ols('Y ~ Treated', data=df).fit()\n",
    "print(reg.summary())"
   ]
  },
  {
   "cell_type": "markdown",
   "metadata": {},
   "source": [
    "Repare que os resultados são idênticos à diferença entre médias. Como o efeito de fumar é negativo\n"
   ]
  },
  {
   "cell_type": "markdown",
   "metadata": {},
   "source": [
    "Voltando aos conceitos"
   ]
  },
  {
   "cell_type": "markdown",
   "metadata": {},
   "source": [
    "### Efeito Médio do Tratamento\n",
    "\n",
    "O **Efeito Médio do Tratamento** (Average Treatment Effect - ATE) é a média do efeito causal individual **da população**.\n",
    "\n",
    ">\n",
    "> $$ ATE = E[\\beta_{i}] = E[Y_{i}^{1} - Y_{i}^{0}] = E[Y_{i}^{1}] - E[Y_{i}^{0}] $$\n",
    ">\n",
    "\n",
    "O ATE, assim como o efeito causal individual do tratamento, não é uma quantidade que possa ser calculada. Mas poderá ser estimado!\n",
    "\n",
    "\n",
    "### Efeito Médio do Tratamento Sobre os Tratados\n",
    "\n",
    "Repare que existem dois grupos de pessoas na discussão: um **grupo de tratamento** e um **grupo de controle**. O efeito médio do tratamento para o grupo de tratamento  (Average Treatment Effect on the Treated - ATT), é simplesmente o efeito médio do tratamento da população para o grupo de unidades ao qual foi atribuído o tratamento em primeiro lugar, de acordo com a equação de comutação. \n",
    "\n",
    "Tal como o ATE, o ATT é incognoscível porque, tal como o ATE, também requer duas observações por unidade $i$ de tratamento. Formalmente, escrevemos o ATT como:\n",
    "\n",
    ">\n",
    "> $$ ATT = E[\\beta_{i}|D_{i}=1] = E[Y_{i}^{1} - Y_{i}^{0}|D_{i}=1] = E[Y_{i}^{1}|D_{i}=1] - E[Y_{i}^{0}|D_{i}=1] $$\n",
    ">\n",
    "\n",
    "\n",
    "### Efeito Médio do Tratamento Sobre os Não-Tratados\n",
    "\n",
    "O último parâmetro de interesse é denominado *efeito médio do tratamento para o grupo controle* (ou grupo não tratado), Average Treatment Effect on the Untreated (ATU). Dados os efeitos heterogênios do tratamento, é provável que $ATT \\neq ATU$. A fórmula para o ATU é:\n",
    "\n",
    ">\n",
    "> $$ ATU = E[\\beta_{i}|D_{i}=0] = E[Y_{i}^{1} - Y_{i}^{0}|D_{i}=0] = E[Y_{i}^{1}|D_{i}=0] - E[Y_{i}^{0}|D_{i}=0] $$\n",
    ">\n",
    "\n",
    "o ATU (ou ATNT - Average Treatment Effect on the Non-Treated) mede o impacto que o tratamento teria tido sobre as unidades que não receberam o tratamento. O ATNT nos diz o quanto os indivíduos que não foram tratados teriam se beneficiado (ou prejudicado) se tivessem sido tratados.\n",
    "\n",
    "Quando eu poderia utilizar o ATU?\n",
    "* ajuda a estimar os benefícios potenciais para aqueles que ainda não foram expostos à política. Por exemplo, se um programa de transferência de renda for testado em uma região, o ATNT pode medir o impacto que esse programa teria sobre as regiões que ainda não o receberam.\n",
    "* pode ser usado para tomar decisões sobre expandir ou modificar o tratamento para outros grupos. Se o efeito médio sobre os não-tratados for alto, isso pode indicar que há benefícios significativos em estender o tratamento para outras pessoas ou áreas.\n",
    "\n",
    "Ou seja, o ATU responde à pergunta: o que teria acontecido com os não tratados, se eles tivessem recebido o tratamento?\n",
    "\n",
    "Dependendo da questão de investigação, um ou todos estes parâmetros são interessantes. Mas os dois de interesse mais comuns na literatura de avaliação de intervenção econômica são o ATE e o ATT. O ATE é utilizado quando estamos interessados ​​no **tratamento médio de toda a população**, enquanto o ATT é utilizado quando estamos interessados ​​apenas no **efeito médio do tratamento daqueles tratados**."
   ]
  },
  {
   "cell_type": "markdown",
   "metadata": {},
   "source": [
    "### Decomposição de Médias\n",
    "\n",
    "Vamos criar um exemplo fictício para fixar os conceitos (lembre que não existe a possibilidade de um indivíduo apresentar os dois estados da natureza). Considere os dados da tabela para nosso exemplo de adoção de tecnologia nas firmas. A tabela apresenta os Resultados Potencias para 10 empresas que adotariam a tecnologia (reforçando, tenha em mente que esses dados são \"ideais\").\n",
    "\n",
    "| Firm | $Y^{1}$ | $Y^{0}$ | $\\delta$ |\n",
    "|------|---------|---------|----------|\n",
    "| 1    | 7       | 1       | 6        |\n",
    "| 2    | 5       | 6       | -1       |\n",
    "| 3    | 5       | 1       | 4        |\n",
    "| 4    | 7       | 8       | -1       |\n",
    "| 5    | 4       | 2       | 2        |\n",
    "| 6    | 10      | 1       | 9        |\n",
    "| 7    | 1       | 10      | -9       |\n",
    "| 8    | 5       | 6       | -1       |\n",
    "| 9    | 3       | 7       | -4       |\n",
    "| 10   | 9       | 8       | 1        |\n",
    "|------|---------|---------|----------|\n",
    "|$\\sum$| 56      | 50      | 6        |\n",
    "\n",
    "\n",
    "Com essa matriz de dados, seria possível calcular o efeito médio do tratamento (ATE), porque o efeito médio seria simplesmente a diferença entre as médias de $Y^{1}$ e $Y^{0}$.\n",
    "\n",
    "* $E[Y^{1}]$ = 5.6\n",
    "* $E[Y^{0}]$ = 5\n",
    "\n",
    "Isso significa que o **ATE é 0.6**. Ou seja, a adoção da tecnologia aumentaria a produtividade em 0,6. Um ponto importante a ser destacado é que a empresa 7 produz apenas mais uma unidade após a adoção da tecnologia. Isso é uma evidência de que nem todos se beneficiaram da adoção da tecnologia.\n",
    "\n",
    "Vamos aumentar nossa ficção aqui, e supor que além de saber os resultados potenciais de cada empresa, podemos escolher as empresas que maximizam a produtividade para receber o tratamento. Logo, após a atribuição do tratamento, observamos o resultado real pós-tratamento de acordo com a equação de comutação comentada anteriormente:\n",
    "\n",
    "| Firm | $Y$ | $D$ |\n",
    "|------|-----|-----|\n",
    "| 1    | 7   | 1   |\n",
    "| 2    | 6   | 0   |\n",
    "| 3    | 5   | 1   |\n",
    "| 4    | 8   | 0   |\n",
    "| 5    | 4   | 1   |\n",
    "| 6    | 10  | 1   |\n",
    "| 7    | 10  | 0   |\n",
    "| 8    | 6   | 0   |\n",
    "| 9    | 7   | 0   |\n",
    "| 10   | 9   | 1   |\n",
    "\n",
    "Podemos calcular o **efeito médio do tratamento para o grupo de tratamento** (ATT) e para o grupo de controle (ATU).\n",
    "\n",
    "* ATT = (6+4+2+9+1)/5 = 22/5 = 4,4\n",
    "* ATU = [(-1)+(-1)+(-9)+(-1)+(-4)]/5 = -16/5 = -3,2\n",
    "\n",
    "**Assim, o ATE (resultado de 0,6) é uma média ponderada entre o ATT e o ATU.**\n",
    "\n",
    "$$ ATE = \\phi ATT + (1-\\phi)ATU $$\n",
    "\n",
    "Em termos gerais, $\\phi$ é a proporção de tratados. E $(1 - \\phi)$ é proporção de não tratados. Para o nosso estudo específico,  $\\phi$ de 0.5 .\n",
    "\n",
    "$$ ATE = (0.5)4.4 + (1-0.5)(-3.2) = 0.6 $$\n",
    "\n",
    "\n",
    "O efeito global é positivo, embora para alguns seja negativo. Os resultados individuais mostram que existem efeitos heterogêneos (diferenciados entre os indivíduos). Alguns indivíduos apresentam um padrão de resultados positivos, enquanto outros apresentam um padrão de resultados negativos.\n",
    "\n",
    "\n",
    "### Estimador para o ATE\n",
    "\n",
    "**E se comparássemos simplesmente a expectativa de produtividade entre os tratados e não tratados** nos nossos dados? Esse estimador simples é uma estimativa para o ATE.\n",
    "\n",
    ">\n",
    "> $$ E[Y^{1}|D=1] - E[Y^{0}|D=0] $$\n",
    ">\n",
    "\n",
    "Podemos estimá-lo com a amostra de dados que temos (*Simple Difference in Outcomes* - SDO)\n",
    "\n",
    "$$ SDO = E[Y^{1}|D=1] - E[Y^{0}|D=0] = \\frac{1}{N_{T}}\\sum_{i=1}^{n}(y_{i}|d_{i}=1) - \\frac{1}{N_{C}}\\sum_{i=1}^{n}(y_{i}|d_{i}=0)$$\n",
    "\n",
    "* $E[Y^{1}|D=1]$ = (7+5+4+10+9)/5 = 35/5 = 7\n",
    "* $E[Y^{0}|D=0]$ = (6+8+10+6+7)/5 = 37/5 = 7,4\n",
    "* SDO = 7 - 7,4 = -0,4\n",
    "\n",
    "Ou seja, a adoção da tecnologia diminuiria a produtividade em 0.4 unidades. **Embora a estatística seja verdadeira, observe como ela é enganosa**. Esta estatística sem a devida qualificação poderia facilmente ser usada para afirmar que, em média, a tecnologia é prejudicial, quando sabemos que isso não é verdade. É tendencioso porque as firmas estavam sendo classificadas de maneira ideal sua melhor opção de tratamento, criando diferenças sistemáticas entre o grupo de tratamento e o grupo de controle que são uma função direta dos próprios resultados potenciais.\n",
    "\n",
    "Como o ATE é uma média ponderada entre o ATT e o ATU\n",
    "\n",
    "$$ ATE = \\phi ATT + (1-\\phi)ATU $$\n",
    "\n",
    "Depois de alguma algebra com as expectativas condicionais pode-se chegar:\n",
    "\n",
    "$$ \\frac{1}{N_{T}}\\sum_{i=1}^{n}(y_{i}|d_{i}=1) - \\frac{1}{N_{C}}\\sum_{i=1}^{n}(y_{i}|d_{i}=0) = \\underbrace{E[Y^{1}] - E[Y^{0}]}_{ATE} + \\underbrace{E[Y^{0}|D=1] - E[Y^{0}|D=0]}_{Selection Bias} + \\underbrace{(1 - \\phi)(ATT-ATU)}_{Heterogeneous Treatment Effect Bias} $$\n",
    "\n",
    "* OBS1: O \"Selection Bias\" mostra que os tradados caso não tivessem recebido o tratamento são, em média, sistematicamente diferentes da média dos não tratados. em outras palavras, é a diferença inerente entre os dois grupos se ambos não recebecem tratamento.\n",
    "* OBS2: O termo \"Heterogeneous Treatment Effect Bias\" refere-se a um tipo de viés que pode ocorrer na estimativa dos efeitos do tratamento quando não é levada em consideração a heterogeneidade dos efeitos do tratamento em subgrupos de uma população. Esse viés ocorre quando os pesquisadores tratam a população como homogênea em termos de resposta ao tratamento, ignorando que diferentes grupos ou indivíduos podem responder de maneira diferente ao tratamento.\n",
    "\n",
    "\n",
    "Voltando ao nosso exemplo, o lado esquerdo é a simples diferença nos resultados médios, e já sabemos que é igual a -0,4. \n",
    "\n",
    "* O primeiro termo é o efeito médio do tratamento, que é o parâmetro de interesse, e sabemos que é igual a 0,6. Assim, os dois termos restantes devem ser a fonte do viés que faz com que a simples diferença nas médias seja negativa.\n",
    "* O segundo termo é o viés de seleção. Podemos calcular esta diferença aqui porque temos os resultados potenciais completos na Tabela. Essa diferença é igual a -4,8.\n",
    "* O terceiro termo é uma forma de viés menos conhecida (viés do efeito heterogêneo do tratamento). Ele consiste nos diferentes retornos da tecnologia para os dois grupos multiplicados pela parcela da população que está no grupo de controle. (repare que $\\phi$ é 0.5 porque 5 em cada 10 unidades estão no grupo de controle), logo, 0.5 X (4.4 - (-3.2)) = 3.8.\n",
    "\n",
    "Agora que temos todos os três parâmetros no lado direito, podemos ver por que a simples diferença nos resultados médios é igual a\n",
    "\n",
    "$$ -0,4 = 0,6 + (-4,8) + 3,8 $$\n",
    "$$ -0,4 = -0,4 $$\n",
    "\n",
    "**Considerações**\n",
    "\n",
    "A simples diferença nos resultados (SDO), em última análise, nada mais é do que um número. E esse número é a soma das três partes, mas não podemos calcular cada parte individual porque **não temos dados sobre os resultados contrafactuais** subjacentes necessários para fazer os cálculos. O problema é que esse parâmetro de interesse foi mascarado por duas formas de viés, o **viés de seleção** e o **viés de efeito de tratamento heterogêneo**. \n",
    "\n",
    "Desenvolvemos estratégias para mitigar estes enviesamentos, mas não podemos calculá-los diretamente, tal como não podemos calcular diretamente o ATE, uma vez que estes enviesamentos dependem de contrafactuais não observáveis.\n",
    "\n",
    "O problema também não é causado unicamente pela suposição de heterogeneidade. Podemos fazer a suposição forte de que os efeitos do tratamento são constantes $\\delta_{i} = \\delta$ $\\forall i$, o que causará $ATU=ATT$ e fazer $SDO= ATE + Selection Bias$. Mas ainda teríamos o desagradável *viés de seleção* estragando tudo.\n",
    "\n",
    "Poderíamos argumentar que todo o empreendimento de **inferência causal** consiste no **desenvolvimento de uma estratégia** razoável para **negar o papel que o viés de seleção desempenha nos efeitos causais estimados**."
   ]
  },
  {
   "cell_type": "markdown",
   "metadata": {},
   "source": [
    "### Diferenças do uso da SDO entre o ATE e o ATT\n",
    "\n",
    "Vimos que o SDO é uma medida simples que representa a diferença nas médias dos resultados entre os grupos tratado e de controle. Ela pode ser usada para estimar tanto o ATE quanto o ATT.\n",
    "Quando queremos verificar o efeito do tratamento sobre a população, e entendemos que a amostra é representativa da população, podemos usar o SDO para estimar o ATE. Quando queremos verificar o efeito do tratamento sobre os tratados, podemos usar o SDO para estimar o ATT.\n",
    "\n",
    "Logo, a escolha entre estimar a SDO para ATE ou para ATT depende dos objetivos de pesquisa e da população de interesse. \n",
    "\n",
    "A SDO é uma ferramenta simples e útil em várias situações, mas é importante estar ciente de suas limitações em termo de existência de viés."
   ]
  },
  {
   "cell_type": "markdown",
   "metadata": {},
   "source": [
    "### Estimador para o ATT\n",
    "\n",
    "Queremos verificar o efeito do tratamento sobre os tratados, ou seja, comparar os tratados com seus contrafactuais (caso não tivessem sido tratados). Para isso, também podemos usar a SDO para estimar o ATT. Entretanto surgirão técnicas para encontrar os contrafactuais. Por exemplo, os modelos buscarão encontrar dentro do grupo de controle uma subamostra de indivíduos parecidos que represente o contrafactual dos indivíduos tratados.\n",
    "\n",
    "$$ \\frac{1}{N_{T}}\\sum_{i=1}^{n}(y_{i}|d_{i}=1) - \\frac{1}{N_{C}}\\sum_{i=1}^{n}(y_{i}|d_{i}=0) = \\underbrace{E[Y^{1} - Y^{0}| D =1]}_{ATT} + \\underbrace{E[Y^{0}|D=1] - E[Y^{0}|D=0]}_{Selection Bias} + \\underbrace{(1 - \\phi)(ATT-ATU)}_{Heterogeneous Treatment Effect Bias} $$\n",
    "\n",
    "* O viés de seleção (Selection Bias): reflete o impacto da autoseleção dos indivíduos no tratamento.\n",
    "\n",
    "* O \"Heterogeneous Treatment Effect Bias\" refere-se a uma situação em que não é levada em consideração a heterogeneidade nos efeitos do tratamento em diferentes subgrupos da população, resultando em estimativas enviesadas dos efeitos do tratamento. Para lidar com o viés de efeito de tratamento heterogêneo, os pesquisadores devem considerar a heterogeneidade dos efeitos do tratamento e explorar se o tratamento tem impactos diferentes em diferentes subpopulações. Isso pode ser feito por meio de análises estratificadas, modelagem de interações ou outras técnicas estatísticas que permitem a exploração da heterogeneidade do tratamento.\n",
    "\n",
    "\n",
    "Lembre que não se trata da verificação do efeito do tratamento sobre a média do resultado da população. Estamos analisando a subamostra dos tratados. O ATT é o parâmetro de interesse, mas não podemos calculá-lo diretamente porque não temos dados sobre os resultados contrafactuais subjacentes necessários para fazer os cálculos. O problema é que esse parâmetro de interesse foi mascarado por uma forma de viés."
   ]
  },
  {
   "cell_type": "markdown",
   "metadata": {},
   "source": [
    "## Método Experimental\n",
    "\n",
    "### Suposição de Independência e Randomized Controlled Trials (RCTs - A/B tests)\n",
    "\n",
    "A situação mais confiável para usar SDO para estimar ATE é quando o tratamento em si for atribuído às empresas independentemente de seus resultados potenciais.\n",
    "\n",
    "$$ (Y^{1}, Y^{0}) \\perp D $$\n",
    "\n",
    "Ou seja, a tecnologia ($D$) é atribuída à cada empresa por razões que nada tiveram a ver com os ganhos da tecnologia (de forma exógena). No nosso exemplo anterior, sabemos que essa suposição foi violada porque a escolha dos grupos de tratado e controle foi feita com base nos resultados potenciais (recebeu se $Y^{1}$ > $Y^{0}$, e não recebeu se $Y^{1}$ < $Y^{0}$), logo $D$ dependia de $Y^{1}$ e $Y^{0}$.\tNas ciências sociais aplicadas, as decisões são realizadas por pessoas, logo, provavelmente, a atribuição de tratamentos deve violar a suposição de independência.\n",
    "\n",
    "**E se o processo de adoção da tecnologia fosse aleatório? (randomizado)** \n",
    "\n",
    "Nesse caso, a atribuição do tratamento seria independente dos resultados potenciais. Ou seja:\n",
    "\n",
    "$$ \\underbrace{E[Y^{1}|D=1]}_{Observável} - \\underbrace{E[Y^{1}|D=0]}_{Contrafactual} =0 $$\n",
    "$$ \\underbrace{E[Y^{0}|D=1]}_{Contrafactual} - \\underbrace{E[Y^{0}|D=0]}_{Observável} =0 $$\n",
    "\n",
    "Significa que o resultado potencial médio para $Y^{1}$ e $Y^{0}$ seria o mesmo para os tratados e não tratados.\n",
    "\n",
    "Este tipo de randomização da atribuição do tratamento eliminaria tanto o viés de seleção quanto o viés do efeito heterogêneo do tratamento. Vejamos, o viés de seleção é zerado da seguinte forma:\n",
    "\n",
    "$$ \\underbrace{E[Y^{0}|D=1] - E[Y^{0}|D=0]}_{Selection Bias} =  0 $$\n",
    "\n",
    "Reescreva ATT e ATU:\n",
    "\n",
    "$$ ATT = E[Y^{1}|D=1] - E[Y^{0}|D=1] $$\n",
    "$$ ATU = E[Y^{1}|D=0] - E[Y^{0}|D=0] $$\n",
    "\n",
    "então, ATT - ATU:\n",
    "\n",
    "$$ ATT - ATU =  [E[Y^{1}|D=1] - E[Y^{0}|D=1]] - [E[Y^{1}|D=0] - E[Y^{0}|D=0]] $$\n",
    "\n",
    "\n",
    "Logo, se o tratamento for independente dos resultados potenciais, e a amostra for representativa da população, então:\n",
    "\n",
    "$$ \\underbrace{\\frac{1}{N_{T}}\\sum_{i=1}^{n}(y_{i}|d_{i}=1) - \\frac{1}{N_{C}}\\sum_{i=1}^{n}(y_{i}|d_{i}=0)}_{SDO} = \\underbrace{E[Y^{1}] - E[Y^{0}]}_{ATE} + 0 + 0 $$\n",
    "\n",
    "\n",
    "\n",
    "O que é necessário nesta situação é simplesmente:\n",
    "\n",
    "* (a) dados sobre resultados observáveis, \n",
    "* (b) dados sobre a atribuição do tratamento e \n",
    "* (c) a suposição de que a atribuição do tratamento é independente dos resultados potenciais.\n",
    "\n",
    "\n",
    "**OBS Importante**: A escolha racional dos indivíduos que compõem as amostras está sempre contrariando a suposição de independência e, portanto, na prática, a simples comparação de médias não aproximará o verdadeiro efeito causal. Precisamos de randomização unitária para comparações simples que nos ajudem a compreender os efeitos causais em jogo. "
   ]
  },
  {
   "cell_type": "markdown",
   "metadata": {},
   "source": [
    "### SUTVA\n",
    "\n",
    "Rubin argumenta que há um conjunto de suposições por trás desse tipo de cálculo e ele chama essas suposições de **suposição de valor de tratamento unitário estável**, ou \"Stable Unit Treatment Value Assumption\" - SUTVA.\n",
    "\n",
    "Essa suposição implica que o efeito de tratamento para um indivíduo (ou uma unidade) é constante e não é afetado pelas ações ou resultados de outros indivíduos. Em outras palavras, a SUTVA pressupõe que o tratamento recebido por uma unidade não tem impacto sobre o tratamento ou os resultados de outras unidades, e que não há interferência entre as unidades no estudo.\n",
    "\n",
    "A suposição de SUTVA é importante porque, sem ela, a interpretação e a estimativa dos efeitos de tratamento se tornam complicadas. Ela permite que os pesquisadores calculem de maneira confiável o ATE (Average Treatment Effect) e o ATT (Average Treatment Effect on the Treated) e forneçam estimativas sólidas sobre o impacto de um tratamento em um estudo.\n",
    "\n",
    "\n",
    "Em outras palavras, essas limitações são que cada unidade recebe a mesma dose, sem repercussões (“externalidades”) para os resultados potenciais de outras unidades quando uma unidade é exposta a algum tratamento, e sem efeitos de equilíbrio geral."
   ]
  },
  {
   "cell_type": "markdown",
   "metadata": {},
   "source": [
    "### Randomized Controlled Trials (RCT - A/B Tests) e Regressão Linear\n",
    "\n",
    "Qual a imagem mental que temos dos termos: “cientista”, “ciência”, e “experimento”?\n",
    "\n",
    "\n",
    "<div style=\"text-align:center;\">\n",
    "    <img src=\"images\\Lab.png\"  alt=\"Imagem\" style=\"width: 500px;\"/>\n",
    "</div>\n",
    "\n",
    "\n",
    "* 1. O que podemos observar nessas fotos? Quais as características do ambiente e do que é estudado?\n",
    "* 2. Como é realizado o processo de estudo?"
   ]
  },
  {
   "cell_type": "markdown",
   "metadata": {},
   "source": [
    "**Exemplo**\n",
    "\n",
    "* Suponha o seguinte experimento: Queremos testar o efeito de estudar técnicas econométricas avançadas sobre o nível de emprego dos estudantes.\n",
    "\n",
    "* Desenho básico do experimento:\n",
    "    * Vamos selecionamos aleatoriamente alunos para estudar técnicas econométricas avançadas.\n",
    "    * Separamos esses alunos elegíveis em 2 grupos.\n",
    "        * Grupo tratado: aplicamos o tratamento (aulas de econometria avançada).\n",
    "        * Grupo controle: seguem cursando as demais disciplinas.\n",
    "* Depois que eles terminam o curso e obtém o diploma, comparamos as taxas de aprovação de emprego / salários.\n",
    "\n",
    "\n",
    "\n",
    "<div style=\"text-align:center;\">\n",
    "    <img src=\"images\\Lab2.png\"  alt=\"Imagem\" style=\"width: 500px;\"/>\n",
    "</div>\n",
    "\n"
   ]
  },
  {
   "cell_type": "markdown",
   "metadata": {},
   "source": [
    "O método de aleatorização (experimental) é o **“padrão-ouro”** da área CIENTÍFICA porque é baseado na seleção aleatória dos indivíduos que farão parte de cada grupo, fornecendo o balanceamento tanto das **características observadas** quanto **não observadas**. Assim, as características observadas e não observadas são distribuídas de forma aleatória entre os grupos de tratamento e controle, e, portanto, não há viés de seleção nem viés de efeito heterogêneo do tratamento. Em outras palavras, os indivíduos não se auto-selecionam pelo tratamento (ou grupo de controle) e não há efeitos de tratamento heterogêneos entre os indivíduos.\n",
    "\n",
    "Então, o impacto (efeito causal médio) se resume à diferença entre a média da variável de interesse (resultado) do grupo tratado e do grupo de controle. Caso a amostra seja representativa, temos uma estimativa para o  ATE. \n",
    "\n",
    "#### RCT em termos de regressão linear\n",
    "\n",
    "A aleatorização garante que aintervenção seja independente das características não observadas (e observadas). Isso significa que $E[\\epsilon_{i}|D]=0 $, a velha hipótese de exogeneidade estrita volta a tona. Assim, podemos estimar o efeito causal médio do tratamento (ATE) por meio de uma regressão linear simples:\n",
    "\n",
    "$$ Y_{i} = \\beta_{0} + \\beta_{1}D_{i} + \\epsilon_{i} $$\n",
    "\n",
    "Mas podemos mesclar nosso entendimento com a linguagem de resultados potenciais. Vamos aplicar o operador de esperança condicional:\n",
    "\n",
    "$$ E[Y|D=1] = \\beta_{0} + \\beta_{1}.(1) + E[\\rho|D=1] $$\n",
    "$$ E[Y|D=0] = \\beta_{0} + \\beta_{1}.(0) + E[\\theta|D=0] $$\n",
    "\n",
    "Subtraindo as duas equações:\n",
    "\n",
    "$$ E[Y|D=1] - E[Y|D=0] = \\beta_{1} + [E[\\rho|D=1]-E[\\theta|D=0]]$$\n",
    "\n",
    "\n",
    "Está relacionado com o que vimos anteriormente, \n",
    "\n",
    "$$ \\underbrace{E[Y|D=1] - E[Y|D=0]}_{SDO} = \\underbrace{\\beta_{1}}_{ATE} + \\underbrace{[E[\\rho|D=1]-E[\\theta|D=0]]}_{Viés} $$\n",
    "\n",
    "\n",
    "\n",
    "Como o tratamento foi realizado por um processo aleatório, logo $E[\\rho|D=1]=E[\\theta|D=0]=0$, então:\n",
    "\n",
    "$$ E[Y|D=1] - E[Y|D=0] = \\beta_{1}$$"
   ]
  },
  {
   "cell_type": "markdown",
   "metadata": {},
   "source": [
    "## Considerações Finais\n",
    "\n",
    "* Queremos estimar o efeito causal médio do tratamento (ATE) ou o efeito causal médio do tratamento para os tratados (ATT)?\n",
    "    * ATE: queremos verificar o efeito do tratamento sobre a população, e entendemos que a amostra é representativa da população.\n",
    "    * ATT: queremos verificar o efeito do tratamento sobre os tratados, ou seja, comparar os tratados com seus contrafactuais (caso não tivessem sido tratados).\n",
    "\n",
    "* O método experimental garante que a atribuição do tratamento seja independente dos resultados potenciais. \n",
    "    * Caso tenhamos uma amostra representativa da população, podemos usar a SDO para estimar o ATE.\n",
    "    * Caso não tenhamos uma amostra representativa dos tratados, é possível usar a SDO para estimar o ATT.\n",
    "\n",
    "* O SDO tem que apresentar resultado ATT= ATE?\n",
    "    * Não. A igualdade entre ATT e ATE a partir de estimativas de SDO é uma ocorrência rara e geralmente pressupõe condições especiais, como a randomização completa e a homogeneidade dos efeitos do tratamento.\n",
    "        * 1. **Randomização Completa:** Se a atribuição ao tratamento for realizada de forma totalmente aleatória e independente, então os grupos de tratamento e controle serão comparáveis em termos de características observadas e não observadas, e não haverá viés de seleção. Nesse caso, a diferença simples nas médias dos resultados entre o grupo de tratamento e o grupo de controle (SDO) será igual ao ATE.\n",
    "        * 2. **Homogeneidade dos Efeitos do Tratamento:** Se os efeitos do tratamento forem homogêneos em toda a população, o que significa que o tratamento tem o mesmo efeito em todos os indivíduos, então o ATT será igual ao ATE. Isso ocorre porque, se não houver heterogeneidade nos efeitos, qualquer subgrupo dentro do grupo tratado terá um efeito médio idêntico ao efeito médio de toda a população, que é o ATE.\n",
    "\n",
    "Os métodos mais avançados de análise causal são frequentemente usados para lidar com viés de seleção e heterogeneidade nos efeitos do tratamento. Veremos esses métodos com mais força no próximo semestre."
   ]
  }
 ],
 "metadata": {
  "kernelspec": {
   "display_name": "Python 3",
   "language": "python",
   "name": "python3"
  },
  "language_info": {
   "codemirror_mode": {
    "name": "ipython",
    "version": 3
   },
   "file_extension": ".py",
   "mimetype": "text/x-python",
   "name": "python",
   "nbconvert_exporter": "python",
   "pygments_lexer": "ipython3",
   "version": "3.11.5"
  }
 },
 "nbformat": 4,
 "nbformat_minor": 2
}
