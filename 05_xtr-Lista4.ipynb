{
 "cells": [
  {
   "cell_type": "markdown",
   "metadata": {},
   "source": [
    "# Lista de Exercícios — Dataframes\n",
    "\n",
    "Esta lista tem como objetivo praticar os principais recursos construção de Dataframes em Python visto na última aula.\n"
   ]
  },
  {
   "cell_type": "markdown",
   "metadata": {},
   "source": [
    "### Tarefa para entregar\n",
    "\n",
    "* 1. Fazer um Script em Jupyter de um robô de coleta de dados com o Selenium. Ele deve coletar todas as planilhas do site da receita federal, do site:\n",
    "  * \"https://www.gov.br/receitafederal/pt-br/acesso-a-informacao/dados-abertos/receitadata/arrecadacao/copy_of_arrecadacao-das-receitas-administradas-pela-rfb-por-municipio\"\n",
    "\n",
    "* 2. No mesmo Script, você deve realizar uma programação completa para unificar todas as planilhas em uma estrutura de dados em painel. \n",
    "  * Dicas: Lembre de adicionar uma coluna com o ano da amostra, e uma coluna com um código identificador - Código do IBGE. Verifique o procedimento de criação do identificador que realizamos ao fazer o web scraping com o pandas em aula.\n",
    "\n",
    "* Entregue o arquivo `.ipynb` por e-mail (daniel.uhr@gmail.com) até o dia **28/04/2024**.\n",
    "\n",
    "**Bom trabaho!**"
   ]
  }
 ],
 "metadata": {
  "kernelspec": {
   "display_name": "Python 3",
   "language": "python",
   "name": "python3"
  },
  "language_info": {
   "codemirror_mode": {
    "name": "ipython",
    "version": 3
   },
   "file_extension": ".py",
   "mimetype": "text/x-python",
   "name": "python",
   "nbconvert_exporter": "python",
   "pygments_lexer": "ipython3",
   "version": "3.11.5"
  }
 },
 "nbformat": 4,
 "nbformat_minor": 2
}
