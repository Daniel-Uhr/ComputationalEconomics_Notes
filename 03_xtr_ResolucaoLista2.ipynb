{
 "cells": [
  {
   "cell_type": "markdown",
   "id": "fdae5447",
   "metadata": {},
   "source": [
    "# Resolução Lista 2\n",
    "\n",
    "Prof. Daniel de Abreu Pereira Uhr\n",
    "\n"
   ]
  },
  {
   "cell_type": "markdown",
   "id": "d3df607b",
   "metadata": {},
   "source": [
    "### 1. Conversão de Tipos\n",
    "\n",
    "##### 1.1 Carregue o seguinte dicionário como um DataFrame do pandas e verifique os tipos das colunas.\n"
   ]
  },
  {
   "cell_type": "code",
   "execution_count": 7,
   "id": "128727d4",
   "metadata": {},
   "outputs": [
    {
     "name": "stdout",
     "output_type": "stream",
     "text": [
      "ID       object\n",
      "Valor    object\n",
      "Data     object\n",
      "dtype: object\n"
     ]
    }
   ],
   "source": [
    "import pandas as pd\n",
    "dados = {'ID': ['1', '2', '3'], 'Valor': ['10.5', '20.8', '30.2'], 'Data': ['2024-01-01', '2024-02-15', '2024-03-10']}\n",
    "df = pd.DataFrame(dados)\n",
    "print(df.dtypes)"
   ]
  },
  {
   "cell_type": "markdown",
   "id": "7791298f",
   "metadata": {},
   "source": [
    "##### 1.2 Converta a coluna 'ID' para inteiro, 'Valor' para float e 'Data' para datetime."
   ]
  },
  {
   "cell_type": "code",
   "execution_count": 8,
   "id": "14026b1e",
   "metadata": {},
   "outputs": [
    {
     "name": "stdout",
     "output_type": "stream",
     "text": [
      "ID                int32\n",
      "Valor           float64\n",
      "Data     datetime64[ns]\n",
      "dtype: object\n"
     ]
    }
   ],
   "source": [
    "df['ID'] = df['ID'].astype(int)\n",
    "df['Valor'] = df['Valor'].astype(float)\n",
    "df['Data'] = pd.to_datetime(df['Data'])\n",
    "print(df.dtypes)"
   ]
  },
  {
   "cell_type": "markdown",
   "id": "3c6eea4f",
   "metadata": {},
   "source": [
    "### 2. Tratamento de Valores Ausentes"
   ]
  },
  {
   "cell_type": "code",
   "execution_count": 9,
   "id": "6feff74d",
   "metadata": {},
   "outputs": [
    {
     "name": "stdout",
     "output_type": "stream",
     "text": [
      "          A    B     C\n",
      "0  1.000000  6.0  10.0\n",
      "1  2.000000  5.0  25.0\n",
      "2  2.333333  6.0  25.0\n",
      "3  4.000000  7.0  40.0\n"
     ]
    }
   ],
   "source": [
    "dados = {'A': [1, 2, None, 4], 'B': [None, 5, 6, 7], 'C': [10, None, None, 40]}\n",
    "\n",
    "df = pd.DataFrame(dados)\n",
    "\n",
    "df.fillna(df.mean(), inplace=True)\n",
    "\n",
    "print(df)\n"
   ]
  },
  {
   "cell_type": "markdown",
   "id": "6f9156d9",
   "metadata": {},
   "source": [
    "### 3. Manipulação de Strings\n",
    "\n",
    "##### 3.1 Crie um DataFrame contendo nomes completos e extraia apenas os sobrenomes."
   ]
  },
  {
   "cell_type": "code",
   "execution_count": null,
   "id": "0409cb15",
   "metadata": {},
   "outputs": [],
   "source": [
    "df = pd.DataFrame({'Nome': ['Ana Silva', 'Bruno Souza', 'Carlos Pereira']})\n",
    "df['Sobrenome'] = df['Nome'].apply(lambda x: x.split()[-1])\n",
    "print(df)"
   ]
  },
  {
   "cell_type": "markdown",
   "id": "e2c60aed",
   "metadata": {},
   "source": [
    "### 4. Criação de Novas Colunas\n",
    "\n",
    "##### 4.1 A partir do DataFrame `df` abaixo, crie uma nova coluna chamada 'Desconto', que seja 10% do valor da coluna 'Valor'."
   ]
  },
  {
   "cell_type": "code",
   "execution_count": 3,
   "id": "1422732f",
   "metadata": {},
   "outputs": [
    {
     "name": "stdout",
     "output_type": "stream",
     "text": [
      "  Produto  Valor  Desconto\n",
      "0       A    100      10.0\n",
      "1       B    200      20.0\n",
      "2       C    300      30.0\n"
     ]
    }
   ],
   "source": [
    "df = pd.DataFrame({'Produto': ['A', 'B', 'C'], 'Valor': [100, 200, 300]})\n",
    "df['Desconto'] = df['Valor'] * 0.1\n",
    "print(df)"
   ]
  },
  {
   "cell_type": "markdown",
   "id": "76deb2a4",
   "metadata": {},
   "source": [
    "### 5. Uso do Numpy\n",
    "\n",
    "##### 5.1 Crie um array NumPy de números aleatórios entre 1 e 100 de tamanho (5,5) e substitua os valores menores que 50 por 0."
   ]
  },
  {
   "cell_type": "code",
   "execution_count": 4,
   "id": "340f06e3",
   "metadata": {},
   "outputs": [
    {
     "name": "stdout",
     "output_type": "stream",
     "text": [
      "[[ 0 83  0  0  0]\n",
      " [ 0  0  0  0  0]\n",
      " [52 85 84 67  0]\n",
      " [58  0  0  0 83]\n",
      " [ 0 84  0 91 82]]\n"
     ]
    }
   ],
   "source": [
    "import numpy as np\n",
    "arr = np.random.randint(1, 100, (5,5))\n",
    "arr[arr < 50] = 0\n",
    "print(arr)"
   ]
  },
  {
   "cell_type": "markdown",
   "id": "93c5afa4",
   "metadata": {},
   "source": [
    "### 6. Filtragem de Dados\n",
    "\n",
    "##### 6.1 Usando o seguinte DataFrame, filtre apenas os produtos com valor acima de 150."
   ]
  },
  {
   "cell_type": "code",
   "execution_count": 5,
   "id": "12c43e53",
   "metadata": {},
   "outputs": [
    {
     "name": "stdout",
     "output_type": "stream",
     "text": [
      "  Produto  Valor\n",
      "1       B    180\n",
      "3       D    200\n"
     ]
    }
   ],
   "source": [
    "df = pd.DataFrame({'Produto': ['A', 'B', 'C', 'D'], 'Valor': [120, 180, 90, 200]})\n",
    "df_filtrado = df[df['Valor'] > 150]\n",
    "print(df_filtrado)"
   ]
  },
  {
   "cell_type": "markdown",
   "id": "28659613",
   "metadata": {},
   "source": [
    "```python"
   ]
  },
  {
   "cell_type": "markdown",
   "id": "c78f930f",
   "metadata": {},
   "source": [
    "```"
   ]
  }
 ],
 "metadata": {
  "kernelspec": {
   "display_name": "Python 3",
   "language": "python",
   "name": "python3"
  },
  "language_info": {
   "codemirror_mode": {
    "name": "ipython",
    "version": 3
   },
   "file_extension": ".py",
   "mimetype": "text/x-python",
   "name": "python",
   "nbconvert_exporter": "python",
   "pygments_lexer": "ipython3",
   "version": "3.11.5"
  }
 },
 "nbformat": 4,
 "nbformat_minor": 5
}
