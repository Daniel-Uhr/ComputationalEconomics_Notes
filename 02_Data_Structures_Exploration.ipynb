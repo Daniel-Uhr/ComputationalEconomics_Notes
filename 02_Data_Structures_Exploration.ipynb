{
 "cells": [
  {
   "cell_type": "markdown",
   "metadata": {},
   "source": [
    "# Estrutura de Dados e Exploração de Dados com Python\n",
    "\n",
    "Prof. Daniel de Abreu Pereira Uhr\n",
    "\n",
    "### Conteúdo\n",
    "* Estrutura de Dados\n",
    "  * Listas (\"lists\")\n",
    "  * Tuplas (\"tuples\")\n",
    "  * Conjuntos (\"sets\")\n",
    "  * Dicionários (\"dictionaries\")\n",
    "  * numpy arrays\n",
    "  * pandas DataFrames\n",
    "  * Resumo\n",
    "* Exploração de Dados\n",
    "  * Importando os dados\n",
    "  * Inspecionando os dados\n",
    "  * Seleção de dados\n",
    "  * Agregação e Tabelas Dinâmicas\n",
    "* Uma Aplicação Voltada à Pesquisa\n",
    "  * Carregando o DataFrame\n",
    "  * Explorando o DataFrame\n",
    "  * Gerando Estatísticas Descritivas\t\n",
    "* Conclusão Geral e Próximos Passos\n",
    "\n",
    "### Referências\n",
    "* [Introduction to Statistical Learning](https://www.statlearning.com/) by Gareth James, Daniela Witten, Trevor Hastie and Robert Tibshirani \n",
    "* [Python Data Science Handbook](https://jakevdp.github.io/PythonDataScienceHandbook/) by Jake VanderPlas\n",
    "* [Python (Documentação Oficial)](https://docs.python.org/3/)\n",
    "* [NumPy (Array e Computação Numérica)](https://numpy.org/doc/stable/)\n",
    "* [Pandas (Manipulação e Análise de Dados)](https://pandas.pydata.org/docs/)"
   ]
  },
  {
   "cell_type": "markdown",
   "metadata": {},
   "source": [
    "# Estrutura de Dados"
   ]
  },
  {
   "cell_type": "markdown",
   "metadata": {},
   "source": [
    "### Listas (\"lists\")\n",
    "\n",
    "Uma **lista** é uma estrutura de dados de **matriz mutável** em Python com as seguintes características:\n",
    "\n",
    "* pode conter ***qualquer tipo de dado***\n",
    "* pode conter ***diferentes tipos de dados ao mesmo tempo***\n",
    "* ***pode ser modificado***\n",
    "\n",
    "Podemos gerar listas usando **colchetes**."
   ]
  },
  {
   "cell_type": "code",
   "execution_count": 10,
   "metadata": {},
   "outputs": [
    {
     "name": "stdout",
     "output_type": "stream",
     "text": [
      "[12, 'world', [3, 4, 5]]\n"
     ]
    }
   ],
   "source": [
    "l = [12, \"world\", [3,4,5]]\n",
    "print(l)"
   ]
  },
  {
   "cell_type": "markdown",
   "metadata": {},
   "source": [
    "Como as listas são ordenadas , podemos acessar seus elementos chamando a posição do elemento na lista."
   ]
  },
  {
   "cell_type": "code",
   "execution_count": 11,
   "metadata": {},
   "outputs": [
    {
     "data": {
      "text/plain": [
       "12"
      ]
     },
     "execution_count": 11,
     "metadata": {},
     "output_type": "execute_result"
    }
   ],
   "source": [
    "l[0]"
   ]
  },
  {
   "cell_type": "code",
   "execution_count": 12,
   "metadata": {},
   "outputs": [
    {
     "data": {
      "text/plain": [
       "'world'"
      ]
     },
     "execution_count": 12,
     "metadata": {},
     "output_type": "execute_result"
    }
   ],
   "source": [
    "l[1]"
   ]
  },
  {
   "cell_type": "code",
   "execution_count": 13,
   "metadata": {},
   "outputs": [
    {
     "data": {
      "text/plain": [
       "[3, 4, 5]"
      ]
     },
     "execution_count": 13,
     "metadata": {},
     "output_type": "execute_result"
    }
   ],
   "source": [
    "l[2]"
   ]
  },
  {
   "cell_type": "markdown",
   "metadata": {},
   "source": [
    "Como as listas são mutáveis, logo, podemos modificar seus elementos."
   ]
  },
  {
   "cell_type": "code",
   "execution_count": 14,
   "metadata": {},
   "outputs": [
    {
     "name": "stdout",
     "output_type": "stream",
     "text": [
      "['hello', 'world', [3, 4, 5]]\n"
     ]
    }
   ],
   "source": [
    "l[0] = 'hello'\n",
    "print(l)"
   ]
  },
  {
   "cell_type": "markdown",
   "metadata": {},
   "source": [
    "Podemos adicionar elementos a uma lista usando `.append()`."
   ]
  },
  {
   "cell_type": "code",
   "execution_count": 15,
   "metadata": {},
   "outputs": [
    {
     "data": {
      "text/plain": [
       "['hello', 'world', [3, 4, 5], 23]"
      ]
     },
     "execution_count": 15,
     "metadata": {},
     "output_type": "execute_result"
    }
   ],
   "source": [
    "l.append(23)\n",
    "l"
   ]
  },
  {
   "cell_type": "markdown",
   "metadata": {},
   "source": [
    "Repare que o elemento adicionado na lista é colocado no final da lista. Mas poderíamos adicionar elementos em qualquer posição da lista usando `.insert()`.\n",
    "\n",
    "Vamos inserir o numero 34 na posição 0."
   ]
  },
  {
   "cell_type": "code",
   "execution_count": 17,
   "metadata": {},
   "outputs": [
    {
     "data": {
      "text/plain": [
       "[34, 'hello', 'world', [3, 4, 5], 23]"
      ]
     },
     "execution_count": 17,
     "metadata": {},
     "output_type": "execute_result"
    }
   ],
   "source": [
    "l.insert(0, 34)\n",
    "l"
   ]
  },
  {
   "cell_type": "markdown",
   "metadata": {},
   "source": [
    "Podemos remover elementos chamando `del`. Vamos deletar os dois primeiros elementos da lista l"
   ]
  },
  {
   "cell_type": "code",
   "execution_count": null,
   "metadata": {},
   "outputs": [
    {
     "name": "stdout",
     "output_type": "stream",
     "text": [
      "['world', [3, 4, 5], 23]\n"
     ]
    }
   ],
   "source": [
    "del l[:2]\n",
    "print(l)\n"
   ]
  },
  {
   "cell_type": "markdown",
   "metadata": {},
   "source": [
    "Vou adicionar um novo elemento, e deletá-lo."
   ]
  },
  {
   "cell_type": "code",
   "execution_count": 19,
   "metadata": {},
   "outputs": [
    {
     "data": {
      "text/plain": [
       "['world', 100, [3, 4, 5], 23]"
      ]
     },
     "execution_count": 19,
     "metadata": {},
     "output_type": "execute_result"
    }
   ],
   "source": [
    "l.insert(1, 100)\n",
    "l\n"
   ]
  },
  {
   "cell_type": "code",
   "execution_count": 20,
   "metadata": {},
   "outputs": [
    {
     "data": {
      "text/plain": [
       "['world', [3, 4, 5], 23]"
      ]
     },
     "execution_count": 20,
     "metadata": {},
     "output_type": "execute_result"
    }
   ],
   "source": [
    "del l[1]\n",
    "l"
   ]
  },
  {
   "cell_type": "markdown",
   "metadata": {},
   "source": [
    "Podemos combinar duas listas usando +. Note que esta operação não modifica a lista, mas gera uma nova."
   ]
  },
  {
   "cell_type": "code",
   "execution_count": 21,
   "metadata": {},
   "outputs": [
    {
     "data": {
      "text/plain": [
       "['world', [3, 4, 5], 23, 23]"
      ]
     },
     "execution_count": 21,
     "metadata": {},
     "output_type": "execute_result"
    }
   ],
   "source": [
    "l + [23]"
   ]
  },
  {
   "cell_type": "markdown",
   "metadata": {},
   "source": [
    "Também podemos gerar listas usando compreensões ."
   ]
  },
  {
   "cell_type": "code",
   "execution_count": 9,
   "metadata": {},
   "outputs": [
    {
     "name": "stdout",
     "output_type": "stream",
     "text": [
      "[0, 1, 2]\n"
     ]
    }
   ],
   "source": [
    "l = [n for n in range(3)]\n",
    "print(l)"
   ]
  },
  {
   "cell_type": "markdown",
   "metadata": {},
   "source": [
    "O $range(n)$ vai de $0$ até $n-1$.\n",
    "\n",
    "Outra forma seria:"
   ]
  },
  {
   "cell_type": "code",
   "execution_count": 22,
   "metadata": {},
   "outputs": [
    {
     "name": "stdout",
     "output_type": "stream",
     "text": [
      "[0, 1, 2]\n"
     ]
    }
   ],
   "source": [
    "l = []\n",
    "for n in range(3):\n",
    "    l.append(n)\n",
    "print(l)"
   ]
  },
  {
   "cell_type": "markdown",
   "metadata": {},
   "source": [
    "O que acontece:\n",
    "* Inicializa uma lista vazia l = [].\n",
    "* Itera sobre range(3), que gera os números 0, 1, 2.\n",
    "* Adiciona cada número à lista usando l.append(n).\n",
    "* Imprime a lista."
   ]
  },
  {
   "cell_type": "markdown",
   "metadata": {},
   "source": [
    "A compreensão é uma ferramenta poderosa!\n",
    "\n",
    "Agora vamos adicionar expressão condicional `if` para filtrar elementos."
   ]
  },
  {
   "cell_type": "code",
   "execution_count": 12,
   "metadata": {},
   "outputs": [
    {
     "name": "stdout",
     "output_type": "stream",
     "text": [
      "[16, 18]\n"
     ]
    }
   ],
   "source": [
    "l = [n+10 for n in range(10) if (n%2==0) and (n>4)]\n",
    "print(l)"
   ]
  },
  {
   "cell_type": "markdown",
   "metadata": {},
   "source": [
    "* `range(10)`: Gera uma sequência de números de 0 a 9 (o número 10 não é incluído).\n",
    "* `if (n % 2 == 0) and (n > 4)`: Filtra os números do range(10):\n",
    "  * n % 2 == 0: Verifica se n é par (Ele retorna o ***resto da divisão inteira entre dois números***.).\n",
    "    * a condição n % 2 == 0 retorna True para números pares e False para números ímpares.\n",
    "  * n > 4: Verifica se n é maior que 4.\n",
    "\n",
    "* n + 10: Para cada número n que passou pelo filtro, soma 10 e adiciona o resultado à lista."
   ]
  },
  {
   "cell_type": "code",
   "execution_count": null,
   "metadata": {},
   "outputs": [
    {
     "name": "stdout",
     "output_type": "stream",
     "text": [
      "0\n",
      "1\n",
      "0\n",
      "1\n"
     ]
    }
   ],
   "source": [
    "# vamos veridicar a condição n % 2 == 0 \n",
    "print(4 % 2)  # 0 → 4 é par\n",
    "print(7 % 2)  # 1 → 7 é ímpar\n",
    "print(10 % 2) # 0 → 10 é par\n",
    "print(15 % 2) # 1 → 15 é ímpar"
   ]
  },
  {
   "cell_type": "markdown",
   "metadata": {},
   "source": [
    "### Tuplas (\"tuples\")\n",
    "\n",
    "Uma tupla é uma estrutura de dados de **matriz imutável** em Python com as seguintes características:\n",
    "\n",
    "* pode conter ***qualquer tipo de dado***\n",
    "* pode conter ***diferentes tipos de dados ao mesmo tempo***\n",
    "* ***não pode ser modificado***\n",
    "\n",
    "Quando usar Tuplas ao invés de Listas?\n",
    "\n",
    "* Quando você quer **garantir que os dados não sejam alterados** (exemplo: coordenadas geográficas (latitude, longitude)).\n",
    "* Quando precisa de um desempenho um pouco melhor (tuplas são mais rápidas que listas).\n",
    "* Quando precisa armazenar chaves para dicionários, pois tuplas podem ser usadas como chaves (listas não).\n",
    "\n",
    "\n",
    "Podemos gerar tuplas usando ***parênteses***."
   ]
  },
  {
   "cell_type": "code",
   "execution_count": 13,
   "metadata": {},
   "outputs": [
    {
     "name": "stdout",
     "output_type": "stream",
     "text": [
      "(12, 'world', [3, 4, 5])\n"
     ]
    }
   ],
   "source": [
    "# Uma lista com diferentes tipos de dados\n",
    "t = (12, \"world\", [3,4,5])\n",
    "print(t)"
   ]
  },
  {
   "cell_type": "markdown",
   "metadata": {},
   "source": [
    "Como as tuplas são ordenadas , podemos acessar seus elementos chamando a posição do elemento na lista."
   ]
  },
  {
   "cell_type": "code",
   "execution_count": 14,
   "metadata": {},
   "outputs": [
    {
     "data": {
      "text/plain": [
       "12"
      ]
     },
     "execution_count": 14,
     "metadata": {},
     "output_type": "execute_result"
    }
   ],
   "source": [
    "t[0]"
   ]
  },
  {
   "cell_type": "markdown",
   "metadata": {},
   "source": [
    "Como as tuplas são imutáveis , não podemos modificar seus elementos."
   ]
  },
  {
   "cell_type": "code",
   "execution_count": 15,
   "metadata": {},
   "outputs": [
    {
     "name": "stdout",
     "output_type": "stream",
     "text": [
      "'tuple' object does not support item assignment\n"
     ]
    }
   ],
   "source": [
    "# Tentar (Try) modificar o elemento\n",
    "try:\n",
    "    t[0] = 'hello'\n",
    "except Exception as e:\n",
    "    print(e)"
   ]
  },
  {
   "cell_type": "markdown",
   "metadata": {},
   "source": [
    "O que está acontecendo? \n",
    "* O código dentro do bloco try será executado.\n",
    "* Se ocorrer algum erro durante essa execução, o Python interrompe a execução do try e pula para o bloco except"
   ]
  },
  {
   "cell_type": "code",
   "execution_count": 16,
   "metadata": {},
   "outputs": [
    {
     "name": "stdout",
     "output_type": "stream",
     "text": [
      "'tuple' object has no attribute 'append'\n"
     ]
    }
   ],
   "source": [
    "try:\n",
    "    t.append('hello')\n",
    "except Exception as e:\n",
    "    print(e)"
   ]
  },
  {
   "cell_type": "markdown",
   "metadata": {},
   "source": [
    "mais uma tentativa"
   ]
  },
  {
   "cell_type": "code",
   "execution_count": 17,
   "metadata": {},
   "outputs": [
    {
     "name": "stdout",
     "output_type": "stream",
     "text": [
      "'tuple' object doesn't support item deletion\n"
     ]
    }
   ],
   "source": [
    "try:\n",
    "    del t[0]\n",
    "except Exception as e:\n",
    "    print(e)"
   ]
  },
  {
   "cell_type": "markdown",
   "metadata": {},
   "source": [
    "Podemos combinar duas tuplas usando +. Note que esta operação não modifica a tupla, mas gera uma nova. \n",
    "\n",
    "**Note também que para gerar uma tupla de 1 elemento precisamos inserir uma vírgula.** Caso contrário, o Python interpretará o valor como um número."
   ]
  },
  {
   "cell_type": "code",
   "execution_count": 19,
   "metadata": {},
   "outputs": [
    {
     "data": {
      "text/plain": [
       "(12, 'world', [3, 4, 5], 23)"
      ]
     },
     "execution_count": 19,
     "metadata": {},
     "output_type": "execute_result"
    }
   ],
   "source": [
    "t + (23,)"
   ]
  },
  {
   "cell_type": "code",
   "execution_count": 20,
   "metadata": {},
   "outputs": [
    {
     "name": "stdout",
     "output_type": "stream",
     "text": [
      "<class 'tuple'>\n"
     ]
    }
   ],
   "source": [
    "print(type(t))"
   ]
  },
  {
   "cell_type": "markdown",
   "metadata": {},
   "source": [
    "Caso contrário:"
   ]
  },
  {
   "cell_type": "code",
   "execution_count": 22,
   "metadata": {},
   "outputs": [
    {
     "name": "stdout",
     "output_type": "stream",
     "text": [
      "<class 'int'>\n"
     ]
    }
   ],
   "source": [
    "print(type((23)))"
   ]
  },
  {
   "cell_type": "markdown",
   "metadata": {},
   "source": [
    "Podemos gerar tuplas usando compreensões , mas precisamos especificar que é um tuple."
   ]
  },
  {
   "cell_type": "code",
   "execution_count": 35,
   "metadata": {},
   "outputs": [
    {
     "name": "stdout",
     "output_type": "stream",
     "text": [
      "(0, 1, 2)\n"
     ]
    }
   ],
   "source": [
    "t = tuple(n for n in range(3))\n",
    "print(t)"
   ]
  },
  {
   "cell_type": "markdown",
   "metadata": {},
   "source": [
    "### Conjuntos (\"sets\")\n",
    "\n",
    "Um conjunto é uma estrutura de dados de matriz mutável em Python com as seguintes características:\n",
    "\n",
    "* pode ***conter apenas tipos hasháveis*** (se ele tem um valor hash imutável)\n",
    "* pode conter diferentes tipos de dados ao mesmo tempo\n",
    "* ***não pode ser modificado***\n",
    "* ***não pode conter duplicatas***\n",
    "\n",
    "\n",
    "Podemos gerar usando chaves."
   ]
  },
  {
   "cell_type": "code",
   "execution_count": 24,
   "metadata": {},
   "outputs": [
    {
     "name": "stdout",
     "output_type": "stream",
     "text": [
      "{(3, 4, 5), 12, 'world'}\n"
     ]
    }
   ],
   "source": [
    "s = {12, \"world\", (3,4,5)}\n",
    "print(s)"
   ]
  },
  {
   "cell_type": "markdown",
   "metadata": {},
   "source": [
    "Como os conjuntos não são ordenados nem indexados , não podemos acessar elementos individuais chamando sua posição."
   ]
  },
  {
   "cell_type": "code",
   "execution_count": 25,
   "metadata": {},
   "outputs": [
    {
     "name": "stdout",
     "output_type": "stream",
     "text": [
      "'set' object is not subscriptable\n"
     ]
    }
   ],
   "source": [
    "# Tentar (Try) acessar o elemento pela posição\n",
    "try:\n",
    "    s[0]\n",
    "except Exception as e:\n",
    "    print(e)"
   ]
  },
  {
   "cell_type": "markdown",
   "metadata": {},
   "source": [
    "Como os conjuntos não são ordenados , não podemos modificar seus elementos especificando a posição."
   ]
  },
  {
   "cell_type": "code",
   "execution_count": 26,
   "metadata": {},
   "outputs": [
    {
     "name": "stdout",
     "output_type": "stream",
     "text": [
      "'set' object does not support item assignment\n"
     ]
    }
   ],
   "source": [
    "# Tentar modificar o elemento\n",
    "try:\n",
    "    s[0] = 'hello'\n",
    "except Exception as e:\n",
    "    print(e)"
   ]
  },
  {
   "cell_type": "markdown",
   "metadata": {},
   "source": [
    "Entretanto, como os conjuntos são mutáveis , podemos adicionar elementos usando `.add()`."
   ]
  },
  {
   "cell_type": "code",
   "execution_count": 27,
   "metadata": {
    "notebookRunGroups": {
     "groupValue": "1"
    }
   },
   "outputs": [
    {
     "name": "stdout",
     "output_type": "stream",
     "text": [
      "{'hello', (3, 4, 5), 12, 'world'}\n"
     ]
    }
   ],
   "source": [
    "s.add('hello')\n",
    "print(s)"
   ]
  },
  {
   "cell_type": "markdown",
   "metadata": {},
   "source": [
    "Entretanto, não podemos adicionar duplicatas ."
   ]
  },
  {
   "cell_type": "code",
   "execution_count": 40,
   "metadata": {},
   "outputs": [
    {
     "name": "stdout",
     "output_type": "stream",
     "text": [
      "{'world', (3, 4, 5), 12, 'hello'}\n"
     ]
    }
   ],
   "source": [
    "s.add('hello')\n",
    "print(s)"
   ]
  },
  {
   "cell_type": "markdown",
   "metadata": {},
   "source": [
    "Podemos excluir elementos de um conjunto usando `.remove()`."
   ]
  },
  {
   "cell_type": "code",
   "execution_count": 41,
   "metadata": {},
   "outputs": [
    {
     "name": "stdout",
     "output_type": "stream",
     "text": [
      "{'world', (3, 4, 5), 12}\n"
     ]
    }
   ],
   "source": [
    "s.remove('hello')\n",
    "print(s)"
   ]
  },
  {
   "cell_type": "markdown",
   "metadata": {},
   "source": [
    "Também podemos gerar conjuntos usando compreensões ."
   ]
  },
  {
   "cell_type": "code",
   "execution_count": 43,
   "metadata": {},
   "outputs": [
    {
     "name": "stdout",
     "output_type": "stream",
     "text": [
      "{0, 1, 2}\n"
     ]
    }
   ],
   "source": [
    "s = {n for n in range(3)}\n",
    "print(s)"
   ]
  },
  {
   "cell_type": "markdown",
   "metadata": {},
   "source": [
    "Em geral, utilizamos:\n",
    "\n",
    "* Listas para armazenar dados ordenados e mutáveis.\n",
    "* Tuplas para armazenar dados ordenados e imutáveis.\n",
    "* Conjuntos para armazenar dados não ordenados e únicos.\n",
    "\n",
    "Para análise econométrica, utilizamos principalmente listas e tuplas porque precisamos de dados ordenados. Listas são mais flexíveis porque são mutáveis."
   ]
  },
  {
   "cell_type": "markdown",
   "metadata": {},
   "source": [
    "### Dicionários (\"dictionaries\")\n",
    "\n",
    "Definição: Coleção de pares chave-valor.\n",
    "\n",
    "Características:\n",
    "* As chaves são únicas.\n",
    "* Permite busca rápida de valores associados a chaves.\n",
    "* Mutável.\n"
   ]
  },
  {
   "cell_type": "code",
   "execution_count": 2,
   "metadata": {},
   "outputs": [
    {
     "name": "stdout",
     "output_type": "stream",
     "text": [
      "Alice\n"
     ]
    }
   ],
   "source": [
    "dicionario = {\"nome\": \"Alice\", \"idade\": 25, \"cidade\": \"São Paulo\"}\n",
    "print(dicionario[\"nome\"])  # Output: Alice"
   ]
  },
  {
   "cell_type": "code",
   "execution_count": 3,
   "metadata": {},
   "outputs": [],
   "source": [
    "dicionario[\"idade\"] = 26  # Modifica um valor"
   ]
  },
  {
   "cell_type": "code",
   "execution_count": 4,
   "metadata": {},
   "outputs": [
    {
     "name": "stdout",
     "output_type": "stream",
     "text": [
      "26\n"
     ]
    }
   ],
   "source": [
    "print(dicionario[\"idade\"])"
   ]
  },
  {
   "cell_type": "code",
   "execution_count": 5,
   "metadata": {},
   "outputs": [
    {
     "name": "stdout",
     "output_type": "stream",
     "text": [
      "{'nome': 'Alice', 'idade': 26, 'cidade': 'São Paulo'}\n"
     ]
    }
   ],
   "source": [
    "print(dicionario)"
   ]
  },
  {
   "cell_type": "markdown",
   "metadata": {},
   "source": [
    "Use um dicionário quando precisar de uma estrutura simples para mapear chaves a valores, sem a necessidade de operações avançadas de manipulação ou de uma organização tabular."
   ]
  },
  {
   "cell_type": "markdown",
   "metadata": {},
   "source": [
    "### NumPy Arrays (numpy arrays)\n",
    "\n",
    "Definição: Estrutura de dados otimizada para cálculos numéricos.\n",
    "\n",
    "Características:\n",
    "* Semelhante a listas, mas mais eficiente e rápido para operações matemáticas.\n",
    "* ***Todos os elementos devem ser do mesmo tipo*** (exemplo: apenas float ou int).\n",
    "* Suporta operações vetorizadas.\n",
    "\n",
    "\n",
    "Exemplo:"
   ]
  },
  {
   "cell_type": "code",
   "execution_count": 4,
   "metadata": {},
   "outputs": [
    {
     "data": {
      "text/plain": [
       "array([1, 2, 3, 4])"
      ]
     },
     "execution_count": 4,
     "metadata": {},
     "output_type": "execute_result"
    }
   ],
   "source": [
    "import numpy as np\n",
    "\n",
    "array = np.array([1, 2, 3, 4])\n",
    "array\n"
   ]
  },
  {
   "cell_type": "code",
   "execution_count": 5,
   "metadata": {},
   "outputs": [
    {
     "name": "stdout",
     "output_type": "stream",
     "text": [
      "[2 4 6 8]\n"
     ]
    }
   ],
   "source": [
    "print(array * 2)  # Output: [2 4 6 8] (operação vetorizada)"
   ]
  },
  {
   "cell_type": "code",
   "execution_count": 6,
   "metadata": {},
   "outputs": [
    {
     "data": {
      "text/plain": [
       "array([ 1,  4,  9, 16])"
      ]
     },
     "execution_count": 6,
     "metadata": {},
     "output_type": "execute_result"
    }
   ],
   "source": [
    "array**2"
   ]
  },
  {
   "cell_type": "code",
   "execution_count": 7,
   "metadata": {},
   "outputs": [
    {
     "data": {
      "text/plain": [
       "array([3, 4, 5, 6])"
      ]
     },
     "execution_count": 7,
     "metadata": {},
     "output_type": "execute_result"
    }
   ],
   "source": [
    "array + 2"
   ]
  },
  {
   "cell_type": "code",
   "execution_count": 9,
   "metadata": {},
   "outputs": [
    {
     "data": {
      "text/plain": [
       "array([2, 4, 6, 8])"
      ]
     },
     "execution_count": 9,
     "metadata": {},
     "output_type": "execute_result"
    }
   ],
   "source": [
    "array + array"
   ]
  },
  {
   "cell_type": "code",
   "execution_count": 14,
   "metadata": {},
   "outputs": [
    {
     "data": {
      "text/plain": [
       "array([1.        , 1.41421356, 1.73205081, 2.        ])"
      ]
     },
     "execution_count": 14,
     "metadata": {},
     "output_type": "execute_result"
    }
   ],
   "source": [
    "np.sqrt(array)"
   ]
  },
  {
   "cell_type": "code",
   "execution_count": 15,
   "metadata": {},
   "outputs": [
    {
     "data": {
      "text/plain": [
       "array([1.        , 1.41421356, 1.73205081, 2.        ])"
      ]
     },
     "execution_count": 15,
     "metadata": {},
     "output_type": "execute_result"
    }
   ],
   "source": [
    "array**0.5"
   ]
  },
  {
   "cell_type": "code",
   "execution_count": 18,
   "metadata": {},
   "outputs": [
    {
     "data": {
      "text/plain": [
       "array([ 2.71828183,  7.3890561 , 20.08553692, 54.59815003])"
      ]
     },
     "execution_count": 18,
     "metadata": {},
     "output_type": "execute_result"
    }
   ],
   "source": [
    "exp_array = np.exp(array)\n",
    "exp_array"
   ]
  },
  {
   "cell_type": "code",
   "execution_count": 19,
   "metadata": {},
   "outputs": [
    {
     "data": {
      "text/plain": [
       "array([1., 2., 3., 4.])"
      ]
     },
     "execution_count": 19,
     "metadata": {},
     "output_type": "execute_result"
    }
   ],
   "source": [
    "np.log(exp_array)"
   ]
  },
  {
   "cell_type": "code",
   "execution_count": 21,
   "metadata": {},
   "outputs": [
    {
     "name": "stdout",
     "output_type": "stream",
     "text": [
      "[[1 2 3]\n",
      " [4 5 6]]\n"
     ]
    }
   ],
   "source": [
    "matriz = np.array([[1, 2, 3], [4, 5, 6]])\n",
    "print(matriz)\n"
   ]
  },
  {
   "cell_type": "code",
   "execution_count": 22,
   "metadata": {},
   "outputs": [
    {
     "name": "stdout",
     "output_type": "stream",
     "text": [
      "3.0\n",
      "1.4142135623730951\n",
      "15\n",
      "5\n",
      "1\n"
     ]
    }
   ],
   "source": [
    "dados = np.array([1, 2, 3, 4, 5])\n",
    "print(np.mean(dados))  # Média: 3.0\n",
    "print(np.std(dados))   # Desvio padrão\n",
    "print(np.sum(dados))   # Soma total: 15\n",
    "print(np.max(dados))   # Valor máximo: 5\n",
    "print(np.min(dados))   # Valor mínimo: 1\n"
   ]
  },
  {
   "cell_type": "markdown",
   "metadata": {},
   "source": [
    "### Pandas DataFrames (pandas.DataFrame)\n",
    "\n",
    "Definição: Estrutura tabular de dados em colunas e linhas.\n",
    "\n",
    "Características:\n",
    "* Semelhante a uma planilha do Excel ou a uma tabela SQL.\n",
    "  * Cada coluna tem um rótulo (nome) e um tipo de dados.\n",
    "  * Cada linha tem um índice.\n",
    "* Manipulação eficiente de grandes conjuntos de dados.\n",
    "* Suporte a indexação avançada e estatísticas descritivas.\n",
    "* Internamente, um DataFrame usa arrays do NumPy, garantindo alta eficiência computacional.\n"
   ]
  },
  {
   "cell_type": "code",
   "execution_count": 23,
   "metadata": {},
   "outputs": [
    {
     "name": "stdout",
     "output_type": "stream",
     "text": [
      "     Nome  Idade          Cidade\n",
      "0     Ana     25       São Paulo\n",
      "1   Bruno     30  Rio de Janeiro\n",
      "2  Carlos     35  Belo Horizonte\n"
     ]
    }
   ],
   "source": [
    "import pandas as pd\n",
    "\n",
    "dados = {\n",
    "    'Nome': ['Ana', 'Bruno', 'Carlos'],\n",
    "    'Idade': [25, 30, 35],\n",
    "    'Cidade': ['São Paulo', 'Rio de Janeiro', 'Belo Horizonte']\n",
    "}\n",
    "\n",
    "df = pd.DataFrame(dados)\n",
    "print(df)\n"
   ]
  },
  {
   "cell_type": "markdown",
   "metadata": {},
   "source": [
    "Acessando Dados no DataFrame"
   ]
  },
  {
   "cell_type": "code",
   "execution_count": 25,
   "metadata": {},
   "outputs": [
    {
     "data": {
      "text/plain": [
       "0       Ana\n",
       "1     Bruno\n",
       "2    Carlos\n",
       "Name: Nome, dtype: object"
      ]
     },
     "execution_count": 25,
     "metadata": {},
     "output_type": "execute_result"
    }
   ],
   "source": [
    "df['Nome']  # Retorna a coluna \"Nome\"\n"
   ]
  },
  {
   "cell_type": "code",
   "execution_count": 26,
   "metadata": {},
   "outputs": [
    {
     "data": {
      "application/vnd.microsoft.datawrangler.viewer.v0+json": {
       "columns": [
        {
         "name": "index",
         "rawType": "int64",
         "type": "integer"
        },
        {
         "name": "Nome",
         "rawType": "object",
         "type": "string"
        },
        {
         "name": "Idade",
         "rawType": "int64",
         "type": "integer"
        }
       ],
       "conversionMethod": "pd.DataFrame",
       "ref": "8110b5f1-2361-48e2-955d-33ae0e87e7c5",
       "rows": [
        [
         "0",
         "Ana",
         "25"
        ],
        [
         "1",
         "Bruno",
         "30"
        ],
        [
         "2",
         "Carlos",
         "35"
        ]
       ],
       "shape": {
        "columns": 2,
        "rows": 3
       }
      },
      "text/html": [
       "<div>\n",
       "<style scoped>\n",
       "    .dataframe tbody tr th:only-of-type {\n",
       "        vertical-align: middle;\n",
       "    }\n",
       "\n",
       "    .dataframe tbody tr th {\n",
       "        vertical-align: top;\n",
       "    }\n",
       "\n",
       "    .dataframe thead th {\n",
       "        text-align: right;\n",
       "    }\n",
       "</style>\n",
       "<table border=\"1\" class=\"dataframe\">\n",
       "  <thead>\n",
       "    <tr style=\"text-align: right;\">\n",
       "      <th></th>\n",
       "      <th>Nome</th>\n",
       "      <th>Idade</th>\n",
       "    </tr>\n",
       "  </thead>\n",
       "  <tbody>\n",
       "    <tr>\n",
       "      <th>0</th>\n",
       "      <td>Ana</td>\n",
       "      <td>25</td>\n",
       "    </tr>\n",
       "    <tr>\n",
       "      <th>1</th>\n",
       "      <td>Bruno</td>\n",
       "      <td>30</td>\n",
       "    </tr>\n",
       "    <tr>\n",
       "      <th>2</th>\n",
       "      <td>Carlos</td>\n",
       "      <td>35</td>\n",
       "    </tr>\n",
       "  </tbody>\n",
       "</table>\n",
       "</div>"
      ],
      "text/plain": [
       "     Nome  Idade\n",
       "0     Ana     25\n",
       "1   Bruno     30\n",
       "2  Carlos     35"
      ]
     },
     "execution_count": 26,
     "metadata": {},
     "output_type": "execute_result"
    }
   ],
   "source": [
    "df[['Nome', 'Idade']]  # Retorna múltiplas colunas"
   ]
  },
  {
   "cell_type": "markdown",
   "metadata": {},
   "source": [
    "Acessando Linhas:"
   ]
  },
  {
   "cell_type": "code",
   "execution_count": 27,
   "metadata": {},
   "outputs": [
    {
     "data": {
      "text/plain": [
       "Nome            Ana\n",
       "Idade            25\n",
       "Cidade    São Paulo\n",
       "Name: 0, dtype: object"
      ]
     },
     "execution_count": 27,
     "metadata": {},
     "output_type": "execute_result"
    }
   ],
   "source": [
    "df.loc[0]  # Retorna a primeira linha"
   ]
  },
  {
   "cell_type": "code",
   "execution_count": 28,
   "metadata": {},
   "outputs": [
    {
     "data": {
      "text/plain": [
       "Nome               Bruno\n",
       "Idade                 30\n",
       "Cidade    Rio de Janeiro\n",
       "Name: 1, dtype: object"
      ]
     },
     "execution_count": 28,
     "metadata": {},
     "output_type": "execute_result"
    }
   ],
   "source": [
    "df.iloc[1]  # Retorna a segunda linha"
   ]
  },
  {
   "cell_type": "markdown",
   "metadata": {},
   "source": [
    "Filtrando Dados:"
   ]
  },
  {
   "cell_type": "code",
   "execution_count": 29,
   "metadata": {},
   "outputs": [
    {
     "data": {
      "application/vnd.microsoft.datawrangler.viewer.v0+json": {
       "columns": [
        {
         "name": "index",
         "rawType": "int64",
         "type": "integer"
        },
        {
         "name": "Nome",
         "rawType": "object",
         "type": "string"
        },
        {
         "name": "Idade",
         "rawType": "int64",
         "type": "integer"
        },
        {
         "name": "Cidade",
         "rawType": "object",
         "type": "string"
        }
       ],
       "conversionMethod": "pd.DataFrame",
       "ref": "c28a9635-58db-442b-9d01-6a2f568d5c7b",
       "rows": [
        [
         "2",
         "Carlos",
         "35",
         "Belo Horizonte"
        ]
       ],
       "shape": {
        "columns": 3,
        "rows": 1
       }
      },
      "text/html": [
       "<div>\n",
       "<style scoped>\n",
       "    .dataframe tbody tr th:only-of-type {\n",
       "        vertical-align: middle;\n",
       "    }\n",
       "\n",
       "    .dataframe tbody tr th {\n",
       "        vertical-align: top;\n",
       "    }\n",
       "\n",
       "    .dataframe thead th {\n",
       "        text-align: right;\n",
       "    }\n",
       "</style>\n",
       "<table border=\"1\" class=\"dataframe\">\n",
       "  <thead>\n",
       "    <tr style=\"text-align: right;\">\n",
       "      <th></th>\n",
       "      <th>Nome</th>\n",
       "      <th>Idade</th>\n",
       "      <th>Cidade</th>\n",
       "    </tr>\n",
       "  </thead>\n",
       "  <tbody>\n",
       "    <tr>\n",
       "      <th>2</th>\n",
       "      <td>Carlos</td>\n",
       "      <td>35</td>\n",
       "      <td>Belo Horizonte</td>\n",
       "    </tr>\n",
       "  </tbody>\n",
       "</table>\n",
       "</div>"
      ],
      "text/plain": [
       "     Nome  Idade          Cidade\n",
       "2  Carlos     35  Belo Horizonte"
      ]
     },
     "execution_count": 29,
     "metadata": {},
     "output_type": "execute_result"
    }
   ],
   "source": [
    "df[df['Idade'] > 30]  # Filtra pessoas com mais de 30 anos\n"
   ]
  },
  {
   "cell_type": "markdown",
   "metadata": {},
   "source": [
    "Estatísticas básicas das colunas numéricas"
   ]
  },
  {
   "cell_type": "code",
   "execution_count": null,
   "metadata": {},
   "outputs": [
    {
     "data": {
      "application/vnd.microsoft.datawrangler.viewer.v0+json": {
       "columns": [
        {
         "name": "index",
         "rawType": "object",
         "type": "string"
        },
        {
         "name": "Idade",
         "rawType": "float64",
         "type": "float"
        }
       ],
       "conversionMethod": "pd.DataFrame",
       "ref": "6798ce81-c18b-44b5-a740-ad418360e3e2",
       "rows": [
        [
         "count",
         "3.0"
        ],
        [
         "mean",
         "30.0"
        ],
        [
         "std",
         "5.0"
        ],
        [
         "min",
         "25.0"
        ],
        [
         "25%",
         "27.5"
        ],
        [
         "50%",
         "30.0"
        ],
        [
         "75%",
         "32.5"
        ],
        [
         "max",
         "35.0"
        ]
       ],
       "shape": {
        "columns": 1,
        "rows": 8
       }
      },
      "text/html": [
       "<div>\n",
       "<style scoped>\n",
       "    .dataframe tbody tr th:only-of-type {\n",
       "        vertical-align: middle;\n",
       "    }\n",
       "\n",
       "    .dataframe tbody tr th {\n",
       "        vertical-align: top;\n",
       "    }\n",
       "\n",
       "    .dataframe thead th {\n",
       "        text-align: right;\n",
       "    }\n",
       "</style>\n",
       "<table border=\"1\" class=\"dataframe\">\n",
       "  <thead>\n",
       "    <tr style=\"text-align: right;\">\n",
       "      <th></th>\n",
       "      <th>Idade</th>\n",
       "    </tr>\n",
       "  </thead>\n",
       "  <tbody>\n",
       "    <tr>\n",
       "      <th>count</th>\n",
       "      <td>3.0</td>\n",
       "    </tr>\n",
       "    <tr>\n",
       "      <th>mean</th>\n",
       "      <td>30.0</td>\n",
       "    </tr>\n",
       "    <tr>\n",
       "      <th>std</th>\n",
       "      <td>5.0</td>\n",
       "    </tr>\n",
       "    <tr>\n",
       "      <th>min</th>\n",
       "      <td>25.0</td>\n",
       "    </tr>\n",
       "    <tr>\n",
       "      <th>25%</th>\n",
       "      <td>27.5</td>\n",
       "    </tr>\n",
       "    <tr>\n",
       "      <th>50%</th>\n",
       "      <td>30.0</td>\n",
       "    </tr>\n",
       "    <tr>\n",
       "      <th>75%</th>\n",
       "      <td>32.5</td>\n",
       "    </tr>\n",
       "    <tr>\n",
       "      <th>max</th>\n",
       "      <td>35.0</td>\n",
       "    </tr>\n",
       "  </tbody>\n",
       "</table>\n",
       "</div>"
      ],
      "text/plain": [
       "       Idade\n",
       "count    3.0\n",
       "mean    30.0\n",
       "std      5.0\n",
       "min     25.0\n",
       "25%     27.5\n",
       "50%     30.0\n",
       "75%     32.5\n",
       "max     35.0"
      ]
     },
     "execution_count": 30,
     "metadata": {},
     "output_type": "execute_result"
    }
   ],
   "source": [
    "df.describe()"
   ]
  },
  {
   "cell_type": "markdown",
   "metadata": {},
   "source": [
    "Informações sobre o DataFrame"
   ]
  },
  {
   "cell_type": "code",
   "execution_count": 33,
   "metadata": {},
   "outputs": [
    {
     "name": "stdout",
     "output_type": "stream",
     "text": [
      "<class 'pandas.core.frame.DataFrame'>\n",
      "RangeIndex: 3 entries, 0 to 2\n",
      "Data columns (total 3 columns):\n",
      " #   Column  Non-Null Count  Dtype \n",
      "---  ------  --------------  ----- \n",
      " 0   Nome    3 non-null      object\n",
      " 1   Idade   3 non-null      int64 \n",
      " 2   Cidade  3 non-null      object\n",
      "dtypes: int64(1), object(2)\n",
      "memory usage: 204.0+ bytes\n"
     ]
    }
   ],
   "source": [
    "df.info()"
   ]
  },
  {
   "cell_type": "markdown",
   "metadata": {},
   "source": [
    "Use um DataFrame quando estiver trabalhando com dados organizados em formato de tabela e precisar realizar análises, transformações e manipulações complexas."
   ]
  },
  {
   "cell_type": "markdown",
   "metadata": {},
   "source": [
    "Resumo\n",
    "\n",
    "\n",
    "| Estrutura          | Ordenado? | Mutável? | Duplicatas? | Uso principal |\n",
    "|--------------------|----------|----------|-------------|--------------|\n",
    "| **Listas**        | ✅ Sim    | ✅ Sim    | ✅ Sim       | Coleção de elementos variados |\n",
    "| **Tuplas**        | ✅ Sim    | ❌ Não    | ✅ Sim       | Dados imutáveis e seguros |\n",
    "| **Conjuntos**     | ❌ Não    | ✅ Sim    | ❌ Não       | Operações matemáticas (união, interseção) |\n",
    "| **Dicionários**   | ❌ Não    | ✅ Sim    | ❌ Não (chaves) | Mapeamento chave-valor |\n",
    "| **NumPy Arrays**  | ✅ Sim    | ✅ Sim    | ✅ Sim       | Cálculos numéricos eficientes |\n",
    "| **Pandas DF**     | ✅ Sim    | ✅ Sim    | ✅ Sim       | Dados tabulares pequenos/médios |\n",
    "\n"
   ]
  },
  {
   "cell_type": "markdown",
   "metadata": {},
   "source": [
    "# Exploração de Dados"
   ]
  },
  {
   "cell_type": "markdown",
   "metadata": {},
   "source": [
    "Agora vamos aprofundar um pouco mais.\n",
    "\n",
    "Para o escopo deste tutorial, usaremos dados *Scraped do AirBnb* para a cidade de Bolonha. Os dados estão disponíveis gratuitamente em Inside AirBnb : http://insideairbnb.com/get-the-data.html .\n",
    "\n",
    "Usaremos 2 conjuntos de dados:\n",
    "\n",
    "* conjunto de dados de listagem: contém informações de nível de listagem\n",
    "* conjunto de dados de preços: contém dados de preços ao longo do tempo\n",
    "\n",
    "Vamos começar carregando as bibliotecas necessárias e os dados."
   ]
  },
  {
   "cell_type": "code",
   "execution_count": 34,
   "metadata": {},
   "outputs": [],
   "source": [
    "import numpy as np \n",
    "import pandas as pd "
   ]
  },
  {
   "cell_type": "markdown",
   "metadata": {},
   "source": [
    "### Importando os dados\n",
    "\n",
    "O **Pandas** tem uma variedade de funções para importar dados\n",
    "\n",
    "* `pd.read_csv()`\n",
    "* `pd.read_html()`\n",
    "* `pd.read_parquet()`\n",
    "\n",
    "O mais importante para o nosso propósito `pd.read_csv()` para ler dados `*.csv`, sem contar que podemos ***importar os dados diretamente da web***.\n",
    "\n",
    "O primeiro conjunto de dados que vamos importar é o conjunto de dados de listagens do Airbnb em Bolonha. Ele contém informações de nível de listagem."
   ]
  },
  {
   "cell_type": "code",
   "execution_count": 35,
   "metadata": {},
   "outputs": [],
   "source": [
    "url_listings = \"http://data.insideairbnb.com/italy/emilia-romagna/bologna/2021-12-17/visualisations/listings.csv\"\n",
    "df_listings = pd.read_csv(url_listings)"
   ]
  },
  {
   "cell_type": "markdown",
   "metadata": {},
   "source": [
    "procedimento:\n",
    "* importamos o arquivo csv para a variável `url_listings`\n",
    "* depois usamos `pd.read_csv()` para ler o arquivo csv e armazenar os dados na variável `df_listings`"
   ]
  },
  {
   "cell_type": "markdown",
   "metadata": {},
   "source": [
    "O segundo dataset que vamos usar é o dataset de preços de calendário. Desta vez, o dataset está compactado, mas podemos usar a opção `compression` para importá-lo diretamente."
   ]
  },
  {
   "cell_type": "code",
   "execution_count": 36,
   "metadata": {},
   "outputs": [],
   "source": [
    "url_prices = \"http://data.insideairbnb.com/italy/emilia-romagna/bologna/2021-12-17/data/calendar.csv.gz\"\n",
    "df_prices = pd.read_csv(url_prices, compression=\"gzip\")"
   ]
  },
  {
   "cell_type": "markdown",
   "metadata": {},
   "source": [
    "seguimos a mesma lógica, entretanto, desta vez, usamos a opção `compression` para descompactar o arquivo."
   ]
  },
  {
   "cell_type": "markdown",
   "metadata": {},
   "source": [
    "### Inspecionando Dados\n",
    "\n",
    "**Métodos**\n",
    "\n",
    "* `info()`\n",
    "* `head()`\n",
    "* `describe()`\n",
    "\n",
    "A primeira maneira de dar uma olhada rápida nos dados é o método `info()`. Se chamado com a opção `verbose=False`, ele fornece uma visão geral rápida das dimensões dos dados."
   ]
  },
  {
   "cell_type": "code",
   "execution_count": 37,
   "metadata": {},
   "outputs": [
    {
     "name": "stdout",
     "output_type": "stream",
     "text": [
      "<class 'pandas.core.frame.DataFrame'>\n",
      "RangeIndex: 3453 entries, 0 to 3452\n",
      "Columns: 18 entries, id to license\n",
      "dtypes: float64(4), int64(8), object(6)\n",
      "memory usage: 485.7+ KB\n"
     ]
    }
   ],
   "source": [
    "df_listings.info(verbose=False)"
   ]
  },
  {
   "cell_type": "markdown",
   "metadata": {},
   "source": [
    "vejamos sem a opção `verbose=False`."
   ]
  },
  {
   "cell_type": "code",
   "execution_count": 38,
   "metadata": {},
   "outputs": [
    {
     "name": "stdout",
     "output_type": "stream",
     "text": [
      "<class 'pandas.core.frame.DataFrame'>\n",
      "RangeIndex: 3453 entries, 0 to 3452\n",
      "Data columns (total 18 columns):\n",
      " #   Column                          Non-Null Count  Dtype  \n",
      "---  ------                          --------------  -----  \n",
      " 0   id                              3453 non-null   int64  \n",
      " 1   name                            3453 non-null   object \n",
      " 2   host_id                         3453 non-null   int64  \n",
      " 3   host_name                       3444 non-null   object \n",
      " 4   neighbourhood_group             0 non-null      float64\n",
      " 5   neighbourhood                   3453 non-null   object \n",
      " 6   latitude                        3453 non-null   float64\n",
      " 7   longitude                       3453 non-null   float64\n",
      " 8   room_type                       3453 non-null   object \n",
      " 9   price                           3453 non-null   int64  \n",
      " 10  minimum_nights                  3453 non-null   int64  \n",
      " 11  number_of_reviews               3453 non-null   int64  \n",
      " 12  last_review                     3044 non-null   object \n",
      " 13  reviews_per_month               3044 non-null   float64\n",
      " 14  calculated_host_listings_count  3453 non-null   int64  \n",
      " 15  availability_365                3453 non-null   int64  \n",
      " 16  number_of_reviews_ltm           3453 non-null   int64  \n",
      " 17  license                         135 non-null    object \n",
      "dtypes: float64(4), int64(8), object(6)\n",
      "memory usage: 485.7+ KB\n"
     ]
    }
   ],
   "source": [
    "df_listings.info()"
   ]
  },
  {
   "cell_type": "markdown",
   "metadata": {},
   "source": [
    "Se quisermos saber como os dados se parecem, podemos usar o método `head()`. Ele imprime as primeiras 5 linhas dos dados por padrão."
   ]
  },
  {
   "cell_type": "code",
   "execution_count": 39,
   "metadata": {},
   "outputs": [
    {
     "data": {
      "application/vnd.microsoft.datawrangler.viewer.v0+json": {
       "columns": [
        {
         "name": "index",
         "rawType": "int64",
         "type": "integer"
        },
        {
         "name": "id",
         "rawType": "int64",
         "type": "integer"
        },
        {
         "name": "name",
         "rawType": "object",
         "type": "string"
        },
        {
         "name": "host_id",
         "rawType": "int64",
         "type": "integer"
        },
        {
         "name": "host_name",
         "rawType": "object",
         "type": "string"
        },
        {
         "name": "neighbourhood_group",
         "rawType": "float64",
         "type": "float"
        },
        {
         "name": "neighbourhood",
         "rawType": "object",
         "type": "string"
        },
        {
         "name": "latitude",
         "rawType": "float64",
         "type": "float"
        },
        {
         "name": "longitude",
         "rawType": "float64",
         "type": "float"
        },
        {
         "name": "room_type",
         "rawType": "object",
         "type": "string"
        },
        {
         "name": "price",
         "rawType": "int64",
         "type": "integer"
        },
        {
         "name": "minimum_nights",
         "rawType": "int64",
         "type": "integer"
        },
        {
         "name": "number_of_reviews",
         "rawType": "int64",
         "type": "integer"
        },
        {
         "name": "last_review",
         "rawType": "object",
         "type": "string"
        },
        {
         "name": "reviews_per_month",
         "rawType": "float64",
         "type": "float"
        },
        {
         "name": "calculated_host_listings_count",
         "rawType": "int64",
         "type": "integer"
        },
        {
         "name": "availability_365",
         "rawType": "int64",
         "type": "integer"
        },
        {
         "name": "number_of_reviews_ltm",
         "rawType": "int64",
         "type": "integer"
        },
        {
         "name": "license",
         "rawType": "object",
         "type": "string"
        }
       ],
       "conversionMethod": "pd.DataFrame",
       "ref": "c7a5be66-c82e-42d8-a9cb-12af3ee62041",
       "rows": [
        [
         "0",
         "42196",
         "50 sm Studio in the historic centre",
         "184487",
         "Carlo",
         null,
         "Santo Stefano",
         "44.48507",
         "11.34786",
         "Entire home/apt",
         "68",
         "3",
         "180",
         "2021-11-12",
         "1.32",
         "1",
         "161",
         "6",
         null
        ],
        [
         "1",
         "46352",
         "A room in Pasolini's house",
         "467810",
         "Eleonora",
         null,
         "Porto - Saragozza",
         "44.49168",
         "11.33514",
         "Private room",
         "29",
         "1",
         "300",
         "2021-11-30",
         "2.2",
         "2",
         "248",
         "37",
         null
        ],
        [
         "2",
         "59697",
         "COZY LARGE BEDROOM in the city center",
         "286688",
         "Paolo",
         null,
         "Santo Stefano",
         "44.48817",
         "11.34124",
         "Private room",
         "50",
         "1",
         "240",
         "2020-10-04",
         "2.18",
         "2",
         "327",
         "0",
         null
        ],
        [
         "3",
         "85368",
         "Garden House Bologna",
         "467675",
         "Anna Maria",
         null,
         "Santo Stefano",
         "44.47834",
         "11.35672",
         "Entire home/apt",
         "126",
         "2",
         "40",
         "2019-11-03",
         "0.34",
         "1",
         "332",
         "0",
         null
        ],
        [
         "4",
         "145779",
         "SINGLE ROOM",
         "705535",
         "Valerio",
         null,
         "Porto - Saragozza",
         "44.49306",
         "11.33786",
         "Private room",
         "50",
         "10",
         "69",
         "2021-12-05",
         "0.55",
         "9",
         "365",
         "5",
         null
        ]
       ],
       "shape": {
        "columns": 18,
        "rows": 5
       }
      },
      "text/html": [
       "<div>\n",
       "<style scoped>\n",
       "    .dataframe tbody tr th:only-of-type {\n",
       "        vertical-align: middle;\n",
       "    }\n",
       "\n",
       "    .dataframe tbody tr th {\n",
       "        vertical-align: top;\n",
       "    }\n",
       "\n",
       "    .dataframe thead th {\n",
       "        text-align: right;\n",
       "    }\n",
       "</style>\n",
       "<table border=\"1\" class=\"dataframe\">\n",
       "  <thead>\n",
       "    <tr style=\"text-align: right;\">\n",
       "      <th></th>\n",
       "      <th>id</th>\n",
       "      <th>name</th>\n",
       "      <th>host_id</th>\n",
       "      <th>host_name</th>\n",
       "      <th>neighbourhood_group</th>\n",
       "      <th>neighbourhood</th>\n",
       "      <th>latitude</th>\n",
       "      <th>longitude</th>\n",
       "      <th>room_type</th>\n",
       "      <th>price</th>\n",
       "      <th>minimum_nights</th>\n",
       "      <th>number_of_reviews</th>\n",
       "      <th>last_review</th>\n",
       "      <th>reviews_per_month</th>\n",
       "      <th>calculated_host_listings_count</th>\n",
       "      <th>availability_365</th>\n",
       "      <th>number_of_reviews_ltm</th>\n",
       "      <th>license</th>\n",
       "    </tr>\n",
       "  </thead>\n",
       "  <tbody>\n",
       "    <tr>\n",
       "      <th>0</th>\n",
       "      <td>42196</td>\n",
       "      <td>50 sm Studio in the historic centre</td>\n",
       "      <td>184487</td>\n",
       "      <td>Carlo</td>\n",
       "      <td>NaN</td>\n",
       "      <td>Santo Stefano</td>\n",
       "      <td>44.48507</td>\n",
       "      <td>11.34786</td>\n",
       "      <td>Entire home/apt</td>\n",
       "      <td>68</td>\n",
       "      <td>3</td>\n",
       "      <td>180</td>\n",
       "      <td>2021-11-12</td>\n",
       "      <td>1.32</td>\n",
       "      <td>1</td>\n",
       "      <td>161</td>\n",
       "      <td>6</td>\n",
       "      <td>NaN</td>\n",
       "    </tr>\n",
       "    <tr>\n",
       "      <th>1</th>\n",
       "      <td>46352</td>\n",
       "      <td>A room in Pasolini's house</td>\n",
       "      <td>467810</td>\n",
       "      <td>Eleonora</td>\n",
       "      <td>NaN</td>\n",
       "      <td>Porto - Saragozza</td>\n",
       "      <td>44.49168</td>\n",
       "      <td>11.33514</td>\n",
       "      <td>Private room</td>\n",
       "      <td>29</td>\n",
       "      <td>1</td>\n",
       "      <td>300</td>\n",
       "      <td>2021-11-30</td>\n",
       "      <td>2.20</td>\n",
       "      <td>2</td>\n",
       "      <td>248</td>\n",
       "      <td>37</td>\n",
       "      <td>NaN</td>\n",
       "    </tr>\n",
       "    <tr>\n",
       "      <th>2</th>\n",
       "      <td>59697</td>\n",
       "      <td>COZY LARGE BEDROOM in the city center</td>\n",
       "      <td>286688</td>\n",
       "      <td>Paolo</td>\n",
       "      <td>NaN</td>\n",
       "      <td>Santo Stefano</td>\n",
       "      <td>44.48817</td>\n",
       "      <td>11.34124</td>\n",
       "      <td>Private room</td>\n",
       "      <td>50</td>\n",
       "      <td>1</td>\n",
       "      <td>240</td>\n",
       "      <td>2020-10-04</td>\n",
       "      <td>2.18</td>\n",
       "      <td>2</td>\n",
       "      <td>327</td>\n",
       "      <td>0</td>\n",
       "      <td>NaN</td>\n",
       "    </tr>\n",
       "    <tr>\n",
       "      <th>3</th>\n",
       "      <td>85368</td>\n",
       "      <td>Garden House Bologna</td>\n",
       "      <td>467675</td>\n",
       "      <td>Anna Maria</td>\n",
       "      <td>NaN</td>\n",
       "      <td>Santo Stefano</td>\n",
       "      <td>44.47834</td>\n",
       "      <td>11.35672</td>\n",
       "      <td>Entire home/apt</td>\n",
       "      <td>126</td>\n",
       "      <td>2</td>\n",
       "      <td>40</td>\n",
       "      <td>2019-11-03</td>\n",
       "      <td>0.34</td>\n",
       "      <td>1</td>\n",
       "      <td>332</td>\n",
       "      <td>0</td>\n",
       "      <td>NaN</td>\n",
       "    </tr>\n",
       "    <tr>\n",
       "      <th>4</th>\n",
       "      <td>145779</td>\n",
       "      <td>SINGLE ROOM</td>\n",
       "      <td>705535</td>\n",
       "      <td>Valerio</td>\n",
       "      <td>NaN</td>\n",
       "      <td>Porto - Saragozza</td>\n",
       "      <td>44.49306</td>\n",
       "      <td>11.33786</td>\n",
       "      <td>Private room</td>\n",
       "      <td>50</td>\n",
       "      <td>10</td>\n",
       "      <td>69</td>\n",
       "      <td>2021-12-05</td>\n",
       "      <td>0.55</td>\n",
       "      <td>9</td>\n",
       "      <td>365</td>\n",
       "      <td>5</td>\n",
       "      <td>NaN</td>\n",
       "    </tr>\n",
       "  </tbody>\n",
       "</table>\n",
       "</div>"
      ],
      "text/plain": [
       "       id                                   name  host_id   host_name  \\\n",
       "0   42196    50 sm Studio in the historic centre   184487       Carlo   \n",
       "1   46352             A room in Pasolini's house   467810    Eleonora   \n",
       "2   59697  COZY LARGE BEDROOM in the city center   286688       Paolo   \n",
       "3   85368                   Garden House Bologna   467675  Anna Maria   \n",
       "4  145779                            SINGLE ROOM   705535     Valerio   \n",
       "\n",
       "   neighbourhood_group      neighbourhood  latitude  longitude  \\\n",
       "0                  NaN      Santo Stefano  44.48507   11.34786   \n",
       "1                  NaN  Porto - Saragozza  44.49168   11.33514   \n",
       "2                  NaN      Santo Stefano  44.48817   11.34124   \n",
       "3                  NaN      Santo Stefano  44.47834   11.35672   \n",
       "4                  NaN  Porto - Saragozza  44.49306   11.33786   \n",
       "\n",
       "         room_type  price  minimum_nights  number_of_reviews last_review  \\\n",
       "0  Entire home/apt     68               3                180  2021-11-12   \n",
       "1     Private room     29               1                300  2021-11-30   \n",
       "2     Private room     50               1                240  2020-10-04   \n",
       "3  Entire home/apt    126               2                 40  2019-11-03   \n",
       "4     Private room     50              10                 69  2021-12-05   \n",
       "\n",
       "   reviews_per_month  calculated_host_listings_count  availability_365  \\\n",
       "0               1.32                               1               161   \n",
       "1               2.20                               2               248   \n",
       "2               2.18                               2               327   \n",
       "3               0.34                               1               332   \n",
       "4               0.55                               9               365   \n",
       "\n",
       "   number_of_reviews_ltm license  \n",
       "0                      6     NaN  \n",
       "1                     37     NaN  \n",
       "2                      0     NaN  \n",
       "3                      0     NaN  \n",
       "4                      5     NaN  "
      ]
     },
     "execution_count": 39,
     "metadata": {},
     "output_type": "execute_result"
    }
   ],
   "source": [
    "df_listings.head()"
   ]
  },
  {
   "cell_type": "markdown",
   "metadata": {},
   "source": [
    "Podemos imprimir uma descrição dos dados usando `describe()`. "
   ]
  },
  {
   "cell_type": "code",
   "execution_count": 40,
   "metadata": {},
   "outputs": [
    {
     "data": {
      "application/vnd.microsoft.datawrangler.viewer.v0+json": {
       "columns": [
        {
         "name": "index",
         "rawType": "object",
         "type": "string"
        },
        {
         "name": "id",
         "rawType": "float64",
         "type": "float"
        },
        {
         "name": "host_id",
         "rawType": "float64",
         "type": "float"
        },
        {
         "name": "neighbourhood_group",
         "rawType": "float64",
         "type": "float"
        },
        {
         "name": "latitude",
         "rawType": "float64",
         "type": "float"
        },
        {
         "name": "longitude",
         "rawType": "float64",
         "type": "float"
        },
        {
         "name": "price",
         "rawType": "float64",
         "type": "float"
        },
        {
         "name": "minimum_nights",
         "rawType": "float64",
         "type": "float"
        },
        {
         "name": "number_of_reviews",
         "rawType": "float64",
         "type": "float"
        },
        {
         "name": "reviews_per_month",
         "rawType": "float64",
         "type": "float"
        },
        {
         "name": "calculated_host_listings_count",
         "rawType": "float64",
         "type": "float"
        },
        {
         "name": "availability_365",
         "rawType": "float64",
         "type": "float"
        },
        {
         "name": "number_of_reviews_ltm",
         "rawType": "float64",
         "type": "float"
        }
       ],
       "conversionMethod": "pd.DataFrame",
       "ref": "8dbe3559-a846-46c7-8fe0-1b289735fc8d",
       "rows": [
        [
         "count",
         "3453.0",
         "3453.0",
         "0.0",
         "3453.0",
         "3453.0",
         "3453.0",
         "3453.0",
         "3453.0",
         "3044.0",
         "3453.0",
         "3453.0",
         "3453.0"
        ],
        [
         "mean",
         "29502177.118158124",
         "123642405.85461918",
         null,
         "44.49755984708949",
         "11.345094744859543",
         "118.94468578048074",
         "2.8546191717347233",
         "41.47089487402259",
         "1.237621550591327",
         "6.101071532001159",
         "142.11642050390964",
         "6.867361714451202"
        ],
        [
         "std",
         "15239877.346776655",
         "116075571.23004766",
         null,
         "0.011735692248863748",
         "0.019860708398913414",
         "315.2239600182355",
         "13.970410491470162",
         "71.08372799828456",
         "1.4163576772854172",
         "11.173104994271458",
         "125.11562809526372",
         "12.400066951016438"
        ],
        [
         "min",
         "42196.0",
         "38468.0",
         null,
         "44.4236",
         "11.232",
         "7.0",
         "1.0",
         "0.0",
         "0.01",
         "1.0",
         "0.0",
         "0.0"
        ],
        [
         "25%",
         "17485973.0",
         "25500072.0",
         null,
         "44.49186",
         "11.33732",
         "53.0",
         "1.0",
         "3.0",
         "0.27",
         "1.0",
         "15.0",
         "0.0"
        ],
        [
         "50%",
         "30787074.0",
         "88454378.0",
         null,
         "44.496986",
         "11.34519",
         "74.0",
         "2.0",
         "14.0",
         "0.75",
         "2.0",
         "116.0",
         "2.0"
        ],
        [
         "75%",
         "42200938.0",
         "200592620.0",
         null,
         "44.50271",
         "11.35406",
         "104.0",
         "2.0",
         "50.0",
         "1.72",
         "5.0",
         "255.0",
         "8.0"
        ],
        [
         "max",
         "53854962.0",
         "435431590.0",
         null,
         "44.55093",
         "11.42027",
         "9999.0",
         "400.0",
         "764.0",
         "11.53",
         "55.0",
         "365.0",
         "137.0"
        ]
       ],
       "shape": {
        "columns": 12,
        "rows": 8
       }
      },
      "text/html": [
       "<div>\n",
       "<style scoped>\n",
       "    .dataframe tbody tr th:only-of-type {\n",
       "        vertical-align: middle;\n",
       "    }\n",
       "\n",
       "    .dataframe tbody tr th {\n",
       "        vertical-align: top;\n",
       "    }\n",
       "\n",
       "    .dataframe thead th {\n",
       "        text-align: right;\n",
       "    }\n",
       "</style>\n",
       "<table border=\"1\" class=\"dataframe\">\n",
       "  <thead>\n",
       "    <tr style=\"text-align: right;\">\n",
       "      <th></th>\n",
       "      <th>id</th>\n",
       "      <th>host_id</th>\n",
       "      <th>neighbourhood_group</th>\n",
       "      <th>latitude</th>\n",
       "      <th>longitude</th>\n",
       "      <th>price</th>\n",
       "      <th>minimum_nights</th>\n",
       "      <th>number_of_reviews</th>\n",
       "      <th>reviews_per_month</th>\n",
       "      <th>calculated_host_listings_count</th>\n",
       "      <th>availability_365</th>\n",
       "      <th>number_of_reviews_ltm</th>\n",
       "    </tr>\n",
       "  </thead>\n",
       "  <tbody>\n",
       "    <tr>\n",
       "      <th>count</th>\n",
       "      <td>3.453000e+03</td>\n",
       "      <td>3.453000e+03</td>\n",
       "      <td>0.0</td>\n",
       "      <td>3453.000000</td>\n",
       "      <td>3453.000000</td>\n",
       "      <td>3453.000000</td>\n",
       "      <td>3453.000000</td>\n",
       "      <td>3453.000000</td>\n",
       "      <td>3044.000000</td>\n",
       "      <td>3453.000000</td>\n",
       "      <td>3453.000000</td>\n",
       "      <td>3453.000000</td>\n",
       "    </tr>\n",
       "    <tr>\n",
       "      <th>mean</th>\n",
       "      <td>2.950218e+07</td>\n",
       "      <td>1.236424e+08</td>\n",
       "      <td>NaN</td>\n",
       "      <td>44.497560</td>\n",
       "      <td>11.345095</td>\n",
       "      <td>118.944686</td>\n",
       "      <td>2.854619</td>\n",
       "      <td>41.470895</td>\n",
       "      <td>1.237622</td>\n",
       "      <td>6.101072</td>\n",
       "      <td>142.116421</td>\n",
       "      <td>6.867362</td>\n",
       "    </tr>\n",
       "    <tr>\n",
       "      <th>std</th>\n",
       "      <td>1.523988e+07</td>\n",
       "      <td>1.160756e+08</td>\n",
       "      <td>NaN</td>\n",
       "      <td>0.011736</td>\n",
       "      <td>0.019861</td>\n",
       "      <td>315.223960</td>\n",
       "      <td>13.970410</td>\n",
       "      <td>71.083728</td>\n",
       "      <td>1.416358</td>\n",
       "      <td>11.173105</td>\n",
       "      <td>125.115628</td>\n",
       "      <td>12.400067</td>\n",
       "    </tr>\n",
       "    <tr>\n",
       "      <th>min</th>\n",
       "      <td>4.219600e+04</td>\n",
       "      <td>3.846800e+04</td>\n",
       "      <td>NaN</td>\n",
       "      <td>44.423600</td>\n",
       "      <td>11.232000</td>\n",
       "      <td>7.000000</td>\n",
       "      <td>1.000000</td>\n",
       "      <td>0.000000</td>\n",
       "      <td>0.010000</td>\n",
       "      <td>1.000000</td>\n",
       "      <td>0.000000</td>\n",
       "      <td>0.000000</td>\n",
       "    </tr>\n",
       "    <tr>\n",
       "      <th>25%</th>\n",
       "      <td>1.748597e+07</td>\n",
       "      <td>2.550007e+07</td>\n",
       "      <td>NaN</td>\n",
       "      <td>44.491860</td>\n",
       "      <td>11.337320</td>\n",
       "      <td>53.000000</td>\n",
       "      <td>1.000000</td>\n",
       "      <td>3.000000</td>\n",
       "      <td>0.270000</td>\n",
       "      <td>1.000000</td>\n",
       "      <td>15.000000</td>\n",
       "      <td>0.000000</td>\n",
       "    </tr>\n",
       "    <tr>\n",
       "      <th>50%</th>\n",
       "      <td>3.078707e+07</td>\n",
       "      <td>8.845438e+07</td>\n",
       "      <td>NaN</td>\n",
       "      <td>44.496986</td>\n",
       "      <td>11.345190</td>\n",
       "      <td>74.000000</td>\n",
       "      <td>2.000000</td>\n",
       "      <td>14.000000</td>\n",
       "      <td>0.750000</td>\n",
       "      <td>2.000000</td>\n",
       "      <td>116.000000</td>\n",
       "      <td>2.000000</td>\n",
       "    </tr>\n",
       "    <tr>\n",
       "      <th>75%</th>\n",
       "      <td>4.220094e+07</td>\n",
       "      <td>2.005926e+08</td>\n",
       "      <td>NaN</td>\n",
       "      <td>44.502710</td>\n",
       "      <td>11.354060</td>\n",
       "      <td>104.000000</td>\n",
       "      <td>2.000000</td>\n",
       "      <td>50.000000</td>\n",
       "      <td>1.720000</td>\n",
       "      <td>5.000000</td>\n",
       "      <td>255.000000</td>\n",
       "      <td>8.000000</td>\n",
       "    </tr>\n",
       "    <tr>\n",
       "      <th>max</th>\n",
       "      <td>5.385496e+07</td>\n",
       "      <td>4.354316e+08</td>\n",
       "      <td>NaN</td>\n",
       "      <td>44.550930</td>\n",
       "      <td>11.420270</td>\n",
       "      <td>9999.000000</td>\n",
       "      <td>400.000000</td>\n",
       "      <td>764.000000</td>\n",
       "      <td>11.530000</td>\n",
       "      <td>55.000000</td>\n",
       "      <td>365.000000</td>\n",
       "      <td>137.000000</td>\n",
       "    </tr>\n",
       "  </tbody>\n",
       "</table>\n",
       "</div>"
      ],
      "text/plain": [
       "                 id       host_id  neighbourhood_group     latitude  \\\n",
       "count  3.453000e+03  3.453000e+03                  0.0  3453.000000   \n",
       "mean   2.950218e+07  1.236424e+08                  NaN    44.497560   \n",
       "std    1.523988e+07  1.160756e+08                  NaN     0.011736   \n",
       "min    4.219600e+04  3.846800e+04                  NaN    44.423600   \n",
       "25%    1.748597e+07  2.550007e+07                  NaN    44.491860   \n",
       "50%    3.078707e+07  8.845438e+07                  NaN    44.496986   \n",
       "75%    4.220094e+07  2.005926e+08                  NaN    44.502710   \n",
       "max    5.385496e+07  4.354316e+08                  NaN    44.550930   \n",
       "\n",
       "         longitude        price  minimum_nights  number_of_reviews  \\\n",
       "count  3453.000000  3453.000000     3453.000000        3453.000000   \n",
       "mean     11.345095   118.944686        2.854619          41.470895   \n",
       "std       0.019861   315.223960       13.970410          71.083728   \n",
       "min      11.232000     7.000000        1.000000           0.000000   \n",
       "25%      11.337320    53.000000        1.000000           3.000000   \n",
       "50%      11.345190    74.000000        2.000000          14.000000   \n",
       "75%      11.354060   104.000000        2.000000          50.000000   \n",
       "max      11.420270  9999.000000      400.000000         764.000000   \n",
       "\n",
       "       reviews_per_month  calculated_host_listings_count  availability_365  \\\n",
       "count        3044.000000                     3453.000000       3453.000000   \n",
       "mean            1.237622                        6.101072        142.116421   \n",
       "std             1.416358                       11.173105        125.115628   \n",
       "min             0.010000                        1.000000          0.000000   \n",
       "25%             0.270000                        1.000000         15.000000   \n",
       "50%             0.750000                        2.000000        116.000000   \n",
       "75%             1.720000                        5.000000        255.000000   \n",
       "max            11.530000                       55.000000        365.000000   \n",
       "\n",
       "       number_of_reviews_ltm  \n",
       "count            3453.000000  \n",
       "mean                6.867362  \n",
       "std                12.400067  \n",
       "min                 0.000000  \n",
       "25%                 0.000000  \n",
       "50%                 2.000000  \n",
       "75%                 8.000000  \n",
       "max               137.000000  "
      ]
     },
     "execution_count": 40,
     "metadata": {},
     "output_type": "execute_result"
    }
   ],
   "source": [
    "df_listings.describe()"
   ]
  },
  {
   "cell_type": "markdown",
   "metadata": {},
   "source": [
    "Se tivermos muitas variáveis, é melhor ***imprimi-las transpostas*** usando o atributo `T`."
   ]
  },
  {
   "cell_type": "code",
   "execution_count": 41,
   "metadata": {},
   "outputs": [
    {
     "data": {
      "application/vnd.microsoft.datawrangler.viewer.v0+json": {
       "columns": [
        {
         "name": "index",
         "rawType": "object",
         "type": "string"
        },
        {
         "name": "count",
         "rawType": "float64",
         "type": "float"
        },
        {
         "name": "mean",
         "rawType": "float64",
         "type": "float"
        },
        {
         "name": "std",
         "rawType": "float64",
         "type": "float"
        },
        {
         "name": "min",
         "rawType": "float64",
         "type": "float"
        },
        {
         "name": "25%",
         "rawType": "float64",
         "type": "float"
        },
        {
         "name": "50%",
         "rawType": "float64",
         "type": "float"
        },
        {
         "name": "75%",
         "rawType": "float64",
         "type": "float"
        },
        {
         "name": "max",
         "rawType": "float64",
         "type": "float"
        }
       ],
       "conversionMethod": "pd.DataFrame",
       "ref": "652a4b39-f682-43d2-b15b-ce8e84333c30",
       "rows": [
        [
         "id",
         "3453.0",
         "29502177.118158124",
         "15239877.346776655",
         "42196.0",
         "17485973.0",
         "30787074.0",
         "42200938.0",
         "53854962.0"
        ],
        [
         "host_id",
         "3453.0",
         "123642405.85461918",
         "116075571.23004766",
         "38468.0",
         "25500072.0",
         "88454378.0",
         "200592620.0",
         "435431590.0"
        ],
        [
         "neighbourhood_group",
         "0.0",
         null,
         null,
         null,
         null,
         null,
         null,
         null
        ],
        [
         "latitude",
         "3453.0",
         "44.49755984708949",
         "0.011735692248863748",
         "44.4236",
         "44.49186",
         "44.496986",
         "44.50271",
         "44.55093"
        ],
        [
         "longitude",
         "3453.0",
         "11.345094744859543",
         "0.019860708398913414",
         "11.232",
         "11.33732",
         "11.34519",
         "11.35406",
         "11.42027"
        ],
        [
         "price",
         "3453.0",
         "118.94468578048074",
         "315.2239600182355",
         "7.0",
         "53.0",
         "74.0",
         "104.0",
         "9999.0"
        ],
        [
         "minimum_nights",
         "3453.0",
         "2.8546191717347233",
         "13.970410491470162",
         "1.0",
         "1.0",
         "2.0",
         "2.0",
         "400.0"
        ],
        [
         "number_of_reviews",
         "3453.0",
         "41.47089487402259",
         "71.08372799828456",
         "0.0",
         "3.0",
         "14.0",
         "50.0",
         "764.0"
        ],
        [
         "reviews_per_month",
         "3044.0",
         "1.237621550591327",
         "1.4163576772854172",
         "0.01",
         "0.27",
         "0.75",
         "1.72",
         "11.53"
        ],
        [
         "calculated_host_listings_count",
         "3453.0",
         "6.101071532001159",
         "11.173104994271458",
         "1.0",
         "1.0",
         "2.0",
         "5.0",
         "55.0"
        ],
        [
         "availability_365",
         "3453.0",
         "142.11642050390964",
         "125.11562809526372",
         "0.0",
         "15.0",
         "116.0",
         "255.0",
         "365.0"
        ],
        [
         "number_of_reviews_ltm",
         "3453.0",
         "6.867361714451202",
         "12.400066951016438",
         "0.0",
         "0.0",
         "2.0",
         "8.0",
         "137.0"
        ]
       ],
       "shape": {
        "columns": 8,
        "rows": 12
       }
      },
      "text/html": [
       "<div>\n",
       "<style scoped>\n",
       "    .dataframe tbody tr th:only-of-type {\n",
       "        vertical-align: middle;\n",
       "    }\n",
       "\n",
       "    .dataframe tbody tr th {\n",
       "        vertical-align: top;\n",
       "    }\n",
       "\n",
       "    .dataframe thead th {\n",
       "        text-align: right;\n",
       "    }\n",
       "</style>\n",
       "<table border=\"1\" class=\"dataframe\">\n",
       "  <thead>\n",
       "    <tr style=\"text-align: right;\">\n",
       "      <th></th>\n",
       "      <th>count</th>\n",
       "      <th>mean</th>\n",
       "      <th>std</th>\n",
       "      <th>min</th>\n",
       "      <th>25%</th>\n",
       "      <th>50%</th>\n",
       "      <th>75%</th>\n",
       "      <th>max</th>\n",
       "    </tr>\n",
       "  </thead>\n",
       "  <tbody>\n",
       "    <tr>\n",
       "      <th>id</th>\n",
       "      <td>3453.0</td>\n",
       "      <td>2.950218e+07</td>\n",
       "      <td>1.523988e+07</td>\n",
       "      <td>42196.0000</td>\n",
       "      <td>1.748597e+07</td>\n",
       "      <td>3.078707e+07</td>\n",
       "      <td>4.220094e+07</td>\n",
       "      <td>5.385496e+07</td>\n",
       "    </tr>\n",
       "    <tr>\n",
       "      <th>host_id</th>\n",
       "      <td>3453.0</td>\n",
       "      <td>1.236424e+08</td>\n",
       "      <td>1.160756e+08</td>\n",
       "      <td>38468.0000</td>\n",
       "      <td>2.550007e+07</td>\n",
       "      <td>8.845438e+07</td>\n",
       "      <td>2.005926e+08</td>\n",
       "      <td>4.354316e+08</td>\n",
       "    </tr>\n",
       "    <tr>\n",
       "      <th>neighbourhood_group</th>\n",
       "      <td>0.0</td>\n",
       "      <td>NaN</td>\n",
       "      <td>NaN</td>\n",
       "      <td>NaN</td>\n",
       "      <td>NaN</td>\n",
       "      <td>NaN</td>\n",
       "      <td>NaN</td>\n",
       "      <td>NaN</td>\n",
       "    </tr>\n",
       "    <tr>\n",
       "      <th>latitude</th>\n",
       "      <td>3453.0</td>\n",
       "      <td>4.449756e+01</td>\n",
       "      <td>1.173569e-02</td>\n",
       "      <td>44.4236</td>\n",
       "      <td>4.449186e+01</td>\n",
       "      <td>4.449699e+01</td>\n",
       "      <td>4.450271e+01</td>\n",
       "      <td>4.455093e+01</td>\n",
       "    </tr>\n",
       "    <tr>\n",
       "      <th>longitude</th>\n",
       "      <td>3453.0</td>\n",
       "      <td>1.134509e+01</td>\n",
       "      <td>1.986071e-02</td>\n",
       "      <td>11.2320</td>\n",
       "      <td>1.133732e+01</td>\n",
       "      <td>1.134519e+01</td>\n",
       "      <td>1.135406e+01</td>\n",
       "      <td>1.142027e+01</td>\n",
       "    </tr>\n",
       "    <tr>\n",
       "      <th>price</th>\n",
       "      <td>3453.0</td>\n",
       "      <td>1.189447e+02</td>\n",
       "      <td>3.152240e+02</td>\n",
       "      <td>7.0000</td>\n",
       "      <td>5.300000e+01</td>\n",
       "      <td>7.400000e+01</td>\n",
       "      <td>1.040000e+02</td>\n",
       "      <td>9.999000e+03</td>\n",
       "    </tr>\n",
       "    <tr>\n",
       "      <th>minimum_nights</th>\n",
       "      <td>3453.0</td>\n",
       "      <td>2.854619e+00</td>\n",
       "      <td>1.397041e+01</td>\n",
       "      <td>1.0000</td>\n",
       "      <td>1.000000e+00</td>\n",
       "      <td>2.000000e+00</td>\n",
       "      <td>2.000000e+00</td>\n",
       "      <td>4.000000e+02</td>\n",
       "    </tr>\n",
       "    <tr>\n",
       "      <th>number_of_reviews</th>\n",
       "      <td>3453.0</td>\n",
       "      <td>4.147089e+01</td>\n",
       "      <td>7.108373e+01</td>\n",
       "      <td>0.0000</td>\n",
       "      <td>3.000000e+00</td>\n",
       "      <td>1.400000e+01</td>\n",
       "      <td>5.000000e+01</td>\n",
       "      <td>7.640000e+02</td>\n",
       "    </tr>\n",
       "    <tr>\n",
       "      <th>reviews_per_month</th>\n",
       "      <td>3044.0</td>\n",
       "      <td>1.237622e+00</td>\n",
       "      <td>1.416358e+00</td>\n",
       "      <td>0.0100</td>\n",
       "      <td>2.700000e-01</td>\n",
       "      <td>7.500000e-01</td>\n",
       "      <td>1.720000e+00</td>\n",
       "      <td>1.153000e+01</td>\n",
       "    </tr>\n",
       "    <tr>\n",
       "      <th>calculated_host_listings_count</th>\n",
       "      <td>3453.0</td>\n",
       "      <td>6.101072e+00</td>\n",
       "      <td>1.117310e+01</td>\n",
       "      <td>1.0000</td>\n",
       "      <td>1.000000e+00</td>\n",
       "      <td>2.000000e+00</td>\n",
       "      <td>5.000000e+00</td>\n",
       "      <td>5.500000e+01</td>\n",
       "    </tr>\n",
       "    <tr>\n",
       "      <th>availability_365</th>\n",
       "      <td>3453.0</td>\n",
       "      <td>1.421164e+02</td>\n",
       "      <td>1.251156e+02</td>\n",
       "      <td>0.0000</td>\n",
       "      <td>1.500000e+01</td>\n",
       "      <td>1.160000e+02</td>\n",
       "      <td>2.550000e+02</td>\n",
       "      <td>3.650000e+02</td>\n",
       "    </tr>\n",
       "    <tr>\n",
       "      <th>number_of_reviews_ltm</th>\n",
       "      <td>3453.0</td>\n",
       "      <td>6.867362e+00</td>\n",
       "      <td>1.240007e+01</td>\n",
       "      <td>0.0000</td>\n",
       "      <td>0.000000e+00</td>\n",
       "      <td>2.000000e+00</td>\n",
       "      <td>8.000000e+00</td>\n",
       "      <td>1.370000e+02</td>\n",
       "    </tr>\n",
       "  </tbody>\n",
       "</table>\n",
       "</div>"
      ],
      "text/plain": [
       "                                 count          mean           std  \\\n",
       "id                              3453.0  2.950218e+07  1.523988e+07   \n",
       "host_id                         3453.0  1.236424e+08  1.160756e+08   \n",
       "neighbourhood_group                0.0           NaN           NaN   \n",
       "latitude                        3453.0  4.449756e+01  1.173569e-02   \n",
       "longitude                       3453.0  1.134509e+01  1.986071e-02   \n",
       "price                           3453.0  1.189447e+02  3.152240e+02   \n",
       "minimum_nights                  3453.0  2.854619e+00  1.397041e+01   \n",
       "number_of_reviews               3453.0  4.147089e+01  7.108373e+01   \n",
       "reviews_per_month               3044.0  1.237622e+00  1.416358e+00   \n",
       "calculated_host_listings_count  3453.0  6.101072e+00  1.117310e+01   \n",
       "availability_365                3453.0  1.421164e+02  1.251156e+02   \n",
       "number_of_reviews_ltm           3453.0  6.867362e+00  1.240007e+01   \n",
       "\n",
       "                                       min           25%           50%  \\\n",
       "id                              42196.0000  1.748597e+07  3.078707e+07   \n",
       "host_id                         38468.0000  2.550007e+07  8.845438e+07   \n",
       "neighbourhood_group                    NaN           NaN           NaN   \n",
       "latitude                           44.4236  4.449186e+01  4.449699e+01   \n",
       "longitude                          11.2320  1.133732e+01  1.134519e+01   \n",
       "price                               7.0000  5.300000e+01  7.400000e+01   \n",
       "minimum_nights                      1.0000  1.000000e+00  2.000000e+00   \n",
       "number_of_reviews                   0.0000  3.000000e+00  1.400000e+01   \n",
       "reviews_per_month                   0.0100  2.700000e-01  7.500000e-01   \n",
       "calculated_host_listings_count      1.0000  1.000000e+00  2.000000e+00   \n",
       "availability_365                    0.0000  1.500000e+01  1.160000e+02   \n",
       "number_of_reviews_ltm               0.0000  0.000000e+00  2.000000e+00   \n",
       "\n",
       "                                         75%           max  \n",
       "id                              4.220094e+07  5.385496e+07  \n",
       "host_id                         2.005926e+08  4.354316e+08  \n",
       "neighbourhood_group                      NaN           NaN  \n",
       "latitude                        4.450271e+01  4.455093e+01  \n",
       "longitude                       1.135406e+01  1.142027e+01  \n",
       "price                           1.040000e+02  9.999000e+03  \n",
       "minimum_nights                  2.000000e+00  4.000000e+02  \n",
       "number_of_reviews               5.000000e+01  7.640000e+02  \n",
       "reviews_per_month               1.720000e+00  1.153000e+01  \n",
       "calculated_host_listings_count  5.000000e+00  5.500000e+01  \n",
       "availability_365                2.550000e+02  3.650000e+02  \n",
       "number_of_reviews_ltm           8.000000e+00  1.370000e+02  "
      ]
     },
     "execution_count": 41,
     "metadata": {},
     "output_type": "execute_result"
    }
   ],
   "source": [
    "df_listings.describe().T"
   ]
  },
  {
   "cell_type": "code",
   "execution_count": 42,
   "metadata": {},
   "outputs": [
    {
     "data": {
      "application/vnd.microsoft.datawrangler.viewer.v0+json": {
       "columns": [
        {
         "name": "index",
         "rawType": "object",
         "type": "string"
        },
        {
         "name": "count",
         "rawType": "float64",
         "type": "float"
        },
        {
         "name": "mean",
         "rawType": "float64",
         "type": "float"
        },
        {
         "name": "std",
         "rawType": "float64",
         "type": "float"
        },
        {
         "name": "min",
         "rawType": "float64",
         "type": "float"
        },
        {
         "name": "25%",
         "rawType": "float64",
         "type": "float"
        },
        {
         "name": "50%",
         "rawType": "float64",
         "type": "float"
        },
        {
         "name": "75%",
         "rawType": "float64",
         "type": "float"
        },
        {
         "name": "max",
         "rawType": "float64",
         "type": "float"
        }
       ],
       "conversionMethod": "pd.DataFrame",
       "ref": "782bac2e-73c6-483a-8e5b-456ab058d1d6",
       "rows": [
        [
         "id",
         "3453.0",
         "29502177.118158124",
         "15239877.346776655",
         "42196.0",
         "17485973.0",
         "30787074.0",
         "42200938.0",
         "53854962.0"
        ],
        [
         "host_id",
         "3453.0",
         "123642405.85461918",
         "116075571.23004766",
         "38468.0",
         "25500072.0",
         "88454378.0",
         "200592620.0",
         "435431590.0"
        ],
        [
         "neighbourhood_group",
         "0.0",
         null,
         null,
         null,
         null,
         null,
         null,
         null
        ],
        [
         "latitude",
         "3453.0",
         "44.49755984708949",
         "0.011735692248863748",
         "44.4236",
         "44.49186",
         "44.496986",
         "44.50271",
         "44.55093"
        ],
        [
         "longitude",
         "3453.0",
         "11.345094744859543",
         "0.019860708398913414",
         "11.232",
         "11.33732",
         "11.34519",
         "11.35406",
         "11.42027"
        ]
       ],
       "shape": {
        "columns": 8,
        "rows": 5
       }
      },
      "text/html": [
       "<div>\n",
       "<style scoped>\n",
       "    .dataframe tbody tr th:only-of-type {\n",
       "        vertical-align: middle;\n",
       "    }\n",
       "\n",
       "    .dataframe tbody tr th {\n",
       "        vertical-align: top;\n",
       "    }\n",
       "\n",
       "    .dataframe thead th {\n",
       "        text-align: right;\n",
       "    }\n",
       "</style>\n",
       "<table border=\"1\" class=\"dataframe\">\n",
       "  <thead>\n",
       "    <tr style=\"text-align: right;\">\n",
       "      <th></th>\n",
       "      <th>count</th>\n",
       "      <th>mean</th>\n",
       "      <th>std</th>\n",
       "      <th>min</th>\n",
       "      <th>25%</th>\n",
       "      <th>50%</th>\n",
       "      <th>75%</th>\n",
       "      <th>max</th>\n",
       "    </tr>\n",
       "  </thead>\n",
       "  <tbody>\n",
       "    <tr>\n",
       "      <th>id</th>\n",
       "      <td>3453.0</td>\n",
       "      <td>2.950218e+07</td>\n",
       "      <td>1.523988e+07</td>\n",
       "      <td>42196.0000</td>\n",
       "      <td>1.748597e+07</td>\n",
       "      <td>3.078707e+07</td>\n",
       "      <td>4.220094e+07</td>\n",
       "      <td>5.385496e+07</td>\n",
       "    </tr>\n",
       "    <tr>\n",
       "      <th>host_id</th>\n",
       "      <td>3453.0</td>\n",
       "      <td>1.236424e+08</td>\n",
       "      <td>1.160756e+08</td>\n",
       "      <td>38468.0000</td>\n",
       "      <td>2.550007e+07</td>\n",
       "      <td>8.845438e+07</td>\n",
       "      <td>2.005926e+08</td>\n",
       "      <td>4.354316e+08</td>\n",
       "    </tr>\n",
       "    <tr>\n",
       "      <th>neighbourhood_group</th>\n",
       "      <td>0.0</td>\n",
       "      <td>NaN</td>\n",
       "      <td>NaN</td>\n",
       "      <td>NaN</td>\n",
       "      <td>NaN</td>\n",
       "      <td>NaN</td>\n",
       "      <td>NaN</td>\n",
       "      <td>NaN</td>\n",
       "    </tr>\n",
       "    <tr>\n",
       "      <th>latitude</th>\n",
       "      <td>3453.0</td>\n",
       "      <td>4.449756e+01</td>\n",
       "      <td>1.173569e-02</td>\n",
       "      <td>44.4236</td>\n",
       "      <td>4.449186e+01</td>\n",
       "      <td>4.449699e+01</td>\n",
       "      <td>4.450271e+01</td>\n",
       "      <td>4.455093e+01</td>\n",
       "    </tr>\n",
       "    <tr>\n",
       "      <th>longitude</th>\n",
       "      <td>3453.0</td>\n",
       "      <td>1.134509e+01</td>\n",
       "      <td>1.986071e-02</td>\n",
       "      <td>11.2320</td>\n",
       "      <td>1.133732e+01</td>\n",
       "      <td>1.134519e+01</td>\n",
       "      <td>1.135406e+01</td>\n",
       "      <td>1.142027e+01</td>\n",
       "    </tr>\n",
       "  </tbody>\n",
       "</table>\n",
       "</div>"
      ],
      "text/plain": [
       "                      count          mean           std         min  \\\n",
       "id                   3453.0  2.950218e+07  1.523988e+07  42196.0000   \n",
       "host_id              3453.0  1.236424e+08  1.160756e+08  38468.0000   \n",
       "neighbourhood_group     0.0           NaN           NaN         NaN   \n",
       "latitude             3453.0  4.449756e+01  1.173569e-02     44.4236   \n",
       "longitude            3453.0  1.134509e+01  1.986071e-02     11.2320   \n",
       "\n",
       "                              25%           50%           75%           max  \n",
       "id                   1.748597e+07  3.078707e+07  4.220094e+07  5.385496e+07  \n",
       "host_id              2.550007e+07  8.845438e+07  2.005926e+08  4.354316e+08  \n",
       "neighbourhood_group           NaN           NaN           NaN           NaN  \n",
       "latitude             4.449186e+01  4.449699e+01  4.450271e+01  4.455093e+01  \n",
       "longitude            1.133732e+01  1.134519e+01  1.135406e+01  1.142027e+01  "
      ]
     },
     "execution_count": 42,
     "metadata": {},
     "output_type": "execute_result"
    }
   ],
   "source": [
    "df_listings.describe().T[:5]"
   ]
  },
  {
   "cell_type": "markdown",
   "metadata": {},
   "source": [
    "Você pode selecionar quais variáveis ​​exibir usando a opção `include` . `include='all'` inclui também variáveis ​​categóricas."
   ]
  },
  {
   "cell_type": "markdown",
   "metadata": {},
   "source": [
    "Vamos supor que você queira montar uma tabela com essas informações em markdown. Podemos usar o método `to_markdown()`."
   ]
  },
  {
   "cell_type": "code",
   "execution_count": null,
   "metadata": {},
   "outputs": [
    {
     "name": "stdout",
     "output_type": "stream",
     "text": [
      "|                     |   count |          mean |           std |        min |           25% |           50% |           75% |           max |\n",
      "|:--------------------|--------:|--------------:|--------------:|-----------:|--------------:|--------------:|--------------:|--------------:|\n",
      "| id                  |    3453 |   2.95022e+07 |   1.52399e+07 | 42196      |   1.7486e+07  |   3.07871e+07 |   4.22009e+07 |   5.3855e+07  |\n",
      "| host_id             |    3453 |   1.23642e+08 |   1.16076e+08 | 38468      |   2.55001e+07 |   8.84544e+07 |   2.00593e+08 |   4.35432e+08 |\n",
      "| neighbourhood_group |       0 | nan           | nan           |   nan      | nan           | nan           | nan           | nan           |\n",
      "| latitude            |    3453 |  44.4976      |   0.0117357   |    44.4236 |  44.4919      |  44.497       |  44.5027      |  44.5509      |\n",
      "| longitude           |    3453 |  11.3451      |   0.0198607   |    11.232  |  11.3373      |  11.3452      |  11.3541      |  11.4203      |\n"
     ]
    }
   ],
   "source": [
    "table_1 = df_listings.describe().T[:5].to_markdown()\n",
    "print(table_1)"
   ]
  },
  {
   "cell_type": "code",
   "execution_count": 46,
   "metadata": {},
   "outputs": [
    {
     "data": {
      "application/vnd.microsoft.datawrangler.viewer.v0+json": {
       "columns": [
        {
         "name": "index",
         "rawType": "object",
         "type": "string"
        },
        {
         "name": "count",
         "rawType": "object",
         "type": "string"
        },
        {
         "name": "unique",
         "rawType": "object",
         "type": "string"
        },
        {
         "name": "top",
         "rawType": "object",
         "type": "string"
        },
        {
         "name": "freq",
         "rawType": "object",
         "type": "string"
        },
        {
         "name": "mean",
         "rawType": "object",
         "type": "string"
        },
        {
         "name": "std",
         "rawType": "object",
         "type": "string"
        },
        {
         "name": "min",
         "rawType": "object",
         "type": "string"
        },
        {
         "name": "25%",
         "rawType": "object",
         "type": "string"
        },
        {
         "name": "50%",
         "rawType": "object",
         "type": "string"
        },
        {
         "name": "75%",
         "rawType": "object",
         "type": "string"
        },
        {
         "name": "max",
         "rawType": "object",
         "type": "string"
        }
       ],
       "conversionMethod": "pd.DataFrame",
       "ref": "c4dc517d-eab3-4692-80df-76658e28a707",
       "rows": [
        [
         "id",
         "3453.0",
         null,
         null,
         null,
         "29502177.118158124",
         "15239877.346776655",
         "42196.0",
         "17485973.0",
         "30787074.0",
         "42200938.0",
         "53854962.0"
        ],
        [
         "name",
         "3453",
         "3410",
         "Luxury Industrial Design LOFT, HEPA UV airpurifier",
         "5",
         null,
         null,
         null,
         null,
         null,
         null,
         null
        ],
        [
         "host_id",
         "3453.0",
         null,
         null,
         null,
         "123642405.85461918",
         "116075571.23004766",
         "38468.0",
         "25500072.0",
         "88454378.0",
         "200592620.0",
         "435431590.0"
        ],
        [
         "host_name",
         "3444",
         "747",
         "Andrea",
         "101",
         null,
         null,
         null,
         null,
         null,
         null,
         null
        ],
        [
         "neighbourhood_group",
         "0.0",
         null,
         null,
         null,
         null,
         null,
         null,
         null,
         null,
         null,
         null
        ]
       ],
       "shape": {
        "columns": 11,
        "rows": 5
       }
      },
      "text/html": [
       "<div>\n",
       "<style scoped>\n",
       "    .dataframe tbody tr th:only-of-type {\n",
       "        vertical-align: middle;\n",
       "    }\n",
       "\n",
       "    .dataframe tbody tr th {\n",
       "        vertical-align: top;\n",
       "    }\n",
       "\n",
       "    .dataframe thead th {\n",
       "        text-align: right;\n",
       "    }\n",
       "</style>\n",
       "<table border=\"1\" class=\"dataframe\">\n",
       "  <thead>\n",
       "    <tr style=\"text-align: right;\">\n",
       "      <th></th>\n",
       "      <th>count</th>\n",
       "      <th>unique</th>\n",
       "      <th>top</th>\n",
       "      <th>freq</th>\n",
       "      <th>mean</th>\n",
       "      <th>std</th>\n",
       "      <th>min</th>\n",
       "      <th>25%</th>\n",
       "      <th>50%</th>\n",
       "      <th>75%</th>\n",
       "      <th>max</th>\n",
       "    </tr>\n",
       "  </thead>\n",
       "  <tbody>\n",
       "    <tr>\n",
       "      <th>id</th>\n",
       "      <td>3453.0</td>\n",
       "      <td>NaN</td>\n",
       "      <td>NaN</td>\n",
       "      <td>NaN</td>\n",
       "      <td>29502177.118158</td>\n",
       "      <td>15239877.346777</td>\n",
       "      <td>42196.0</td>\n",
       "      <td>17485973.0</td>\n",
       "      <td>30787074.0</td>\n",
       "      <td>42200938.0</td>\n",
       "      <td>53854962.0</td>\n",
       "    </tr>\n",
       "    <tr>\n",
       "      <th>name</th>\n",
       "      <td>3453</td>\n",
       "      <td>3410</td>\n",
       "      <td>Luxury Industrial Design LOFT, HEPA UV airpuri...</td>\n",
       "      <td>5</td>\n",
       "      <td>NaN</td>\n",
       "      <td>NaN</td>\n",
       "      <td>NaN</td>\n",
       "      <td>NaN</td>\n",
       "      <td>NaN</td>\n",
       "      <td>NaN</td>\n",
       "      <td>NaN</td>\n",
       "    </tr>\n",
       "    <tr>\n",
       "      <th>host_id</th>\n",
       "      <td>3453.0</td>\n",
       "      <td>NaN</td>\n",
       "      <td>NaN</td>\n",
       "      <td>NaN</td>\n",
       "      <td>123642405.854619</td>\n",
       "      <td>116075571.230048</td>\n",
       "      <td>38468.0</td>\n",
       "      <td>25500072.0</td>\n",
       "      <td>88454378.0</td>\n",
       "      <td>200592620.0</td>\n",
       "      <td>435431590.0</td>\n",
       "    </tr>\n",
       "    <tr>\n",
       "      <th>host_name</th>\n",
       "      <td>3444</td>\n",
       "      <td>747</td>\n",
       "      <td>Andrea</td>\n",
       "      <td>101</td>\n",
       "      <td>NaN</td>\n",
       "      <td>NaN</td>\n",
       "      <td>NaN</td>\n",
       "      <td>NaN</td>\n",
       "      <td>NaN</td>\n",
       "      <td>NaN</td>\n",
       "      <td>NaN</td>\n",
       "    </tr>\n",
       "    <tr>\n",
       "      <th>neighbourhood_group</th>\n",
       "      <td>0.0</td>\n",
       "      <td>NaN</td>\n",
       "      <td>NaN</td>\n",
       "      <td>NaN</td>\n",
       "      <td>NaN</td>\n",
       "      <td>NaN</td>\n",
       "      <td>NaN</td>\n",
       "      <td>NaN</td>\n",
       "      <td>NaN</td>\n",
       "      <td>NaN</td>\n",
       "      <td>NaN</td>\n",
       "    </tr>\n",
       "  </tbody>\n",
       "</table>\n",
       "</div>"
      ],
      "text/plain": [
       "                      count unique  \\\n",
       "id                   3453.0    NaN   \n",
       "name                   3453   3410   \n",
       "host_id              3453.0    NaN   \n",
       "host_name              3444    747   \n",
       "neighbourhood_group     0.0    NaN   \n",
       "\n",
       "                                                                   top freq  \\\n",
       "id                                                                 NaN  NaN   \n",
       "name                 Luxury Industrial Design LOFT, HEPA UV airpuri...    5   \n",
       "host_id                                                            NaN  NaN   \n",
       "host_name                                                       Andrea  101   \n",
       "neighbourhood_group                                                NaN  NaN   \n",
       "\n",
       "                                 mean               std      min         25%  \\\n",
       "id                    29502177.118158   15239877.346777  42196.0  17485973.0   \n",
       "name                              NaN               NaN      NaN         NaN   \n",
       "host_id              123642405.854619  116075571.230048  38468.0  25500072.0   \n",
       "host_name                         NaN               NaN      NaN         NaN   \n",
       "neighbourhood_group               NaN               NaN      NaN         NaN   \n",
       "\n",
       "                            50%          75%          max  \n",
       "id                   30787074.0   42200938.0   53854962.0  \n",
       "name                        NaN          NaN          NaN  \n",
       "host_id              88454378.0  200592620.0  435431590.0  \n",
       "host_name                   NaN          NaN          NaN  \n",
       "neighbourhood_group         NaN          NaN          NaN  "
      ]
     },
     "execution_count": 46,
     "metadata": {},
     "output_type": "execute_result"
    }
   ],
   "source": [
    "df_listings.describe(include='all').T[:5]"
   ]
  },
  {
   "cell_type": "markdown",
   "metadata": {},
   "source": [
    "Podemos obter a lista de colunas usando o atributo `.columns`."
   ]
  },
  {
   "cell_type": "code",
   "execution_count": 47,
   "metadata": {},
   "outputs": [
    {
     "data": {
      "text/plain": [
       "Index(['id', 'name', 'host_id', 'host_name', 'neighbourhood_group',\n",
       "       'neighbourhood', 'latitude', 'longitude', 'room_type', 'price',\n",
       "       'minimum_nights', 'number_of_reviews', 'last_review',\n",
       "       'reviews_per_month', 'calculated_host_listings_count',\n",
       "       'availability_365', 'number_of_reviews_ltm', 'license'],\n",
       "      dtype='object')"
      ]
     },
     "execution_count": 47,
     "metadata": {},
     "output_type": "execute_result"
    }
   ],
   "source": [
    "df_listings.columns"
   ]
  },
  {
   "cell_type": "markdown",
   "metadata": {},
   "source": [
    "Podemos obter o índice usando o atributo `.index`,"
   ]
  },
  {
   "cell_type": "code",
   "execution_count": 48,
   "metadata": {},
   "outputs": [
    {
     "data": {
      "text/plain": [
       "RangeIndex(start=0, stop=3453, step=1)"
      ]
     },
     "execution_count": 48,
     "metadata": {},
     "output_type": "execute_result"
    }
   ],
   "source": [
    "df_listings.index"
   ]
  },
  {
   "cell_type": "markdown",
   "metadata": {},
   "source": [
    "Isso significa que o índice do DataFrame **df_listings** é um RangeIndex, que é o índice padrão atribuído pelo Pandas quando um DataFrame é criado sem um índice específico.\n",
    "\n",
    "* start=0: O índice começa no 0.\n",
    "* stop=3453: O índice vai até 3452 (pois o stop é exclusivo).\n",
    "* step=1: O índice aumenta de 1 em 1.\n",
    "\n",
    "Isso indica que o df_listings tem 3453 linhas, numeradas de 0 a 3452."
   ]
  },
  {
   "cell_type": "markdown",
   "metadata": {},
   "source": [
    "### Seleção de Dados\n",
    "\n",
    "Podemos acessar colunas individuais como se o DataFrame fosse um dicionário."
   ]
  },
  {
   "cell_type": "code",
   "execution_count": 49,
   "metadata": {},
   "outputs": [
    {
     "data": {
      "text/plain": [
       "0        68\n",
       "1        29\n",
       "2        50\n",
       "3       126\n",
       "4        50\n",
       "       ... \n",
       "3448     32\n",
       "3449     45\n",
       "3450     50\n",
       "3451    134\n",
       "3452    115\n",
       "Name: price, Length: 3453, dtype: int64"
      ]
     },
     "execution_count": 49,
     "metadata": {},
     "output_type": "execute_result"
    }
   ],
   "source": [
    "df_listings['price']"
   ]
  },
  {
   "cell_type": "markdown",
   "metadata": {},
   "source": [
    "Podemos selecionar linhas e colunas por índice, usando o atributo `.iloc` . (usado para indexação baseada na posição)"
   ]
  },
  {
   "cell_type": "code",
   "execution_count": 50,
   "metadata": {},
   "outputs": [
    {
     "data": {
      "application/vnd.microsoft.datawrangler.viewer.v0+json": {
       "columns": [
        {
         "name": "index",
         "rawType": "int64",
         "type": "integer"
        },
        {
         "name": "neighbourhood",
         "rawType": "object",
         "type": "string"
        },
        {
         "name": "latitude",
         "rawType": "float64",
         "type": "float"
        },
        {
         "name": "longitude",
         "rawType": "float64",
         "type": "float"
        },
        {
         "name": "room_type",
         "rawType": "object",
         "type": "string"
        }
       ],
       "conversionMethod": "pd.DataFrame",
       "ref": "3e9781e0-482e-4acf-a124-1865a9b51ece",
       "rows": [
        [
         "0",
         "Santo Stefano",
         "44.48507",
         "11.34786",
         "Entire home/apt"
        ],
        [
         "1",
         "Porto - Saragozza",
         "44.49168",
         "11.33514",
         "Private room"
        ],
        [
         "2",
         "Santo Stefano",
         "44.48817",
         "11.34124",
         "Private room"
        ],
        [
         "3",
         "Santo Stefano",
         "44.47834",
         "11.35672",
         "Entire home/apt"
        ],
        [
         "4",
         "Porto - Saragozza",
         "44.49306",
         "11.33786",
         "Private room"
        ],
        [
         "5",
         "Navile",
         "44.51628",
         "11.33074",
         "Private room"
        ],
        [
         "6",
         "Santo Stefano",
         "44.48787",
         "11.35392",
         "Entire home/apt"
        ]
       ],
       "shape": {
        "columns": 4,
        "rows": 7
       }
      },
      "text/html": [
       "<div>\n",
       "<style scoped>\n",
       "    .dataframe tbody tr th:only-of-type {\n",
       "        vertical-align: middle;\n",
       "    }\n",
       "\n",
       "    .dataframe tbody tr th {\n",
       "        vertical-align: top;\n",
       "    }\n",
       "\n",
       "    .dataframe thead th {\n",
       "        text-align: right;\n",
       "    }\n",
       "</style>\n",
       "<table border=\"1\" class=\"dataframe\">\n",
       "  <thead>\n",
       "    <tr style=\"text-align: right;\">\n",
       "      <th></th>\n",
       "      <th>neighbourhood</th>\n",
       "      <th>latitude</th>\n",
       "      <th>longitude</th>\n",
       "      <th>room_type</th>\n",
       "    </tr>\n",
       "  </thead>\n",
       "  <tbody>\n",
       "    <tr>\n",
       "      <th>0</th>\n",
       "      <td>Santo Stefano</td>\n",
       "      <td>44.48507</td>\n",
       "      <td>11.34786</td>\n",
       "      <td>Entire home/apt</td>\n",
       "    </tr>\n",
       "    <tr>\n",
       "      <th>1</th>\n",
       "      <td>Porto - Saragozza</td>\n",
       "      <td>44.49168</td>\n",
       "      <td>11.33514</td>\n",
       "      <td>Private room</td>\n",
       "    </tr>\n",
       "    <tr>\n",
       "      <th>2</th>\n",
       "      <td>Santo Stefano</td>\n",
       "      <td>44.48817</td>\n",
       "      <td>11.34124</td>\n",
       "      <td>Private room</td>\n",
       "    </tr>\n",
       "    <tr>\n",
       "      <th>3</th>\n",
       "      <td>Santo Stefano</td>\n",
       "      <td>44.47834</td>\n",
       "      <td>11.35672</td>\n",
       "      <td>Entire home/apt</td>\n",
       "    </tr>\n",
       "    <tr>\n",
       "      <th>4</th>\n",
       "      <td>Porto - Saragozza</td>\n",
       "      <td>44.49306</td>\n",
       "      <td>11.33786</td>\n",
       "      <td>Private room</td>\n",
       "    </tr>\n",
       "    <tr>\n",
       "      <th>5</th>\n",
       "      <td>Navile</td>\n",
       "      <td>44.51628</td>\n",
       "      <td>11.33074</td>\n",
       "      <td>Private room</td>\n",
       "    </tr>\n",
       "    <tr>\n",
       "      <th>6</th>\n",
       "      <td>Santo Stefano</td>\n",
       "      <td>44.48787</td>\n",
       "      <td>11.35392</td>\n",
       "      <td>Entire home/apt</td>\n",
       "    </tr>\n",
       "  </tbody>\n",
       "</table>\n",
       "</div>"
      ],
      "text/plain": [
       "       neighbourhood  latitude  longitude        room_type\n",
       "0      Santo Stefano  44.48507   11.34786  Entire home/apt\n",
       "1  Porto - Saragozza  44.49168   11.33514     Private room\n",
       "2      Santo Stefano  44.48817   11.34124     Private room\n",
       "3      Santo Stefano  44.47834   11.35672  Entire home/apt\n",
       "4  Porto - Saragozza  44.49306   11.33786     Private room\n",
       "5             Navile  44.51628   11.33074     Private room\n",
       "6      Santo Stefano  44.48787   11.35392  Entire home/apt"
      ]
     },
     "execution_count": 50,
     "metadata": {},
     "output_type": "execute_result"
    }
   ],
   "source": [
    "df_listings.iloc[:7, 5:9]"
   ]
  },
  {
   "cell_type": "markdown",
   "metadata": {},
   "source": [
    "***iloc[:7, 5:9]***\n",
    "\n",
    "* : → Refere-se a todas as linhas no intervalo especificado.\n",
    "* :7 → Seleciona as primeiras 7 linhas (0 a 6).\n",
    "* 5:9 → Seleciona as colunas da posição 5 até 8 (o índice final 9 não é incluído)."
   ]
  },
  {
   "cell_type": "code",
   "execution_count": 51,
   "metadata": {},
   "outputs": [
    {
     "data": {
      "application/vnd.microsoft.datawrangler.viewer.v0+json": {
       "columns": [
        {
         "name": "index",
         "rawType": "int64",
         "type": "integer"
        },
        {
         "name": "id",
         "rawType": "int64",
         "type": "integer"
        },
        {
         "name": "name",
         "rawType": "object",
         "type": "string"
        },
        {
         "name": "host_id",
         "rawType": "int64",
         "type": "integer"
        },
        {
         "name": "host_name",
         "rawType": "object",
         "type": "string"
        },
        {
         "name": "neighbourhood_group",
         "rawType": "float64",
         "type": "float"
        },
        {
         "name": "neighbourhood",
         "rawType": "object",
         "type": "string"
        },
        {
         "name": "latitude",
         "rawType": "float64",
         "type": "float"
        },
        {
         "name": "longitude",
         "rawType": "float64",
         "type": "float"
        },
        {
         "name": "room_type",
         "rawType": "object",
         "type": "string"
        },
        {
         "name": "price",
         "rawType": "int64",
         "type": "integer"
        },
        {
         "name": "minimum_nights",
         "rawType": "int64",
         "type": "integer"
        },
        {
         "name": "number_of_reviews",
         "rawType": "int64",
         "type": "integer"
        },
        {
         "name": "last_review",
         "rawType": "object",
         "type": "string"
        },
        {
         "name": "reviews_per_month",
         "rawType": "float64",
         "type": "float"
        },
        {
         "name": "calculated_host_listings_count",
         "rawType": "int64",
         "type": "integer"
        },
        {
         "name": "availability_365",
         "rawType": "int64",
         "type": "integer"
        },
        {
         "name": "number_of_reviews_ltm",
         "rawType": "int64",
         "type": "integer"
        },
        {
         "name": "license",
         "rawType": "object",
         "type": "string"
        }
       ],
       "conversionMethod": "pd.DataFrame",
       "ref": "2f54b664-0a29-418f-8fbb-167fc287be73",
       "rows": [
        [
         "0",
         "42196",
         "50 sm Studio in the historic centre",
         "184487",
         "Carlo",
         null,
         "Santo Stefano",
         "44.48507",
         "11.34786",
         "Entire home/apt",
         "68",
         "3",
         "180",
         "2021-11-12",
         "1.32",
         "1",
         "161",
         "6",
         null
        ],
        [
         "1",
         "46352",
         "A room in Pasolini's house",
         "467810",
         "Eleonora",
         null,
         "Porto - Saragozza",
         "44.49168",
         "11.33514",
         "Private room",
         "29",
         "1",
         "300",
         "2021-11-30",
         "2.2",
         "2",
         "248",
         "37",
         null
        ],
        [
         "2",
         "59697",
         "COZY LARGE BEDROOM in the city center",
         "286688",
         "Paolo",
         null,
         "Santo Stefano",
         "44.48817",
         "11.34124",
         "Private room",
         "50",
         "1",
         "240",
         "2020-10-04",
         "2.18",
         "2",
         "327",
         "0",
         null
        ],
        [
         "3",
         "85368",
         "Garden House Bologna",
         "467675",
         "Anna Maria",
         null,
         "Santo Stefano",
         "44.47834",
         "11.35672",
         "Entire home/apt",
         "126",
         "2",
         "40",
         "2019-11-03",
         "0.34",
         "1",
         "332",
         "0",
         null
        ],
        [
         "4",
         "145779",
         "SINGLE ROOM",
         "705535",
         "Valerio",
         null,
         "Porto - Saragozza",
         "44.49306",
         "11.33786",
         "Private room",
         "50",
         "10",
         "69",
         "2021-12-05",
         "0.55",
         "9",
         "365",
         "5",
         null
        ]
       ],
       "shape": {
        "columns": 18,
        "rows": 5
       }
      },
      "text/html": [
       "<div>\n",
       "<style scoped>\n",
       "    .dataframe tbody tr th:only-of-type {\n",
       "        vertical-align: middle;\n",
       "    }\n",
       "\n",
       "    .dataframe tbody tr th {\n",
       "        vertical-align: top;\n",
       "    }\n",
       "\n",
       "    .dataframe thead th {\n",
       "        text-align: right;\n",
       "    }\n",
       "</style>\n",
       "<table border=\"1\" class=\"dataframe\">\n",
       "  <thead>\n",
       "    <tr style=\"text-align: right;\">\n",
       "      <th></th>\n",
       "      <th>id</th>\n",
       "      <th>name</th>\n",
       "      <th>host_id</th>\n",
       "      <th>host_name</th>\n",
       "      <th>neighbourhood_group</th>\n",
       "      <th>neighbourhood</th>\n",
       "      <th>latitude</th>\n",
       "      <th>longitude</th>\n",
       "      <th>room_type</th>\n",
       "      <th>price</th>\n",
       "      <th>minimum_nights</th>\n",
       "      <th>number_of_reviews</th>\n",
       "      <th>last_review</th>\n",
       "      <th>reviews_per_month</th>\n",
       "      <th>calculated_host_listings_count</th>\n",
       "      <th>availability_365</th>\n",
       "      <th>number_of_reviews_ltm</th>\n",
       "      <th>license</th>\n",
       "    </tr>\n",
       "  </thead>\n",
       "  <tbody>\n",
       "    <tr>\n",
       "      <th>0</th>\n",
       "      <td>42196</td>\n",
       "      <td>50 sm Studio in the historic centre</td>\n",
       "      <td>184487</td>\n",
       "      <td>Carlo</td>\n",
       "      <td>NaN</td>\n",
       "      <td>Santo Stefano</td>\n",
       "      <td>44.48507</td>\n",
       "      <td>11.34786</td>\n",
       "      <td>Entire home/apt</td>\n",
       "      <td>68</td>\n",
       "      <td>3</td>\n",
       "      <td>180</td>\n",
       "      <td>2021-11-12</td>\n",
       "      <td>1.32</td>\n",
       "      <td>1</td>\n",
       "      <td>161</td>\n",
       "      <td>6</td>\n",
       "      <td>NaN</td>\n",
       "    </tr>\n",
       "    <tr>\n",
       "      <th>1</th>\n",
       "      <td>46352</td>\n",
       "      <td>A room in Pasolini's house</td>\n",
       "      <td>467810</td>\n",
       "      <td>Eleonora</td>\n",
       "      <td>NaN</td>\n",
       "      <td>Porto - Saragozza</td>\n",
       "      <td>44.49168</td>\n",
       "      <td>11.33514</td>\n",
       "      <td>Private room</td>\n",
       "      <td>29</td>\n",
       "      <td>1</td>\n",
       "      <td>300</td>\n",
       "      <td>2021-11-30</td>\n",
       "      <td>2.20</td>\n",
       "      <td>2</td>\n",
       "      <td>248</td>\n",
       "      <td>37</td>\n",
       "      <td>NaN</td>\n",
       "    </tr>\n",
       "    <tr>\n",
       "      <th>2</th>\n",
       "      <td>59697</td>\n",
       "      <td>COZY LARGE BEDROOM in the city center</td>\n",
       "      <td>286688</td>\n",
       "      <td>Paolo</td>\n",
       "      <td>NaN</td>\n",
       "      <td>Santo Stefano</td>\n",
       "      <td>44.48817</td>\n",
       "      <td>11.34124</td>\n",
       "      <td>Private room</td>\n",
       "      <td>50</td>\n",
       "      <td>1</td>\n",
       "      <td>240</td>\n",
       "      <td>2020-10-04</td>\n",
       "      <td>2.18</td>\n",
       "      <td>2</td>\n",
       "      <td>327</td>\n",
       "      <td>0</td>\n",
       "      <td>NaN</td>\n",
       "    </tr>\n",
       "    <tr>\n",
       "      <th>3</th>\n",
       "      <td>85368</td>\n",
       "      <td>Garden House Bologna</td>\n",
       "      <td>467675</td>\n",
       "      <td>Anna Maria</td>\n",
       "      <td>NaN</td>\n",
       "      <td>Santo Stefano</td>\n",
       "      <td>44.47834</td>\n",
       "      <td>11.35672</td>\n",
       "      <td>Entire home/apt</td>\n",
       "      <td>126</td>\n",
       "      <td>2</td>\n",
       "      <td>40</td>\n",
       "      <td>2019-11-03</td>\n",
       "      <td>0.34</td>\n",
       "      <td>1</td>\n",
       "      <td>332</td>\n",
       "      <td>0</td>\n",
       "      <td>NaN</td>\n",
       "    </tr>\n",
       "    <tr>\n",
       "      <th>4</th>\n",
       "      <td>145779</td>\n",
       "      <td>SINGLE ROOM</td>\n",
       "      <td>705535</td>\n",
       "      <td>Valerio</td>\n",
       "      <td>NaN</td>\n",
       "      <td>Porto - Saragozza</td>\n",
       "      <td>44.49306</td>\n",
       "      <td>11.33786</td>\n",
       "      <td>Private room</td>\n",
       "      <td>50</td>\n",
       "      <td>10</td>\n",
       "      <td>69</td>\n",
       "      <td>2021-12-05</td>\n",
       "      <td>0.55</td>\n",
       "      <td>9</td>\n",
       "      <td>365</td>\n",
       "      <td>5</td>\n",
       "      <td>NaN</td>\n",
       "    </tr>\n",
       "  </tbody>\n",
       "</table>\n",
       "</div>"
      ],
      "text/plain": [
       "       id                                   name  host_id   host_name  \\\n",
       "0   42196    50 sm Studio in the historic centre   184487       Carlo   \n",
       "1   46352             A room in Pasolini's house   467810    Eleonora   \n",
       "2   59697  COZY LARGE BEDROOM in the city center   286688       Paolo   \n",
       "3   85368                   Garden House Bologna   467675  Anna Maria   \n",
       "4  145779                            SINGLE ROOM   705535     Valerio   \n",
       "\n",
       "   neighbourhood_group      neighbourhood  latitude  longitude  \\\n",
       "0                  NaN      Santo Stefano  44.48507   11.34786   \n",
       "1                  NaN  Porto - Saragozza  44.49168   11.33514   \n",
       "2                  NaN      Santo Stefano  44.48817   11.34124   \n",
       "3                  NaN      Santo Stefano  44.47834   11.35672   \n",
       "4                  NaN  Porto - Saragozza  44.49306   11.33786   \n",
       "\n",
       "         room_type  price  minimum_nights  number_of_reviews last_review  \\\n",
       "0  Entire home/apt     68               3                180  2021-11-12   \n",
       "1     Private room     29               1                300  2021-11-30   \n",
       "2     Private room     50               1                240  2020-10-04   \n",
       "3  Entire home/apt    126               2                 40  2019-11-03   \n",
       "4     Private room     50              10                 69  2021-12-05   \n",
       "\n",
       "   reviews_per_month  calculated_host_listings_count  availability_365  \\\n",
       "0               1.32                               1               161   \n",
       "1               2.20                               2               248   \n",
       "2               2.18                               2               327   \n",
       "3               0.34                               1               332   \n",
       "4               0.55                               9               365   \n",
       "\n",
       "   number_of_reviews_ltm license  \n",
       "0                      6     NaN  \n",
       "1                     37     NaN  \n",
       "2                      0     NaN  \n",
       "3                      0     NaN  \n",
       "4                      5     NaN  "
      ]
     },
     "execution_count": 51,
     "metadata": {},
     "output_type": "execute_result"
    }
   ],
   "source": [
    "# repare\n",
    "df_listings.head()"
   ]
  },
  {
   "cell_type": "markdown",
   "metadata": {},
   "source": [
    "Se quisermos condicionar apenas linhas ou colunas, precisamos usar a dimensão irrestrita `:`, caso contrário, obteremos um erro."
   ]
  },
  {
   "cell_type": "code",
   "execution_count": 52,
   "metadata": {},
   "outputs": [
    {
     "data": {
      "application/vnd.microsoft.datawrangler.viewer.v0+json": {
       "columns": [
        {
         "name": "index",
         "rawType": "int64",
         "type": "integer"
        },
        {
         "name": "neighbourhood",
         "rawType": "object",
         "type": "string"
        },
        {
         "name": "latitude",
         "rawType": "float64",
         "type": "float"
        },
        {
         "name": "longitude",
         "rawType": "float64",
         "type": "float"
        },
        {
         "name": "room_type",
         "rawType": "object",
         "type": "string"
        }
       ],
       "conversionMethod": "pd.DataFrame",
       "ref": "977cb8fe-c4a0-4845-b72a-b49c0f448d6a",
       "rows": [
        [
         "0",
         "Santo Stefano",
         "44.48507",
         "11.34786",
         "Entire home/apt"
        ],
        [
         "1",
         "Porto - Saragozza",
         "44.49168",
         "11.33514",
         "Private room"
        ],
        [
         "2",
         "Santo Stefano",
         "44.48817",
         "11.34124",
         "Private room"
        ],
        [
         "3",
         "Santo Stefano",
         "44.47834",
         "11.35672",
         "Entire home/apt"
        ],
        [
         "4",
         "Porto - Saragozza",
         "44.49306",
         "11.33786",
         "Private room"
        ]
       ],
       "shape": {
        "columns": 4,
        "rows": 5
       }
      },
      "text/html": [
       "<div>\n",
       "<style scoped>\n",
       "    .dataframe tbody tr th:only-of-type {\n",
       "        vertical-align: middle;\n",
       "    }\n",
       "\n",
       "    .dataframe tbody tr th {\n",
       "        vertical-align: top;\n",
       "    }\n",
       "\n",
       "    .dataframe thead th {\n",
       "        text-align: right;\n",
       "    }\n",
       "</style>\n",
       "<table border=\"1\" class=\"dataframe\">\n",
       "  <thead>\n",
       "    <tr style=\"text-align: right;\">\n",
       "      <th></th>\n",
       "      <th>neighbourhood</th>\n",
       "      <th>latitude</th>\n",
       "      <th>longitude</th>\n",
       "      <th>room_type</th>\n",
       "    </tr>\n",
       "  </thead>\n",
       "  <tbody>\n",
       "    <tr>\n",
       "      <th>0</th>\n",
       "      <td>Santo Stefano</td>\n",
       "      <td>44.48507</td>\n",
       "      <td>11.34786</td>\n",
       "      <td>Entire home/apt</td>\n",
       "    </tr>\n",
       "    <tr>\n",
       "      <th>1</th>\n",
       "      <td>Porto - Saragozza</td>\n",
       "      <td>44.49168</td>\n",
       "      <td>11.33514</td>\n",
       "      <td>Private room</td>\n",
       "    </tr>\n",
       "    <tr>\n",
       "      <th>2</th>\n",
       "      <td>Santo Stefano</td>\n",
       "      <td>44.48817</td>\n",
       "      <td>11.34124</td>\n",
       "      <td>Private room</td>\n",
       "    </tr>\n",
       "    <tr>\n",
       "      <th>3</th>\n",
       "      <td>Santo Stefano</td>\n",
       "      <td>44.47834</td>\n",
       "      <td>11.35672</td>\n",
       "      <td>Entire home/apt</td>\n",
       "    </tr>\n",
       "    <tr>\n",
       "      <th>4</th>\n",
       "      <td>Porto - Saragozza</td>\n",
       "      <td>44.49306</td>\n",
       "      <td>11.33786</td>\n",
       "      <td>Private room</td>\n",
       "    </tr>\n",
       "  </tbody>\n",
       "</table>\n",
       "</div>"
      ],
      "text/plain": [
       "       neighbourhood  latitude  longitude        room_type\n",
       "0      Santo Stefano  44.48507   11.34786  Entire home/apt\n",
       "1  Porto - Saragozza  44.49168   11.33514     Private room\n",
       "2      Santo Stefano  44.48817   11.34124     Private room\n",
       "3      Santo Stefano  44.47834   11.35672  Entire home/apt\n",
       "4  Porto - Saragozza  44.49306   11.33786     Private room"
      ]
     },
     "execution_count": 52,
     "metadata": {},
     "output_type": "execute_result"
    }
   ],
   "source": [
    "df_listings.iloc[:, 5:9].head()"
   ]
  },
  {
   "cell_type": "markdown",
   "metadata": {},
   "source": [
    "Em vez disso, o atributo `.loc` nos permite usar nomes de linhas e colunas."
   ]
  },
  {
   "cell_type": "code",
   "execution_count": 53,
   "metadata": {},
   "outputs": [
    {
     "data": {
      "application/vnd.microsoft.datawrangler.viewer.v0+json": {
       "columns": [
        {
         "name": "index",
         "rawType": "int64",
         "type": "integer"
        },
        {
         "name": "neighbourhood",
         "rawType": "object",
         "type": "string"
        },
        {
         "name": "latitude",
         "rawType": "float64",
         "type": "float"
        },
        {
         "name": "longitude",
         "rawType": "float64",
         "type": "float"
        }
       ],
       "conversionMethod": "pd.DataFrame",
       "ref": "519d058d-2572-4822-9f54-9aa8712a0d2f",
       "rows": [
        [
         "0",
         "Santo Stefano",
         "44.48507",
         "11.34786"
        ],
        [
         "1",
         "Porto - Saragozza",
         "44.49168",
         "11.33514"
        ],
        [
         "2",
         "Santo Stefano",
         "44.48817",
         "11.34124"
        ],
        [
         "3",
         "Santo Stefano",
         "44.47834",
         "11.35672"
        ],
        [
         "4",
         "Porto - Saragozza",
         "44.49306",
         "11.33786"
        ]
       ],
       "shape": {
        "columns": 3,
        "rows": 5
       }
      },
      "text/html": [
       "<div>\n",
       "<style scoped>\n",
       "    .dataframe tbody tr th:only-of-type {\n",
       "        vertical-align: middle;\n",
       "    }\n",
       "\n",
       "    .dataframe tbody tr th {\n",
       "        vertical-align: top;\n",
       "    }\n",
       "\n",
       "    .dataframe thead th {\n",
       "        text-align: right;\n",
       "    }\n",
       "</style>\n",
       "<table border=\"1\" class=\"dataframe\">\n",
       "  <thead>\n",
       "    <tr style=\"text-align: right;\">\n",
       "      <th></th>\n",
       "      <th>neighbourhood</th>\n",
       "      <th>latitude</th>\n",
       "      <th>longitude</th>\n",
       "    </tr>\n",
       "  </thead>\n",
       "  <tbody>\n",
       "    <tr>\n",
       "      <th>0</th>\n",
       "      <td>Santo Stefano</td>\n",
       "      <td>44.48507</td>\n",
       "      <td>11.34786</td>\n",
       "    </tr>\n",
       "    <tr>\n",
       "      <th>1</th>\n",
       "      <td>Porto - Saragozza</td>\n",
       "      <td>44.49168</td>\n",
       "      <td>11.33514</td>\n",
       "    </tr>\n",
       "    <tr>\n",
       "      <th>2</th>\n",
       "      <td>Santo Stefano</td>\n",
       "      <td>44.48817</td>\n",
       "      <td>11.34124</td>\n",
       "    </tr>\n",
       "    <tr>\n",
       "      <th>3</th>\n",
       "      <td>Santo Stefano</td>\n",
       "      <td>44.47834</td>\n",
       "      <td>11.35672</td>\n",
       "    </tr>\n",
       "    <tr>\n",
       "      <th>4</th>\n",
       "      <td>Porto - Saragozza</td>\n",
       "      <td>44.49306</td>\n",
       "      <td>11.33786</td>\n",
       "    </tr>\n",
       "  </tbody>\n",
       "</table>\n",
       "</div>"
      ],
      "text/plain": [
       "       neighbourhood  latitude  longitude\n",
       "0      Santo Stefano  44.48507   11.34786\n",
       "1  Porto - Saragozza  44.49168   11.33514\n",
       "2      Santo Stefano  44.48817   11.34124\n",
       "3      Santo Stefano  44.47834   11.35672\n",
       "4  Porto - Saragozza  44.49306   11.33786"
      ]
     },
     "execution_count": 53,
     "metadata": {},
     "output_type": "execute_result"
    }
   ],
   "source": [
    "df_listings.loc[:, ['neighbourhood', 'latitude', 'longitude']].head()"
   ]
  },
  {
   "cell_type": "markdown",
   "metadata": {},
   "source": [
    "Também podemos selecionar intervalos."
   ]
  },
  {
   "cell_type": "code",
   "execution_count": 54,
   "metadata": {},
   "outputs": [
    {
     "data": {
      "application/vnd.microsoft.datawrangler.viewer.v0+json": {
       "columns": [
        {
         "name": "index",
         "rawType": "int64",
         "type": "integer"
        },
        {
         "name": "neighbourhood",
         "rawType": "object",
         "type": "string"
        },
        {
         "name": "latitude",
         "rawType": "float64",
         "type": "float"
        },
        {
         "name": "longitude",
         "rawType": "float64",
         "type": "float"
        },
        {
         "name": "room_type",
         "rawType": "object",
         "type": "string"
        }
       ],
       "conversionMethod": "pd.DataFrame",
       "ref": "749e7497-2a69-4bb8-99b2-360c0bdc6ca2",
       "rows": [
        [
         "0",
         "Santo Stefano",
         "44.48507",
         "11.34786",
         "Entire home/apt"
        ],
        [
         "1",
         "Porto - Saragozza",
         "44.49168",
         "11.33514",
         "Private room"
        ],
        [
         "2",
         "Santo Stefano",
         "44.48817",
         "11.34124",
         "Private room"
        ],
        [
         "3",
         "Santo Stefano",
         "44.47834",
         "11.35672",
         "Entire home/apt"
        ],
        [
         "4",
         "Porto - Saragozza",
         "44.49306",
         "11.33786",
         "Private room"
        ]
       ],
       "shape": {
        "columns": 4,
        "rows": 5
       }
      },
      "text/html": [
       "<div>\n",
       "<style scoped>\n",
       "    .dataframe tbody tr th:only-of-type {\n",
       "        vertical-align: middle;\n",
       "    }\n",
       "\n",
       "    .dataframe tbody tr th {\n",
       "        vertical-align: top;\n",
       "    }\n",
       "\n",
       "    .dataframe thead th {\n",
       "        text-align: right;\n",
       "    }\n",
       "</style>\n",
       "<table border=\"1\" class=\"dataframe\">\n",
       "  <thead>\n",
       "    <tr style=\"text-align: right;\">\n",
       "      <th></th>\n",
       "      <th>neighbourhood</th>\n",
       "      <th>latitude</th>\n",
       "      <th>longitude</th>\n",
       "      <th>room_type</th>\n",
       "    </tr>\n",
       "  </thead>\n",
       "  <tbody>\n",
       "    <tr>\n",
       "      <th>0</th>\n",
       "      <td>Santo Stefano</td>\n",
       "      <td>44.48507</td>\n",
       "      <td>11.34786</td>\n",
       "      <td>Entire home/apt</td>\n",
       "    </tr>\n",
       "    <tr>\n",
       "      <th>1</th>\n",
       "      <td>Porto - Saragozza</td>\n",
       "      <td>44.49168</td>\n",
       "      <td>11.33514</td>\n",
       "      <td>Private room</td>\n",
       "    </tr>\n",
       "    <tr>\n",
       "      <th>2</th>\n",
       "      <td>Santo Stefano</td>\n",
       "      <td>44.48817</td>\n",
       "      <td>11.34124</td>\n",
       "      <td>Private room</td>\n",
       "    </tr>\n",
       "    <tr>\n",
       "      <th>3</th>\n",
       "      <td>Santo Stefano</td>\n",
       "      <td>44.47834</td>\n",
       "      <td>11.35672</td>\n",
       "      <td>Entire home/apt</td>\n",
       "    </tr>\n",
       "    <tr>\n",
       "      <th>4</th>\n",
       "      <td>Porto - Saragozza</td>\n",
       "      <td>44.49306</td>\n",
       "      <td>11.33786</td>\n",
       "      <td>Private room</td>\n",
       "    </tr>\n",
       "  </tbody>\n",
       "</table>\n",
       "</div>"
      ],
      "text/plain": [
       "       neighbourhood  latitude  longitude        room_type\n",
       "0      Santo Stefano  44.48507   11.34786  Entire home/apt\n",
       "1  Porto - Saragozza  44.49168   11.33514     Private room\n",
       "2      Santo Stefano  44.48817   11.34124     Private room\n",
       "3      Santo Stefano  44.47834   11.35672  Entire home/apt\n",
       "4  Porto - Saragozza  44.49306   11.33786     Private room"
      ]
     },
     "execution_count": 54,
     "metadata": {},
     "output_type": "execute_result"
    }
   ],
   "source": [
    "df_listings.loc[:, 'neighbourhood':'room_type'].head()"
   ]
  },
  {
   "cell_type": "markdown",
   "metadata": {},
   "source": [
    "Existe uma maneira fácil de selecionar ***colunas numéricas*** : a função `.select_dtypes()` ."
   ]
  },
  {
   "cell_type": "code",
   "execution_count": 55,
   "metadata": {},
   "outputs": [
    {
     "data": {
      "application/vnd.microsoft.datawrangler.viewer.v0+json": {
       "columns": [
        {
         "name": "index",
         "rawType": "int64",
         "type": "integer"
        },
        {
         "name": "id",
         "rawType": "int64",
         "type": "integer"
        },
        {
         "name": "host_id",
         "rawType": "int64",
         "type": "integer"
        },
        {
         "name": "neighbourhood_group",
         "rawType": "float64",
         "type": "float"
        },
        {
         "name": "latitude",
         "rawType": "float64",
         "type": "float"
        },
        {
         "name": "longitude",
         "rawType": "float64",
         "type": "float"
        },
        {
         "name": "price",
         "rawType": "int64",
         "type": "integer"
        },
        {
         "name": "minimum_nights",
         "rawType": "int64",
         "type": "integer"
        },
        {
         "name": "number_of_reviews",
         "rawType": "int64",
         "type": "integer"
        },
        {
         "name": "reviews_per_month",
         "rawType": "float64",
         "type": "float"
        },
        {
         "name": "calculated_host_listings_count",
         "rawType": "int64",
         "type": "integer"
        },
        {
         "name": "availability_365",
         "rawType": "int64",
         "type": "integer"
        },
        {
         "name": "number_of_reviews_ltm",
         "rawType": "int64",
         "type": "integer"
        }
       ],
       "conversionMethod": "pd.DataFrame",
       "ref": "cd053501-78c3-4616-81fc-8168d02a2d5b",
       "rows": [
        [
         "0",
         "42196",
         "184487",
         null,
         "44.48507",
         "11.34786",
         "68",
         "3",
         "180",
         "1.32",
         "1",
         "161",
         "6"
        ],
        [
         "1",
         "46352",
         "467810",
         null,
         "44.49168",
         "11.33514",
         "29",
         "1",
         "300",
         "2.2",
         "2",
         "248",
         "37"
        ],
        [
         "2",
         "59697",
         "286688",
         null,
         "44.48817",
         "11.34124",
         "50",
         "1",
         "240",
         "2.18",
         "2",
         "327",
         "0"
        ],
        [
         "3",
         "85368",
         "467675",
         null,
         "44.47834",
         "11.35672",
         "126",
         "2",
         "40",
         "0.34",
         "1",
         "332",
         "0"
        ],
        [
         "4",
         "145779",
         "705535",
         null,
         "44.49306",
         "11.33786",
         "50",
         "10",
         "69",
         "0.55",
         "9",
         "365",
         "5"
        ]
       ],
       "shape": {
        "columns": 12,
        "rows": 5
       }
      },
      "text/html": [
       "<div>\n",
       "<style scoped>\n",
       "    .dataframe tbody tr th:only-of-type {\n",
       "        vertical-align: middle;\n",
       "    }\n",
       "\n",
       "    .dataframe tbody tr th {\n",
       "        vertical-align: top;\n",
       "    }\n",
       "\n",
       "    .dataframe thead th {\n",
       "        text-align: right;\n",
       "    }\n",
       "</style>\n",
       "<table border=\"1\" class=\"dataframe\">\n",
       "  <thead>\n",
       "    <tr style=\"text-align: right;\">\n",
       "      <th></th>\n",
       "      <th>id</th>\n",
       "      <th>host_id</th>\n",
       "      <th>neighbourhood_group</th>\n",
       "      <th>latitude</th>\n",
       "      <th>longitude</th>\n",
       "      <th>price</th>\n",
       "      <th>minimum_nights</th>\n",
       "      <th>number_of_reviews</th>\n",
       "      <th>reviews_per_month</th>\n",
       "      <th>calculated_host_listings_count</th>\n",
       "      <th>availability_365</th>\n",
       "      <th>number_of_reviews_ltm</th>\n",
       "    </tr>\n",
       "  </thead>\n",
       "  <tbody>\n",
       "    <tr>\n",
       "      <th>0</th>\n",
       "      <td>42196</td>\n",
       "      <td>184487</td>\n",
       "      <td>NaN</td>\n",
       "      <td>44.48507</td>\n",
       "      <td>11.34786</td>\n",
       "      <td>68</td>\n",
       "      <td>3</td>\n",
       "      <td>180</td>\n",
       "      <td>1.32</td>\n",
       "      <td>1</td>\n",
       "      <td>161</td>\n",
       "      <td>6</td>\n",
       "    </tr>\n",
       "    <tr>\n",
       "      <th>1</th>\n",
       "      <td>46352</td>\n",
       "      <td>467810</td>\n",
       "      <td>NaN</td>\n",
       "      <td>44.49168</td>\n",
       "      <td>11.33514</td>\n",
       "      <td>29</td>\n",
       "      <td>1</td>\n",
       "      <td>300</td>\n",
       "      <td>2.20</td>\n",
       "      <td>2</td>\n",
       "      <td>248</td>\n",
       "      <td>37</td>\n",
       "    </tr>\n",
       "    <tr>\n",
       "      <th>2</th>\n",
       "      <td>59697</td>\n",
       "      <td>286688</td>\n",
       "      <td>NaN</td>\n",
       "      <td>44.48817</td>\n",
       "      <td>11.34124</td>\n",
       "      <td>50</td>\n",
       "      <td>1</td>\n",
       "      <td>240</td>\n",
       "      <td>2.18</td>\n",
       "      <td>2</td>\n",
       "      <td>327</td>\n",
       "      <td>0</td>\n",
       "    </tr>\n",
       "    <tr>\n",
       "      <th>3</th>\n",
       "      <td>85368</td>\n",
       "      <td>467675</td>\n",
       "      <td>NaN</td>\n",
       "      <td>44.47834</td>\n",
       "      <td>11.35672</td>\n",
       "      <td>126</td>\n",
       "      <td>2</td>\n",
       "      <td>40</td>\n",
       "      <td>0.34</td>\n",
       "      <td>1</td>\n",
       "      <td>332</td>\n",
       "      <td>0</td>\n",
       "    </tr>\n",
       "    <tr>\n",
       "      <th>4</th>\n",
       "      <td>145779</td>\n",
       "      <td>705535</td>\n",
       "      <td>NaN</td>\n",
       "      <td>44.49306</td>\n",
       "      <td>11.33786</td>\n",
       "      <td>50</td>\n",
       "      <td>10</td>\n",
       "      <td>69</td>\n",
       "      <td>0.55</td>\n",
       "      <td>9</td>\n",
       "      <td>365</td>\n",
       "      <td>5</td>\n",
       "    </tr>\n",
       "  </tbody>\n",
       "</table>\n",
       "</div>"
      ],
      "text/plain": [
       "       id  host_id  neighbourhood_group  latitude  longitude  price  \\\n",
       "0   42196   184487                  NaN  44.48507   11.34786     68   \n",
       "1   46352   467810                  NaN  44.49168   11.33514     29   \n",
       "2   59697   286688                  NaN  44.48817   11.34124     50   \n",
       "3   85368   467675                  NaN  44.47834   11.35672    126   \n",
       "4  145779   705535                  NaN  44.49306   11.33786     50   \n",
       "\n",
       "   minimum_nights  number_of_reviews  reviews_per_month  \\\n",
       "0               3                180               1.32   \n",
       "1               1                300               2.20   \n",
       "2               1                240               2.18   \n",
       "3               2                 40               0.34   \n",
       "4              10                 69               0.55   \n",
       "\n",
       "   calculated_host_listings_count  availability_365  number_of_reviews_ltm  \n",
       "0                               1               161                      6  \n",
       "1                               2               248                     37  \n",
       "2                               2               327                      0  \n",
       "3                               1               332                      0  \n",
       "4                               9               365                      5  "
      ]
     },
     "execution_count": 55,
     "metadata": {},
     "output_type": "execute_result"
    }
   ],
   "source": [
    "df_listings.select_dtypes(include=['number']).head()"
   ]
  },
  {
   "cell_type": "markdown",
   "metadata": {},
   "source": [
    "Outros tipos incluem\n",
    "\n",
    "* **object** para cordas\n",
    "* **bool** para booleanos\n",
    "* **int** para inteiros\n",
    "* **float** para floats (números que não são inteiros)\n",
    "\n",
    "Também podemos usar operadores lógicos para selecionar linhas."
   ]
  },
  {
   "cell_type": "code",
   "execution_count": 56,
   "metadata": {},
   "outputs": [
    {
     "data": {
      "application/vnd.microsoft.datawrangler.viewer.v0+json": {
       "columns": [
        {
         "name": "index",
         "rawType": "int64",
         "type": "integer"
        },
        {
         "name": "id",
         "rawType": "int64",
         "type": "integer"
        },
        {
         "name": "name",
         "rawType": "object",
         "type": "string"
        },
        {
         "name": "host_id",
         "rawType": "int64",
         "type": "integer"
        },
        {
         "name": "host_name",
         "rawType": "object",
         "type": "string"
        },
        {
         "name": "neighbourhood_group",
         "rawType": "float64",
         "type": "float"
        },
        {
         "name": "neighbourhood",
         "rawType": "object",
         "type": "string"
        },
        {
         "name": "latitude",
         "rawType": "float64",
         "type": "float"
        },
        {
         "name": "longitude",
         "rawType": "float64",
         "type": "float"
        },
        {
         "name": "room_type",
         "rawType": "object",
         "type": "string"
        },
        {
         "name": "price",
         "rawType": "int64",
         "type": "integer"
        },
        {
         "name": "minimum_nights",
         "rawType": "int64",
         "type": "integer"
        },
        {
         "name": "number_of_reviews",
         "rawType": "int64",
         "type": "integer"
        },
        {
         "name": "last_review",
         "rawType": "object",
         "type": "string"
        },
        {
         "name": "reviews_per_month",
         "rawType": "float64",
         "type": "float"
        },
        {
         "name": "calculated_host_listings_count",
         "rawType": "int64",
         "type": "integer"
        },
        {
         "name": "availability_365",
         "rawType": "int64",
         "type": "integer"
        },
        {
         "name": "number_of_reviews_ltm",
         "rawType": "int64",
         "type": "integer"
        },
        {
         "name": "license",
         "rawType": "object",
         "type": "string"
        }
       ],
       "conversionMethod": "pd.DataFrame",
       "ref": "9d1c8d68-b601-4683-9f9d-0ff48aa44c78",
       "rows": [
        [
         "52",
         "884148",
         "APOSA FLAT / CITY CENTER - BO",
         "4664996",
         "Vie D'Acqua Di Sandra Maria",
         null,
         "Santo Stefano",
         "44.49945",
         "11.34566",
         "Entire home/apt",
         "46",
         "1",
         "668",
         "2021-12-11",
         "6.24",
         "5",
         "252",
         "20",
         null
        ],
        [
         "92",
         "1435627",
         "heart of Bologna Piazza Maggiore",
         "7714013",
         "Carlotta",
         null,
         "Porto - Saragozza",
         "44.49321",
         "11.33569",
         "Entire home/apt",
         "56",
         "2",
         "508",
         "2021-12-12",
         "5.08",
         "1",
         "131",
         "69",
         null
        ],
        [
         "98",
         "1566003",
         "\"i portici di via Piella \"",
         "8325248",
         "Massimo",
         null,
         "Santo Stefano",
         "44.49855",
         "11.34411",
         "Entire home/apt",
         "51",
         "2",
         "764",
         "2021-12-14",
         "7.62",
         "3",
         "119",
         "120",
         null
        ],
        [
         "131",
         "2282623",
         "S.Orsola zone,parking for free and self check-in",
         "11658074",
         "Cecilia",
         null,
         "San Donato - San Vitale",
         "44.49328",
         "11.3665",
         "Entire home/apt",
         "38",
         "1",
         "689",
         "2021-10-24",
         "7.2",
         "1",
         "5",
         "72",
         null
        ],
        [
         "175",
         "3216486",
         "Stanza Privata",
         "16289536",
         "Fabio",
         null,
         "Navile",
         "44.50903",
         "11.342",
         "Private room",
         "82",
         "1",
         "569",
         "2021-12-05",
         "6.93",
         "1",
         "7",
         "5",
         null
        ]
       ],
       "shape": {
        "columns": 18,
        "rows": 5
       }
      },
      "text/html": [
       "<div>\n",
       "<style scoped>\n",
       "    .dataframe tbody tr th:only-of-type {\n",
       "        vertical-align: middle;\n",
       "    }\n",
       "\n",
       "    .dataframe tbody tr th {\n",
       "        vertical-align: top;\n",
       "    }\n",
       "\n",
       "    .dataframe thead th {\n",
       "        text-align: right;\n",
       "    }\n",
       "</style>\n",
       "<table border=\"1\" class=\"dataframe\">\n",
       "  <thead>\n",
       "    <tr style=\"text-align: right;\">\n",
       "      <th></th>\n",
       "      <th>id</th>\n",
       "      <th>name</th>\n",
       "      <th>host_id</th>\n",
       "      <th>host_name</th>\n",
       "      <th>neighbourhood_group</th>\n",
       "      <th>neighbourhood</th>\n",
       "      <th>latitude</th>\n",
       "      <th>longitude</th>\n",
       "      <th>room_type</th>\n",
       "      <th>price</th>\n",
       "      <th>minimum_nights</th>\n",
       "      <th>number_of_reviews</th>\n",
       "      <th>last_review</th>\n",
       "      <th>reviews_per_month</th>\n",
       "      <th>calculated_host_listings_count</th>\n",
       "      <th>availability_365</th>\n",
       "      <th>number_of_reviews_ltm</th>\n",
       "      <th>license</th>\n",
       "    </tr>\n",
       "  </thead>\n",
       "  <tbody>\n",
       "    <tr>\n",
       "      <th>52</th>\n",
       "      <td>884148</td>\n",
       "      <td>APOSA FLAT / CITY CENTER - BO</td>\n",
       "      <td>4664996</td>\n",
       "      <td>Vie D'Acqua Di Sandra Maria</td>\n",
       "      <td>NaN</td>\n",
       "      <td>Santo Stefano</td>\n",
       "      <td>44.49945</td>\n",
       "      <td>11.34566</td>\n",
       "      <td>Entire home/apt</td>\n",
       "      <td>46</td>\n",
       "      <td>1</td>\n",
       "      <td>668</td>\n",
       "      <td>2021-12-11</td>\n",
       "      <td>6.24</td>\n",
       "      <td>5</td>\n",
       "      <td>252</td>\n",
       "      <td>20</td>\n",
       "      <td>NaN</td>\n",
       "    </tr>\n",
       "    <tr>\n",
       "      <th>92</th>\n",
       "      <td>1435627</td>\n",
       "      <td>heart of Bologna Piazza Maggiore</td>\n",
       "      <td>7714013</td>\n",
       "      <td>Carlotta</td>\n",
       "      <td>NaN</td>\n",
       "      <td>Porto - Saragozza</td>\n",
       "      <td>44.49321</td>\n",
       "      <td>11.33569</td>\n",
       "      <td>Entire home/apt</td>\n",
       "      <td>56</td>\n",
       "      <td>2</td>\n",
       "      <td>508</td>\n",
       "      <td>2021-12-12</td>\n",
       "      <td>5.08</td>\n",
       "      <td>1</td>\n",
       "      <td>131</td>\n",
       "      <td>69</td>\n",
       "      <td>NaN</td>\n",
       "    </tr>\n",
       "    <tr>\n",
       "      <th>98</th>\n",
       "      <td>1566003</td>\n",
       "      <td>\"i portici di via Piella \"</td>\n",
       "      <td>8325248</td>\n",
       "      <td>Massimo</td>\n",
       "      <td>NaN</td>\n",
       "      <td>Santo Stefano</td>\n",
       "      <td>44.49855</td>\n",
       "      <td>11.34411</td>\n",
       "      <td>Entire home/apt</td>\n",
       "      <td>51</td>\n",
       "      <td>2</td>\n",
       "      <td>764</td>\n",
       "      <td>2021-12-14</td>\n",
       "      <td>7.62</td>\n",
       "      <td>3</td>\n",
       "      <td>119</td>\n",
       "      <td>120</td>\n",
       "      <td>NaN</td>\n",
       "    </tr>\n",
       "    <tr>\n",
       "      <th>131</th>\n",
       "      <td>2282623</td>\n",
       "      <td>S.Orsola zone,parking for free and self check-in</td>\n",
       "      <td>11658074</td>\n",
       "      <td>Cecilia</td>\n",
       "      <td>NaN</td>\n",
       "      <td>San Donato - San Vitale</td>\n",
       "      <td>44.49328</td>\n",
       "      <td>11.36650</td>\n",
       "      <td>Entire home/apt</td>\n",
       "      <td>38</td>\n",
       "      <td>1</td>\n",
       "      <td>689</td>\n",
       "      <td>2021-10-24</td>\n",
       "      <td>7.20</td>\n",
       "      <td>1</td>\n",
       "      <td>5</td>\n",
       "      <td>72</td>\n",
       "      <td>NaN</td>\n",
       "    </tr>\n",
       "    <tr>\n",
       "      <th>175</th>\n",
       "      <td>3216486</td>\n",
       "      <td>Stanza Privata</td>\n",
       "      <td>16289536</td>\n",
       "      <td>Fabio</td>\n",
       "      <td>NaN</td>\n",
       "      <td>Navile</td>\n",
       "      <td>44.50903</td>\n",
       "      <td>11.34200</td>\n",
       "      <td>Private room</td>\n",
       "      <td>82</td>\n",
       "      <td>1</td>\n",
       "      <td>569</td>\n",
       "      <td>2021-12-05</td>\n",
       "      <td>6.93</td>\n",
       "      <td>1</td>\n",
       "      <td>7</td>\n",
       "      <td>5</td>\n",
       "      <td>NaN</td>\n",
       "    </tr>\n",
       "  </tbody>\n",
       "</table>\n",
       "</div>"
      ],
      "text/plain": [
       "          id                                              name   host_id  \\\n",
       "52    884148                     APOSA FLAT / CITY CENTER - BO   4664996   \n",
       "92   1435627                  heart of Bologna Piazza Maggiore   7714013   \n",
       "98   1566003                        \"i portici di via Piella \"   8325248   \n",
       "131  2282623  S.Orsola zone,parking for free and self check-in  11658074   \n",
       "175  3216486                                    Stanza Privata  16289536   \n",
       "\n",
       "                       host_name  neighbourhood_group  \\\n",
       "52   Vie D'Acqua Di Sandra Maria                  NaN   \n",
       "92                      Carlotta                  NaN   \n",
       "98                       Massimo                  NaN   \n",
       "131                      Cecilia                  NaN   \n",
       "175                        Fabio                  NaN   \n",
       "\n",
       "               neighbourhood  latitude  longitude        room_type  price  \\\n",
       "52             Santo Stefano  44.49945   11.34566  Entire home/apt     46   \n",
       "92         Porto - Saragozza  44.49321   11.33569  Entire home/apt     56   \n",
       "98             Santo Stefano  44.49855   11.34411  Entire home/apt     51   \n",
       "131  San Donato - San Vitale  44.49328   11.36650  Entire home/apt     38   \n",
       "175                   Navile  44.50903   11.34200     Private room     82   \n",
       "\n",
       "     minimum_nights  number_of_reviews last_review  reviews_per_month  \\\n",
       "52                1                668  2021-12-11               6.24   \n",
       "92                2                508  2021-12-12               5.08   \n",
       "98                2                764  2021-12-14               7.62   \n",
       "131               1                689  2021-10-24               7.20   \n",
       "175               1                569  2021-12-05               6.93   \n",
       "\n",
       "     calculated_host_listings_count  availability_365  number_of_reviews_ltm  \\\n",
       "52                                5               252                     20   \n",
       "92                                1               131                     69   \n",
       "98                                3               119                    120   \n",
       "131                               1                 5                     72   \n",
       "175                               1                 7                      5   \n",
       "\n",
       "    license  \n",
       "52      NaN  \n",
       "92      NaN  \n",
       "98      NaN  \n",
       "131     NaN  \n",
       "175     NaN  "
      ]
     },
     "execution_count": 56,
     "metadata": {},
     "output_type": "execute_result"
    }
   ],
   "source": [
    "df_listings.loc[df_listings['number_of_reviews']>500, :].head()"
   ]
  },
  {
   "cell_type": "markdown",
   "metadata": {},
   "source": [
    "Podemos usar operações lógicas também. Mas lembre-se de usar parênteses.\n",
    "\n",
    "Nota : as expressões **and** e **or** não funcionam nesta configuração. Temos que usar `&` e `|` em vez disso."
   ]
  },
  {
   "cell_type": "code",
   "execution_count": 57,
   "metadata": {},
   "outputs": [
    {
     "data": {
      "application/vnd.microsoft.datawrangler.viewer.v0+json": {
       "columns": [
        {
         "name": "index",
         "rawType": "int64",
         "type": "integer"
        },
        {
         "name": "id",
         "rawType": "int64",
         "type": "integer"
        },
        {
         "name": "name",
         "rawType": "object",
         "type": "string"
        },
        {
         "name": "host_id",
         "rawType": "int64",
         "type": "integer"
        },
        {
         "name": "host_name",
         "rawType": "object",
         "type": "string"
        },
        {
         "name": "neighbourhood_group",
         "rawType": "float64",
         "type": "float"
        },
        {
         "name": "neighbourhood",
         "rawType": "object",
         "type": "string"
        },
        {
         "name": "latitude",
         "rawType": "float64",
         "type": "float"
        },
        {
         "name": "longitude",
         "rawType": "float64",
         "type": "float"
        },
        {
         "name": "room_type",
         "rawType": "object",
         "type": "string"
        },
        {
         "name": "price",
         "rawType": "int64",
         "type": "integer"
        },
        {
         "name": "minimum_nights",
         "rawType": "int64",
         "type": "integer"
        },
        {
         "name": "number_of_reviews",
         "rawType": "int64",
         "type": "integer"
        },
        {
         "name": "last_review",
         "rawType": "object",
         "type": "string"
        },
        {
         "name": "reviews_per_month",
         "rawType": "float64",
         "type": "float"
        },
        {
         "name": "calculated_host_listings_count",
         "rawType": "int64",
         "type": "integer"
        },
        {
         "name": "availability_365",
         "rawType": "int64",
         "type": "integer"
        },
        {
         "name": "number_of_reviews_ltm",
         "rawType": "int64",
         "type": "integer"
        },
        {
         "name": "license",
         "rawType": "object",
         "type": "string"
        }
       ],
       "conversionMethod": "pd.DataFrame",
       "ref": "0bb568f1-1d1c-4fb9-8aab-5454bd6e8d23",
       "rows": [
        [
         "98",
         "1566003",
         "\"i portici di via Piella \"",
         "8325248",
         "Massimo",
         null,
         "Santo Stefano",
         "44.49855",
         "11.34411",
         "Entire home/apt",
         "51",
         "2",
         "764",
         "2021-12-14",
         "7.62",
         "3",
         "119",
         "120",
         null
        ],
        [
         "131",
         "2282623",
         "S.Orsola zone,parking for free and self check-in",
         "11658074",
         "Cecilia",
         null,
         "San Donato - San Vitale",
         "44.49328",
         "11.3665",
         "Entire home/apt",
         "38",
         "1",
         "689",
         "2021-10-24",
         "7.2",
         "1",
         "5",
         "72",
         null
        ],
        [
         "204",
         "4166793",
         "Centralissimo a Bologna",
         "8325248",
         "Massimo",
         null,
         "Santo Stefano",
         "44.50092",
         "11.34456",
         "Entire home/apt",
         "71",
         "2",
         "750",
         "2021-12-10",
         "9.21",
         "3",
         "233",
         "84",
         null
        ],
        [
         "751",
         "15508481",
         "Monolocale in zona fiera /centro",
         "99632788",
         "Walid",
         null,
         "Navile",
         "44.514462",
         "11.353731",
         "Entire home/apt",
         "64",
         "1",
         "475",
         "2021-12-01",
         "7.56",
         "1",
         "4",
         "48",
         null
        ],
        [
         "773",
         "15886516",
         "Monolocale nel cuore del ghetto ebraico di Bologna",
         "103024123",
         "Catia",
         null,
         "Santo Stefano",
         "44.49508",
         "11.34722",
         "Entire home/apt",
         "58",
         "1",
         "428",
         "2021-12-15",
         "7.88",
         "1",
         "285",
         "17",
         null
        ]
       ],
       "shape": {
        "columns": 18,
        "rows": 5
       }
      },
      "text/html": [
       "<div>\n",
       "<style scoped>\n",
       "    .dataframe tbody tr th:only-of-type {\n",
       "        vertical-align: middle;\n",
       "    }\n",
       "\n",
       "    .dataframe tbody tr th {\n",
       "        vertical-align: top;\n",
       "    }\n",
       "\n",
       "    .dataframe thead th {\n",
       "        text-align: right;\n",
       "    }\n",
       "</style>\n",
       "<table border=\"1\" class=\"dataframe\">\n",
       "  <thead>\n",
       "    <tr style=\"text-align: right;\">\n",
       "      <th></th>\n",
       "      <th>id</th>\n",
       "      <th>name</th>\n",
       "      <th>host_id</th>\n",
       "      <th>host_name</th>\n",
       "      <th>neighbourhood_group</th>\n",
       "      <th>neighbourhood</th>\n",
       "      <th>latitude</th>\n",
       "      <th>longitude</th>\n",
       "      <th>room_type</th>\n",
       "      <th>price</th>\n",
       "      <th>minimum_nights</th>\n",
       "      <th>number_of_reviews</th>\n",
       "      <th>last_review</th>\n",
       "      <th>reviews_per_month</th>\n",
       "      <th>calculated_host_listings_count</th>\n",
       "      <th>availability_365</th>\n",
       "      <th>number_of_reviews_ltm</th>\n",
       "      <th>license</th>\n",
       "    </tr>\n",
       "  </thead>\n",
       "  <tbody>\n",
       "    <tr>\n",
       "      <th>98</th>\n",
       "      <td>1566003</td>\n",
       "      <td>\"i portici di via Piella \"</td>\n",
       "      <td>8325248</td>\n",
       "      <td>Massimo</td>\n",
       "      <td>NaN</td>\n",
       "      <td>Santo Stefano</td>\n",
       "      <td>44.498550</td>\n",
       "      <td>11.344110</td>\n",
       "      <td>Entire home/apt</td>\n",
       "      <td>51</td>\n",
       "      <td>2</td>\n",
       "      <td>764</td>\n",
       "      <td>2021-12-14</td>\n",
       "      <td>7.62</td>\n",
       "      <td>3</td>\n",
       "      <td>119</td>\n",
       "      <td>120</td>\n",
       "      <td>NaN</td>\n",
       "    </tr>\n",
       "    <tr>\n",
       "      <th>131</th>\n",
       "      <td>2282623</td>\n",
       "      <td>S.Orsola zone,parking for free and self check-in</td>\n",
       "      <td>11658074</td>\n",
       "      <td>Cecilia</td>\n",
       "      <td>NaN</td>\n",
       "      <td>San Donato - San Vitale</td>\n",
       "      <td>44.493280</td>\n",
       "      <td>11.366500</td>\n",
       "      <td>Entire home/apt</td>\n",
       "      <td>38</td>\n",
       "      <td>1</td>\n",
       "      <td>689</td>\n",
       "      <td>2021-10-24</td>\n",
       "      <td>7.20</td>\n",
       "      <td>1</td>\n",
       "      <td>5</td>\n",
       "      <td>72</td>\n",
       "      <td>NaN</td>\n",
       "    </tr>\n",
       "    <tr>\n",
       "      <th>204</th>\n",
       "      <td>4166793</td>\n",
       "      <td>Centralissimo a Bologna</td>\n",
       "      <td>8325248</td>\n",
       "      <td>Massimo</td>\n",
       "      <td>NaN</td>\n",
       "      <td>Santo Stefano</td>\n",
       "      <td>44.500920</td>\n",
       "      <td>11.344560</td>\n",
       "      <td>Entire home/apt</td>\n",
       "      <td>71</td>\n",
       "      <td>2</td>\n",
       "      <td>750</td>\n",
       "      <td>2021-12-10</td>\n",
       "      <td>9.21</td>\n",
       "      <td>3</td>\n",
       "      <td>233</td>\n",
       "      <td>84</td>\n",
       "      <td>NaN</td>\n",
       "    </tr>\n",
       "    <tr>\n",
       "      <th>751</th>\n",
       "      <td>15508481</td>\n",
       "      <td>Monolocale in zona fiera /centro</td>\n",
       "      <td>99632788</td>\n",
       "      <td>Walid</td>\n",
       "      <td>NaN</td>\n",
       "      <td>Navile</td>\n",
       "      <td>44.514462</td>\n",
       "      <td>11.353731</td>\n",
       "      <td>Entire home/apt</td>\n",
       "      <td>64</td>\n",
       "      <td>1</td>\n",
       "      <td>475</td>\n",
       "      <td>2021-12-01</td>\n",
       "      <td>7.56</td>\n",
       "      <td>1</td>\n",
       "      <td>4</td>\n",
       "      <td>48</td>\n",
       "      <td>NaN</td>\n",
       "    </tr>\n",
       "    <tr>\n",
       "      <th>773</th>\n",
       "      <td>15886516</td>\n",
       "      <td>Monolocale nel cuore del ghetto ebraico di Bol...</td>\n",
       "      <td>103024123</td>\n",
       "      <td>Catia</td>\n",
       "      <td>NaN</td>\n",
       "      <td>Santo Stefano</td>\n",
       "      <td>44.495080</td>\n",
       "      <td>11.347220</td>\n",
       "      <td>Entire home/apt</td>\n",
       "      <td>58</td>\n",
       "      <td>1</td>\n",
       "      <td>428</td>\n",
       "      <td>2021-12-15</td>\n",
       "      <td>7.88</td>\n",
       "      <td>1</td>\n",
       "      <td>285</td>\n",
       "      <td>17</td>\n",
       "      <td>NaN</td>\n",
       "    </tr>\n",
       "  </tbody>\n",
       "</table>\n",
       "</div>"
      ],
      "text/plain": [
       "           id                                               name    host_id  \\\n",
       "98    1566003                         \"i portici di via Piella \"    8325248   \n",
       "131   2282623   S.Orsola zone,parking for free and self check-in   11658074   \n",
       "204   4166793                            Centralissimo a Bologna    8325248   \n",
       "751  15508481                   Monolocale in zona fiera /centro   99632788   \n",
       "773  15886516  Monolocale nel cuore del ghetto ebraico di Bol...  103024123   \n",
       "\n",
       "    host_name  neighbourhood_group            neighbourhood   latitude  \\\n",
       "98    Massimo                  NaN            Santo Stefano  44.498550   \n",
       "131   Cecilia                  NaN  San Donato - San Vitale  44.493280   \n",
       "204   Massimo                  NaN            Santo Stefano  44.500920   \n",
       "751     Walid                  NaN                   Navile  44.514462   \n",
       "773     Catia                  NaN            Santo Stefano  44.495080   \n",
       "\n",
       "     longitude        room_type  price  minimum_nights  number_of_reviews  \\\n",
       "98   11.344110  Entire home/apt     51               2                764   \n",
       "131  11.366500  Entire home/apt     38               1                689   \n",
       "204  11.344560  Entire home/apt     71               2                750   \n",
       "751  11.353731  Entire home/apt     64               1                475   \n",
       "773  11.347220  Entire home/apt     58               1                428   \n",
       "\n",
       "    last_review  reviews_per_month  calculated_host_listings_count  \\\n",
       "98   2021-12-14               7.62                               3   \n",
       "131  2021-10-24               7.20                               1   \n",
       "204  2021-12-10               9.21                               3   \n",
       "751  2021-12-01               7.56                               1   \n",
       "773  2021-12-15               7.88                               1   \n",
       "\n",
       "     availability_365  number_of_reviews_ltm license  \n",
       "98                119                    120     NaN  \n",
       "131                 5                     72     NaN  \n",
       "204               233                     84     NaN  \n",
       "751                 4                     48     NaN  \n",
       "773               285                     17     NaN  "
      ]
     },
     "execution_count": 57,
     "metadata": {},
     "output_type": "execute_result"
    }
   ],
   "source": [
    "df_listings.loc[(df_listings['number_of_reviews']>300) &\n",
    "                (df_listings['reviews_per_month']>7), \n",
    "                :].head()"
   ]
  },
  {
   "cell_type": "markdown",
   "metadata": {},
   "source": [
    "Para uma única coluna (ou seja, uma série), podemos obter os valores exclusivos usando a função `unique()`."
   ]
  },
  {
   "cell_type": "code",
   "execution_count": 58,
   "metadata": {},
   "outputs": [
    {
     "data": {
      "text/plain": [
       "array(['Santo Stefano', 'Porto - Saragozza', 'Navile',\n",
       "       'San Donato - San Vitale', 'Savena', 'Borgo Panigale - Reno'],\n",
       "      dtype=object)"
      ]
     },
     "execution_count": 58,
     "metadata": {},
     "output_type": "execute_result"
    }
   ],
   "source": [
    "df_listings['neighbourhood'].unique()"
   ]
  },
  {
   "cell_type": "markdown",
   "metadata": {},
   "source": [
    "Para várias colunas, podemos usar a função `drop_duplicates`."
   ]
  },
  {
   "cell_type": "code",
   "execution_count": 59,
   "metadata": {},
   "outputs": [
    {
     "data": {
      "application/vnd.microsoft.datawrangler.viewer.v0+json": {
       "columns": [
        {
         "name": "index",
         "rawType": "int64",
         "type": "integer"
        },
        {
         "name": "neighbourhood",
         "rawType": "object",
         "type": "string"
        },
        {
         "name": "room_type",
         "rawType": "object",
         "type": "string"
        }
       ],
       "conversionMethod": "pd.DataFrame",
       "ref": "9205c9b0-f9e1-4c34-bf25-b02118fafff9",
       "rows": [
        [
         "0",
         "Santo Stefano",
         "Entire home/apt"
        ],
        [
         "1",
         "Porto - Saragozza",
         "Private room"
        ],
        [
         "2",
         "Santo Stefano",
         "Private room"
        ],
        [
         "5",
         "Navile",
         "Private room"
        ],
        [
         "7",
         "Navile",
         "Entire home/apt"
        ],
        [
         "8",
         "Porto - Saragozza",
         "Entire home/apt"
        ],
        [
         "19",
         "San Donato - San Vitale",
         "Private room"
        ],
        [
         "24",
         "Savena",
         "Private room"
        ],
        [
         "36",
         "Borgo Panigale - Reno",
         "Entire home/apt"
        ],
        [
         "41",
         "San Donato - San Vitale",
         "Entire home/apt"
        ],
        [
         "70",
         "Porto - Saragozza",
         "Hotel room"
        ],
        [
         "75",
         "Borgo Panigale - Reno",
         "Private room"
        ],
        [
         "110",
         "Santo Stefano",
         "Hotel room"
        ],
        [
         "111",
         "Savena",
         "Entire home/apt"
        ],
        [
         "388",
         "Porto - Saragozza",
         "Shared room"
        ],
        [
         "678",
         "Navile",
         "Shared room"
        ],
        [
         "1393",
         "Savena",
         "Shared room"
        ],
        [
         "1416",
         "San Donato - San Vitale",
         "Shared room"
        ],
        [
         "1572",
         "San Donato - San Vitale",
         "Hotel room"
        ],
        [
         "1637",
         "Santo Stefano",
         "Shared room"
        ],
        [
         "1751",
         "Navile",
         "Hotel room"
        ]
       ],
       "shape": {
        "columns": 2,
        "rows": 21
       }
      },
      "text/html": [
       "<div>\n",
       "<style scoped>\n",
       "    .dataframe tbody tr th:only-of-type {\n",
       "        vertical-align: middle;\n",
       "    }\n",
       "\n",
       "    .dataframe tbody tr th {\n",
       "        vertical-align: top;\n",
       "    }\n",
       "\n",
       "    .dataframe thead th {\n",
       "        text-align: right;\n",
       "    }\n",
       "</style>\n",
       "<table border=\"1\" class=\"dataframe\">\n",
       "  <thead>\n",
       "    <tr style=\"text-align: right;\">\n",
       "      <th></th>\n",
       "      <th>neighbourhood</th>\n",
       "      <th>room_type</th>\n",
       "    </tr>\n",
       "  </thead>\n",
       "  <tbody>\n",
       "    <tr>\n",
       "      <th>0</th>\n",
       "      <td>Santo Stefano</td>\n",
       "      <td>Entire home/apt</td>\n",
       "    </tr>\n",
       "    <tr>\n",
       "      <th>1</th>\n",
       "      <td>Porto - Saragozza</td>\n",
       "      <td>Private room</td>\n",
       "    </tr>\n",
       "    <tr>\n",
       "      <th>2</th>\n",
       "      <td>Santo Stefano</td>\n",
       "      <td>Private room</td>\n",
       "    </tr>\n",
       "    <tr>\n",
       "      <th>5</th>\n",
       "      <td>Navile</td>\n",
       "      <td>Private room</td>\n",
       "    </tr>\n",
       "    <tr>\n",
       "      <th>7</th>\n",
       "      <td>Navile</td>\n",
       "      <td>Entire home/apt</td>\n",
       "    </tr>\n",
       "    <tr>\n",
       "      <th>8</th>\n",
       "      <td>Porto - Saragozza</td>\n",
       "      <td>Entire home/apt</td>\n",
       "    </tr>\n",
       "    <tr>\n",
       "      <th>19</th>\n",
       "      <td>San Donato - San Vitale</td>\n",
       "      <td>Private room</td>\n",
       "    </tr>\n",
       "    <tr>\n",
       "      <th>24</th>\n",
       "      <td>Savena</td>\n",
       "      <td>Private room</td>\n",
       "    </tr>\n",
       "    <tr>\n",
       "      <th>36</th>\n",
       "      <td>Borgo Panigale - Reno</td>\n",
       "      <td>Entire home/apt</td>\n",
       "    </tr>\n",
       "    <tr>\n",
       "      <th>41</th>\n",
       "      <td>San Donato - San Vitale</td>\n",
       "      <td>Entire home/apt</td>\n",
       "    </tr>\n",
       "    <tr>\n",
       "      <th>70</th>\n",
       "      <td>Porto - Saragozza</td>\n",
       "      <td>Hotel room</td>\n",
       "    </tr>\n",
       "    <tr>\n",
       "      <th>75</th>\n",
       "      <td>Borgo Panigale - Reno</td>\n",
       "      <td>Private room</td>\n",
       "    </tr>\n",
       "    <tr>\n",
       "      <th>110</th>\n",
       "      <td>Santo Stefano</td>\n",
       "      <td>Hotel room</td>\n",
       "    </tr>\n",
       "    <tr>\n",
       "      <th>111</th>\n",
       "      <td>Savena</td>\n",
       "      <td>Entire home/apt</td>\n",
       "    </tr>\n",
       "    <tr>\n",
       "      <th>388</th>\n",
       "      <td>Porto - Saragozza</td>\n",
       "      <td>Shared room</td>\n",
       "    </tr>\n",
       "    <tr>\n",
       "      <th>678</th>\n",
       "      <td>Navile</td>\n",
       "      <td>Shared room</td>\n",
       "    </tr>\n",
       "    <tr>\n",
       "      <th>1393</th>\n",
       "      <td>Savena</td>\n",
       "      <td>Shared room</td>\n",
       "    </tr>\n",
       "    <tr>\n",
       "      <th>1416</th>\n",
       "      <td>San Donato - San Vitale</td>\n",
       "      <td>Shared room</td>\n",
       "    </tr>\n",
       "    <tr>\n",
       "      <th>1572</th>\n",
       "      <td>San Donato - San Vitale</td>\n",
       "      <td>Hotel room</td>\n",
       "    </tr>\n",
       "    <tr>\n",
       "      <th>1637</th>\n",
       "      <td>Santo Stefano</td>\n",
       "      <td>Shared room</td>\n",
       "    </tr>\n",
       "    <tr>\n",
       "      <th>1751</th>\n",
       "      <td>Navile</td>\n",
       "      <td>Hotel room</td>\n",
       "    </tr>\n",
       "  </tbody>\n",
       "</table>\n",
       "</div>"
      ],
      "text/plain": [
       "                neighbourhood        room_type\n",
       "0               Santo Stefano  Entire home/apt\n",
       "1           Porto - Saragozza     Private room\n",
       "2               Santo Stefano     Private room\n",
       "5                      Navile     Private room\n",
       "7                      Navile  Entire home/apt\n",
       "8           Porto - Saragozza  Entire home/apt\n",
       "19    San Donato - San Vitale     Private room\n",
       "24                     Savena     Private room\n",
       "36      Borgo Panigale - Reno  Entire home/apt\n",
       "41    San Donato - San Vitale  Entire home/apt\n",
       "70          Porto - Saragozza       Hotel room\n",
       "75      Borgo Panigale - Reno     Private room\n",
       "110             Santo Stefano       Hotel room\n",
       "111                    Savena  Entire home/apt\n",
       "388         Porto - Saragozza      Shared room\n",
       "678                    Navile      Shared room\n",
       "1393                   Savena      Shared room\n",
       "1416  San Donato - San Vitale      Shared room\n",
       "1572  San Donato - San Vitale       Hotel room\n",
       "1637            Santo Stefano      Shared room\n",
       "1751                   Navile       Hotel room"
      ]
     },
     "execution_count": 59,
     "metadata": {},
     "output_type": "execute_result"
    }
   ],
   "source": [
    "df_listings[['neighbourhood', 'room_type']].drop_duplicates()"
   ]
  },
  {
   "cell_type": "markdown",
   "metadata": {},
   "source": [
    "### Agregação e Tabelas Dinâmicas\n",
    "\n",
    "Podemos calcular estatísticas por grupo usando `.groupby()`."
   ]
  },
  {
   "cell_type": "code",
   "execution_count": 60,
   "metadata": {},
   "outputs": [
    {
     "data": {
      "application/vnd.microsoft.datawrangler.viewer.v0+json": {
       "columns": [
        {
         "name": "neighbourhood",
         "rawType": "object",
         "type": "string"
        },
        {
         "name": "price",
         "rawType": "float64",
         "type": "float"
        },
        {
         "name": "reviews_per_month",
         "rawType": "float64",
         "type": "float"
        }
       ],
       "conversionMethod": "pd.DataFrame",
       "ref": "bd4a3c15-b2c3-4177-bc95-69ef11eaa55b",
       "rows": [
        [
         "Borgo Panigale - Reno",
         "83.02054794520548",
         "0.9834883720930233"
        ],
        [
         "Navile",
         "142.20099255583128",
         "1.1567448680351906"
        ],
        [
         "Porto - Saragozza",
         "129.90831191088262",
         "1.3403253588516748"
        ],
        [
         "San Donato - San Vitale",
         "91.618138424821",
         "0.933010752688172"
        ],
        [
         "Santo Stefano",
         "119.4418410041841",
         "1.3448095238095237"
        ],
        [
         "Savena",
         "69.6260162601626",
         "0.8058878504672897"
        ]
       ],
       "shape": {
        "columns": 2,
        "rows": 6
       }
      },
      "text/html": [
       "<div>\n",
       "<style scoped>\n",
       "    .dataframe tbody tr th:only-of-type {\n",
       "        vertical-align: middle;\n",
       "    }\n",
       "\n",
       "    .dataframe tbody tr th {\n",
       "        vertical-align: top;\n",
       "    }\n",
       "\n",
       "    .dataframe thead th {\n",
       "        text-align: right;\n",
       "    }\n",
       "</style>\n",
       "<table border=\"1\" class=\"dataframe\">\n",
       "  <thead>\n",
       "    <tr style=\"text-align: right;\">\n",
       "      <th></th>\n",
       "      <th>price</th>\n",
       "      <th>reviews_per_month</th>\n",
       "    </tr>\n",
       "    <tr>\n",
       "      <th>neighbourhood</th>\n",
       "      <th></th>\n",
       "      <th></th>\n",
       "    </tr>\n",
       "  </thead>\n",
       "  <tbody>\n",
       "    <tr>\n",
       "      <th>Borgo Panigale - Reno</th>\n",
       "      <td>83.020548</td>\n",
       "      <td>0.983488</td>\n",
       "    </tr>\n",
       "    <tr>\n",
       "      <th>Navile</th>\n",
       "      <td>142.200993</td>\n",
       "      <td>1.156745</td>\n",
       "    </tr>\n",
       "    <tr>\n",
       "      <th>Porto - Saragozza</th>\n",
       "      <td>129.908312</td>\n",
       "      <td>1.340325</td>\n",
       "    </tr>\n",
       "    <tr>\n",
       "      <th>San Donato - San Vitale</th>\n",
       "      <td>91.618138</td>\n",
       "      <td>0.933011</td>\n",
       "    </tr>\n",
       "    <tr>\n",
       "      <th>Santo Stefano</th>\n",
       "      <td>119.441841</td>\n",
       "      <td>1.344810</td>\n",
       "    </tr>\n",
       "    <tr>\n",
       "      <th>Savena</th>\n",
       "      <td>69.626016</td>\n",
       "      <td>0.805888</td>\n",
       "    </tr>\n",
       "  </tbody>\n",
       "</table>\n",
       "</div>"
      ],
      "text/plain": [
       "                              price  reviews_per_month\n",
       "neighbourhood                                         \n",
       "Borgo Panigale - Reno     83.020548           0.983488\n",
       "Navile                   142.200993           1.156745\n",
       "Porto - Saragozza        129.908312           1.340325\n",
       "San Donato - San Vitale   91.618138           0.933011\n",
       "Santo Stefano            119.441841           1.344810\n",
       "Savena                    69.626016           0.805888"
      ]
     },
     "execution_count": 60,
     "metadata": {},
     "output_type": "execute_result"
    }
   ],
   "source": [
    "df_listings.groupby('neighbourhood')[['price', 'reviews_per_month']].mean()"
   ]
  },
  {
   "cell_type": "markdown",
   "metadata": {},
   "source": [
    "Se você quiser executar mais de uma função, talvez em colunas diferentes, você pode usar `.aggregate()`, que pode ser abreviado para `.agg()`. Ele recebe como argumento um dicionário com variáveis ​​como chaves e listas de funções como valores."
   ]
  },
  {
   "cell_type": "code",
   "execution_count": 61,
   "metadata": {},
   "outputs": [
    {
     "data": {
      "application/vnd.microsoft.datawrangler.viewer.v0+json": {
       "columns": [
        {
         "name": "index",
         "rawType": "int64",
         "type": "integer"
        },
        {
         "name": "('neighbourhood', '')",
         "rawType": "object",
         "type": "string"
        },
        {
         "name": "('reviews_per_month', 'mean')",
         "rawType": "float64",
         "type": "float"
        },
        {
         "name": "('price', 'min')",
         "rawType": "int64",
         "type": "integer"
        },
        {
         "name": "('price', 'amax')",
         "rawType": "int64",
         "type": "integer"
        }
       ],
       "conversionMethod": "pd.DataFrame",
       "ref": "934fc612-9537-4346-8c8e-b08bcc41d3d4",
       "rows": [
        [
         "0",
         "Borgo Panigale - Reno",
         "0.9834883720930233",
         "9",
         "1429"
        ],
        [
         "1",
         "Navile",
         "1.1567448680351906",
         "14",
         "5000"
        ],
        [
         "2",
         "Porto - Saragozza",
         "1.3403253588516748",
         "7",
         "9999"
        ],
        [
         "3",
         "San Donato - San Vitale",
         "0.933010752688172",
         "10",
         "1600"
        ],
        [
         "4",
         "Santo Stefano",
         "1.3448095238095237",
         "11",
         "9999"
        ],
        [
         "5",
         "Savena",
         "0.8058878504672897",
         "9",
         "680"
        ]
       ],
       "shape": {
        "columns": 4,
        "rows": 6
       }
      },
      "text/html": [
       "<div>\n",
       "<style scoped>\n",
       "    .dataframe tbody tr th:only-of-type {\n",
       "        vertical-align: middle;\n",
       "    }\n",
       "\n",
       "    .dataframe tbody tr th {\n",
       "        vertical-align: top;\n",
       "    }\n",
       "\n",
       "    .dataframe thead tr th {\n",
       "        text-align: left;\n",
       "    }\n",
       "</style>\n",
       "<table border=\"1\" class=\"dataframe\">\n",
       "  <thead>\n",
       "    <tr>\n",
       "      <th></th>\n",
       "      <th>neighbourhood</th>\n",
       "      <th>reviews_per_month</th>\n",
       "      <th colspan=\"2\" halign=\"left\">price</th>\n",
       "    </tr>\n",
       "    <tr>\n",
       "      <th></th>\n",
       "      <th></th>\n",
       "      <th>mean</th>\n",
       "      <th>min</th>\n",
       "      <th>amax</th>\n",
       "    </tr>\n",
       "  </thead>\n",
       "  <tbody>\n",
       "    <tr>\n",
       "      <th>0</th>\n",
       "      <td>Borgo Panigale - Reno</td>\n",
       "      <td>0.983488</td>\n",
       "      <td>9</td>\n",
       "      <td>1429</td>\n",
       "    </tr>\n",
       "    <tr>\n",
       "      <th>1</th>\n",
       "      <td>Navile</td>\n",
       "      <td>1.156745</td>\n",
       "      <td>14</td>\n",
       "      <td>5000</td>\n",
       "    </tr>\n",
       "    <tr>\n",
       "      <th>2</th>\n",
       "      <td>Porto - Saragozza</td>\n",
       "      <td>1.340325</td>\n",
       "      <td>7</td>\n",
       "      <td>9999</td>\n",
       "    </tr>\n",
       "    <tr>\n",
       "      <th>3</th>\n",
       "      <td>San Donato - San Vitale</td>\n",
       "      <td>0.933011</td>\n",
       "      <td>10</td>\n",
       "      <td>1600</td>\n",
       "    </tr>\n",
       "    <tr>\n",
       "      <th>4</th>\n",
       "      <td>Santo Stefano</td>\n",
       "      <td>1.344810</td>\n",
       "      <td>11</td>\n",
       "      <td>9999</td>\n",
       "    </tr>\n",
       "    <tr>\n",
       "      <th>5</th>\n",
       "      <td>Savena</td>\n",
       "      <td>0.805888</td>\n",
       "      <td>9</td>\n",
       "      <td>680</td>\n",
       "    </tr>\n",
       "  </tbody>\n",
       "</table>\n",
       "</div>"
      ],
      "text/plain": [
       "             neighbourhood reviews_per_month price      \n",
       "                                        mean   min  amax\n",
       "0    Borgo Panigale - Reno          0.983488     9  1429\n",
       "1                   Navile          1.156745    14  5000\n",
       "2        Porto - Saragozza          1.340325     7  9999\n",
       "3  San Donato - San Vitale          0.933011    10  1600\n",
       "4            Santo Stefano          1.344810    11  9999\n",
       "5                   Savena          0.805888     9   680"
      ]
     },
     "execution_count": 61,
     "metadata": {},
     "output_type": "execute_result"
    }
   ],
   "source": [
    "df_listings.groupby('neighbourhood').agg({\"reviews_per_month\": [\"mean\"],\n",
    "                                          \"price\": [\"min\", np.max]}).reset_index()"
   ]
  },
  {
   "cell_type": "markdown",
   "metadata": {},
   "source": [
    "O problema com essa sintaxe é que ela gera uma estrutura hierárquica para nomes de variáveis, o que pode não ser tão fácil de trabalhar. No exemplo acima, para acessar o preço médio, você tem que usar `df.price[\"min\"]`.\n",
    "\n",
    "Para executar a nomenclatura e agregação de variáveis ​​ao mesmo tempo, você pode usar a seguinte sintaxe: `agg(output_var = (\"input_var\", function))`."
   ]
  },
  {
   "cell_type": "code",
   "execution_count": 62,
   "metadata": {},
   "outputs": [
    {
     "data": {
      "application/vnd.microsoft.datawrangler.viewer.v0+json": {
       "columns": [
        {
         "name": "index",
         "rawType": "int64",
         "type": "integer"
        },
        {
         "name": "neighbourhood",
         "rawType": "object",
         "type": "string"
        },
        {
         "name": "mean_reviews",
         "rawType": "float64",
         "type": "float"
        },
        {
         "name": "min_price",
         "rawType": "int64",
         "type": "integer"
        },
        {
         "name": "max_price",
         "rawType": "int64",
         "type": "integer"
        }
       ],
       "conversionMethod": "pd.DataFrame",
       "ref": "7f687504-0687-4bcb-8e50-bf4d7d91c18b",
       "rows": [
        [
         "0",
         "Borgo Panigale - Reno",
         "0.9834883720930233",
         "9",
         "1429"
        ],
        [
         "1",
         "Navile",
         "1.1567448680351906",
         "14",
         "5000"
        ],
        [
         "2",
         "Porto - Saragozza",
         "1.3403253588516748",
         "7",
         "9999"
        ],
        [
         "3",
         "San Donato - San Vitale",
         "0.933010752688172",
         "10",
         "1600"
        ],
        [
         "4",
         "Santo Stefano",
         "1.3448095238095237",
         "11",
         "9999"
        ],
        [
         "5",
         "Savena",
         "0.8058878504672897",
         "9",
         "680"
        ]
       ],
       "shape": {
        "columns": 4,
        "rows": 6
       }
      },
      "text/html": [
       "<div>\n",
       "<style scoped>\n",
       "    .dataframe tbody tr th:only-of-type {\n",
       "        vertical-align: middle;\n",
       "    }\n",
       "\n",
       "    .dataframe tbody tr th {\n",
       "        vertical-align: top;\n",
       "    }\n",
       "\n",
       "    .dataframe thead th {\n",
       "        text-align: right;\n",
       "    }\n",
       "</style>\n",
       "<table border=\"1\" class=\"dataframe\">\n",
       "  <thead>\n",
       "    <tr style=\"text-align: right;\">\n",
       "      <th></th>\n",
       "      <th>neighbourhood</th>\n",
       "      <th>mean_reviews</th>\n",
       "      <th>min_price</th>\n",
       "      <th>max_price</th>\n",
       "    </tr>\n",
       "  </thead>\n",
       "  <tbody>\n",
       "    <tr>\n",
       "      <th>0</th>\n",
       "      <td>Borgo Panigale - Reno</td>\n",
       "      <td>0.983488</td>\n",
       "      <td>9</td>\n",
       "      <td>1429</td>\n",
       "    </tr>\n",
       "    <tr>\n",
       "      <th>1</th>\n",
       "      <td>Navile</td>\n",
       "      <td>1.156745</td>\n",
       "      <td>14</td>\n",
       "      <td>5000</td>\n",
       "    </tr>\n",
       "    <tr>\n",
       "      <th>2</th>\n",
       "      <td>Porto - Saragozza</td>\n",
       "      <td>1.340325</td>\n",
       "      <td>7</td>\n",
       "      <td>9999</td>\n",
       "    </tr>\n",
       "    <tr>\n",
       "      <th>3</th>\n",
       "      <td>San Donato - San Vitale</td>\n",
       "      <td>0.933011</td>\n",
       "      <td>10</td>\n",
       "      <td>1600</td>\n",
       "    </tr>\n",
       "    <tr>\n",
       "      <th>4</th>\n",
       "      <td>Santo Stefano</td>\n",
       "      <td>1.344810</td>\n",
       "      <td>11</td>\n",
       "      <td>9999</td>\n",
       "    </tr>\n",
       "    <tr>\n",
       "      <th>5</th>\n",
       "      <td>Savena</td>\n",
       "      <td>0.805888</td>\n",
       "      <td>9</td>\n",
       "      <td>680</td>\n",
       "    </tr>\n",
       "  </tbody>\n",
       "</table>\n",
       "</div>"
      ],
      "text/plain": [
       "             neighbourhood  mean_reviews  min_price  max_price\n",
       "0    Borgo Panigale - Reno      0.983488          9       1429\n",
       "1                   Navile      1.156745         14       5000\n",
       "2        Porto - Saragozza      1.340325          7       9999\n",
       "3  San Donato - San Vitale      0.933011         10       1600\n",
       "4            Santo Stefano      1.344810         11       9999\n",
       "5                   Savena      0.805888          9        680"
      ]
     },
     "execution_count": 62,
     "metadata": {},
     "output_type": "execute_result"
    }
   ],
   "source": [
    "df_listings.groupby('neighbourhood').agg(mean_reviews=(\"reviews_per_month\", \"mean\"),\n",
    "                                         min_price=(\"price\", \"min\"),\n",
    "                                         max_price=(\"price\", np.max)).reset_index()"
   ]
  },
  {
   "cell_type": "markdown",
   "metadata": {},
   "source": [
    "Podemos fazer tabelas dinâmicas com a .pivot_table()função. Ela recebe os seguintes argumentos:\n",
    "\n",
    "* **index**: linhas\n",
    "* **columns**: colunas\n",
    "* **values**: valores\n",
    "* **aggfunc**: função de agregação\n",
    "\n"
   ]
  },
  {
   "cell_type": "code",
   "execution_count": 63,
   "metadata": {},
   "outputs": [
    {
     "data": {
      "application/vnd.microsoft.datawrangler.viewer.v0+json": {
       "columns": [
        {
         "name": "neighbourhood",
         "rawType": "object",
         "type": "string"
        },
        {
         "name": "Entire home/apt",
         "rawType": "float64",
         "type": "float"
        },
        {
         "name": "Hotel room",
         "rawType": "float64",
         "type": "float"
        },
        {
         "name": "Private room",
         "rawType": "float64",
         "type": "float"
        },
        {
         "name": "Shared room",
         "rawType": "float64",
         "type": "float"
        }
       ],
       "conversionMethod": "pd.DataFrame",
       "ref": "fb4b2cb0-a883-4148-b578-b9a7c2ae8c87",
       "rows": [
        [
         "Borgo Panigale - Reno",
         "96.70093457943925",
         null,
         "45.48717948717949",
         null
        ],
        [
         "Navile",
         "172.14",
         "1350.0",
         "68.41610738255034",
         "28.0"
        ],
        [
         "Porto - Saragozza",
         "148.41092636579572",
         "102.375",
         "83.07023411371237",
         "16.5"
        ],
        [
         "San Donato - San Vitale",
         "106.775",
         "55.0",
         "61.19402985074627",
         "59.0"
        ],
        [
         "Santo Stefano",
         "129.99025974025975",
         "103.82758620689656",
         "80.73417721518987",
         "95.4"
        ],
        [
         "Savena",
         "86.3013698630137",
         null,
         "46.229166666666664",
         "22.5"
        ]
       ],
       "shape": {
        "columns": 4,
        "rows": 6
       }
      },
      "text/html": [
       "<div>\n",
       "<style scoped>\n",
       "    .dataframe tbody tr th:only-of-type {\n",
       "        vertical-align: middle;\n",
       "    }\n",
       "\n",
       "    .dataframe tbody tr th {\n",
       "        vertical-align: top;\n",
       "    }\n",
       "\n",
       "    .dataframe thead th {\n",
       "        text-align: right;\n",
       "    }\n",
       "</style>\n",
       "<table border=\"1\" class=\"dataframe\">\n",
       "  <thead>\n",
       "    <tr style=\"text-align: right;\">\n",
       "      <th>room_type</th>\n",
       "      <th>Entire home/apt</th>\n",
       "      <th>Hotel room</th>\n",
       "      <th>Private room</th>\n",
       "      <th>Shared room</th>\n",
       "    </tr>\n",
       "    <tr>\n",
       "      <th>neighbourhood</th>\n",
       "      <th></th>\n",
       "      <th></th>\n",
       "      <th></th>\n",
       "      <th></th>\n",
       "    </tr>\n",
       "  </thead>\n",
       "  <tbody>\n",
       "    <tr>\n",
       "      <th>Borgo Panigale - Reno</th>\n",
       "      <td>96.700935</td>\n",
       "      <td>NaN</td>\n",
       "      <td>45.487179</td>\n",
       "      <td>NaN</td>\n",
       "    </tr>\n",
       "    <tr>\n",
       "      <th>Navile</th>\n",
       "      <td>172.140000</td>\n",
       "      <td>1350.000000</td>\n",
       "      <td>68.416107</td>\n",
       "      <td>28.0</td>\n",
       "    </tr>\n",
       "    <tr>\n",
       "      <th>Porto - Saragozza</th>\n",
       "      <td>148.410926</td>\n",
       "      <td>102.375000</td>\n",
       "      <td>83.070234</td>\n",
       "      <td>16.5</td>\n",
       "    </tr>\n",
       "    <tr>\n",
       "      <th>San Donato - San Vitale</th>\n",
       "      <td>106.775000</td>\n",
       "      <td>55.000000</td>\n",
       "      <td>61.194030</td>\n",
       "      <td>59.0</td>\n",
       "    </tr>\n",
       "    <tr>\n",
       "      <th>Santo Stefano</th>\n",
       "      <td>129.990260</td>\n",
       "      <td>103.827586</td>\n",
       "      <td>80.734177</td>\n",
       "      <td>95.4</td>\n",
       "    </tr>\n",
       "    <tr>\n",
       "      <th>Savena</th>\n",
       "      <td>86.301370</td>\n",
       "      <td>NaN</td>\n",
       "      <td>46.229167</td>\n",
       "      <td>22.5</td>\n",
       "    </tr>\n",
       "  </tbody>\n",
       "</table>\n",
       "</div>"
      ],
      "text/plain": [
       "room_type                Entire home/apt   Hotel room  Private room  \\\n",
       "neighbourhood                                                         \n",
       "Borgo Panigale - Reno          96.700935          NaN     45.487179   \n",
       "Navile                        172.140000  1350.000000     68.416107   \n",
       "Porto - Saragozza             148.410926   102.375000     83.070234   \n",
       "San Donato - San Vitale       106.775000    55.000000     61.194030   \n",
       "Santo Stefano                 129.990260   103.827586     80.734177   \n",
       "Savena                         86.301370          NaN     46.229167   \n",
       "\n",
       "room_type                Shared room  \n",
       "neighbourhood                         \n",
       "Borgo Panigale - Reno            NaN  \n",
       "Navile                          28.0  \n",
       "Porto - Saragozza               16.5  \n",
       "San Donato - San Vitale         59.0  \n",
       "Santo Stefano                   95.4  \n",
       "Savena                          22.5  "
      ]
     },
     "execution_count": 63,
     "metadata": {},
     "output_type": "execute_result"
    }
   ],
   "source": [
    "df_listings.pivot_table(index='neighbourhood', columns='room_type', values='price', aggfunc='mean')"
   ]
  },
  {
   "cell_type": "markdown",
   "metadata": {},
   "source": [
    "# Uma Aplicação Voltada à Pesquisa"
   ]
  },
  {
   "cell_type": "markdown",
   "metadata": {},
   "source": [
    "A ideia dessa seção é nos aproximarmos do uso da programação em python no contexto de pesquisa. Ainda é um exemplo simples, mas que será bastante útil no futuro."
   ]
  },
  {
   "cell_type": "markdown",
   "metadata": {},
   "source": [
    "### Carregando o DataFrame\n",
    "\n",
    "Vamos carregar uma base de dados \"cattaneo2.dta\" sobre peso dos bebês ao nascer, características das mães durante a gestação, dos pais, etc.\n",
    "\n",
    "Como os dados estão salvos em um arquivo Stata, precisamos importar a biblioteca `pandas` e a função `pd.read_stata()`."
   ]
  },
  {
   "cell_type": "code",
   "execution_count": 2,
   "metadata": {},
   "outputs": [],
   "source": [
    "import pandas as pd\n",
    "\n",
    "# DataFrame\n",
    "df = pd.read_stata(\"https://github.com/Daniel-Uhr/data/raw/main/cattaneo2.dta\")"
   ]
  },
  {
   "cell_type": "markdown",
   "metadata": {},
   "source": [
    "### Explorando o DataFrame\n",
    "\n",
    "Vamos observar as primeiras linhas do DataFrame usando o método `head()`."
   ]
  },
  {
   "cell_type": "code",
   "execution_count": 44,
   "metadata": {},
   "outputs": [
    {
     "data": {
      "application/vnd.microsoft.datawrangler.viewer.v0+json": {
       "columns": [
        {
         "name": "index",
         "rawType": "int64",
         "type": "integer"
        },
        {
         "name": "bweight",
         "rawType": "int16",
         "type": "integer"
        },
        {
         "name": "mmarried",
         "rawType": "category",
         "type": "unknown"
        },
        {
         "name": "mhisp",
         "rawType": "int8",
         "type": "integer"
        },
        {
         "name": "fhisp",
         "rawType": "int8",
         "type": "integer"
        },
        {
         "name": "foreign",
         "rawType": "int8",
         "type": "integer"
        },
        {
         "name": "alcohol",
         "rawType": "int8",
         "type": "integer"
        },
        {
         "name": "deadkids",
         "rawType": "int8",
         "type": "integer"
        },
        {
         "name": "mage",
         "rawType": "int8",
         "type": "integer"
        },
        {
         "name": "medu",
         "rawType": "int8",
         "type": "integer"
        },
        {
         "name": "fage",
         "rawType": "int8",
         "type": "integer"
        },
        {
         "name": "fedu",
         "rawType": "int8",
         "type": "integer"
        },
        {
         "name": "nprenatal",
         "rawType": "int8",
         "type": "integer"
        },
        {
         "name": "monthslb",
         "rawType": "int16",
         "type": "integer"
        },
        {
         "name": "order",
         "rawType": "int8",
         "type": "integer"
        },
        {
         "name": "msmoke",
         "rawType": "category",
         "type": "unknown"
        },
        {
         "name": "mbsmoke",
         "rawType": "category",
         "type": "unknown"
        },
        {
         "name": "mrace",
         "rawType": "int8",
         "type": "integer"
        },
        {
         "name": "frace",
         "rawType": "int8",
         "type": "integer"
        },
        {
         "name": "prenatal",
         "rawType": "int8",
         "type": "integer"
        },
        {
         "name": "birthmonth",
         "rawType": "int8",
         "type": "integer"
        },
        {
         "name": "lbweight",
         "rawType": "int8",
         "type": "integer"
        },
        {
         "name": "fbaby",
         "rawType": "category",
         "type": "unknown"
        },
        {
         "name": "prenatal1",
         "rawType": "category",
         "type": "unknown"
        },
        {
         "name": "Y",
         "rawType": "int16",
         "type": "integer"
        },
        {
         "name": "Treated",
         "rawType": "int64",
         "type": "integer"
        },
        {
         "name": "X1",
         "rawType": "int8",
         "type": "integer"
        },
        {
         "name": "X2",
         "rawType": "int8",
         "type": "integer"
        },
        {
         "name": "X3",
         "rawType": "int8",
         "type": "integer"
        },
        {
         "name": "X4",
         "rawType": "int8",
         "type": "integer"
        }
       ],
       "conversionMethod": "pd.DataFrame",
       "ref": "c8413c4c-af3f-4186-a521-ca03e4ffe067",
       "rows": [
        [
         "0",
         "3459",
         "married",
         "0",
         "0",
         "0",
         "0",
         "0",
         "24",
         "14",
         "28",
         "16",
         "10",
         "30",
         "2",
         "0 daily",
         "nonsmoker",
         "1",
         "1",
         "1",
         "12",
         "0",
         "No",
         "Yes",
         "3459",
         "0",
         "24",
         "14",
         "28",
         "16"
        ],
        [
         "1",
         "3260",
         "notmarried",
         "0",
         "0",
         "1",
         "0",
         "0",
         "20",
         "10",
         "0",
         "0",
         "6",
         "42",
         "3",
         "0 daily",
         "nonsmoker",
         "0",
         "0",
         "1",
         "7",
         "0",
         "No",
         "Yes",
         "3260",
         "0",
         "20",
         "10",
         "0",
         "0"
        ],
        [
         "2",
         "3572",
         "married",
         "0",
         "0",
         "1",
         "0",
         "0",
         "22",
         "9",
         "30",
         "9",
         "10",
         "17",
         "3",
         "0 daily",
         "nonsmoker",
         "1",
         "1",
         "1",
         "3",
         "0",
         "No",
         "Yes",
         "3572",
         "0",
         "22",
         "9",
         "30",
         "9"
        ],
        [
         "3",
         "2948",
         "married",
         "0",
         "0",
         "0",
         "0",
         "0",
         "26",
         "12",
         "30",
         "12",
         "10",
         "34",
         "2",
         "0 daily",
         "nonsmoker",
         "1",
         "1",
         "1",
         "1",
         "0",
         "No",
         "Yes",
         "2948",
         "0",
         "26",
         "12",
         "30",
         "12"
        ],
        [
         "4",
         "2410",
         "married",
         "0",
         "0",
         "0",
         "0",
         "0",
         "20",
         "12",
         "21",
         "14",
         "12",
         "0",
         "1",
         "0 daily",
         "nonsmoker",
         "1",
         "1",
         "1",
         "3",
         "1",
         "Yes",
         "Yes",
         "2410",
         "0",
         "20",
         "12",
         "21",
         "14"
        ],
        [
         "5",
         "3147",
         "notmarried",
         "0",
         "0",
         "0",
         "0",
         "0",
         "27",
         "12",
         "40",
         "12",
         "9",
         "0",
         "1",
         "0 daily",
         "nonsmoker",
         "1",
         "1",
         "1",
         "4",
         "0",
         "Yes",
         "Yes",
         "3147",
         "0",
         "27",
         "12",
         "40",
         "12"
        ],
        [
         "6",
         "3799",
         "married",
         "0",
         "0",
         "0",
         "0",
         "0",
         "27",
         "12",
         "29",
         "14",
         "16",
         "29",
         "3",
         "0 daily",
         "nonsmoker",
         "1",
         "1",
         "1",
         "12",
         "0",
         "No",
         "Yes",
         "3799",
         "0",
         "27",
         "12",
         "29",
         "14"
        ],
        [
         "7",
         "3629",
         "married",
         "0",
         "0",
         "0",
         "0",
         "0",
         "24",
         "12",
         "33",
         "12",
         "11",
         "0",
         "1",
         "0 daily",
         "nonsmoker",
         "1",
         "1",
         "1",
         "6",
         "0",
         "Yes",
         "Yes",
         "3629",
         "0",
         "24",
         "12",
         "33",
         "12"
        ],
        [
         "8",
         "2835",
         "married",
         "0",
         "0",
         "0",
         "0",
         "0",
         "21",
         "12",
         "24",
         "9",
         "20",
         "0",
         "1",
         "0 daily",
         "nonsmoker",
         "1",
         "1",
         "1",
         "6",
         "0",
         "Yes",
         "Yes",
         "2835",
         "0",
         "21",
         "12",
         "24",
         "9"
        ],
        [
         "9",
         "3880",
         "married",
         "0",
         "0",
         "0",
         "0",
         "0",
         "30",
         "15",
         "33",
         "15",
         "9",
         "27",
         "2",
         "0 daily",
         "nonsmoker",
         "1",
         "1",
         "1",
         "12",
         "0",
         "No",
         "Yes",
         "3880",
         "0",
         "30",
         "15",
         "33",
         "15"
        ]
       ],
       "shape": {
        "columns": 29,
        "rows": 10
       }
      },
      "text/html": [
       "<div>\n",
       "<style scoped>\n",
       "    .dataframe tbody tr th:only-of-type {\n",
       "        vertical-align: middle;\n",
       "    }\n",
       "\n",
       "    .dataframe tbody tr th {\n",
       "        vertical-align: top;\n",
       "    }\n",
       "\n",
       "    .dataframe thead th {\n",
       "        text-align: right;\n",
       "    }\n",
       "</style>\n",
       "<table border=\"1\" class=\"dataframe\">\n",
       "  <thead>\n",
       "    <tr style=\"text-align: right;\">\n",
       "      <th></th>\n",
       "      <th>bweight</th>\n",
       "      <th>mmarried</th>\n",
       "      <th>mhisp</th>\n",
       "      <th>fhisp</th>\n",
       "      <th>foreign</th>\n",
       "      <th>alcohol</th>\n",
       "      <th>deadkids</th>\n",
       "      <th>mage</th>\n",
       "      <th>medu</th>\n",
       "      <th>fage</th>\n",
       "      <th>...</th>\n",
       "      <th>birthmonth</th>\n",
       "      <th>lbweight</th>\n",
       "      <th>fbaby</th>\n",
       "      <th>prenatal1</th>\n",
       "      <th>Y</th>\n",
       "      <th>Treated</th>\n",
       "      <th>X1</th>\n",
       "      <th>X2</th>\n",
       "      <th>X3</th>\n",
       "      <th>X4</th>\n",
       "    </tr>\n",
       "  </thead>\n",
       "  <tbody>\n",
       "    <tr>\n",
       "      <th>0</th>\n",
       "      <td>3459</td>\n",
       "      <td>married</td>\n",
       "      <td>0</td>\n",
       "      <td>0</td>\n",
       "      <td>0</td>\n",
       "      <td>0</td>\n",
       "      <td>0</td>\n",
       "      <td>24</td>\n",
       "      <td>14</td>\n",
       "      <td>28</td>\n",
       "      <td>...</td>\n",
       "      <td>12</td>\n",
       "      <td>0</td>\n",
       "      <td>No</td>\n",
       "      <td>Yes</td>\n",
       "      <td>3459</td>\n",
       "      <td>0</td>\n",
       "      <td>24</td>\n",
       "      <td>14</td>\n",
       "      <td>28</td>\n",
       "      <td>16</td>\n",
       "    </tr>\n",
       "    <tr>\n",
       "      <th>1</th>\n",
       "      <td>3260</td>\n",
       "      <td>notmarried</td>\n",
       "      <td>0</td>\n",
       "      <td>0</td>\n",
       "      <td>1</td>\n",
       "      <td>0</td>\n",
       "      <td>0</td>\n",
       "      <td>20</td>\n",
       "      <td>10</td>\n",
       "      <td>0</td>\n",
       "      <td>...</td>\n",
       "      <td>7</td>\n",
       "      <td>0</td>\n",
       "      <td>No</td>\n",
       "      <td>Yes</td>\n",
       "      <td>3260</td>\n",
       "      <td>0</td>\n",
       "      <td>20</td>\n",
       "      <td>10</td>\n",
       "      <td>0</td>\n",
       "      <td>0</td>\n",
       "    </tr>\n",
       "    <tr>\n",
       "      <th>2</th>\n",
       "      <td>3572</td>\n",
       "      <td>married</td>\n",
       "      <td>0</td>\n",
       "      <td>0</td>\n",
       "      <td>1</td>\n",
       "      <td>0</td>\n",
       "      <td>0</td>\n",
       "      <td>22</td>\n",
       "      <td>9</td>\n",
       "      <td>30</td>\n",
       "      <td>...</td>\n",
       "      <td>3</td>\n",
       "      <td>0</td>\n",
       "      <td>No</td>\n",
       "      <td>Yes</td>\n",
       "      <td>3572</td>\n",
       "      <td>0</td>\n",
       "      <td>22</td>\n",
       "      <td>9</td>\n",
       "      <td>30</td>\n",
       "      <td>9</td>\n",
       "    </tr>\n",
       "    <tr>\n",
       "      <th>3</th>\n",
       "      <td>2948</td>\n",
       "      <td>married</td>\n",
       "      <td>0</td>\n",
       "      <td>0</td>\n",
       "      <td>0</td>\n",
       "      <td>0</td>\n",
       "      <td>0</td>\n",
       "      <td>26</td>\n",
       "      <td>12</td>\n",
       "      <td>30</td>\n",
       "      <td>...</td>\n",
       "      <td>1</td>\n",
       "      <td>0</td>\n",
       "      <td>No</td>\n",
       "      <td>Yes</td>\n",
       "      <td>2948</td>\n",
       "      <td>0</td>\n",
       "      <td>26</td>\n",
       "      <td>12</td>\n",
       "      <td>30</td>\n",
       "      <td>12</td>\n",
       "    </tr>\n",
       "    <tr>\n",
       "      <th>4</th>\n",
       "      <td>2410</td>\n",
       "      <td>married</td>\n",
       "      <td>0</td>\n",
       "      <td>0</td>\n",
       "      <td>0</td>\n",
       "      <td>0</td>\n",
       "      <td>0</td>\n",
       "      <td>20</td>\n",
       "      <td>12</td>\n",
       "      <td>21</td>\n",
       "      <td>...</td>\n",
       "      <td>3</td>\n",
       "      <td>1</td>\n",
       "      <td>Yes</td>\n",
       "      <td>Yes</td>\n",
       "      <td>2410</td>\n",
       "      <td>0</td>\n",
       "      <td>20</td>\n",
       "      <td>12</td>\n",
       "      <td>21</td>\n",
       "      <td>14</td>\n",
       "    </tr>\n",
       "    <tr>\n",
       "      <th>5</th>\n",
       "      <td>3147</td>\n",
       "      <td>notmarried</td>\n",
       "      <td>0</td>\n",
       "      <td>0</td>\n",
       "      <td>0</td>\n",
       "      <td>0</td>\n",
       "      <td>0</td>\n",
       "      <td>27</td>\n",
       "      <td>12</td>\n",
       "      <td>40</td>\n",
       "      <td>...</td>\n",
       "      <td>4</td>\n",
       "      <td>0</td>\n",
       "      <td>Yes</td>\n",
       "      <td>Yes</td>\n",
       "      <td>3147</td>\n",
       "      <td>0</td>\n",
       "      <td>27</td>\n",
       "      <td>12</td>\n",
       "      <td>40</td>\n",
       "      <td>12</td>\n",
       "    </tr>\n",
       "    <tr>\n",
       "      <th>6</th>\n",
       "      <td>3799</td>\n",
       "      <td>married</td>\n",
       "      <td>0</td>\n",
       "      <td>0</td>\n",
       "      <td>0</td>\n",
       "      <td>0</td>\n",
       "      <td>0</td>\n",
       "      <td>27</td>\n",
       "      <td>12</td>\n",
       "      <td>29</td>\n",
       "      <td>...</td>\n",
       "      <td>12</td>\n",
       "      <td>0</td>\n",
       "      <td>No</td>\n",
       "      <td>Yes</td>\n",
       "      <td>3799</td>\n",
       "      <td>0</td>\n",
       "      <td>27</td>\n",
       "      <td>12</td>\n",
       "      <td>29</td>\n",
       "      <td>14</td>\n",
       "    </tr>\n",
       "    <tr>\n",
       "      <th>7</th>\n",
       "      <td>3629</td>\n",
       "      <td>married</td>\n",
       "      <td>0</td>\n",
       "      <td>0</td>\n",
       "      <td>0</td>\n",
       "      <td>0</td>\n",
       "      <td>0</td>\n",
       "      <td>24</td>\n",
       "      <td>12</td>\n",
       "      <td>33</td>\n",
       "      <td>...</td>\n",
       "      <td>6</td>\n",
       "      <td>0</td>\n",
       "      <td>Yes</td>\n",
       "      <td>Yes</td>\n",
       "      <td>3629</td>\n",
       "      <td>0</td>\n",
       "      <td>24</td>\n",
       "      <td>12</td>\n",
       "      <td>33</td>\n",
       "      <td>12</td>\n",
       "    </tr>\n",
       "    <tr>\n",
       "      <th>8</th>\n",
       "      <td>2835</td>\n",
       "      <td>married</td>\n",
       "      <td>0</td>\n",
       "      <td>0</td>\n",
       "      <td>0</td>\n",
       "      <td>0</td>\n",
       "      <td>0</td>\n",
       "      <td>21</td>\n",
       "      <td>12</td>\n",
       "      <td>24</td>\n",
       "      <td>...</td>\n",
       "      <td>6</td>\n",
       "      <td>0</td>\n",
       "      <td>Yes</td>\n",
       "      <td>Yes</td>\n",
       "      <td>2835</td>\n",
       "      <td>0</td>\n",
       "      <td>21</td>\n",
       "      <td>12</td>\n",
       "      <td>24</td>\n",
       "      <td>9</td>\n",
       "    </tr>\n",
       "    <tr>\n",
       "      <th>9</th>\n",
       "      <td>3880</td>\n",
       "      <td>married</td>\n",
       "      <td>0</td>\n",
       "      <td>0</td>\n",
       "      <td>0</td>\n",
       "      <td>0</td>\n",
       "      <td>0</td>\n",
       "      <td>30</td>\n",
       "      <td>15</td>\n",
       "      <td>33</td>\n",
       "      <td>...</td>\n",
       "      <td>12</td>\n",
       "      <td>0</td>\n",
       "      <td>No</td>\n",
       "      <td>Yes</td>\n",
       "      <td>3880</td>\n",
       "      <td>0</td>\n",
       "      <td>30</td>\n",
       "      <td>15</td>\n",
       "      <td>33</td>\n",
       "      <td>15</td>\n",
       "    </tr>\n",
       "  </tbody>\n",
       "</table>\n",
       "<p>10 rows × 29 columns</p>\n",
       "</div>"
      ],
      "text/plain": [
       "   bweight    mmarried  mhisp  fhisp  foreign  alcohol  deadkids  mage  medu  \\\n",
       "0     3459     married      0      0        0        0         0    24    14   \n",
       "1     3260  notmarried      0      0        1        0         0    20    10   \n",
       "2     3572     married      0      0        1        0         0    22     9   \n",
       "3     2948     married      0      0        0        0         0    26    12   \n",
       "4     2410     married      0      0        0        0         0    20    12   \n",
       "5     3147  notmarried      0      0        0        0         0    27    12   \n",
       "6     3799     married      0      0        0        0         0    27    12   \n",
       "7     3629     married      0      0        0        0         0    24    12   \n",
       "8     2835     married      0      0        0        0         0    21    12   \n",
       "9     3880     married      0      0        0        0         0    30    15   \n",
       "\n",
       "   fage  ...  birthmonth  lbweight  fbaby  prenatal1     Y Treated  X1  X2  \\\n",
       "0    28  ...          12         0     No        Yes  3459       0  24  14   \n",
       "1     0  ...           7         0     No        Yes  3260       0  20  10   \n",
       "2    30  ...           3         0     No        Yes  3572       0  22   9   \n",
       "3    30  ...           1         0     No        Yes  2948       0  26  12   \n",
       "4    21  ...           3         1    Yes        Yes  2410       0  20  12   \n",
       "5    40  ...           4         0    Yes        Yes  3147       0  27  12   \n",
       "6    29  ...          12         0     No        Yes  3799       0  27  12   \n",
       "7    33  ...           6         0    Yes        Yes  3629       0  24  12   \n",
       "8    24  ...           6         0    Yes        Yes  2835       0  21  12   \n",
       "9    33  ...          12         0     No        Yes  3880       0  30  15   \n",
       "\n",
       "   X3  X4  \n",
       "0  28  16  \n",
       "1   0   0  \n",
       "2  30   9  \n",
       "3  30  12  \n",
       "4  21  14  \n",
       "5  40  12  \n",
       "6  29  14  \n",
       "7  33  12  \n",
       "8  24   9  \n",
       "9  33  15  \n",
       "\n",
       "[10 rows x 29 columns]"
      ]
     },
     "execution_count": 44,
     "metadata": {},
     "output_type": "execute_result"
    }
   ],
   "source": [
    "df.head(10)"
   ]
  },
  {
   "cell_type": "markdown",
   "metadata": {},
   "source": [
    "Vamos adicionar no mesmo dataframe, outras variáveis que serão úteis para a análise."
   ]
  },
  {
   "cell_type": "code",
   "execution_count": 45,
   "metadata": {},
   "outputs": [],
   "source": [
    "# Ajustando as variáveis\n",
    "# Criar a variável de resultado\n",
    "df['Y'] = df['bweight']\n",
    "\n",
    "# Criar a variável de tratamento 'Treated' com valor inicial de 0\n",
    "df['Treated'] = 0\n",
    "# Recodificar a variável de tratamento 'Treated' para 1 se 'mbsmoke' for igual a 'smoker'\n",
    "df.loc[df['mbsmoke'] == 'smoker', 'Treated'] = 1\n",
    "\n",
    "# Criar as variáveis de controle/covariáveis\n",
    "df['X1'] = df['mage']\n",
    "df['X2'] = df['medu']\n",
    "df['X3'] = df['fage']\n",
    "df['X4'] = df['fedu']"
   ]
  },
  {
   "cell_type": "markdown",
   "metadata": {},
   "source": [
    "Repare que as variáveis são adicionadas ao DataFrame original."
   ]
  },
  {
   "cell_type": "code",
   "execution_count": 46,
   "metadata": {},
   "outputs": [
    {
     "data": {
      "application/vnd.microsoft.datawrangler.viewer.v0+json": {
       "columns": [
        {
         "name": "index",
         "rawType": "int64",
         "type": "integer"
        },
        {
         "name": "bweight",
         "rawType": "int16",
         "type": "integer"
        },
        {
         "name": "mmarried",
         "rawType": "category",
         "type": "unknown"
        },
        {
         "name": "mhisp",
         "rawType": "int8",
         "type": "integer"
        },
        {
         "name": "fhisp",
         "rawType": "int8",
         "type": "integer"
        },
        {
         "name": "foreign",
         "rawType": "int8",
         "type": "integer"
        },
        {
         "name": "alcohol",
         "rawType": "int8",
         "type": "integer"
        },
        {
         "name": "deadkids",
         "rawType": "int8",
         "type": "integer"
        },
        {
         "name": "mage",
         "rawType": "int8",
         "type": "integer"
        },
        {
         "name": "medu",
         "rawType": "int8",
         "type": "integer"
        },
        {
         "name": "fage",
         "rawType": "int8",
         "type": "integer"
        },
        {
         "name": "fedu",
         "rawType": "int8",
         "type": "integer"
        },
        {
         "name": "nprenatal",
         "rawType": "int8",
         "type": "integer"
        },
        {
         "name": "monthslb",
         "rawType": "int16",
         "type": "integer"
        },
        {
         "name": "order",
         "rawType": "int8",
         "type": "integer"
        },
        {
         "name": "msmoke",
         "rawType": "category",
         "type": "unknown"
        },
        {
         "name": "mbsmoke",
         "rawType": "category",
         "type": "unknown"
        },
        {
         "name": "mrace",
         "rawType": "int8",
         "type": "integer"
        },
        {
         "name": "frace",
         "rawType": "int8",
         "type": "integer"
        },
        {
         "name": "prenatal",
         "rawType": "int8",
         "type": "integer"
        },
        {
         "name": "birthmonth",
         "rawType": "int8",
         "type": "integer"
        },
        {
         "name": "lbweight",
         "rawType": "int8",
         "type": "integer"
        },
        {
         "name": "fbaby",
         "rawType": "category",
         "type": "unknown"
        },
        {
         "name": "prenatal1",
         "rawType": "category",
         "type": "unknown"
        },
        {
         "name": "Y",
         "rawType": "int16",
         "type": "integer"
        },
        {
         "name": "Treated",
         "rawType": "int64",
         "type": "integer"
        },
        {
         "name": "X1",
         "rawType": "int8",
         "type": "integer"
        },
        {
         "name": "X2",
         "rawType": "int8",
         "type": "integer"
        },
        {
         "name": "X3",
         "rawType": "int8",
         "type": "integer"
        },
        {
         "name": "X4",
         "rawType": "int8",
         "type": "integer"
        }
       ],
       "conversionMethod": "pd.DataFrame",
       "ref": "d5d681f2-3e80-47ca-aff1-b5784e08bc32",
       "rows": [
        [
         "0",
         "3459",
         "married",
         "0",
         "0",
         "0",
         "0",
         "0",
         "24",
         "14",
         "28",
         "16",
         "10",
         "30",
         "2",
         "0 daily",
         "nonsmoker",
         "1",
         "1",
         "1",
         "12",
         "0",
         "No",
         "Yes",
         "3459",
         "0",
         "24",
         "14",
         "28",
         "16"
        ],
        [
         "1",
         "3260",
         "notmarried",
         "0",
         "0",
         "1",
         "0",
         "0",
         "20",
         "10",
         "0",
         "0",
         "6",
         "42",
         "3",
         "0 daily",
         "nonsmoker",
         "0",
         "0",
         "1",
         "7",
         "0",
         "No",
         "Yes",
         "3260",
         "0",
         "20",
         "10",
         "0",
         "0"
        ],
        [
         "2",
         "3572",
         "married",
         "0",
         "0",
         "1",
         "0",
         "0",
         "22",
         "9",
         "30",
         "9",
         "10",
         "17",
         "3",
         "0 daily",
         "nonsmoker",
         "1",
         "1",
         "1",
         "3",
         "0",
         "No",
         "Yes",
         "3572",
         "0",
         "22",
         "9",
         "30",
         "9"
        ],
        [
         "3",
         "2948",
         "married",
         "0",
         "0",
         "0",
         "0",
         "0",
         "26",
         "12",
         "30",
         "12",
         "10",
         "34",
         "2",
         "0 daily",
         "nonsmoker",
         "1",
         "1",
         "1",
         "1",
         "0",
         "No",
         "Yes",
         "2948",
         "0",
         "26",
         "12",
         "30",
         "12"
        ],
        [
         "4",
         "2410",
         "married",
         "0",
         "0",
         "0",
         "0",
         "0",
         "20",
         "12",
         "21",
         "14",
         "12",
         "0",
         "1",
         "0 daily",
         "nonsmoker",
         "1",
         "1",
         "1",
         "3",
         "1",
         "Yes",
         "Yes",
         "2410",
         "0",
         "20",
         "12",
         "21",
         "14"
        ],
        [
         "5",
         "3147",
         "notmarried",
         "0",
         "0",
         "0",
         "0",
         "0",
         "27",
         "12",
         "40",
         "12",
         "9",
         "0",
         "1",
         "0 daily",
         "nonsmoker",
         "1",
         "1",
         "1",
         "4",
         "0",
         "Yes",
         "Yes",
         "3147",
         "0",
         "27",
         "12",
         "40",
         "12"
        ],
        [
         "6",
         "3799",
         "married",
         "0",
         "0",
         "0",
         "0",
         "0",
         "27",
         "12",
         "29",
         "14",
         "16",
         "29",
         "3",
         "0 daily",
         "nonsmoker",
         "1",
         "1",
         "1",
         "12",
         "0",
         "No",
         "Yes",
         "3799",
         "0",
         "27",
         "12",
         "29",
         "14"
        ],
        [
         "7",
         "3629",
         "married",
         "0",
         "0",
         "0",
         "0",
         "0",
         "24",
         "12",
         "33",
         "12",
         "11",
         "0",
         "1",
         "0 daily",
         "nonsmoker",
         "1",
         "1",
         "1",
         "6",
         "0",
         "Yes",
         "Yes",
         "3629",
         "0",
         "24",
         "12",
         "33",
         "12"
        ],
        [
         "8",
         "2835",
         "married",
         "0",
         "0",
         "0",
         "0",
         "0",
         "21",
         "12",
         "24",
         "9",
         "20",
         "0",
         "1",
         "0 daily",
         "nonsmoker",
         "1",
         "1",
         "1",
         "6",
         "0",
         "Yes",
         "Yes",
         "2835",
         "0",
         "21",
         "12",
         "24",
         "9"
        ],
        [
         "9",
         "3880",
         "married",
         "0",
         "0",
         "0",
         "0",
         "0",
         "30",
         "15",
         "33",
         "15",
         "9",
         "27",
         "2",
         "0 daily",
         "nonsmoker",
         "1",
         "1",
         "1",
         "12",
         "0",
         "No",
         "Yes",
         "3880",
         "0",
         "30",
         "15",
         "33",
         "15"
        ]
       ],
       "shape": {
        "columns": 29,
        "rows": 10
       }
      },
      "text/html": [
       "<div>\n",
       "<style scoped>\n",
       "    .dataframe tbody tr th:only-of-type {\n",
       "        vertical-align: middle;\n",
       "    }\n",
       "\n",
       "    .dataframe tbody tr th {\n",
       "        vertical-align: top;\n",
       "    }\n",
       "\n",
       "    .dataframe thead th {\n",
       "        text-align: right;\n",
       "    }\n",
       "</style>\n",
       "<table border=\"1\" class=\"dataframe\">\n",
       "  <thead>\n",
       "    <tr style=\"text-align: right;\">\n",
       "      <th></th>\n",
       "      <th>bweight</th>\n",
       "      <th>mmarried</th>\n",
       "      <th>mhisp</th>\n",
       "      <th>fhisp</th>\n",
       "      <th>foreign</th>\n",
       "      <th>alcohol</th>\n",
       "      <th>deadkids</th>\n",
       "      <th>mage</th>\n",
       "      <th>medu</th>\n",
       "      <th>fage</th>\n",
       "      <th>...</th>\n",
       "      <th>birthmonth</th>\n",
       "      <th>lbweight</th>\n",
       "      <th>fbaby</th>\n",
       "      <th>prenatal1</th>\n",
       "      <th>Y</th>\n",
       "      <th>Treated</th>\n",
       "      <th>X1</th>\n",
       "      <th>X2</th>\n",
       "      <th>X3</th>\n",
       "      <th>X4</th>\n",
       "    </tr>\n",
       "  </thead>\n",
       "  <tbody>\n",
       "    <tr>\n",
       "      <th>0</th>\n",
       "      <td>3459</td>\n",
       "      <td>married</td>\n",
       "      <td>0</td>\n",
       "      <td>0</td>\n",
       "      <td>0</td>\n",
       "      <td>0</td>\n",
       "      <td>0</td>\n",
       "      <td>24</td>\n",
       "      <td>14</td>\n",
       "      <td>28</td>\n",
       "      <td>...</td>\n",
       "      <td>12</td>\n",
       "      <td>0</td>\n",
       "      <td>No</td>\n",
       "      <td>Yes</td>\n",
       "      <td>3459</td>\n",
       "      <td>0</td>\n",
       "      <td>24</td>\n",
       "      <td>14</td>\n",
       "      <td>28</td>\n",
       "      <td>16</td>\n",
       "    </tr>\n",
       "    <tr>\n",
       "      <th>1</th>\n",
       "      <td>3260</td>\n",
       "      <td>notmarried</td>\n",
       "      <td>0</td>\n",
       "      <td>0</td>\n",
       "      <td>1</td>\n",
       "      <td>0</td>\n",
       "      <td>0</td>\n",
       "      <td>20</td>\n",
       "      <td>10</td>\n",
       "      <td>0</td>\n",
       "      <td>...</td>\n",
       "      <td>7</td>\n",
       "      <td>0</td>\n",
       "      <td>No</td>\n",
       "      <td>Yes</td>\n",
       "      <td>3260</td>\n",
       "      <td>0</td>\n",
       "      <td>20</td>\n",
       "      <td>10</td>\n",
       "      <td>0</td>\n",
       "      <td>0</td>\n",
       "    </tr>\n",
       "    <tr>\n",
       "      <th>2</th>\n",
       "      <td>3572</td>\n",
       "      <td>married</td>\n",
       "      <td>0</td>\n",
       "      <td>0</td>\n",
       "      <td>1</td>\n",
       "      <td>0</td>\n",
       "      <td>0</td>\n",
       "      <td>22</td>\n",
       "      <td>9</td>\n",
       "      <td>30</td>\n",
       "      <td>...</td>\n",
       "      <td>3</td>\n",
       "      <td>0</td>\n",
       "      <td>No</td>\n",
       "      <td>Yes</td>\n",
       "      <td>3572</td>\n",
       "      <td>0</td>\n",
       "      <td>22</td>\n",
       "      <td>9</td>\n",
       "      <td>30</td>\n",
       "      <td>9</td>\n",
       "    </tr>\n",
       "    <tr>\n",
       "      <th>3</th>\n",
       "      <td>2948</td>\n",
       "      <td>married</td>\n",
       "      <td>0</td>\n",
       "      <td>0</td>\n",
       "      <td>0</td>\n",
       "      <td>0</td>\n",
       "      <td>0</td>\n",
       "      <td>26</td>\n",
       "      <td>12</td>\n",
       "      <td>30</td>\n",
       "      <td>...</td>\n",
       "      <td>1</td>\n",
       "      <td>0</td>\n",
       "      <td>No</td>\n",
       "      <td>Yes</td>\n",
       "      <td>2948</td>\n",
       "      <td>0</td>\n",
       "      <td>26</td>\n",
       "      <td>12</td>\n",
       "      <td>30</td>\n",
       "      <td>12</td>\n",
       "    </tr>\n",
       "    <tr>\n",
       "      <th>4</th>\n",
       "      <td>2410</td>\n",
       "      <td>married</td>\n",
       "      <td>0</td>\n",
       "      <td>0</td>\n",
       "      <td>0</td>\n",
       "      <td>0</td>\n",
       "      <td>0</td>\n",
       "      <td>20</td>\n",
       "      <td>12</td>\n",
       "      <td>21</td>\n",
       "      <td>...</td>\n",
       "      <td>3</td>\n",
       "      <td>1</td>\n",
       "      <td>Yes</td>\n",
       "      <td>Yes</td>\n",
       "      <td>2410</td>\n",
       "      <td>0</td>\n",
       "      <td>20</td>\n",
       "      <td>12</td>\n",
       "      <td>21</td>\n",
       "      <td>14</td>\n",
       "    </tr>\n",
       "    <tr>\n",
       "      <th>5</th>\n",
       "      <td>3147</td>\n",
       "      <td>notmarried</td>\n",
       "      <td>0</td>\n",
       "      <td>0</td>\n",
       "      <td>0</td>\n",
       "      <td>0</td>\n",
       "      <td>0</td>\n",
       "      <td>27</td>\n",
       "      <td>12</td>\n",
       "      <td>40</td>\n",
       "      <td>...</td>\n",
       "      <td>4</td>\n",
       "      <td>0</td>\n",
       "      <td>Yes</td>\n",
       "      <td>Yes</td>\n",
       "      <td>3147</td>\n",
       "      <td>0</td>\n",
       "      <td>27</td>\n",
       "      <td>12</td>\n",
       "      <td>40</td>\n",
       "      <td>12</td>\n",
       "    </tr>\n",
       "    <tr>\n",
       "      <th>6</th>\n",
       "      <td>3799</td>\n",
       "      <td>married</td>\n",
       "      <td>0</td>\n",
       "      <td>0</td>\n",
       "      <td>0</td>\n",
       "      <td>0</td>\n",
       "      <td>0</td>\n",
       "      <td>27</td>\n",
       "      <td>12</td>\n",
       "      <td>29</td>\n",
       "      <td>...</td>\n",
       "      <td>12</td>\n",
       "      <td>0</td>\n",
       "      <td>No</td>\n",
       "      <td>Yes</td>\n",
       "      <td>3799</td>\n",
       "      <td>0</td>\n",
       "      <td>27</td>\n",
       "      <td>12</td>\n",
       "      <td>29</td>\n",
       "      <td>14</td>\n",
       "    </tr>\n",
       "    <tr>\n",
       "      <th>7</th>\n",
       "      <td>3629</td>\n",
       "      <td>married</td>\n",
       "      <td>0</td>\n",
       "      <td>0</td>\n",
       "      <td>0</td>\n",
       "      <td>0</td>\n",
       "      <td>0</td>\n",
       "      <td>24</td>\n",
       "      <td>12</td>\n",
       "      <td>33</td>\n",
       "      <td>...</td>\n",
       "      <td>6</td>\n",
       "      <td>0</td>\n",
       "      <td>Yes</td>\n",
       "      <td>Yes</td>\n",
       "      <td>3629</td>\n",
       "      <td>0</td>\n",
       "      <td>24</td>\n",
       "      <td>12</td>\n",
       "      <td>33</td>\n",
       "      <td>12</td>\n",
       "    </tr>\n",
       "    <tr>\n",
       "      <th>8</th>\n",
       "      <td>2835</td>\n",
       "      <td>married</td>\n",
       "      <td>0</td>\n",
       "      <td>0</td>\n",
       "      <td>0</td>\n",
       "      <td>0</td>\n",
       "      <td>0</td>\n",
       "      <td>21</td>\n",
       "      <td>12</td>\n",
       "      <td>24</td>\n",
       "      <td>...</td>\n",
       "      <td>6</td>\n",
       "      <td>0</td>\n",
       "      <td>Yes</td>\n",
       "      <td>Yes</td>\n",
       "      <td>2835</td>\n",
       "      <td>0</td>\n",
       "      <td>21</td>\n",
       "      <td>12</td>\n",
       "      <td>24</td>\n",
       "      <td>9</td>\n",
       "    </tr>\n",
       "    <tr>\n",
       "      <th>9</th>\n",
       "      <td>3880</td>\n",
       "      <td>married</td>\n",
       "      <td>0</td>\n",
       "      <td>0</td>\n",
       "      <td>0</td>\n",
       "      <td>0</td>\n",
       "      <td>0</td>\n",
       "      <td>30</td>\n",
       "      <td>15</td>\n",
       "      <td>33</td>\n",
       "      <td>...</td>\n",
       "      <td>12</td>\n",
       "      <td>0</td>\n",
       "      <td>No</td>\n",
       "      <td>Yes</td>\n",
       "      <td>3880</td>\n",
       "      <td>0</td>\n",
       "      <td>30</td>\n",
       "      <td>15</td>\n",
       "      <td>33</td>\n",
       "      <td>15</td>\n",
       "    </tr>\n",
       "  </tbody>\n",
       "</table>\n",
       "<p>10 rows × 29 columns</p>\n",
       "</div>"
      ],
      "text/plain": [
       "   bweight    mmarried  mhisp  fhisp  foreign  alcohol  deadkids  mage  medu  \\\n",
       "0     3459     married      0      0        0        0         0    24    14   \n",
       "1     3260  notmarried      0      0        1        0         0    20    10   \n",
       "2     3572     married      0      0        1        0         0    22     9   \n",
       "3     2948     married      0      0        0        0         0    26    12   \n",
       "4     2410     married      0      0        0        0         0    20    12   \n",
       "5     3147  notmarried      0      0        0        0         0    27    12   \n",
       "6     3799     married      0      0        0        0         0    27    12   \n",
       "7     3629     married      0      0        0        0         0    24    12   \n",
       "8     2835     married      0      0        0        0         0    21    12   \n",
       "9     3880     married      0      0        0        0         0    30    15   \n",
       "\n",
       "   fage  ...  birthmonth  lbweight  fbaby  prenatal1     Y Treated  X1  X2  \\\n",
       "0    28  ...          12         0     No        Yes  3459       0  24  14   \n",
       "1     0  ...           7         0     No        Yes  3260       0  20  10   \n",
       "2    30  ...           3         0     No        Yes  3572       0  22   9   \n",
       "3    30  ...           1         0     No        Yes  2948       0  26  12   \n",
       "4    21  ...           3         1    Yes        Yes  2410       0  20  12   \n",
       "5    40  ...           4         0    Yes        Yes  3147       0  27  12   \n",
       "6    29  ...          12         0     No        Yes  3799       0  27  12   \n",
       "7    33  ...           6         0    Yes        Yes  3629       0  24  12   \n",
       "8    24  ...           6         0    Yes        Yes  2835       0  21  12   \n",
       "9    33  ...          12         0     No        Yes  3880       0  30  15   \n",
       "\n",
       "   X3  X4  \n",
       "0  28  16  \n",
       "1   0   0  \n",
       "2  30   9  \n",
       "3  30  12  \n",
       "4  21  14  \n",
       "5  40  12  \n",
       "6  29  14  \n",
       "7  33  12  \n",
       "8  24   9  \n",
       "9  33  15  \n",
       "\n",
       "[10 rows x 29 columns]"
      ]
     },
     "execution_count": 46,
     "metadata": {},
     "output_type": "execute_result"
    }
   ],
   "source": [
    "df.head(10)"
   ]
  },
  {
   "cell_type": "markdown",
   "metadata": {},
   "source": [
    "### Gerando Estatísticas Descritivas\t\n",
    "\n",
    "\n"
   ]
  },
  {
   "cell_type": "markdown",
   "metadata": {},
   "source": [
    "Agora vamos gerar tabelas com estatísticas descritivas das variáveis que nós adicionamos ao DataFrame."
   ]
  },
  {
   "cell_type": "code",
   "execution_count": null,
   "metadata": {},
   "outputs": [
    {
     "data": {
      "application/vnd.microsoft.datawrangler.viewer.v0+json": {
       "columns": [
        {
         "name": "index",
         "rawType": "object",
         "type": "string"
        },
        {
         "name": "Y",
         "rawType": "float64",
         "type": "float"
        },
        {
         "name": "Treated",
         "rawType": "float64",
         "type": "float"
        },
        {
         "name": "X1",
         "rawType": "float64",
         "type": "float"
        },
        {
         "name": "X2",
         "rawType": "float64",
         "type": "float"
        },
        {
         "name": "X3",
         "rawType": "float64",
         "type": "float"
        },
        {
         "name": "X4",
         "rawType": "float64",
         "type": "float"
        }
       ],
       "conversionMethod": "pd.DataFrame",
       "ref": "90eb1290-ba86-460c-a813-2c4151269d60",
       "rows": [
        [
         "count",
         "4642.0",
         "4642.0",
         "4642.0",
         "4642.0",
         "4642.0",
         "4642.0"
        ],
        [
         "mean",
         "3361.679879362344",
         "0.18612666953899182",
         "26.50452391210685",
         "12.689573459715639",
         "27.26712623869022",
         "12.307195174493753"
        ],
        [
         "std",
         "578.8196230827537",
         "0.3892507838191159",
         "5.619026167751246",
         "2.5206612442498804",
         "9.354411397693083",
         "3.684027956855556"
        ],
        [
         "min",
         "340.0",
         "0.0",
         "13.0",
         "0.0",
         "0.0",
         "0.0"
        ],
        [
         "25%",
         "3033.0",
         "0.0",
         "22.0",
         "12.0",
         "24.0",
         "12.0"
        ],
        [
         "50%",
         "3390.0",
         "0.0",
         "26.0",
         "12.0",
         "28.0",
         "12.0"
        ],
        [
         "75%",
         "3725.0",
         "0.0",
         "30.0",
         "14.0",
         "33.0",
         "14.0"
        ],
        [
         "max",
         "5500.0",
         "1.0",
         "45.0",
         "17.0",
         "60.0",
         "17.0"
        ]
       ],
       "shape": {
        "columns": 6,
        "rows": 8
       }
      },
      "text/html": [
       "<div>\n",
       "<style scoped>\n",
       "    .dataframe tbody tr th:only-of-type {\n",
       "        vertical-align: middle;\n",
       "    }\n",
       "\n",
       "    .dataframe tbody tr th {\n",
       "        vertical-align: top;\n",
       "    }\n",
       "\n",
       "    .dataframe thead th {\n",
       "        text-align: right;\n",
       "    }\n",
       "</style>\n",
       "<table border=\"1\" class=\"dataframe\">\n",
       "  <thead>\n",
       "    <tr style=\"text-align: right;\">\n",
       "      <th></th>\n",
       "      <th>Y</th>\n",
       "      <th>Treated</th>\n",
       "      <th>X1</th>\n",
       "      <th>X2</th>\n",
       "      <th>X3</th>\n",
       "      <th>X4</th>\n",
       "    </tr>\n",
       "  </thead>\n",
       "  <tbody>\n",
       "    <tr>\n",
       "      <th>count</th>\n",
       "      <td>4642.000000</td>\n",
       "      <td>4642.000000</td>\n",
       "      <td>4642.000000</td>\n",
       "      <td>4642.000000</td>\n",
       "      <td>4642.000000</td>\n",
       "      <td>4642.000000</td>\n",
       "    </tr>\n",
       "    <tr>\n",
       "      <th>mean</th>\n",
       "      <td>3361.679879</td>\n",
       "      <td>0.186127</td>\n",
       "      <td>26.504524</td>\n",
       "      <td>12.689573</td>\n",
       "      <td>27.267126</td>\n",
       "      <td>12.307195</td>\n",
       "    </tr>\n",
       "    <tr>\n",
       "      <th>std</th>\n",
       "      <td>578.819623</td>\n",
       "      <td>0.389251</td>\n",
       "      <td>5.619026</td>\n",
       "      <td>2.520661</td>\n",
       "      <td>9.354411</td>\n",
       "      <td>3.684028</td>\n",
       "    </tr>\n",
       "    <tr>\n",
       "      <th>min</th>\n",
       "      <td>340.000000</td>\n",
       "      <td>0.000000</td>\n",
       "      <td>13.000000</td>\n",
       "      <td>0.000000</td>\n",
       "      <td>0.000000</td>\n",
       "      <td>0.000000</td>\n",
       "    </tr>\n",
       "    <tr>\n",
       "      <th>25%</th>\n",
       "      <td>3033.000000</td>\n",
       "      <td>0.000000</td>\n",
       "      <td>22.000000</td>\n",
       "      <td>12.000000</td>\n",
       "      <td>24.000000</td>\n",
       "      <td>12.000000</td>\n",
       "    </tr>\n",
       "    <tr>\n",
       "      <th>50%</th>\n",
       "      <td>3390.000000</td>\n",
       "      <td>0.000000</td>\n",
       "      <td>26.000000</td>\n",
       "      <td>12.000000</td>\n",
       "      <td>28.000000</td>\n",
       "      <td>12.000000</td>\n",
       "    </tr>\n",
       "    <tr>\n",
       "      <th>75%</th>\n",
       "      <td>3725.000000</td>\n",
       "      <td>0.000000</td>\n",
       "      <td>30.000000</td>\n",
       "      <td>14.000000</td>\n",
       "      <td>33.000000</td>\n",
       "      <td>14.000000</td>\n",
       "    </tr>\n",
       "    <tr>\n",
       "      <th>max</th>\n",
       "      <td>5500.000000</td>\n",
       "      <td>1.000000</td>\n",
       "      <td>45.000000</td>\n",
       "      <td>17.000000</td>\n",
       "      <td>60.000000</td>\n",
       "      <td>17.000000</td>\n",
       "    </tr>\n",
       "  </tbody>\n",
       "</table>\n",
       "</div>"
      ],
      "text/plain": [
       "                 Y      Treated           X1           X2           X3  \\\n",
       "count  4642.000000  4642.000000  4642.000000  4642.000000  4642.000000   \n",
       "mean   3361.679879     0.186127    26.504524    12.689573    27.267126   \n",
       "std     578.819623     0.389251     5.619026     2.520661     9.354411   \n",
       "min     340.000000     0.000000    13.000000     0.000000     0.000000   \n",
       "25%    3033.000000     0.000000    22.000000    12.000000    24.000000   \n",
       "50%    3390.000000     0.000000    26.000000    12.000000    28.000000   \n",
       "75%    3725.000000     0.000000    30.000000    14.000000    33.000000   \n",
       "max    5500.000000     1.000000    45.000000    17.000000    60.000000   \n",
       "\n",
       "                X4  \n",
       "count  4642.000000  \n",
       "mean     12.307195  \n",
       "std       3.684028  \n",
       "min       0.000000  \n",
       "25%      12.000000  \n",
       "50%      12.000000  \n",
       "75%      14.000000  \n",
       "max      17.000000  "
      ]
     },
     "execution_count": 47,
     "metadata": {},
     "output_type": "execute_result"
    }
   ],
   "source": [
    "# Vamos criar a \"Table_2\", descrevendo as estatísticas descritivas das variáveis Y, Treated, X1, X2, X3 e X4\n",
    "table_2 = df[['Y', 'Treated', 'X1', 'X2', 'X3', 'X4']].describe()\n",
    "table_2 "
   ]
  },
  {
   "cell_type": "markdown",
   "metadata": {},
   "source": [
    "Agora vamos separar as estatísticas descritivas entre as mães que fumam ((Treated)) e as que não fumam."
   ]
  },
  {
   "cell_type": "code",
   "execution_count": 48,
   "metadata": {},
   "outputs": [
    {
     "data": {
      "application/vnd.microsoft.datawrangler.viewer.v0+json": {
       "columns": [
        {
         "name": "(None, None)",
         "rawType": "object",
         "type": "string"
        },
        {
         "name": "0",
         "rawType": "float64",
         "type": "float"
        },
        {
         "name": "1",
         "rawType": "float64",
         "type": "float"
        }
       ],
       "conversionMethod": "pd.DataFrame",
       "ref": "40a0ef97-4280-4730-a7ec-8310d74acd4c",
       "rows": [
        [
         "('Y', 'count')",
         "3778.0",
         "864.0"
        ],
        [
         "('Y', 'mean')",
         "3412.91159343568",
         "3137.659722222222"
        ],
        [
         "('Y', 'std')",
         "570.6871083248767",
         "560.8930513167818"
        ],
        [
         "('Y', 'min')",
         "340.0",
         "397.0"
        ],
        [
         "('Y', '25%')",
         "3101.25",
         "2835.0"
        ],
        [
         "('Y', '50%')",
         "3430.0",
         "3178.5"
        ],
        [
         "('Y', '75%')",
         "3771.0",
         "3487.0"
        ],
        [
         "('Y', 'max')",
         "5500.0",
         "5018.0"
        ],
        [
         "('X1', 'count')",
         "3778.0",
         "864.0"
        ],
        [
         "('X1', 'mean')",
         "26.81048173636845",
         "25.166666666666668"
        ],
        [
         "('X1', 'std')",
         "5.645476700966855",
         "5.301347693713438"
        ],
        [
         "('X1', 'min')",
         "13.0",
         "14.0"
        ],
        [
         "('X1', '25%')",
         "23.0",
         "21.0"
        ],
        [
         "('X1', '50%')",
         "27.0",
         "25.0"
        ],
        [
         "('X1', '75%')",
         "31.0",
         "29.0"
        ],
        [
         "('X1', 'max')",
         "45.0",
         "43.0"
        ],
        [
         "('X2', 'count')",
         "3778.0",
         "864.0"
        ],
        [
         "('X2', 'mean')",
         "12.929857067231339",
         "11.63888888888889"
        ],
        [
         "('X2', 'std')",
         "2.5344025370819154",
         "2.167743441025821"
        ],
        [
         "('X2', 'min')",
         "0.0",
         "0.0"
        ],
        [
         "('X2', '25%')",
         "12.0",
         "11.0"
        ],
        [
         "('X2', '50%')",
         "12.0",
         "12.0"
        ],
        [
         "('X2', '75%')",
         "15.0",
         "12.0"
        ],
        [
         "('X2', 'max')",
         "17.0",
         "17.0"
        ],
        [
         "('X3', 'count')",
         "3778.0",
         "864.0"
        ],
        [
         "('X3', 'mean')",
         "27.844362096347275",
         "24.743055555555557"
        ],
        [
         "('X3', 'std')",
         "8.79406503285778",
         "11.14795463852604"
        ],
        [
         "('X3', 'min')",
         "0.0",
         "0.0"
        ],
        [
         "('X3', '25%')",
         "24.0",
         "22.0"
        ],
        [
         "('X3', '50%')",
         "29.0",
         "26.0"
        ],
        [
         "('X3', '75%')",
         "33.0",
         "31.0"
        ],
        [
         "('X3', 'max')",
         "60.0",
         "55.0"
        ],
        [
         "('X4', 'count')",
         "3778.0",
         "864.0"
        ],
        [
         "('X4', 'mean')",
         "12.673901535203811",
         "10.703703703703704"
        ],
        [
         "('X4', 'std')",
         "3.4811891602799765",
         "4.097048106187269"
        ],
        [
         "('X4', 'min')",
         "0.0",
         "0.0"
        ],
        [
         "('X4', '25%')",
         "12.0",
         "11.0"
        ],
        [
         "('X4', '50%')",
         "12.0",
         "12.0"
        ],
        [
         "('X4', '75%')",
         "16.0",
         "12.0"
        ],
        [
         "('X4', 'max')",
         "17.0",
         "17.0"
        ]
       ],
       "shape": {
        "columns": 2,
        "rows": 40
       }
      },
      "text/html": [
       "<div>\n",
       "<style scoped>\n",
       "    .dataframe tbody tr th:only-of-type {\n",
       "        vertical-align: middle;\n",
       "    }\n",
       "\n",
       "    .dataframe tbody tr th {\n",
       "        vertical-align: top;\n",
       "    }\n",
       "\n",
       "    .dataframe thead th {\n",
       "        text-align: right;\n",
       "    }\n",
       "</style>\n",
       "<table border=\"1\" class=\"dataframe\">\n",
       "  <thead>\n",
       "    <tr style=\"text-align: right;\">\n",
       "      <th></th>\n",
       "      <th>Treated</th>\n",
       "      <th>0</th>\n",
       "      <th>1</th>\n",
       "    </tr>\n",
       "  </thead>\n",
       "  <tbody>\n",
       "    <tr>\n",
       "      <th rowspan=\"8\" valign=\"top\">Y</th>\n",
       "      <th>count</th>\n",
       "      <td>3778.000000</td>\n",
       "      <td>864.000000</td>\n",
       "    </tr>\n",
       "    <tr>\n",
       "      <th>mean</th>\n",
       "      <td>3412.911593</td>\n",
       "      <td>3137.659722</td>\n",
       "    </tr>\n",
       "    <tr>\n",
       "      <th>std</th>\n",
       "      <td>570.687108</td>\n",
       "      <td>560.893051</td>\n",
       "    </tr>\n",
       "    <tr>\n",
       "      <th>min</th>\n",
       "      <td>340.000000</td>\n",
       "      <td>397.000000</td>\n",
       "    </tr>\n",
       "    <tr>\n",
       "      <th>25%</th>\n",
       "      <td>3101.250000</td>\n",
       "      <td>2835.000000</td>\n",
       "    </tr>\n",
       "    <tr>\n",
       "      <th>50%</th>\n",
       "      <td>3430.000000</td>\n",
       "      <td>3178.500000</td>\n",
       "    </tr>\n",
       "    <tr>\n",
       "      <th>75%</th>\n",
       "      <td>3771.000000</td>\n",
       "      <td>3487.000000</td>\n",
       "    </tr>\n",
       "    <tr>\n",
       "      <th>max</th>\n",
       "      <td>5500.000000</td>\n",
       "      <td>5018.000000</td>\n",
       "    </tr>\n",
       "    <tr>\n",
       "      <th rowspan=\"8\" valign=\"top\">X1</th>\n",
       "      <th>count</th>\n",
       "      <td>3778.000000</td>\n",
       "      <td>864.000000</td>\n",
       "    </tr>\n",
       "    <tr>\n",
       "      <th>mean</th>\n",
       "      <td>26.810482</td>\n",
       "      <td>25.166667</td>\n",
       "    </tr>\n",
       "    <tr>\n",
       "      <th>std</th>\n",
       "      <td>5.645477</td>\n",
       "      <td>5.301348</td>\n",
       "    </tr>\n",
       "    <tr>\n",
       "      <th>min</th>\n",
       "      <td>13.000000</td>\n",
       "      <td>14.000000</td>\n",
       "    </tr>\n",
       "    <tr>\n",
       "      <th>25%</th>\n",
       "      <td>23.000000</td>\n",
       "      <td>21.000000</td>\n",
       "    </tr>\n",
       "    <tr>\n",
       "      <th>50%</th>\n",
       "      <td>27.000000</td>\n",
       "      <td>25.000000</td>\n",
       "    </tr>\n",
       "    <tr>\n",
       "      <th>75%</th>\n",
       "      <td>31.000000</td>\n",
       "      <td>29.000000</td>\n",
       "    </tr>\n",
       "    <tr>\n",
       "      <th>max</th>\n",
       "      <td>45.000000</td>\n",
       "      <td>43.000000</td>\n",
       "    </tr>\n",
       "    <tr>\n",
       "      <th rowspan=\"8\" valign=\"top\">X2</th>\n",
       "      <th>count</th>\n",
       "      <td>3778.000000</td>\n",
       "      <td>864.000000</td>\n",
       "    </tr>\n",
       "    <tr>\n",
       "      <th>mean</th>\n",
       "      <td>12.929857</td>\n",
       "      <td>11.638889</td>\n",
       "    </tr>\n",
       "    <tr>\n",
       "      <th>std</th>\n",
       "      <td>2.534403</td>\n",
       "      <td>2.167743</td>\n",
       "    </tr>\n",
       "    <tr>\n",
       "      <th>min</th>\n",
       "      <td>0.000000</td>\n",
       "      <td>0.000000</td>\n",
       "    </tr>\n",
       "    <tr>\n",
       "      <th>25%</th>\n",
       "      <td>12.000000</td>\n",
       "      <td>11.000000</td>\n",
       "    </tr>\n",
       "    <tr>\n",
       "      <th>50%</th>\n",
       "      <td>12.000000</td>\n",
       "      <td>12.000000</td>\n",
       "    </tr>\n",
       "    <tr>\n",
       "      <th>75%</th>\n",
       "      <td>15.000000</td>\n",
       "      <td>12.000000</td>\n",
       "    </tr>\n",
       "    <tr>\n",
       "      <th>max</th>\n",
       "      <td>17.000000</td>\n",
       "      <td>17.000000</td>\n",
       "    </tr>\n",
       "    <tr>\n",
       "      <th rowspan=\"8\" valign=\"top\">X3</th>\n",
       "      <th>count</th>\n",
       "      <td>3778.000000</td>\n",
       "      <td>864.000000</td>\n",
       "    </tr>\n",
       "    <tr>\n",
       "      <th>mean</th>\n",
       "      <td>27.844362</td>\n",
       "      <td>24.743056</td>\n",
       "    </tr>\n",
       "    <tr>\n",
       "      <th>std</th>\n",
       "      <td>8.794065</td>\n",
       "      <td>11.147955</td>\n",
       "    </tr>\n",
       "    <tr>\n",
       "      <th>min</th>\n",
       "      <td>0.000000</td>\n",
       "      <td>0.000000</td>\n",
       "    </tr>\n",
       "    <tr>\n",
       "      <th>25%</th>\n",
       "      <td>24.000000</td>\n",
       "      <td>22.000000</td>\n",
       "    </tr>\n",
       "    <tr>\n",
       "      <th>50%</th>\n",
       "      <td>29.000000</td>\n",
       "      <td>26.000000</td>\n",
       "    </tr>\n",
       "    <tr>\n",
       "      <th>75%</th>\n",
       "      <td>33.000000</td>\n",
       "      <td>31.000000</td>\n",
       "    </tr>\n",
       "    <tr>\n",
       "      <th>max</th>\n",
       "      <td>60.000000</td>\n",
       "      <td>55.000000</td>\n",
       "    </tr>\n",
       "    <tr>\n",
       "      <th rowspan=\"8\" valign=\"top\">X4</th>\n",
       "      <th>count</th>\n",
       "      <td>3778.000000</td>\n",
       "      <td>864.000000</td>\n",
       "    </tr>\n",
       "    <tr>\n",
       "      <th>mean</th>\n",
       "      <td>12.673902</td>\n",
       "      <td>10.703704</td>\n",
       "    </tr>\n",
       "    <tr>\n",
       "      <th>std</th>\n",
       "      <td>3.481189</td>\n",
       "      <td>4.097048</td>\n",
       "    </tr>\n",
       "    <tr>\n",
       "      <th>min</th>\n",
       "      <td>0.000000</td>\n",
       "      <td>0.000000</td>\n",
       "    </tr>\n",
       "    <tr>\n",
       "      <th>25%</th>\n",
       "      <td>12.000000</td>\n",
       "      <td>11.000000</td>\n",
       "    </tr>\n",
       "    <tr>\n",
       "      <th>50%</th>\n",
       "      <td>12.000000</td>\n",
       "      <td>12.000000</td>\n",
       "    </tr>\n",
       "    <tr>\n",
       "      <th>75%</th>\n",
       "      <td>16.000000</td>\n",
       "      <td>12.000000</td>\n",
       "    </tr>\n",
       "    <tr>\n",
       "      <th>max</th>\n",
       "      <td>17.000000</td>\n",
       "      <td>17.000000</td>\n",
       "    </tr>\n",
       "  </tbody>\n",
       "</table>\n",
       "</div>"
      ],
      "text/plain": [
       "Treated             0            1\n",
       "Y  count  3778.000000   864.000000\n",
       "   mean   3412.911593  3137.659722\n",
       "   std     570.687108   560.893051\n",
       "   min     340.000000   397.000000\n",
       "   25%    3101.250000  2835.000000\n",
       "   50%    3430.000000  3178.500000\n",
       "   75%    3771.000000  3487.000000\n",
       "   max    5500.000000  5018.000000\n",
       "X1 count  3778.000000   864.000000\n",
       "   mean     26.810482    25.166667\n",
       "   std       5.645477     5.301348\n",
       "   min      13.000000    14.000000\n",
       "   25%      23.000000    21.000000\n",
       "   50%      27.000000    25.000000\n",
       "   75%      31.000000    29.000000\n",
       "   max      45.000000    43.000000\n",
       "X2 count  3778.000000   864.000000\n",
       "   mean     12.929857    11.638889\n",
       "   std       2.534403     2.167743\n",
       "   min       0.000000     0.000000\n",
       "   25%      12.000000    11.000000\n",
       "   50%      12.000000    12.000000\n",
       "   75%      15.000000    12.000000\n",
       "   max      17.000000    17.000000\n",
       "X3 count  3778.000000   864.000000\n",
       "   mean     27.844362    24.743056\n",
       "   std       8.794065    11.147955\n",
       "   min       0.000000     0.000000\n",
       "   25%      24.000000    22.000000\n",
       "   50%      29.000000    26.000000\n",
       "   75%      33.000000    31.000000\n",
       "   max      60.000000    55.000000\n",
       "X4 count  3778.000000   864.000000\n",
       "   mean     12.673902    10.703704\n",
       "   std       3.481189     4.097048\n",
       "   min       0.000000     0.000000\n",
       "   25%      12.000000    11.000000\n",
       "   50%      12.000000    12.000000\n",
       "   75%      16.000000    12.000000\n",
       "   max      17.000000    17.000000"
      ]
     },
     "execution_count": 48,
     "metadata": {},
     "output_type": "execute_result"
    }
   ],
   "source": [
    "# Criar Table_3, descrevendo as estatísticas descritivas das variáveis Y, Treated, X1, X2, X3 e X4 condicionais a ser Treated = 1 ou Treated = 0\n",
    "table_3 = df.groupby('Treated')[['Y', 'X1', 'X2', 'X3', 'X4']].describe().T\n",
    "\n",
    "table_3"
   ]
  },
  {
   "cell_type": "markdown",
   "metadata": {},
   "source": [
    "### Conclusão Geral e Próximos Passos\n",
    "\n",
    "Nesta aula, exploramos as principais estruturas de dados em Python, incluindo listas, tuplas, dicionários e conjuntos. Compreendemos suas características, vantagens e aplicações práticas, além de introduzirmos o uso das bibliotecas numpy e pandas para manipulação eficiente de dados. Essas ferramentas são fundamentais para quem deseja trabalhar com análise de dados e econometria computacional.\n",
    "\n",
    "No entanto, entender as estruturas de dados isoladamente não é suficiente para realizar análises reais, que frequentemente envolvem dados desorganizados, com tipos inconsistentes ou informações ausentes. Assim, na próxima aula, avançaremos para um tópico essencial: manipulação e transformação de tipos de dados. Veremos como converter variáveis entre diferentes formatos, lidar com valores faltantes e formatar dados corretamente, preparando-os para análises estatísticas mais robustas.\n",
    "\n",
    "Com esse conhecimento, você estará cada vez mais preparado para enfrentar desafios práticos de análise de dados e modelagem econômica computacional."
   ]
  }
 ],
 "metadata": {
  "kernelspec": {
   "display_name": "Python 3",
   "language": "python",
   "name": "python3"
  },
  "language_info": {
   "codemirror_mode": {
    "name": "ipython",
    "version": 3
   },
   "file_extension": ".py",
   "mimetype": "text/x-python",
   "name": "python",
   "nbconvert_exporter": "python",
   "pygments_lexer": "ipython3",
   "version": "3.11.5"
  }
 },
 "nbformat": 4,
 "nbformat_minor": 2
}
