{
 "cells": [
  {
   "cell_type": "markdown",
   "id": "6dec42c0",
   "metadata": {},
   "source": [
    "# Resolução da Lista 1\n",
    "\n",
    "Prof. Daniel de Abreu Pereira Uhr\n"
   ]
  },
  {
   "cell_type": "markdown",
   "id": "236be77c",
   "metadata": {},
   "source": [
    "### 1. Listas e Tuplas"
   ]
  },
  {
   "cell_type": "code",
   "execution_count": 3,
   "id": "2de102df",
   "metadata": {},
   "outputs": [
    {
     "data": {
      "text/plain": [
       "[1, 2, 3, 4, 5, 6, 7, 8, 9, 10]"
      ]
     },
     "execution_count": 3,
     "metadata": {},
     "output_type": "execute_result"
    }
   ],
   "source": [
    "lista = list(range(1, 11))\n",
    "lista"
   ]
  },
  {
   "cell_type": "code",
   "execution_count": 4,
   "id": "80ed9561",
   "metadata": {},
   "outputs": [
    {
     "name": "stdout",
     "output_type": "stream",
     "text": [
      "55\n"
     ]
    }
   ],
   "source": [
    "soma = sum(lista)\n",
    "print(soma)"
   ]
  },
  {
   "cell_type": "code",
   "execution_count": 2,
   "id": "63cba574",
   "metadata": {},
   "outputs": [
    {
     "name": "stdout",
     "output_type": "stream",
     "text": [
      "3\n"
     ]
    }
   ],
   "source": [
    "tupla = tuple(lista)\n",
    "print(tupla[2])"
   ]
  },
  {
   "cell_type": "markdown",
   "id": "42408c76",
   "metadata": {},
   "source": [
    "### 2. Dicionários"
   ]
  },
  {
   "cell_type": "code",
   "execution_count": 5,
   "id": "b75cbfc5",
   "metadata": {},
   "outputs": [
    {
     "name": "stdout",
     "output_type": "stream",
     "text": [
      "8.233333333333333\n"
     ]
    }
   ],
   "source": [
    "notas = {'Aluno1': 8.5, 'Aluno2': 7.0, 'Aluno3': 9.2}\n",
    "media = sum(notas.values()) / len(notas)\n",
    "print(media)"
   ]
  },
  {
   "cell_type": "markdown",
   "id": "ab6f31df",
   "metadata": {},
   "source": [
    "### 3. Conjuntos"
   ]
  },
  {
   "cell_type": "code",
   "execution_count": 6,
   "id": "e07812cb",
   "metadata": {},
   "outputs": [
    {
     "name": "stdout",
     "output_type": "stream",
     "text": [
      "{1, 2, 3, 4, 5}\n"
     ]
    }
   ],
   "source": [
    "lista = [1, 2, 2, 3, 4, 4, 5]\n",
    "conjunto = set(lista)\n",
    "print(conjunto)"
   ]
  },
  {
   "cell_type": "markdown",
   "id": "c2bc3234",
   "metadata": {},
   "source": [
    "## 4. Manipulação de Dados com `pandas`"
   ]
  },
  {
   "cell_type": "code",
   "execution_count": 7,
   "id": "67a8d3c1",
   "metadata": {},
   "outputs": [],
   "source": [
    "import pandas as pd"
   ]
  },
  {
   "cell_type": "code",
   "execution_count": null,
   "id": "a7411da5",
   "metadata": {},
   "outputs": [],
   "source": [
    "df = pd.read_csv(\"https://raw.githubusercontent.com/Daniel-Uhr/Data/refs/heads/main/vendas.csv\")"
   ]
  },
  {
   "cell_type": "code",
   "execution_count": 15,
   "id": "3ed1ede3",
   "metadata": {},
   "outputs": [
    {
     "name": "stdout",
     "output_type": "stream",
     "text": [
      "         Data    Produto  Quantidade  Valor\n",
      "0  2024-03-01  Produto A          10  150.0\n",
      "1  2024-03-02  Produto B           5   75.0\n",
      "2  2024-03-03  Produto C           8  120.0\n",
      "3  2024-03-05  Produto A           3   45.0\n",
      "4  2024-03-06  Produto B           6   90.0\n"
     ]
    }
   ],
   "source": [
    "print(df.head(5))"
   ]
  },
  {
   "cell_type": "code",
   "execution_count": 19,
   "id": "4caf943c",
   "metadata": {},
   "outputs": [
    {
     "name": "stdout",
     "output_type": "stream",
     "text": [
      "Produto\n",
      "Produto A    420.0\n",
      "Produto B    165.0\n",
      "Produto C    300.0\n",
      "Name: Valor, dtype: float64\n"
     ]
    }
   ],
   "source": [
    "total_vendas = df.groupby('Produto')['Valor'].sum()\n",
    "print(total_vendas)"
   ]
  },
  {
   "cell_type": "code",
   "execution_count": 26,
   "id": "e28febe9",
   "metadata": {},
   "outputs": [
    {
     "name": "stdout",
     "output_type": "stream",
     "text": [
      "        Data    Produto  Quantidade  Valor\n",
      "4 2024-03-06  Produto B           6   90.0\n",
      "5 2024-03-07  Produto C          12  180.0\n"
     ]
    }
   ],
   "source": [
    "# Convertendo a coluna \"Data\" para o formato datetime\n",
    "df[\"Data\"] = pd.to_datetime(df[\"Data\"])\n",
    "\n",
    "vendas_6_7 = df[df[\"Data\"].dt.day.isin([6, 7])]\n",
    "\n",
    "# Exibir resultado\n",
    "print(vendas_6_7)"
   ]
  },
  {
   "cell_type": "markdown",
   "id": "caeb9b8d",
   "metadata": {},
   "source": [
    "## 5. Uso do `numpy`"
   ]
  },
  {
   "cell_type": "code",
   "execution_count": 21,
   "id": "2ab88cb5",
   "metadata": {},
   "outputs": [
    {
     "name": "stdout",
     "output_type": "stream",
     "text": [
      "47.35 29.737644493133615\n"
     ]
    }
   ],
   "source": [
    "import numpy as np\n",
    "arr = np.random.randint(0, 100, 20)\n",
    "print(arr.mean(), arr.std())"
   ]
  },
  {
   "cell_type": "markdown",
   "id": "4aa2172a",
   "metadata": {},
   "source": [
    "## 6. Análise Estatística Básica"
   ]
  },
  {
   "cell_type": "code",
   "execution_count": 24,
   "id": "6710ff7f",
   "metadata": {},
   "outputs": [
    {
     "name": "stdout",
     "output_type": "stream",
     "text": [
      "126.42857142857143\n"
     ]
    }
   ],
   "source": [
    "media_diaria = df['Valor'].mean()\n",
    "print(media_diaria)"
   ]
  },
  {
   "cell_type": "code",
   "execution_count": 25,
   "id": "5bc2e0d0",
   "metadata": {},
   "outputs": [
    {
     "name": "stdout",
     "output_type": "stream",
     "text": [
      "Produto A\n"
     ]
    }
   ],
   "source": [
    "produto_mais_vendido = df.groupby('Produto')['Quantidade'].sum().idxmax()\n",
    "print(produto_mais_vendido)"
   ]
  },
  {
   "cell_type": "markdown",
   "id": "c2d23093",
   "metadata": {},
   "source": [
    "## 7. Leitura e Escrita de Arquivos"
   ]
  },
  {
   "cell_type": "markdown",
   "id": "3167188a",
   "metadata": {},
   "source": [
    "```python\n",
    "vendas_6_7.to_csv('vendas_6_7.csv', index=False)\n",
    "```"
   ]
  }
 ],
 "metadata": {
  "kernelspec": {
   "display_name": "Python 3",
   "language": "python",
   "name": "python3"
  },
  "language_info": {
   "codemirror_mode": {
    "name": "ipython",
    "version": 3
   },
   "file_extension": ".py",
   "mimetype": "text/x-python",
   "name": "python",
   "nbconvert_exporter": "python",
   "pygments_lexer": "ipython3",
   "version": "3.11.5"
  }
 },
 "nbformat": 4,
 "nbformat_minor": 5
}
