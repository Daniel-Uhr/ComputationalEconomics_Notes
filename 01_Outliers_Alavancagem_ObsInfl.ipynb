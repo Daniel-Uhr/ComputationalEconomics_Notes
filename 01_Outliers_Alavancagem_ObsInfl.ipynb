{
 "cells": [
  {
   "cell_type": "markdown",
   "metadata": {},
   "source": [
    "# Outliers, Alavancagem e Observações Influentes\n",
    "\n",
    "Prof. Daniel de Abreu Pereira Uhr\n",
    "\n",
    "### Conteúdo\n",
    "\n",
    "* O que torna uma observação “incomum”?\n",
    "\n",
    "### Referências"
   ]
  }
 ],
 "metadata": {
  "language_info": {
   "name": "python"
  }
 },
 "nbformat": 4,
 "nbformat_minor": 2
}
