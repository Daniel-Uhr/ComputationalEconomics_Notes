{
 "cells": [
  {
   "cell_type": "markdown",
   "metadata": {
    "notebookRunGroups": {
     "groupValue": "1"
    }
   },
   "source": [
    "# Instalação e Configuração do Ambiente de Desenvolvimento\n",
    "\n",
    "Prof. Daniel de Abreu Pereira Uhr\n",
    "\n",
    "### Conteúdo\n",
    "\n",
    "* Instalar o VSCode e suas extensões\n",
    "* Instalar o Python\n",
    "* Instalar as Bibliotecas Python\n",
    "* Instalação do Co-pilot\n",
    "* Utilização do Jupyter Notebook\n",
    "* Apresentação da estrutura completa do curso\n",
    " \n",
    "\n",
    "### Referências\n",
    "\n",
    "* Géron, Aurélien. Hands-On Machine Learning with Scikit-Learn, Keras, and TensorFlow: Concepts, Tools, and Techniques to Build Intelligent Systems. O'Reilly Media, 2019.\n",
    "* Athey, S., & Imbens, G. (2017). \"The State of Applied Econometrics: Causality and Policy Evaluation.\" *Journal of Economic Perspectives*.\n",
    "* Mullainathan, S., & Spiess, J. (2017). \"Machine Learning: An Applied Econometric Approach.\" *Journal of Economic Perspectives*.\n",
    "* Varian, H. R. (2014). \"Big Data: New Tricks for Econometrics.\" *Journal of Economic Perspectives*."
   ]
  },
  {
   "cell_type": "markdown",
   "metadata": {},
   "source": []
  },
  {
   "cell_type": "markdown",
   "metadata": {
    "notebookRunGroups": {
     "groupValue": "1"
    }
   },
   "source": [
    "### Estrutura do Curso\n",
    "\n",
    "* Estruturas de Dados\n",
    "  * Listas\n",
    "  * Tuplas\n",
    "  * Conjuntos\n",
    "  * Dicionários\n",
    "  * Matrizes numpy\n",
    "  * Pandas DataFrames\n",
    "  * Quadros de dados Pyspark\n",
    "* Exploração de dados\n",
    "  * Importar, exportar dados\n",
    "  * Descrições e estatísticas resumidas\n",
    "  * Tabelas dinâmicas e agregação\n",
    "* Tipos de dados\n",
    "  * Dados numéricos\n",
    "  * Dados de sequência\n",
    "  * Dados de tempo\n",
    "  * Dados ausentes\n",
    "* Disputa de dados\n",
    "  * Linhas: classificação, indexação, ….\n",
    "  * Colunas: renomeação, ordenação, ….\n",
    "  * Recolher e agregar\n",
    "  * Remodelar\n",
    "  * Concatenar e mesclar\n",
    "* Plotagem\n",
    "  * Distribuições\n",
    "  * Séries Temporais\n",
    "  * Correlações\n",
    "  * Regressão\n",
    "  * Dados geográficos\n",
    "* Pipeline de Aprendizado de Máquina\n",
    "  * Exploração de dados\n",
    "  * Codificação e normalização\n",
    "  * Valores ausentes\n",
    "  * Ponderação\n",
    "  * Previsão\n",
    "  * Validação cruzada\n",
    "* Webscraping \"Raspagem da Web\"\n",
    "  * Pandas\n",
    "  * APIs\n",
    "  * Webscraping estático\n",
    "  * Webscraping dinâmico"
   ]
  }
 ],
 "metadata": {
  "language_info": {
   "name": "python"
  }
 },
 "nbformat": 4,
 "nbformat_minor": 2
}
