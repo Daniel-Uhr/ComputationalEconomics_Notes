{
 "cells": [
  {
   "cell_type": "markdown",
   "metadata": {
    "notebookRunGroups": {
     "groupValue": "1"
    }
   },
   "source": [
    "# Ambiente de Desenvolvimento: Visual Studio Code (VSCode), Python, e Copilot.\n",
    "\n",
    "Prof. Daniel de Abreu Pereira Uhr\n",
    "\n",
    "### Conteúdo\n",
    "\n",
    "* Instalar o VSCode\n",
    "* Instalar o Python\n",
    "* Instalar o MikTeX\n",
    "* Instalar o R\n",
    "* Como Instalar as extensões do VSCode e as Bibliotecas Python\n",
    "* Instalação do Copilot\n",
    "* Utilização do Jupyter Notebook\n",
    "* Apresentação da estrutura completa do curso\n",
    " \n",
    "\n",
    "### Referências\n",
    "\n",
    "* Géron, Aurélien. Hands-On Machine Learning with Scikit-Learn, Keras, and TensorFlow: Concepts, Tools, and Techniques to Build Intelligent Systems. O'Reilly Media, 2019.\n",
    "* Athey, S., & Imbens, G. (2017). \"The State of Applied Econometrics: Causality and Policy Evaluation.\" *Journal of Economic Perspectives*.\n",
    "* Mullainathan, S., & Spiess, J. (2017). \"Machine Learning: An Applied Econometric Approach.\" *Journal of Economic Perspectives*.\n",
    "* Varian, H. R. (2014). \"Big Data: New Tricks for Econometrics.\" *Journal of Economic Perspectives*."
   ]
  },
  {
   "cell_type": "code",
   "execution_count": 5,
   "metadata": {
    "vscode": {
     "languageId": "r"
    }
   },
   "outputs": [
    {
     "name": "stderr",
     "output_type": "stream",
     "text": [
      "Python n�o encontrado; execute sem argumentos para instalar na Microsoft Store ou desabilite este atalho a partir de Configura��es > Gerenciar Aliases de Execu��o do Aplicativo.\n"
     ]
    }
   ],
   "source": [
    "# ver a versão do python no terminal\n",
    "# python3 --version\n",
    "!python3 --version"
   ]
  },
  {
   "cell_type": "code",
   "execution_count": null,
   "metadata": {
    "vscode": {
     "languageId": "r"
    }
   },
   "outputs": [
    {
     "ename": "",
     "evalue": "",
     "output_type": "error",
     "traceback": [
      "\u001b[1;31mFailed to start the Kernel. \n",
      "\u001b[1;31mView Jupyter <a href='command:jupyter.viewOutput'>log</a> for further details."
     ]
    }
   ],
   "source": [
    "version\n",
    "\n"
   ]
  },
  {
   "cell_type": "markdown",
   "metadata": {},
   "source": [
    "## Instalar o VSCode\n",
    "\n",
    "O Visual Studio Code é um editor de código-fonte desenvolvido pela Microsoft para Windows, Linux e macOS. Ele inclui suporte para depuração, controle de versionamento Git incorporado, realce de sintaxe, complementação inteligente de código, snippets e refatoração de código. Também é personalizável, para que você possa alterar o tema, os atalhos de teclado e as preferências.\n",
    "\n",
    "Para instalar o VSCode, acesse o site oficial do Visual Studio Code e faça o download do instalador para o seu sistema operacional.\n",
    "\n",
    "https://code.visualstudio.com/download\n",
    "\n",
    "\n",
    "Abra o VSCode para entender como ele funciona. Repare que ele é um editor de texto comum, mas com muitas funcionalidades que facilitam a programação.\n",
    "\n",
    "* No lado esquerdo, você tem o menu de navegação, onde você pode acessar os arquivos do seu computador, abrir pastas, acessar extensões, entre outras funcionalidades.\n",
    "\n",
    "* Você pode abrir view e acessar o terminal, que é uma janela de comando que você pode usar para executar comandos no seu computador.\n",
    "\n",
    "**Nesse primeiro momento é importante você se familiarizar com o ambiente do VSCode.**\n",
    "\n",
    "Vamos instalar todas as dependências necessárias para o curso, e depois voltamos para o VSCode.\n"
   ]
  },
  {
   "cell_type": "markdown",
   "metadata": {},
   "source": [
    "## Instalar o Python\n",
    "\n",
    "O VSCode servirá como nosso editor geral de trabalho, e o Python será a linguagem de programação que utilizaremos para desenvolver os códigos. Assim, é necessário instalar o Python no seu computador.\n",
    "\n",
    "Para instalar o Python, acesse o site oficial do Python e faça o download do instalador para o seu sistema operacional.\n",
    "\n",
    "https://www.python.org/downloads/\n",
    "\n",
    "e instale o Python no seu computador.\n",
    "\n",
    "Depois disso, abra o terminal do VSCode (clique: view > terminal) e no prompt digite o seguinte comando para verificar se o Python foi instalado corretamente:\n",
    "\n",
    "```python\n",
    "python --version\n",
    "```\n",
    "\n",
    "Se o Python foi instalado corretamente, você verá a versão do Python que foi instalada no seu computador."
   ]
  },
  {
   "cell_type": "markdown",
   "metadata": {},
   "source": [
    "## Instalar o MikTeX\n",
    "\n",
    "O MikTeX é um sistema de composição de texto que é utilizado para produzir documentos de alta qualidade. Ele é especialmente útil para a produção de documentos acadêmicos, como artigos, relatórios, e livros. O MikTeX é um software livre e de código aberto, e está disponível para Windows, Linux, e macOS. \n",
    "\n",
    "Para instalar o MikTeX, acesse o site oficial do MikTeX e faça o download do instalador para o seu sistema operacional.\n",
    "\n",
    "https://miktex.org/download\n",
    "\n",
    "e instale o MikTeX no seu computador.\n",
    "\n",
    "Depois disso, abra o terminal do VSCode e digite o seguinte comando para verificar se o MikTeX foi instalado corretamente:\n",
    "\n",
    "```python\n",
    "pdflatex --version\n",
    "```"
   ]
  },
  {
   "cell_type": "code",
   "execution_count": null,
   "metadata": {
    "vscode": {
     "languageId": "r"
    }
   },
   "outputs": [
    {
     "ename": "",
     "evalue": "",
     "output_type": "error",
     "traceback": [
      "\u001b[1;31mFailed to start the Kernel. \n",
      "\u001b[1;31mThe kernel 'R' was not started as it is located in an insecure location 'c:\\ProgramData\\jupyter\\kernels\\ir\\kernel.json'.  \n",
      "\u001b[1;31mClick <a href='https://aka.ms/JupyterTrustedKernelPaths'>here</a> for further details, optionally update the setting <a href='command:workbench.action.openSettings?[\"jupyter.kernels.trusted\"]'>jupyter.kernels.trusted</a> to trust the kernel."
     ]
    }
   ],
   "source": [
    "R --version\n"
   ]
  },
  {
   "cell_type": "markdown",
   "metadata": {},
   "source": [
    "## Instalar o R\n",
    "\n",
    "O R é uma linguagem de programação e ambiente de desenvolvimento para computação estatística e gráficos. Ele é amplamente utilizado por estatísticos, cientistas de dados, e pesquisadores em todo o mundo. O R é um software livre e de código aberto, e está disponível para Windows, Linux, e macOS.\n",
    "\n",
    "Para instalar o R, acesse o site oficial do R e faça o download do instalador para o seu sistema operacional.\n",
    "\n",
    "https://cran.r-project.org/\n",
    "\n",
    "e instale o R no seu computador.\n",
    "\n",
    "Depois disso, abra o terminal do VSCode e digite o seguinte comando para verificar se o R foi instalado corretamente:\n",
    "\n",
    "```python\n",
    "R --version\n",
    "```\n",
    "\n",
    "É possivel que o R não esteja adicionado ao PATH do sistema. Nesse caso, você pode adicionar o R ao PATH do sistema manualmente. Para fazer isso, você deve localizar o diretório onde o R foi instalado no seu computador e adicionar esse diretório ao PATH do sistema.\n",
    "\n",
    "1. Identifique o diretório onde o R foi instalado no seu computador. Por exemplo, o R pode ter sido instalado no diretório `C:\\Program Files\\R\\R-4.3.3`.\n",
    "2. Adicionar ao PATH:\n",
    "* Abra o menu Iniciar e digite Editar variáveis de ambiente do sistema.\n",
    "* Na Aba Avançado, Clique em Variáveis de Ambiente.\n",
    "* Na seção Variáveis do sistema, localize a variável Path e clique em Editar.\n",
    "* Clique em Novo e adicione o caminho para o diretório bin do R, por exemplo:\n",
    "  * `C:\\Program Files\\R\\R-4.3.3\\bin`\n",
    "* Clique em OK para salvar as alterações.\n",
    "\n",
    "Depois de adicionar o R ao PATH do sistema, abra o terminal do VSCode e digite o seguinte comando para verificar se o R foi adicionado corretamente ao PATH do sistema:\n",
    "\n",
    "```python\n",
    "R --version\n",
    "```\n",
    "\n",
    "Configure o caminho absoluto para o R no VS Code para que o R Markdown funcione corretamente. Para fazer isso, abra o VS Code e clique em `File > Preferences > Settings`. Na barra de pesquisa, digite R Path e clique em Edit in settings.json. Adicione o seguinte código ao arquivo settings.json:\n",
    "\n",
    "```python"
   ]
  },
  {
   "cell_type": "markdown",
   "metadata": {},
   "source": [
    "\n",
    "**Extensões do VSCode**\n",
    "\n",
    "* Data Wrangler - serve para visualizar e manipular dados\n",
    "* GitHub copilot - serve para auxiliar na escrita de códigos\n",
    "* GitHub codespaces - serve para criar um ambiente de desenvolvimento na nuvem\n",
    "* GitHub Pull requests and issues - serve para gerenciar pull requests e issues\n",
    "* GitHub Repositories - serve para visualizar repositórios do GitHub\n",
    "* Data Preview - serve para visualizar saídas pdf, html, etc\n",
    "* Grammarly - serve para corrigir erros de gramática em inglês\n",
    "* Latex Workshop - serve para escrever documentos em Latex\n",
    "* Markdown All in One - serve para escrever documentos em Markdown\n",
    "* Marp for VS Code - serve para criar apresentações em Markdown\n",
    "* PowerSheel - serve para escrever scripts em PowerShell\n",
    "* Python - serve para escrever códigos em Python\n",
    "* R - serve para escrever códigos em R\n",
    "* Zotero - serve para gerenciar referências bibliográficas\n",
    "* etc ...\n"
   ]
  },
  {
   "cell_type": "markdown",
   "metadata": {
    "notebookRunGroups": {
     "groupValue": "1"
    }
   },
   "source": [
    "## Estrutura do Curso\n",
    "\n",
    "* Estruturas de Dados\n",
    "  * Listas\n",
    "  * Tuplas\n",
    "  * Conjuntos\n",
    "  * Dicionários\n",
    "  * Matrizes numpy\n",
    "  * Pandas DataFrames\n",
    "  * Quadros de dados Pyspark\n",
    "* Exploração de dados\n",
    "  * Importar, exportar dados\n",
    "  * Descrições e estatísticas resumidas\n",
    "  * Tabelas dinâmicas e agregação\n",
    "* Tipos de dados\n",
    "  * Dados numéricos\n",
    "  * Dados de sequência\n",
    "  * Dados de tempo\n",
    "  * Dados ausentes\n",
    "* Disputa de dados\n",
    "  * Linhas: classificação, indexação, ….\n",
    "  * Colunas: renomeação, ordenação, ….\n",
    "  * Recolher e agregar\n",
    "  * Remodelar\n",
    "  * Concatenar e mesclar\n",
    "* Plotagem\n",
    "  * Distribuições\n",
    "  * Séries Temporais\n",
    "  * Correlações\n",
    "  * Regressão\n",
    "  * Dados geográficos\n",
    "* Pipeline de Aprendizado de Máquina\n",
    "  * Exploração de dados\n",
    "  * Codificação e normalização\n",
    "  * Valores ausentes\n",
    "  * Ponderação\n",
    "  * Previsão\n",
    "  * Validação cruzada\n",
    "* Webscraping \"Raspagem da Web\"\n",
    "  * Pandas\n",
    "  * APIs\n",
    "  * Webscraping estático\n",
    "  * Webscraping dinâmico"
   ]
  }
 ],
 "metadata": {
  "kernelspec": {
   "display_name": "R",
   "language": "R",
   "name": "ir"
  },
  "language_info": {
   "codemirror_mode": {
    "name": "ipython",
    "version": 3
   },
   "file_extension": ".py",
   "mimetype": "text/x-python",
   "name": "R",
   "nbconvert_exporter": "python",
   "pygments_lexer": "ipython3",
   "version": "3.11.5"
  }
 },
 "nbformat": 4,
 "nbformat_minor": 2
}
